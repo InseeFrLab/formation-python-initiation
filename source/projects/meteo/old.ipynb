{
  "cells": [
    {
      "cell_type": "markdown",
      "id": "7028d6b4-06c2-4e7a-bee2-ad5e4a49d83c",
      "metadata": {},
      "source": [
        "# Projet 2 - Interaction avec des APIs\n",
        "\n",
        "Ce projet vise à introduire au requêtage d’API et à la manipulation de\n",
        "données qui en sont issues, en utilisant des fonctions afin de faciliter\n",
        "la reproductibilité des analyses.\n",
        "\n",
        "## Contexte du projet\n",
        "\n",
        "Une API (Interface de Programmation d’Application) est un ensemble de\n",
        "règles et de spécifications que les applications peuvent suivre pour\n",
        "communiquer entre elles. Elle permet à votre code d’**accéder à des\n",
        "fonctionnalités externes ou à des données**, comme celles de bases de\n",
        "données météorologiques ou de services de localisation.\n",
        "\n",
        "Lorsqu’on parle de requêtage d’une API, cela se fait généralement via le\n",
        "**protocole HTTP**, qui est le même protocole utilisé pour charger des\n",
        "pages web. Dans ce tutoriel, nous utiliserons le package `requests`, qui\n",
        "simplifie le processus de requêtage et de gestion de réponses HTTP."
      ]
    },
    {
      "cell_type": "markdown",
      "id": "1559f337-b2bc-4775-8c69-fa209030e791",
      "metadata": {},
      "source": [
        "Les APIs que nous allons utiliser sont :\n",
        "\n",
        "-   [Nominatim](https://nominatim.org/release-docs/latest/api/Overview/)\n",
        "    : une API de géocodage proposée par **OpenStreetMap** qui nous\n",
        "    permet de convertir un nom de lieu en coordonnées géographiques.\n",
        "-   [Open-Meteo Weather Forecast](https://open-meteo.com/en/docs) : une\n",
        "    API qui fournit des prévisions météorologiques détaillées.\n",
        "\n",
        "## Partie 1 : récupération des coordonnées géographiques pour une localisation donnée\n",
        "\n",
        "Avant de récupérer des données météo, nous avons besoin des coordonnées\n",
        "géographiques du lieu d’intérêt. Construisons une fonction qui utilise\n",
        "l’API `Nominatim` pour obtenir ces coordonnées."
      ]
    },
    {
      "cell_type": "code",
      "execution_count": 2,
      "id": "7db1a7ef",
      "metadata": {},
      "outputs": [],
      "source": [
        "def renvoie_lat_long(localisation):\n",
        "    base_url = \"https://nominatim.openstreetmap.org/search\"\n",
        "    params = {\n",
        "        \"q\": localisation,\n",
        "        \"format\": \"json\"\n",
        "    }\n",
        "    response = requests.get(base_url, params=params)\n",
        "    if response.status_code == 200:\n",
        "        json_data = response.json()\n",
        "        latitude = float(json_data[0][\"lat\"])\n",
        "        longitude = float(json_data[0][\"lon\"])\n",
        "        return (latitude, longitude)\n",
        "    else:\n",
        "        print(f\"Erreur lors de la récupération des coordonnées de {localisation}\")\n",
        "        return None"
      ]
    },
    {
      "cell_type": "markdown",
      "id": "fbb2ba17-b7f9-46ec-9901-5f77df4911a2",
      "metadata": {},
      "source": [
        "Testons cette fonction sur un exemple concret :"
      ]
    },
    {
      "cell_type": "code",
      "execution_count": 3,
      "id": "08e52736",
      "metadata": {},
      "outputs": [],
      "source": [
        "LOCALISATION = \"Montrouge\"\n",
        "lat, long = renvoie_lat_long(LOCALISATION)\n",
        "\n",
        "print(f\"Localisation : {LOCALISATION}, latitude : {lat}, longitude : {long}\")"
      ]
    },
    {
      "cell_type": "markdown",
      "id": "b15a8d44-7901-437c-948d-4e237a6e7804",
      "metadata": {},
      "source": [
        "## Partie 2 : récupération des prévisions météorologiques\n",
        "\n",
        "Maintenant que nous avons nos coordonnées, nous pouvons requêter l’API\n",
        "open-meteo.com pour obtenir les données météo."
      ]
    },
    {
      "cell_type": "code",
      "execution_count": 4,
      "id": "d4719d08",
      "metadata": {},
      "outputs": [],
      "source": [
        "def fetch_meteo_data(latitude, longitude, start_date, end_date):\n",
        "    url_request = f\"https://api.open-meteo.com/v1/forecast?latitude={latitude}&longitude={longitude}&hourly=relativehumidity_2m,windspeed_10m\"\n",
        "    response = requests.get(url_request)\n",
        "    code = response.status_code \n",
        "    if code == 200:\n",
        "        return response.json()\n",
        "    else:\n",
        "        print(f\"Erreur lors de la récupération des données météo. Code d'erreur : {code}\")\n",
        "        return None"
      ]
    },
    {
      "cell_type": "markdown",
      "id": "922aa177-0e0e-4df9-bf58-81a9524749ef",
      "metadata": {},
      "source": [
        "Exécutons cette fonction pour obtenir les données météo prévisionnelles\n",
        "de la semaine à venir."
      ]
    },
    {
      "cell_type": "code",
      "execution_count": 5,
      "id": "e4c83b2f",
      "metadata": {},
      "outputs": [],
      "source": [
        "LOCALISATION = \"Montrouge\"\n",
        "LAT, LONG = renvoie_lat_long(LOCALISATION)\n",
        "\n",
        "data = fetch_meteo_data(LAT, LONG, START_DATE, END_DATE)"
      ]
    },
    {
      "cell_type": "markdown",
      "id": "2799769b-4c07-4053-be97-e4fd58787614",
      "metadata": {},
      "source": [
        "Afin de bien comprendre la structure des données que nous avons\n",
        "récupérées, explorons les différents niveaux et types des clés et des\n",
        "valeurs."
      ]
    },
    {
      "cell_type": "code",
      "execution_count": 6,
      "id": "3e610d5e",
      "metadata": {},
      "outputs": [],
      "source": [
        "# Exploration des données\n",
        "print(type(data))\n",
        "print(data.keys())\n",
        "print(type(data[\"hourly\"]))\n",
        "print(data[\"hourly\"].keys())\n",
        "print(type(data[\"hourly\"][\"time\"]))"
      ]
    },
    {
      "cell_type": "code",
      "execution_count": 7,
      "id": "131bf821",
      "metadata": {},
      "outputs": [],
      "source": [
        "# Afficher les données\n",
        "print(data['hourly'][\"time\"][:5])\n",
        "print(data['hourly'][\"time\"][-5:])\n",
        "print()\n",
        "print(data['hourly'][\"relativehumidity_2m\"][:5])\n",
        "print(data['hourly'][\"windspeed_10m\"][:5])"
      ]
    },
    {
      "cell_type": "markdown",
      "id": "7d7d206c-7820-4cf2-a6e8-f3a1fef62df9",
      "metadata": {},
      "source": [
        "## Partie 3 : construction et visualisation d’un *bad hair index*\n",
        "\n",
        "`Pandas` est une bibliothèque puissante pour la manipulation de données.\n",
        "Elle facilite la gestion, la transformation et l’analyse des données."
      ]
    },
    {
      "cell_type": "code",
      "execution_count": 8,
      "id": "c9da7031",
      "metadata": {},
      "outputs": [],
      "source": [
        "import pandas as pd"
      ]
    },
    {
      "cell_type": "code",
      "execution_count": 9,
      "id": "d8892b7f",
      "metadata": {},
      "outputs": [],
      "source": [
        "data_dict = {\n",
        "    'time': data['hourly'][\"time\"],\n",
        "    'humidity': data['hourly'][\"relativehumidity_2m\"],\n",
        "    'wind_speed': data['hourly'][\"windspeed_10m\"]\n",
        "}\n",
        "\n",
        "df = pd.DataFrame(data_dict)\n",
        "df['time'] = pd.to_datetime(df['time'])  # Convertir la colonne time en objet datetime\n",
        "df.head()"
      ]
    },
    {
      "cell_type": "markdown",
      "id": "7c73ae75-27d0-413e-bd28-f070fe0ac063",
      "metadata": {},
      "source": [
        "Nous définissons cet indice comme le produit de l’humidité relative et\n",
        "de la vitesse du vent. Il s’agit d’une mesure ludique de la probabilité\n",
        "d’avoir une “mauvaise coiffure” en raison des conditions\n",
        "météorologiques."
      ]
    },
    {
      "cell_type": "code",
      "execution_count": 10,
      "id": "9f0b0904",
      "metadata": {},
      "outputs": [],
      "source": [
        "df['bad_hair_index'] = df['humidity'] * df['wind_speed']\n",
        "\n",
        "df.head()"
      ]
    },
    {
      "cell_type": "code",
      "execution_count": 11,
      "id": "c302c9ef",
      "metadata": {},
      "outputs": [],
      "source": [
        "import seaborn as sns\n",
        "import matplotlib.pyplot as plt"
      ]
    },
    {
      "cell_type": "code",
      "execution_count": 12,
      "id": "ade07387",
      "metadata": {},
      "outputs": [],
      "source": [
        "df['day'] = df['time'].dt.day\n",
        "df_daily_mean = df.groupby('day').agg({'bad_hair_index': 'mean'}).reset_index()\n",
        "df_daily_mean.head()"
      ]
    },
    {
      "cell_type": "code",
      "execution_count": 13,
      "id": "b3d10c46",
      "metadata": {},
      "outputs": [],
      "source": [
        "sns.lineplot(x='day', y='bad_hair_index', data=df_daily_mean)\n",
        "plt.title(\"Évolution du Bad Hair Index moyen sur 7 jours\")\n",
        "plt.xlabel('Jour')\n",
        "plt.ylabel('Bad Hair Index moyen')"
      ]
    },
    {
      "cell_type": "code",
      "execution_count": 14,
      "id": "724d89b8",
      "metadata": {},
      "outputs": [],
      "source": [
        "df['hour'] = df['time'].dt.hour\n",
        "df_hourly_mean = df.groupby('hour').agg({'bad_hair_index': 'mean'}).reset_index()\n",
        "df_hourly_mean.head()"
      ]
    },
    {
      "cell_type": "code",
      "execution_count": 15,
      "id": "2436e411",
      "metadata": {},
      "outputs": [],
      "source": [
        "sns.lineplot(x='hour', y='bad_hair_index', data=df_hourly_mean)\n",
        "plt.title(\"Moyenne du Bad Hair Index heure par heure sur 7 jours\")\n",
        "plt.xlabel('Heure')\n",
        "plt.ylabel('Bad Hair Index Moyen')"
      ]
    }
  ],
  "metadata": {
    "kernelspec": {
      "display_name": "Python 3 (ipykernel)",
      "language": "python",
      "name": "python3"
    },
    "language_info": {
      "codemirror_mode": {
        "name": "ipython",
        "version": "3"
      },
      "file_extension": ".py",
      "mimetype": "text/x-python",
      "name": "python",
      "nbconvert_exporter": "python",
      "pygments_lexer": "ipython3",
      "version": "3.11.4"
    }
  },
  "nbformat": 4,
  "nbformat_minor": 5
}
