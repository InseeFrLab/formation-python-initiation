{
  "cells": [
    {
      "cell_type": "markdown",
      "metadata": {},
      "source": [
        "# Projet 2 - Interaction avec des APIs\n",
        "\n",
        "Ce projet vise à introduire au requêtage d’API et à la manipulation de\n",
        "données qui en sont issues, en utilisant des fonctions afin de faciliter\n",
        "la reproductibilité des analyses.\n",
        "\n",
        "## Contexte du projet\n",
        "\n",
        "Il y a certains jours où l’on serait bien resté en télétravail.. Parmi\n",
        "ceux-là, ces jours à la fois humides et venteux où il est impossible de\n",
        "maintenir une coiffure décente, malgré tous ses efforts. Pourrait-on\n",
        "utiliser `Python` pour prédire ce que les anglo-saxons nomment des *bad\n",
        "hair day* (“mauvais jour de cheveux”) ?\n",
        "\n",
        "L’objectif du projet est de construire un *bad hair index* (“indice de\n",
        "mauvais jour de cheveux”) à partir des données météorologiques et de\n",
        "représenter graphiquement l’évolution de cette indice afin de déterminer\n",
        "à l’avance les jours où l’on ferait mieux de rester bien au chaud. Afin\n",
        "d’obtenir les données adéquates, nous allons requêter des APIs.\n",
        "\n",
        "Une API (Interface de Programmation d’Application) est un ensemble de\n",
        "règles et de spécifications que les applications suivent pour\n",
        "communiquer entre elles. Elle permet à votre code d’**accéder à des\n",
        "fonctionnalités externes ou à des données**, comme celles de bases de\n",
        "données météorologiques ou de services de localisation. Lorsqu’on parle\n",
        "de requêtage d’une API, cela se fait généralement via le **protocole\n",
        "HTTP**, qui est le même protocole utilisé pour charger des pages web.\n",
        "Dans ce tutoriel, nous utiliserons le package\n",
        "[requests](https://fr.python-requests.org/en/latest/), qui simplifie le\n",
        "processus de requêtage et de gestion de réponses HTTP.\n",
        "\n",
        "Les APIs que nous allons utiliser sont :\n",
        "\n",
        "-   [Nominatim](https://nominatim.org/release-docs/latest/api/Overview/)\n",
        "    : une API de géocodage proposée par **OpenStreetMap** qui nous\n",
        "    permet de convertir un nom de lieu en coordonnées géographiques.\n",
        "-   [Open-Meteo Weather Forecast](https://open-meteo.com/en/docs) : une\n",
        "    API qui fournit des prévisions météorologiques détaillées.\n",
        "\n",
        "Commençons par importer les packages dont nous aurons besoin au cours de\n",
        "ce projet."
      ],
      "id": "0b57172d-178c-4dbf-bf82-ba0923942976"
    },
    {
      "cell_type": "code",
      "execution_count": 1,
      "metadata": {},
      "outputs": [],
      "source": [
        "import requests\n",
        "import pandas\n",
        "import seaborn as sns\n",
        "import matplotlib.pyplot as plt\n",
        "\n",
        "import solutions"
      ],
      "id": "2f522c74"
    },
    {
      "cell_type": "markdown",
      "metadata": {},
      "source": [
        "## Partie 1 : récupération des coordonnées géographiques pour une localisation donnée\n",
        "\n",
        "L’API de prédiction d’open-meteo prend en entrée les coordonnées\n",
        "géographiques (latitude, longitude) du lieu où seront réalisées les\n",
        "prédictions. On pourrait récupérer manuellement les coordonnées du lieu\n",
        "qui nous intéresse, mais cela limiterait la reproductibilité de nos\n",
        "analyses avec d’autres lieux que celui choisi. On va donc utiliser une\n",
        "seconde API, `Nominatim`, pour obtenir ces coordonnées pour un lieu\n",
        "donné.\n",
        "\n",
        "Lorsque l’on travaille à partir d’une API, la première étape est\n",
        "toujours de lire sa documentation. C’est elle qui indique à quelle\n",
        "adresse nous devons envoyer nos requêtes, sous quel format, et ce que va\n",
        "nous répondre l’API. Dans notre cas, la docuemntation de `Nominatim` se\n",
        "trouve à [cette\n",
        "adresse](https://nominatim.org/release-docs/develop/api/Overview/).\n",
        "N’hésitez pas à la parcourir rapidement pour évaluer les possibilités de\n",
        "l’API.\n",
        "\n",
        "### Question 1\n",
        "\n",
        "La première caractéristique essentielle d’une API est le *endpoint*,\n",
        "c’est à dire l’URL à laquelle on va envoyer des requêtes. Dans notre\n",
        "cas, on va utiliser le endpoint `/search` dans la mesure où l’on veut\n",
        "trouver un objet géographique (des coordonnées) à partir d’un nom de\n",
        "localisation. La [page de\n",
        "documentation](%5B/search%5D(https://nominatim.org/release-docs/develop/api/Search/))\n",
        "associée à ce endpoint nous donne toutes les informations dont nous\n",
        "avons besoin : - le format d’une requête est\n",
        "`https://nominatim.openstreetmap.org/search?<params>` où `<params>` doit\n",
        "être remplacé par les paramètres de la requête, séparés par le symbole\n",
        "`&` - dans la section [Structured\n",
        "Query](https://nominatim.org/release-docs/develop/api/Search/#structured-query),\n",
        "on voit que l’API admet comme paramètres `country` (pays) et `city`\n",
        "(ville), que l’on va utiliser pour paramétrer notre requête.\n",
        "\n",
        "Définissez une fonction `build_request_nominatim` qui construit le lien\n",
        "de la requête pour un pays et une ville donnée.\n",
        "\n",
        "#### Résultat attendu"
      ],
      "id": "2bdd06b7-0fbb-4198-b47a-fe328d676fef"
    },
    {
      "cell_type": "code",
      "execution_count": 2,
      "metadata": {},
      "outputs": [],
      "source": [
        "url_request = solutions.build_request_nominatim(\"France\", \"Montrouge\")\n",
        "url_request"
      ],
      "id": "93a7717c"
    },
    {
      "cell_type": "markdown",
      "metadata": {},
      "source": [
        "#### À vous de jouer !"
      ],
      "id": "6efdc397-f48f-4470-9beb-07068534a93f"
    },
    {
      "cell_type": "code",
      "execution_count": 3,
      "metadata": {},
      "outputs": [],
      "source": [
        "def build_request_nominatim(country, city):\n",
        "    # Votre code ici\n",
        "    return url_request"
      ],
      "id": "d9480faa"
    },
    {
      "cell_type": "markdown",
      "metadata": {},
      "source": [
        "### Question 2\n",
        "\n",
        "La prochaine étape est d’envoyer notre requête paramétrisée à l’API.\n",
        "Pour la tester au préalable, on peut simplement mettre l’adresse dans un\n",
        "navigateur et voir ce que nous renvoie l’API. Si les résultats ont l’air\n",
        "cohérent, on peut continuer. Si l’API nous renvoie un code d’erreur, il\n",
        "y a sûrement une erreur à trouver dans la requête.\n",
        "\n",
        "Pour effectuer cette requête à partir de `Python` afin d’en récupérer\n",
        "les résultats, on utilise la fonction `requests.get()` à laquelle on\n",
        "fournit comme seul paramètre l’URL de la requête. On obtient en retour\n",
        "un objet “réponse”, dont on peut extraire le contenu `JSON` sous forme\n",
        "d’un dictionnaire `Python` en lui appliquant la méthode `.json()`. Il\n",
        "faut alors parcourir le dictionnaire pour en extraire les informations\n",
        "pertinentes ; dans notre cas : la latitude et la longitude.\n",
        "\n",
        "Définissez une fonction `get_lat_long` qui récupère la latitude et la\n",
        "longitude (centrale) pour un pays et une ville donnée.\n",
        "\n",
        "#### Résultat attendu"
      ],
      "id": "0ccc1ca5-17f7-44c2-b86f-7698d9be5925"
    },
    {
      "cell_type": "code",
      "execution_count": 4,
      "metadata": {},
      "outputs": [],
      "source": [
        "lat, long = solutions.get_lat_long(\"France\", \"Montrouge\")\n",
        "print(lat, long)"
      ],
      "id": "ce335ddc"
    },
    {
      "cell_type": "markdown",
      "metadata": {},
      "source": [
        "#### À vous de jouer !"
      ],
      "id": "50c59203-8480-4ae5-8520-6fec0de8a1d9"
    },
    {
      "cell_type": "code",
      "execution_count": 5,
      "metadata": {},
      "outputs": [],
      "source": [
        "def get_lat_long(country, city):\n",
        "    # Votre code ici\n",
        "    return latitude, longitude"
      ],
      "id": "3cc2e55f"
    },
    {
      "cell_type": "markdown",
      "metadata": {},
      "source": [
        "## Partie 2 : récupération des prévisions météorologiques\n",
        "\n",
        "Maintenant que nous avons nos coordonnées, nous pouvons requêter l’API\n",
        "open-meteo.com pour obtenir les données météo.\n",
        "\n",
        "Exécutons cette fonction pour obtenir les données météo prévisionnelles\n",
        "de la semaine à venir."
      ],
      "id": "ea0aeeb9-4d22-4d81-8c03-d62903ca1ad3"
    },
    {
      "cell_type": "code",
      "execution_count": 6,
      "metadata": {},
      "outputs": [],
      "source": [
        "LOCALISATION = \"Montrouge\"\n",
        "LAT, LONG = renvoie_lat_long(LOCALISATION)\n",
        "\n",
        "data = fetch_meteo_data(LAT, LONG, START_DATE, END_DATE)"
      ],
      "id": "60266c38"
    },
    {
      "cell_type": "markdown",
      "metadata": {},
      "source": [
        "Afin de bien comprendre la structure des données que nous avons\n",
        "récupérées, explorons les différents niveaux et types des clés et des\n",
        "valeurs."
      ],
      "id": "dca876ab-4976-4e3c-88b2-40dc3ac59835"
    },
    {
      "cell_type": "code",
      "execution_count": 7,
      "metadata": {},
      "outputs": [],
      "source": [
        "# Exploration des données\n",
        "print(type(data))\n",
        "print(data.keys())\n",
        "print(type(data[\"hourly\"]))\n",
        "print(data[\"hourly\"].keys())\n",
        "print(type(data[\"hourly\"][\"time\"]))"
      ],
      "id": "3674c24c"
    },
    {
      "cell_type": "code",
      "execution_count": 8,
      "metadata": {},
      "outputs": [],
      "source": [
        "# Afficher les données\n",
        "print(data['hourly'][\"time\"][:5])\n",
        "print(data['hourly'][\"time\"][-5:])\n",
        "print()\n",
        "print(data['hourly'][\"relativehumidity_2m\"][:5])\n",
        "print(data['hourly'][\"windspeed_10m\"][:5])"
      ],
      "id": "0bde212a"
    },
    {
      "cell_type": "markdown",
      "metadata": {},
      "source": [
        "## Partie 3 : construction et visualisation d’un *bad hair index*\n",
        "\n",
        "`Pandas` est une bibliothèque puissante pour la manipulation de données.\n",
        "Elle facilite la gestion, la transformation et l’analyse des données."
      ],
      "id": "53665298-8422-4ded-b3ec-8a27aa7beba7"
    },
    {
      "cell_type": "code",
      "execution_count": 9,
      "metadata": {},
      "outputs": [],
      "source": [
        "data_dict = {\n",
        "    'time': data['hourly'][\"time\"],\n",
        "    'humidity': data['hourly'][\"relativehumidity_2m\"],\n",
        "    'wind_speed': data['hourly'][\"windspeed_10m\"]\n",
        "}\n",
        "\n",
        "df = pd.DataFrame(data_dict)\n",
        "df['time'] = pd.to_datetime(df['time'])  # Convertir la colonne time en objet datetime\n",
        "df.head()"
      ],
      "id": "69e34b23"
    },
    {
      "cell_type": "markdown",
      "metadata": {},
      "source": [
        "Nous définissons cet indice comme le produit de l’humidité relative et\n",
        "de la vitesse du vent. Il s’agit d’une mesure ludique de la probabilité\n",
        "d’avoir une “mauvaise coiffure” en raison des conditions\n",
        "météorologiques."
      ],
      "id": "4984a265-26f1-4621-ac15-c541ee22f667"
    },
    {
      "cell_type": "code",
      "execution_count": 10,
      "metadata": {},
      "outputs": [],
      "source": [
        "df['bad_hair_index'] = df['humidity'] * df['wind_speed']\n",
        "\n",
        "df.head()"
      ],
      "id": "9a25cf51"
    },
    {
      "cell_type": "code",
      "execution_count": 11,
      "metadata": {},
      "outputs": [],
      "source": [
        "df['day'] = df['time'].dt.day\n",
        "df_daily_mean = df.groupby('day').agg({'bad_hair_index': 'mean'}).reset_index()\n",
        "df_daily_mean.head()"
      ],
      "id": "62d01d5b"
    },
    {
      "cell_type": "code",
      "execution_count": 12,
      "metadata": {},
      "outputs": [],
      "source": [
        "sns.lineplot(x='day', y='bad_hair_index', data=df_daily_mean)\n",
        "plt.title(\"Évolution du Bad Hair Index moyen sur 7 jours\")\n",
        "plt.xlabel('Jour')\n",
        "plt.ylabel('Bad Hair Index moyen')"
      ],
      "id": "2aba61cb"
    },
    {
      "cell_type": "code",
      "execution_count": 13,
      "metadata": {},
      "outputs": [],
      "source": [
        "df['hour'] = df['time'].dt.hour\n",
        "df_hourly_mean = df.groupby('hour').agg({'bad_hair_index': 'mean'}).reset_index()\n",
        "df_hourly_mean.head()"
      ],
      "id": "0cbdf577"
    },
    {
      "cell_type": "code",
      "execution_count": 14,
      "metadata": {},
      "outputs": [],
      "source": [
        "sns.lineplot(x='hour', y='bad_hair_index', data=df_hourly_mean)\n",
        "plt.title(\"Moyenne du Bad Hair Index heure par heure sur 7 jours\")\n",
        "plt.xlabel('Heure')\n",
        "plt.ylabel('Bad Hair Index Moyen')"
      ],
      "id": "a9683dd3"
    }
  ],
  "nbformat": 4,
  "nbformat_minor": 5,
  "metadata": {
    "kernelspec": {
      "name": "python3",
      "display_name": "Python 3 (ipykernel)",
      "language": "python"
    },
    "language_info": {
      "name": "python",
      "codemirror_mode": {
        "name": "ipython",
        "version": "3"
      },
      "file_extension": ".py",
      "mimetype": "text/x-python",
      "nbconvert_exporter": "python",
      "pygments_lexer": "ipython3",
      "version": "3.11.4"
    }
  }
}