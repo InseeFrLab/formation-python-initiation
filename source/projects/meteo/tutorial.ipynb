{
  "cells": [
    {
      "cell_type": "markdown",
      "metadata": {},
      "source": [
        "# Projet 2 - Interaction avec des APIs\n",
        "\n",
        "Ce projet vise à introduire au requêtage d’API et à la manipulation de\n",
        "données qui en sont issues, en utilisant des fonctions afin de faciliter\n",
        "la reproductibilité des analyses.\n",
        "\n",
        "## Contexte du projet\n",
        "\n",
        "Il y a certains jours où l’on serait bien resté en télétravail.. Parmi\n",
        "ceux-là, ces jours à la fois humides et venteux où il est impossible de\n",
        "maintenir une coiffure décente, malgré tous ses efforts. Pourrait-on\n",
        "utiliser `Python` pour prédire ce que les anglo-saxons nomment des *bad\n",
        "hair day* (“mauvais jour de cheveux”) ?\n",
        "\n",
        "L’objectif du projet est de construire un *bad hair index* (“indice de\n",
        "mauvais jour de cheveux”) à partir des données météorologiques et de\n",
        "représenter graphiquement l’évolution de cette indice afin de déterminer\n",
        "à l’avance les jours où l’on ferait mieux de rester bien au chaud. Afin\n",
        "d’obtenir les données adéquates, nous allons requêter des APIs.\n",
        "\n",
        "Une API (Interface de Programmation d’Application) est un ensemble de\n",
        "règles et de spécifications que les applications suivent pour\n",
        "communiquer entre elles. Elle permet à votre code d’**accéder à des\n",
        "fonctionnalités externes ou à des données**, comme celles de bases de\n",
        "données météorologiques ou de services de localisation. Lorsqu’on parle\n",
        "de requêtage d’une API, cela se fait généralement via le **protocole\n",
        "HTTP**, qui est le même protocole utilisé pour charger des pages web.\n",
        "Dans ce tutoriel, nous utiliserons le package\n",
        "[requests](https://fr.python-requests.org/en/latest/), qui simplifie le\n",
        "processus de requêtage et de gestion de réponses HTTP.\n",
        "\n",
        "Les APIs que nous allons utiliser sont :\n",
        "\n",
        "-   [Nominatim](https://nominatim.org/release-docs/latest/api/Overview/)\n",
        "    : une API de géocodage proposée par **OpenStreetMap** qui nous\n",
        "    permet de convertir un nom de lieu en coordonnées géographiques.\n",
        "-   [Open-Meteo Weather Forecast](https://open-meteo.com/en/docs) : une\n",
        "    API qui fournit des prévisions météorologiques détaillées.\n",
        "\n",
        "Commençons par importer les packages dont nous aurons besoin au cours de\n",
        "ce projet."
      ],
      "id": "a032cdad-980f-4841-97f4-d277de353619"
    },
    {
      "cell_type": "code",
      "execution_count": 1,
      "metadata": {},
      "outputs": [],
      "source": [
        "import requests\n",
        "import pandas\n",
        "import seaborn as sns\n",
        "import matplotlib.pyplot as plt\n",
        "\n",
        "import solutions"
      ],
      "id": "74f005e6"
    },
    {
      "cell_type": "markdown",
      "metadata": {},
      "source": [
        "## Partie 1 : récupération des coordonnées géographiques pour une localisation donnée\n",
        "\n",
        "L’API de prédiction d’open-meteo prend en entrée les coordonnées\n",
        "géographiques (latitude, longitude) du lieu où seront réalisées les\n",
        "prédictions. On pourrait récupérer manuellement les coordonnées du lieu\n",
        "qui nous intéresse, mais cela limiterait la reproductibilité de nos\n",
        "analyses avec d’autres lieux que celui choisi. On va donc utiliser une\n",
        "seconde API, `Nominatim`, pour obtenir ces coordonnées pour un lieu\n",
        "donné.\n",
        "\n",
        "Lorsque l’on travaille à partir d’une API, la première étape est\n",
        "toujours de lire sa documentation. C’est elle qui indique à quelle\n",
        "adresse nous devons envoyer nos requêtes, sous quel format, et ce que va\n",
        "nous répondre l’API. Dans notre cas, la docuemntation de `Nominatim` se\n",
        "trouve à [cette\n",
        "adresse](https://nominatim.org/release-docs/develop/api/Overview/).\n",
        "N’hésitez pas à la parcourir rapidement pour évaluer les possibilités de\n",
        "l’API.\n",
        "\n",
        "### Question 1\n",
        "\n",
        "La première caractéristique essentielle d’une API est le *endpoint*,\n",
        "c’est à dire l’URL à laquelle on va envoyer des requêtes. Dans notre\n",
        "cas, on va utiliser le *endpoint* `/search` dans la mesure où l’on veut\n",
        "trouver un objet géographique (des coordonnées) à partir d’un nom de\n",
        "localisation. La [page de\n",
        "documentation](%5B/search%5D(https://nominatim.org/release-docs/develop/api/Search/))\n",
        "associée à ce *endpoint* nous donne toutes les informations dont nous\n",
        "avons besoin : - le format d’une requête est\n",
        "`https://nominatim.openstreetmap.org/search?<params>` où `<params>` doit\n",
        "être remplacé par les paramètres de la requête, séparés par le symbole\n",
        "`&` - dans la section [Structured\n",
        "Query](https://nominatim.org/release-docs/develop/api/Search/#structured-query),\n",
        "on voit que l’API admet comme paramètres `country` (pays) et `city`\n",
        "(ville), que l’on va utiliser pour paramétrer notre requête.\n",
        "\n",
        "Définissez une fonction `build_request_nominatim` qui construit le lien\n",
        "de la requête pour un pays et une ville donnée.\n",
        "\n",
        "#### Résultat attendu"
      ],
      "id": "9a06b2c6-2e5f-4bd9-91ab-f50590c1ec2a"
    },
    {
      "cell_type": "code",
      "execution_count": 2,
      "metadata": {},
      "outputs": [],
      "source": [
        "url_request_nominatim = solutions.build_request_nominatim(\"France\", \"Montrouge\")\n",
        "url_request_nominatim"
      ],
      "id": "9920014f"
    },
    {
      "cell_type": "markdown",
      "metadata": {},
      "source": [
        "#### À vous de jouer !"
      ],
      "id": "bdcb534f-6a5e-4105-93a9-df6aa7477c9d"
    },
    {
      "cell_type": "code",
      "execution_count": 3,
      "metadata": {},
      "outputs": [],
      "source": [
        "def build_request_nominatim(country, city):\n",
        "    # Votre code ici\n",
        "    return url_request"
      ],
      "id": "6747dbcd"
    },
    {
      "cell_type": "code",
      "execution_count": 4,
      "metadata": {},
      "outputs": [],
      "source": [
        "url_request_nominatim = build_request_nominatim(\"France\", \"Montrouge\")\n",
        "url_request_nominatim"
      ],
      "id": "349fe8f3"
    },
    {
      "cell_type": "markdown",
      "metadata": {},
      "source": [
        "### Question 2\n",
        "\n",
        "La prochaine étape est d’envoyer notre requête paramétrisée à l’API.\n",
        "Pour la tester au préalable, on peut simplement mettre l’adresse dans un\n",
        "navigateur et voir ce que nous renvoie l’API. Si les résultats ont l’air\n",
        "cohérent, on peut continuer. Si l’API nous renvoie un code d’erreur, il\n",
        "y a sûrement une erreur à trouver dans la requête.\n",
        "\n",
        "Pour effectuer cette requête à partir de `Python` afin d’en récupérer\n",
        "les résultats, on utilise la fonction `requests.get()` à laquelle on\n",
        "fournit comme seul paramètre l’URL de la requête. On obtient en retour\n",
        "un objet “réponse”, dont on peut extraire le contenu `JSON` sous forme\n",
        "d’un dictionnaire `Python` en lui appliquant la méthode `.json()`. Il\n",
        "faut alors parcourir le dictionnaire pour en extraire les informations\n",
        "pertinentes ; dans notre cas : la latitude et la longitude.\n",
        "\n",
        "Définissez une fonction `get_lat_long` qui récupère la latitude et la\n",
        "longitude (centrale) pour un pays et une ville donnée.\n",
        "\n",
        "#### Résultat attendu"
      ],
      "id": "7e3a36ac-c269-4eed-ae45-8047efe60340"
    },
    {
      "cell_type": "code",
      "execution_count": 5,
      "metadata": {},
      "outputs": [],
      "source": [
        "lat, long = solutions.get_lat_long(query=url_request_nominatim)\n",
        "print(lat, long)\n",
        "print(type(lat))\n",
        "print(type(long))"
      ],
      "id": "06cfc0e6"
    },
    {
      "cell_type": "markdown",
      "metadata": {},
      "source": [
        "#### À vous de jouer !"
      ],
      "id": "98351a53-c88a-4e35-b9e2-c6843ea2c5be"
    },
    {
      "cell_type": "code",
      "execution_count": 6,
      "metadata": {},
      "outputs": [],
      "source": [
        "def get_lat_long(query):\n",
        "    # Votre code ici\n",
        "    return latitude, longitude"
      ],
      "id": "8255edaf"
    },
    {
      "cell_type": "code",
      "execution_count": 7,
      "metadata": {},
      "outputs": [],
      "source": [
        "lat, long = get_lat_long(query=url_request_nominatim)\n",
        "print(lat, long)\n",
        "print(type(lat))\n",
        "print(type(long))"
      ],
      "id": "c8e9f73f"
    },
    {
      "cell_type": "markdown",
      "metadata": {},
      "source": [
        "## Partie 2 : récupération des prévisions météorologiques\n",
        "\n",
        "Maintenant que nous pouvons récupérer les coordonnées associées à une\n",
        "localisation donnée, nous pouvons requêter l’API `open-meteo.com` pour\n",
        "obtenir les données de prédiction météo associées à ces coordonnées. Là\n",
        "encore, la première étape est de s’intéresser à la documentation ([page\n",
        "d’accueil](https://open-meteo.com/),\n",
        "[doc](https://open-meteo.com/en/docs)), qui nous fournit plusieurs\n",
        "informations : - le *endpoint* pour l’API de prédiction est\n",
        "`https://api.open-meteo.com/v1/forecast` - l’API attend en entrée une\n",
        "`latitude` et une `latitude`, ainsi que les variables météorologiques\n",
        "souhaitées. Pour notre problématique, nous allons récupérer des\n",
        "informations sur le taux d’humidité (`relativehumidity_2m`) et la\n",
        "vitesse du vent (`windspeed_10m`) - par défaut, l’API renvoie des\n",
        "prédictions à 7 jours\n",
        "\n",
        "### Question 3\n",
        "\n",
        "Sachant toutes ces informations et en vous aidant de la documentation,\n",
        "définissez une fonction `build_request_open_meteo` qui construit le lien\n",
        "de la requête pour une latitude et une longitude donnée. Là encore, il\n",
        "est possible de tester la validité de la requête en exécutant le lien\n",
        "dans un navigateur et en vérifiant que les résultats retournés\n",
        "paraissent cohérents.\n",
        "\n",
        "#### Résultat attendu"
      ],
      "id": "135ac833-fa2e-4a22-9f2a-3dc840ef7e55"
    },
    {
      "cell_type": "code",
      "execution_count": 8,
      "metadata": {},
      "outputs": [],
      "source": [
        "url_request_open_meteo = solutions.build_request_open_meteo(latitude=lat, longitude=long)\n",
        "url_request_open_meteo"
      ],
      "id": "ff0ab3ac"
    },
    {
      "cell_type": "markdown",
      "metadata": {},
      "source": [
        "#### À vous de jouer !"
      ],
      "id": "a473ef7a-6e12-40a0-86b1-f628f50ddc67"
    },
    {
      "cell_type": "code",
      "execution_count": 9,
      "metadata": {},
      "outputs": [],
      "source": [
        "def build_request_open_meteo(latitude, longitude):\n",
        "    # Votre code ici\n",
        "    return url_request"
      ],
      "id": "73ed745e"
    },
    {
      "cell_type": "code",
      "execution_count": 10,
      "metadata": {},
      "outputs": [],
      "source": [
        "url_request_open_meteo = build_request_open_meteo(latitude=lat, longitude=long)\n",
        "url_request_open_meteo"
      ],
      "id": "4d3808c1"
    },
    {
      "cell_type": "markdown",
      "metadata": {},
      "source": [
        "### Question 4\n",
        "\n",
        "A nouveau, on utilise la fonction `requests.get()` pour soumettre la\n",
        "requête à l’API. On obtient en retour un objet “réponse”, dont on peut\n",
        "extraire le contenu `JSON` sous forme d’un dictionnaire `Python` en lui\n",
        "appliquant la méthode `.json()`.\n",
        "\n",
        "Mais que se passe-t-il dans le cas où la requête soumise est invalide\n",
        "(faute de frappe, paramètres inexistants, etc.) ? Dans ce cas, l’API\n",
        "nous renvoie une erreur. L’objet réponse de la requête contient un\n",
        "attribut `.status_code` qui donne le code de réponse d’une requête. Le\n",
        "code `200` indique la réussite d’une requête ; tout autre code indique\n",
        "une erreur.\n",
        "\n",
        "Définissez une fonction `get_meteo_data` qui récupère le dictionnaire\n",
        "complet de données retourné par l’API suite à notre requête. Le\n",
        "comportement de la fonction doit cependant dépendre du code de réponse\n",
        "de la requête : - si le code vaut `200`, la fonction renvoie le\n",
        "dictionnaire des prédictions ; - si le code est différent de `200`, la\n",
        "fonction affiche le code d’erreur et renvoie `None`.\n",
        "\n",
        "#### Résultat attendu"
      ],
      "id": "b7f12fe5-d99d-4492-a10d-655a519f05d7"
    },
    {
      "cell_type": "code",
      "execution_count": 11,
      "metadata": {},
      "outputs": [],
      "source": [
        "predictions = solutions.get_meteo_data(url_request_open_meteo)\n",
        "type(predictions)"
      ],
      "id": "e25355b0"
    },
    {
      "cell_type": "code",
      "execution_count": 12,
      "metadata": {},
      "outputs": [],
      "source": [
        "wrong_request = solutions.build_request_open_meteo(latitude=lat, longitude=\"dix-sept-virgule-quatre\")\n",
        "output = solutions.get_meteo_data(wrong_request)\n",
        "print(output)"
      ],
      "id": "c73966eb"
    },
    {
      "cell_type": "markdown",
      "metadata": {},
      "source": [
        "#### À vous de jouer !"
      ],
      "id": "bc38941c-f11b-44f5-bb93-7b2a9e4f956b"
    },
    {
      "cell_type": "code",
      "execution_count": 13,
      "metadata": {},
      "outputs": [],
      "source": [
        "def get_meteo_data(query):\n",
        "    # Votre code ici\n",
        "    return response.json()"
      ],
      "id": "a5f78386"
    },
    {
      "cell_type": "code",
      "execution_count": 14,
      "metadata": {},
      "outputs": [],
      "source": [
        "predictions = get_meteo_data(url_request_open_meteo)\n",
        "type(predictions)"
      ],
      "id": "60fa447c"
    },
    {
      "cell_type": "code",
      "execution_count": 15,
      "metadata": {},
      "outputs": [],
      "source": [
        "wrong_request = build_request_open_meteo(latitude=lat, longitude=\"dix-sept-virgule-quatre\")\n",
        "output = get_meteo_data(wrong_request)\n",
        "print(output)"
      ],
      "id": "c4315170"
    },
    {
      "cell_type": "markdown",
      "metadata": {},
      "source": [
        "### Question 5\n",
        "\n",
        "Afin de bien comprendre la structure des données que nous avons\n",
        "récupérées, explorez le dictionnaire des prédictions retourné par l’API\n",
        "(clefs, différents niveaux, format des prédictions, format de la\n",
        "variable indiquant les dates/heures des prédictions, etc.)"
      ],
      "id": "55fc2748-b4e2-4118-99e2-562f39219fc9"
    },
    {
      "cell_type": "code",
      "execution_count": 16,
      "metadata": {},
      "outputs": [],
      "source": [
        "# Exploration des données\n",
        "print(type(data))\n",
        "print(data.keys())\n",
        "print(type(data[\"hourly\"]))\n",
        "print(data[\"hourly\"].keys())\n",
        "print(type(data[\"hourly\"][\"time\"]))\n",
        "print()\n",
        "\n",
        "# Afficher les données\n",
        "print(data['hourly'][\"time\"][:5])\n",
        "print(data['hourly'][\"time\"][-5:])\n",
        "print()\n",
        "print(data['hourly'][\"relativehumidity_2m\"][:5])\n",
        "print(data['hourly'][\"windspeed_10m\"][:5])"
      ],
      "id": "4f9aa2dc"
    },
    {
      "cell_type": "markdown",
      "metadata": {},
      "source": [
        "## Partie 3 : construction et visualisation d’un *bad hair index*"
      ],
      "id": "5697218d-d675-40aa-aa13-da041dfbade3"
    },
    {
      "cell_type": "code",
      "execution_count": 17,
      "metadata": {},
      "outputs": [],
      "source": [
        "data_dict = {\n",
        "    'time': data['hourly'][\"time\"],\n",
        "    'humidity': data['hourly'][\"relativehumidity_2m\"],\n",
        "    'wind_speed': data['hourly'][\"windspeed_10m\"]\n",
        "}\n",
        "\n",
        "df = pd.DataFrame(data_dict)\n",
        "df['time'] = pd.to_datetime(df['time'])  # Convertir la colonne time en objet datetime\n",
        "df.head()"
      ],
      "id": "b2f5a735"
    },
    {
      "cell_type": "markdown",
      "metadata": {},
      "source": [
        "Nous définissons cet indice comme le produit de l’humidité relative et\n",
        "de la vitesse du vent. Il s’agit d’une mesure ludique de la probabilité\n",
        "d’avoir une “mauvaise coiffure” en raison des conditions\n",
        "météorologiques."
      ],
      "id": "7186792e-5b54-49f5-8038-2f392fb617e0"
    },
    {
      "cell_type": "code",
      "execution_count": 18,
      "metadata": {},
      "outputs": [],
      "source": [
        "df['bad_hair_index'] = df['humidity'] * df['wind_speed']\n",
        "\n",
        "df.head()"
      ],
      "id": "9f3893ac"
    },
    {
      "cell_type": "code",
      "execution_count": 19,
      "metadata": {},
      "outputs": [],
      "source": [
        "df['day'] = df['time'].dt.day\n",
        "df_daily_mean = df.groupby('day').agg({'bad_hair_index': 'mean'}).reset_index()\n",
        "df_daily_mean.head()"
      ],
      "id": "053f17a7"
    },
    {
      "cell_type": "code",
      "execution_count": 20,
      "metadata": {},
      "outputs": [],
      "source": [
        "sns.lineplot(x='day', y='bad_hair_index', data=df_daily_mean)\n",
        "plt.title(\"Évolution du Bad Hair Index moyen sur 7 jours\")\n",
        "plt.xlabel('Jour')\n",
        "plt.ylabel('Bad Hair Index moyen')"
      ],
      "id": "db2b5035"
    },
    {
      "cell_type": "code",
      "execution_count": 21,
      "metadata": {},
      "outputs": [],
      "source": [
        "df['hour'] = df['time'].dt.hour\n",
        "df_hourly_mean = df.groupby('hour').agg({'bad_hair_index': 'mean'}).reset_index()\n",
        "df_hourly_mean.head()"
      ],
      "id": "7fff3be0"
    },
    {
      "cell_type": "code",
      "execution_count": 22,
      "metadata": {},
      "outputs": [],
      "source": [
        "sns.lineplot(x='hour', y='bad_hair_index', data=df_hourly_mean)\n",
        "plt.title(\"Moyenne du Bad Hair Index heure par heure sur 7 jours\")\n",
        "plt.xlabel('Heure')\n",
        "plt.ylabel('Bad Hair Index Moyen')"
      ],
      "id": "404a894f"
    }
  ],
  "nbformat": 4,
  "nbformat_minor": 5,
  "metadata": {
    "kernelspec": {
      "name": "python3",
      "display_name": "Python 3 (ipykernel)",
      "language": "python"
    },
    "language_info": {
      "name": "python",
      "codemirror_mode": {
        "name": "ipython",
        "version": "3"
      },
      "file_extension": ".py",
      "mimetype": "text/x-python",
      "nbconvert_exporter": "python",
      "pygments_lexer": "ipython3",
      "version": "3.11.4"
    }
  }
}