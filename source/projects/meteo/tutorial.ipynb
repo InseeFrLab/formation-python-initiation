{
  "cells": [
    {
      "cell_type": "markdown",
      "id": "1b4a79f0-b398-4783-b0a9-8abeafca92ce",
      "metadata": {},
      "source": [
        "# Projet 3 - Analyse de données météo issues d’API\n",
        "\n",
        "Ce projet vise à introduire au requêtage d'API et à la manipulation de données qui en sont issues, en utilisant des fonctions afin de faciliter la reproductibilité des analyses."
      ]
    },
    {
      "cell_type": "code",
      "execution_count": 4,
      "id": "589d5e1d",
      "metadata": {},
      "outputs": [],
      "source": [
        "import requests"
      ]
    },
    {
      "cell_type": "code",
      "execution_count": 1,
      "id": "2f26c72f",
      "metadata": {},
      "outputs": [],
      "source": [
        "def renvoie_lat_long(localisation):\n",
        "    base_url = \"https://nominatim.openstreetmap.org/search\"\n",
        "    params = {\n",
        "        \"q\": localisation,\n",
        "        \"format\": \"json\"\n",
        "    }\n",
        "    response = requests.get(base_url, params=params)\n",
        "    if response.status_code == 200:\n",
        "        json_data = response.json()\n",
        "        latitude = float(json_data[0][\"lat\"])\n",
        "        longitude = float(json_data[0][\"lon\"])\n",
        "        return (latitude, longitude)\n",
        "    else:\n",
        "        print(f\"Erreur lors de la récupération des coordonnées de {localisation}\")\n",
        "        return None"
      ]
    },
    {
      "cell_type": "code",
      "execution_count": 6,
      "id": "fe57fb2c",
      "metadata": {},
      "outputs": [
        {
          "name": "stdout",
          "output_type": "stream",
          "text": [
            "Localisation : Paris, latitude : 48.8534951, longitude : 2.3483915\n"
          ]
        }
      ],
      "source": [
        "LOCALISATION = \"Paris\"\n",
        "lat, long = renvoie_lat_long(LOCALISATION)\n",
        "\n",
        "print(f\"Localisation : {LOCALISATION}, latitude : {lat}, longitude : {long}\")"
      ]
    },
    {
      "cell_type": "code",
      "execution_count": 8,
      "id": "97e8768c",
      "metadata": {},
      "outputs": [],
      "source": [
        "def fetch_meteo_data(latitude, longitude):\n",
        "    url = f\"https://api.open-meteo.com/v1/forecast?latitude={latitude}&longitude={longitude}&daily=temperature_2m_max,temperature_2m_min,humidity_2m_mean,wind_speed_10m_max&timezone=Europe/Paris\"\n",
        "    try:\n",
        "        response = requests.get(url)\n",
        "        response.raise_for_status()\n",
        "        return response.json()\n",
        "    except requests.RequestException as e:\n",
        "        print(f\"Erreur lors de la requête : {e}\")\n",
        "        return None"
      ]
    },
    {
      "cell_type": "code",
      "execution_count": 9,
      "id": "edcbd1f0",
      "metadata": {},
      "outputs": [
        {
          "name": "stdout",
          "output_type": "stream",
          "text": [
            "Erreur lors de la requête : 400 Client Error: Bad Request for url: https://api.open-meteo.com/v1/forecast?latitude=48.8534951&longitude=2.3483915&daily=temperature_2m_max,temperature_2m_min,humidity_2m_mean,wind_speed_10m_max&timezone=Europe/Paris\n"
          ]
        }
      ],
      "source": [
        "data = fetch_meteo_data(lat, long)\n",
        "data"
      ]
    },
    {
      "cell_type": "code",
      "execution_count": 3,
      "id": "2b22663a",
      "metadata": {},
      "outputs": [],
      "source": [
        "data = fetch_meteo_data(*renvoie_lat_long(\"Paris\"))\n",
        "\n",
        "# Afficher les clés principales\n",
        "print(data.keys())\n",
        "\n",
        "# Afficher les premières dates\n",
        "print(data['time']['daily'][:5])\n",
        "\n",
        "# Calculer la moyenne des températures maximales et minimales pour la première semaine\n",
        "max_temps = data['daily']['temperature_2m_max'][:7]\n",
        "min_temps = data['daily']['temperature_2m_min'][:7]\n",
        "\n",
        "avg_max = sum(max_temps) / len(max_temps)\n",
        "avg_min = sum(min_temps) / len(min_temps)\n",
        "\n",
        "print(f\"Température maximale moyenne pour la première semaine : {avg_max:.2f}°C\")\n",
        "print(f\"Température minimale moyenne pour la première semaine : {avg_min:.2f}°C\")"
      ]
    },
    {
      "cell_type": "code",
      "execution_count": 4,
      "id": "88f5f96a",
      "metadata": {},
      "outputs": [],
      "source": [
        "humidity = data['daily']['humidity_2m_mean']\n",
        "wind_speed = data['daily']['wind_speed_10m_max']\n",
        "\n",
        "# Calcul de l'indice de mauvaise coiffure\n",
        "bad_hair_index = [hum * wind for hum, wind in zip(humidity, wind_speed)]"
      ]
    },
    {
      "cell_type": "code",
      "execution_count": 5,
      "id": "eb2d2d4e",
      "metadata": {},
      "outputs": [],
      "source": [
        "import seaborn as sns\n",
        "import matplotlib.pyplot as plt\n",
        "\n",
        "# Paramètres pour Seaborn\n",
        "sns.set_theme(style=\"darkgrid\")\n",
        "\n",
        "# Initialisation de la figure\n",
        "plt.figure(figsize=(14, 6))\n",
        "\n",
        "# Dessiner les courbes avec Seaborn\n",
        "sns.lineplot(data['time']['daily'], data['daily']['temperature_2m_max'], label='Température maximale', color='red')\n",
        "sns.lineplot(data['time']['daily'], data['daily']['temperature_2m_min'], label='Température minimale', color='blue')\n",
        "\n",
        "# Titre et labels\n",
        "plt.xlabel('Date')\n",
        "plt.ylabel('Température (°C)')\n",
        "plt.title(\"Évolution des températures sur une année à Paris\")\n",
        "\n",
        "# Affichage du graphique\n",
        "plt.show()"
      ]
    },
    {
      "cell_type": "code",
      "execution_count": 6,
      "id": "cc8e6fd2",
      "metadata": {},
      "outputs": [],
      "source": [
        "import seaborn as sns\n",
        "import matplotlib.pyplot as plt\n",
        "\n",
        "# Paramètres pour Seaborn\n",
        "sns.set_theme(style=\"darkgrid\")\n",
        "\n",
        "# Initialisation de la figure\n",
        "plt.figure(figsize=(14, 6))\n",
        "\n",
        "# Dessiner la courbe avec Seaborn\n",
        "sns.lineplot(x=data['time']['daily'], y=bad_hair_index, label='Indice de Mauvaise Coiffure', color='purple')\n",
        "\n",
        "# Titre et labels\n",
        "plt.xlabel('Date')\n",
        "plt.ylabel('Indice')\n",
        "plt.title(\"Indice de Mauvaise Coiffure sur une année à Paris\")\n",
        "\n",
        "# Affichage du graphique\n",
        "plt.show()"
      ]
    },
    {
      "cell_type": "code",
      "execution_count": 7,
      "id": "b470682f",
      "metadata": {},
      "outputs": [],
      "source": [
        "import seaborn as sns\n",
        "import numpy as np\n",
        "\n",
        "def plot_heatmap(data):\n",
        "    temperatures = np.array(data['daily']['temperature_2m_max']).reshape(-1, 7)\n",
        "    days = ['Lundi', 'Mardi', 'Mercredi', 'Jeudi', 'Vendredi', 'Samedi', 'Dimanche']\n",
        "    \n",
        "    plt.figure(figsize=(10, 30))\n",
        "    sns.heatmap(temperatures, cmap='coolwarm', cbar_kws={'label': 'Température (°C)'}, xticklabels=days, yticklabels=False)\n",
        "    plt.title('Heatmap des températures maximales par semaine à Paris')\n",
        "    plt.xlabel('Jour de la semaine')\n",
        "    plt.ylabel('Semaine de l\\'année')\n",
        "    plt.show()\n",
        "\n",
        "plot_heatmap(data)"
      ]
    }
  ],
  "metadata": {
    "kernelspec": {
      "display_name": "Python 3 (ipykernel)",
      "language": "python",
      "name": "python3"
    },
    "language_info": {
      "codemirror_mode": {
        "name": "ipython",
        "version": 3
      },
      "file_extension": ".py",
      "mimetype": "text/x-python",
      "name": "python",
      "nbconvert_exporter": "python",
      "pygments_lexer": "ipython3",
      "version": "3.11.4"
    }
  },
  "nbformat": 4,
  "nbformat_minor": 5
}
