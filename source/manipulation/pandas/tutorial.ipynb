{
 "cells": [
  {
   "cell_type": "markdown",
   "id": "3a232d77-fa09-406c-a0bd-8e9823c5ab40",
   "metadata": {},
   "source": [
    "# Traiter des données tabulaires avec Pandas"
   ]
  },
  {
   "cell_type": "markdown",
   "id": "944cb098-732e-493e-b3aa-91558b107598",
   "metadata": {},
   "source": [
    "L'analyse statistique a généralement pour base des **données tabulaires**, dans lesquelles chaque ligne représente une observation et chaque colonne une variable. Pour traiter ce type de données et y appliquer facilement les méthodes d'analyse de données standards, des objets dédiés ont été conçus : les `DataFrames`. Les utilisateurs de `R` connaissent bien cette structure de données, qui est native à ce langage orienté statistique. En `Python`, langage généraliste, cet objet n'existe pas nativement. Heureusement, une librairie très complete et bien pratique, pensée comme une surcouche à `NumPy`, introduit en `Python` l'objet `DataFrame` et permet la manipulation et l'analyse de données de manière simple et intuitive : `Pandas`."
   ]
  },
  {
   "cell_type": "markdown",
   "id": "d8875d50-15d5-45b6-b903-4c060869693d",
   "metadata": {},
   "source": [
    "On commence par importer la librairie `Pandas`. L'usage est courant est de lui attribuer l'alias `pd` afin de simplifier les futurs appels aux objets et fonctions du package. On importe également `NumPy` car on va comparer les objets fondamentaux des deux packages."
   ]
  },
  {
   "cell_type": "code",
   "execution_count": 2,
   "id": "5f785ba8-25b4-4857-890b-fe905023b97a",
   "metadata": {},
   "outputs": [],
   "source": [
    "import pandas as pd\n",
    "import numpy as np"
   ]
  },
  {
   "cell_type": "markdown",
   "id": "cad62bd3-14e2-42fb-8093-3eabd6d3c78c",
   "metadata": {},
   "source": [
    "## Structures de données"
   ]
  },
  {
   "cell_type": "markdown",
   "id": "a457d775-e99c-4633-85f7-15cb097c4b7a",
   "metadata": {},
   "source": [
    "Pour bien comprendre le fonctionnement de `Pandas`, il faut s'intéresser à ses objets fondamentaux. On va donc d'abord étudier les `Series`, dont la concaténation permet de construire un `DataFrame`. "
   ]
  },
  {
   "cell_type": "markdown",
   "id": "218c85da-deb9-4571-a351-bed4e514b6e3",
   "metadata": {},
   "source": [
    "### La `Series`"
   ]
  },
  {
   "cell_type": "markdown",
   "id": "083ca3f7-b134-49bf-8ef7-332a3652b61e",
   "metadata": {},
   "source": [
    "Une Series est un conteneur de données unidimensionnel pouvant accueillir n'importe quel type de données (entiers, *strings*, objets Python...). Une Series est néanmoins d'un type donné : une Series ne contenant que des entiers sera de type `int`, et une Series contenant des objets de différente nature sera de type `object`. Construisons notre première Series à partir d'une liste pour vérifier ce comportement."
   ]
  },
  {
   "cell_type": "code",
   "execution_count": 3,
   "id": "d3239f01-9cd1-4562-b9a2-232495878240",
   "metadata": {},
   "outputs": [
    {
     "name": "stdout",
     "output_type": "stream",
     "text": [
      "0    1\n",
      "1    X\n",
      "2    3\n",
      "dtype: object\n"
     ]
    }
   ],
   "source": [
    "l = [1, \"X\", 3]\n",
    "s = pd.Series(l)\n",
    "print(s)"
   ]
  },
  {
   "cell_type": "markdown",
   "id": "85178b80-3d97-4982-866a-f9ada0269f1c",
   "metadata": {},
   "source": [
    "On peut notamment accéder aux données d'une Series par position, comme pour une liste ou un array."
   ]
  },
  {
   "cell_type": "code",
   "execution_count": 4,
   "id": "0ea6895d-23e0-4ca1-8280-fcece214e4b7",
   "metadata": {},
   "outputs": [
    {
     "name": "stdout",
     "output_type": "stream",
     "text": [
      "X\n"
     ]
    }
   ],
   "source": [
    "print(s[1])"
   ]
  },
  {
   "cell_type": "markdown",
   "id": "6aa468be-b964-49a8-8f8d-0c489d6c75d5",
   "metadata": {},
   "source": [
    "A priori, on ne voit pas beaucoup de différence entre une Series et un *array* `NumPy` à 1 dimension. Pourtant, il existe une différence de taille qui est la présence d'un index : les observations ont un label associé. Lorsqu'on crée une Series sans rien spécifier, l'index est automatiquement fixé aux entiers de 0 à n (le nombre d'éléments de la Series). Mais il est possible de passer un index spécifique (ex : des dates, des noms de communes, etc.)."
   ]
  },
  {
   "cell_type": "code",
   "execution_count": 5,
   "id": "5ae8930e-149d-4f97-8b47-5f3b3604ac1c",
   "metadata": {},
   "outputs": [
    {
     "name": "stdout",
     "output_type": "stream",
     "text": [
      "a    1\n",
      "b    X\n",
      "c    3\n",
      "dtype: object\n"
     ]
    }
   ],
   "source": [
    "s = pd.Series(l, index=[\"a\", \"b\", \"c\"])\n",
    "print(s)"
   ]
  },
  {
   "cell_type": "markdown",
   "id": "4a8a7627-56fd-41c8-9bfd-43c79509fb22",
   "metadata": {},
   "source": [
    "Ce qui permet d'accéder aux données par label :"
   ]
  },
  {
   "cell_type": "code",
   "execution_count": 6,
   "id": "96e742cd-11d5-4594-8ec6-738e6948303b",
   "metadata": {},
   "outputs": [
    {
     "data": {
      "text/plain": [
       "'X'"
      ]
     },
     "execution_count": 6,
     "metadata": {},
     "output_type": "execute_result"
    }
   ],
   "source": [
    "s[\"b\"]"
   ]
  },
  {
   "cell_type": "markdown",
   "id": "f0d406e4-2793-43ac-8ece-93df1494885c",
   "metadata": {},
   "source": [
    "Cette différence apparaît secondaire à première vue, mais deviendra essentielle pour la construction du DataFrame. Pour le reste, les Series se comportent de manière très proche des arrays NumPy : les calculs sont vectorisés, on peut directement faire la somme de deux Series, etc. D'ailleurs, on peut très facilement convertir une Series en array via l'attribut `values`. Ce qui, naturellement, fait perdre l'index..."
   ]
  },
  {
   "cell_type": "code",
   "execution_count": 7,
   "id": "24b46a97-0ed2-4b0c-9485-fe0e00bdaade",
   "metadata": {},
   "outputs": [
    {
     "data": {
      "text/plain": [
       "array([1, 'X', 3], dtype=object)"
      ]
     },
     "execution_count": 7,
     "metadata": {},
     "output_type": "execute_result"
    }
   ],
   "source": [
    "s = pd.Series(l, index=[\"a\", \"b\", \"c\"])\n",
    "s.values"
   ]
  },
  {
   "cell_type": "markdown",
   "id": "bea54023-6c25-4780-9997-ee30e4713dd4",
   "metadata": {},
   "source": [
    "### Le `DataFrame`"
   ]
  },
  {
   "cell_type": "markdown",
   "id": "45c2398a-ece5-4c99-9f4a-6b697f6c8e7a",
   "metadata": {},
   "source": [
    "Fondamentalement, un DataFrame consiste en une collection de Series, alignées par les index. Cette concaténation construit donc une table de données, dont les Series correspondent aux colonnes, et dont l'index identifie les lignes. La figure suivante ([source](https://medium.com/epfl-extension-school/selecting-data-from-a-pandas-dataframe-53917dc39953)) permet de bien comprendre cette structure de données."
   ]
  },
  {
   "cell_type": "markdown",
   "id": "3ac25cae-98f9-4b23-a2f2-d44bef90b4ce",
   "metadata": {},
   "source": [
    "<div>\n",
    "<img src=\"img/structure_df.png\" width=\"800\">\n",
    "</div>"
   ]
  },
  {
   "cell_type": "markdown",
   "id": "c6c6a61e-cf3f-492a-b204-8e642edf8aae",
   "metadata": {},
   "source": [
    "Un DataFrame peut être construit de multiples manières. En pratique, on construit généralement un DataFrame directement à partir de fichiers de données tabulaires (ex : CSV, excel), rarement à la main. On illustrera donc seulement la méthode de construction manuelle la plus usuelle : à partir d'un dictionnaire de données."
   ]
  },
  {
   "cell_type": "code",
   "execution_count": 152,
   "id": "4d468b66-36f4-4747-88e4-0db53c992479",
   "metadata": {},
   "outputs": [
    {
     "data": {
      "text/html": [
       "<div>\n",
       "<style scoped>\n",
       "    .dataframe tbody tr th:only-of-type {\n",
       "        vertical-align: middle;\n",
       "    }\n",
       "\n",
       "    .dataframe tbody tr th {\n",
       "        vertical-align: top;\n",
       "    }\n",
       "\n",
       "    .dataframe thead th {\n",
       "        text-align: right;\n",
       "    }\n",
       "</style>\n",
       "<table border=\"1\" class=\"dataframe\">\n",
       "  <thead>\n",
       "    <tr style=\"text-align: right;\">\n",
       "      <th></th>\n",
       "      <th>var1</th>\n",
       "      <th>var2</th>\n",
       "      <th>experiment</th>\n",
       "      <th>date</th>\n",
       "      <th>sample</th>\n",
       "    </tr>\n",
       "  </thead>\n",
       "  <tbody>\n",
       "    <tr>\n",
       "      <th>0</th>\n",
       "      <td>1.0</td>\n",
       "      <td>-5</td>\n",
       "      <td>test</td>\n",
       "      <td>2022-01-01</td>\n",
       "      <td>sample1</td>\n",
       "    </tr>\n",
       "    <tr>\n",
       "      <th>1</th>\n",
       "      <td>1.0</td>\n",
       "      <td>9</td>\n",
       "      <td>train</td>\n",
       "      <td>2022-01-02</td>\n",
       "      <td>sample2</td>\n",
       "    </tr>\n",
       "    <tr>\n",
       "      <th>2</th>\n",
       "      <td>1.0</td>\n",
       "      <td>-3</td>\n",
       "      <td>test</td>\n",
       "      <td>2022-01-03</td>\n",
       "      <td>sample1</td>\n",
       "    </tr>\n",
       "    <tr>\n",
       "      <th>3</th>\n",
       "      <td>1.0</td>\n",
       "      <td>8</td>\n",
       "      <td>train</td>\n",
       "      <td>2022-01-04</td>\n",
       "      <td>sample1</td>\n",
       "    </tr>\n",
       "    <tr>\n",
       "      <th>4</th>\n",
       "      <td>1.0</td>\n",
       "      <td>-10</td>\n",
       "      <td>train</td>\n",
       "      <td>2022-01-05</td>\n",
       "      <td>sample2</td>\n",
       "    </tr>\n",
       "    <tr>\n",
       "      <th>5</th>\n",
       "      <td>1.0</td>\n",
       "      <td>-5</td>\n",
       "      <td>train</td>\n",
       "      <td>2022-01-06</td>\n",
       "      <td>sample3</td>\n",
       "    </tr>\n",
       "  </tbody>\n",
       "</table>\n",
       "</div>"
      ],
      "text/plain": [
       "   var1  var2 experiment        date   sample\n",
       "0   1.0    -5       test  2022-01-01  sample1\n",
       "1   1.0     9      train  2022-01-02  sample2\n",
       "2   1.0    -3       test  2022-01-03  sample1\n",
       "3   1.0     8      train  2022-01-04  sample1\n",
       "4   1.0   -10      train  2022-01-05  sample2\n",
       "5   1.0    -5      train  2022-01-06  sample3"
      ]
     },
     "execution_count": 152,
     "metadata": {},
     "output_type": "execute_result"
    }
   ],
   "source": [
    "df = pd.DataFrame(\n",
    "    data = {\n",
    "        \"var1\": 1.0,\n",
    "        \"var2\": np.random.randint(-10, 10, 6),\n",
    "        \"experiment\": [\"test\", \"train\", \"test\", \"train\", \"train\", \"train\"],\n",
    "        \"date\": [\"2022-01-01\", \"2022-01-02\", \"2022-01-03\", \"2022-01-04\", \"2022-01-05\", \"2022-01-06\"],\n",
    "        \"sample\": [\"sample1\", \"sample2\", \"sample1\", \"sample1\", \"sample2\", \"sample3\"]\n",
    "    }\n",
    ")\n",
    "\n",
    "df"
   ]
  },
  {
   "cell_type": "markdown",
   "id": "6b6de3c6-42d1-4cf2-ab52-9298870d4361",
   "metadata": {},
   "source": [
    "Un DataFrame Pandas dispose d'un ensemble d'attributs utiles que nous allons découvrir tout au long de ce tutoriel. Pour l'instant, intéressons nous aux plus basiques : l'index et le nom des colonnes. Par défaut, l'index est initialisé comme pour les Series à la liste des positions des observations. On aurait pu spécifier un index alternatif lors de la construction du DataFrame en spécifiant l'argument `index` de la fonction `pd.DataFrame`."
   ]
  },
  {
   "cell_type": "code",
   "execution_count": 153,
   "id": "6b13ab76-14f4-49ce-855c-c9783b6421f6",
   "metadata": {},
   "outputs": [
    {
     "data": {
      "text/plain": [
       "RangeIndex(start=0, stop=6, step=1)"
      ]
     },
     "execution_count": 153,
     "metadata": {},
     "output_type": "execute_result"
    }
   ],
   "source": [
    "df.index"
   ]
  },
  {
   "cell_type": "code",
   "execution_count": 154,
   "id": "fed2cde8-80c7-49f9-8cf8-c50d3d565977",
   "metadata": {},
   "outputs": [
    {
     "data": {
      "text/plain": [
       "Index(['var1', 'var2', 'experiment', 'date', 'sample'], dtype='object')"
      ]
     },
     "execution_count": 154,
     "metadata": {},
     "output_type": "execute_result"
    }
   ],
   "source": [
    "df.columns"
   ]
  },
  {
   "cell_type": "markdown",
   "id": "439b66d2-7a29-4b77-ba03-43a7d20a2bcf",
   "metadata": {},
   "source": [
    "Souvent, plutôt que de spécifier un index à la main lors de la construction du DataFrame, on va vouloir utiliser une certaine colonne du DataFrame comme index. On utilise pour cela la méthode `set_index` associée aux DataFrames."
   ]
  },
  {
   "cell_type": "code",
   "execution_count": 155,
   "id": "02030936-863b-49aa-93c1-b206142aa14c",
   "metadata": {},
   "outputs": [
    {
     "data": {
      "text/html": [
       "<div>\n",
       "<style scoped>\n",
       "    .dataframe tbody tr th:only-of-type {\n",
       "        vertical-align: middle;\n",
       "    }\n",
       "\n",
       "    .dataframe tbody tr th {\n",
       "        vertical-align: top;\n",
       "    }\n",
       "\n",
       "    .dataframe thead th {\n",
       "        text-align: right;\n",
       "    }\n",
       "</style>\n",
       "<table border=\"1\" class=\"dataframe\">\n",
       "  <thead>\n",
       "    <tr style=\"text-align: right;\">\n",
       "      <th></th>\n",
       "      <th>var1</th>\n",
       "      <th>var2</th>\n",
       "      <th>experiment</th>\n",
       "      <th>sample</th>\n",
       "    </tr>\n",
       "    <tr>\n",
       "      <th>date</th>\n",
       "      <th></th>\n",
       "      <th></th>\n",
       "      <th></th>\n",
       "      <th></th>\n",
       "    </tr>\n",
       "  </thead>\n",
       "  <tbody>\n",
       "    <tr>\n",
       "      <th>2022-01-01</th>\n",
       "      <td>1.0</td>\n",
       "      <td>-5</td>\n",
       "      <td>test</td>\n",
       "      <td>sample1</td>\n",
       "    </tr>\n",
       "    <tr>\n",
       "      <th>2022-01-02</th>\n",
       "      <td>1.0</td>\n",
       "      <td>9</td>\n",
       "      <td>train</td>\n",
       "      <td>sample2</td>\n",
       "    </tr>\n",
       "    <tr>\n",
       "      <th>2022-01-03</th>\n",
       "      <td>1.0</td>\n",
       "      <td>-3</td>\n",
       "      <td>test</td>\n",
       "      <td>sample1</td>\n",
       "    </tr>\n",
       "    <tr>\n",
       "      <th>2022-01-04</th>\n",
       "      <td>1.0</td>\n",
       "      <td>8</td>\n",
       "      <td>train</td>\n",
       "      <td>sample1</td>\n",
       "    </tr>\n",
       "    <tr>\n",
       "      <th>2022-01-05</th>\n",
       "      <td>1.0</td>\n",
       "      <td>-10</td>\n",
       "      <td>train</td>\n",
       "      <td>sample2</td>\n",
       "    </tr>\n",
       "    <tr>\n",
       "      <th>2022-01-06</th>\n",
       "      <td>1.0</td>\n",
       "      <td>-5</td>\n",
       "      <td>train</td>\n",
       "      <td>sample3</td>\n",
       "    </tr>\n",
       "  </tbody>\n",
       "</table>\n",
       "</div>"
      ],
      "text/plain": [
       "            var1  var2 experiment   sample\n",
       "date                                      \n",
       "2022-01-01   1.0    -5       test  sample1\n",
       "2022-01-02   1.0     9      train  sample2\n",
       "2022-01-03   1.0    -3       test  sample1\n",
       "2022-01-04   1.0     8      train  sample1\n",
       "2022-01-05   1.0   -10      train  sample2\n",
       "2022-01-06   1.0    -5      train  sample3"
      ]
     },
     "execution_count": 155,
     "metadata": {},
     "output_type": "execute_result"
    }
   ],
   "source": [
    "df = df.set_index(\"date\")\n",
    "df"
   ]
  },
  {
   "cell_type": "markdown",
   "id": "7539f5c1-00f7-43c5-9c19-a97373603f9f",
   "metadata": {},
   "source": [
    "L'attribut index a naturellement changé :"
   ]
  },
  {
   "cell_type": "code",
   "execution_count": 156,
   "id": "60f494a5-3f27-4d33-a425-f9af08472a5a",
   "metadata": {},
   "outputs": [
    {
     "data": {
      "text/plain": [
       "Index(['2022-01-01', '2022-01-02', '2022-01-03', '2022-01-04', '2022-01-05',\n",
       "       '2022-01-06'],\n",
       "      dtype='object', name='date')"
      ]
     },
     "execution_count": 156,
     "metadata": {},
     "output_type": "execute_result"
    }
   ],
   "source": [
    "df.index"
   ]
  },
  {
   "cell_type": "markdown",
   "id": "92811907-b06e-4bc6-818d-dc928a33f5eb",
   "metadata": {},
   "source": [
    "## Sélectionner des données"
   ]
  },
  {
   "cell_type": "markdown",
   "id": "0548f0ab-7cfd-4ea6-9577-93c49404d879",
   "metadata": {},
   "source": [
    "Lorsqu'on analyse des données, la première étape consiste souvent à limiter son échantillon, que ce soit en termes d'observations ou de variables utilisées. Les DataFrames (et les Series) Pandas disposent d'un ensemble de méthodes bien utiles pour cela."
   ]
  },
  {
   "cell_type": "markdown",
   "id": "1aa7939e-3f31-4bba-b41a-5f0507613ca4",
   "metadata": {},
   "source": [
    "### Sélectionner des colonnes"
   ]
  },
  {
   "cell_type": "markdown",
   "id": "b28ec90a-74cb-4f28-b3b0-54c93e84a947",
   "metadata": {},
   "source": [
    "Pour sélectionner des colonnes, la manière la plus simple est d'utiliser la méthode `[]`, familière aux utilisateurs de `R`. Si l'on sélectionne une seule colonne, l'objet retourné, unidimensionnel, est une Series."
   ]
  },
  {
   "cell_type": "code",
   "execution_count": 157,
   "id": "106ebdef-5d14-41cb-89ae-04dafc5f4a2a",
   "metadata": {},
   "outputs": [
    {
     "data": {
      "text/plain": [
       "date\n",
       "2022-01-01     test\n",
       "2022-01-02    train\n",
       "2022-01-03     test\n",
       "2022-01-04    train\n",
       "2022-01-05    train\n",
       "2022-01-06    train\n",
       "Name: experiment, dtype: object"
      ]
     },
     "execution_count": 157,
     "metadata": {},
     "output_type": "execute_result"
    }
   ],
   "source": [
    "exp = df[\"experiment\"]\n",
    "exp"
   ]
  },
  {
   "cell_type": "code",
   "execution_count": 158,
   "id": "8793f7f9-1490-4c2d-bb5e-76d714a14b5d",
   "metadata": {},
   "outputs": [
    {
     "data": {
      "text/plain": [
       "pandas.core.series.Series"
      ]
     },
     "execution_count": 158,
     "metadata": {},
     "output_type": "execute_result"
    }
   ],
   "source": [
    "type(exp)"
   ]
  },
  {
   "cell_type": "markdown",
   "id": "14d3522a-acd2-47f9-9bde-6b451095f12b",
   "metadata": {},
   "source": [
    "Comme les arrays NumPy, les Series et les DataFrames possèdent l'attribut `.shape`, qui donne à la fois le nombre de dimensions de l'objet et le nombre d'éléments par dimension."
   ]
  },
  {
   "cell_type": "code",
   "execution_count": 159,
   "id": "b5a031eb-8938-4866-b3d5-6f60e932befa",
   "metadata": {},
   "outputs": [
    {
     "data": {
      "text/plain": [
       "(6,)"
      ]
     },
     "execution_count": 159,
     "metadata": {},
     "output_type": "execute_result"
    }
   ],
   "source": [
    "exp.shape"
   ]
  },
  {
   "cell_type": "markdown",
   "id": "4fbf88ca-58c7-4f1a-be33-99774307f047",
   "metadata": {},
   "source": [
    "Il est également possible d'accéder aux éléments d'une colonne via la syntaxe `df.nom_colonne`. Mais cette approche peut parfois causer des erreurs, notamment dans le cas de variables contenant des noms d'espace. Il est donc préférable de se limiter à la méthode `[]` pour sélectionner des colonnes, plus explicite."
   ]
  },
  {
   "cell_type": "code",
   "execution_count": 160,
   "id": "33caf5d8-0c29-461b-9c1b-7b3e00787f0a",
   "metadata": {},
   "outputs": [
    {
     "data": {
      "text/plain": [
       "date\n",
       "2022-01-01     test\n",
       "2022-01-02    train\n",
       "2022-01-03     test\n",
       "2022-01-04    train\n",
       "2022-01-05    train\n",
       "2022-01-06    train\n",
       "Name: experiment, dtype: object"
      ]
     },
     "execution_count": 160,
     "metadata": {},
     "output_type": "execute_result"
    }
   ],
   "source": [
    "df.experiment"
   ]
  },
  {
   "cell_type": "markdown",
   "id": "8fdd375b-1c71-406f-bf0f-6fb402a1a1e9",
   "metadata": {},
   "source": [
    "On peut bien entendu sélectionner plusieurs colonnes, en passant une liste de noms de colonnes. L'objet retourné, bidimensionnel, est alors un DataFrame."
   ]
  },
  {
   "cell_type": "code",
   "execution_count": 161,
   "id": "2100f18c-51cc-484d-aede-ac9c1adae22f",
   "metadata": {},
   "outputs": [
    {
     "data": {
      "text/html": [
       "<div>\n",
       "<style scoped>\n",
       "    .dataframe tbody tr th:only-of-type {\n",
       "        vertical-align: middle;\n",
       "    }\n",
       "\n",
       "    .dataframe tbody tr th {\n",
       "        vertical-align: top;\n",
       "    }\n",
       "\n",
       "    .dataframe thead th {\n",
       "        text-align: right;\n",
       "    }\n",
       "</style>\n",
       "<table border=\"1\" class=\"dataframe\">\n",
       "  <thead>\n",
       "    <tr style=\"text-align: right;\">\n",
       "      <th></th>\n",
       "      <th>experiment</th>\n",
       "      <th>var1</th>\n",
       "      <th>var2</th>\n",
       "    </tr>\n",
       "    <tr>\n",
       "      <th>date</th>\n",
       "      <th></th>\n",
       "      <th></th>\n",
       "      <th></th>\n",
       "    </tr>\n",
       "  </thead>\n",
       "  <tbody>\n",
       "    <tr>\n",
       "      <th>2022-01-01</th>\n",
       "      <td>test</td>\n",
       "      <td>1.0</td>\n",
       "      <td>-5</td>\n",
       "    </tr>\n",
       "    <tr>\n",
       "      <th>2022-01-02</th>\n",
       "      <td>train</td>\n",
       "      <td>1.0</td>\n",
       "      <td>9</td>\n",
       "    </tr>\n",
       "    <tr>\n",
       "      <th>2022-01-03</th>\n",
       "      <td>test</td>\n",
       "      <td>1.0</td>\n",
       "      <td>-3</td>\n",
       "    </tr>\n",
       "    <tr>\n",
       "      <th>2022-01-04</th>\n",
       "      <td>train</td>\n",
       "      <td>1.0</td>\n",
       "      <td>8</td>\n",
       "    </tr>\n",
       "    <tr>\n",
       "      <th>2022-01-05</th>\n",
       "      <td>train</td>\n",
       "      <td>1.0</td>\n",
       "      <td>-10</td>\n",
       "    </tr>\n",
       "    <tr>\n",
       "      <th>2022-01-06</th>\n",
       "      <td>train</td>\n",
       "      <td>1.0</td>\n",
       "      <td>-5</td>\n",
       "    </tr>\n",
       "  </tbody>\n",
       "</table>\n",
       "</div>"
      ],
      "text/plain": [
       "           experiment  var1  var2\n",
       "date                             \n",
       "2022-01-01       test   1.0    -5\n",
       "2022-01-02      train   1.0     9\n",
       "2022-01-03       test   1.0    -3\n",
       "2022-01-04      train   1.0     8\n",
       "2022-01-05      train   1.0   -10\n",
       "2022-01-06      train   1.0    -5"
      ]
     },
     "execution_count": 161,
     "metadata": {},
     "output_type": "execute_result"
    }
   ],
   "source": [
    "subdf = df[[\"experiment\", \"var1\", \"var2\"]]\n",
    "subdf"
   ]
  },
  {
   "cell_type": "code",
   "execution_count": 162,
   "id": "0905539b-38c7-426e-900c-d84f65c6520c",
   "metadata": {},
   "outputs": [
    {
     "data": {
      "text/plain": [
       "pandas.core.frame.DataFrame"
      ]
     },
     "execution_count": 162,
     "metadata": {},
     "output_type": "execute_result"
    }
   ],
   "source": [
    "type(subdf)"
   ]
  },
  {
   "cell_type": "code",
   "execution_count": 163,
   "id": "9ad751d6-e925-4211-a93a-a24e51650835",
   "metadata": {},
   "outputs": [
    {
     "data": {
      "text/plain": [
       "(6, 3)"
      ]
     },
     "execution_count": 163,
     "metadata": {},
     "output_type": "execute_result"
    }
   ],
   "source": [
    "subdf.shape"
   ]
  },
  {
   "cell_type": "markdown",
   "id": "503b9027-68c4-4e3e-bd77-df33ea98a175",
   "metadata": {},
   "source": [
    "### Sélectionner des lignes"
   ]
  },
  {
   "cell_type": "markdown",
   "id": "749c6eb2-092f-45cd-aba5-9782d43a1b8a",
   "metadata": {},
   "source": [
    "Dès lors que l'on souhaite sélectionner des lignes (ou des lignes ET des colonnes), on va devoir utiliser des méthodes spécifiques.\n",
    "\n",
    "La méthode `.iloc[]` permet de sélectionner des lignes par positions, quelle que soit la nature de l'index."
   ]
  },
  {
   "cell_type": "code",
   "execution_count": 164,
   "id": "cc0da1a5-600f-416e-ad86-9018b57cd5f8",
   "metadata": {},
   "outputs": [
    {
     "data": {
      "text/plain": [
       "var1              1.0\n",
       "var2                9\n",
       "experiment      train\n",
       "sample        sample2\n",
       "Name: 2022-01-02, dtype: object"
      ]
     },
     "execution_count": 164,
     "metadata": {},
     "output_type": "execute_result"
    }
   ],
   "source": [
    "df.iloc[1]"
   ]
  },
  {
   "cell_type": "code",
   "execution_count": 165,
   "id": "2fd5c61b-01df-4f02-ba75-d653ffbaffd5",
   "metadata": {},
   "outputs": [
    {
     "data": {
      "text/html": [
       "<div>\n",
       "<style scoped>\n",
       "    .dataframe tbody tr th:only-of-type {\n",
       "        vertical-align: middle;\n",
       "    }\n",
       "\n",
       "    .dataframe tbody tr th {\n",
       "        vertical-align: top;\n",
       "    }\n",
       "\n",
       "    .dataframe thead th {\n",
       "        text-align: right;\n",
       "    }\n",
       "</style>\n",
       "<table border=\"1\" class=\"dataframe\">\n",
       "  <thead>\n",
       "    <tr style=\"text-align: right;\">\n",
       "      <th></th>\n",
       "      <th>var1</th>\n",
       "      <th>var2</th>\n",
       "      <th>experiment</th>\n",
       "      <th>sample</th>\n",
       "    </tr>\n",
       "    <tr>\n",
       "      <th>date</th>\n",
       "      <th></th>\n",
       "      <th></th>\n",
       "      <th></th>\n",
       "      <th></th>\n",
       "    </tr>\n",
       "  </thead>\n",
       "  <tbody>\n",
       "    <tr>\n",
       "      <th>2022-01-02</th>\n",
       "      <td>1.0</td>\n",
       "      <td>9</td>\n",
       "      <td>train</td>\n",
       "      <td>sample2</td>\n",
       "    </tr>\n",
       "    <tr>\n",
       "      <th>2022-01-03</th>\n",
       "      <td>1.0</td>\n",
       "      <td>-3</td>\n",
       "      <td>test</td>\n",
       "      <td>sample1</td>\n",
       "    </tr>\n",
       "    <tr>\n",
       "      <th>2022-01-04</th>\n",
       "      <td>1.0</td>\n",
       "      <td>8</td>\n",
       "      <td>train</td>\n",
       "      <td>sample1</td>\n",
       "    </tr>\n",
       "  </tbody>\n",
       "</table>\n",
       "</div>"
      ],
      "text/plain": [
       "            var1  var2 experiment   sample\n",
       "date                                      \n",
       "2022-01-02   1.0     9      train  sample2\n",
       "2022-01-03   1.0    -3       test  sample1\n",
       "2022-01-04   1.0     8      train  sample1"
      ]
     },
     "execution_count": 165,
     "metadata": {},
     "output_type": "execute_result"
    }
   ],
   "source": [
    "df.iloc[1:4]"
   ]
  },
  {
   "cell_type": "markdown",
   "id": "5c958148-fd63-4c0b-bb3a-36998ae11449",
   "metadata": {},
   "source": [
    "En pratique, sélectionner des données par position limite la reproductibilité : si les données en entrée changent, le code produit n'est plus valide. On préférera donc sélectionner les données par labels. Pour cela, on utilise la méthode `.loc[]`."
   ]
  },
  {
   "cell_type": "code",
   "execution_count": 166,
   "id": "4ec24a82-05c1-4a5d-b735-792782e39e09",
   "metadata": {},
   "outputs": [
    {
     "data": {
      "text/plain": [
       "var1              1.0\n",
       "var2                9\n",
       "experiment      train\n",
       "sample        sample2\n",
       "Name: 2022-01-02, dtype: object"
      ]
     },
     "execution_count": 166,
     "metadata": {},
     "output_type": "execute_result"
    }
   ],
   "source": [
    "df.loc[\"2022-01-02\"]"
   ]
  },
  {
   "cell_type": "code",
   "execution_count": 167,
   "id": "780311dd-11c1-49ef-a7df-8480f15286ec",
   "metadata": {},
   "outputs": [
    {
     "data": {
      "text/html": [
       "<div>\n",
       "<style scoped>\n",
       "    .dataframe tbody tr th:only-of-type {\n",
       "        vertical-align: middle;\n",
       "    }\n",
       "\n",
       "    .dataframe tbody tr th {\n",
       "        vertical-align: top;\n",
       "    }\n",
       "\n",
       "    .dataframe thead th {\n",
       "        text-align: right;\n",
       "    }\n",
       "</style>\n",
       "<table border=\"1\" class=\"dataframe\">\n",
       "  <thead>\n",
       "    <tr style=\"text-align: right;\">\n",
       "      <th></th>\n",
       "      <th>var1</th>\n",
       "      <th>var2</th>\n",
       "      <th>experiment</th>\n",
       "      <th>sample</th>\n",
       "    </tr>\n",
       "    <tr>\n",
       "      <th>date</th>\n",
       "      <th></th>\n",
       "      <th></th>\n",
       "      <th></th>\n",
       "      <th></th>\n",
       "    </tr>\n",
       "  </thead>\n",
       "  <tbody>\n",
       "    <tr>\n",
       "      <th>2022-01-02</th>\n",
       "      <td>1.0</td>\n",
       "      <td>9</td>\n",
       "      <td>train</td>\n",
       "      <td>sample2</td>\n",
       "    </tr>\n",
       "    <tr>\n",
       "      <th>2022-01-03</th>\n",
       "      <td>1.0</td>\n",
       "      <td>-3</td>\n",
       "      <td>test</td>\n",
       "      <td>sample1</td>\n",
       "    </tr>\n",
       "    <tr>\n",
       "      <th>2022-01-04</th>\n",
       "      <td>1.0</td>\n",
       "      <td>8</td>\n",
       "      <td>train</td>\n",
       "      <td>sample1</td>\n",
       "    </tr>\n",
       "  </tbody>\n",
       "</table>\n",
       "</div>"
      ],
      "text/plain": [
       "            var1  var2 experiment   sample\n",
       "date                                      \n",
       "2022-01-02   1.0     9      train  sample2\n",
       "2022-01-03   1.0    -3       test  sample1\n",
       "2022-01-04   1.0     8      train  sample1"
      ]
     },
     "execution_count": 167,
     "metadata": {},
     "output_type": "execute_result"
    }
   ],
   "source": [
    "df.loc[[\"2022-01-02\", \"2022-01-03\", \"2022-01-04\"]]"
   ]
  },
  {
   "cell_type": "markdown",
   "id": "6bc7361c-3fc8-42b9-9c59-e146df6044be",
   "metadata": {},
   "source": [
    "On peut utiliser le principe du `slicing` pour récupérer toutes les observations comprises entre deux labels donnés."
   ]
  },
  {
   "cell_type": "code",
   "execution_count": 168,
   "id": "87f78cc1-0f46-4fb8-91f6-1eb21c6638e4",
   "metadata": {},
   "outputs": [
    {
     "data": {
      "text/html": [
       "<div>\n",
       "<style scoped>\n",
       "    .dataframe tbody tr th:only-of-type {\n",
       "        vertical-align: middle;\n",
       "    }\n",
       "\n",
       "    .dataframe tbody tr th {\n",
       "        vertical-align: top;\n",
       "    }\n",
       "\n",
       "    .dataframe thead th {\n",
       "        text-align: right;\n",
       "    }\n",
       "</style>\n",
       "<table border=\"1\" class=\"dataframe\">\n",
       "  <thead>\n",
       "    <tr style=\"text-align: right;\">\n",
       "      <th></th>\n",
       "      <th>var1</th>\n",
       "      <th>var2</th>\n",
       "      <th>experiment</th>\n",
       "      <th>sample</th>\n",
       "    </tr>\n",
       "    <tr>\n",
       "      <th>date</th>\n",
       "      <th></th>\n",
       "      <th></th>\n",
       "      <th></th>\n",
       "      <th></th>\n",
       "    </tr>\n",
       "  </thead>\n",
       "  <tbody>\n",
       "    <tr>\n",
       "      <th>2022-01-02</th>\n",
       "      <td>1.0</td>\n",
       "      <td>9</td>\n",
       "      <td>train</td>\n",
       "      <td>sample2</td>\n",
       "    </tr>\n",
       "    <tr>\n",
       "      <th>2022-01-03</th>\n",
       "      <td>1.0</td>\n",
       "      <td>-3</td>\n",
       "      <td>test</td>\n",
       "      <td>sample1</td>\n",
       "    </tr>\n",
       "    <tr>\n",
       "      <th>2022-01-04</th>\n",
       "      <td>1.0</td>\n",
       "      <td>8</td>\n",
       "      <td>train</td>\n",
       "      <td>sample1</td>\n",
       "    </tr>\n",
       "    <tr>\n",
       "      <th>2022-01-05</th>\n",
       "      <td>1.0</td>\n",
       "      <td>-10</td>\n",
       "      <td>train</td>\n",
       "      <td>sample2</td>\n",
       "    </tr>\n",
       "  </tbody>\n",
       "</table>\n",
       "</div>"
      ],
      "text/plain": [
       "            var1  var2 experiment   sample\n",
       "date                                      \n",
       "2022-01-02   1.0     9      train  sample2\n",
       "2022-01-03   1.0    -3       test  sample1\n",
       "2022-01-04   1.0     8      train  sample1\n",
       "2022-01-05   1.0   -10      train  sample2"
      ]
     },
     "execution_count": 168,
     "metadata": {},
     "output_type": "execute_result"
    }
   ],
   "source": [
    "df.loc[\"2022-01-02\":\"2022-01-05\"]"
   ]
  },
  {
   "cell_type": "markdown",
   "id": "04b78268-d37d-4f22-bdb3-9bdca10dd501",
   "metadata": {},
   "source": [
    "En utilisant la méthode `.loc[]` (et `.iloc[]`), il est possible de sélectionner à la fois des lignes et des colonnes. La syntaxe est la suivante : `df.loc[labels_lignes, labels_colonnes]`."
   ]
  },
  {
   "cell_type": "code",
   "execution_count": 169,
   "id": "791af9c6-f15a-499c-95f1-d18f46508fce",
   "metadata": {},
   "outputs": [
    {
     "data": {
      "text/html": [
       "<div>\n",
       "<style scoped>\n",
       "    .dataframe tbody tr th:only-of-type {\n",
       "        vertical-align: middle;\n",
       "    }\n",
       "\n",
       "    .dataframe tbody tr th {\n",
       "        vertical-align: top;\n",
       "    }\n",
       "\n",
       "    .dataframe thead th {\n",
       "        text-align: right;\n",
       "    }\n",
       "</style>\n",
       "<table border=\"1\" class=\"dataframe\">\n",
       "  <thead>\n",
       "    <tr style=\"text-align: right;\">\n",
       "      <th></th>\n",
       "      <th>var1</th>\n",
       "      <th>var2</th>\n",
       "    </tr>\n",
       "    <tr>\n",
       "      <th>date</th>\n",
       "      <th></th>\n",
       "      <th></th>\n",
       "    </tr>\n",
       "  </thead>\n",
       "  <tbody>\n",
       "    <tr>\n",
       "      <th>2022-01-02</th>\n",
       "      <td>1.0</td>\n",
       "      <td>9</td>\n",
       "    </tr>\n",
       "    <tr>\n",
       "      <th>2022-01-03</th>\n",
       "      <td>1.0</td>\n",
       "      <td>-3</td>\n",
       "    </tr>\n",
       "    <tr>\n",
       "      <th>2022-01-04</th>\n",
       "      <td>1.0</td>\n",
       "      <td>8</td>\n",
       "    </tr>\n",
       "  </tbody>\n",
       "</table>\n",
       "</div>"
      ],
      "text/plain": [
       "            var1  var2\n",
       "date                  \n",
       "2022-01-02   1.0     9\n",
       "2022-01-03   1.0    -3\n",
       "2022-01-04   1.0     8"
      ]
     },
     "execution_count": 169,
     "metadata": {},
     "output_type": "execute_result"
    }
   ],
   "source": [
    "df.loc[[\"2022-01-02\", \"2022-01-03\", \"2022-01-04\"], [\"var1\", \"var2\"]]"
   ]
  },
  {
   "cell_type": "markdown",
   "id": "041f1b31-64a9-492a-a66a-d92f4fbfd400",
   "metadata": {},
   "source": [
    "En spécifiant un label donné pour les lignes et les colonnes, on peut récupérer directement une valeur scalaire du DataFrame."
   ]
  },
  {
   "cell_type": "code",
   "execution_count": 170,
   "id": "55382f48-678c-49d2-8833-939c01dc1cba",
   "metadata": {},
   "outputs": [
    {
     "data": {
      "text/plain": [
       "-3"
      ]
     },
     "execution_count": 170,
     "metadata": {},
     "output_type": "execute_result"
    }
   ],
   "source": [
    "df.loc[\"2022-01-03\", \"var2\"]"
   ]
  },
  {
   "cell_type": "markdown",
   "id": "1fd420c2-6ade-4624-adfd-c9d2b9a180dd",
   "metadata": {},
   "source": [
    "### Sélectionner les données selon des conditions"
   ]
  },
  {
   "cell_type": "markdown",
   "id": "ef7c6df1-c900-4f92-97a7-e7d53897770f",
   "metadata": {},
   "source": [
    "Souvent, on souhaite filtrer nos données selon des conditions logiques (condition d'âge, département de résidence, etc.). Pandas utilise les principes de masques booléens et de vectorisation des opérations que l'on a vu avec NumPy. Filtrer un DataFrame selon des conditions logiques est donc très simple."
   ]
  },
  {
   "cell_type": "code",
   "execution_count": 171,
   "id": "94a57791-cb14-488e-adea-8cd64200e0a4",
   "metadata": {},
   "outputs": [
    {
     "data": {
      "text/plain": [
       "date\n",
       "2022-01-01    False\n",
       "2022-01-02     True\n",
       "2022-01-03    False\n",
       "2022-01-04     True\n",
       "2022-01-05     True\n",
       "2022-01-06     True\n",
       "Name: experiment, dtype: bool"
      ]
     },
     "execution_count": 171,
     "metadata": {},
     "output_type": "execute_result"
    }
   ],
   "source": [
    "df[\"experiment\"] == \"train\""
   ]
  },
  {
   "cell_type": "markdown",
   "id": "a28bf81f-cd7d-44e1-9c9c-46daeb0808f8",
   "metadata": {},
   "source": [
    "La condition logique renvoie une série de booléens, que l'on peut donc utiliser comme masque pour filtrer un DataFrame."
   ]
  },
  {
   "cell_type": "code",
   "execution_count": 172,
   "id": "8b422267-520f-4091-bea5-6a7e148fd58e",
   "metadata": {},
   "outputs": [
    {
     "data": {
      "text/html": [
       "<div>\n",
       "<style scoped>\n",
       "    .dataframe tbody tr th:only-of-type {\n",
       "        vertical-align: middle;\n",
       "    }\n",
       "\n",
       "    .dataframe tbody tr th {\n",
       "        vertical-align: top;\n",
       "    }\n",
       "\n",
       "    .dataframe thead th {\n",
       "        text-align: right;\n",
       "    }\n",
       "</style>\n",
       "<table border=\"1\" class=\"dataframe\">\n",
       "  <thead>\n",
       "    <tr style=\"text-align: right;\">\n",
       "      <th></th>\n",
       "      <th>var1</th>\n",
       "      <th>var2</th>\n",
       "      <th>experiment</th>\n",
       "      <th>sample</th>\n",
       "    </tr>\n",
       "    <tr>\n",
       "      <th>date</th>\n",
       "      <th></th>\n",
       "      <th></th>\n",
       "      <th></th>\n",
       "      <th></th>\n",
       "    </tr>\n",
       "  </thead>\n",
       "  <tbody>\n",
       "    <tr>\n",
       "      <th>2022-01-02</th>\n",
       "      <td>1.0</td>\n",
       "      <td>9</td>\n",
       "      <td>train</td>\n",
       "      <td>sample2</td>\n",
       "    </tr>\n",
       "    <tr>\n",
       "      <th>2022-01-04</th>\n",
       "      <td>1.0</td>\n",
       "      <td>8</td>\n",
       "      <td>train</td>\n",
       "      <td>sample1</td>\n",
       "    </tr>\n",
       "    <tr>\n",
       "      <th>2022-01-05</th>\n",
       "      <td>1.0</td>\n",
       "      <td>-10</td>\n",
       "      <td>train</td>\n",
       "      <td>sample2</td>\n",
       "    </tr>\n",
       "    <tr>\n",
       "      <th>2022-01-06</th>\n",
       "      <td>1.0</td>\n",
       "      <td>-5</td>\n",
       "      <td>train</td>\n",
       "      <td>sample3</td>\n",
       "    </tr>\n",
       "  </tbody>\n",
       "</table>\n",
       "</div>"
      ],
      "text/plain": [
       "            var1  var2 experiment   sample\n",
       "date                                      \n",
       "2022-01-02   1.0     9      train  sample2\n",
       "2022-01-04   1.0     8      train  sample1\n",
       "2022-01-05   1.0   -10      train  sample2\n",
       "2022-01-06   1.0    -5      train  sample3"
      ]
     },
     "execution_count": 172,
     "metadata": {},
     "output_type": "execute_result"
    }
   ],
   "source": [
    "df[df[\"experiment\"] == \"train\"]"
   ]
  },
  {
   "cell_type": "markdown",
   "id": "2ed69cff-3582-4bdb-aafd-fb957ec355cf",
   "metadata": {},
   "source": [
    "En utilisant `.loc[]`, on peut à la fois filtrer les observations selon une condition et ne retenir que certaines variables."
   ]
  },
  {
   "cell_type": "code",
   "execution_count": 173,
   "id": "4b0ac4cc-efdd-4ce8-8707-df09f353093e",
   "metadata": {},
   "outputs": [
    {
     "data": {
      "text/plain": [
       "date\n",
       "2022-01-02     9\n",
       "2022-01-04     8\n",
       "2022-01-05   -10\n",
       "2022-01-06    -5\n",
       "Name: var2, dtype: int64"
      ]
     },
     "execution_count": 173,
     "metadata": {},
     "output_type": "execute_result"
    }
   ],
   "source": [
    "df.loc[df[\"experiment\"] == \"train\", \"var2\"]"
   ]
  },
  {
   "cell_type": "markdown",
   "id": "c291bbef-7ddd-47f3-8cff-39bdc8611049",
   "metadata": {},
   "source": [
    "Il est bien entendu possible de filtrer les données en utilisant plusieurs conditions, combinées via un opérateur logique. Par exemple, l'opérateur ET, symbolisé par `&`. Attention, en Pandas, il est essentiel de mettre des parenthèses autour de chaque condition logique que l'on combine."
   ]
  },
  {
   "cell_type": "code",
   "execution_count": 174,
   "id": "7e15c327-6230-4fb3-a27a-99b28f87b455",
   "metadata": {},
   "outputs": [
    {
     "data": {
      "text/html": [
       "<div>\n",
       "<style scoped>\n",
       "    .dataframe tbody tr th:only-of-type {\n",
       "        vertical-align: middle;\n",
       "    }\n",
       "\n",
       "    .dataframe tbody tr th {\n",
       "        vertical-align: top;\n",
       "    }\n",
       "\n",
       "    .dataframe thead th {\n",
       "        text-align: right;\n",
       "    }\n",
       "</style>\n",
       "<table border=\"1\" class=\"dataframe\">\n",
       "  <thead>\n",
       "    <tr style=\"text-align: right;\">\n",
       "      <th></th>\n",
       "      <th>var1</th>\n",
       "      <th>var2</th>\n",
       "      <th>experiment</th>\n",
       "      <th>sample</th>\n",
       "    </tr>\n",
       "    <tr>\n",
       "      <th>date</th>\n",
       "      <th></th>\n",
       "      <th></th>\n",
       "      <th></th>\n",
       "      <th></th>\n",
       "    </tr>\n",
       "  </thead>\n",
       "  <tbody>\n",
       "    <tr>\n",
       "      <th>2022-01-04</th>\n",
       "      <td>1.0</td>\n",
       "      <td>8</td>\n",
       "      <td>train</td>\n",
       "      <td>sample1</td>\n",
       "    </tr>\n",
       "    <tr>\n",
       "      <th>2022-01-05</th>\n",
       "      <td>1.0</td>\n",
       "      <td>-10</td>\n",
       "      <td>train</td>\n",
       "      <td>sample2</td>\n",
       "    </tr>\n",
       "    <tr>\n",
       "      <th>2022-01-06</th>\n",
       "      <td>1.0</td>\n",
       "      <td>-5</td>\n",
       "      <td>train</td>\n",
       "      <td>sample3</td>\n",
       "    </tr>\n",
       "  </tbody>\n",
       "</table>\n",
       "</div>"
      ],
      "text/plain": [
       "            var1  var2 experiment   sample\n",
       "date                                      \n",
       "2022-01-04   1.0     8      train  sample1\n",
       "2022-01-05   1.0   -10      train  sample2\n",
       "2022-01-06   1.0    -5      train  sample3"
      ]
     },
     "execution_count": 174,
     "metadata": {},
     "output_type": "execute_result"
    }
   ],
   "source": [
    "df.loc[(df[\"experiment\"] == \"train\") & (df.index >= \"2022-01-04\")]"
   ]
  },
  {
   "cell_type": "markdown",
   "id": "293ef967-a525-4c93-9052-6784fc05d735",
   "metadata": {},
   "source": [
    "De même, on peut utiliser l'opérateur OU (inclusif), symbolisé par `|`."
   ]
  },
  {
   "cell_type": "code",
   "execution_count": 175,
   "id": "0c022e95-207f-4827-8290-e8c7c29a8ede",
   "metadata": {},
   "outputs": [
    {
     "data": {
      "text/html": [
       "<div>\n",
       "<style scoped>\n",
       "    .dataframe tbody tr th:only-of-type {\n",
       "        vertical-align: middle;\n",
       "    }\n",
       "\n",
       "    .dataframe tbody tr th {\n",
       "        vertical-align: top;\n",
       "    }\n",
       "\n",
       "    .dataframe thead th {\n",
       "        text-align: right;\n",
       "    }\n",
       "</style>\n",
       "<table border=\"1\" class=\"dataframe\">\n",
       "  <thead>\n",
       "    <tr style=\"text-align: right;\">\n",
       "      <th></th>\n",
       "      <th>var1</th>\n",
       "      <th>var2</th>\n",
       "      <th>experiment</th>\n",
       "      <th>sample</th>\n",
       "    </tr>\n",
       "    <tr>\n",
       "      <th>date</th>\n",
       "      <th></th>\n",
       "      <th></th>\n",
       "      <th></th>\n",
       "      <th></th>\n",
       "    </tr>\n",
       "  </thead>\n",
       "  <tbody>\n",
       "    <tr>\n",
       "      <th>2022-01-02</th>\n",
       "      <td>1.0</td>\n",
       "      <td>9</td>\n",
       "      <td>train</td>\n",
       "      <td>sample2</td>\n",
       "    </tr>\n",
       "    <tr>\n",
       "      <th>2022-01-04</th>\n",
       "      <td>1.0</td>\n",
       "      <td>8</td>\n",
       "      <td>train</td>\n",
       "      <td>sample1</td>\n",
       "    </tr>\n",
       "    <tr>\n",
       "      <th>2022-01-05</th>\n",
       "      <td>1.0</td>\n",
       "      <td>-10</td>\n",
       "      <td>train</td>\n",
       "      <td>sample2</td>\n",
       "    </tr>\n",
       "    <tr>\n",
       "      <th>2022-01-06</th>\n",
       "      <td>1.0</td>\n",
       "      <td>-5</td>\n",
       "      <td>train</td>\n",
       "      <td>sample3</td>\n",
       "    </tr>\n",
       "  </tbody>\n",
       "</table>\n",
       "</div>"
      ],
      "text/plain": [
       "            var1  var2 experiment   sample\n",
       "date                                      \n",
       "2022-01-02   1.0     9      train  sample2\n",
       "2022-01-04   1.0     8      train  sample1\n",
       "2022-01-05   1.0   -10      train  sample2\n",
       "2022-01-06   1.0    -5      train  sample3"
      ]
     },
     "execution_count": 175,
     "metadata": {},
     "output_type": "execute_result"
    }
   ],
   "source": [
    "df.loc[(df[\"experiment\"] == \"train\") | (df.index >= \"2022-01-04\")]"
   ]
  },
  {
   "cell_type": "markdown",
   "id": "8ac16fbf-0cfc-4b13-a58b-680c762e95b3",
   "metadata": {},
   "source": [
    "On remarque au passage une propriété intéressante : Pandas a automatiquement détecté que les *strings* de la colonne `date` étaient d'un type particulier (format d'une date), et nous laisse donc faire des opérations de comparaisons pour filtrer par date. Pratique !"
   ]
  },
  {
   "cell_type": "code",
   "execution_count": 176,
   "id": "f33dcdc0-da5a-40e8-82c0-45ed75085477",
   "metadata": {},
   "outputs": [
    {
     "data": {
      "text/plain": [
       "array([False, False,  True,  True,  True,  True])"
      ]
     },
     "execution_count": 176,
     "metadata": {},
     "output_type": "execute_result"
    }
   ],
   "source": [
    "df.index >= '2022-01-03'"
   ]
  },
  {
   "cell_type": "markdown",
   "id": "59f7e52e-c970-4896-8f47-0fdecbf27e73",
   "metadata": {},
   "source": [
    "Enfin, la méthode `.isin()` est très utilisée pour le fitrage de données catégorielles. Elle permet de ne retenir que les observations qui présentent certaines modalités d'une ou de plusieurs variables."
   ]
  },
  {
   "cell_type": "code",
   "execution_count": 179,
   "id": "f25ae080-1fa7-4a9f-a35e-2912b09c52af",
   "metadata": {},
   "outputs": [
    {
     "data": {
      "text/plain": [
       "date\n",
       "2022-01-01    False\n",
       "2022-01-02     True\n",
       "2022-01-03    False\n",
       "2022-01-04    False\n",
       "2022-01-05     True\n",
       "2022-01-06     True\n",
       "Name: sample, dtype: bool"
      ]
     },
     "execution_count": 179,
     "metadata": {},
     "output_type": "execute_result"
    }
   ],
   "source": [
    "df[\"sample\"].isin([\"sample2\", \"sample3\"])"
   ]
  },
  {
   "cell_type": "code",
   "execution_count": 180,
   "id": "3f5b0e99-60d7-480a-8615-257d8a2063c7",
   "metadata": {},
   "outputs": [
    {
     "data": {
      "text/html": [
       "<div>\n",
       "<style scoped>\n",
       "    .dataframe tbody tr th:only-of-type {\n",
       "        vertical-align: middle;\n",
       "    }\n",
       "\n",
       "    .dataframe tbody tr th {\n",
       "        vertical-align: top;\n",
       "    }\n",
       "\n",
       "    .dataframe thead th {\n",
       "        text-align: right;\n",
       "    }\n",
       "</style>\n",
       "<table border=\"1\" class=\"dataframe\">\n",
       "  <thead>\n",
       "    <tr style=\"text-align: right;\">\n",
       "      <th></th>\n",
       "      <th>var1</th>\n",
       "      <th>var2</th>\n",
       "      <th>experiment</th>\n",
       "      <th>sample</th>\n",
       "    </tr>\n",
       "    <tr>\n",
       "      <th>date</th>\n",
       "      <th></th>\n",
       "      <th></th>\n",
       "      <th></th>\n",
       "      <th></th>\n",
       "    </tr>\n",
       "  </thead>\n",
       "  <tbody>\n",
       "    <tr>\n",
       "      <th>2022-01-02</th>\n",
       "      <td>1.0</td>\n",
       "      <td>9</td>\n",
       "      <td>train</td>\n",
       "      <td>sample2</td>\n",
       "    </tr>\n",
       "    <tr>\n",
       "      <th>2022-01-05</th>\n",
       "      <td>1.0</td>\n",
       "      <td>-10</td>\n",
       "      <td>train</td>\n",
       "      <td>sample2</td>\n",
       "    </tr>\n",
       "    <tr>\n",
       "      <th>2022-01-06</th>\n",
       "      <td>1.0</td>\n",
       "      <td>-5</td>\n",
       "      <td>train</td>\n",
       "      <td>sample3</td>\n",
       "    </tr>\n",
       "  </tbody>\n",
       "</table>\n",
       "</div>"
      ],
      "text/plain": [
       "            var1  var2 experiment   sample\n",
       "date                                      \n",
       "2022-01-02   1.0     9      train  sample2\n",
       "2022-01-05   1.0   -10      train  sample2\n",
       "2022-01-06   1.0    -5      train  sample3"
      ]
     },
     "execution_count": 180,
     "metadata": {},
     "output_type": "execute_result"
    }
   ],
   "source": [
    "df[df[\"sample\"].isin([\"sample2\", \"sample3\"])]"
   ]
  },
  {
   "cell_type": "markdown",
   "id": "fbd6bac8-c97c-4ed5-ab1a-d40fca493a43",
   "metadata": {},
   "source": [
    "## Explorer des données tabulaires"
   ]
  },
  {
   "cell_type": "markdown",
   "id": "e61c6528-eeab-40bf-ba04-76c143f1ca24",
   "metadata": {},
   "source": [
    "### Importer des données"
   ]
  },
  {
   "cell_type": "markdown",
   "id": "c44e5a6e-9fbd-4106-95b7-9ddda3bb9e71",
   "metadata": {},
   "source": [
    "### Visualiser un échantillon des données"
   ]
  },
  {
   "cell_type": "markdown",
   "id": "e92560fa-61fc-4534-b141-528ac7daf954",
   "metadata": {},
   "source": [
    "### Obtenir une vue d'ensemble des données"
   ]
  },
  {
   "cell_type": "markdown",
   "id": "dede3550-dcdd-411c-a50d-3155d356baa3",
   "metadata": {},
   "source": [
    "### Calculer des statistiques descriptives"
   ]
  },
  {
   "cell_type": "markdown",
   "id": "8a524a13-cacc-42b0-987f-4d5bae9cdaa8",
   "metadata": {},
   "source": [
    "## Principales manipulations de données"
   ]
  },
  {
   "cell_type": "markdown",
   "id": "a12a0d4e-49f8-4a83-a689-751505a90cf6",
   "metadata": {},
   "source": [
    "### Transformer les données"
   ]
  },
  {
   "cell_type": "markdown",
   "id": "ad603caa-5042-412c-84f0-a63cef1ac7ee",
   "metadata": {},
   "source": [
    "#### Transformer un DataFrame"
   ]
  },
  {
   "cell_type": "markdown",
   "id": "005b7ca0-cf90-4490-aab9-3db4be10754a",
   "metadata": {},
   "source": [
    "#### Transformer les colonnes"
   ]
  },
  {
   "cell_type": "markdown",
   "id": "c99d2a02-34d6-4cfc-b4a0-92d7a3fed5d1",
   "metadata": {},
   "source": [
    "#### Transformer les lignes"
   ]
  },
  {
   "cell_type": "markdown",
   "id": "9fd91ef0-cc88-4755-88b8-2995d55021b5",
   "metadata": {},
   "source": [
    "### Trier les valeurs"
   ]
  },
  {
   "cell_type": "markdown",
   "id": "8055523a-9b88-41fe-8a82-248e0fa85c9c",
   "metadata": {},
   "source": [
    "### Traiter les données textuelles"
   ]
  },
  {
   "cell_type": "markdown",
   "id": "85654fc7-02b9-45d6-9837-dd8c902a3b96",
   "metadata": {
    "tags": []
   },
   "source": [
    "### Traiter les valeurs manquantes"
   ]
  },
  {
   "cell_type": "markdown",
   "id": "0456f8ee-05da-4608-a80e-6b54103facd7",
   "metadata": {},
   "source": [
    "### Opérations par groupes"
   ]
  },
  {
   "cell_type": "markdown",
   "id": "c277ae77-725a-49d4-ae6a-f968168d4de3",
   "metadata": {},
   "source": [
    "### Joindre des tables"
   ]
  },
  {
   "cell_type": "markdown",
   "id": "4fb81530-f9e7-4590-b40b-0ddefe9f1eb7",
   "metadata": {},
   "source": [
    "#### Concaténer des tables"
   ]
  },
  {
   "cell_type": "markdown",
   "id": "a0c68011-01ff-4aa9-8eb5-2623c803af64",
   "metadata": {},
   "source": [
    "#### Fusionner des tables"
   ]
  },
  {
   "cell_type": "code",
   "execution_count": null,
   "id": "a7bb6294-7b1c-46f7-9e9b-5f3b492454e5",
   "metadata": {},
   "outputs": [],
   "source": []
  }
 ],
 "metadata": {
  "kernelspec": {
   "display_name": "Python 3 (ipykernel)",
   "language": "python",
   "name": "python3"
  },
  "language_info": {
   "codemirror_mode": {
    "name": "ipython",
    "version": 3
   },
   "file_extension": ".py",
   "mimetype": "text/x-python",
   "name": "python",
   "nbconvert_exporter": "python",
   "pygments_lexer": "ipython3",
   "version": "3.10.4"
  }
 },
 "nbformat": 4,
 "nbformat_minor": 5
}
