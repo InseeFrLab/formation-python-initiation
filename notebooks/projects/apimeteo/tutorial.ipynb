{
 "cells": [
  {
   "cell_type": "markdown",
   "id": "0e403285-958f-4d64-bfa1-754a90a5cdde",
   "metadata": {},
   "source": [
    "# Projet 3 - Requêtage d'une API Météo"
   ]
  },
  {
   "cell_type": "markdown",
   "id": "fef5ed2d-e473-4a69-8fb5-4268d8bf026b",
   "metadata": {},
   "source": [
    "Ce projet a pour but d'extraire les données d'une api fournissant des données de température de montrouge au cours du temps. Ensuite nous souhaitons afficher la courbe de la température au cours du temps"
   ]
  },
  {
   "cell_type": "code",
   "execution_count": 14,
   "id": "bf0b39de-b672-485f-917e-8144d70e702c",
   "metadata": {},
   "outputs": [],
   "source": [
    "# Importaton des modules\n",
    "import requests\n",
    "import pandas as pd "
   ]
  },
  {
   "cell_type": "code",
   "execution_count": 3,
   "id": "c2d10b32-bb4b-47a6-ab94-63c38262147a",
   "metadata": {},
   "outputs": [],
   "source": [
    "response = requests.get('https://api.open-meteo.com/v1/forecast?latitude=48.82&longitude=2.31&hourly=temperature_2m')"
   ]
  },
  {
   "cell_type": "markdown",
   "id": "5f1649d1-b0c6-4ab7-ba16-143ddf0a6bf8",
   "metadata": {},
   "source": [
    "## Convertion des données en json "
   ]
  },
  {
   "cell_type": "code",
   "execution_count": 10,
   "id": "8b01abde-4c9f-4e90-a49c-d46028fcadf7",
   "metadata": {
    "tags": []
   },
   "outputs": [],
   "source": [
    "data = response.json()"
   ]
  },
  {
   "cell_type": "markdown",
   "id": "737c6aa4-0196-44a0-ad47-888ca727e617",
   "metadata": {},
   "source": [
    "## Tranformation des données en Data Frame pandas"
   ]
  },
  {
   "cell_type": "code",
   "execution_count": 34,
   "id": "2ae10de0-a486-45c7-b145-a0ef37fa8ec5",
   "metadata": {},
   "outputs": [],
   "source": [
    "timestamp = data['hourly']['time']\n",
    "temperature = data[\"hourly\"][\"temperature_2m\"]\n",
    "dict = {\"Date\" : timestamp, \"Température\" : temperature}"
   ]
  },
  {
   "cell_type": "code",
   "execution_count": 35,
   "id": "d045e36f-92e2-4094-b3ea-78fad343180d",
   "metadata": {},
   "outputs": [],
   "source": [
    "DataFrame = pd.DataFrame(dict)"
   ]
  },
  {
   "cell_type": "code",
   "execution_count": 36,
   "id": "ed769e23-ade3-4ace-8668-c3f7b7877265",
   "metadata": {},
   "outputs": [],
   "source": [
    "DataFrame.index = DataFrame['Date']\n",
    "DataFrame = DataFrame[['Température']]"
   ]
  },
  {
   "cell_type": "code",
   "execution_count": 37,
   "id": "fa5bd3e3-e2d5-4c14-80ef-f3181dc11cce",
   "metadata": {},
   "outputs": [
    {
     "data": {
      "text/html": [
       "<div>\n",
       "<style scoped>\n",
       "    .dataframe tbody tr th:only-of-type {\n",
       "        vertical-align: middle;\n",
       "    }\n",
       "\n",
       "    .dataframe tbody tr th {\n",
       "        vertical-align: top;\n",
       "    }\n",
       "\n",
       "    .dataframe thead th {\n",
       "        text-align: right;\n",
       "    }\n",
       "</style>\n",
       "<table border=\"1\" class=\"dataframe\">\n",
       "  <thead>\n",
       "    <tr style=\"text-align: right;\">\n",
       "      <th></th>\n",
       "      <th>Température</th>\n",
       "    </tr>\n",
       "    <tr>\n",
       "      <th>Date</th>\n",
       "      <th></th>\n",
       "    </tr>\n",
       "  </thead>\n",
       "  <tbody>\n",
       "    <tr>\n",
       "      <th>2023-01-16T00:00</th>\n",
       "      <td>6.2</td>\n",
       "    </tr>\n",
       "    <tr>\n",
       "      <th>2023-01-16T01:00</th>\n",
       "      <td>6.1</td>\n",
       "    </tr>\n",
       "    <tr>\n",
       "      <th>2023-01-16T02:00</th>\n",
       "      <td>6.0</td>\n",
       "    </tr>\n",
       "    <tr>\n",
       "      <th>2023-01-16T03:00</th>\n",
       "      <td>6.4</td>\n",
       "    </tr>\n",
       "    <tr>\n",
       "      <th>2023-01-16T04:00</th>\n",
       "      <td>5.8</td>\n",
       "    </tr>\n",
       "    <tr>\n",
       "      <th>...</th>\n",
       "      <td>...</td>\n",
       "    </tr>\n",
       "    <tr>\n",
       "      <th>2023-01-22T19:00</th>\n",
       "      <td>-2.0</td>\n",
       "    </tr>\n",
       "    <tr>\n",
       "      <th>2023-01-22T20:00</th>\n",
       "      <td>-2.4</td>\n",
       "    </tr>\n",
       "    <tr>\n",
       "      <th>2023-01-22T21:00</th>\n",
       "      <td>-2.9</td>\n",
       "    </tr>\n",
       "    <tr>\n",
       "      <th>2023-01-22T22:00</th>\n",
       "      <td>-3.0</td>\n",
       "    </tr>\n",
       "    <tr>\n",
       "      <th>2023-01-22T23:00</th>\n",
       "      <td>-3.0</td>\n",
       "    </tr>\n",
       "  </tbody>\n",
       "</table>\n",
       "<p>168 rows × 1 columns</p>\n",
       "</div>"
      ],
      "text/plain": [
       "                  Température\n",
       "Date                         \n",
       "2023-01-16T00:00          6.2\n",
       "2023-01-16T01:00          6.1\n",
       "2023-01-16T02:00          6.0\n",
       "2023-01-16T03:00          6.4\n",
       "2023-01-16T04:00          5.8\n",
       "...                       ...\n",
       "2023-01-22T19:00         -2.0\n",
       "2023-01-22T20:00         -2.4\n",
       "2023-01-22T21:00         -2.9\n",
       "2023-01-22T22:00         -3.0\n",
       "2023-01-22T23:00         -3.0\n",
       "\n",
       "[168 rows x 1 columns]"
      ]
     },
     "execution_count": 37,
     "metadata": {},
     "output_type": "execute_result"
    }
   ],
   "source": [
    "DataFrame\n"
   ]
  },
  {
   "cell_type": "markdown",
   "id": "3cd7aa0e-e857-468c-b5b5-6e8125702c44",
   "metadata": {},
   "source": [
    "## Affichage des température pour la journée du 1er Janvier "
   ]
  },
  {
   "cell_type": "code",
   "execution_count": 38,
   "id": "5a62e8be-866b-489f-bce5-526101979b6e",
   "metadata": {},
   "outputs": [
    {
     "data": {
      "text/plain": [
       "<AxesSubplot: xlabel='Date'>"
      ]
     },
     "execution_count": 38,
     "metadata": {},
     "output_type": "execute_result"
    },
    {
     "data": {
      "image/png": "[encoded data removed]",
      "text/plain": [
       "<Figure size 640x480 with 1 Axes>"
      ]
     },
     "metadata": {},
     "output_type": "display_data"
    }
   ],
   "source": [
    "DataFrame.plot()"
   ]
  }
 ],
 "metadata": {
  "kernelspec": {
   "display_name": "Python 3 (ipykernel)",
   "language": "python",
   "name": "python3"
  },
  "language_info": {
   "codemirror_mode": {
    "name": "ipython",
    "version": 3
   },
   "file_extension": ".py",
   "mimetype": "text/x-python",
   "name": "python",
   "nbconvert_exporter": "python",
   "pygments_lexer": "ipython3",
   "version": "3.10.4"
  }
 },
 "nbformat": 4,
 "nbformat_minor": 5
}
