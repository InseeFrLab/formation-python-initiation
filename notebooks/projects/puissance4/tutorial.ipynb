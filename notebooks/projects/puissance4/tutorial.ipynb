{
  "cells": [
    {
      "cell_type": "markdown",
      "metadata": {},
      "source": [
        "# Projet 1 - Puissance 4\n",
        "\n",
        "Un projet de code pour mettre en pratique les éléments fondamentaux de\n",
        "Python : structures de données, boucles, fonctions, conditions.\n",
        "\n",
        "Dans ce projet nous allons implémenter un puissance 4 avec une interface\n",
        "graphique assez sommaire. Pour y arriver, nous allons utiliser les\n",
        "objets fondamentaux de Python."
      ],
      "id": "2799d7a3-d04f-4f7b-9d1f-ec36cfb07df4"
    },
    {
      "cell_type": "code",
      "execution_count": 1,
      "metadata": {},
      "outputs": [],
      "source": [
        "import copy\n",
        "\n",
        "import solutions"
      ],
      "id": "6d216886"
    },
    {
      "cell_type": "markdown",
      "metadata": {},
      "source": [
        "## Règles du jeu\n",
        "\n",
        "Le but du jeu de Puissance 4 est d’aligner une suite de 4 pions de même\n",
        "couleur sur une grille comptant 6 rangées et 7 colonnes. Chaque joueur\n",
        "dispose de 21 pions d’une couleur (par convention, en général jaune ou\n",
        "rouge). Tour à tour, les deux joueurs placent un pion dans la colonne de\n",
        "leur choix, le pion coulisse alors jusqu’à la position la plus basse\n",
        "possible dans la dite colonne à la suite de quoi c’est à l’adversaire de\n",
        "jouer. Le vainqueur est le joueur qui réalise le premier un alignement\n",
        "(horizontal, vertical ou diagonal) consécutif d’au moins quatre pions de\n",
        "sa couleur. Si, alors que toutes les cases de la grille de jeu sont\n",
        "remplies, aucun des deux joueurs n’a réalisé un tel alignement, la\n",
        "partie est déclarée nulle.\n",
        "\n",
        "Afin de simplifier le code de ce projet, on partira du principe que les\n",
        "alignements victorieux ne peuvent être qu’horizontaux ou verticaux. Les\n",
        "diagonales ne seront donc pas considérées (mais constituent un exercice\n",
        "intéressant pour aller plus loin !).\n",
        "\n",
        "## Plan du projet\n",
        "\n",
        "Nous allons décomposer la construction du jeu en différentes parties : -\n",
        "initialisation de la grille - représentation de la grille - fonction de\n",
        "jeu - détection d’une victoire (horizontale) - détection d’une victoire\n",
        "(verticale) - fin de partie\n",
        "\n",
        "## Initialisation de la grille\n",
        "\n",
        "L’objectif de cette partie est d’initialiser un objet Python qui\n",
        "représente une grille de puissance 4. Le choix que nous allons faire est\n",
        "de **représenter la grille comme une liste de listes**. Il s’agira d’une\n",
        "matrice 6x7 : on aura par conséquent une **liste de 6 élements** (qui\n",
        "représenteront les lignes de la grille), dont chacun des éléments sera\n",
        "une **liste contenant 7 éléments** (qui représenterons les pions).\n",
        "\n",
        "Chaque élément de la grille sera représenté par un *string*, qui pourra\n",
        "prendre trois valeurs : - ’ ’ : s’il s’agit d’une case vide - ‘R’ : s’il\n",
        "s’agit d’un pion rouge. - ‘J’ : s’il s’agit d’un pion jaune.\n",
        "\n",
        "Dans la fonction d’initialisation de la grille, chaque élément sera donc\n",
        "initialisé comme un ***string* contenant un espace**.\n",
        "\n",
        "**Attention** : Bien faire attention à ce que les lignes soient des\n",
        "objets indépendants, autrement dit que modifier l’une des listes\n",
        "n’affecte pas les autres.\n",
        "\n",
        "### Résultat attendu"
      ],
      "id": "c66d709a-3705-4651-a128-e3b54873230e"
    },
    {
      "cell_type": "code",
      "execution_count": 2,
      "metadata": {},
      "outputs": [],
      "source": [
        "grille = solutions.initialise_grille()\n",
        "grille"
      ],
      "id": "05a24354"
    },
    {
      "cell_type": "code",
      "execution_count": 3,
      "metadata": {},
      "outputs": [],
      "source": [
        "print(f'Nombre de lignes : {len(grille)}')\n",
        "print(f'Nombre de colonnes : {len(grille[0])}')"
      ],
      "id": "27893ad0"
    },
    {
      "cell_type": "markdown",
      "metadata": {},
      "source": [
        "### A vous de jouer !"
      ],
      "id": "96a125f1-109d-4656-afde-c85da0388d43"
    },
    {
      "cell_type": "code",
      "execution_count": 4,
      "metadata": {},
      "outputs": [],
      "source": [
        "def initialise_grille():\n",
        "    # Votre code ici\n",
        "    return grille"
      ],
      "id": "7d893fe3"
    },
    {
      "cell_type": "code",
      "execution_count": 5,
      "metadata": {},
      "outputs": [],
      "source": [
        "# Vérification du résultat\n",
        "grille = initialise_grille()\n",
        "grille"
      ],
      "id": "0637ac84"
    },
    {
      "cell_type": "code",
      "execution_count": 6,
      "metadata": {},
      "outputs": [],
      "source": [
        "# Vérification du résultat\n",
        "print(f'Nombre de lignes : {len(grille)}')\n",
        "print(f'Nombre de colonnes : {len(grille[0])}')"
      ],
      "id": "52f1d062"
    },
    {
      "cell_type": "markdown",
      "metadata": {},
      "source": [
        "## Représentation de la grille\n",
        "\n",
        "Notre grille est initialisée, mais son affichage est assez sommaire.\n",
        "L’idée de cette partie est d’offrir une représentation plus visuelle du\n",
        "jeu pendant une partie.\n",
        "\n",
        "Pour cela, nous allons créer **une fonction qui prend en entrée la\n",
        "grille précédemment initialisée et renvoie sa représentation** (via la\n",
        "fonction `print`). Les colonnes seront séparées par le caractère \\|\n",
        "(barre verticale).\n",
        "\n",
        "**Indice** : une solution possible fait intervenir deux notions que nous\n",
        "avons vues dans les TP précédents : la concaténation de *strings* et la\n",
        "fonction `join` qui “joint” les éléments d’une liste en les séparant par\n",
        "un certain caractère. Pour rappel, voici un exemple qui utilise ces deux\n",
        "concepts :"
      ],
      "id": "31927f6e-68f8-47cd-bf55-1ac89e7bb153"
    },
    {
      "cell_type": "code",
      "execution_count": 7,
      "metadata": {},
      "outputs": [],
      "source": [
        "l = [\"a\", \"b\", \"c\", \"d\", \"e\"]\n",
        "l_join = \"DEBUT \" + \", \".join(l) + \" FIN\"\n",
        "print(l_join)"
      ],
      "id": "2448b444"
    },
    {
      "cell_type": "markdown",
      "metadata": {},
      "source": [
        "### Résultat attendu"
      ],
      "id": "8857d9d8-ac9f-44c1-a265-c8ebbfc61004"
    },
    {
      "cell_type": "code",
      "execution_count": 8,
      "metadata": {},
      "outputs": [],
      "source": [
        "solutions.affiche_grille(grille)"
      ],
      "id": "f29d15fd"
    },
    {
      "cell_type": "markdown",
      "metadata": {},
      "source": [
        "### A vous de jouer !"
      ],
      "id": "a6003460-615e-4038-b2b0-f0dfdc6fdc48"
    },
    {
      "cell_type": "code",
      "execution_count": 9,
      "metadata": {},
      "outputs": [],
      "source": [
        "def affiche_grille():\n",
        "    # Votre code ici"
      ],
      "id": "47b73016"
    },
    {
      "cell_type": "code",
      "execution_count": 10,
      "metadata": {},
      "outputs": [],
      "source": [
        "# Vérification du résultat\n",
        "affiche_grille(grille)"
      ],
      "id": "063fa50a"
    },
    {
      "cell_type": "markdown",
      "metadata": {},
      "source": [
        "## Fonction de jeu\n",
        "\n",
        "Maintenant que nous pouvons représenter notre grille, intéressons-nous\n",
        "au coeur du puissance 4 : le jeu. L’objectif de cette partie est de\n",
        "**coder une fonction `tour` qui va modifier la grille lorsqu’un joueur\n",
        "joue son tour**.\n",
        "\n",
        "Cette fonction prend en entrée : - la grille - la colonne choisie par le\n",
        "joueur - la couleur du pion (‘R’ pour le pion rouge, et ‘J’ pour le pion\n",
        "jaune)\n",
        "\n",
        "et renvoie en sortie la grille actualisée suite au tour du joueur.\n",
        "\n",
        "Si la colonne choisie est déjà complète, renvoyer un message d’erreur.\n",
        "\n",
        "**Attention** : en Python, la numérotation commence à 0. La première\n",
        "colonne correspond donc à la colonne 0 du point de vue de l’indexation.\n",
        "\n",
        "Optionnel : Renvoyer un message d’erreur si un joueur essaie de jouer\n",
        "dans une colonne inexistante ou bien avec une couleur non autorisée.\n",
        "\n",
        "### Résultat attendu"
      ],
      "id": "5f08b249-65c1-479b-af04-0472d9fbc143"
    },
    {
      "cell_type": "code",
      "execution_count": 11,
      "metadata": {},
      "outputs": [],
      "source": [
        "grille = solutions.initialise_grille()  # Initialisation\n",
        "grille = solutions.tour(grille=grille, colonne_a_jouer=2, couleur_pion=\"R\")  # 1er tour de jeu\n",
        "grille = solutions.tour(grille=grille, colonne_a_jouer=5, couleur_pion=\"J\")  # 2ème tour de jeu\n",
        "grille = solutions.tour(grille=grille, colonne_a_jouer=2, couleur_pion=\"R\")  # 3ème tour de jeu\n",
        "solutions.affiche_grille(grille)"
      ],
      "id": "89ff06fe"
    },
    {
      "cell_type": "markdown",
      "metadata": {},
      "source": [
        "### A vous de jouer !"
      ],
      "id": "4c81a42a-062c-403f-a6f9-74019e241c60"
    },
    {
      "cell_type": "code",
      "execution_count": 12,
      "metadata": {},
      "outputs": [],
      "source": [
        "def tour(grille, colonne_a_jouer, couleur_pion):\n",
        "    new_grille = copy.deepcopy(grille)  # Evite la modification de la grille initiale\n",
        "    # Votre code ici\n",
        "    return new_grille"
      ],
      "id": "7197ddcb"
    },
    {
      "cell_type": "code",
      "execution_count": 13,
      "metadata": {},
      "outputs": [],
      "source": [
        "# Vérification du résultat\n",
        "grille = initialise_grille()  # Initialisation\n",
        "grille = tour(grille=grille, colonne_a_jouer=2, couleur_pion=\"R\")  # 1er tour de jeu\n",
        "grille = tour(grille=grille, colonne_a_jouer=5, couleur_pion=\"J\")  # 2ème tour de jeu\n",
        "grille = tour(grille=grille, colonne_a_jouer=2, couleur_pion=\"R\")  # 3ème tour de jeu\n",
        "affiche_grille(grille)"
      ],
      "id": "b5dbffe9"
    },
    {
      "cell_type": "markdown",
      "metadata": {},
      "source": [
        "## Détection d’une victoire (horizontale)\n",
        "\n",
        "Maintenant qu’il est possible de jouer effectivement à notre puissance\n",
        "4, il faut pouvoir détecter une victoire pour mettre fin à la partie en\n",
        "cours. Pour se faire, on va simplifier le problème en le décomposant au\n",
        "maximum.\n",
        "\n",
        "Dans un premier temps, on s’intéresse à la détection d’une victoire\n",
        "horizontale. Pour cela, on va s’aider de deux fonctions : - une fonction\n",
        "`victoire_ligne` qui prend en entrée une ligne du puissance 4 (i.e. une\n",
        "liste de taille 7) et retourne `True` si jamais 4 pions consécutifs de\n",
        "même couleur se trouvent sur la ligne, et `False` sinon - une fonction\n",
        "`victoire_horizontale_grille` qui prend en entrée une grille complète et\n",
        "retourne `True` si jamais une ligne de la grille remplit la condition\n",
        "précédente, et `False` sinon\n",
        "\n",
        "### Résultat attendu"
      ],
      "id": "7c573287-1019-4656-be9d-6e754a49f98e"
    },
    {
      "cell_type": "code",
      "execution_count": 14,
      "metadata": {},
      "outputs": [],
      "source": [
        "# Détection d'une victoire (horizontale) sur une ligne\n",
        "ligne1 = [\" \", \"R\", \"R\", \"R\", \"J\", \"J\", \" \"]\n",
        "ligne2 = [\" \", \"R\", \"R\", \"R\", \"R\", \"J\", \" \"]\n",
        "\n",
        "print(solutions.victoire_ligne(ligne1))  # Renvoie False\n",
        "print()  # Retour à la ligne\n",
        "print(solutions.victoire_ligne(ligne2))  # Renvoie True"
      ],
      "id": "4a553079"
    },
    {
      "cell_type": "code",
      "execution_count": 15,
      "metadata": {},
      "outputs": [],
      "source": [
        "# Détection d'une victoire (horizontale) sur une grille\n",
        "grille = solutions.initialise_grille()  # Initialisation\n",
        "print(solutions.victoire_horizontale_grille(grille))  # Renvoie False\n",
        "print()  # Retour à la ligne\n",
        "\n",
        "grille = solutions.tour(grille=grille, colonne_a_jouer=2, couleur_pion=\"R\")\n",
        "grille = solutions.tour(grille=grille, colonne_a_jouer=3, couleur_pion=\"R\")\n",
        "grille = solutions.tour(grille=grille, colonne_a_jouer=4, couleur_pion=\"R\")\n",
        "grille = solutions.tour(grille=grille, colonne_a_jouer=5, couleur_pion=\"R\")\n",
        "solutions.affiche_grille(grille)\n",
        "print()  # Retour à la ligne\n",
        "\n",
        "print(solutions.victoire_horizontale_grille(grille))  # Renvoie True"
      ],
      "id": "1d9090a5"
    },
    {
      "cell_type": "markdown",
      "metadata": {},
      "source": [
        "### A vous de jouer !"
      ],
      "id": "a6ad9331-78b8-4621-a3f9-d5e1c5b49189"
    },
    {
      "cell_type": "code",
      "execution_count": 16,
      "metadata": {},
      "outputs": [],
      "source": [
        "def victoire_ligne(ligne):\n",
        "    # Votre code ici"
      ],
      "id": "2dad4176"
    },
    {
      "cell_type": "code",
      "execution_count": 17,
      "metadata": {},
      "outputs": [],
      "source": [
        "# Vérification du résultat\n",
        "ligne1 = [\" \", \"R\", \"R\", \"R\", \"J\", \"R\", \" \"]\n",
        "ligne2 = [\" \", \"R\", \"R\", \"R\", \"R\", \"J\", \" \"]\n",
        "\n",
        "print(victoire_ligne(ligne1))  # Renvoie False\n",
        "print(victoire_ligne(ligne2))  # Renvoie True"
      ],
      "id": "46163494"
    },
    {
      "cell_type": "code",
      "execution_count": 18,
      "metadata": {},
      "outputs": [],
      "source": [
        "def victoire_horizontale_grille(grille):\n",
        "    # Votre code ici"
      ],
      "id": "bb4fb98d"
    },
    {
      "cell_type": "code",
      "execution_count": 19,
      "metadata": {},
      "outputs": [],
      "source": [
        "# Vérification du résultat\n",
        "grille = initialise_grille()  # Initialisation\n",
        "print(victoire_horizontale_grille(grille))  # Renvoie False\n",
        "\n",
        "grille = tour(grille=grille, colonne_a_jouer=2, couleur_pion=\"R\")\n",
        "grille = tour(grille=grille, colonne_a_jouer=3, couleur_pion=\"R\")\n",
        "grille = tour(grille=grille, colonne_a_jouer=4, couleur_pion=\"R\")\n",
        "grille = tour(grille=grille, colonne_a_jouer=5, couleur_pion=\"R\")\n",
        "affiche_grille(grille)\n",
        "print(victoire_horizontale_grille(grille))  # Renvoie True"
      ],
      "id": "e7c2d245"
    },
    {
      "cell_type": "markdown",
      "metadata": {},
      "source": [
        "## Détection d’une victoire (verticale)\n",
        "\n",
        "A présent, on s’intéresse à la détection d’une victoire verticale. Par\n",
        "rapport à la situation précédente, la difficulté est que l’on ne peut\n",
        "pas directement boucler sur les colonnes. On va donc construire une\n",
        "fonction `victoire_verticale_grille` qui, pour chaque colonne : -\n",
        "récupère les éléments de la colonne dans une liste - applique à cette\n",
        "liste la fonction `victoire_ligne` pour vérifier la présence de 4 pions\n",
        "consécutifs de même couleur dans la colonne considérée\n",
        "\n",
        "### Résultat attendu"
      ],
      "id": "11d43344-571c-461a-9c06-3a8d1d695fc0"
    },
    {
      "cell_type": "code",
      "execution_count": 20,
      "metadata": {},
      "outputs": [],
      "source": [
        "# Détection d'une victoire (verticale) sur une grille\n",
        "grille = solutions.initialise_grille()  # Initialisation\n",
        "print(solutions.victoire_verticale_grille(grille))  # Renvoie False\n",
        "print()  # Retour à la ligne\n",
        "\n",
        "grille = solutions.tour(grille=grille, colonne_a_jouer=2, couleur_pion=\"J\")\n",
        "grille = solutions.tour(grille=grille, colonne_a_jouer=2, couleur_pion=\"J\")\n",
        "grille = solutions.tour(grille=grille, colonne_a_jouer=2, couleur_pion=\"J\")\n",
        "grille = solutions.tour(grille=grille, colonne_a_jouer=2, couleur_pion=\"J\")\n",
        "solutions.affiche_grille(grille)\n",
        "print()  # Retour à la ligne\n",
        "\n",
        "print(solutions.victoire_verticale_grille(grille))  # Renvoie True"
      ],
      "id": "9ed95c2e"
    },
    {
      "cell_type": "markdown",
      "metadata": {},
      "source": [
        "### A vous de jouer !"
      ],
      "id": "6e205a31-3668-45a8-998e-02cccd2b9c51"
    },
    {
      "cell_type": "code",
      "execution_count": 21,
      "metadata": {},
      "outputs": [],
      "source": [
        "def victoire_verticale_grille(grille):\n",
        "    # Votre code ici"
      ],
      "id": "6fc6e1db"
    },
    {
      "cell_type": "code",
      "execution_count": 22,
      "metadata": {},
      "outputs": [],
      "source": [
        "# Vérification du résultat\n",
        "grille = initialise_grille()  # Initialisation\n",
        "print(victoire_verticale_grille(grille))  # Renvoie False\n",
        "print()  # Retour à la ligne\n",
        "\n",
        "grille = tour(grille=grille, colonne_a_jouer=2, couleur_pion=\"J\")\n",
        "grille = tour(grille=grille, colonne_a_jouer=2, couleur_pion=\"J\")\n",
        "grille = tour(grille=grille, colonne_a_jouer=2, couleur_pion=\"J\")\n",
        "grille = tour(grille=grille, colonne_a_jouer=2, couleur_pion=\"J\")\n",
        "affiche_grille(grille)\n",
        "print()  # Retour à la ligne\n",
        "\n",
        "print(victoire_verticale_grille(grille))  # Renvoie True"
      ],
      "id": "1163717a"
    },
    {
      "cell_type": "markdown",
      "metadata": {},
      "source": [
        "## Fin de partie\n",
        "\n",
        "Dans notre version simplifiée du puissance 4, on peut à présent déclarer\n",
        "la **fin de partie : dès lors qu’une victoire horizontale ou verticale\n",
        "est détectée**.\n",
        "\n",
        "On va donc pour commencer créer une fonction `victoire` qui prend la\n",
        "grille en entrée et renvoie `True` si une victoire horizontale **ou**\n",
        "verticale est détectée, et `False` sinon.\n",
        "\n",
        "Dans l’idéal, on voudrait ne pas avoir à tester manuellement après\n",
        "chaque coup si la partie est terminée afin de limiter la duplication de\n",
        "code. On va donc ensuite créer une fonction `tour_test_victoire` qui : -\n",
        "prend en entrée les mêmes *inputs* que la fonction `tour` - va appeler\n",
        "la fonction `tour` pour réaliser le tour de jeu - va tester après le\n",
        "tour de jeu si une victoire est détectée via la fonction `victoire`. Si\n",
        "une victoire est détectée, la fonction imprime “FIN DE PARTIE”.\n",
        "\n",
        "### Résultat attendu"
      ],
      "id": "2a260cc8-6d30-40a7-9511-b3950817c808"
    },
    {
      "cell_type": "code",
      "execution_count": 23,
      "metadata": {},
      "outputs": [],
      "source": [
        "grille = solutions.initialise_grille()  # Initialisation\n",
        "print(\"Tour 1\")\n",
        "grille = solutions.tour_test_victoire(grille=grille, colonne_a_jouer=2, couleur_pion=\"J\")\n",
        "print(\"Tour 2\")\n",
        "grille = solutions.tour_test_victoire(grille=grille, colonne_a_jouer=2, couleur_pion=\"J\")\n",
        "print(\"Tour 3\")\n",
        "grille = solutions.tour_test_victoire(grille=grille, colonne_a_jouer=2, couleur_pion=\"J\")\n",
        "print(\"Tour 4\")\n",
        "grille = solutions.tour_test_victoire(grille=grille, colonne_a_jouer=2, couleur_pion=\"J\")"
      ],
      "id": "616fa7e5"
    },
    {
      "cell_type": "markdown",
      "metadata": {},
      "source": [
        "### A vous de jouer !"
      ],
      "id": "f490495b-ff97-4f5d-8e4f-a3d347dc194d"
    },
    {
      "cell_type": "code",
      "execution_count": 24,
      "metadata": {},
      "outputs": [],
      "source": [
        "def victoire(grille):\n",
        "    # Votre code ici"
      ],
      "id": "33d70b5b"
    },
    {
      "cell_type": "code",
      "execution_count": 25,
      "metadata": {},
      "outputs": [],
      "source": [
        "def tour_test_victoire(grille, colonne_a_jouer, couleur_pion):\n",
        "    grille = copy.deepcopy(grille)\n",
        "    # Votre code ici\n",
        "    return grille"
      ],
      "id": "07469437"
    },
    {
      "cell_type": "code",
      "execution_count": 26,
      "metadata": {},
      "outputs": [],
      "source": [
        "# Vérification du résultat\n",
        "grille = initialise_grille()  # Initialisation\n",
        "print(\"Tour 1\")\n",
        "grille = tour_test_victoire(grille=grille, colonne_a_jouer=2, couleur_pion=\"J\")\n",
        "print(\"Tour 2\")\n",
        "grille = tour_test_victoire(grille=grille, colonne_a_jouer=2, couleur_pion=\"J\")\n",
        "print(\"Tour 3\")\n",
        "grille = tour_test_victoire(grille=grille, colonne_a_jouer=2, couleur_pion=\"J\")\n",
        "print(\"Tour 4\")\n",
        "grille = tour_test_victoire(grille=grille, colonne_a_jouer=2, couleur_pion=\"J\")"
      ],
      "id": "76fc82fc"
    }
  ],
  "nbformat": 4,
  "nbformat_minor": 5,
  "metadata": {
    "kernelspec": {
      "name": "python3",
      "display_name": "Python 3 (ipykernel)",
      "language": "python"
    },
    "language_info": {
      "name": "python",
      "codemirror_mode": {
        "name": "ipython",
        "version": "3"
      },
      "file_extension": ".py",
      "mimetype": "text/x-python",
      "nbconvert_exporter": "python",
      "pygments_lexer": "ipython3",
      "version": "3.10.12"
    }
  }
}