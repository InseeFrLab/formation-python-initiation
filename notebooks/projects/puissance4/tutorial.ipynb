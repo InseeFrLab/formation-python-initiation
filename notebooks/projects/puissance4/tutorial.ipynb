{
 "cells": [
  {
   "cell_type": "markdown",
   "id": "789d01c3",
   "metadata": {},
   "source": [
    "# Projet 1 - Puissance 4"
   ]
  },
  {
   "cell_type": "markdown",
   "id": "870d9c76",
   "metadata": {},
   "source": [
    "Dans ce projet nous allons implémenter un puissance 4 avec une interface graphique assez sommaire. Pour y arriver, nous allons utiliser les objets fondamentaux de Python."
   ]
  },
  {
   "cell_type": "code",
   "execution_count": null,
   "id": "0ea37e3a",
   "metadata": {},
   "outputs": [],
   "source": [
    "import copy\n",
    "import solutions"
   ]
  },
  {
   "cell_type": "markdown",
   "id": "2808db05",
   "metadata": {},
   "source": [
    "## Règles du jeu\n",
    "\n",
    "Le but du jeu de Puissance 4 est d'aligner une suite de 4 pions de même couleur sur une grille comptant 6 rangées et 7 colonnes. Chaque joueur dispose de 21 pions d'une couleur (par convention, en général jaune ou rouge). Tour à tour, les deux joueurs placent un pion dans la colonne de leur choix, le pion coulisse alors jusqu'à la position la plus basse possible dans la dite colonne à la suite de quoi c'est à l'adversaire de jouer. Le vainqueur est le joueur qui réalise le premier un alignement (horizontal, vertical ou diagonal) consécutif d'au moins quatre pions de sa couleur. Si, alors que toutes les cases de la grille de jeu sont remplies, aucun des deux joueurs n'a réalisé un tel alignement, la partie est déclarée nulle.\n",
    "\n",
    "Afin de simplifier le code de ce projet, on partira du principe que les alignements victorieux ne peuvent être qu'horizontaux ou verticaux. Les diagonales ne seront donc pas considérées (mais constituent un exercice intéressant pour aller plus loin !).\n",
    "\n",
    "## Plan du projet\n",
    "\n",
    "Nous allons décomposer la construction du jeu en différentes parties :\n",
    "- initialisation de la grille\n",
    "- représentation de la grille\n",
    "- fonction de jeu\n",
    "- détection d'une victoire (horizontale)\n",
    "- détection d'une victoire (verticale)\n",
    "- fin de partie\n",
    "\n",
    "## Initialisation de la grille\n",
    "\n",
    "L'objectif de cette partie est d'initialiser un objet Python qui représente une grille de puissance 4. Le choix que nous allons faire est de **représenter la grille comme une liste de listes**. Il s'agira d'une matrice 6x7 : on aura par conséquent une **liste de 6 élements** (qui représenteront les lignes de la grille), dont chacun des éléments sera une **liste contenant 7 éléments** (qui représenterons les pions). \n",
    "\n",
    "Chaque élément de la grille sera représenté par un *string*, qui pourra prendre trois valeurs :\n",
    "- ' ' : s'il s'agit d'une case vide\n",
    "- 'R' : s'il s'agit d'un pion rouge. \n",
    "- 'J' : s'il s'agit d'un pion jaune. \n",
    "\n",
    "Dans la fonction d'initialisation de la grille, chaque élément sera donc initialisé comme un ***string* contenant un espace**.\n",
    "\n",
    "**Attention** : Bien faire attention à ce que les lignes soient des objets indépendants, autrement dit que modifier l'une des listes n'affecte pas les autres.\n",
    "\n",
    "### Résultat attendu\n"
   ]
  },
  {
   "cell_type": "code",
   "execution_count": null,
   "id": "a8347610",
   "metadata": {
    "lines_to_next_cell": 2
   },
   "outputs": [],
   "source": [
    "grille = solutions.initialise_grille()\n",
    "grille"
   ]
  },
  {
   "cell_type": "code",
   "execution_count": null,
   "id": "f8f194cd",
   "metadata": {},
   "outputs": [],
   "source": [
    "print(f'Nombre de lignes : {len(grille)}')\n",
    "print(f'Nombre de colonnes : {len(grille[0])}')"
   ]
  },
  {
   "cell_type": "markdown",
   "id": "bc0e54fe",
   "metadata": {},
   "source": [
    "### A vous de jouer !\n"
   ]
  },
  {
   "cell_type": "code",
   "execution_count": null,
   "id": "83e791ab",
   "metadata": {
    "lines_to_next_cell": 2
   },
   "outputs": [],
   "source": [
    "def initialise_grille():\n",
    "    # Votre code ici\n",
    "    return grille"
   ]
  },
  {
   "cell_type": "code",
   "execution_count": null,
   "id": "2727e8e6",
   "metadata": {
    "lines_to_next_cell": 2
   },
   "outputs": [],
   "source": [
    "# Vérification du résultat\n",
    "grille = initialise_grille()\n",
    "grille"
   ]
  },
  {
   "cell_type": "code",
   "execution_count": null,
   "id": "26b5a532",
   "metadata": {},
   "outputs": [],
   "source": [
    "# Vérification du résultat\n",
    "print(f'Nombre de lignes : {len(grille)}')\n",
    "print(f'Nombre de colonnes : {len(grille[0])}')"
   ]
  },
  {
   "cell_type": "markdown",
   "id": "599e10dd",
   "metadata": {},
   "source": [
    "## Représentation de la grille\n",
    "\n",
    "Notre grille est initialisée, mais son affichage est assez sommaire. L'idée de cette partie est d'offrir une représentation plus visuelle du jeu pendant une partie.\n",
    "\n",
    "Pour cela, nous allons créer **une fonction qui prend en entrée la grille précédemment initialisée et renvoie sa représentation** (via la fonction `print`). Les colonnes seront séparées par le caractère | (barre verticale).\n",
    "\n",
    "**Indice** : une solution possible fait intervenir deux notions que nous avons vues dans les TP précédents : la concaténation de *strings* et la fonction `join` qui \"joint\" les éléments d'une liste en les séparant par un certain caractère. Pour rappel, voici un exemple qui utilise ces deux concepts : \n"
   ]
  },
  {
   "cell_type": "code",
   "execution_count": null,
   "id": "939dc754",
   "metadata": {},
   "outputs": [],
   "source": [
    "l = [\"a\", \"b\", \"c\", \"d\", \"e\"]\n",
    "l_join = \"DEBUT \" + \", \".join(l) + \" FIN\"\n",
    "print(l_join)"
   ]
  },
  {
   "cell_type": "markdown",
   "id": "3a8d1c65",
   "metadata": {},
   "source": [
    "### Résultat attendu\n"
   ]
  },
  {
   "cell_type": "code",
   "execution_count": null,
   "id": "64beb13d",
   "metadata": {},
   "outputs": [],
   "source": [
    "solutions.affiche_grille(grille)"
   ]
  },
  {
   "cell_type": "markdown",
   "id": "b9f218f3",
   "metadata": {},
   "source": [
    "### A vous de jouer !\n"
   ]
  },
  {
   "cell_type": "code",
   "execution_count": null,
   "id": "c8c8293d",
   "metadata": {
    "lines_to_next_cell": 2
   },
   "outputs": [],
   "source": [
    "def affiche_grille():\n",
    "    # Votre code ici"
   ]
  },
  {
   "cell_type": "code",
   "execution_count": null,
   "id": "0fb7827d",
   "metadata": {},
   "outputs": [],
   "source": [
    "# Vérification du résultat\n",
    "affiche_grille(grille)"
   ]
  },
  {
   "cell_type": "markdown",
   "id": "2685b778",
   "metadata": {},
   "source": [
    "## Fonction de jeu\n",
    "\n",
    "Maintenant que nous pouvons représenter notre grille, intéressons-nous au coeur du puissance 4 : le jeu. L'objectif de cette partie est de **coder une fonction `tour` qui va modifier la grille lorsqu'un joueur joue son tour**.\n",
    "\n",
    "Cette fonction prend en entrée :\n",
    "- la grille\n",
    "- la colonne choisie par le joueur\n",
    "- la couleur du pion ('R' pour le pion rouge, et 'J' pour le pion jaune)\n",
    "\n",
    "et renvoie en sortie la grille actualisée suite au tour du joueur.\n",
    "\n",
    "Si la colonne choisie est déjà complète, renvoyer un message d'erreur.\n",
    "\n",
    "**Attention** : en Python, la numérotation commence à 0. La première colonne correspond donc à la colonne 0 du point de vue de l'indexation.\n",
    "\n",
    "Optionnel : Renvoyer un message d'erreur si un joueur essaie de jouer dans une colonne inexistante ou bien avec une couleur non autorisée.\n",
    "\n",
    "### Résultat attendu\n"
   ]
  },
  {
   "cell_type": "code",
   "execution_count": null,
   "id": "9134e2bd",
   "metadata": {},
   "outputs": [],
   "source": [
    "grille = solutions.initialise_grille()  # Initialisation\n",
    "grille = solutions.tour(grille=grille, colonne_a_jouer=2, couleur_pion=\"R\")  # 1er tour de jeu\n",
    "grille = solutions.tour(grille=grille, colonne_a_jouer=5, couleur_pion=\"J\")  # 2ème tour de jeu\n",
    "grille = solutions.tour(grille=grille, colonne_a_jouer=2, couleur_pion=\"R\")  # 3ème tour de jeu\n",
    "solutions.affiche_grille(grille)"
   ]
  },
  {
   "cell_type": "markdown",
   "id": "d3f84d55",
   "metadata": {},
   "source": [
    "### A vous de jouer !\n"
   ]
  },
  {
   "cell_type": "code",
   "execution_count": null,
   "id": "148e080a",
   "metadata": {
    "lines_to_next_cell": 2
   },
   "outputs": [],
   "source": [
    "def tour(grille, colonne_a_jouer, couleur_pion):\n",
    "    new_grille = copy.deepcopy(grille)  # Evite la modification de la grille initiale\n",
    "    # Votre code ici\n",
    "    return new_grille"
   ]
  },
  {
   "cell_type": "code",
   "execution_count": null,
   "id": "3491ee0e",
   "metadata": {},
   "outputs": [],
   "source": [
    "# Vérification du résultat\n",
    "grille = initialise_grille()  # Initialisation\n",
    "grille = tour(grille=grille, colonne_a_jouer=2, couleur_pion=\"R\")  # 1er tour de jeu\n",
    "grille = tour(grille=grille, colonne_a_jouer=5, couleur_pion=\"J\")  # 2ème tour de jeu\n",
    "grille = tour(grille=grille, colonne_a_jouer=2, couleur_pion=\"R\")  # 3ème tour de jeu\n",
    "affiche_grille(grille)"
   ]
  },
  {
   "cell_type": "markdown",
   "id": "b206b815",
   "metadata": {},
   "source": [
    "## Détection d'une victoire (horizontale)\n",
    "\n",
    "Maintenant qu'il est possible de jouer effectivement à notre puissance 4, il faut pouvoir détecter une victoire pour mettre fin à la partie en cours. Pour se faire, on va simplifier le problème en le décomposant au maximum.\n",
    "\n",
    "Dans un premier temps, on s'intéresse à la détection d'une victoire horizontale. Pour cela, on va s'aider de deux fonctions :\n",
    "- une fonction `victoire_ligne` qui prend en entrée une ligne du puissance 4 (i.e. une liste de taille 7) et retourne `True` si jamais 4 pions consécutifs de même couleur se trouvent sur la ligne, et `False` sinon\n",
    "- une fonction `victoire_horizontale_grille` qui prend en entrée une grille complète et retourne `True` si jamais une ligne de la grille remplit la condition précédente, et `False` sinon\n",
    "\n",
    "### Résultat attendu\n"
   ]
  },
  {
   "cell_type": "code",
   "execution_count": null,
   "id": "dd86339d",
   "metadata": {
    "lines_to_next_cell": 2
   },
   "outputs": [],
   "source": [
    "# Détection d'une victoire (horizontale) sur une ligne\n",
    "ligne1 = [\" \", \"R\", \"R\", \"R\", \"J\", \"J\", \" \"]\n",
    "ligne2 = [\" \", \"R\", \"R\", \"R\", \"R\", \"J\", \" \"]\n",
    "\n",
    "print(solutions.victoire_ligne(ligne1))  # Renvoie False\n",
    "print()  # Retour à la ligne\n",
    "print(solutions.victoire_ligne(ligne2))  # Renvoie True"
   ]
  },
  {
   "cell_type": "code",
   "execution_count": null,
   "id": "b2e8eda6",
   "metadata": {},
   "outputs": [],
   "source": [
    "# Détection d'une victoire (horizontale) sur une grille\n",
    "grille = solutions.initialise_grille()  # Initialisation\n",
    "print(solutions.victoire_horizontale_grille(grille))  # Renvoie False\n",
    "print()  # Retour à la ligne\n",
    "\n",
    "grille = solutions.tour(grille=grille, colonne_a_jouer=2, couleur_pion=\"R\")\n",
    "grille = solutions.tour(grille=grille, colonne_a_jouer=3, couleur_pion=\"R\")\n",
    "grille = solutions.tour(grille=grille, colonne_a_jouer=4, couleur_pion=\"R\")\n",
    "grille = solutions.tour(grille=grille, colonne_a_jouer=5, couleur_pion=\"R\")\n",
    "solutions.affiche_grille(grille)\n",
    "print()  # Retour à la ligne\n",
    "\n",
    "print(solutions.victoire_horizontale_grille(grille))  # Renvoie True"
   ]
  },
  {
   "cell_type": "markdown",
   "id": "fdf2a9db",
   "metadata": {},
   "source": [
    "### A vous de jouer !\n"
   ]
  },
  {
   "cell_type": "code",
   "execution_count": null,
   "id": "c1cc0ac5",
   "metadata": {
    "lines_to_next_cell": 2
   },
   "outputs": [],
   "source": [
    "def victoire_ligne(ligne):\n",
    "    # Votre code ici"
   ]
  },
  {
   "cell_type": "code",
   "execution_count": null,
   "id": "d2b804e6",
   "metadata": {
    "lines_to_next_cell": 2
   },
   "outputs": [],
   "source": [
    "# Vérification du résultat\n",
    "ligne1 = [\" \", \"R\", \"R\", \"R\", \"J\", \"R\", \" \"]\n",
    "ligne2 = [\" \", \"R\", \"R\", \"R\", \"R\", \"J\", \" \"]\n",
    "\n",
    "print(victoire_ligne(ligne1))  # Renvoie False\n",
    "print(victoire_ligne(ligne2))  # Renvoie True"
   ]
  },
  {
   "cell_type": "code",
   "execution_count": null,
   "id": "24853314",
   "metadata": {
    "lines_to_next_cell": 2
   },
   "outputs": [],
   "source": [
    "def victoire_horizontale_grille(grille):\n",
    "    # Votre code ici"
   ]
  },
  {
   "cell_type": "code",
   "execution_count": null,
   "id": "d5bbdca4",
   "metadata": {},
   "outputs": [],
   "source": [
    "# Vérification du résultat\n",
    "grille = initialise_grille()  # Initialisation\n",
    "print(victoire_horizontale_grille(grille))  # Renvoie False\n",
    "\n",
    "grille = tour(grille=grille, colonne_a_jouer=2, couleur_pion=\"R\")\n",
    "grille = tour(grille=grille, colonne_a_jouer=3, couleur_pion=\"R\")\n",
    "grille = tour(grille=grille, colonne_a_jouer=4, couleur_pion=\"R\")\n",
    "grille = tour(grille=grille, colonne_a_jouer=5, couleur_pion=\"R\")\n",
    "affiche_grille(grille)\n",
    "print(victoire_horizontale_grille(grille))  # Renvoie True"
   ]
  },
  {
   "cell_type": "markdown",
   "id": "a4221b65",
   "metadata": {},
   "source": [
    "## Détection d'une victoire (verticale)\n",
    "\n",
    "A présent, on s'intéresse à la détection d'une victoire verticale. Par rapport à la situation précédente, la difficulté est que l'on ne peut pas directement boucler sur les colonnes. On va donc construire une fonction `victoire_verticale_grille` qui, pour chaque colonne :\n",
    "- récupère les éléments de la colonne dans une liste\n",
    "- applique à cette liste la fonction `victoire_ligne` pour vérifier la présence de 4 pions consécutifs de même couleur dans la colonne considérée\n",
    "\n",
    "### Résultat attendu\n"
   ]
  },
  {
   "cell_type": "code",
   "execution_count": null,
   "id": "a559af18",
   "metadata": {},
   "outputs": [],
   "source": [
    "# Détection d'une victoire (verticale) sur une grille\n",
    "grille = solutions.initialise_grille()  # Initialisation\n",
    "print(solutions.victoire_verticale_grille(grille))  # Renvoie False\n",
    "print()  # Retour à la ligne\n",
    "\n",
    "grille = solutions.tour(grille=grille, colonne_a_jouer=2, couleur_pion=\"J\")\n",
    "grille = solutions.tour(grille=grille, colonne_a_jouer=2, couleur_pion=\"J\")\n",
    "grille = solutions.tour(grille=grille, colonne_a_jouer=2, couleur_pion=\"J\")\n",
    "grille = solutions.tour(grille=grille, colonne_a_jouer=2, couleur_pion=\"J\")\n",
    "solutions.affiche_grille(grille)\n",
    "print()  # Retour à la ligne\n",
    "\n",
    "print(solutions.victoire_verticale_grille(grille))  # Renvoie True"
   ]
  },
  {
   "cell_type": "markdown",
   "id": "80b40b1b",
   "metadata": {},
   "source": [
    "### A vous de jouer !\n"
   ]
  },
  {
   "cell_type": "code",
   "execution_count": null,
   "id": "7004f3b1",
   "metadata": {
    "lines_to_next_cell": 2
   },
   "outputs": [],
   "source": [
    "def victoire_verticale_grille(grille):\n",
    "    # Votre code ici"
   ]
  },
  {
   "cell_type": "code",
   "execution_count": null,
   "id": "22f804ce",
   "metadata": {},
   "outputs": [],
   "source": [
    "# Vérification du résultat\n",
    "grille = initialise_grille()  # Initialisation\n",
    "print(victoire_verticale_grille(grille))  # Renvoie False\n",
    "print()  # Retour à la ligne\n",
    "\n",
    "grille = tour(grille=grille, colonne_a_jouer=2, couleur_pion=\"J\")\n",
    "grille = tour(grille=grille, colonne_a_jouer=2, couleur_pion=\"J\")\n",
    "grille = tour(grille=grille, colonne_a_jouer=2, couleur_pion=\"J\")\n",
    "grille = tour(grille=grille, colonne_a_jouer=2, couleur_pion=\"J\")\n",
    "affiche_grille(grille)\n",
    "print()  # Retour à la ligne\n",
    "\n",
    "print(victoire_verticale_grille(grille))  # Renvoie True"
   ]
  },
  {
   "cell_type": "markdown",
   "id": "89ff6546-0395-49fe-9eb1-774f9fe2b29d",
   "metadata": {},
   "source": [
    "## Détection d'une victoire (diagonale)\n",
    "\n",
    "Contrairement à la victoire vertical ou honrizontal, la victoire diagonal est légèrement plus difficile car les changements de coordonnées de la colonne et de la ligne changent simultanément. \n",
    "\n",
    "Voici un schéma permettant de comprendre comment les coordonnées doivent changer pour la direction diagonale. \n",
    "\n"
   ]
  },
  {
   "cell_type": "markdown",
   "id": "9011cef3-6dc4-4938-9ddc-62bb011956bb",
   "metadata": {},
   "source": [
    "<div>\n",
    "<img src=\"img/Indicage_grille.png\" width=\"400\">\n",
    "</div>"
   ]
  },
  {
   "cell_type": "markdown",
   "id": "ad1e7740-63cf-43f8-b2bc-2927ceca844c",
   "metadata": {},
   "source": [
    "Par exemple, on observe que pour la diagonale haute on passe de la coordonnée : (2,3) à (3,2), et que pour la diagonale basse on passe de (2,3) à (3,4).\n",
    "\n",
    "Plus généralement : \n",
    "- Pour la diagonale haute on passe de (i,j) à (i+1, j-1)\n",
    "- Pour la diagonale basse on passe de (i, j) à (i + 1, j + 1)\n",
    "\n",
    "\n",
    "\n",
    "\n",
    "\n"
   ]
  },
  {
   "cell_type": "markdown",
   "id": "570e8287-1062-4aa9-86f8-0b5bcbfd6d88",
   "metadata": {},
   "source": [
    "## Résultat Attendu "
   ]
  },
  {
   "cell_type": "code",
   "execution_count": null,
   "id": "a5c96852-688d-4a8f-9507-351d00b7a6b7",
   "metadata": {},
   "outputs": [],
   "source": [
    "##### A voir "
   ]
  },
  {
   "cell_type": "markdown",
   "id": "f2b832b3",
   "metadata": {},
   "source": [
    "## Fin de partie\n",
    "\n",
    "Dans notre version simplifiée du puissance 4, on peut à présent déclarer la **fin de partie : dès lors qu'une victoire horizontale ou verticale est détectée**.\n",
    "\n",
    "On va donc pour commencer créer une fonction `victoire` qui prend la grille en entrée et renvoie `True` si une victoire horizontale **ou** verticale est détectée, et `False` sinon.\n",
    "\n",
    "Dans l'idéal, on voudrait ne pas avoir à tester manuellement après chaque coup si la partie est terminée afin de limiter la duplication de code. On va donc ensuite créer une fonction `tour_test_victoire` qui :\n",
    "- prend en entrée les mêmes *inputs* que la fonction `tour`\n",
    "- va appeler la fonction `tour` pour réaliser le tour de jeu\n",
    "- va tester après le tour de jeu si une victoire est détectée via la fonction `victoire`. Si une victoire est détectée, la fonction imprime \"FIN DE PARTIE\".\n",
    "\n",
    "### Résultat attendu\n"
   ]
  },
  {
   "cell_type": "code",
   "execution_count": null,
   "id": "e2a129fa",
   "metadata": {
    "lines_to_next_cell": 2
   },
   "outputs": [],
   "source": [
    "grille = solutions.initialise_grille()  # Initialisation\n",
    "print(\"Tour 1\")\n",
    "grille = solutions.tour_test_victoire(grille=grille, colonne_a_jouer=2, couleur_pion=\"J\")\n",
    "print(\"Tour 2\")\n",
    "grille = solutions.tour_test_victoire(grille=grille, colonne_a_jouer=2, couleur_pion=\"J\")\n",
    "print(\"Tour 3\")\n",
    "grille = solutions.tour_test_victoire(grille=grille, colonne_a_jouer=2, couleur_pion=\"J\")\n",
    "print(\"Tour 4\")\n",
    "grille = solutions.tour_test_victoire(grille=grille, colonne_a_jouer=2, couleur_pion=\"J\")"
   ]
  },
  {
   "cell_type": "markdown",
   "id": "3cc67433",
   "metadata": {},
   "source": [
    "### A vous de jouer !\n"
   ]
  },
  {
   "cell_type": "code",
   "execution_count": null,
   "id": "acc92938",
   "metadata": {
    "lines_to_next_cell": 2
   },
   "outputs": [],
   "source": [
    "def victoire(grille):\n",
    "    # Votre code ici"
   ]
  },
  {
   "cell_type": "code",
   "execution_count": null,
   "id": "75ed602c",
   "metadata": {
    "lines_to_next_cell": 2
   },
   "outputs": [],
   "source": [
    "def tour_test_victoire(grille, colonne_a_jouer, couleur_pion):\n",
    "    grille = copy.deepcopy(grille)\n",
    "    # Votre code ici\n",
    "    return grille"
   ]
  },
  {
   "cell_type": "code",
   "execution_count": null,
   "id": "8d40d3e9",
   "metadata": {},
   "outputs": [],
   "source": [
    "# Vérification du résultat\n",
    "grille = initialise_grille()  # Initialisation\n",
    "print(\"Tour 1\")\n",
    "grille = tour_test_victoire(grille=grille, colonne_a_jouer=2, couleur_pion=\"J\")\n",
    "print(\"Tour 2\")\n",
    "grille = tour_test_victoire(grille=grille, colonne_a_jouer=2, couleur_pion=\"J\")\n",
    "print(\"Tour 3\")\n",
    "grille = tour_test_victoire(grille=grille, colonne_a_jouer=2, couleur_pion=\"J\")\n",
    "print(\"Tour 4\")\n",
    "grille = tour_test_victoire(grille=grille, colonne_a_jouer=2, couleur_pion=\"J\")"
   ]
  },
  {
   "cell_type": "code",
   "execution_count": null,
   "id": "0914155b",
   "metadata": {
    "lines_to_next_cell": 0
   },
   "outputs": [],
   "source": []
  },
  {
   "cell_type": "markdown",
   "id": "d7151ea8",
   "metadata": {},
   "source": []
  }
 ],
 "metadata": {
  "jupytext": {
   "cell_metadata_filter": "-all",
   "main_language": "python",
   "notebook_metadata_filter": "-all"
  },
  "kernelspec": {
   "display_name": "Python 3 (ipykernel)",
   "language": "python",
   "name": "python3"
  },
  "language_info": {
   "codemirror_mode": {
    "name": "ipython",
    "version": 3
   },
   "file_extension": ".py",
   "mimetype": "text/x-python",
   "name": "python",
   "nbconvert_exporter": "python",
   "pygments_lexer": "ipython3",
   "version": "3.10.4"
  }
 },
 "nbformat": 4,
 "nbformat_minor": 5
}
