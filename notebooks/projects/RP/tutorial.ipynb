{
  "cells": [
    {
      "cell_type": "markdown",
      "metadata": {},
      "source": [
        "# Projet 2 - Analyse du recensement de la population\n",
        "\n",
        "Ce projet a pour objectif de reproduire une analyse standard à laquelle\n",
        "un statisticien peut être confronté. Il repose sur l’utilisation de la\n",
        "librairie pandas et des librairies de visualisation usuelles\n",
        "(matplotlib, seaborn)\n",
        "\n",
        "Le but de ce projet est de réaliser une analyse statistique rapide d’un\n",
        "jeu de données dont le format n’est pas directement optimisé pour une\n",
        "analyse en python. Nous allons utiliser exclusivement la librairie\n",
        "`pandas` pour l’analyse de données. Pour reproduire au mieux une\n",
        "situation à laquelle vous pouvez être confrontés, nous vous invitons\n",
        "vivement à consulter la documentation de la librairie\n",
        "([docs](https://pandas.pydata.org/docs/user_guide/index.html#user-guide)).\n",
        "\n",
        "Nous allons nous intéresser à l’estimation de la population au 1er\n",
        "janvier de chaque année, cette estimation étant effectuée à partir des\n",
        "recensements et des modèles d’évolution de la population. Les données\n",
        "sont accessibles sur le site de l’Insee à l’adresse suivante :\n",
        "<https://www.insee.fr/fr/statistiques/1893198>. Une copie du fichier a\n",
        "été déposée dans un *bucket* et peut être téléchargée via cet url :\n",
        "<https://minio.lab.sspcloud.fr/tfaria/public/estim-pop-dep-sexe-aq-1975-2022.ods>."
      ],
      "id": "7d5a2e2e-832e-408b-9024-3fd5190d6629"
    },
    {
      "cell_type": "code",
      "execution_count": 1,
      "metadata": {},
      "outputs": [],
      "source": [
        "import copy\n",
        "import pandas as pd\n",
        "import matplotlib.pyplot as plt\n",
        "import geopandas as gpd\n",
        "import seaborn as sns\n",
        "\n",
        "import solutions"
      ],
      "id": "bc64b257"
    },
    {
      "cell_type": "markdown",
      "metadata": {},
      "source": [
        "## Partie 1 : Téléchargement et mise en forme des données\n",
        "\n",
        "Avant d’effectuer le téléchargement des données avec python il est\n",
        "nécessaire de connaitre le format de nos données. Dans notre cas, il\n",
        "s’agit du format Excel (`.xlsx`). De plus, il peut être utile de\n",
        "regarder à quoi ressemble les données que l’on souhaite importer,\n",
        "notamment lorsque leur format n’est pas standard. Ainsi, avant de\n",
        "commencer, prenez le temps de jeter un oeil aux données.\n",
        "\n",
        "### Question 0\n",
        "\n",
        "Téléchargez les données en cliquant sur ce\n",
        "[lien](https://minio.lab.sspcloud.fr/tfaria/public/estim-pop-dep-sexe-aq-1975-2022.ods)\n",
        "et ouvrez-le avec votre logiciel tableur préféré. Analysez la structure\n",
        "des données.\n",
        "\n",
        "### Question 1\n",
        "\n",
        "Définir la fonction `load_data()` qui n’a pas de paramètre et renvoie un\n",
        "`Dict` où les **clés** correspondent aux noms des onglets de notre\n",
        "fichier et les **valeurs** correspondent aux données des différentes\n",
        "feuilles de calcul. Pour cela, utilisez une fonction de la librairie\n",
        "`pandas` en spécifiant les bons paramètres.\n",
        "\n",
        "#### Résultat attendu"
      ],
      "id": "82bf2576-0135-40ea-9599-479b5b879a4c"
    },
    {
      "cell_type": "code",
      "execution_count": 2,
      "metadata": {},
      "outputs": [],
      "source": [
        "data = solutions.load_data()\n",
        "data[\"2022\"]"
      ],
      "id": "e87e9e78"
    },
    {
      "cell_type": "markdown",
      "metadata": {},
      "source": [
        "#### À vous de jouer !"
      ],
      "id": "8f5be914-a880-414b-92bb-53db4c69b875"
    },
    {
      "cell_type": "code",
      "execution_count": 3,
      "metadata": {},
      "outputs": [],
      "source": [
        "def load_data():\n",
        "    # Votre code ici\n",
        "    return data"
      ],
      "id": "589f3e26"
    },
    {
      "cell_type": "markdown",
      "metadata": {},
      "source": [
        "### Question 2\n",
        "\n",
        "Maintenant que les données sont importées nous allons les mettre sous la\n",
        "forme d’un seul `DataFrame` dont les colonnes sont : - `genre` ; - `age`\n",
        "; - `population` ; - `dep_code` ; - `dep` ; - `annee`.\n",
        "\n",
        "2.1 - Pour ce faire créez une fonction `reshape_data_by_year(df, year)`\n",
        "qui prend en argument un DataFrame issu de votre Dict `data` et une\n",
        "année donnée.\n",
        "\n",
        "#### Résultat attendu"
      ],
      "id": "58527d08-6164-4271-9ff1-b1c726847e84"
    },
    {
      "cell_type": "code",
      "execution_count": 4,
      "metadata": {},
      "outputs": [],
      "source": [
        "annee = 2022\n",
        "df = solutions.reshape_table_by_year(data[f\"{annee}\"], annee)\n",
        "df"
      ],
      "id": "01317fc8"
    },
    {
      "cell_type": "markdown",
      "metadata": {},
      "source": [
        "#### À vous de jouer !"
      ],
      "id": "81a60b80-b9f4-45a7-8f28-34be9f55102e"
    },
    {
      "cell_type": "code",
      "execution_count": 5,
      "metadata": {},
      "outputs": [],
      "source": [
        "def reshape_table_by_year(df, year):\n",
        "    # Votre code ici\n",
        "    return df"
      ],
      "id": "80229826"
    },
    {
      "cell_type": "markdown",
      "metadata": {},
      "source": [
        "2.2 - Créer une fonction `reshape_data(data)` qui produit un `DataFrame`\n",
        "avec les données pour toutes les années entre 1975 et 2022.\n",
        "\n",
        "#### Résultat attendu"
      ],
      "id": "8f3f6b31-6137-40fe-be50-4b4d1f399b7c"
    },
    {
      "cell_type": "code",
      "execution_count": 6,
      "metadata": {},
      "outputs": [],
      "source": [
        "df = solutions.reshape_data(data)\n",
        "df"
      ],
      "id": "ac584532"
    },
    {
      "cell_type": "markdown",
      "metadata": {},
      "source": [
        "#### À vous de jouer !"
      ],
      "id": "79cec56a-9032-4767-bf02-a252a8a282a2"
    },
    {
      "cell_type": "code",
      "execution_count": 7,
      "metadata": {},
      "outputs": [],
      "source": [
        "def reshape_data(data):\n",
        "    # Votre code ici\n",
        "    return df"
      ],
      "id": "5cb7873b"
    },
    {
      "cell_type": "markdown",
      "metadata": {},
      "source": [
        "## Partie 2 : Visualisation des données\n",
        "\n",
        "Nous avons maintenant un jeu de données prêt à être analysé ! Commençons\n",
        "tout d’abord par visualiser l’évolution de la population pour différents\n",
        "départements.\n",
        "\n",
        "### Question 3\n",
        "\n",
        "Ecrire une fonction\n",
        "`plot_population_by_gender_per_department(df, department_code)` qui\n",
        "renvoie un graphique représentant l’évolution de la population dans un\n",
        "département donné. Utilisez la librairie `matplotlib`. Vous pouvez\n",
        "regarder les données de la Haute Garonne (31), du Loir-et-Cher (41) et\n",
        "de la Réunion (974) pour constater des disparités d’évolutions.\n",
        "\n",
        "#### Résultat attendu"
      ],
      "id": "9065c427-3c9b-464a-a694-810d08562fc0"
    },
    {
      "cell_type": "code",
      "execution_count": 8,
      "metadata": {},
      "outputs": [],
      "source": [
        "solutions.plot_population_by_gender_per_department(df, \"31\")"
      ],
      "id": "9bfcfe75"
    },
    {
      "cell_type": "markdown",
      "metadata": {},
      "source": [
        "#### À vous de jouer !"
      ],
      "id": "455b5535-eac9-47ad-b617-f67d4c0c4a8e"
    },
    {
      "cell_type": "code",
      "execution_count": 9,
      "metadata": {},
      "outputs": [],
      "source": [
        "def plot_population_by_gender_per_department(data, department_code):\n",
        "    # Votre code ici"
      ],
      "id": "c01337e5"
    },
    {
      "cell_type": "markdown",
      "metadata": {},
      "source": [
        "### Question 4\n",
        "\n",
        "Afin de comparer 2 graphiques il est parfois utile de les afficher côte\n",
        "à côte. Grâce à la méthode `subplots()` de `matplotlib` cela est très\n",
        "facile à réaliser en python. Pour le constater, nous allons représenter\n",
        "la pyramide des âges de la France en 1975 et en 2022.\n",
        "\n",
        "4.1- Définissez la fonction `get_age_pyramid_data(df, year)` qui, à\n",
        "partir du DataFrame généré par la fonction `reshape_data()`, renvoie un\n",
        "DataFrame avec les colonnes `age`, `Femmes`, `Hommes`. La colonne `age`\n",
        "doit contenir toutes les tranches d’âges présentes dans le jeu de\n",
        "données, les colonnes `Femmes/Hommes` correspond à la population\n",
        "féminine/masculine pour une tranche d’âge donnée. Dans un souci\n",
        "d’esthétique, la colonne `Hommes` sera au préalable multipliée par -1.\n",
        "\n",
        "#### Résultat attendu"
      ],
      "id": "03c8dc14-a1e5-4627-b5c9-8b8e271370eb"
    },
    {
      "cell_type": "code",
      "execution_count": 10,
      "metadata": {},
      "outputs": [],
      "source": [
        "pyramide_data = solutions.get_age_pyramid_data(df, 2022)\n",
        "pyramide_data"
      ],
      "id": "130d901b"
    },
    {
      "cell_type": "markdown",
      "metadata": {},
      "source": [
        "#### À vous de jouer !"
      ],
      "id": "ae02a185-3373-4aac-beec-1918f3f03036"
    },
    {
      "cell_type": "code",
      "execution_count": 11,
      "metadata": {},
      "outputs": [],
      "source": [
        "def get_age_pyramid_data(df, year):\n",
        "    # Votre code ici\n",
        "    return pyramide_data"
      ],
      "id": "aba46eca"
    },
    {
      "cell_type": "markdown",
      "metadata": {},
      "source": [
        "4.2- Définissez la fonction `plot_age_pyramid(df, year, ax=None)` qui\n",
        "représente la pyramide des âges de la France pour une année donnée. Vous\n",
        "pouvez vous inspirer de ce qui a été fait dans ce\n",
        "[blog](https://maciejtarsa.medium.com/plotting-a-population-pyramid-in-python-52be034968b0).\n",
        "\n",
        "#### Résultat attendu"
      ],
      "id": "525b9e62-aaca-4a86-b60f-0fb374c696ca"
    },
    {
      "cell_type": "code",
      "execution_count": 12,
      "metadata": {},
      "outputs": [],
      "source": [
        "fig,(ax1,ax2) = plt.subplots(1,2,figsize=(15,6))\n",
        "\n",
        "solutions.plot_age_pyramid(df, 1975, ax=ax1)\n",
        "solutions.plot_age_pyramid(df, 2022, ax=ax2)"
      ],
      "id": "0291fcd9"
    },
    {
      "cell_type": "markdown",
      "metadata": {},
      "source": [
        "#### À vous de jouer !"
      ],
      "id": "e11fe9a1-82a3-4422-8147-59c684a9c9a8"
    },
    {
      "cell_type": "code",
      "execution_count": 13,
      "metadata": {},
      "outputs": [],
      "source": [
        "def plot_age_pyramid(df, year, ax=None):\n",
        "    if ax is None:\n",
        "        ax = plt.gca()\n",
        "    # Votre code ici\n",
        "    return df"
      ],
      "id": "e4bf873c"
    },
    {
      "cell_type": "markdown",
      "metadata": {},
      "source": [
        "## Partie 3 : Une introduction aux données géographiques (facultatif pour aller plus loin ?)\n",
        "\n",
        "Les données géographiques sont très utiles car elles permettent de\n",
        "visualiser et d’analyser des informations liées à des emplacements\n",
        "spécifiques sur la terre. Les données géographiques peuvent être\n",
        "utilisées pour créer des cartes, des visualisations en 3D et des\n",
        "analyses spatiales pour comprendre les tendances, les modèles et les\n",
        "relations dans les données. En utilisant des bibliothèques Python telles\n",
        "que `Geopandas` ou `Folium`, vous pouvez facilement manipuler et\n",
        "visualiser des données géographiques pour répondre à vos besoins\n",
        "analytiques.\n",
        "\n",
        "Afin de représenter graphiquement des données géographiques il est\n",
        "nécessaire d’obtenir les données des contours (*shapefile*) des zones\n",
        "que l’on souhaite représenter. L’objectif de cette partie est de créer\n",
        "une carte choropleth des régions en fonction de leur population\n",
        "respective.\n",
        "\n",
        "Les données que nous avons actuellement contiennent les informations par\n",
        "département et non par région. Avant toute chose il est nécessaire\n",
        "d’affecter à chaque département sa région correspondante. Pour cela,\n",
        "vous pourrez utiliser le fichier `.json` disponible à l’adresse suivante\n",
        ":\n",
        "<https://static.data.gouv.fr/resources/departements-et-leurs-regions/20190815-175403/departements-region.json>.\n",
        "\n",
        "### Question 5\n",
        "\n",
        "Créez un DataFrame à partir du fichier `.json` des départements et\n",
        "régions de France précédemment mentionné. Assurez-vous que les colonnes\n",
        "soient au bon format.\n",
        "\n",
        "#### Résultat attendu"
      ],
      "id": "537926d2-488f-4a70-bbfb-a6b08b3e109b"
    },
    {
      "cell_type": "code",
      "execution_count": 14,
      "metadata": {},
      "outputs": [],
      "source": [
        "df_matching = solutions.load_departements_regions(\"https://static.data.gouv.fr/resources/departements-et-leurs-regions/20190815-175403/departements-region.json\")\n",
        "df_matching"
      ],
      "id": "e3581e9b"
    },
    {
      "cell_type": "markdown",
      "metadata": {},
      "source": [
        "#### À vous de jouer !"
      ],
      "id": "85e2067c-21aa-44dd-8d4f-c45dd47ca21c"
    },
    {
      "cell_type": "code",
      "execution_count": 15,
      "metadata": {},
      "outputs": [],
      "source": [
        "def load_departements_regions(url):\n",
        "    # Votre code ici\n",
        "    return df_matching"
      ],
      "id": "1cb4a6ef"
    },
    {
      "cell_type": "markdown",
      "metadata": {},
      "source": [
        "### Question 6\n",
        "\n",
        "Apparier le DataFrame contenant les données de population par\n",
        "département avec le DataFrame des régions de France.\n",
        "\n",
        "#### Résultat attendu"
      ],
      "id": "6c716b5c-c0c1-4595-94a3-b063f319fcdd"
    },
    {
      "cell_type": "code",
      "execution_count": 16,
      "metadata": {},
      "outputs": [],
      "source": [
        "df_regions = solutions.match_department_regions(df, df_matching)\n",
        "df_regions"
      ],
      "id": "cc321ceb"
    },
    {
      "cell_type": "markdown",
      "metadata": {},
      "source": [
        "#### À vous de jouer !"
      ],
      "id": "9dd05508-56c0-4da9-9060-13dd8d67586c"
    },
    {
      "cell_type": "code",
      "execution_count": 17,
      "metadata": {},
      "outputs": [],
      "source": [
        "def match_department_regions(df, df_matching):\n",
        "    # Votre code ici\n",
        "    return df_regions"
      ],
      "id": "fb0cff9d"
    },
    {
      "cell_type": "markdown",
      "metadata": {},
      "source": [
        "### Question 7\n",
        "\n",
        "Téléchargez les données des contours géographiques des régions en\n",
        "utilisant le package `cartiflette` et la librairie `geopandas`. Les\n",
        "données sont accessibles via l’url suivant :\n",
        "[https://minio.lab.sspcloud.fr/projet-cartiflette/diffusion/shapefiles-test1/year=2022/administrative_level=REGION/crs=4326/FRANCE_ENTIERE=metropole/vectorfile_format=‘geojson’/provider=‘IGN’/source=‘EXPRESS-COG-CARTO-TERRITOIRE’/raw.geojson](https://minio.lab.sspcloud.fr/projet-cartiflette/diffusion/shapefiles-test1/year=2022/administrative_level=REGION/crs=4326/FRANCE_ENTIERE=metropole/vectorfile_format='geojson'/provider='IGN'/source='EXPRESS-COG-CARTO-TERRITOIRE'/raw.geojson).\n",
        "\n",
        "#### Résultat attendu"
      ],
      "id": "aed43c2f-b90b-4c02-92c6-562f5262dabd"
    },
    {
      "cell_type": "code",
      "execution_count": 18,
      "metadata": {},
      "outputs": [],
      "source": [
        "geo = solutions.load_geo_data(\"https://minio.lab.sspcloud.fr/projet-cartiflette/diffusion/shapefiles-test1/year=2022/administrative_level=REGION/crs=4326/FRANCE_ENTIERE=metropole/vectorfile_format='geojson'/provider='IGN'/source='EXPRESS-COG-CARTO-TERRITOIRE'/raw.geojson\")\n",
        "geo"
      ],
      "id": "615d91cd"
    },
    {
      "cell_type": "markdown",
      "metadata": {},
      "source": [
        "#### À vous de jouer !"
      ],
      "id": "fc397dd3-49c3-43ed-b9a8-aedc10c68b2b"
    },
    {
      "cell_type": "code",
      "execution_count": 19,
      "metadata": {},
      "outputs": [],
      "source": [
        "def load_geo_data(url):\n",
        "    # Votre code ici\n",
        "    return geo"
      ],
      "id": "154891ce"
    },
    {
      "cell_type": "markdown",
      "metadata": {},
      "source": [
        "### Question 8\n",
        "\n",
        "Produire une carte choropleth de la population en 2022 des régions de\n",
        "France. Vous pouvez consulter la documentation de `geopandas`\n",
        "[ici](https://geopandas.org/en/stable/docs/user_guide/mapping.html).\n",
        "\n",
        "#### Résultat attendu"
      ],
      "id": "bd7f8712-c47b-4ebf-a32b-012b1131053a"
    },
    {
      "cell_type": "code",
      "execution_count": 20,
      "metadata": {},
      "outputs": [],
      "source": [
        "solutions.plot_population_by_regions(df_regions, geo, 2022)"
      ],
      "id": "5e616abb"
    },
    {
      "cell_type": "markdown",
      "metadata": {},
      "source": [
        "#### À vous de jouer !"
      ],
      "id": "b19d7921-c6f4-4957-8931-97db2a75face"
    },
    {
      "cell_type": "code",
      "execution_count": 21,
      "metadata": {},
      "outputs": [],
      "source": [
        "def plot_population_by_regions(df, geo, year):\n",
        "    # Votre code ici"
      ],
      "id": "a3af129e"
    },
    {
      "cell_type": "markdown",
      "metadata": {},
      "source": [
        "### Question 9\n",
        "\n",
        "La population totale d’une région n’est pas suffisante pour analyser la\n",
        "démographie d’une région. Il peut être intéressant de s’intéresser à la\n",
        "croissance démographique.\n",
        "\n",
        "9.1- Ecrire une fonction `compute_population_growth_per_region(df)` qui\n",
        "calcule la croissance de la population en pourcentage par an pour chaque\n",
        "région.\n",
        "\n",
        "#### Résultat attendu"
      ],
      "id": "2ee7d980-7c8e-4fe4-9827-ac23bc671170"
    },
    {
      "cell_type": "code",
      "execution_count": 22,
      "metadata": {},
      "outputs": [],
      "source": [
        "df_croissance = solutions.compute_population_growth_per_region(df_regions)\n",
        "df_croissance"
      ],
      "id": "f032dbd3"
    },
    {
      "cell_type": "markdown",
      "metadata": {},
      "source": [
        "#### À vous de jouer !"
      ],
      "id": "6c86ed2f-06f8-4289-9d12-aa4d7959bb81"
    },
    {
      "cell_type": "code",
      "execution_count": 23,
      "metadata": {},
      "outputs": [],
      "source": [
        "def compute_population_growth_per_region(df_regions):\n",
        "    # Votre code ici\n",
        "    return df_croissance"
      ],
      "id": "95148b87"
    },
    {
      "cell_type": "markdown",
      "metadata": {},
      "source": [
        "9.2- Ecrire une fonction\n",
        "`compute_mean_population_growth_per_region(df, min_year, max_year)` qui\n",
        "calcule la croissance moyenne de la population entre deux années\n",
        "données.\n",
        "\n",
        "#### Résultat attendu"
      ],
      "id": "42d1460d-10d8-4c0a-8ed2-9e15de3d6a72"
    },
    {
      "cell_type": "code",
      "execution_count": 24,
      "metadata": {},
      "outputs": [],
      "source": [
        "df_croissance = solutions.compute_mean_population_growth_per_region(df_regions, 2015, 2022)\n",
        "df_croissance"
      ],
      "id": "012ff951"
    },
    {
      "cell_type": "markdown",
      "metadata": {},
      "source": [
        "#### À vous de jouer !"
      ],
      "id": "89fcd55e-2943-4ff5-83cd-442f90c3edc5"
    },
    {
      "cell_type": "code",
      "execution_count": 25,
      "metadata": {},
      "outputs": [],
      "source": [
        "def compute_mean_population_growth_per_region(df, geo, year):\n",
        "    # Votre code ici\n",
        "    return df_croissance"
      ],
      "id": "74843620"
    },
    {
      "cell_type": "markdown",
      "metadata": {},
      "source": [
        "9.3- Ecrire une fonction\n",
        "`plot_growth_population_by_regions(df, geo, min_year, max_year)` qui\n",
        "représente la croissance moyenne de la population entre deux années\n",
        "données pour toutes les régions de France sur une carte choropleth.\n",
        "\n",
        "#### Résultat attendu"
      ],
      "id": "10e3025f-a93c-47d6-b1c2-c6c9eb5da485"
    },
    {
      "cell_type": "code",
      "execution_count": 26,
      "metadata": {},
      "outputs": [],
      "source": [
        "solutions.plot_growth_population_by_regions(df_regions, geo, 2015, 2022)"
      ],
      "id": "3de05fd6"
    },
    {
      "cell_type": "markdown",
      "metadata": {},
      "source": [
        "#### À vous de jouer !"
      ],
      "id": "1f6e5d55-d780-4d9a-9554-f895e7051573"
    },
    {
      "cell_type": "code",
      "execution_count": 27,
      "metadata": {},
      "outputs": [],
      "source": [
        "def plot_growth_population_by_regions(df, geo, min_year, max_year):\n",
        "    # Votre code ici"
      ],
      "id": "63569c91"
    }
  ],
  "nbformat": 4,
  "nbformat_minor": 5,
  "metadata": {
    "kernelspec": {
      "name": "python3",
      "display_name": "Python 3 (ipykernel)",
      "language": "python"
    },
    "language_info": {
      "name": "python",
      "codemirror_mode": {
        "name": "ipython",
        "version": "3"
      },
      "file_extension": ".py",
      "mimetype": "text/x-python",
      "nbconvert_exporter": "python",
      "pygments_lexer": "ipython3",
      "version": "3.10.12"
    }
  }
}