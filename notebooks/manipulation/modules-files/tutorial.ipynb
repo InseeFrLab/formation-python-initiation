{
  "cells": [
    {
      "cell_type": "markdown",
      "metadata": {},
      "source": [
        "# Manipulation de fichiers\n",
        "\n",
        "Manipulation de fichiers externes : import de modules et\n",
        "lecture/écriture de fichiers texte.\n",
        "\n",
        "Dans les tutoriels précédents, nous avons utilisé systématiquement des\n",
        "variables pour stocker des données et réaliser des opérations sur\n",
        "celles-ci. Cette façon de faire peut suffire dans le cadre d’une session\n",
        "Python donnée, comme ici dans un notebook Jupyter ou bien dans un\n",
        "programme.\n",
        "\n",
        "Mais que se passe-t-il par exemple si l’on souhaite conserver les\n",
        "sorties des calculs réalisés ou bien des données transformées une fois\n",
        "la session terminée ? Il nous faut alors sauvegarder ces éléments dans\n",
        "un fichier, à un endroit où ces données vont persister dans le temps en\n",
        "vue d’une utilisation ultérieure. Dans ce tutoriel, nous allons voir\n",
        "comment **lire et écrire des fichiers avec Python**.\n",
        "\n",
        "## Quelques notions sur les modules et les *packages*\n",
        "\n",
        "Avant de parler de manipulation de fichiers, nous devons faire un bref\n",
        "détour par le monde des modules et des ***packages*** (librairies).\n",
        "\n",
        "Jusqu’à maintenant, nous avons essentiellement utilisé des objets et des\n",
        "instructions standards de Python, qui ne nécessitaient donc pas d’import\n",
        "tiers. Dans ce tutoriel et tous ceux qui vont suivre, nous allons\n",
        "réaliser des opérations plus complexes (interagir avec un système de\n",
        "fichiers, faire du calcul vectoriel, manipuler des données tabulaires,\n",
        "etc.) qu’il serait très coûteux, inefficient, et avec un potentiel\n",
        "d’erreur énorme, de coder à la main en utilisant les objets de base de\n",
        "Python.\n",
        "\n",
        "C’est pourquoi nous allons utiliser des *packages*, sortes de boîtes à\n",
        "outils remplies de **fonctions** et de **classes** développées par\n",
        "d’autres (généralement de manière communautaire) et qui permettent de\n",
        "réaliser des opérations complexes à moindre coût.\n",
        "\n",
        "### Terminologie\n",
        "\n",
        "Commençons par quelques brefs éléments de terminologie pour bien se\n",
        "repérer dans l’écosystème Python : - un **module** est un fichier texte\n",
        "(portant l’extension .py pour bien marquer le lien à Python) contenant\n",
        "un ensemble de définitions (de **classes**, de **fonctions**) et\n",
        "d’instructions, que l’on peut importer dans un environnement Python afin\n",
        "de les utiliser. - un **package** est un ensemble de modules réunis dans\n",
        "un même répertoire\n",
        "\n",
        "Par exemple, nous allons voir en détails dans la prochaine partie\n",
        "l’utilisation de `numpy`. `numpy` est un *package* qui permet de faire\n",
        "du calcul scientifique sur des objets multidimensionnels. Pour ce faire,\n",
        "`numpy` met à disposition un nombre gigantesque de fonctions et\n",
        "d’outils. Toutes les mettre dans un seul et même module serait\n",
        "franchement illisible. Ainsi, `numpy` est structuré en différents\n",
        "modules qui groupent les fonctions réalisant des opérations similaires :\n",
        "les fonctions générant de l’aléatoire dans le module `random`, celles\n",
        "réalisant de l’algèbre linéaire dans le module `linalg`, etc.\n",
        "\n",
        "### Import de module\n",
        "\n",
        "Pour pouvoir exploiter les fonctions d’un module et les différents\n",
        "modules qui constituent un *package*, il nous faut en premier lieu les\n",
        "importer.\n",
        "\n",
        "La syntaxe est très simple, illustrons là à travers un exemple."
      ],
      "id": "13dabdcc-d622-4604-8be9-a17abdb67932"
    },
    {
      "cell_type": "code",
      "execution_count": 1,
      "metadata": {},
      "outputs": [],
      "source": [
        "import random\n",
        "random.randint(0, 100)"
      ],
      "id": "ff8be0b0"
    },
    {
      "cell_type": "markdown",
      "metadata": {},
      "source": [
        "Nous avons importé le module `random` (complet) de la librairie standard\n",
        "de Python via l’instruction `import`. Ensuite, nous avons fait appel à\n",
        "la fonction `randint` contenue dans le module `random`, qui renvoie un\n",
        "nombre aléatoire entre `a` et `b` ses paramètres.\n",
        "\n",
        "On aurait pu également importer *seulement* la fonction `randint` en\n",
        "utilisant la syntaxe `from module import fonction`. Il n’est alors plus\n",
        "nécessaire de spécifier le nom du module lorsqu’on appelle la fonction."
      ],
      "id": "214fe419-9cff-4a78-bc66-0da36e4df1b6"
    },
    {
      "cell_type": "code",
      "execution_count": 2,
      "metadata": {},
      "outputs": [],
      "source": [
        "from random import randint\n",
        "randint(0, 100)"
      ],
      "id": "ef239643"
    },
    {
      "cell_type": "markdown",
      "metadata": {},
      "source": [
        "Enfin, il arrive parfois de voir la syntaxe `from module import *` (`*`\n",
        "s’appelle le *wildcard*) qui a pour effet d’importer en mémoire *toutes*\n",
        "les fonctions du module. Nous verrons cependant dans le chapitre sur les\n",
        "bonnes pratiques que ce n’est pas une bonne idée en général.\n",
        "\n",
        "### Import de *package*\n",
        "\n",
        "Un *package* est simplement une collection de modules, structurée selon\n",
        "une arborescence. La syntaxe pour importer un *package* est analogue à\n",
        "celle pour importer un module, mais généralement plus longue.\n",
        "\n",
        "Par exemple, regardons à nouveau comment utiliser la fonction `randint`,\n",
        "mais cette fois celle de `numpy` (qui fait la même chose)."
      ],
      "id": "896b38e1-d7b9-4ed0-886a-2dccedeabad5"
    },
    {
      "cell_type": "code",
      "execution_count": 3,
      "metadata": {},
      "outputs": [],
      "source": [
        "import numpy"
      ],
      "id": "b9636934"
    },
    {
      "cell_type": "code",
      "execution_count": 4,
      "metadata": {},
      "outputs": [],
      "source": [
        "numpy.random.randint(0, 100)"
      ],
      "id": "8dd8ce0c"
    },
    {
      "cell_type": "markdown",
      "metadata": {},
      "source": [
        "On a importé le package `numpy`, qui nous a permis d’accéder via son\n",
        "module `random` à la fonction `randint`. Là encore, on aurait pu\n",
        "importer directement la fonction."
      ],
      "id": "105d4adf-c51c-4b69-ae23-718562baa1d2"
    },
    {
      "cell_type": "code",
      "execution_count": 5,
      "metadata": {},
      "outputs": [],
      "source": [
        "from numpy.random import randint"
      ],
      "id": "6f70902b"
    },
    {
      "cell_type": "code",
      "execution_count": 6,
      "metadata": {},
      "outputs": [],
      "source": [
        "randint(0, 100)"
      ],
      "id": "b161df44"
    },
    {
      "cell_type": "markdown",
      "metadata": {},
      "source": [
        "En pratique, la première syntaxe est préférable : il est toujours plus\n",
        "lisible de montrer explicitement d’où vient la fonction que l’on\n",
        "appelle. Pour réduire la verbosité, il est fréquent de donner un\n",
        "***alias*** aux packages que l’on importe. Voici les trois plus\n",
        "fréquents, que l’on rencontrera très souvent dans les tutoriels du\n",
        "prochain chapitre sur la manipulation de données."
      ],
      "id": "5b39260e-74cf-4b55-8f03-99afe44a5b57"
    },
    {
      "cell_type": "code",
      "execution_count": 7,
      "metadata": {},
      "outputs": [],
      "source": [
        "import numpy as np\n",
        "import pandas as pd\n",
        "import matplotlib.pyplot as plt"
      ],
      "id": "7653346a"
    },
    {
      "cell_type": "markdown",
      "metadata": {},
      "source": [
        "On peut alors utiliser ces *alias* pour appeler des modules et des\n",
        "fonctions."
      ],
      "id": "4c07db1d-4c11-488f-b0a2-0319bb319339"
    },
    {
      "cell_type": "code",
      "execution_count": 8,
      "metadata": {},
      "outputs": [],
      "source": [
        "x = np.linspace(0, 10, 1000)\n",
        "plt.plot(x, np.sin(x))"
      ],
      "id": "1ffd0901"
    },
    {
      "cell_type": "markdown",
      "metadata": {},
      "source": [
        "### Installation de *packages*\n",
        "\n",
        "L’installation de *packages* tiers en Python est un sujet à la fois très\n",
        "simple et très complexe. Très simple car la syntaxe strictement\n",
        "nécessaire pour installer un *package* dans un notebook Jupyter se\n",
        "résume à `!pip install nom_du_package` (le `!` permettant d’envoyer la\n",
        "commande au terminal). Mais très complexe dans la mesure où beaucoup de\n",
        "considérations techniques interviennent derrière cette simple commande\n",
        "(environnement d’exécution, choix du gestionnaire de *packages*, gestion\n",
        "des dépendances, etc.). En l’occurrence, tous les *packages* nécessaires\n",
        "au cours de cette formation sont déjà installés. Nous reviendrons plus\n",
        "en détails sur ce sujet dans la dernière partie sur les bonnes pratiques\n",
        "de développement à adopter en Python.\n",
        "\n",
        "## Manipulation de fichiers\n",
        "\n",
        "### Interagir avec le système de fichiers local\n",
        "\n",
        "Pour pouvoir lire et écrire des fichiers avec Python, il nous faut\n",
        "d’abord comprendre comment ceux-ci sont représentés sur le système de\n",
        "fichiers (*file system*) local, et comment Python interagit avec ce\n",
        "dernier.\n",
        "\n",
        "**Le module pathlib**\n",
        "\n",
        "Pour ce faire, nous allons utiliser de manière répétée le module\n",
        "`pathlib` et en particulier la classe `Path`. Ce module permet\n",
        "d’interagir avec le système de fichiers sous forme d’objets, en\n",
        "manipulant des attributs et leurs méthodes. Pas de panique, nous avons\n",
        "vu tout ce qu’il nous fallait savoir à ce propos dans le précédent\n",
        "tutoriel."
      ],
      "id": "2895cef4-f460-4b79-bc8f-cdda14cdb489"
    },
    {
      "cell_type": "code",
      "execution_count": 9,
      "metadata": {},
      "outputs": [],
      "source": [
        "from pathlib import Path"
      ],
      "id": "e5391a4b"
    },
    {
      "cell_type": "markdown",
      "metadata": {},
      "source": [
        "**Propriétés d’un fichier**\n",
        "\n",
        "Un fichier a deux propriétés : - un **nom de fichier** - un **chemin**\n",
        "(*path*), qui spécifie sa localisation dans le système de fichiers.\n",
        "\n",
        "A titre d’exemple, regardons les fichiers qui se trouvent dans notre\n",
        "répertoire courant (par défaut, le dossier dans lequel se trouve ce\n",
        "notebook). La méthode à utiliser s’appelle `cwd`, pour *current working\n",
        "directory*."
      ],
      "id": "339552d8-d149-4a54-80c1-ec23f838df5a"
    },
    {
      "cell_type": "code",
      "execution_count": 10,
      "metadata": {},
      "outputs": [],
      "source": [
        "Path.cwd()"
      ],
      "id": "8eabc96f"
    },
    {
      "cell_type": "markdown",
      "metadata": {},
      "source": [
        "Le chemin de notre répertoire courant est contenu dans un objet\n",
        "`PosixPath`, ce qui signifie simplement que `pathlib` a compris que nous\n",
        "étions sur un environnement de type Unix (les serveurs du SSP Cloud sont\n",
        "sous Linux). Si vous exécutiez ce notebook en local sur un ordinateur\n",
        "Windows, l’objet serait `WindowsPath`. Concrètement, cela ne change pas\n",
        "grand chose pour vous mais c’est en fait assez important : les systèmes\n",
        "de fichiers n’utilisent pas les mêmes conventions entre les différents\n",
        "environnements (ex : les séparateurs entre dossiers dans un chemin ne\n",
        "sont pas les mêmes), mais `pathlib` vous permet d’interagir avec ces\n",
        "différents systèmes de manière harmonisée.\n",
        "\n",
        "Maintenant, listons tous les fichiers contenus dans notre répertoire\n",
        "courant. On utilise pour cela une seconde méthode `glob` qui va\n",
        "simplement renvoyer tous les fichiers dont le nom a une certaine\n",
        "structure. Par exemple, `.glob('*.txt')` va récupérer tous les fichiers\n",
        "dont l’extension est `.txt` et `.glob('test.*')` va récupérer tous les\n",
        "fichiers dont le nom est `test`, quelle que soit leur extension. Ici, on\n",
        "récupère tous les fichiers en utilisant des *wildcards* `*` aux deux\n",
        "positions.\n",
        "\n",
        "Cette méthode renvoie un objet un peu spécial (un *générateur*). Si vous\n",
        "vous rappelez bien, on avait déjà rencontré le même cas avec la fonction\n",
        "`range`. Il suffit d’appeler la fonction `list` sur le tout pour\n",
        "afficher les résultats de manière lisible."
      ],
      "id": "8b8d6abc-3af9-4462-9a83-4579a8c33d57"
    },
    {
      "cell_type": "code",
      "execution_count": 11,
      "metadata": {},
      "outputs": [],
      "source": [
        "Path.cwd().glob('*.*')"
      ],
      "id": "cb6cfe97"
    },
    {
      "cell_type": "code",
      "execution_count": 12,
      "metadata": {},
      "outputs": [],
      "source": [
        "list(Path.cwd().glob('*.*'))"
      ],
      "id": "4e0e5f51"
    },
    {
      "cell_type": "markdown",
      "metadata": {},
      "source": [
        "On retrouve notre notebook, un fichier qui contient les solutions des\n",
        "exercices du tutoriel, et un certain nombre de fichiers texte qui vont\n",
        "servir d’exemples dans la suite du tutoriel. Si l’on prend le notebook\n",
        "par exemple, on distingue bien : - son nom de fichier :\n",
        "`tutorial.ipynb` - son chemin : `/home/jovyan/work/formation/`\n",
        "\n",
        "**Chemins absolus et chemins relatifs**\n",
        "\n",
        "Il y a deux manières possibles de spécifier le chemin d’un fichier : -\n",
        "de manière **absolue**, le chemin commence alors par la racine (`/` en\n",
        "Unix, `C:\\` en Windows, etc.). Les chemins renvoyés ci-dessus sont donc\n",
        "absolus. - de manière **relative**, i.e. relativement au répertoire\n",
        "courant du programme Python. Dès lors qu’un chemin ne commence pas par\n",
        "la racine, `pathlib` va le considérer relatif.\n",
        "\n",
        "Cette distinction va s’avérer assez importante par la suite, lorsqu’il\n",
        "sera question de lire et d’écrire des fichiers.\n",
        "\n",
        "**Former des chemins**\n",
        "\n",
        "En pratique, ce qui nous intéresse est de pouvoir constituer nos propres\n",
        "chemins – qu’ils soient absolus ou relatifs au répertoire courant – afin\n",
        "de spécifier où se trouvent les fichiers que nous souhaitons lire ou\n",
        "bien où doivent se trouver les fichiers que l’on souhaite écrire.\n",
        "\n",
        "`pathlib` offre une syntaxe très intuitive pour constituer des chemins,\n",
        "très similaire à la concaténation des chaînes de caractères que nous\n",
        "avons déjà vue. Au lieu d’un `+`, on va cette fois utiliser un `/` pour\n",
        "concaténer les différentes parties d’un chemin.\n",
        "\n",
        "Par exemple, essayons de reconstruire le chemin complet de ce notebook.\n",
        "On peut commencer par trouver le chemin du *home* directory, qui est le\n",
        "dossier standard dans lequel se trouvent tous les fichiers de\n",
        "l’utilisateur."
      ],
      "id": "6dd0a852-195d-45c5-afaa-4b03df630e22"
    },
    {
      "cell_type": "code",
      "execution_count": 13,
      "metadata": {},
      "outputs": [],
      "source": [
        "Path.home()"
      ],
      "id": "d45593f3"
    },
    {
      "cell_type": "markdown",
      "metadata": {},
      "source": [
        "On peut alors concaténer les différents sous-dossier et le nom de\n",
        "fichier du notebook pour obtenir le chemin complet vers celui-ci."
      ],
      "id": "b39202d6-788a-475a-9244-f47706eccf5d"
    },
    {
      "cell_type": "code",
      "execution_count": 14,
      "metadata": {},
      "outputs": [],
      "source": [
        "path_nb = Path.home() / 'work' / 'formation' / 'tutorial.ipynb'\n",
        "path_nb"
      ],
      "id": "aea582e2"
    },
    {
      "cell_type": "markdown",
      "metadata": {},
      "source": [
        "On retrouve bien exactement le même chemin que celui obtenu en listant\n",
        "les fichiers présents dans le répertoire courant.\n",
        "\n",
        "**Plus sur `pathlib`**\n",
        "\n",
        "Nous n’avons vu qu’un aperçu des outils qu’offre le module `pathlib`\n",
        "pour interagir avec le système de fichiers local. La [documentation\n",
        "officielle](https://docs.python.org/fr/3/library/pathlib.html) présente\n",
        "de manière exhaustive ces possibilités. Nous présenterons dans ce\n",
        "tutoriel et dans les suivants d’autres méthodes issues de cette\n",
        "librairie, à mesure que l’occasion se présente. Pour l’heure, nous en\n",
        "savons suffisamment pour lire et écrire des fichiers sur le système de\n",
        "fichiers.\n",
        "\n",
        "### Fichiers texte et fichiers binaires\n",
        "\n",
        "En programmation, on est généralement amenés à manipuler deux grandes\n",
        "familles de fichiers bien différentes : - les **fichiers texte**. Ils ne\n",
        "contiennent que des caractères textuels standards – techniquement, qui\n",
        "respectent le standard [Unicode](https://fr.wikipedia.org/wiki/Unicode)\n",
        "– sans informations de *formatting* (police, couleur, etc.). Les\n",
        "fichiers *.txt* ou encore les scripts Python finissant en *.py* sont des\n",
        "exemples de fichiers texte. Ces fichiers peuvent être lus avec n’importe\n",
        "quel éditeur de texte. - les **fichiers binaires**. Ce sont en fait tous\n",
        "les autres types de fichiers : fichiers compressés (*.zip*, *tar.gz*,\n",
        "etc.), documents PDFs, images, programmes, etc. Ouvrir un tel fichier\n",
        "avec un éditeur de texte produit généralement une grande suite de\n",
        "caractères incompréhensibles, car la représentation textuelle n’est pas\n",
        "adaptée à ces données.\n",
        "\n",
        "Comme vous pouvez l’imaginer, ces deux types de fichier se traitent avec\n",
        "des outils différents. Par ailleurs, du fait de la diversité des\n",
        "fichiers binaires, chacun de ses fichiers nécessite un traitement\n",
        "particulier. Dans un contexte de programmation, on est cependant\n",
        "principalement à manipuler du code, qui est une donnée textuelle. On va\n",
        "donc s’intéresser uniquement à l’**écriture et à la lecture de fichiers\n",
        "texte** dans ce tutoriel, mais il est important de savoir reconnaître\n",
        "des données binaires lorsqu’on est amené à en traiter.\n",
        "\n",
        "### Ouvrir un fichier\n",
        "\n",
        "Demander à Python d’ouvrir un fichier revient à ouvrir une connexion\n",
        "entre l’environnement Python sur lequel vous êtes et le fichier. Tant\n",
        "que cette connexion est ouverte, il est possible de manipuler le\n",
        "fichier.\n",
        "\n",
        "Pour ouvrir un fichier, on utilise la fonction `open`. On va par exemple\n",
        "ouvrir le fichier `gamme.txt` qui a été mis dans le répertoire courant."
      ],
      "id": "79d19555-8623-402f-8c35-912c5aff3de7"
    },
    {
      "cell_type": "code",
      "execution_count": 15,
      "metadata": {},
      "outputs": [],
      "source": [
        "path_gamme = Path.cwd() / 'gamme.txt'\n",
        "file_in = open(path_gamme, 'r')\n",
        "file_in"
      ],
      "id": "b62cb6aa"
    },
    {
      "cell_type": "markdown",
      "metadata": {},
      "source": [
        "La fonction `open` renvoie un objet de type `_io.TextIOWrapper`, qui\n",
        "spécifie le **mode d’encodage** du fichier et le **mode d’ouverture**.\n",
        "\n",
        "L’encodage et le décodage sont des sujets techniques, que nous\n",
        "aborderons plus en détail dans un futur tutoriel. Pour le moment,\n",
        "retenons que le mode d’encodage par défaut est l’`UTF-8`, et qu’il n’y a\n",
        "jamais vraiment de bonne raison de choisir un autre mode.\n",
        "\n",
        "En revanche, le **mode d’ouverture** est très important. Il y a trois\n",
        "modes principaux : - `r` : **lecture seule**. Le fichier ne peut qu’être\n",
        "lu, mais pas modifié. C’est le mode par défaut lorsqu’on ne spécifie\n",
        "aucun mode. - `w` : **écriture**. Il est possible dans ce mode d’écrire\n",
        "sur un fichier. **Attention : si un fichier avec le même nom existe\n",
        "déjà, il sera automatiquement écrasé.** - `a` : **appending**. Ce mode\n",
        "ne permet que de rajouter des lignes à la fin d’un fichier existant.\n",
        "\n",
        "Une fois le fichier ouvert, on peut réaliser des opérations sur ce\n",
        "fichier à l’aide de méthodes attachées à l’objet qui le représente. On\n",
        "verra dans la section suivante ce que fait la méthode `readlines`."
      ],
      "id": "fd9f8e7b-0107-4a49-9d4b-7b5dd40ed9c9"
    },
    {
      "cell_type": "code",
      "execution_count": 16,
      "metadata": {},
      "outputs": [],
      "source": [
        "file_in.readlines()"
      ],
      "id": "1634dbbd"
    },
    {
      "cell_type": "markdown",
      "metadata": {},
      "source": [
        "Une fois les manipulations terminées, on ferme la connexion avec la\n",
        "méthode `close`. Il n’est alors plus possible de manipuler le fichier."
      ],
      "id": "0ecb2a42-4c8c-4b0a-b32d-1a0057063978"
    },
    {
      "cell_type": "code",
      "execution_count": 17,
      "metadata": {},
      "outputs": [],
      "source": [
        "file_in.close()"
      ],
      "id": "94570e70"
    },
    {
      "cell_type": "markdown",
      "metadata": {},
      "source": [
        "En pratique, on oublie facilement de fermer la connexion à un fichier,\n",
        "ce qui peut créer des erreurs pénibles. Il existe une syntaxe qui permet\n",
        "d’éviter ce problème en utilisant un **context manager** qui gère toute\n",
        "la connexion pour nous."
      ],
      "id": "45573512-e91f-447c-ad77-45daaa40b331"
    },
    {
      "cell_type": "code",
      "execution_count": 18,
      "metadata": {},
      "outputs": [],
      "source": [
        "with open(path_gamme, 'r') as file_in:\n",
        "    lines = file_in.readlines()\n",
        "    \n",
        "lines"
      ],
      "id": "f49674da"
    },
    {
      "cell_type": "markdown",
      "metadata": {},
      "source": [
        "Cette syntaxe est beaucoup plus lisible : grâce à l’indentation, on voit\n",
        "clairement les opérations qui sont effectuées tant que le fichier est\n",
        "ouvert, et ce dernier est automatiquement fermé dès lors que l’on\n",
        "revient au niveau initial d’indentation. On préférera toujours utiliser\n",
        "cette syntaxe si possible, c’est une bonne pratique de programmation.\n",
        "\n",
        "### Lire un fichier\n",
        "\n",
        "Une fois un fichier ouvert, on peut vouloir lire son contenu. Il existe\n",
        "différentes manières de faire. Une méthode simple et élégante est de\n",
        "parcourir le fichier à l’aide d’une boucle, ce qui est rendu possible\n",
        "par le fait que l’objet Python représentant le fichier est **itérable**."
      ],
      "id": "73c15a94-fc32-4346-8a13-5fedb2aa7b6d"
    },
    {
      "cell_type": "code",
      "execution_count": 19,
      "metadata": {},
      "outputs": [],
      "source": [
        "with open(path_gamme, 'r') as file_in:\n",
        "    for line in file_in:\n",
        "        print(line)"
      ],
      "id": "916c077b"
    },
    {
      "cell_type": "markdown",
      "metadata": {},
      "source": [
        "Dans notre exemple, nous avons simplement affiché les lignes, mais on\n",
        "peut faire de nombreuses choses à partir des données présentes dans le\n",
        "fichier texte : les stocker dans un objet Python, les utiliser pour\n",
        "faire des calculs, ne conserver que les lignes qui répondent à une\n",
        "condition donnée via une instruction `if`, etc.\n",
        "\n",
        "Il existe également des méthodes toutes faites pour lire le contenu d’un\n",
        "fichier. La plus basique est la méthode `read`, qui retourne l’ensemble\n",
        "du fichier comme une (potentiellement très longue) chaîne de caractères."
      ],
      "id": "abd08472-7220-4e57-be1b-e972e7bc4cdc"
    },
    {
      "cell_type": "code",
      "execution_count": 20,
      "metadata": {},
      "outputs": [],
      "source": [
        "with open(path_gamme, 'r') as file_in:\n",
        "    txt = file_in.read()\n",
        "    \n",
        "txt"
      ],
      "id": "8959a785"
    },
    {
      "cell_type": "markdown",
      "metadata": {},
      "source": [
        "C’est rarement très utile : on préfère en général récupérer\n",
        "individuellement les lignes d’un fichier. La méthode `readlines`\n",
        "parcourt le fichier complet, et renvoie une liste dont les éléments sont\n",
        "les lignes du fichier, dans l’ordre d’apparition."
      ],
      "id": "632a745e-607f-4971-9a9d-0a30854d5220"
    },
    {
      "cell_type": "code",
      "execution_count": 21,
      "metadata": {},
      "outputs": [],
      "source": [
        "with open(path_gamme, 'r') as file_in:\n",
        "    l = file_in.readlines()\n",
        "    \n",
        "l"
      ],
      "id": "a5ea12a1"
    },
    {
      "cell_type": "markdown",
      "metadata": {},
      "source": [
        "Notons que chaque élément de la liste (sauf le dernier) se termine par\n",
        "le caractère spécial `\\n` (“retour à la ligne”) qui marque simplement la\n",
        "fin de chaque ligne dans un fichier texte. C’est la présence (cachée) de\n",
        "ce même caractère à la fin de chaque appel à la fonction `print` qui\n",
        "fait que l’on revient à la ligne à chaque fois que l’on utilise un\n",
        "`print`.\n",
        "\n",
        "### Écrire dans un fichier\n",
        "\n",
        "L’écriture dans un fichier est très simple, elle s’effectue à l’aide de\n",
        "la méthode `write`. Par exemple, écrivons dans un fichier ligne à ligne\n",
        "les différents éléments contenus dans une liste."
      ],
      "id": "816db9be-0c7c-46a7-a8ce-3786a6506eb9"
    },
    {
      "cell_type": "code",
      "execution_count": 22,
      "metadata": {},
      "outputs": [],
      "source": [
        "ex = [\"ceci\", \"est\", \"un\", \"exemple\", \"très\", \"original\"]\n",
        "\n",
        "with open(\"test.txt\", \"w\") as file_out:\n",
        "    for elem in ex:\n",
        "        file_out.write(elem)"
      ],
      "id": "26cd52d7"
    },
    {
      "cell_type": "markdown",
      "metadata": {},
      "source": [
        "Tout semble s’être passé sans encombre. On peut vérifier que notre\n",
        "fichier a bien été crée via une commande dans le terminal."
      ],
      "id": "36b2c4ea-b49c-47a2-b614-19b086ff0622"
    },
    {
      "cell_type": "code",
      "execution_count": 23,
      "metadata": {},
      "outputs": [],
      "source": [
        "!ls"
      ],
      "id": "9f222dd8"
    },
    {
      "cell_type": "markdown",
      "metadata": {},
      "source": [
        "Il est bien là. Vérifions maintenant que son contenu est bien celui que\n",
        "l’on souhaitait."
      ],
      "id": "638f570c-39e2-4e89-ae84-b13d1de540d0"
    },
    {
      "cell_type": "code",
      "execution_count": 24,
      "metadata": {},
      "outputs": [],
      "source": [
        "with open(\"test.txt\", \"r\") as file_out:\n",
        "    print(file_out.read())"
      ],
      "id": "bc38dfc4"
    },
    {
      "cell_type": "markdown",
      "metadata": {},
      "source": [
        "Les différents éléments de notre liste se sont fusionnés en un seul bloc\n",
        "de texte ! C’est parce que, contrairement à la fonction `print` par\n",
        "exemple, la fonction `write` n’ajoute pas automatiquement le caractère\n",
        "de retour à la ligne. Il faut l’ajouter manuellement."
      ],
      "id": "df74d194-510f-4c0e-b18f-26718fd07eca"
    },
    {
      "cell_type": "code",
      "execution_count": 25,
      "metadata": {},
      "outputs": [],
      "source": [
        "with open(\"test.txt\", \"w\") as file_out:\n",
        "    for elem in ex:\n",
        "        file_out.write(elem + \"\\n\")\n",
        "        \n",
        "with open(\"test.txt\", \"r\") as file_out:\n",
        "    print(file_out.read())"
      ],
      "id": "01103558"
    },
    {
      "cell_type": "markdown",
      "metadata": {},
      "source": [
        "C’est beaucoup mieux.\n",
        "\n",
        "Quelques remarques supplémentaires sur l’écriture de fichiers : - mieux\n",
        "vaut le répéter : **utiliser le mode d’ouverture `\\w` pour un fichier\n",
        "écrase complètement son contenu**. Lorsqu’on a réécrit notre fichier\n",
        "avec les sauts de ligne, on a complètement écrasé l’ancien. - pourquoi\n",
        "a-t-on pu mettre juste le nom du fichier dans la fonction `open` et pas\n",
        "un objet `Path` comprenant le chemin complet vers le fichier que l’on\n",
        "souhaitait créer ? C’est parce que Python l’a automatiquement interprété\n",
        "comme un **chemin relatif** (à notre répertoire courant) du fait de\n",
        "l’absence de racine. - on ne peut écrire dans un fichier **que des\n",
        "éléments de type `str`** (chaîne de caractère). Si un des éléments de la\n",
        "liste ci-dessus avait été de type `int` ou `float` par exemple, il\n",
        "aurait fallu le convertir via la fonction `str()` avant de l’écrire dans\n",
        "le fichier. Sinon, Python aurait renvoyé une erreur.\n",
        "\n",
        "## Exercices\n",
        "\n",
        "### Questions de compréhension\n",
        "\n",
        "-   1/ Qu’est-ce qu’un module ?\n",
        "-   2/ Qu’est ce qu’un package ?\n",
        "-   3/ Pourquoi n’est-ce pas une bonne pratique d’importer toutes les\n",
        "    fonctions d’un module avec la syntaxe `from module import *`\n",
        "-   4/ Quels sont les avantages de la librairie `pathlib` ?\n",
        "-   5/ Quelles sont les deux propriétés d’un fichier qui permettent de\n",
        "    repérer sa position dans le système de fichiers ?\n",
        "-   6/ Qu’est-ce que le répertoire courant ?\n",
        "-   7/ Quelles sont les deux manières de spécifier un chemin ? Comment\n",
        "    Python fait-il la différence entre les deux ?\n",
        "-   8/ Quels sont les deux grandes familles de fichiers que l’on est\n",
        "    amenés à manipuler en programmation ?\n",
        "-   9/ Quels sont les différents modes d’ouverture d’un fichier ?\n",
        "-   10/ Pourquoi est-il préférable d’utiliser la syntaxe\n",
        "    `with open(...) as ...` pour ouvrir un fichier ?\n",
        "-   11/ Pourquoi peut-on parcourir les lignes d’un fichier à l’aide\n",
        "    d’une boucle ?\n",
        "\n",
        "\\`\\`\\`fjhvprhr tags=\\[\\] \\# Testez votre réponse dans cette cellule\n",
        "\n",
        "\n",
        "    ::: {#5ae6d0ad .cell execution_count=26}\n",
        "    ``` {.python .cell-code}\n",
        "    # Exécuter cette cellule pour afficher la solution\n",
        "    %load -r 3-32 solutions.py\n",
        "\n",
        ":::\n",
        "\n",
        "### Moyenne et écart-type des notes obtenues à un examen\n",
        "\n",
        "*Exercice inspiré de :\n",
        "[python.sdv.univ-paris-diderot.fr](https://python.sdv.univ-paris-diderot.fr/07_fichiers/)*\n",
        "\n",
        "Le fichier texte `notes.txt` se trouve dans votre répertoire courant. Il\n",
        "contient les notes obtenues par 50 élèves à un examen. Problème : toutes\n",
        "les notes ont été écrites sur une même ligne, avec un espace à chaque\n",
        "fois. Ouvrez ce fichier et calculez la moyenne et l’écart-type des\n",
        "notes.\n",
        "\n",
        "Indices : - les chaînes de caractère ont une méthode `split` qui permet\n",
        "de séparer du texte selon un caractère donné - il faudra convertir les\n",
        "notes au format numérique pour pouvoir leur appliquer des fonctions\n",
        "mathématiques - vous pouvez utiliser les fonctions du package `numpy`\n",
        "pour calculer les statistiques demandées\n",
        "\n",
        "\\`\\`\\`fjhvprhr tags=\\[\\] \\# Testez votre réponse dans cette cellule\n",
        "\n",
        "\n",
        "    ::: {#b0bbe2bd .cell execution_count=27}\n",
        "    ``` {.python .cell-code}\n",
        "    # Exécuter cette cellule pour afficher la solution\n",
        "    %load -r 36-47 solutions.py\n",
        "\n",
        ":::\n",
        "\n",
        "### Admis ou recalé\n",
        "\n",
        "*Exercice inspiré de :\n",
        "[python.sdv.univ-paris-diderot.fr](https://python.sdv.univ-paris-diderot.fr/07_fichiers/)*\n",
        "\n",
        "Le fichier texte `notes_clean.txt` se trouve dans votre répertoire\n",
        "courant. Il contient les notes obtenues par 50 élèves à un examen.\n",
        "Contrairement à l’exercice précédent, les notes sont cette fois bien\n",
        "écrites : une note par ligne.\n",
        "\n",
        "Écrire un script Python qui : - stocke chaque note au format `int` dans\n",
        "une liste - réécrit les notes dans un fichier `notes_mentions.txt` avec\n",
        "sur chaque ligne la note, suivie d’un espace, suivi de la mention\n",
        "“admis” si la note est supérieure ou égale à 10, et “recalé” sinon.\n",
        "\n",
        "Par exemple, les trois premières lignes de ce nouveau fichier devraient\n",
        "être :\n",
        "\n",
        "    5 recalé\n",
        "    5 recalé\n",
        "    18 admis\n",
        "\n",
        "\\`\\`\\`fjhvprhr tags=\\[\\] \\# Testez votre réponse dans cette cellule\n",
        "\n",
        "\n",
        "    ::: {#88e30bbe .cell execution_count=28}\n",
        "    ``` {.python .cell-code}\n",
        "    # Exécuter cette cellule pour afficher la solution\n",
        "    %load -r 51-63 solutions.py\n",
        "\n",
        ":::\n",
        "\n",
        "### Retardataires\n",
        "\n",
        "3 élèves n’avaient pas rendu leur copie dans les temps pour l’examen : -\n",
        "Miranda a obtenu 16 et a rendu son devoir avec 3 jours de retard - Paolo\n",
        "a obtenu 11 et a rendu son devoir avec 1 jour de retard - Isidore a\n",
        "obtenu 3 et a rendu son devoir avec 5 jours de retard.\n",
        "\n",
        "Chaque élève aura une note finale égale à la note obtenue moins le\n",
        "nombre de jours de retard. Une note ne pouvant être négative, elle sera\n",
        "remplacée par 0.\n",
        "\n",
        "Les informations nécessaires ont été placées dans une liste dans la\n",
        "cellule suivante. A l’aide d’une boucle sur cette liste, **ajouter**\n",
        "(sans réécrire complètement le fichier !). les notes au fichier\n",
        "`notes_clean.txt` (sans la mention).\n",
        "\n",
        "NB : si vous avez écrasé le contenu d’un fichier par erreur, vous pouvez\n",
        "retrouver les fichiers propres sur le [dépôt GitHub associé à la\n",
        "formation](https://github.com/InseeFrLab/formation-python-initiation/tree/main/source/manipulation/modules-files)."
      ],
      "id": "f4c8e8f3-ff98-4f07-92b6-55f2d94713e5"
    },
    {
      "cell_type": "code",
      "execution_count": 29,
      "metadata": {},
      "outputs": [],
      "source": [
        "supp = [(16, 3), (11, 1), (3, 5)]"
      ],
      "id": "d610688f"
    },
    {
      "cell_type": "markdown",
      "metadata": {},
      "source": [
        "\\`\\`\\`fjhvprhr tags=\\[\\] \\# Testez votre réponse dans cette cellule\n",
        "\n",
        "\n",
        "    ::: {#2035fd2f .cell execution_count=30}\n",
        "    ``` {.python .cell-code}\n",
        "    # Exécuter cette cellule pour afficher la solution\n",
        "    %load -r 67-73 solutions.py\n",
        "\n",
        ":::\n",
        "\n",
        "### Scanner des fichiers\n",
        "\n",
        "Écrire un programme qui réalise les opérations suivantes : - dans le\n",
        "répertoire courant, lister les chemins des fichiers dont l’extension est\n",
        "`.txt` (la syntaxe a été vue dans la partie sur `pathlib`) - faire une\n",
        "boucle qui parcourt ces chemins et ouvre chaque fichier\n",
        "séquentiellement - pour chaque fichier, faire un test d’appartenance\n",
        "(rappel de la syntaxe : `if pattern in string: ...`) pour tester si le\n",
        "fichier contient le mot “sol” - si le fichier contient le mot “recalé”,\n",
        "imprimer son chemin absolu dans la console (seul le chemin du fichier\n",
        "`gamme.txt` devrait donc apparaître)\n",
        "\n",
        "\\`\\`\\`fjhvprhr tags=\\[\\] \\# Testez votre réponse dans cette cellule\n",
        "\n",
        "\n",
        "    ::: {#b263c205 .cell execution_count=31}\n",
        "    ``` {.python .cell-code}\n",
        "    # Exécuter cette cellule pour afficher la solution\n",
        "    %load -r 77-85 solutions.py\n",
        "\n",
        ":::"
      ],
      "id": "ebb920c7-6102-4c44-bde8-2a5b7294cf5b"
    }
  ],
  "nbformat": 4,
  "nbformat_minor": 5,
  "metadata": {
    "kernelspec": {
      "name": "python3",
      "display_name": "Python 3 (ipykernel)",
      "language": "python"
    },
    "language_info": {
      "name": "python",
      "codemirror_mode": {
        "name": "ipython",
        "version": "3"
      },
      "file_extension": ".py",
      "mimetype": "text/x-python",
      "nbconvert_exporter": "python",
      "pygments_lexer": "ipython3",
      "version": "3.10.12"
    }
  }
}