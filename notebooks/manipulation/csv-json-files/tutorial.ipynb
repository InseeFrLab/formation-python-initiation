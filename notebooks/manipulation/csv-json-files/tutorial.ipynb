{
  "cells": [
    {
      "cell_type": "markdown",
      "metadata": {},
      "source": [
        "# Travailler avec des fichiers CSV et JSON\n",
        "\n",
        "Manipulation des fichiers CSV et JSON, deux types de fichiers très\n",
        "utilisés pour la diffusion de données.\n",
        "\n",
        "Dans le précédent tutoriel, nous avons vu comment utiliser des fonctions\n",
        "provenant de modules, ainsi que comment lire et écrire des fichiers\n",
        "texte. Dans ce tutoriel, nous allons mettre à profit ces nouvelles\n",
        "compétences en nous intéressant à **deux types de fichiers texte très\n",
        "fréquemment utilisés pour stocker et diffuser des données : les fichiers\n",
        "CSV et les fichiers JSON**. Nous allons apprendre à manipuler ces deux\n",
        "types de fichiers grâce aux modules Python dédiés à leur traitement\n",
        "respectif : **le module `csv` et le module `json`**.\n",
        "\n",
        "## Manipuler des fichiers CSV"
      ],
      "id": "c342828c-56b4-4c67-be39-54c763b437f6"
    },
    {
      "cell_type": "raw",
      "metadata": {
        "raw_mimetype": "text/html"
      },
      "source": [
        "<!-- #region tags=[] -->"
      ],
      "id": "e8fe6f7f-99b9-4a6c-b18a-97ce3f007c4d"
    },
    {
      "cell_type": "markdown",
      "metadata": {},
      "source": [
        "### Les fichiers CSV"
      ],
      "id": "af0435f1-6d14-4493-9d30-58cf0995adaf"
    },
    {
      "cell_type": "raw",
      "metadata": {
        "raw_mimetype": "text/html"
      },
      "source": [
        "<!-- #endregion -->"
      ],
      "id": "2cf2ec31-8118-41c8-9172-b97a0497a12b"
    },
    {
      "cell_type": "markdown",
      "metadata": {},
      "source": [
        "CSV signifie ***comma-separated values***, soit en bon français “valeurs\n",
        "séparées par des virgules”. Les fichiers CSV visent à reproduire la\n",
        "**structure des données issues de tableurs** type Excel de Microsoft ou\n",
        "Calc de LibreOffice, réduite à la stricte donnée textuelle (plus de\n",
        "formatage, plus de types de colonne, etc.).\n",
        "\n",
        "Nous allons prendre pour exemple le fichier CSV qui contient la liste\n",
        "des départements en 2021, issue du Code Officiel Géographique (COG).\n",
        "Regardons les premières lignes de ce fichier à l’aide d’une commande\n",
        "`shell` pour avoir bien en tête la structure d’un tel fichier."
      ],
      "id": "1a8bc83a-40a0-43de-85b2-d45ea5a7782f"
    },
    {
      "cell_type": "code",
      "execution_count": 1,
      "metadata": {},
      "outputs": [],
      "source": [
        "!head -n 5 departement2021.csv"
      ],
      "id": "2fef4b7a"
    },
    {
      "cell_type": "markdown",
      "metadata": {},
      "source": [
        "Pour reprendre l’analogie avec un fichier issu d’un tableur, chaque\n",
        "ligne du fichier représente une ligne du tableur, et les cellules d’une\n",
        "ligne sont séparées par des virgules. La première ligne peut contenir un\n",
        "`header` (en-tête), c’est à dire le nom des colonnes, mais ce n’est pas\n",
        "toujours le cas.\n",
        "\n",
        "Les principaux avantages des fichiers CSV sont : - leur **simplicité** :\n",
        "ils contiennent des données textuelles brutes, donc très légères et qui\n",
        "peuvent être éditées facilement via n’importe quel éditeur de texte ou\n",
        "langage de programmation - leur **universalité** : ils sont très\n",
        "largement utilisés comme un format standard d’échanges de données\n",
        "\n",
        "### Le module `csv`\n",
        "\n",
        "Les données contenues dans un CSV étant des données textuelles, on peut\n",
        "se demander pourquoi l’on a besoin d’un module particulier pour les\n",
        "manipuler, et pourquoi les outils que l’on a vus dans le tutoriel\n",
        "précédent ne seraient pas suffisants. La raison principale est que les\n",
        "fichiers CSV ont tout de même quelques subtilités et normes, souvent\n",
        "invisibles à l’utilisateur, mais très importantes en pratique. Par\n",
        "exemple : si l’on veut séparer les différentes données selon les\n",
        "virgules, que se passe-t-il si les données textuelles elles-même\n",
        "contiennent des virgules ?\n",
        "\n",
        "C’est pour cette raison qu’on utilise le **module `csv`** pour interagir\n",
        "avec ce type de fichiers, afin de capitaliser sur le fait que d’autres\n",
        "se sont posés toutes ces questions, et donc de ne pas avoir à réinventer\n",
        "la roue à chaque import de fichier CSV.\n",
        "\n",
        "Notons qu’en pratique, on a plutôt tendance à manipuler ce type de\n",
        "données sous la forme de DataFrames (comme en `R`), afin de tirer parti\n",
        "de leur **structure tabulaire**. On étudiera dans un prochain tutoriel\n",
        "le ***package* `Pandas`** qui permet précisément de faire cela en\n",
        "Python. Néanmoins, il est toujours utile de savoir bien manipuler les\n",
        "données d’un CSV comme des données textuelles, et donc de connaître le\n",
        "module `csv`.\n",
        "\n",
        "### Lecture"
      ],
      "id": "5ea2d163-6ff1-4966-9b30-0b5165f11b92"
    },
    {
      "cell_type": "code",
      "execution_count": 2,
      "metadata": {},
      "outputs": [],
      "source": [
        "import csv"
      ],
      "id": "87657848"
    },
    {
      "cell_type": "markdown",
      "metadata": {},
      "source": [
        "La syntaxe permettant de lire et manipuler des fichiers CSV en Python\n",
        "est très proche de celle pour les fichiers texte simples. La seule\n",
        "différence est que l’on doit créer un objet `reader` à partir de l’objet\n",
        "fichier pour pouvoir itérer sur les lignes."
      ],
      "id": "221ae4b2-cd16-4431-9e18-6415d1e478e7"
    },
    {
      "cell_type": "code",
      "execution_count": 3,
      "metadata": {},
      "outputs": [],
      "source": [
        "rows = []\n",
        "\n",
        "with open(\"departement2021.csv\") as file_in:\n",
        "    csv_reader = csv.reader(file_in)\n",
        "    for row in csv_reader:\n",
        "        rows.append(row)\n",
        "\n",
        "rows[:4]"
      ],
      "id": "7dbbb96f"
    },
    {
      "cell_type": "markdown",
      "metadata": {},
      "source": [
        "On retrouve bien la même syntaxe que pour les fichiers texte simples :\n",
        "une fois le `reader` créé, on peut itérer sur les lignes et réaliser des\n",
        "opérations avec celles-ci ; par exemple, les stocker dans une liste\n",
        "comme ci-dessus.\n",
        "\n",
        "Lorsqu’on a un fichier CSV avec des noms de colonne comme dans notre\n",
        "cas, il est intéressant de les utiliser pour manipuler la donnée nommée,\n",
        "plutôt que par position en utilisant une liste simple. On utilise pour\n",
        "cela un `DictReader` au lieu du `reader`. A présent, lorsqu’on itère sur\n",
        "l’objet `DictReader` créé, chaque ligne est un dictionnaire, donc la clé\n",
        "est le nom de la colonne et la valeur la donnée de la cellule.\n",
        "\n",
        "Pour illustrer son intérêt, affichons les noms des départements donc le\n",
        "numéro de département est compris entre 20 et 29."
      ],
      "id": "c124f699-7a57-4556-ae94-57cf2d2417f9"
    },
    {
      "cell_type": "code",
      "execution_count": 4,
      "metadata": {},
      "outputs": [],
      "source": [
        "with open(\"departement2021.csv\") as file_in:\n",
        "    dict_reader = csv.DictReader(file_in)\n",
        "    for row in dict_reader:\n",
        "        if row[\"DEP\"].startswith(\"2\"):\n",
        "            print(row[\"LIBELLE\"])"
      ],
      "id": "50a50b09"
    },
    {
      "cell_type": "markdown",
      "metadata": {},
      "source": [
        "Le code est beaucoup plus lisible : on comprend facilement quelles\n",
        "données sont manipulées et de quelle manière."
      ],
      "id": "eafaf3eb-d151-4bc0-9014-40ea6c3fdf68"
    },
    {
      "cell_type": "raw",
      "metadata": {
        "raw_mimetype": "text/html"
      },
      "source": [
        "<!-- #region tags=[] -->"
      ],
      "id": "adba29b2-8015-43c5-abfb-0afc2ff35694"
    },
    {
      "cell_type": "markdown",
      "metadata": {},
      "source": [
        "### Écriture"
      ],
      "id": "e2ccaf3b-67e5-4e44-88f4-97ce0d5bd745"
    },
    {
      "cell_type": "raw",
      "metadata": {
        "raw_mimetype": "text/html"
      },
      "source": [
        "<!-- #endregion -->"
      ],
      "id": "561cc0c2-167f-4b7c-a666-9ebf42442c98"
    },
    {
      "cell_type": "markdown",
      "metadata": {},
      "source": [
        "La syntaxe pour l’écriture est là encore assez proche de celle pour les\n",
        "fichiers texte. La différence est que l’on traite des données en 2D\n",
        "(ligne x colonne), on ne peut donc plus passer seulement une chaîne de\n",
        "caractère à l’écriture, il faut **passer une liste d’éléments**."
      ],
      "id": "76afde91-ff60-4902-ae71-07ba39458660"
    },
    {
      "cell_type": "code",
      "execution_count": 5,
      "metadata": {},
      "outputs": [],
      "source": [
        "header = [\"nom\", \"classe\", \"age\"]\n",
        "row1 = [\"Maurice\", \"5èmeB\", 12]\n",
        "row2 = [\"Manuela\", \"6èmeA\", 11]\n",
        "\n",
        "with open(\"test.csv\", \"w\") as file_out:\n",
        "    csv_writer = csv.writer(file_out)\n",
        "    csv_writer.writerow(header)\n",
        "    csv_writer.writerow(row1)\n",
        "    csv_writer.writerow(row2)"
      ],
      "id": "991ec4fa"
    },
    {
      "cell_type": "markdown",
      "metadata": {},
      "source": [
        "Vérifions que notre fichier CSV brut ressemble bien à ce que nous\n",
        "attendions."
      ],
      "id": "9562c936-6030-4c05-88e3-2718d761789e"
    },
    {
      "cell_type": "code",
      "execution_count": 6,
      "metadata": {},
      "outputs": [],
      "source": [
        "# Commande shell pour afficher le contenu d'un fichier\n",
        "!cat test.csv"
      ],
      "id": "a0459e3d"
    },
    {
      "cell_type": "markdown",
      "metadata": {},
      "source": [
        "### Le *header*\n",
        "\n",
        "Comme dans un document de type tableur, la première ligne d’un fichier\n",
        "CSV contient généralement les **noms des variables** (colonnes). On\n",
        "appelle cette ligne le ***header***. Cette ligne n’est pas obligatoire\n",
        "en théorie, mais elle est quand même bien pratique pour comprendre\n",
        "rapidement la nature des données qui se trouvent dans un fichier CSV.\n",
        "C’est donc une bonne pratique d’inclure un *header* lorsqu’on génère un\n",
        "fichier CSV.\n",
        "\n",
        "Nous avons vu dans l’exemple précédent que l’écriture du *header* se\n",
        "faisait comme celle de n’importe quelle autre ligne de donnée. C’est\n",
        "lors de la lecture que les choses se compliquent, puisqu’il faut\n",
        "récupérer le *header* séparément des autres données si le fichier CSV en\n",
        "contient un. Utilisons le CSV généré à l’étape précédente pour illustrer\n",
        "cela."
      ],
      "id": "438316e2-e828-4957-93c5-396d51d07bdc"
    },
    {
      "cell_type": "code",
      "execution_count": 7,
      "metadata": {},
      "outputs": [],
      "source": [
        "data = []\n",
        "with open(\"test.csv\", \"r\") as file_in:\n",
        "    csv_reader = csv.reader(file_in)\n",
        "    header = next(csv_reader)\n",
        "    for row in csv_reader:\n",
        "        data.append(row)"
      ],
      "id": "fbc6d714"
    },
    {
      "cell_type": "code",
      "execution_count": 8,
      "metadata": {},
      "outputs": [],
      "source": [
        "print(header)"
      ],
      "id": "c225ac11"
    },
    {
      "cell_type": "code",
      "execution_count": 9,
      "metadata": {},
      "outputs": [],
      "source": [
        "print(data)"
      ],
      "id": "a9add44b"
    },
    {
      "cell_type": "markdown",
      "metadata": {},
      "source": [
        "Pour récupérer le *header*, on utilise la fonction `next`. C’est une\n",
        "fonction *built-in* qui va appeler la méthode `__next__` de l’objet\n",
        "`reader`, qui permet d’itérer d’un pas sur le `reader`. Le premier appel\n",
        "à la fonction `next` renvoie donc la première ligne du document. Si un\n",
        "*header* est présent dans le fichier (ce dont il faut s’assurer),\n",
        "l’élément renvoyé est le *header*. On récupère ensuite classiquement le\n",
        "reste des données via une boucle sur l’objet `reader`, que l’on stocke\n",
        "dans une liste de listes (une liste par ligne).\n",
        "\n",
        "### Importance du délimiteur\n",
        "\n",
        "Le **délimiteur** correspond au caractère qui est utilisé pour délimiter\n",
        "les valeurs successives d’une ligne dans un fichier CSV.\n",
        "\n",
        "Le standard CSV utilise — comme son nom l’indique — la virgule comme\n",
        "délimiteur, mais cela est modifiable, et **il n’est pas rare de tomber\n",
        "sur des fichiers CSV qui ont un autre délimiteur**. Il faut dans ce cas\n",
        "aller regarder directement dans le texte brut quel est le délimiteur\n",
        "utilisé. On trouve par exemple souvent une délimitation par des `tabs`\n",
        "(le caractère est `\\t`), i.e. un nombre d’espaces donné, auquel cas le\n",
        "fichier peut avoir pour extension `.tsv` pour *tab-separated value*. Il\n",
        "faut alors spécifier le délimiteur avec le paramètre `delimiter`\n",
        "lorsqu’on crée le `reader`.\n",
        "\n",
        "En pratique, comme pour l’encodage d’un fichier texte, **il y a peu de\n",
        "raison valable pour changer de délimiteur**. Même si des virgules\n",
        "apparaissent dans des valeurs du fichier — par exemple, dans une adresse\n",
        "— ces valeurs sont alors entourées par des guillemets, ce qui permet à\n",
        "la séparation des valeurs de se faire correctement dans la grande\n",
        "majorité des cas.\n",
        "\n",
        "## Manipuler des fichiers JSON"
      ],
      "id": "651909d9-7387-41f1-81e9-5b85e50c00af"
    },
    {
      "cell_type": "raw",
      "metadata": {
        "raw_mimetype": "text/html"
      },
      "source": [
        "<!-- #region tags=[] -->"
      ],
      "id": "ee0c5094-941c-489a-a8dc-1fddbec7712a"
    },
    {
      "cell_type": "markdown",
      "metadata": {},
      "source": [
        "### Les fichiers JSON"
      ],
      "id": "f3868cd0-9b68-43e8-95c0-407fd77051a3"
    },
    {
      "cell_type": "raw",
      "metadata": {
        "raw_mimetype": "text/html"
      },
      "source": [
        "<!-- #endregion -->"
      ],
      "id": "7de487bf-34fb-4cb3-801c-d6656f0537e3"
    },
    {
      "cell_type": "markdown",
      "metadata": {},
      "source": [
        "Le JSON (*JavaScript Object Notation*) est un format de fichier très\n",
        "populaire pour écrire et échanger de la donnée sous la forme d’une\n",
        "chaîne de caractères unique et lisible par l’humain (*human-readable*) —\n",
        "du moins en théorie.\n",
        "\n",
        "Comme son nom le suggère, le JSON est lié au langage *JavaScript* dans\n",
        "la mesure où il constitue un dérivé de la notation des objets dans ce\n",
        "langage. Le format est cependant désormais indépendant de tout langage\n",
        "de programmation, mais est très fréquemment utilisé dans différents\n",
        "langages.\n",
        "\n",
        "Le format JSON est particulièrement important pour les statisticiens et\n",
        "data scientists car il constitue le **format quasi-standard de réponse\n",
        "des [API](https://fr.wikipedia.org/wiki/Interface_de_programmation)**.\n",
        "Le dialogue avec les API va au delà du programme de ce cours\n",
        "d’introduction. Cependant, les API tendant à se généraliser comme mode\n",
        "de communication standard pour l’échange de données, il est important de\n",
        "maîtriser les bases du format JSON afin de manipuler les réponses des\n",
        "API lorsqu’on doit interagir avec celles-ci.\n",
        "\n",
        "Le JSON stockant les objets sous forme de **paires clé-valeur** et où\n",
        "les valeurs peuvent être des ***arrays*** — un concept assez large en\n",
        "informatique qui inclut notamment les listes que nous connaissons — il\n",
        "ressemble fortement aux dictionnaires Python. Il constitue ainsi un\n",
        "format de fichier assez naturel pour ***sérialiser*** ces derniers,\n",
        "c’est à dire passer d’une structure de données en mémoire (ici, un\n",
        "dictionnaire) à une séquence d’octets qui peut être universellement lue\n",
        "par tout ordinateur. Regardons à titre d’exemple la représentation JSON\n",
        "d’un dictionnaire Python."
      ],
      "id": "3a3249a9-48bf-440f-897f-57b8d0092087"
    },
    {
      "cell_type": "code",
      "execution_count": 10,
      "metadata": {},
      "outputs": [],
      "source": [
        "cv = {\n",
        "    \"marc\": {\"poste\": \"manager\", \"experience\": 7, \"hobbies\": [\"couture\", \"frisbee\"]},\n",
        "    \"miranda\": {\"poste\": \"ingénieure\", \"experience\": 5, \"hobbies\": [\"trekking\"]}\n",
        "}\n",
        "\n",
        "print(cv)"
      ],
      "id": "2c580ce8"
    },
    {
      "cell_type": "code",
      "execution_count": 11,
      "metadata": {},
      "outputs": [],
      "source": [
        "import json\n",
        "\n",
        "print(json.dumps(cv))"
      ],
      "id": "d9fa13f3"
    },
    {
      "cell_type": "markdown",
      "metadata": {},
      "source": [
        "On le voit : la représentation JSON est assez proche de celle du\n",
        "dictionnaire Python, avec **quelques particularités**. Dans ce cas par\n",
        "exemple, les caractères spéciaux comme les accents sont automatiquement\n",
        "encodés en *Unicode*.\n",
        "\n",
        "### Le module `json`\n",
        "\n",
        "Le module `json` gère l’import de fichiers JSON et l’export d’objets\n",
        "Python au format JSON. Il s’occupe notamment de gérer les contraintes de\n",
        "conversion en JSON évoquées précédemment, comme celle des accents.\n",
        "\n",
        "En particulier, **le JSON peut stocker la majorité des types d’objets\n",
        "*built-in* de Python** que nous avons vus jusqu’à présent (*strings*,\n",
        "valeurs numériques, Booléens, listes, dictionnaires, `NoneType`) et bien\n",
        "d’autres, mais il ne peut pas représenter des objets Python créés\n",
        "manuellement via des classes par exemple.\n",
        "\n",
        "### Écriture\n",
        "\n",
        "Commençons cette fois par l’écriture. Comme nous l’avons vu dans\n",
        "l’exemple précédent, la fonction `dumps` (pour *dump string*) convertit\n",
        "une valeur Python **sérialisable** en sa représentation JSON sous forme\n",
        "de chaîne de caractères."
      ],
      "id": "4ac67f35-8f6c-452c-8402-60c92f68fce4"
    },
    {
      "cell_type": "code",
      "execution_count": 12,
      "metadata": {},
      "outputs": [],
      "source": [
        "x = \"test\"\n",
        "json.dumps(x)"
      ],
      "id": "49a8c61c"
    },
    {
      "cell_type": "code",
      "execution_count": 13,
      "metadata": {},
      "outputs": [],
      "source": [
        "x = [1, 2, 3]\n",
        "json.dumps(x)"
      ],
      "id": "b42a275b"
    },
    {
      "cell_type": "markdown",
      "metadata": {},
      "source": [
        "Ecrire un fichier JSON à partir de Python revient simplement à écrire\n",
        "cette représentation dans un fichier texte, auquel on donnera\n",
        "l’extension `.json` pour bien marquer qu’il s’agit d’un fichier texte\n",
        "particulier. Comme cette opération est très fréquente, il existe une\n",
        "fonction très proche, `dump`, qui effectue à la fois la conversion et\n",
        "l’écriture."
      ],
      "id": "99175b58-9062-4415-abc5-383609d1ca3e"
    },
    {
      "cell_type": "code",
      "execution_count": 14,
      "metadata": {},
      "outputs": [],
      "source": [
        "with open(\"cv.json\", \"w\") as file_out:\n",
        "    json.dump(cv, file_out)"
      ],
      "id": "3d952da7"
    },
    {
      "cell_type": "code",
      "execution_count": 15,
      "metadata": {},
      "outputs": [],
      "source": [
        "!cat cv.json"
      ],
      "id": "b494bc61"
    },
    {
      "cell_type": "markdown",
      "metadata": {},
      "source": [
        "En une seule opération, on a sérialisé un dictionnaire Python (l’objet\n",
        "`cv`) dans un fichier JSON.\n",
        "\n",
        "### Lecture\n",
        "\n",
        "Le module `json` propose les fonctions `load` et `loads`, qui réalisent\n",
        "respectivement les opérations opposées des fonctions `dump` et `dumps`\n",
        ": - la fonction `load` permet d’importer du contenu JSON présent dans un\n",
        "fichier texte et de le convertir en un dictionnaire - la fonction\n",
        "`loads` permet de convertir du contenu JSON présent dans une chaîne de\n",
        "caractères en un dictionnaire\n",
        "\n",
        "Reprenons le CV que nous avons sérialisé précédemment au format JSON\n",
        "pour illustrer la lecture à partir d’un fichier."
      ],
      "id": "f2f8ed7c-069a-40eb-9299-8995e95258d9"
    },
    {
      "cell_type": "code",
      "execution_count": 16,
      "metadata": {},
      "outputs": [],
      "source": [
        "with open(\"cv.json\", \"r\") as file_in:\n",
        "    data = json.load(file_in)\n",
        "    \n",
        "data"
      ],
      "id": "57b8e94e"
    },
    {
      "cell_type": "markdown",
      "metadata": {},
      "source": [
        "Nous allons illustrer la lecture de contenu JSON à partir d’une chaîne\n",
        "de caractères à partir d’un exemple réaliste : celui du requêtage d’une\n",
        "API. Pour l’exemple, nous allons requêter la Base Adresse Nationale\n",
        "(BAN), qui permet de géolocaliser n’importe quelle adresse nationale.\n",
        "\n",
        "Le requêtage d’API en Python se fait très simplement grâce à la\n",
        "librairie `requests`. Regardons par exemple comment l’on peut récupérer\n",
        "en seulement deux lignes de code les informations géographiques sur\n",
        "toutes les voies qui contiennent le nom “comédie” en France."
      ],
      "id": "9b95272e-4e0f-40df-992a-391a174337e5"
    },
    {
      "cell_type": "code",
      "execution_count": 17,
      "metadata": {},
      "outputs": [],
      "source": [
        "import requests"
      ],
      "id": "67a558e9"
    },
    {
      "cell_type": "code",
      "execution_count": 18,
      "metadata": {},
      "outputs": [],
      "source": [
        "response = requests.get(\"https://api-adresse.data.gouv.fr/search/?q=comedie&type=street\")\n",
        "r_text = response.text\n",
        "print(r_text[:150])"
      ],
      "id": "673e256a"
    },
    {
      "cell_type": "markdown",
      "metadata": {},
      "source": [
        "L’API nous renvoie une réponse, dont on extrait le contenu textuel.\n",
        "Comme pour la très grande majorité des API, ce contenu est du JSON. On\n",
        "peut alors l’importer dans un dictionnaire Python via la fonction\n",
        "`loads` (pour *load string*) pour pouvoir manipuler la donnée qu’il\n",
        "contient."
      ],
      "id": "33d87bd7-9d32-4bee-b54b-c43dc120cb9f"
    },
    {
      "cell_type": "code",
      "execution_count": 19,
      "metadata": {},
      "outputs": [],
      "source": [
        "r_dict = json.loads(r_text)"
      ],
      "id": "98aaa2be"
    },
    {
      "cell_type": "code",
      "execution_count": 20,
      "metadata": {},
      "outputs": [],
      "source": [
        "r_dict.keys()"
      ],
      "id": "ae8d9e25"
    },
    {
      "cell_type": "code",
      "execution_count": 21,
      "metadata": {},
      "outputs": [],
      "source": [
        "type(r_dict[\"features\"])"
      ],
      "id": "d56961b7"
    },
    {
      "cell_type": "markdown",
      "metadata": {},
      "source": [
        "Les résultats qui nous intéressent sont contenues dans la valeur du\n",
        "dictionnaire associée à la clé `features`, qui est une liste de\n",
        "dictionnaires, un par résultat."
      ],
      "id": "4e300e20-f82c-4c20-8850-08487b93fd21"
    },
    {
      "cell_type": "code",
      "execution_count": 22,
      "metadata": {},
      "outputs": [],
      "source": [
        "r_dict[\"features\"][0]"
      ],
      "id": "b4b7b165"
    },
    {
      "cell_type": "code",
      "execution_count": 23,
      "metadata": {},
      "outputs": [],
      "source": [
        "r_dict[\"features\"][1]"
      ],
      "id": "22cad2b1"
    },
    {
      "cell_type": "markdown",
      "metadata": {},
      "source": [
        "## Exercices\n",
        "\n",
        "### Questions de compréhension\n",
        "\n",
        "-   1/ Qu’est ce qu’un fichier CSV ?\n",
        "-   2/ Quel sont les avantages du format CSV ?\n",
        "-   3/ Pourquoi utilise-t-on le module `csv` pour lire et écrire des\n",
        "    fichiers CSV ?\n",
        "-   4/ Les données d’un fichier CSV sont-elles forcément séparées par\n",
        "    des virgules ?\n",
        "-   5/ Qu’est-ce que le *header* d’un fichier CSV ? Existe-t-il\n",
        "    nécessairement ?\n",
        "-   6/ Pourquoi le format JSON est très utilisé dans la manipulation de\n",
        "    données ?\n",
        "-   7/ A quel objet Python ressemble du contenu au format JSON ?\n",
        "-   8/ Quels types d’objets Python peuvent être convertis en JSON ?\n",
        "-   9/ Qu’est ce que la sérialisation d’un objet Python ?\n",
        "-   10/ Quel est le principal point commun entre les fichiers CSV et les\n",
        "    fichiers JSON ?\n",
        "-   11/ Un fichier dont l’extension est .json contient-il nécessairement\n",
        "    du JSON ?"
      ],
      "id": "f307d48e-9275-4c6f-b164-211b9613fcca"
    },
    {
      "cell_type": "code",
      "execution_count": 24,
      "metadata": {},
      "outputs": [],
      "source": [
        "# Testez votre réponse dans cette cellule"
      ],
      "id": "c70e0986"
    },
    {
      "cell_type": "markdown",
      "metadata": {},
      "source": [
        "`myomxghu tags=[] # Exécuter cette cellule pour afficher la solution %load -r 3-39 solutions.py`\n",
        "\n",
        "### Exercice : trier les clés lors de l’écriture d’un JSON\n",
        "\n",
        "La cellule suivante contient un dictionnaire. Le but de l’exercice est\n",
        "d’écrire ces données dans un fichier JSON, en triant les clés du\n",
        "dictionnaire par ordre alphabétique.\n",
        "\n",
        "Indice : la fonction `dump` du module `json` contient un paramètre\n",
        "permettant de trier les clés. Lisez la [documentation de la\n",
        "fonction](https://docs.python.org/fr/3/library/json.html#json.dump) pour\n",
        "le déterminer."
      ],
      "id": "7372ddfd-b1f0-4837-998d-d4b7a7319de1"
    },
    {
      "cell_type": "code",
      "execution_count": 25,
      "metadata": {},
      "outputs": [],
      "source": [
        "data = {\"id\": 1, \"nom\": \"Isidore\", \"age\": 29}"
      ],
      "id": "b36c23fc"
    },
    {
      "cell_type": "code",
      "execution_count": 26,
      "metadata": {},
      "outputs": [],
      "source": [
        "# Testez votre réponse dans cette cellule"
      ],
      "id": "ebed1192"
    },
    {
      "cell_type": "markdown",
      "metadata": {},
      "source": [
        "`myomxghu tags=[] # Exécuter cette cellule pour afficher la solution %load -r 43-48 solutions.py`\n",
        "\n",
        "### Exercice : convertir un objet non-sérialisable en JSON\n",
        "\n",
        "Nous avons vu que les objets que l’on crée manuellement via des classes\n",
        "ne sont généralement pas sérialisables. La cellule suivante en montre un\n",
        "exemple avec notre objet `Citron` utilisé dans le tutoriel sur la POO.\n",
        "Essayer de convertir directement l’objet en JSON renvoie une erreur.\n",
        "\n",
        "Vous devez modifier le code suivant afin de pouvoir sérialiser l’objet.\n",
        "Pour cela, vous devez : - convertir l’instance `mon_citron` en utilisant\n",
        "la méthode *built-in* `__dict__` que possèdent tous les objets Python -\n",
        "convertir le dictionnaire obtenu en JSON sous forme de chaîne de\n",
        "caractères"
      ],
      "id": "9a315b7c-c6e8-474e-beb2-af2bd287f605"
    },
    {
      "cell_type": "code",
      "execution_count": 27,
      "metadata": {},
      "outputs": [],
      "source": [
        "import json\n",
        "\n",
        "class Citron:\n",
        "\n",
        "    def __init__(self, couleur, qte_jus):\n",
        "        self.saveur = \"acide\"\n",
        "        self.couleur = couleur\n",
        "        self.jus = qte_jus\n",
        "        \n",
        "mon_citron = Citron(couleur=\"jaune\", qte_jus=45)\n",
        "json.dumps(mon_citron)"
      ],
      "id": "4f426223"
    },
    {
      "cell_type": "code",
      "execution_count": 28,
      "metadata": {},
      "outputs": [],
      "source": [
        "# Testez votre réponse dans cette cellule"
      ],
      "id": "1980d81b"
    },
    {
      "cell_type": "markdown",
      "metadata": {},
      "source": [
        "`myomxghu tags=[] # Exécuter cette cellule pour afficher la solution %load -r 52-64 solutions.py`\n",
        "\n",
        "### Exercice : changer le délimiteur d’un fichier CSV\n",
        "\n",
        "Votre répertoire courant contient le fichier `nat2020.csv`. Il s’agit du\n",
        "fichier des prénoms diffusé par l’Insee : il contient des données sur\n",
        "les prénoms attribués aux enfants nés en France entre 1900 et 2020.\n",
        "\n",
        "Problème : contrairement au standard CSV, le délimiteur utilisé n’est\n",
        "pas la virgule. Vous devez donc : - trouver le séparateur utilisé (via\n",
        "l’éditeur de texte Jupyter, via une commande shell, en testant avec le\n",
        "module `csv` en Python..) pour lire correctement le fichier - générer un\n",
        "nouveau fichier CSV `nat2020_corr.csv` contenant les mêmes données, mais\n",
        "cette fois avec la virgule comme séparateur."
      ],
      "id": "35852ddc-876d-4d5a-b544-66b5a4b47d6b"
    },
    {
      "cell_type": "code",
      "execution_count": 29,
      "metadata": {},
      "outputs": [],
      "source": [
        "# Testez votre réponse dans cette cellule"
      ],
      "id": "c21c3db2"
    },
    {
      "cell_type": "markdown",
      "metadata": {},
      "source": [
        "`myomxghu tags=[] # Exécuter cette cellule pour afficher la solution %load -r 68-81 solutions.py`\n",
        "\n",
        "### Exercice : extraire et sauvegarder des données issues d’une API\n",
        "\n",
        "L’exercice consiste à effectuer une requête à l’API de la Base Adresse\n",
        "Nationale, et sauvegarder les résultats dans un fichier CSV. Voici les\n",
        "étapes à implémenter : - effectuer une requête de nom de rue avec un mot\n",
        "clé comme dans le tutoriel (si vous souhaitez faire une requête plus\n",
        "complexe, vous pouvez regarder la [documentation de\n",
        "l’API](https://adresse.data.gouv.fr/api-doc/adresse)) et stocker les\n",
        "résultats dans un dictionnaire - créer un fichier CSV\n",
        "`resultats_ban.csv` dans lequel on va stocker les informations suivantes\n",
        ": ‘nom’, ‘ville’, ‘code_commune’, ‘longitude’, ‘latitude’ - à l’aide\n",
        "d’un objet `writer` et d’une boucle sur les résultats renvoyés par\n",
        "l’API, écrivez chaque ligne dans le CSV\n",
        "\n",
        "Par exemple, pour la requête de voie contenant le mot “comedie”, voici\n",
        "le CSV à obtenir :\n",
        "\n",
        "    nom,ville,code_commune,longitude,latitude\n",
        "    Rue de la Vieille Comedie,Lille,59350,3.063832,50.635192\n",
        "    Place de la Comédie,Montpellier,34172,3.879638,43.608525\n",
        "    Rue de la Comédie,Cherbourg-en-Cotentin,50129,-1.629732,49.641574\n",
        "    Allee de la Comedie,Villeneuve-d'Ascq,59009,3.162808,50.64628\n",
        "    Rue de l’Ancienne Comedie,Poitiers,86194,0.342649,46.580457"
      ],
      "id": "6072cf30-954e-4797-97fd-bebd077bede7"
    },
    {
      "cell_type": "code",
      "execution_count": 30,
      "metadata": {},
      "outputs": [],
      "source": [
        "# Testez votre réponse dans cette cellule"
      ],
      "id": "9d9eb172"
    },
    {
      "cell_type": "markdown",
      "metadata": {},
      "source": [
        "`myomxghu tags=[] # Exécuter cette cellule pour afficher la solution %load -r 85-99 solutions.py`\n",
        "\n",
        "### Exercice : découper la base des départements par régions\n",
        "\n",
        "L’objectif de cet exercice est de découper le fichier CSV des\n",
        "départements que nous avons utilisé dans le tutoriel en plusieurs petits\n",
        "CSV, un par région. Ce type d’opération peut être utile par exemple\n",
        "lorsqu’on travaille avec un fichier de très grande taille, qui ne passe\n",
        "pas en mémoire ; le découper en plusieurs fichiers que l’on traite\n",
        "indépendamment, lorsque cela est possible, permet de réduire la\n",
        "volumétrie.\n",
        "\n",
        "Voici la liste des opérations à effectuer : - créer un dossier `dep`\n",
        "dans le répertoire courant à l’aide du module `pathlib` (cf. tutoriel\n",
        "précédent) - avec un objet `reader` du module `csv`, faire une boucle\n",
        "sur les lignes du fichier CSV des départements. Attention à ne pas\n",
        "inclure le *header*, en utilisant la fonction `next` pour passer la\n",
        "première ligne. Pour chaque ligne suivante : - récupérer le code région\n",
        "(variable `REG`) - générer le chemin du fichier CSV `dep/{REG}.csv` où\n",
        "{REG} est à remplacer par le code région de la ligne - ouvrir ce fichier\n",
        "CSV en mode `append` pour écrire la ligne à la fin du fichier"
      ],
      "id": "72d84070-7ab7-4751-976a-b446209e34dd"
    },
    {
      "cell_type": "code",
      "execution_count": 31,
      "metadata": {},
      "outputs": [],
      "source": [
        "# Testez votre réponse dans cette cellule"
      ],
      "id": "e6258889"
    },
    {
      "cell_type": "markdown",
      "metadata": {},
      "source": [
        "`myomxghu tags=[] # Exécuter cette cellule pour afficher la solution %load -r 103-117 solutions.py`\n",
        "\n",
        "### Exercice : rajouter des *headers* manquants\n",
        "\n",
        "Dans l’exercice précédent, nous avons découpé le fichier CSV des\n",
        "départements français en plusieurs fichiers CSV, un par région. Mais\n",
        "nous n’avons pas inclus dans les différents fichiers le *header*,\n",
        "i.e. la première ligne qui contient les noms de colonnes. On va donc\n",
        "l’ajouter manuellement à chacun des fichiers CSV créés lors de\n",
        "l’exercice précédent.\n",
        "\n",
        "Voici la liste des opérations à effectuer : - lire le fichier des\n",
        "départements complet et récupérer le `header` dans une liste avec la\n",
        "fonction `next` - enregistrer dans une liste les chemins des différents\n",
        "fichiers CSV contenus dans le dossier `dep` avec la méthode `glob` de\n",
        "`pathlib` (cf. tutoriel précédent) - pour chaque chemin : - ouvrir le\n",
        "fichier CSV déjà existant, et récupérer les données sous forme d’une\n",
        "liste de listes (une liste par ligne) - ouvrir le fichier CSV en\n",
        "écriture pour le réinitialiser, écrire le header en premier lieu, puis\n",
        "écrire les données que l’on a au préalable sauvegardées dans une liste\n",
        "de liste"
      ],
      "id": "62aced5d-0a3f-4123-b20a-b026ef3338c5"
    },
    {
      "cell_type": "code",
      "execution_count": 32,
      "metadata": {},
      "outputs": [],
      "source": [
        "# Testez votre réponse dans cette cellule"
      ],
      "id": "62e8f073"
    },
    {
      "cell_type": "markdown",
      "metadata": {},
      "source": [
        "`myomxghu tags=[] # Exécuter cette cellule pour afficher la solution %load -r 121-141 solutions.py`"
      ],
      "id": "d90639c2-85d0-4433-bfc8-30cc820d4484"
    }
  ],
  "nbformat": 4,
  "nbformat_minor": 5,
  "metadata": {
    "kernelspec": {
      "name": "python3",
      "display_name": "Python 3 (ipykernel)",
      "language": "python"
    },
    "language_info": {
      "name": "python",
      "codemirror_mode": {
        "name": "ipython",
        "version": "3"
      },
      "file_extension": ".py",
      "mimetype": "text/x-python",
      "nbconvert_exporter": "python",
      "pygments_lexer": "ipython3",
      "version": "3.10.12"
    }
  }
}