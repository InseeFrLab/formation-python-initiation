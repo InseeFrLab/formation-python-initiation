{
 "cells": [
  {
   "cell_type": "raw",
   "id": "51411279",
   "metadata": {},
   "source": [
    "---\n",
    "title: \"Manipulation de fichiers\"\n",
    "abstract: \"Manipulation de fichiers externes : import de modules et lecture/écriture de fichiers texte.\"\n",
    "---"
   ]
  },
  {
   "cell_type": "markdown",
   "id": "02e4804e",
   "metadata": {},
   "source": [
    "Dans les tutoriels précédents, nous avons utilisé systématiquement des variables pour stocker des données et réaliser des opérations sur celles-ci. Cette façon de faire peut suffire dans le cadre d'une session Python donnée, comme ici dans un notebook Jupyter ou bien dans un programme. \n",
    "\n",
    "Mais que se passe-t-il par exemple si l'on souhaite conserver les sorties des calculs réalisés ou bien des données transformées une fois la session terminée ? Il nous faut alors sauvegarder ces éléments dans un fichier, à un endroit où ces données vont persister dans le temps en vue d'une utilisation ultérieure. Dans ce tutoriel, nous allons voir comment **lire et écrire des fichiers avec Python**."
   ]
  },
  {
   "cell_type": "markdown",
   "id": "86e4123f",
   "metadata": {},
   "source": [
    "## Quelques notions sur les modules et les *packages*"
   ]
  },
  {
   "cell_type": "markdown",
   "id": "47d03831",
   "metadata": {},
   "source": [
    "Avant de parler de manipulation de fichiers, nous devons faire un bref détour par le monde des modules et des ***packages*** (librairies). \n",
    "\n",
    "Jusqu'à maintenant, nous avons essentiellement utilisé des objets et des instructions standards de Python, qui ne nécessitaient donc pas d'import tiers. Dans ce tutoriel et tous ceux qui vont suivre, nous allons réaliser des opérations plus complexes (interagir avec un système de fichiers, faire du calcul vectoriel, manipuler des données tabulaires, etc.) qu'il serait très coûteux, inefficient, et avec un potentiel d'erreur énorme, de coder à la main en utilisant les objets de base de Python. \n",
    "\n",
    "C'est pourquoi nous allons utiliser des *packages*, sortes de boîtes à outils  remplies de **fonctions** et de **classes** développées par d'autres (généralement de manière communautaire) et qui permettent de réaliser des opérations complexes à moindre coût."
   ]
  },
  {
   "cell_type": "markdown",
   "id": "6d8d1451",
   "metadata": {},
   "source": [
    "### Terminologie"
   ]
  },
  {
   "cell_type": "markdown",
   "id": "1921f88d",
   "metadata": {},
   "source": [
    "Commençons par quelques brefs éléments de terminologie pour bien se repérer dans l'écosystème Python : \n",
    "- un **module** est un fichier texte (portant l'extension .py pour bien marquer le lien à Python) contenant un ensemble de définitions (de **classes**, de **fonctions**) et d'instructions, que l'on peut importer dans un environnement Python afin de les utiliser.\n",
    "- un **package** est un ensemble de modules réunis dans un même répertoire\n",
    "\n",
    "Par exemple, nous allons voir en détails dans la prochaine partie l'utilisation de `numpy`. `numpy` est un *package* qui permet de faire du calcul scientifique sur des objets multidimensionnels. Pour ce faire, `numpy` met à disposition un nombre gigantesque de fonctions et d'outils. Toutes les mettre dans un seul et même module serait franchement illisible. Ainsi, `numpy` est structuré en différents modules qui groupent les fonctions réalisant des opérations similaires : les fonctions générant de l'aléatoire dans le module `random`, celles réalisant de l'algèbre linéaire dans le module `linalg`, etc."
   ]
  },
  {
   "cell_type": "markdown",
   "id": "eb9563e3",
   "metadata": {},
   "source": [
    "### Import de module"
   ]
  },
  {
   "cell_type": "markdown",
   "id": "3b6e1484",
   "metadata": {},
   "source": [
    "Pour pouvoir exploiter les fonctions d'un module et les différents modules qui constituent un *package*, il nous faut en premier lieu les importer.\n",
    "\n",
    "La syntaxe est très simple, illustrons là à travers un exemple."
   ]
  },
  {
   "cell_type": "code",
   "execution_count": null,
   "id": "a0a4e4db",
   "metadata": {},
   "outputs": [],
   "source": [
    "import random\n",
    "random.randint(0, 100)"
   ]
  },
  {
   "cell_type": "markdown",
   "id": "339121c0",
   "metadata": {},
   "source": [
    "Nous avons importé le module `random` (complet) de la librairie standard de Python via l'instruction `import`. Ensuite, nous avons fait appel à la fonction `randint` contenue dans le module `random`, qui renvoie un nombre aléatoire entre `a` et `b` ses paramètres."
   ]
  },
  {
   "cell_type": "markdown",
   "id": "7be93f06",
   "metadata": {},
   "source": [
    "On aurait pu également importer *seulement* la fonction `randint` en utilisant la syntaxe `from module import fonction`. Il n'est alors plus nécessaire de spécifier le nom du module lorsqu'on appelle la fonction."
   ]
  },
  {
   "cell_type": "code",
   "execution_count": null,
   "id": "46730674",
   "metadata": {},
   "outputs": [],
   "source": [
    "from random import randint\n",
    "randint(0, 100)"
   ]
  },
  {
   "cell_type": "markdown",
   "id": "01535946",
   "metadata": {},
   "source": [
    "Enfin, il arrive parfois de voir la syntaxe `from module import *` (`*` s'appelle le *wildcard*) qui a pour effet d'importer en mémoire *toutes* les fonctions du module. Nous verrons cependant dans le chapitre sur les bonnes pratiques que ce n'est pas une bonne idée en général."
   ]
  },
  {
   "cell_type": "markdown",
   "id": "8daa5a88",
   "metadata": {},
   "source": [
    "### Import de *package*"
   ]
  },
  {
   "cell_type": "markdown",
   "id": "e0b86f1f",
   "metadata": {},
   "source": [
    "Un *package* est simplement une collection de modules, structurée selon une arborescence. La syntaxe pour importer un *package* est analogue à celle pour importer un module, mais généralement plus longue.\n",
    "\n",
    "Par exemple, regardons à nouveau comment utiliser la fonction `randint`, mais cette fois celle de `numpy` (qui fait la même chose)."
   ]
  },
  {
   "cell_type": "code",
   "execution_count": null,
   "id": "d37ad414",
   "metadata": {},
   "outputs": [],
   "source": [
    "import numpy"
   ]
  },
  {
   "cell_type": "code",
   "execution_count": null,
   "id": "908b7a01",
   "metadata": {},
   "outputs": [],
   "source": [
    "numpy.random.randint(0, 100)"
   ]
  },
  {
   "cell_type": "markdown",
   "id": "163500c6",
   "metadata": {},
   "source": [
    "On a importé le package `numpy`, qui nous a permis d'accéder via son module `random` à la fonction `randint`. Là encore, on aurait pu importer directement la fonction."
   ]
  },
  {
   "cell_type": "code",
   "execution_count": null,
   "id": "6ce099a2",
   "metadata": {},
   "outputs": [],
   "source": [
    "from numpy.random import randint"
   ]
  },
  {
   "cell_type": "code",
   "execution_count": null,
   "id": "738da77f",
   "metadata": {},
   "outputs": [],
   "source": [
    "randint(0, 100)"
   ]
  },
  {
   "cell_type": "markdown",
   "id": "5472a839",
   "metadata": {},
   "source": [
    "En pratique, la première syntaxe est préférable : il est toujours plus lisible de montrer explicitement d'où vient la fonction que l'on appelle. Pour réduire la verbosité, il est fréquent de donner un ***alias*** aux packages que l'on importe. Voici les trois plus fréquents, que l'on rencontrera très souvent dans les tutoriels du prochain chapitre sur la manipulation de données. "
   ]
  },
  {
   "cell_type": "code",
   "execution_count": null,
   "id": "aa502afb",
   "metadata": {},
   "outputs": [],
   "source": [
    "import numpy as np\n",
    "import pandas as pd\n",
    "import matplotlib.pyplot as plt"
   ]
  },
  {
   "cell_type": "markdown",
   "id": "98d9b68e",
   "metadata": {},
   "source": [
    "On peut alors utiliser ces *alias* pour appeler des modules et des fonctions."
   ]
  },
  {
   "cell_type": "code",
   "execution_count": null,
   "id": "cf842c52",
   "metadata": {},
   "outputs": [],
   "source": [
    "x = np.linspace(0, 10, 1000)\n",
    "plt.plot(x, np.sin(x))"
   ]
  },
  {
   "cell_type": "markdown",
   "id": "0aa19418",
   "metadata": {},
   "source": [
    "### Installation de *packages*"
   ]
  },
  {
   "cell_type": "markdown",
   "id": "d5e9599a",
   "metadata": {},
   "source": [
    "L'installation de *packages* tiers en Python est un sujet à la fois très simple et très complexe. Très simple car la syntaxe strictement nécessaire pour installer un *package* dans un notebook Jupyter se résume à `!pip install nom_du_package` (le `!` permettant d'envoyer la commande au terminal). Mais très complexe dans la mesure où beaucoup de considérations techniques interviennent derrière cette simple commande (environnement d'exécution, choix du gestionnaire de *packages*, gestion des dépendances, etc.). En l'occurrence, tous les *packages* nécessaires au cours de cette formation sont déjà installés. Nous reviendrons plus en détails sur ce sujet dans la dernière partie sur les bonnes pratiques de développement à adopter en Python."
   ]
  },
  {
   "cell_type": "markdown",
   "id": "90d361b4",
   "metadata": {},
   "source": [
    "## Manipulation de fichiers"
   ]
  },
  {
   "cell_type": "markdown",
   "id": "060d4a6b",
   "metadata": {},
   "source": [
    "### Interagir avec le système de fichiers local"
   ]
  },
  {
   "cell_type": "markdown",
   "id": "b9e23d20",
   "metadata": {},
   "source": [
    "Pour pouvoir lire et écrire des fichiers avec Python, il nous faut d'abord comprendre comment ceux-ci sont représentés sur le système de fichiers (*file system*) local, et comment Python interagit avec ce dernier. \n",
    "\n",
    "**Le module pathlib**\n",
    "\n",
    "Pour ce faire, nous allons utiliser de manière répétée le module `pathlib` et en particulier la classe `Path`. Ce module permet d'interagir avec le système de fichiers sous forme d'objets, en manipulant des attributs et leurs méthodes. Pas de panique, nous avons vu tout ce qu'il nous fallait savoir à ce propos dans le précédent tutoriel."
   ]
  },
  {
   "cell_type": "code",
   "execution_count": null,
   "id": "de7bb71b",
   "metadata": {},
   "outputs": [],
   "source": [
    "from pathlib import Path"
   ]
  },
  {
   "cell_type": "markdown",
   "id": "e7729a1e",
   "metadata": {},
   "source": [
    "**Propriétés d'un fichier**\n",
    "\n",
    "Un fichier a deux propriétés : \n",
    "- un **nom de fichier**\n",
    "- un **chemin** (*path*), qui spécifie sa localisation dans le système de fichiers.\n",
    "\n",
    "A titre d'exemple, regardons les fichiers qui se trouvent dans notre répertoire courant (par défaut, le dossier dans lequel se trouve ce notebook). La méthode à utiliser s'appelle `cwd`, pour *current working directory*."
   ]
  },
  {
   "cell_type": "code",
   "execution_count": null,
   "id": "dcdbd229",
   "metadata": {},
   "outputs": [],
   "source": [
    "Path.cwd()"
   ]
  },
  {
   "cell_type": "markdown",
   "id": "f8756f69",
   "metadata": {},
   "source": [
    "Le chemin de notre répertoire courant est contenu dans un objet `PosixPath`, ce qui signifie simplement que `pathlib` a compris que nous étions sur un environnement de type Unix (les serveurs du SSP Cloud sont sous Linux). Si vous exécutiez ce notebook en local sur un ordinateur Windows, l'objet serait `WindowsPath`. Concrètement, cela ne change pas grand chose pour vous mais c'est en fait assez important : les systèmes de fichiers n'utilisent pas les mêmes conventions entre les différents environnements (ex : les séparateurs entre dossiers dans un chemin ne sont pas les mêmes), mais `pathlib` vous permet d'interagir avec ces différents systèmes de manière harmonisée."
   ]
  },
  {
   "cell_type": "markdown",
   "id": "b80910ba",
   "metadata": {},
   "source": [
    "Maintenant, listons tous les fichiers contenus dans notre répertoire courant. On utilise pour cela une seconde méthode `glob` qui va simplement renvoyer tous les fichiers dont le nom a une certaine structure. Par exemple, `.glob('*.txt')` va récupérer tous les fichiers dont l'extension est `.txt` et `.glob('test.*')` va récupérer tous les fichiers dont le nom est `test`, quelle que soit leur extension. Ici, on récupère tous les fichiers en utilisant des *wildcards* `*` aux deux positions.\n",
    "\n",
    "Cette méthode renvoie un objet un peu spécial (un *générateur*). Si vous vous rappelez bien, on avait déjà rencontré le même cas avec la fonction `range`. Il suffit d'appeler la fonction `list` sur le tout pour afficher les résultats de manière lisible."
   ]
  },
  {
   "cell_type": "code",
   "execution_count": null,
   "id": "18e5152b",
   "metadata": {},
   "outputs": [],
   "source": [
    "Path.cwd().glob('*.*')"
   ]
  },
  {
   "cell_type": "code",
   "execution_count": null,
   "id": "3b85325d",
   "metadata": {},
   "outputs": [],
   "source": [
    "list(Path.cwd().glob('*.*'))"
   ]
  },
  {
   "cell_type": "markdown",
   "id": "e15bed9c",
   "metadata": {},
   "source": [
    "On retrouve notre notebook, un fichier qui contient les solutions des exercices du tutoriel, et un certain nombre de fichiers texte qui vont servir d'exemples dans la suite du tutoriel. Si l'on prend le notebook par exemple, on distingue bien :\n",
    "- son nom de fichier : `tutorial.ipynb`\n",
    "- son chemin : `/home/jovyan/work/formation/`"
   ]
  },
  {
   "cell_type": "markdown",
   "id": "04fd0789",
   "metadata": {},
   "source": [
    "**Chemins absolus et chemins relatifs**\n",
    "\n",
    "Il y a deux manières possibles de spécifier le chemin d'un fichier : \n",
    "- de manière **absolue**, le chemin commence alors par la racine (`/` en Unix, `C:\\` en Windows, etc.). Les chemins renvoyés ci-dessus sont donc absolus.\n",
    "- de manière **relative**, i.e. relativement au répertoire courant du programme Python. Dès lors qu'un chemin ne commence pas par la racine, `pathlib` va le considérer relatif.\n",
    "\n",
    "Cette distinction va s'avérer assez importante par la suite, lorsqu'il sera question de lire et d'écrire des fichiers."
   ]
  },
  {
   "cell_type": "markdown",
   "id": "e31cf482",
   "metadata": {},
   "source": [
    "**Former des chemins**\n",
    "\n",
    "En pratique, ce qui nous intéresse est de pouvoir constituer nos propres chemins -- qu'ils soient absolus ou relatifs au répertoire courant -- afin de spécifier où se trouvent les fichiers que nous souhaitons lire ou bien où doivent se trouver les fichiers que l'on souhaite écrire.\n",
    "\n",
    "`pathlib` offre une syntaxe très intuitive pour constituer des chemins, très similaire à la concaténation des chaînes de caractères que nous avons déjà vue. Au lieu d'un `+`, on va cette fois utiliser un `/` pour concaténer les différentes parties d'un chemin.\n",
    "\n",
    "Par exemple, essayons de reconstruire le chemin complet de ce notebook. On peut commencer par trouver le chemin du *home* directory, qui est le dossier standard dans lequel se trouvent tous les fichiers de l'utilisateur."
   ]
  },
  {
   "cell_type": "code",
   "execution_count": null,
   "id": "aeaefd98",
   "metadata": {},
   "outputs": [],
   "source": [
    "Path.home()"
   ]
  },
  {
   "cell_type": "markdown",
   "id": "61ae4900",
   "metadata": {},
   "source": [
    "On peut alors concaténer les différents sous-dossier et le nom de fichier du notebook pour obtenir le chemin complet vers celui-ci."
   ]
  },
  {
   "cell_type": "code",
   "execution_count": null,
   "id": "1eaa5ed1",
   "metadata": {},
   "outputs": [],
   "source": [
    "path_nb = Path.home() / 'work' / 'formation' / 'tutorial.ipynb'\n",
    "path_nb"
   ]
  },
  {
   "cell_type": "markdown",
   "id": "809267f2",
   "metadata": {},
   "source": [
    "On retrouve bien exactement le même chemin que celui obtenu en listant les fichiers présents dans le répertoire courant. "
   ]
  },
  {
   "cell_type": "markdown",
   "id": "471949b9",
   "metadata": {},
   "source": [
    "**Plus sur `pathlib`**\n",
    "\n",
    "Nous n'avons vu qu'un aperçu des outils qu'offre le module `pathlib` pour interagir avec le système de fichiers local. La [documentation officielle](https://docs.python.org/fr/3/library/pathlib.html) présente de manière exhaustive ces possibilités. Nous présenterons dans ce tutoriel et dans les suivants d'autres méthodes issues de cette librairie, à mesure que l'occasion se présente. Pour l'heure, nous en savons suffisamment pour lire et écrire des fichiers sur le système de fichiers."
   ]
  },
  {
   "cell_type": "markdown",
   "id": "e4297d53",
   "metadata": {},
   "source": [
    "### Fichiers texte et fichiers binaires"
   ]
  },
  {
   "cell_type": "markdown",
   "id": "a9ec6d52",
   "metadata": {},
   "source": [
    "En programmation, on est généralement amenés à manipuler deux grandes familles de fichiers bien différentes : \n",
    "- les **fichiers texte**. Ils ne contiennent que des caractères textuels standards -- techniquement, qui respectent le standard [Unicode](https://fr.wikipedia.org/wiki/Unicode) -- sans informations de *formatting* (police, couleur, etc.). Les fichiers *.txt* ou encore les scripts Python finissant en *.py* sont des exemples de fichiers texte. Ces fichiers peuvent être lus avec n'importe quel éditeur de texte.\n",
    "- les **fichiers binaires**. Ce sont en fait tous les autres types de fichiers : fichiers compressés (*.zip*, *tar.gz*, etc.), documents PDFs, images, programmes, etc. Ouvrir un tel fichier avec un éditeur de texte produit généralement une grande suite de caractères incompréhensibles, car la représentation textuelle n'est pas adaptée à ces données.\n",
    "\n",
    "Comme vous pouvez l'imaginer, ces deux types de fichier se traitent avec des outils différents. Par ailleurs, du fait de la diversité des fichiers binaires, chacun de ses fichiers nécessite un traitement particulier. Dans un contexte de programmation, on est cependant principalement à manipuler du code, qui est une donnée textuelle. On va donc s'intéresser uniquement à l'**écriture et à la lecture de fichiers texte** dans ce tutoriel, mais il est important de savoir reconnaître des données binaires lorsqu'on est amené à en traiter."
   ]
  },
  {
   "cell_type": "markdown",
   "id": "f401b390",
   "metadata": {},
   "source": [
    "### Ouvrir un fichier"
   ]
  },
  {
   "cell_type": "markdown",
   "id": "592c374d",
   "metadata": {},
   "source": [
    "Demander à Python d'ouvrir un fichier revient à ouvrir une connexion entre l'environnement Python sur lequel vous êtes et le fichier. Tant que cette connexion est ouverte, il est possible de manipuler le fichier. \n",
    "\n",
    "Pour ouvrir un fichier, on utilise la fonction `open`. On va par exemple ouvrir le fichier `gamme.txt` qui a été mis dans le répertoire courant."
   ]
  },
  {
   "cell_type": "code",
   "execution_count": null,
   "id": "aa437138",
   "metadata": {},
   "outputs": [],
   "source": [
    "path_gamme = Path.cwd() / 'gamme.txt'\n",
    "file_in = open(path_gamme, 'r')\n",
    "file_in"
   ]
  },
  {
   "cell_type": "markdown",
   "id": "966c0312",
   "metadata": {},
   "source": [
    "La fonction `open` renvoie un objet de type `_io.TextIOWrapper `, qui spécifie le **mode d'encodage** du fichier et le **mode d'ouverture**.\n",
    "\n",
    "L'encodage et le décodage sont des sujets techniques, que nous aborderons plus en détail dans un futur tutoriel. Pour le moment, retenons que le mode d'encodage par défaut est l'`UTF-8`, et qu'il n'y a jamais vraiment de bonne raison de choisir un autre mode. \n",
    "\n",
    "En revanche, le **mode d'ouverture** est très important. Il y a trois modes principaux :\n",
    "- `r` : **lecture seule**. Le fichier ne peut qu'être lu, mais pas modifié. C'est le mode par défaut lorsqu'on ne spécifie aucun mode.\n",
    "- `w` : **écriture**. Il est possible dans ce mode d'écrire sur un fichier. **Attention : si un fichier avec le même nom existe déjà, il sera automatiquement écrasé.**\n",
    "- `a` : **appending**. Ce mode ne permet que de rajouter des lignes à la fin d'un fichier existant.\n",
    "\n",
    "Une fois le fichier ouvert, on peut réaliser des opérations sur ce fichier à l'aide de méthodes attachées à l'objet qui le représente. On verra dans la section suivante ce que fait la méthode `readlines`."
   ]
  },
  {
   "cell_type": "code",
   "execution_count": null,
   "id": "814daa44",
   "metadata": {},
   "outputs": [],
   "source": [
    "file_in.readlines()"
   ]
  },
  {
   "cell_type": "markdown",
   "id": "399de8ff",
   "metadata": {},
   "source": [
    "Une fois les manipulations terminées, on ferme la connexion avec la méthode `close`. Il n'est alors plus possible de manipuler le fichier."
   ]
  },
  {
   "cell_type": "code",
   "execution_count": null,
   "id": "8e7e0404",
   "metadata": {},
   "outputs": [],
   "source": [
    "file_in.close()"
   ]
  },
  {
   "cell_type": "markdown",
   "id": "661c5534",
   "metadata": {},
   "source": [
    "En pratique, on oublie facilement de fermer la connexion à un fichier, ce qui peut créer des erreurs pénibles. Il existe une syntaxe qui permet d'éviter ce problème en utilisant un **context manager** qui gère toute la connexion pour nous."
   ]
  },
  {
   "cell_type": "code",
   "execution_count": null,
   "id": "93498c37",
   "metadata": {},
   "outputs": [],
   "source": [
    "with open(path_gamme, 'r') as file_in:\n",
    "    lines = file_in.readlines()\n",
    "    \n",
    "lines"
   ]
  },
  {
   "cell_type": "markdown",
   "id": "7460eec1",
   "metadata": {},
   "source": [
    "Cette syntaxe est beaucoup plus lisible : grâce à l'indentation, on voit clairement les opérations qui sont effectuées tant que le fichier est ouvert, et ce dernier est automatiquement fermé dès lors que l'on revient au niveau initial d'indentation. On préférera toujours utiliser cette syntaxe si possible, c'est une bonne pratique de programmation. "
   ]
  },
  {
   "cell_type": "markdown",
   "id": "4387f4ff",
   "metadata": {},
   "source": [
    "### Lire un fichier"
   ]
  },
  {
   "cell_type": "markdown",
   "id": "a90041f6",
   "metadata": {},
   "source": [
    "Une fois un fichier ouvert, on peut vouloir lire son contenu. Il existe différentes manières de faire. Une méthode simple et élégante est de parcourir le fichier à l'aide d'une boucle, ce qui est rendu possible par le fait que l'objet Python représentant le fichier est **itérable**."
   ]
  },
  {
   "cell_type": "code",
   "execution_count": null,
   "id": "c16239b8",
   "metadata": {},
   "outputs": [],
   "source": [
    "with open(path_gamme, 'r') as file_in:\n",
    "    for line in file_in:\n",
    "        print(line)"
   ]
  },
  {
   "cell_type": "markdown",
   "id": "3db4437a",
   "metadata": {},
   "source": [
    "Dans notre exemple, nous avons simplement affiché les lignes, mais on peut faire de nombreuses choses à partir des données présentes dans le fichier texte : les stocker dans un objet Python, les utiliser pour faire des calculs, ne conserver que les lignes qui répondent à une condition donnée via une instruction `if`, etc."
   ]
  },
  {
   "cell_type": "markdown",
   "id": "9135e0f3",
   "metadata": {},
   "source": [
    "Il existe également des méthodes toutes faites pour lire le contenu d'un fichier. La plus basique est la méthode `read`, qui retourne l'ensemble du fichier comme une (potentiellement très longue) chaîne de caractères."
   ]
  },
  {
   "cell_type": "code",
   "execution_count": null,
   "id": "b76a14ff",
   "metadata": {},
   "outputs": [],
   "source": [
    "with open(path_gamme, 'r') as file_in:\n",
    "    txt = file_in.read()\n",
    "    \n",
    "txt"
   ]
  },
  {
   "cell_type": "markdown",
   "id": "175bdcf2",
   "metadata": {},
   "source": [
    "C'est rarement très utile : on préfère en général récupérer individuellement les lignes d'un fichier. La méthode `readlines` parcourt le fichier complet, et renvoie une liste dont les éléments sont les lignes du fichier, dans l'ordre d'apparition."
   ]
  },
  {
   "cell_type": "code",
   "execution_count": null,
   "id": "4fd535f8",
   "metadata": {},
   "outputs": [],
   "source": [
    "with open(path_gamme, 'r') as file_in:\n",
    "    l = file_in.readlines()\n",
    "    \n",
    "l"
   ]
  },
  {
   "cell_type": "markdown",
   "id": "281f6f2e",
   "metadata": {},
   "source": [
    "Notons que chaque élément de la liste (sauf le dernier) se termine par le caractère spécial `\\n` (\"retour à la ligne\") qui marque simplement la fin de chaque ligne dans un fichier texte. C'est la présence (cachée) de ce même caractère à la fin de chaque appel à la fonction `print` qui fait que l'on revient à la ligne à chaque fois que l'on utilise un `print`."
   ]
  },
  {
   "cell_type": "markdown",
   "id": "93e3e59d",
   "metadata": {},
   "source": [
    "### Écrire dans un fichier"
   ]
  },
  {
   "cell_type": "markdown",
   "id": "98d89409",
   "metadata": {},
   "source": [
    "L'écriture dans un fichier est très simple, elle s'effectue à l'aide de la méthode `write`. Par exemple, écrivons dans un fichier ligne à ligne les différents éléments contenus dans une liste."
   ]
  },
  {
   "cell_type": "code",
   "execution_count": null,
   "id": "d2682f8a",
   "metadata": {},
   "outputs": [],
   "source": [
    "ex = [\"ceci\", \"est\", \"un\", \"exemple\", \"très\", \"original\"]\n",
    "\n",
    "with open(\"test.txt\", \"w\") as file_out:\n",
    "    for elem in ex:\n",
    "        file_out.write(elem)"
   ]
  },
  {
   "cell_type": "markdown",
   "id": "411d7ef3",
   "metadata": {},
   "source": [
    "Tout semble s'être passé sans encombre. On peut vérifier que notre fichier a bien été crée via une commande dans le terminal."
   ]
  },
  {
   "cell_type": "code",
   "execution_count": null,
   "id": "4a61c124",
   "metadata": {},
   "outputs": [],
   "source": [
    "!ls"
   ]
  },
  {
   "cell_type": "markdown",
   "id": "209cb2e4",
   "metadata": {},
   "source": [
    "Il est bien là. Vérifions maintenant que son contenu est bien celui que l'on souhaitait."
   ]
  },
  {
   "cell_type": "code",
   "execution_count": null,
   "id": "d3668cf8",
   "metadata": {},
   "outputs": [],
   "source": [
    "with open(\"test.txt\", \"r\") as file_out:\n",
    "    print(file_out.read())"
   ]
  },
  {
   "cell_type": "markdown",
   "id": "2ffbf321",
   "metadata": {},
   "source": [
    "Les différents éléments de notre liste se sont fusionnés en un seul bloc de texte ! C'est parce que, contrairement à la fonction `print` par exemple, la fonction `write` n'ajoute pas automatiquement le caractère de retour à la ligne. Il faut l'ajouter manuellement."
   ]
  },
  {
   "cell_type": "code",
   "execution_count": null,
   "id": "98d468da",
   "metadata": {},
   "outputs": [],
   "source": [
    "with open(\"test.txt\", \"w\") as file_out:\n",
    "    for elem in ex:\n",
    "        file_out.write(elem + \"\\n\")\n",
    "        \n",
    "with open(\"test.txt\", \"r\") as file_out:\n",
    "    print(file_out.read())"
   ]
  },
  {
   "cell_type": "markdown",
   "id": "eca3674e",
   "metadata": {},
   "source": [
    "C'est beaucoup mieux. \n",
    "\n",
    "Quelques remarques supplémentaires sur l'écriture de fichiers :\n",
    "- mieux vaut le répéter : **utiliser le mode d'ouverture `\\w` pour un fichier écrase complètement son contenu**. Lorsqu'on a réécrit notre fichier avec les sauts de ligne, on a complètement écrasé l'ancien.\n",
    "- pourquoi a-t-on pu mettre juste le nom du fichier dans la fonction `open` et pas un objet `Path` comprenant le chemin complet vers le fichier que l'on souhaitait créer ? C'est parce que Python l'a automatiquement interprété comme un **chemin relatif** (à notre répertoire courant) du fait de l'absence de racine.\n",
    "- on ne peut écrire dans un fichier **que des éléments de type `str`** (chaîne de caractère). Si un des éléments de la liste ci-dessus avait été de type `int` ou `float` par exemple, il aurait fallu le convertir via la fonction `str()` avant de l'écrire dans le fichier. Sinon, Python aurait renvoyé une erreur."
   ]
  },
  {
   "cell_type": "markdown",
   "id": "b72193f8",
   "metadata": {},
   "source": [
    "## Exercices"
   ]
  },
  {
   "cell_type": "markdown",
   "id": "bca44df3",
   "metadata": {},
   "source": [
    "### Questions de compréhension"
   ]
  },
  {
   "cell_type": "markdown",
   "id": "3a103f45",
   "metadata": {},
   "source": [
    "- 1/ Qu'est-ce qu'un module ?\n",
    "- 2/ Qu'est ce qu'un package ?\n",
    "- 3/ Pourquoi n'est-ce pas une bonne pratique d'importer toutes les fonctions d'un module avec la syntaxe `from module import *`\n",
    "- 4/ Quels sont les avantages de la librairie `pathlib` ?\n",
    "- 5/ Quelles sont les deux propriétés d'un fichier qui permettent de repérer sa position dans le système de fichiers ?\n",
    "- 6/ Qu'est-ce que le répertoire courant ?\n",
    "- 7/ Quelles sont les deux manières de spécifier un chemin ? Comment Python fait-il la différence entre les deux ?\n",
    "- 8/ Quels sont les deux grandes familles de fichiers que l'on est amenés à manipuler en programmation ?\n",
    "- 9/ Quels sont les différents modes d'ouverture d'un fichier ?\n",
    "- 10/ Pourquoi est-il préférable d'utiliser la syntaxe `with open(...) as ...` pour ouvrir un fichier ?\n",
    "- 11/ Pourquoi peut-on parcourir les lignes d'un fichier à l'aide d'une boucle ?"
   ]
  },
  {
   "cell_type": "code",
   "execution_count": null,
   "id": "a8b2b7af",
   "metadata": {
    "tags": []
   },
   "outputs": [],
   "source": [
    "# Testez votre réponse dans cette cellule\n"
   ]
  },
  {
   "cell_type": "code",
   "execution_count": null,
   "id": "78960d48",
   "metadata": {},
   "outputs": [],
   "source": [
    "# Exécuter cette cellule pour afficher la solution\n",
    "%load -r 3-32 solutions.py"
   ]
  },
  {
   "cell_type": "markdown",
   "id": "1120d7a1",
   "metadata": {},
   "source": [
    "### Moyenne et écart-type des notes obtenues à un examen "
   ]
  },
  {
   "cell_type": "markdown",
   "id": "90dbfafc",
   "metadata": {},
   "source": [
    "*Exercice inspiré de : [python.sdv.univ-paris-diderot.fr](https://python.sdv.univ-paris-diderot.fr/07_fichiers/)*\n",
    "\n",
    "Le fichier texte `notes.txt` se trouve dans votre répertoire courant. Il contient les notes obtenues par 50 élèves à un examen. Problème : toutes les notes ont été écrites sur une même ligne, avec un espace à chaque fois. Ouvrez ce fichier et calculez la moyenne et l'écart-type des notes.\n",
    "\n",
    "Indices :\n",
    "- les chaînes de caractère ont une méthode `split` qui permet de séparer du texte selon un caractère donné\n",
    "- il faudra convertir les notes au format numérique pour pouvoir leur appliquer des fonctions mathématiques\n",
    "- vous pouvez utiliser les fonctions du package `numpy` pour calculer les statistiques demandées"
   ]
  },
  {
   "cell_type": "code",
   "execution_count": null,
   "id": "1f7ad493",
   "metadata": {
    "tags": []
   },
   "outputs": [],
   "source": [
    "# Testez votre réponse dans cette cellule\n"
   ]
  },
  {
   "cell_type": "code",
   "execution_count": null,
   "id": "4c8ab6eb",
   "metadata": {},
   "outputs": [],
   "source": [
    "# Exécuter cette cellule pour afficher la solution\n",
    "%load -r 36-47 solutions.py"
   ]
  },
  {
   "cell_type": "markdown",
   "id": "56309977",
   "metadata": {},
   "source": [
    "### Admis ou recalé"
   ]
  },
  {
   "cell_type": "markdown",
   "id": "db8b4a4d",
   "metadata": {},
   "source": [
    "*Exercice inspiré de : [python.sdv.univ-paris-diderot.fr](https://python.sdv.univ-paris-diderot.fr/07_fichiers/)*\n",
    "\n",
    "Le fichier texte `notes_clean.txt` se trouve dans votre répertoire courant. Il contient les notes obtenues par 50 élèves à un examen. Contrairement à l'exercice précédent, les notes sont cette fois bien écrites : une note par ligne.\n",
    "\n",
    "Écrire un script Python qui :\n",
    "- stocke chaque note au format `int` dans une liste\n",
    "- réécrit les notes dans un fichier `notes_mentions.txt` avec sur chaque ligne la note, suivie d'un espace, suivi de la mention \"admis\" si la note est supérieure ou égale à 10, et \"recalé\" sinon.\n",
    "\n",
    "Par exemple, les trois premières lignes de ce nouveau fichier devraient être :\n",
    "```\n",
    "5 recalé\n",
    "5 recalé\n",
    "18 admis\n",
    "```"
   ]
  },
  {
   "cell_type": "code",
   "execution_count": null,
   "id": "167ccf47",
   "metadata": {
    "tags": []
   },
   "outputs": [],
   "source": [
    "# Testez votre réponse dans cette cellule\n"
   ]
  },
  {
   "cell_type": "code",
   "execution_count": null,
   "id": "0bbad47f",
   "metadata": {},
   "outputs": [],
   "source": [
    "# Exécuter cette cellule pour afficher la solution\n",
    "%load -r 51-63 solutions.py"
   ]
  },
  {
   "cell_type": "markdown",
   "id": "12f55a26",
   "metadata": {},
   "source": [
    "### Retardataires"
   ]
  },
  {
   "cell_type": "markdown",
   "id": "62ce4e06",
   "metadata": {},
   "source": [
    "3 élèves n'avaient pas rendu leur copie dans les temps pour l'examen : \n",
    "- Miranda a obtenu 16 et a rendu son devoir avec 3 jours de retard\n",
    "- Paolo a obtenu 11 et a rendu son devoir avec 1 jour de retard\n",
    "- Isidore a obtenu 3 et a rendu son devoir avec 5 jours de retard.\n",
    "\n",
    "Chaque élève aura une note finale égale à la note obtenue moins le nombre de jours de retard. Une note ne pouvant être négative, elle sera remplacée par 0.\n",
    "\n",
    "Les informations nécessaires ont été placées dans une liste dans la cellule suivante. A l'aide d'une boucle sur cette liste, **ajouter** (sans réécrire complètement le fichier !). les notes au fichier `notes_clean.txt` (sans la mention).\n",
    "\n",
    "NB : si vous avez écrasé le contenu d'un fichier par erreur, vous pouvez retrouver les fichiers propres sur le [dépôt GitHub associé à la formation](https://github.com/InseeFrLab/formation-python-initiation/tree/main/course/manipulation/modules-files)."
   ]
  },
  {
   "cell_type": "code",
   "execution_count": null,
   "id": "6104191e",
   "metadata": {},
   "outputs": [],
   "source": [
    "supp = [(16, 3), (11, 1), (3, 5)]"
   ]
  },
  {
   "cell_type": "code",
   "execution_count": null,
   "id": "7c5fc5b6",
   "metadata": {
    "tags": []
   },
   "outputs": [],
   "source": [
    "# Testez votre réponse dans cette cellule\n"
   ]
  },
  {
   "cell_type": "code",
   "execution_count": null,
   "id": "beff11cb",
   "metadata": {},
   "outputs": [],
   "source": [
    "# Exécuter cette cellule pour afficher la solution\n",
    "%load -r 67-73 solutions.py"
   ]
  },
  {
   "cell_type": "markdown",
   "id": "fd7d3e3a",
   "metadata": {},
   "source": [
    "### Scanner des fichiers"
   ]
  },
  {
   "cell_type": "markdown",
   "id": "3c080b5c",
   "metadata": {},
   "source": [
    "Écrire un programme qui réalise les opérations suivantes : \n",
    "- dans le répertoire courant, lister les chemins des fichiers dont l'extension est `.txt` (la syntaxe a été vue dans la partie sur `pathlib`)\n",
    "- faire une boucle qui parcourt ces chemins et ouvre chaque fichier séquentiellement\n",
    "- pour chaque fichier, faire un test d'appartenance (rappel de la syntaxe : `if pattern in string: ...`) pour tester si le fichier contient le mot \"sol\"\n",
    "- si le fichier contient le mot \"recalé\", imprimer son chemin absolu dans la console (seul le chemin du fichier `gamme.txt` devrait donc apparaître)"
   ]
  },
  {
   "cell_type": "code",
   "execution_count": null,
   "id": "885a3b5e",
   "metadata": {
    "tags": []
   },
   "outputs": [],
   "source": [
    "# Testez votre réponse dans cette cellule\n"
   ]
  },
  {
   "cell_type": "code",
   "execution_count": null,
   "id": "fa5f7c3a",
   "metadata": {},
   "outputs": [],
   "source": [
    "# Exécuter cette cellule pour afficher la solution\n",
    "%load -r 77-85 solutions.py"
   ]
  },
  {
   "cell_type": "code",
   "execution_count": null,
   "id": "32c7f23c",
   "metadata": {},
   "outputs": [],
   "source": []
  }
 ],
 "metadata": {
  "jupytext": {
   "cell_metadata_filter": "tags,-all",
   "main_language": "python",
   "notebook_metadata_filter": "-all"
  }
 },
 "nbformat": 4,
 "nbformat_minor": 5
}
