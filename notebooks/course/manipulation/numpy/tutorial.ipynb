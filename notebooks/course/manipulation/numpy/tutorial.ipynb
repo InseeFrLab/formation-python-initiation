{
 "cells": [
  {
   "cell_type": "raw",
   "id": "277cd76b",
   "metadata": {},
   "source": [
    "---\n",
    "title: \"Calcul numérique avec NumPy\"\n",
    "abstract: \"Manipulation des arrays et des fonctions de NumPy, la librairie de référence pour le calcul numérique.\"\n",
    "---"
   ]
  },
  {
   "cell_type": "markdown",
   "id": "196c0f2a",
   "metadata": {},
   "source": [
    "En tant que statisticien, on est fréquemment amené à manipuler des séries de valeurs numériques, à partir desquelles on réalise diverses opérations mathématiques, des plus usuelles (moyenne, variance, etc.) aux plus complexes. On peut, comme on l'a fait dans les précédents tutoriels, utiliser les objets fondamentaux de Python, et en particulier les listes, pour réaliser de telles opérations. En pratique, on préférera utiliser la **librairie de référence pour le calcul scientifique**, `NumPy`, qui fournit à la fois des objets (les ***arrays***) et des fonctions qui vont grandement nous simplifier la vie pour effectuer tous nos calculs en Python de manière efficiente."
   ]
  },
  {
   "cell_type": "markdown",
   "id": "7f3b2220",
   "metadata": {},
   "source": [
    "## NumPy "
   ]
  },
  {
   "cell_type": "markdown",
   "id": "e2e9ce85",
   "metadata": {},
   "source": [
    "On commence par importer la librairie `NumPy`. Comme expliqué dans un précédent tutoriel, l'usage est courant est de lui attribuer l'alias `np`. "
   ]
  },
  {
   "cell_type": "code",
   "execution_count": null,
   "id": "2319af46",
   "metadata": {},
   "outputs": [],
   "source": [
    "import numpy as np"
   ]
  },
  {
   "cell_type": "markdown",
   "id": "9db1e13d",
   "metadata": {},
   "source": [
    "### Pourquoi utiliser NumPy ?"
   ]
  },
  {
   "cell_type": "markdown",
   "id": "1a5a7ba3",
   "metadata": {},
   "source": [
    "Plutôt que de présenter de manière abstraite les avantages de `NumPy`, illustrons ces derniers à travers un exemple simple : la multiplication terme à terme de deux vecteurs. \n",
    "\n",
    "On génère deux vecteurs contenant les entiers allant de $0$ à $99999$, que l'on multiplie terme à terme. On effectue cela d'abord via les listes Python (fonction `mult_list`), puis à l'aide de `NumPy` (fonction `mult_np`), et on compare les performances des deux méthodes."
   ]
  },
  {
   "cell_type": "code",
   "execution_count": null,
   "id": "9c743abd",
   "metadata": {},
   "outputs": [],
   "source": [
    "def mult_list(n):\n",
    "    a = range(n)\n",
    "    b = range(n)\n",
    "\n",
    "    c = []\n",
    "    for i in range(len(a)):\n",
    "        mult = a[i] * b[i]\n",
    "        c.append(mult)\n",
    "        \n",
    "    return c\n",
    "\n",
    "def mult_np(n):\n",
    "    a_np = np.arange(n)\n",
    "    b_np = np.arange(n)\n",
    "    \n",
    "    c_np = a_np * b_np\n",
    "\n",
    "    return c_np"
   ]
  },
  {
   "cell_type": "code",
   "execution_count": null,
   "id": "672d9e71",
   "metadata": {},
   "outputs": [],
   "source": [
    "n = 100000"
   ]
  },
  {
   "cell_type": "code",
   "execution_count": null,
   "id": "49d3c163",
   "metadata": {},
   "outputs": [],
   "source": [
    "# Vérification de la cohérence sur les 10 premiers éléments\n",
    "print(mult_list(n)[:10])\n",
    "print(mult_np(n)[:10])"
   ]
  },
  {
   "cell_type": "code",
   "execution_count": null,
   "id": "4d0ef051",
   "metadata": {},
   "outputs": [],
   "source": [
    "%%timeit -n10\n",
    "\n",
    "mult_list(n)  # Performance de la méthode liste"
   ]
  },
  {
   "cell_type": "code",
   "execution_count": null,
   "id": "6181e9c5",
   "metadata": {},
   "outputs": [],
   "source": [
    "%%timeit -n10\n",
    "\n",
    "mult_np(n)  # Performance de la méthode NumPy"
   ]
  },
  {
   "cell_type": "markdown",
   "id": "0d25ddee",
   "metadata": {},
   "source": [
    "Cet exemple illustre à lui seul les principaux avantages de `NumPy` pour le calcul scientifique : \n",
    "- les calculs sont **vectorisés** : multiplier deux *arrays* va naturellement effectuer la multiplication terme à terme, contrairement aux listes qui ne permettent pas cette opération. Les personnes travaillant avec `R` retrouveront là une propriété familière et bien pratique.\n",
    "- conséquence de la vectorisation, **la syntaxe est plus légère et plus claire** : on voit directement l'opération qui est effectuée et on limite ainsi les risques d'erreur ;\n",
    "- les calculs sont automatiquement **optimisés** par `NumPy` (via l'appel à du code `C` pré-compilé), réduisant très largement le temps mis par les opérations mathématiques (divisé par un facteur 10 dans notre exemple)."
   ]
  },
  {
   "cell_type": "markdown",
   "id": "1297bfed",
   "metadata": {},
   "source": [
    "### Les *array* NumPy "
   ]
  },
  {
   "cell_type": "markdown",
   "id": "ab9902a0",
   "metadata": {},
   "source": [
    "#### Définition"
   ]
  },
  {
   "cell_type": "markdown",
   "id": "65477a2a",
   "metadata": {},
   "source": [
    "Toute la librairie `NumPy` est basée sur un objet fondamental : l'*array*. Un *array* est un objet qui contient une séquence de données, et présente deux caractéristiques principales :\n",
    "- les données contenues dans un *array* doivent être de **type homogène**, là où une même liste peut contenir des objets de différente nature ;\n",
    "- un *array* a une **taille fixée** à sa création, là où une liste peut grandir dynamiquement (en ajoutant des éléments via la méthode `append` par exemple).\n",
    "\n",
    "Ce sont en grande partie ces deux contraintes qui rendent possible les gains de performance et la syntaxe lisible qu'offre `NumPy`."
   ]
  },
  {
   "cell_type": "markdown",
   "id": "e67157c9",
   "metadata": {},
   "source": [
    "#### Création"
   ]
  },
  {
   "cell_type": "markdown",
   "id": "cd9b1c38",
   "metadata": {},
   "source": [
    "Il existe différentes manières de créer un *array*. La plus standard est de convertir une liste en *array* via la fonction *array* de `NumPy`."
   ]
  },
  {
   "cell_type": "code",
   "execution_count": null,
   "id": "b8786bb7",
   "metadata": {},
   "outputs": [],
   "source": [
    "l = [1, 2, 3]\n",
    "a = np.array(l)\n",
    "print(a)"
   ]
  },
  {
   "cell_type": "markdown",
   "id": "eea1c227",
   "metadata": {},
   "source": [
    "A première vue, la fonction `print` renvoie une représentation identique à celle d'une liste. Vérifions le type de notre objet. "
   ]
  },
  {
   "cell_type": "code",
   "execution_count": null,
   "id": "a4f1ad60",
   "metadata": {},
   "outputs": [],
   "source": [
    "type(a)"
   ]
  },
  {
   "cell_type": "markdown",
   "id": "740c42ed",
   "metadata": {},
   "source": [
    "L'objet est de type `ndarray`, qui est le type standard correspondant à un *array* `NumPy`. \n",
    "\n",
    "On a vu qu'un *array* avait pour propriété de contenir des données de type homogène ; en l'occurrence, des entiers. On peut vérifier le type des données contenues via l'attribut `dtype` d'un *array*."
   ]
  },
  {
   "cell_type": "code",
   "execution_count": null,
   "id": "26d9d5fd",
   "metadata": {},
   "outputs": [],
   "source": [
    "a.dtype"
   ]
  },
  {
   "cell_type": "markdown",
   "id": "71075958",
   "metadata": {},
   "source": [
    "Même si `NumPy` est avant tout une librairie dédiée au calcul numérique, il reste tout à fait possible de définir des `arrays` contenant des chaînes de caractères."
   ]
  },
  {
   "cell_type": "code",
   "execution_count": null,
   "id": "07e727e8",
   "metadata": {},
   "outputs": [],
   "source": [
    "b = np.array(['1', 'tigre'])\n",
    "b.dtype"
   ]
  },
  {
   "cell_type": "markdown",
   "id": "356f411b",
   "metadata": {},
   "source": [
    "Le `dtype` par défaut des `arrays` contenant des chaînes de caractères est un peu particulier, mais cela n'a pas d'importance en pratique. Retenez simplement sa forme.\n",
    "\n",
    "Enfin, question importante : que se passe-t-il si l'on essaie de définir un *array* contenant des objets de types hétérogènes ?"
   ]
  },
  {
   "cell_type": "code",
   "execution_count": null,
   "id": "bf7efd6b",
   "metadata": {},
   "outputs": [],
   "source": [
    "c = np.array([1, 2, '3'])\n",
    "print(c)\n",
    "print(c.dtype)"
   ]
  },
  {
   "cell_type": "markdown",
   "id": "49f3ee05",
   "metadata": {},
   "source": [
    "Réponse : tous les objets sont convertis en chaîne de caractères par défaut."
   ]
  },
  {
   "cell_type": "markdown",
   "id": "d05d023d",
   "metadata": {},
   "source": [
    "#### Dimension"
   ]
  },
  {
   "cell_type": "markdown",
   "id": "efd4faa7",
   "metadata": {},
   "source": [
    "Les *array* correspondent en fait à des tableaux de données, c'est à dire qu'ils peuvent être uni- ou multi-dimensionnels. Un *array* de dimension 1 ressemble à un vecteur (ou une liste), un *array* de dimension 2 ressemble à une matrice, et ainsi de suite. \n",
    "\n",
    "On peut afficher le nombre de dimensions d'un *array* via l'attribut `ndim`."
   ]
  },
  {
   "cell_type": "code",
   "execution_count": null,
   "id": "bd95a71d",
   "metadata": {},
   "outputs": [],
   "source": [
    "c = np.array([1, 2, '3'])\n",
    "c.ndim"
   ]
  },
  {
   "cell_type": "markdown",
   "id": "a12c322e",
   "metadata": {},
   "source": [
    "De la même manière que l'on a créé un *array* de dimension 1 à partir d'une liste simple, on peut créer un *array* multi-dimensionnel à partir d'une liste de listes."
   ]
  },
  {
   "cell_type": "code",
   "execution_count": null,
   "id": "44c2b2ef",
   "metadata": {},
   "outputs": [],
   "source": [
    "d = np.array([[1, 2, 3], [4, 5, 6]])\n",
    "print(d)"
   ]
  },
  {
   "cell_type": "markdown",
   "id": "979f2476",
   "metadata": {},
   "source": [
    "On a converti une liste contenant 2 sous-listes à 3 éléments chacune, ce qui donne un *array* à deux dimensions. Notons que l'appel de `print` affiche une matrice à deux lignes et trois colonnes."
   ]
  },
  {
   "cell_type": "code",
   "execution_count": null,
   "id": "2045a894",
   "metadata": {},
   "outputs": [],
   "source": [
    "d.ndim"
   ]
  },
  {
   "cell_type": "markdown",
   "id": "7154965c",
   "metadata": {},
   "source": [
    "On a bien affaire à un *array* à deux dimensions. Mais en pratique, lorsqu'on manipule des `arrays` multidimensionnels, on a aussi envie de connaître la *taille* de chacune des dimensions. En dimension 2, c'est le nombre de lignes et de colonnes. Pour cela, on utilise la méthode `shape`, qui renvoie un *tuple* contenant les tailles des différentes dimensions."
   ]
  },
  {
   "cell_type": "code",
   "execution_count": null,
   "id": "c7fe7b97",
   "metadata": {},
   "outputs": [],
   "source": [
    "d.shape"
   ]
  },
  {
   "cell_type": "markdown",
   "id": "eaee84fd",
   "metadata": {},
   "source": [
    "Le premier chiffre donne le nombre de lignes, le second le nombre de colonnes. On reviendra par la suite sur l'ordre des dimensions à travers la notion d'*axis*."
   ]
  },
  {
   "cell_type": "markdown",
   "id": "ffc70745",
   "metadata": {},
   "source": [
    "#### Indexation"
   ]
  },
  {
   "cell_type": "markdown",
   "id": "0728d261",
   "metadata": {},
   "source": [
    "On accède aux différents éléments d'un *array* de dimension 1 exactement de la même manière que ceux d'une liste."
   ]
  },
  {
   "cell_type": "code",
   "execution_count": null,
   "id": "32877bfa",
   "metadata": {},
   "outputs": [],
   "source": [
    "a = np.array([1, 2, 3, 4, 5, 6])\n",
    "\n",
    "print(a)\n",
    "print()\n",
    "print(a[1])\n",
    "print()\n",
    "print(a[2:5])\n",
    "print()\n",
    "print(a[-2])"
   ]
  },
  {
   "cell_type": "markdown",
   "id": "c709c24b",
   "metadata": {},
   "source": [
    "Pour un *array* multidimensionnel, il faut spécifier le ou les éléments voulus sur chacune des dimensions de l'*array*, en les séparant par des virgules. "
   ]
  },
  {
   "cell_type": "code",
   "execution_count": null,
   "id": "24831af3",
   "metadata": {},
   "outputs": [],
   "source": [
    "b = np.array([[1, 2, 3, 4], [5, 6, 7, 8], [9, 10, 11, 12]])\n",
    "\n",
    "print(b)\n",
    "print()\n",
    "print(b[1, 3])\n",
    "print()\n",
    "print(b[1:3, 1:3])"
   ]
  },
  {
   "cell_type": "markdown",
   "id": "4f8e4957",
   "metadata": {},
   "source": [
    "Pour accéder à une ligne complète, on peut utiliser `:` sur la dimension des colonnes pour spécifier : \"toutes les colonnes\". Et inversement pour récupérer une colonne complète."
   ]
  },
  {
   "cell_type": "code",
   "execution_count": null,
   "id": "51f14168",
   "metadata": {},
   "outputs": [],
   "source": [
    "print(b[1,:])\n",
    "print()\n",
    "print(b[:,2])"
   ]
  },
  {
   "cell_type": "markdown",
   "id": "613e794f",
   "metadata": {},
   "source": [
    "#### Modification d'éléments"
   ]
  },
  {
   "cell_type": "markdown",
   "id": "3debb6e4",
   "metadata": {},
   "source": [
    "Les éléments d'un *array* peuvent être modifiés. On combine pour cela la syntaxe d'indexation vue précédemment avec l'opérateur d'assignation `=`."
   ]
  },
  {
   "cell_type": "code",
   "execution_count": null,
   "id": "a1dfa075",
   "metadata": {},
   "outputs": [],
   "source": [
    "b = np.array([[1, 2, 3, 4], [5, 6, 7, 8], [9, 10, 11, 12]])\n",
    "\n",
    "b[1, 1] = 18\n",
    "print(b)"
   ]
  },
  {
   "cell_type": "markdown",
   "id": "4d5d2205",
   "metadata": {},
   "source": [
    "On peut également modifier des séries de nombres, voire des lignes/colonnes complètes, à condition d'assigner un élément de même taille."
   ]
  },
  {
   "cell_type": "code",
   "execution_count": null,
   "id": "14d71f93",
   "metadata": {},
   "outputs": [],
   "source": [
    "b = np.array([[1, 2, 3, 4], [5, 6, 7, 8], [9, 10, 11, 12]])\n",
    "\n",
    "b[:, 2] = [-1, -1, -1]\n",
    "b"
   ]
  },
  {
   "cell_type": "markdown",
   "id": "14ecf782",
   "metadata": {},
   "source": [
    "Contrairement aux listes, on ne va généralement pas ajouter ou supprimer d'éléments à un *array*. La raison est que, comme indiqué précédemment, la taille d'un *array* est fixée à sa construction. \n",
    "\n",
    "Si l'on souhaite faire grandir un *array*, on va généralement le faire à partir d'une liste -- qui elle peut grandir -- que l'on convertit ensuite en *array*. \n",
    "\n",
    "Si l'on souhaite supprimer des éléments d'un *array*, on peut utiliser la syntaxe d'indexation étudiée dans la section précédente pour récupérer le sous-*array* qui nous intéresse, et assigner ce dernier à une nouvelle variable."
   ]
  },
  {
   "cell_type": "markdown",
   "id": "9b77ce7a",
   "metadata": {},
   "source": [
    "#### Masques booléens"
   ]
  },
  {
   "cell_type": "markdown",
   "id": "0e21dcf7",
   "metadata": {},
   "source": [
    "Un gros avantage des *arrays* `NumPy` par rapport aux listes est qu'ils supportent les **masques booléens**, c'est à dire qu'on peut sélectionner des éléments d'un *array* en lui passant un *array* de même taille contenant des booléens."
   ]
  },
  {
   "cell_type": "code",
   "execution_count": null,
   "id": "277fc2d2",
   "metadata": {},
   "outputs": [],
   "source": [
    "a = np.array([1, 2, 3])\n",
    "a[[True, True, False]]"
   ]
  },
  {
   "cell_type": "markdown",
   "id": "8bafde48",
   "metadata": {},
   "source": [
    "Cette propriété ouvre de nombreuses possibilités, dans la mesure où elle peut être combinée avec la propriété de vectorisation des *arrays*. Il devient ainsi très facile de **sélectionner des éléments selon des conditions**, même pour les *arrays* multidimensionnels."
   ]
  },
  {
   "cell_type": "code",
   "execution_count": null,
   "id": "8981429b",
   "metadata": {},
   "outputs": [],
   "source": [
    "b = np.array([[1, 2, 3, 4], [5, 6, 7, 8], [9, 10, 11, 12]])\n",
    "cond = (b > 6) & (b != 10)\n",
    "\n",
    "print(cond)\n",
    "print()\n",
    "print(b[cond])"
   ]
  },
  {
   "cell_type": "markdown",
   "id": "f8a4753c",
   "metadata": {},
   "source": [
    "Et l'on peut bien entendu exploiter ce mécanisme pour modifier des éléments selon une condition."
   ]
  },
  {
   "cell_type": "code",
   "execution_count": null,
   "id": "83680484",
   "metadata": {},
   "outputs": [],
   "source": [
    "b[cond] = -1\n",
    "print(b)"
   ]
  },
  {
   "cell_type": "markdown",
   "id": "6529c59f",
   "metadata": {},
   "source": [
    "Ce dernier exemple illustre par ailleurs une propriété importante en `NumPy` appelée ***broadcasting*** : lorsque l'on remplace plusieurs éléments d'un *array* par un élément de taille 1 (et non un *array* de même taille), tous les éléments sont remplacés par cette valeur."
   ]
  },
  {
   "cell_type": "markdown",
   "id": "508deb0a",
   "metadata": {},
   "source": [
    "### Opérations mathématiques"
   ]
  },
  {
   "cell_type": "markdown",
   "id": "8836f1c9",
   "metadata": {},
   "source": [
    "#### Arithmétique sur les *arrays*"
   ]
  },
  {
   "cell_type": "markdown",
   "id": "a66e174b",
   "metadata": {},
   "source": [
    "Tout au début de ce tutoriel, nous avons vu que multiplier deux *arrays* via l'opérateur `*` effectuait une multiplication termes à termes des deux *arrays*, et ce de manière vectorisée. Les opérations élémentaires (`+`, `-`, `*` et `/`) s'appliquent de la même manière aux *arrays* multidimensionnels."
   ]
  },
  {
   "cell_type": "code",
   "execution_count": null,
   "id": "10258be3",
   "metadata": {},
   "outputs": [],
   "source": [
    "a = np.array([[1, 2, 2], [2, 2, 1]])\n",
    "b = np.array([[3, 3, 1], [1, 3, 3]])\n",
    "\n",
    "a * b"
   ]
  },
  {
   "cell_type": "markdown",
   "id": "736a13c6",
   "metadata": {},
   "source": [
    "Notons qu'on retrouve la propriété de *broadcasting* discutée dans la section précédente : lorsque l'on effectue une opération entre un *array* et un nombre de taille 1, l'opération est appliquée à chaque terme de l'*array*."
   ]
  },
  {
   "cell_type": "code",
   "execution_count": null,
   "id": "4ad39b34",
   "metadata": {},
   "outputs": [],
   "source": [
    "a * 4"
   ]
  },
  {
   "cell_type": "markdown",
   "id": "7d45b09a",
   "metadata": {},
   "source": [
    "#### Algèbre linéaire"
   ]
  },
  {
   "cell_type": "markdown",
   "id": "5d17d3c4",
   "metadata": {},
   "source": [
    "`NumPy` permet de réaliser simplement et de manière efficiente des opérations d'algèbre linéaire sur les *arrays*. L'ensemble des fonctions disponibles sont présentées dans la [documentation officielle](https://numpy.org/doc/stable/reference/routines.linalg.html) (en Anglais).\n",
    "\n",
    "Par exemple, l'opérateur `@` permet de réaliser une multiplication matricielle (et non plus termes à termes comme le fait `*`)."
   ]
  },
  {
   "cell_type": "code",
   "execution_count": null,
   "id": "daab5ca3",
   "metadata": {},
   "outputs": [],
   "source": [
    "a = np.array([[1, 2, 3], [3, 2, 1]])\n",
    "b = np.array([[2, 3], [1, 3], [3, 1]])\n",
    "\n",
    "a @ b"
   ]
  },
  {
   "cell_type": "markdown",
   "id": "ee2941a0",
   "metadata": {},
   "source": [
    "#### Fonctions mathématiques"
   ]
  },
  {
   "cell_type": "markdown",
   "id": "e15962a7",
   "metadata": {},
   "source": [
    "`NumPy` offre pléthore de fonctions [mathématiques](https://numpy.org/doc/stable/reference/routines.math.html) et [statistiques](https://numpy.org/doc/stable/reference/routines.statistics.html), comme `sum`, `mean`, `min`, `round`, `log`, etc. Leur application à des objets unidimensionnels ne pose pas de problème particulier."
   ]
  },
  {
   "cell_type": "code",
   "execution_count": null,
   "id": "73b525ff",
   "metadata": {},
   "outputs": [],
   "source": [
    "print(np.log(12))\n",
    "print()\n",
    "print(np.min([1, 2, 3]))\n",
    "print()\n",
    "print(np.mean([1, 2, 3]))"
   ]
  },
  {
   "cell_type": "markdown",
   "id": "5f7ed0cd",
   "metadata": {},
   "source": [
    "En revanche, dans le cas multidimensionnel, leur utilisation devient un peu plus subtile car on peut vouloir réaliser l'agrégation selon différentes dimensions. Si l'on ne spécifie rien, l'agrégation est effectuée sur tous les éléments de l'*array*."
   ]
  },
  {
   "cell_type": "code",
   "execution_count": null,
   "id": "48e45103",
   "metadata": {},
   "outputs": [],
   "source": [
    "a = np.array([[1, 2, 2], [2, 2, 1]])\n",
    "\n",
    "np.sum(a)"
   ]
  },
  {
   "cell_type": "markdown",
   "id": "71c23539",
   "metadata": {},
   "source": [
    "Mais comment faire si l'on veut sommer par ligne ? Ou bien par colonne ? C'est là qu'intervient un élément crucial et assez complexe des fonctions de `NumPy` : le paramètre `axis`, qui spécifie la dimension selon laquelle est effectuée l'opération.\n",
    "\n",
    "Lorsqu'il n'est pas spécifié comme dans l'exemple précédent, il prend la valeur `None` par défaut."
   ]
  },
  {
   "cell_type": "code",
   "execution_count": null,
   "id": "8f5fa28b",
   "metadata": {},
   "outputs": [],
   "source": [
    "a = np.array([[1, 2, 2], [2, 2, 1]])\n",
    "\n",
    "np.sum(a, axis=None)  # idem que np.sum(a)"
   ]
  },
  {
   "cell_type": "markdown",
   "id": "d0b9f076",
   "metadata": {},
   "source": [
    "La figure suivante permet de bien se représenter la manière dont fonctionnent les axes avec `NumPy`, afin de bien spécifier le sens attendu de l'agrégation.\n",
    "\n",
    "![axis](axes.png)\n",
    "\n",
    "Ainsi, si l'on souhaite calculer la somme de chaque colonne par exemple, il faut agréger selon l'axe $0$."
   ]
  },
  {
   "cell_type": "code",
   "execution_count": null,
   "id": "bc6ec04a",
   "metadata": {},
   "outputs": [],
   "source": [
    "a = np.array([[1, 2, 2], [2, 2, 1]])\n",
    "\n",
    "np.sum(a, axis=0)"
   ]
  },
  {
   "cell_type": "markdown",
   "id": "fed5ccae",
   "metadata": {},
   "source": [
    "Et inversement pour obtenir les sommes de chaque ligne."
   ]
  },
  {
   "cell_type": "code",
   "execution_count": null,
   "id": "8f936391",
   "metadata": {},
   "outputs": [],
   "source": [
    "np.sum(a, axis=1)"
   ]
  },
  {
   "cell_type": "markdown",
   "id": "2750f8a3",
   "metadata": {},
   "source": [
    "Enfin, notons que les fonctions mathématiques qui réalisent une agrégation sont généralement également disponibles comme *méthodes* d'un *array*. Elles fonctionnent de la même manière, au détail près qu'elles ne prennent pas l'*array* en argument dans la mesure où elles sont déjà \"attachées\" à celui-ci."
   ]
  },
  {
   "cell_type": "code",
   "execution_count": null,
   "id": "ba2ed1c4",
   "metadata": {},
   "outputs": [],
   "source": [
    "a.sum(axis=1)"
   ]
  },
  {
   "cell_type": "markdown",
   "id": "9175ee5d",
   "metadata": {},
   "source": [
    "### Conclusion"
   ]
  },
  {
   "cell_type": "markdown",
   "id": "1d5ad5cb",
   "metadata": {},
   "source": [
    "`NumPy` est la librairie quasi-standard de calcul scientifique en Python. Elle est à privilégier dès lors que vous souhaitez effectuer des opérations sur des données numériques, *a fortiori* lorsqu'il s'agit d'opérations vectorisées et/ou mobilisant des objets multidimensionnels comme des matrices.\n",
    "\n",
    "Les possibilités offertes par `NumPy` sont gigantesques, et nous n'en avons vu qu'un aperçu. La [documentation officielle](https://numpy.org/doc/stable/user/) présente l'ensemble de ces possibilités. Cette [*cheat sheet*](http://datacamp-community-prod.s3.amazonaws.com/ba1fe95a-8b70-4d2f-95b0-bc954e9071b0) peut également s'avérer utile en cas d'oubli. Nous verrons également des fonctions supplémentaires à travers les exercices de fin de chapitre."
   ]
  },
  {
   "cell_type": "markdown",
   "id": "326ea3f0",
   "metadata": {},
   "source": [
    "## Exercices"
   ]
  },
  {
   "cell_type": "markdown",
   "id": "43b2f4d6",
   "metadata": {},
   "source": [
    "### Questions de compréhension"
   ]
  },
  {
   "cell_type": "markdown",
   "id": "5d90cbd3",
   "metadata": {},
   "source": [
    "- 1/ Quels sont les principaux avantages de `NumPy` ?\n",
    "- 2/ Quelles sont les deux caractéristiques principales d'un *array* `NumPy` ?\n",
    "- 3/ Que se passe-t-il si l'on essaie de définir un *array* contenant des objets de types hétérogènes ?\n",
    "- 4/ Quelle est la principale méthode pour créer un *array* ?\n",
    "- 5/ Quelles informations contient l'attribut `shape` d'un array ?\n",
    "- 6/ Peut-on ajouter un élément à un *array* ? Supprimer un élément ?\n",
    "- 7/ Qu'est-ce qu'un masque booléen et à quoi cela sert-il ?\n",
    "- 8/ Qu'est-ce que la propriété de *broadcasting* ?\n",
    "- 9/ A quoi sert le paramètre `axis` des fonctions mathématiques de `NumPy` ?"
   ]
  },
  {
   "cell_type": "code",
   "execution_count": null,
   "id": "1a54ec33",
   "metadata": {
    "tags": []
   },
   "outputs": [],
   "source": [
    "# Testez votre réponse dans cette cellule\n"
   ]
  },
  {
   "cell_type": "code",
   "execution_count": null,
   "id": "7f5e6abb",
   "metadata": {
    "tags": []
   },
   "outputs": [],
   "source": [
    "# Exécuter cette cellule pour afficher la solution\n",
    "%load -r 3-32 solutions.py"
   ]
  },
  {
   "cell_type": "markdown",
   "id": "b731767f",
   "metadata": {},
   "source": [
    "### Exercice : sélectionner des éléments dans un vecteur"
   ]
  },
  {
   "cell_type": "markdown",
   "id": "90a007be",
   "metadata": {},
   "source": [
    "Un vecteur comprenant les entiers compris entre 10 et 20 est défini dans la cellule suivante. En utilisant l'indexation des *arrays* `NumPy` :\n",
    "- sélectionner les éléments aux positions 1, 3 et 4\n",
    "- sélectionner tous les éléments sauf le premier\n",
    "- sélectionner tous les éléments sauf le premier et le dernier\n",
    "- sélectionner les 3 premiers éléments\n",
    "- sélectionner les 5 derniers éléments\n",
    "- sélectionner tous les éléments pairs\n",
    "- sélectionner tous les éléments en les triant dans l'ordre inverse (NB : la fonction `np.flip` permet de faire la même chose)"
   ]
  },
  {
   "cell_type": "code",
   "execution_count": null,
   "id": "298a8699",
   "metadata": {
    "tags": []
   },
   "outputs": [],
   "source": [
    "X = np.arange(10, 21)\n",
    "\n",
    "print(X)"
   ]
  },
  {
   "cell_type": "code",
   "execution_count": null,
   "id": "a9f293ca",
   "metadata": {
    "tags": []
   },
   "outputs": [],
   "source": [
    "# Testez votre réponse dans cette cellule\n"
   ]
  },
  {
   "cell_type": "code",
   "execution_count": null,
   "id": "94f0b66f",
   "metadata": {
    "tags": []
   },
   "outputs": [],
   "source": [
    "# Exécuter cette cellule pour afficher la solution\n",
    "%load -r 36-44 solutions.py"
   ]
  },
  {
   "cell_type": "markdown",
   "id": "7f04b2d9",
   "metadata": {},
   "source": [
    "### Exercice : sélectionner des éléments dans une matrice"
   ]
  },
  {
   "cell_type": "markdown",
   "id": "70a7c451",
   "metadata": {},
   "source": [
    "Une matrice de taille 5x5 comprenant tous les entiers compris entre 0 et 24 est définie dans la cellule suivante. En utilisant l'indexation des *arrays* `NumPy` :\n",
    "- sélectionner la valeur $19$\n",
    "- sélectionner la 2ème ligne\n",
    "- sélectionner la 4ème colonne\n",
    "- sélectionner la sous-matrice 3x3 centrale\n",
    "- sélectionner les éléments diagonaux (NB : la fonction `np.diag` permet de réaliser la même opération de manière beaucoup plus simple)"
   ]
  },
  {
   "cell_type": "code",
   "execution_count": null,
   "id": "0ad4f400",
   "metadata": {},
   "outputs": [],
   "source": [
    "Y = np.arange(0, 25).reshape((5, 5))\n",
    "\n",
    "print(Y)"
   ]
  },
  {
   "cell_type": "code",
   "execution_count": null,
   "id": "4039cf75",
   "metadata": {
    "tags": []
   },
   "outputs": [],
   "source": [
    "# Testez votre réponse dans cette cellule\n"
   ]
  },
  {
   "cell_type": "code",
   "execution_count": null,
   "id": "634a1afa",
   "metadata": {
    "tags": []
   },
   "outputs": [],
   "source": [
    "# Exécuter cette cellule pour afficher la solution\n",
    "%load -r 48-54 solutions.py"
   ]
  },
  {
   "cell_type": "markdown",
   "id": "132bed8a",
   "metadata": {},
   "source": [
    "### Exercice : un peu de calcul"
   ]
  },
  {
   "cell_type": "markdown",
   "id": "cba5fbd2",
   "metadata": {},
   "source": [
    "Deux matrices carrées de taille 3x3 sont définies sous forme d'*arrays* `NumPy` dans la cellule suivante. A partir de ces matrices, réaliser les opérations mathématiques suivantes :\n",
    "- multiplier tous les éléments de `X` par 3\n",
    "- diviser les éléments de `Y` par ceux de `X`\n",
    "- passer tous les éléments de `Y` au `log`\n",
    "- passer tous les éléments de `X` au carré\n",
    "- faire une multiplication matricielle de `X` et `Y`\n",
    "- transposer la matrice `Y`\n",
    "\n",
    "NB : vous pourrez trouver les fonctions nécessaires dans la [documentation](https://numpy.org/doc/stable/reference/routines.math.html) ou via un moteur de recherche."
   ]
  },
  {
   "cell_type": "code",
   "execution_count": null,
   "id": "3c6822ea",
   "metadata": {},
   "outputs": [],
   "source": [
    "X = np.array([[1,2,3],\n",
    "              [4,5,6],\n",
    "              [7,8,9]])\n",
    "\n",
    "Y = np.array([[10,11,12],\n",
    "              [13,14,15],\n",
    "              [16,17,18]])"
   ]
  },
  {
   "cell_type": "code",
   "execution_count": null,
   "id": "47270902",
   "metadata": {
    "tags": []
   },
   "outputs": [],
   "source": [
    "# Testez votre réponse dans cette cellule\n"
   ]
  },
  {
   "cell_type": "code",
   "execution_count": null,
   "id": "bb85ba60",
   "metadata": {
    "tags": []
   },
   "outputs": [],
   "source": [
    "# Exécuter cette cellule pour afficher la solution\n",
    "%load -r 58-76 solutions.py"
   ]
  },
  {
   "cell_type": "markdown",
   "id": "700f9104",
   "metadata": {},
   "source": [
    "### Exercice : initialisation d'*arrays* de diverses natures"
   ]
  },
  {
   "cell_type": "markdown",
   "id": "c456f7a8",
   "metadata": {},
   "source": [
    "Dans le tutoriel, nous avons vu que la méthode standard pour créer un *array* `NumPy` consistait à initialiser une liste, que l'on convertit ensuite en *array*. On peut également utiliser des fonctions natives de `NumPy` qui créent des *array* d'une taille donnée, contenant des valeurs basiques (ex : valeurs \"quasi-vides\", zéros, uns, une valeur spécifiée par l'utilisateur, etc.).\n",
    "\n",
    "Par exemple, pour créer une matrice à 3 lignes et deux colonnes contenant des zéros, la syntaxe est : "
   ]
  },
  {
   "cell_type": "code",
   "execution_count": null,
   "id": "7a970f01",
   "metadata": {},
   "outputs": [],
   "source": [
    "np.zeros((3, 2))"
   ]
  },
  {
   "cell_type": "markdown",
   "id": "ef7d4ed3",
   "metadata": {},
   "source": [
    "En vous référant à la [documentation](https://numpy.org/doc/stable/reference/routines.array-creation.html) de ces fonctions, générer :\n",
    "\n",
    "- un vecteur (array à 1 dimension), contenant 18 fois la valeur $1$ (fonction `np.ones`)\n",
    "- un array à 3 dimensions, respectivement de tailles 2, 3 et 5, contenant uniquement des zéros (fonction `np.zeros`)\n",
    "- une matrice (array à 2 dimensions), à 4 lignes et 3 colonnes, contenant uniquement la valeur 5 (fonction `np.full`)\n",
    "- une matrice identité de taille 5, i.e. une matrice à 5 lignes et 5 colonnes, contenant des $1$ sur sa diagonale et des $0$ partout ailleurs (fonction `np.eye`)\n",
    "- un vecteur contenant les entiers compris entre $0$ à $99$ inclus (fonction `np.arange`)\n",
    "- un vecteur contenant les entiers *pairs* compris entre $0$ à $99$ inclus (fonction `np.arange`)\n",
    "- un vecteur contenant 5 valeurs uniformément espacées entre $2$ et $3$ inclus (fonction `np.linspace`)"
   ]
  },
  {
   "cell_type": "code",
   "execution_count": null,
   "id": "1eca3945",
   "metadata": {
    "tags": []
   },
   "outputs": [],
   "source": [
    "# Testez votre réponse dans cette cellule\n"
   ]
  },
  {
   "cell_type": "code",
   "execution_count": null,
   "id": "c8325c06",
   "metadata": {
    "tags": []
   },
   "outputs": [],
   "source": [
    "# Exécuter cette cellule pour afficher la solution\n",
    "%load -r 80-106 solutions.py"
   ]
  },
  {
   "cell_type": "markdown",
   "id": "3022ebcd",
   "metadata": {},
   "source": [
    "### Exercice : tirage d'un vecteur selon une loi normale"
   ]
  },
  {
   "cell_type": "markdown",
   "id": "6c421235",
   "metadata": {},
   "source": [
    "En vous référant à la [documentation](https://numpy.org/doc/stable/reference/random/generator.html) des fonctions de génération de nombres aléatoires de `NumPy`, générer un vecteur `X` de taille 10000, contenant des nombres tirés selon une loi normale de moyenne 0 et de variance 2.\n",
    "\n",
    "Vérifiez ensuite à l'aide des fonctions mathématiques de `NumPy` que la moyenne et la variance de votre échantillon sont cohérents par rapport aux valeurs attendues.\n",
    "\n",
    "Indice : attention à la manière dont est spécifiée la variance dans la fonction `NumPy` de génération d'une loi normale. "
   ]
  },
  {
   "cell_type": "code",
   "execution_count": null,
   "id": "6930dbef",
   "metadata": {
    "tags": []
   },
   "outputs": [],
   "source": [
    "# Testez votre réponse dans cette cellule\n"
   ]
  },
  {
   "cell_type": "code",
   "execution_count": null,
   "id": "632f1cd7",
   "metadata": {
    "tags": []
   },
   "outputs": [],
   "source": [
    "# Exécuter cette cellule pour afficher la solution\n",
    "%load -r 110-112 solutions.py"
   ]
  },
  {
   "cell_type": "markdown",
   "id": "c69fba21",
   "metadata": {},
   "source": [
    "### Exercice : tirage d'une matrice selon une loi uniforme"
   ]
  },
  {
   "cell_type": "markdown",
   "id": "0aae29df",
   "metadata": {},
   "source": [
    "En vous référant à la [documentation](https://numpy.org/doc/stable/reference/random/generator.html) des fonctions de génération de nombres aléatoires de `NumPy`, générer une matrice `U` de taille 1000 par 1000, contenant des nombres tirés selon une loi uniforme dans l'intervalle [-1, 1].\n",
    "\n",
    "En utilisant la fonction `np.all` et un test booléen, vérifier que tous les nombres contenus dans `U` sont bien compris entre -1 et 1."
   ]
  },
  {
   "cell_type": "code",
   "execution_count": null,
   "id": "3f109571",
   "metadata": {
    "tags": []
   },
   "outputs": [],
   "source": [
    "# Testez votre réponse dans cette cellule\n"
   ]
  },
  {
   "cell_type": "code",
   "execution_count": null,
   "id": "01a8c620",
   "metadata": {
    "tags": []
   },
   "outputs": [],
   "source": [
    "# Exécuter cette cellule pour afficher la solution\n",
    "%load -r 116-119 solutions.py"
   ]
  },
  {
   "cell_type": "markdown",
   "id": "a6b652ea",
   "metadata": {},
   "source": [
    "### Exercice : binariser une matrice de nombres"
   ]
  },
  {
   "cell_type": "markdown",
   "id": "c23c63a3",
   "metadata": {},
   "source": [
    "On peut parfois avoir besoin de binariser une matrice numérique, c'est à dire de fixer un seuil au delà duquel les valeurs numériques sont fixées à 1, et à 0 en-dessous. `NumPy` propose plusieurs méthodes pour réaliser une telle opération, nous allons en voir deux. \n",
    "\n",
    "Dans la cellule suivante, une matrice `X` à 6 lignes et 6 colonnes est générée, qui comprend des entiers aléatoirement choisis entre 0 et 49. Vous devez binariser cette matrice de deux manières différentes **sans l'écraser** (i.e. la matrice binaire doit être assignée à une autre variable que `X` et `X` ne doit pas être modifiée) :\n",
    "- première méthode : en utilisant la fonction `np.zeros` et les masques booléens\n",
    "- seconde méthode : en utilisant la fonction `np.where` (cf. [doc](https://numpy.org/doc/stable/reference/generated/numpy.where.html))"
   ]
  },
  {
   "cell_type": "code",
   "execution_count": null,
   "id": "7bbef443",
   "metadata": {},
   "outputs": [],
   "source": [
    "X = np.random.randint(0, 50, size=(6, 6))"
   ]
  },
  {
   "cell_type": "code",
   "execution_count": null,
   "id": "96729902",
   "metadata": {
    "tags": []
   },
   "outputs": [],
   "source": [
    "# Testez votre réponse dans cette cellule\n"
   ]
  },
  {
   "cell_type": "code",
   "execution_count": null,
   "id": "53111dd6",
   "metadata": {
    "tags": []
   },
   "outputs": [],
   "source": [
    "# Exécuter cette cellule pour afficher la solution\n",
    "%load -r 123-136 solutions.py"
   ]
  },
  {
   "cell_type": "markdown",
   "id": "5438fad9",
   "metadata": {},
   "source": [
    "### Exercice : touché-coulé"
   ]
  },
  {
   "cell_type": "markdown",
   "id": "e57d6faf",
   "metadata": {},
   "source": [
    "L'objectif de cet exercice est de programmer seulement à l'aide d'objets et de fonctions de `NumPy` un touché-coulé très basique. \n",
    "\n",
    "Une grille de 5x5 est définie dans la cellule suivante comme un *array*, les valeurs $1$ symbolisant la présence d'un bateau. Vous devez programmer une fonction `shoot` qui :\n",
    "- prend en input une coordonnée $x$ (indice de la ligne) et une cordonnée $y$ (indice de la colonne)\n",
    "- teste si au moins une valeur $1$ est présente dans la grille :\n",
    "  - si oui : \n",
    "    - s'il y a un bateau à l'adresse (x, y), remplacer la valeur $1$ par $2$ et `print` \"Touché !\"\n",
    "    - sinon, `print` \"Raté !\"\n",
    "  - si non :\n",
    "    - `print` \"Fin de partie !\"\n",
    "    \n",
    "Puis réalisez quelques tests pour vous assurer que votre fonction marche comme attendu."
   ]
  },
  {
   "cell_type": "code",
   "execution_count": null,
   "id": "fbffcc7f",
   "metadata": {},
   "outputs": [],
   "source": [
    "X = np.array([[1, 1, 1, 0, 0], [0, 0, 0, 0, 1], [1, 0, 0, 0, 1],\n",
    "              [1, 0, 0, 0, 0], [0, 1, 1, 1, 1]])\n",
    "print(X)"
   ]
  },
  {
   "cell_type": "code",
   "execution_count": null,
   "id": "3d1e2225",
   "metadata": {
    "tags": []
   },
   "outputs": [],
   "source": [
    "# Testez votre réponse dans cette cellule\n"
   ]
  },
  {
   "cell_type": "code",
   "execution_count": null,
   "id": "dcefe886",
   "metadata": {
    "tags": []
   },
   "outputs": [],
   "source": [
    "# Exécuter cette cellule pour afficher la solution\n",
    "%load -r 140-157 solutions.py"
   ]
  },
  {
   "cell_type": "markdown",
   "id": "fa22deb1",
   "metadata": {},
   "source": [
    "### Exercice : One Hot Encoding"
   ]
  },
  {
   "cell_type": "markdown",
   "id": "4ed51ca3",
   "metadata": {},
   "source": [
    "En statistique, il est fréquent de vouloir encoder numériquement un vecteur de catégories. Une manière fréquente d'encoder des catégories est le *one hot encoding* (OHE) : chaque valeur est représentée par un vecteur binaire, qui contient un $1$ sur la colonne correspondant à la catégorie et des $0$ partout ailleurs.\n",
    "\n",
    "Dans la cellule suivante, on encode des PCS au format OHE grâce à une fonction du package `scikit-learn`. L'objectif de l'exercice est de reproduire cet encodage en utilisant uniquement des fonctions de la librairie `NumPy`.\n",
    "\n",
    "Indice : on pourra utiliser les fonctions `np.unique`, `np.zeros` et `np.arange`."
   ]
  },
  {
   "cell_type": "code",
   "execution_count": null,
   "id": "dccb041a",
   "metadata": {},
   "outputs": [],
   "source": [
    "from sklearn.preprocessing import OneHotEncoder\n",
    "\n",
    "values = np.array([\"21\", \"46\", \"47\", \"23\", \"66\", \"82\", \"82\"])\n",
    "\n",
    "print(OneHotEncoder().fit_transform(values.reshape((-1, 1))).todense())"
   ]
  },
  {
   "cell_type": "code",
   "execution_count": null,
   "id": "9d5e7707",
   "metadata": {
    "tags": []
   },
   "outputs": [],
   "source": [
    "# Testez votre réponse dans cette cellule\n"
   ]
  },
  {
   "cell_type": "code",
   "execution_count": null,
   "id": "0b26e750",
   "metadata": {
    "tags": []
   },
   "outputs": [],
   "source": [
    "# Exécuter cette cellule pour afficher la solution\n",
    "%load -r 161-169 solutions.py"
   ]
  },
  {
   "cell_type": "code",
   "execution_count": null,
   "id": "8a2ef124",
   "metadata": {},
   "outputs": [],
   "source": []
  }
 ],
 "metadata": {
  "jupytext": {
   "cell_metadata_filter": "tags,-all",
   "main_language": "python",
   "notebook_metadata_filter": "-all"
  }
 },
 "nbformat": 4,
 "nbformat_minor": 5
}
