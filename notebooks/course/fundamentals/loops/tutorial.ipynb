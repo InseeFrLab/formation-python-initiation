{
 "cells": [
  {
   "cell_type": "raw",
   "id": "f29ec362",
   "metadata": {},
   "source": [
    "---\n",
    "title: \"Boucles\"\n",
    "abstract: \"Automatisation d'opérations répétitives à l'aide des boucles for et des boucles while.\"\n",
    "---"
   ]
  },
  {
   "cell_type": "markdown",
   "id": "415d9d29",
   "metadata": {},
   "source": [
    "Dans le tutoriel précédent, nous avons étudié les tests, qui permettent à un ordinateur de prendre des décisions selon des conditions spécifiées dans un programme. Nous allons à présent aller encore plus loin dans l'automatisation des opérations, grâce à la notion de **boucle**. Les boucles vont permettre de répéter plusieurs fois une instruction semblable sans avoir à réécrire le même code à chaque fois.\n",
    "\n",
    "Pour illustrer cette idée, imaginons que l'on souhaite afficher chaque élément d'une liste. Pour l'instant, on ferait :"
   ]
  },
  {
   "cell_type": "code",
   "execution_count": null,
   "id": "cc93ad23",
   "metadata": {},
   "outputs": [],
   "source": [
    "gamme = ['do', 're', 'mi', 'fa', 'sol', 'la', 'si']\n",
    "\n",
    "print(gamme[0])\n",
    "print(gamme[1])\n",
    "print(gamme[2])"
   ]
  },
  {
   "cell_type": "markdown",
   "id": "d9b06c88",
   "metadata": {},
   "source": [
    "Et ainsi de suite. On voit tout de suite qu'une telle opération serait impraticable pour une liste contenant des centaines d'éléments. Les boucles vont résoudre ce problème de manière élégante et efficiente."
   ]
  },
  {
   "cell_type": "markdown",
   "id": "56798ee6",
   "metadata": {},
   "source": [
    "## Boucles `for`"
   ]
  },
  {
   "cell_type": "markdown",
   "id": "4e42b160",
   "metadata": {},
   "source": [
    "### Définition"
   ]
  },
  {
   "cell_type": "markdown",
   "id": "b4832dff",
   "metadata": {},
   "source": [
    "Le premier type de boucles auquel nous allons nous intéresser est la boucle `for`. Une boucle `for` permet de parcourir les différents éléments contenus dans un objet dit **itérable**, et de réaliser des opérations avec ces éléments. Les objets itérables incluent notamment tous les objets séquentiels que nous avons vus jusqu'à présent : chaînes de caractères, listes, tuples, etc.\n",
    "\n",
    "Illustrons le fonctionnement d'une boucle `for` en résolvant le problème exposé précédemment."
   ]
  },
  {
   "cell_type": "code",
   "execution_count": null,
   "id": "e76d19c0",
   "metadata": {},
   "outputs": [],
   "source": [
    "for note in gamme:\n",
    "    print(note)"
   ]
  },
  {
   "cell_type": "markdown",
   "id": "478ca339",
   "metadata": {},
   "source": [
    "### Syntaxe"
   ]
  },
  {
   "cell_type": "markdown",
   "id": "b6aa5417",
   "metadata": {},
   "source": [
    "Analysons la structure d'une boucle `for` :\n",
    "- La première ligne spécifie une **instruction `for`**, et comme toute instruction en Python se termine par `:`. \n",
    "- Vient ensuite un **bloc d'instructions**, i.e. une suite d'opérations (une seule dans notre exemple) qui sera exécutée à chaque itération de la boucle. Ce bloc est visible par son **niveau d'indentation**, incrémenté de 1 par rapport à l'instruction. Le bloc s'arrête dès lors que l'indentation revient à son niveau initial.\n",
    "\n",
    "Comme pour les instructions conditionnelles de type `if`/`else`, l'indentation est donc capitale. Si on l'oublie, Python renvoie une erreur."
   ]
  },
  {
   "cell_type": "code",
   "execution_count": null,
   "id": "5c412718",
   "metadata": {},
   "outputs": [],
   "source": [
    "for note in gamme:\n",
    "    print(note)"
   ]
  },
  {
   "cell_type": "markdown",
   "id": "f207088f",
   "metadata": {},
   "source": [
    "### Fonctionnement"
   ]
  },
  {
   "cell_type": "markdown",
   "id": "d136f4cb",
   "metadata": {},
   "source": [
    "Regardons maintenant plus en détail ce que fait l'instruction `for`. Elle définit une **variable d'itération** (appelée `note` dans notre exemple), qui va parcourir les éléments de l'**itérateur** spécifié après le `in` (la liste `gamme` dans notre exemple). La syntaxe d'une boucle en Python se prête bien à une description littérale ; dans notre cas : \"pour chaque note contenue dans la liste gamme, imprime la note\".\n",
    "\n",
    "Insistons sur le fait qu'une boucle définit une variable, sans que l'on ait besoin de passer par la syntaxe traditionnelle d'assignation `variable = valeur`. De plus, cette variable n'est pas supprimée une fois la boucle terminée, elle prend alors la valeur du dernier élément de l'itérateur."
   ]
  },
  {
   "cell_type": "code",
   "execution_count": null,
   "id": "edc6c0f7",
   "metadata": {},
   "outputs": [],
   "source": [
    "note"
   ]
  },
  {
   "cell_type": "markdown",
   "id": "8d97062b",
   "metadata": {},
   "source": [
    "L'itérateur n'est pas nécessairement une liste, il peut être tout objet itérable. Cela inclut notamment tous les objets séquentiels que nous avons vu."
   ]
  },
  {
   "cell_type": "code",
   "execution_count": null,
   "id": "87c75a7a",
   "metadata": {},
   "outputs": [],
   "source": [
    "for char in \"YMCA\":\n",
    "    print(char)\n",
    "    \n",
    "print()  # Saut de ligne\n",
    "    \n",
    "t = (1, 2, 3, 4, 5)\n",
    "for i in t:\n",
    "    print(i*9)"
   ]
  },
  {
   "cell_type": "markdown",
   "id": "ab37b8b6",
   "metadata": {},
   "source": [
    "La classe des objets itérables est cependant bien plus grande que les seuls objets séquentiels. Par exemple, on peut itérer sur les clés d'un dictionnaire, alors que l'on a vu dans un tutoriel précédent que ce n'était pas un objet séquentiel, puisqu'il n'y a pas de notion d'ordre dans un dictionnaire."
   ]
  },
  {
   "cell_type": "code",
   "execution_count": null,
   "id": "592cdda6",
   "metadata": {},
   "outputs": [],
   "source": [
    "inventaire = {'cafe': '500g', 'lait': '1,5L', 'cereales': '1kg'}\n",
    "for key in inventaire:\n",
    "    print(key)\n",
    "    print(inventaire[key])\n",
    "    print()  # Saut de ligne"
   ]
  },
  {
   "cell_type": "markdown",
   "id": "10f075fb",
   "metadata": {},
   "source": [
    "### Itération sur des entiers avec la fonction `range`"
   ]
  },
  {
   "cell_type": "markdown",
   "id": "3a9dd65c",
   "metadata": {},
   "source": [
    "En programmation, il est courant de vouloir itérer sur une suite d'entiers. Plutôt que de spécifier cette suite dans une liste, ce qui n'est pas très pratique si la suite est longue, on utilise pour ce faire la fonction `range(n)`. Celle-ci crée un objet itérable qui contient tous les entiers compris entre $0$ et $n-1$, et qui peut être utilisé dans le cadre d'une boucle.\n",
    "\n",
    "Regardons par exemple comment on peut très simplement afficher une table de multiplication à l'aide de cette fonction."
   ]
  },
  {
   "cell_type": "code",
   "execution_count": null,
   "id": "44c06ecb",
   "metadata": {},
   "outputs": [],
   "source": [
    "table = 9\n",
    "\n",
    "for i in range(11):\n",
    "    print(i, i*9)"
   ]
  },
  {
   "cell_type": "markdown",
   "id": "b13b8c78",
   "metadata": {},
   "source": [
    "### Itération sur les indices"
   ]
  },
  {
   "cell_type": "markdown",
   "id": "e7e17732",
   "metadata": {},
   "source": [
    "On a vu qu'une boucle `for` avait pour principe d'itérer sur les *éléments* d'un itérable. Cependant, dans le cas d'un objet séquentiel comme une liste, on peut parfois vouloir itérer sur les *indices* de l'objet, afin de pouvoir manipuler à la fois les indices et les éléments contenus dans l'objet. Dans ce cas, la fonction `range` peut être utilisée en combinaison avec la fonction `len` pour créer un objet itérable qui contient exactement les indices de la liste initiale."
   ]
  },
  {
   "cell_type": "code",
   "execution_count": null,
   "id": "0f1a8aa8",
   "metadata": {},
   "outputs": [],
   "source": [
    "gamme = ['do', 're', 'mi', 'fa', 'sol', 'la', 'si']\n",
    "\n",
    "for i in range(len(gamme)):\n",
    "    print(\"La note numéro \" + str(i) + \" de la gamme de do majeur est \" + gamme[i])"
   ]
  },
  {
   "cell_type": "markdown",
   "id": "a3bdcc8a",
   "metadata": {},
   "source": [
    "Comme ce besoin est fréquent mais que le code ci-dessus n'est pas très lisible, il existe une fonction *built-in* de Python appelée `enumerate` qui permet d'itérer à la fois sur les objets et les indices. Il est donc préférable d'utiliser cette syntaxe, plus claire, et qui permet d'éviter certaines erreurs.\n",
    "\n",
    "La fonction `enumerate` appliquée à un objet itérable renvoie un nouvel objet itérable qui contient l'ensemble des couples `(indice, élément)` contenus dans l'objet, sous forme de tuples. Comme c'est un objet de type particulier -- un générateur, que nous verrons dans un tutoriel plus avancé -- il faut lui appliquer la fonction `list` pour afficher son contenu."
   ]
  },
  {
   "cell_type": "code",
   "execution_count": null,
   "id": "15ef859a",
   "metadata": {},
   "outputs": [],
   "source": [
    "list(enumerate(gamme))"
   ]
  },
  {
   "cell_type": "markdown",
   "id": "42703d23",
   "metadata": {},
   "source": [
    "Regardons comment réécrire la boucle précédente avec cette nouvelle syntaxe."
   ]
  },
  {
   "cell_type": "code",
   "execution_count": null,
   "id": "2acc3dbd",
   "metadata": {},
   "outputs": [],
   "source": [
    "for i, note in enumerate(gamme):\n",
    "    print(\"La note numéro \" + str(i) + \" de la gamme de do majeur est \" + note)"
   ]
  },
  {
   "cell_type": "markdown",
   "id": "47cff5fa",
   "metadata": {},
   "source": [
    "NB : pour faire l'assignation de variables dans l'instruction `if`, on a utilisé une technique bien pratique que l'on avait déjà évoquée dans un exercice du tutoriel sur les listes et les tuples : le *tuple unpacking*. Illustrons le par un exemple :"
   ]
  },
  {
   "cell_type": "code",
   "execution_count": null,
   "id": "464adb8c",
   "metadata": {},
   "outputs": [],
   "source": [
    "t = (1, 2, 3)\n",
    "a, b, c = t\n",
    "print(a)\n",
    "print(b)\n",
    "print(c)"
   ]
  },
  {
   "cell_type": "markdown",
   "id": "84e7e851",
   "metadata": {},
   "source": [
    "## Boucles `while`"
   ]
  },
  {
   "cell_type": "markdown",
   "id": "d9ec26e9",
   "metadata": {},
   "source": [
    "### Définition"
   ]
  },
  {
   "cell_type": "markdown",
   "id": "0accfff1",
   "metadata": {},
   "source": [
    "Les boucles `while` fournissent une manière alternative de spécifier des procédures répétitives. L'idée n'est plus d'itérer sur un nombre d'objets fixé à l'avance, mais d'**itérer tant qu'une condition (test logique) est remplie**."
   ]
  },
  {
   "cell_type": "code",
   "execution_count": null,
   "id": "8739d906",
   "metadata": {},
   "outputs": [],
   "source": [
    "i = 1\n",
    "while i <= 5:\n",
    "    print(i)\n",
    "    i = i + 1"
   ]
  },
  {
   "cell_type": "markdown",
   "id": "d4fa13a6",
   "metadata": {},
   "source": [
    "### Syntaxe"
   ]
  },
  {
   "cell_type": "markdown",
   "id": "7c289e6f",
   "metadata": {},
   "source": [
    "La différence essentielle avec la boucle `for` est l'instruction : c'est désormais une instruction `while`, suivie d'une condition (test), et comme toute instruction de `:`.\n",
    "\n",
    "Pour le reste, le principe est le même : l'instruction `while` est suivi d'un bloc d'instructions, indenté d'un niveau, et qui s'exécute séquentiellement à chaque itération de la boucle."
   ]
  },
  {
   "cell_type": "markdown",
   "id": "4f4c3479",
   "metadata": {},
   "source": [
    "### Critère d'arrêt"
   ]
  },
  {
   "cell_type": "markdown",
   "id": "eddb685e",
   "metadata": {},
   "source": [
    "Une différence essentielle des boucles `while` par rapport aux boucles `for` tient au critère d'arrêt. Dans une boucle `for`, ce critère est clair : la boucle itère sur les éléments d'un objet itérable, nécessairement de taille finie. La boucle s'arrête donc lorsque chaque élément de l'itérable a été parcouru.\n",
    "\n",
    "Dans une boucle `while` au contraire, le critère d'arrêt est donné par une condition logique, c'est donc l'utilisateur qui doit fixer le critère d'arrêt. Dans l'exemple, pour que la boucle s'arrête, il faut que la condition `i <= 5` devienne `False`, c'est à dire que `i` devienne strictement supérieur à $5$. On s'est assuré de cela en initialisant `i` à $1$ avant le début de la boucle, puis en incrémentant `i` d'une unité à chaque itération.\n",
    "\n",
    "Que se passe-t-il si l'on oublie d'incrémenter `i` ? Le critère d'arrêt n'est jamais atteint, la boucle est donc infinie, et il faut utiliser le bouton \"Stop\" (carré noir) de Jupyter pour arrêter le programme en cours. Vérifions cela en incrémentant la mauvaise variable."
   ]
  },
  {
   "cell_type": "code",
   "execution_count": null,
   "id": "063f01e6",
   "metadata": {},
   "outputs": [],
   "source": [
    "i = 1\n",
    "j = 1\n",
    "while i <= 5:\n",
    "    j = j + 1"
   ]
  },
  {
   "cell_type": "code",
   "execution_count": null,
   "id": "15849daa",
   "metadata": {},
   "outputs": [],
   "source": [
    "print(i)\n",
    "print(j)"
   ]
  },
  {
   "cell_type": "markdown",
   "id": "24f3835b",
   "metadata": {},
   "source": [
    "### L'instruction `break`"
   ]
  },
  {
   "cell_type": "markdown",
   "id": "2c5997b1",
   "metadata": {},
   "source": [
    "Une manière alternative de spécifier un critère d'arrêt est d'utiliser l'instruction `break`. Lorsque cette instruction est atteinte et exécutée, la boucle est immédiatement interrompue.\n",
    "\n",
    "Illustrons son fonctionnement à l'aide d'un exemple. La première ligne crée une boucle infinie, dans la mesure où, par définition, `True` est toujours évalué à `True`. Le programme demande ensuite à l'utilisateur de taper un prénom, et ce infiniment jusqu'à que l'utilisateur tape le prénom attendu. Dans ce cas seulement, l'instruction `break` est atteinte et la boucle s'arrête. Le message \"Bienvenue <votre_prenom>\" s'affiche enfin, dans la mesure où le deuxième `print` n'est pas inclus dans la boucle."
   ]
  },
  {
   "cell_type": "code",
   "execution_count": null,
   "id": "da5cd650",
   "metadata": {},
   "outputs": [],
   "source": [
    "votre_prenom = \"Romain\"\n",
    "\n",
    "while True:\n",
    "    print(\"Veuillez entrer votre prénom.\")\n",
    "    prenom = input()\n",
    "    if prenom == votre_prenom:\n",
    "        break\n",
    "print(\"Bienvenue \" + votre_prenom)"
   ]
  },
  {
   "cell_type": "markdown",
   "id": "26b75200",
   "metadata": {},
   "source": [
    "Il est important de noter qu'une instruction `break` ne met fin qu'à la boucle de niveau directement supérieur à elle. Dans le cas d'une boucle à plusieurs niveaux, il est tout à fait possible que les opérations continuent même lorsqu'une instruction `break` a été atteinte. \n",
    "\n",
    "Illustrons ce principe avec un exemple."
   ]
  },
  {
   "cell_type": "code",
   "execution_count": null,
   "id": "f12eb61f",
   "metadata": {},
   "outputs": [],
   "source": [
    "i = 0\n",
    "while i <= 5:\n",
    "    for j in range(5):\n",
    "        if j == 2:\n",
    "            print(\"Break.\")\n",
    "            break\n",
    "    i += 1"
   ]
  },
  {
   "cell_type": "markdown",
   "id": "5db278fc",
   "metadata": {},
   "source": [
    "A chaque itération de la boucle `while`, une boucle `for` est lancée, qui atteint une instruction `break` à la troisième itération (lorsque `j` vaut 2). Cela a pour effet de mettre fin à la boucle `for`, mais pas à la boucle `while`, qui exécute la suite de ses instructions (l'incrémentation de `i` d'une unité) avant de passer à l'itération suivante."
   ]
  },
  {
   "cell_type": "markdown",
   "id": "e51d7451",
   "metadata": {},
   "source": [
    "### L'instruction `continue`"
   ]
  },
  {
   "cell_type": "markdown",
   "id": "37301f8d",
   "metadata": {},
   "source": [
    "L'instruction `continue` permet de passer à l'itération suivante de la boucle.\n",
    "\n",
    "Agrémentons l'exemple précédent pour illustrer son fonctionnement. Tant qu'un prénom différent de celui attendu est rentré, l'instruction `continue` est évaluée, et le programme continue à demander un prénom à l'utilisateur. Lorsque le bon prénom est rentré, le programme demande à l'utilisateur de rentrer un mot de passe. Si le mot de passe est celui attendu, l'instruction `break` est atteinte et exécutée, la boucle s'arrête. En cas de mauvais mot de passe en revanche, la boucle redémarre au début du bloc d'exécution, il faut donc de nouveau rentrer un prénom avant le mot de passe."
   ]
  },
  {
   "cell_type": "code",
   "execution_count": null,
   "id": "60c18d7e",
   "metadata": {},
   "outputs": [],
   "source": [
    "votre_prenom = \"\"\n",
    "\n",
    "while True:\n",
    "    print(\"Veuillez entrer votre prénom.\")\n",
    "    prenom = input()\n",
    "    if prenom != votre_prenom:\n",
    "        continue\n",
    "    print(\"Veuillez entrer votre mot de passe.\")\n",
    "    mdp = input()\n",
    "    if mdp == \"insee2021\":\n",
    "        break\n",
    "print(\"Bienvenue \" + votre_prenom)"
   ]
  },
  {
   "cell_type": "markdown",
   "id": "9a78249c",
   "metadata": {},
   "source": [
    "NB : le code ci-dessus à seulement valeur d'exemple. Comme on le verra dans un prochain tutoriel sur les bonnes pratiques de code, il ne faut **jamais écrire de secrets (mots de passe, tokens..) en clair dans son code.**"
   ]
  },
  {
   "cell_type": "markdown",
   "id": "58f6af9c",
   "metadata": {},
   "source": [
    "## Exercices"
   ]
  },
  {
   "cell_type": "markdown",
   "id": "e7ad6cf3",
   "metadata": {},
   "source": [
    "### Questions de compréhension"
   ]
  },
  {
   "cell_type": "markdown",
   "id": "f46fa833",
   "metadata": {},
   "source": [
    "- 1/ Comment fonctionne une boucle `for` ?\n",
    "- 2/ La variable d'itération définie lors d'une boucle `for` persiste-t-elle en mémoire une fois la boucle terminée ?\n",
    "- 3/ Que fait la fonction `range` ? Pourquoi est-elle particulièrement utile dans le cadre des boucles `for` ?\n",
    "- 4/ Que fait la fonction `enumerate` ? Pourquoi est-elle particulièrement utile dans le cadre des boucles `for` ?\n",
    "- 5/ Comment fonctionne une boucle `while` ?\n",
    "- 6/ Quand s'arrête une boucle `while` ? En quoi cela diffère-t-il des boucles `for` ? \n",
    "- 7/ Que fait l'instruction `break` ?\n",
    "- 8/ Que fait l'instruction `continue` ?"
   ]
  },
  {
   "cell_type": "code",
   "execution_count": null,
   "id": "5da84302",
   "metadata": {
    "tags": []
   },
   "outputs": [],
   "source": [
    "# Testez votre réponse dans cette cellule\n"
   ]
  },
  {
   "cell_type": "code",
   "execution_count": null,
   "id": "29c49e2e",
   "metadata": {
    "tags": []
   },
   "outputs": [],
   "source": [
    "# Exécuter cette cellule pour afficher la solution\n",
    "%load -r 3-33 solutions.py"
   ]
  },
  {
   "cell_type": "markdown",
   "id": "f4de07d5",
   "metadata": {},
   "source": [
    "### Prédiction de résultats de boucles `while`"
   ]
  },
  {
   "cell_type": "markdown",
   "id": "63216404",
   "metadata": {},
   "source": [
    "Essayer de prédire ce que vont produire les boucles `while` suivantes, et vérifiez vos résultats."
   ]
  },
  {
   "cell_type": "code",
   "execution_count": null,
   "id": "3b0e34e0",
   "metadata": {},
   "outputs": [],
   "source": [
    "# 1.\n",
    "i = 0\n",
    "while i <= 10:\n",
    "    print(i)\n",
    "    \n",
    "# 2.\n",
    "a = 1\n",
    "while (a < 10):\n",
    "    a += 1\n",
    "    if a == 5:\n",
    "        break\n",
    "    print(\"Condition d'arrêt atteinte.\")\n",
    "    \n",
    "# 3.\n",
    "while False:\n",
    "    print(\"hello world\")\n",
    "\n",
    "# 4.\n",
    "while True:\n",
    "    print(\"hello world\")\n",
    "    break\n",
    "\n",
    "# 5.\n",
    "while 5 >= 3:\n",
    "    continue\n",
    "    print(\"hello world\")"
   ]
  },
  {
   "cell_type": "code",
   "execution_count": null,
   "id": "52b5032b",
   "metadata": {
    "tags": []
   },
   "outputs": [],
   "source": [
    "# Testez votre réponse dans cette cellule\n"
   ]
  },
  {
   "cell_type": "code",
   "execution_count": null,
   "id": "86f27982",
   "metadata": {
    "tags": []
   },
   "outputs": [],
   "source": [
    "# Exécuter cette cellule pour afficher la solution\n",
    "%load -r 37-51 solutions.py"
   ]
  },
  {
   "cell_type": "markdown",
   "id": "921b4c72",
   "metadata": {},
   "source": [
    "### Effet d'une erreur d'indentation"
   ]
  },
  {
   "cell_type": "markdown",
   "id": "a922f682",
   "metadata": {},
   "source": [
    "Source : [python.sdv.univ-paris-diderot.fr](https://python.sdv.univ-paris-diderot.fr/06_tests/)"
   ]
  },
  {
   "cell_type": "markdown",
   "id": "d4d2e6ac",
   "metadata": {},
   "source": [
    "Afin de visualiser l'importance de l'indentation dans les blocs d'instruction, essayez de prédire ce que vont respectivement retourner les deux programmes suivants. Lequel a l'effet attendu ?"
   ]
  },
  {
   "cell_type": "code",
   "execution_count": null,
   "id": "cf9524b4",
   "metadata": {},
   "outputs": [],
   "source": [
    "nombres = [4, 5, 6]\n",
    "for nb in nombres:\n",
    "    if nb == 5:\n",
    "        print(\"Le test est vrai\")\n",
    "        print(\"car la variable nb vaut {nb}\")"
   ]
  },
  {
   "cell_type": "code",
   "execution_count": null,
   "id": "9fd5da40",
   "metadata": {
    "tags": []
   },
   "outputs": [],
   "source": [
    "nombres = [4, 5, 6]\n",
    "for nb in nombres:\n",
    "    if nb == 5:\n",
    "        print(\"Le test est vrai\")\n",
    "    print(\"car la variable nb vaut {nb}\")"
   ]
  },
  {
   "cell_type": "code",
   "execution_count": null,
   "id": "bfe6e09a",
   "metadata": {
    "tags": []
   },
   "outputs": [],
   "source": [
    "# Testez votre réponse dans cette cellule\n"
   ]
  },
  {
   "cell_type": "code",
   "execution_count": null,
   "id": "adfa869f",
   "metadata": {
    "tags": []
   },
   "outputs": [],
   "source": [
    "# Exécuter cette cellule pour afficher la solution\n",
    "%load -r 55-58 solutions.py"
   ]
  },
  {
   "cell_type": "markdown",
   "id": "100ad25b",
   "metadata": {},
   "source": [
    "### Convertir une boucle `for` en boucle `while`"
   ]
  },
  {
   "cell_type": "markdown",
   "id": "92c7f076",
   "metadata": {},
   "source": [
    "Réécrivez la boucle `for` suivante à l'aide d'une boucle `while`."
   ]
  },
  {
   "cell_type": "code",
   "execution_count": null,
   "id": "80ad4730",
   "metadata": {
    "tags": []
   },
   "outputs": [],
   "source": [
    "gamme = ['do', 're', 'mi', 'fa', 'sol', 'la', 'si']\n",
    "\n",
    "for i, note in enumerate(gamme):\n",
    "    print(\"La note numéro \" + str(i) + \" de la gamme de do majeur est \" + note)"
   ]
  },
  {
   "cell_type": "code",
   "execution_count": null,
   "id": "1fe2ec1b",
   "metadata": {
    "tags": []
   },
   "outputs": [],
   "source": [
    "# Testez votre réponse dans cette cellule\n"
   ]
  },
  {
   "cell_type": "code",
   "execution_count": null,
   "id": "7f15c970",
   "metadata": {
    "tags": []
   },
   "outputs": [],
   "source": [
    "# Exécuter cette cellule pour afficher la solution\n",
    "%load -r 62-68 solutions.py"
   ]
  },
  {
   "cell_type": "markdown",
   "id": "1eb4f335",
   "metadata": {},
   "source": [
    "### Recherche d'un élément dans une liste"
   ]
  },
  {
   "cell_type": "markdown",
   "id": "0631de84",
   "metadata": {},
   "source": [
    "Soit un entier cible `n_cible` et une liste d'entiers `l` tels que définis dans la cellule suivante. A l'aide d'une boucle `for` et de la fonction `enumerate` :\n",
    "- vérifier si l'entier cible est présent dans la liste `l`. \n",
    "- si oui, afficher le message 'Le nombre `n_cible` est à la position `i` de la liste', et mettre fin à la boucle."
   ]
  },
  {
   "cell_type": "code",
   "execution_count": null,
   "id": "8a1a3dfc",
   "metadata": {},
   "outputs": [],
   "source": [
    "n_cible = 78\n",
    "\n",
    "l = [12, 98, 65, 39, 78, 55, 119, 27, 33]"
   ]
  },
  {
   "cell_type": "code",
   "execution_count": null,
   "id": "5276f942",
   "metadata": {
    "tags": []
   },
   "outputs": [],
   "source": [
    "# Testez votre réponse dans cette cellule\n"
   ]
  },
  {
   "cell_type": "code",
   "execution_count": null,
   "id": "3d7ed80e",
   "metadata": {
    "tags": []
   },
   "outputs": [],
   "source": [
    "# Exécuter cette cellule pour afficher la solution\n",
    "%load -r 72-84 solutions.py"
   ]
  },
  {
   "cell_type": "markdown",
   "id": "c6b79a7e",
   "metadata": {},
   "source": [
    "### Suite de Fibonacci"
   ]
  },
  {
   "cell_type": "markdown",
   "id": "ed3284de",
   "metadata": {
    "tags": []
   },
   "source": [
    "La suite de Fibonacci se définit de la manière suivante : \n",
    "- les deux premiers nombres sont 0 et 1\n",
    "- chaque autre nombre de la suite s'obtient en additionnant les deux nombres qui le précèdent\n",
    "\n",
    "Ecrire un programme permettant de calculer les $n$ premiers termes de la suite à l'aide d'une boucle `for`."
   ]
  },
  {
   "cell_type": "code",
   "execution_count": null,
   "id": "715ba0e5",
   "metadata": {
    "tags": []
   },
   "outputs": [],
   "source": [
    "# Testez votre réponse dans cette cellule\n"
   ]
  },
  {
   "cell_type": "code",
   "execution_count": null,
   "id": "aaa865d9",
   "metadata": {
    "tags": []
   },
   "outputs": [],
   "source": [
    "# Exécuter cette cellule pour afficher la solution\n",
    "%load -r 88-96 solutions.py"
   ]
  },
  {
   "cell_type": "markdown",
   "id": "1e6713b5",
   "metadata": {},
   "source": [
    "### Dictionnaire des tables de multiplication"
   ]
  },
  {
   "cell_type": "markdown",
   "id": "557fceed",
   "metadata": {
    "tags": []
   },
   "source": [
    "A l'aide de deux boucles `for` imbriquées, construire un dictionnaire `tables` permettant de réaliser les tables de multiplication jusqu'à la table de 12. Requêtez votre dictionnaire pour vérifier sa pertinence.\n",
    "\n",
    "Voici quelques exemples de requête que doit renvoyer votre dictionnaire : \n",
    "- tables[2][3] -> 6\n",
    "- tables[9][5] -> 45\n",
    "- tables[12][7] -> 84"
   ]
  },
  {
   "cell_type": "code",
   "execution_count": null,
   "id": "8ed9ad14",
   "metadata": {
    "tags": []
   },
   "outputs": [],
   "source": [
    "# Testez votre réponse dans cette cellule\n"
   ]
  },
  {
   "cell_type": "code",
   "execution_count": null,
   "id": "bb5286e8",
   "metadata": {
    "tags": []
   },
   "outputs": [],
   "source": [
    "# Exécuter cette cellule pour afficher la solution\n",
    "%load -r 100-109 solutions.py"
   ]
  },
  {
   "cell_type": "markdown",
   "id": "76684cce",
   "metadata": {},
   "source": [
    "### Calcul du minimum et du maximum d'une série \"à la main\""
   ]
  },
  {
   "cell_type": "markdown",
   "id": "84225187",
   "metadata": {
    "tags": []
   },
   "source": [
    "Calculer le minimum et le maximum de la série de valeurs suivantes, sans utiliser les fonctions `min` et `max` de Python. \n",
    "\n",
    "x = [8, 18, 6, 0, 15, 17.5, 9, 1]"
   ]
  },
  {
   "cell_type": "code",
   "execution_count": null,
   "id": "c262ef97",
   "metadata": {
    "tags": []
   },
   "outputs": [],
   "source": [
    "# Testez votre réponse dans cette cellule\n"
   ]
  },
  {
   "cell_type": "code",
   "execution_count": null,
   "id": "8e843a7a",
   "metadata": {
    "tags": []
   },
   "outputs": [],
   "source": [
    "# Exécuter cette cellule pour afficher la solution\n",
    "%load -r 113-124 solutions.py"
   ]
  },
  {
   "cell_type": "markdown",
   "id": "b7fbae13",
   "metadata": {},
   "source": [
    "### Calcul de moyenne et de variance \"à la main\""
   ]
  },
  {
   "cell_type": "markdown",
   "id": "eec47dcc",
   "metadata": {
    "tags": []
   },
   "source": [
    "Calculer la moyenne et la variance de la série de valeurs suivantes, sans utiliser des fonctions déjà codées : \n",
    "\n",
    "x = [8, 18, 6, 0, 15, 17.5, 9, 1]\n",
    "\n",
    "Pour rappel, les formules sont :\n",
    "- moyenne : $$\\bar{x} = {\\frac {1}{n}}\\sum_{i=1}^{n}x_{i}$$\n",
    "- variance : $$\\sigma^2 = {\\frac {1}{n}}\\sum_{i=1}^{n} (x_{i}-\\bar{x})^2$$\n",
    "\n",
    "NB : \n",
    "- n à la puissance k s'écrit en Python `n**k`\n",
    "- en pratique, il ne faut surtout pas essayer de recoder soi-même ce genre de fonctions, mais utiliser des fonctions issues de packages adaptés, comme `numpy`."
   ]
  },
  {
   "cell_type": "code",
   "execution_count": null,
   "id": "654d649f",
   "metadata": {
    "tags": []
   },
   "outputs": [],
   "source": [
    "# Testez votre réponse dans cette cellule\n"
   ]
  },
  {
   "cell_type": "code",
   "execution_count": null,
   "id": "a13bb57f",
   "metadata": {
    "tags": []
   },
   "outputs": [],
   "source": [
    "# Exécuter cette cellule pour afficher la solution\n",
    "%load -r 128-147 solutions.py"
   ]
  },
  {
   "cell_type": "markdown",
   "id": "6858ab9b",
   "metadata": {},
   "source": [
    "### Usage avancé de la fonction `range`"
   ]
  },
  {
   "cell_type": "markdown",
   "id": "3b638f82",
   "metadata": {
    "tags": []
   },
   "source": [
    "Nous avons vu plus haut l'usage basique de la fonction `range` : `range(n)` crée un objet itérable qui contient l'ensemble des entiers de $0$ à $n-1$. Les usages possibles de cette fonction sont cependant plus complets, et parfois utiles dans le cadre de problèmes précis.\n",
    "\n",
    "La syntaxe complète de la fonction est `range(start, stop, step)` où :\n",
    "- `start` est l'entier à partir duquel commence la séquence d'entiers\n",
    "- `stop` est l'entier avant lequel se termine la séquence d'entiers\n",
    "- `step` est le pas, i.e. la valeur de l'incrément entre chaque entier de la séquence.\n",
    "\n",
    "Seul le paramètre `stop` est obligatoire, c'est celui qui est utilisé lorsqu'on appelle `range(n)`.\n",
    "\n",
    "En utilisant la fonction `range`, afficher :\n",
    "- l'ensemble des entiers de 0 à 10 (10 exclu)\n",
    "- l'ensemble des entiers de 10 à 20 (20 inclus)\n",
    "- l'ensemble des nombres pairs compris entre 30 et 40 (40 inclus)\n",
    "- l'ensemble des multiples de 10 entre 1 et 100 (100 exclu)\n",
    "- l'ensemble des entiers de 10 à 20 (20 inclus), dans l'ordre inverse (de 20 à 10)"
   ]
  },
  {
   "cell_type": "code",
   "execution_count": null,
   "id": "f4b057e6",
   "metadata": {
    "tags": []
   },
   "outputs": [],
   "source": [
    "# Testez votre réponse dans cette cellule\n"
   ]
  },
  {
   "cell_type": "code",
   "execution_count": null,
   "id": "6f29e145",
   "metadata": {
    "tags": []
   },
   "outputs": [],
   "source": [
    "# Exécuter cette cellule pour afficher la solution\n",
    "%load -r 151-159 solutions.py"
   ]
  },
  {
   "cell_type": "markdown",
   "id": "60f077ed",
   "metadata": {},
   "source": [
    "### Le juste prix, version améliorée"
   ]
  },
  {
   "cell_type": "markdown",
   "id": "b31200ce",
   "metadata": {
    "tags": []
   },
   "source": [
    "Dans le précédent tutoriel, nous avons codé un jeu du juste prix. Mais il était un peu limité, puisqu'il fallait réexécuter le code à chaque étape du jeu. A l'aide de boucles, réécrivez le jeu de manière complètement automatique.\n",
    "\n",
    "Rappel des règles : \n",
    "\n",
    "**En utilisant `input` et les instructions `if`, `elif` et `else`**, coder le programme suivant : \n",
    "- demander une valeur à l'utilisateur, qui sera stockée dans une variable `p`\n",
    "- si `p` est strictement inférieur à $15$, imprimer (avec la fonction `print`) le message \"trop bas !\".\n",
    "- si `p` est strictement supérieur à $15$, imprimer le message \"trop haut !\".\n",
    "- si `p` est égal à $15$, imprimer le message \"dans le mille !\"\n",
    "\n",
    "Attention, `input` renvoie par défaut une chaîne de caractère. Il faut donc convertir la valeur de `p` au format entier (via la fonction `int`) pour que le jeu fonctionne."
   ]
  },
  {
   "cell_type": "code",
   "execution_count": null,
   "id": "004152e6",
   "metadata": {
    "tags": []
   },
   "outputs": [],
   "source": [
    "# Testez votre réponse dans cette cellule\n"
   ]
  },
  {
   "cell_type": "code",
   "execution_count": null,
   "id": "0e01b2db",
   "metadata": {
    "tags": []
   },
   "outputs": [],
   "source": [
    "# Exécuter cette cellule pour afficher la solution\n",
    "%load -r 163-178 solutions.py"
   ]
  },
  {
   "cell_type": "code",
   "execution_count": null,
   "id": "aae01ffc",
   "metadata": {},
   "outputs": [],
   "source": []
  }
 ],
 "metadata": {
  "jupytext": {
   "cell_metadata_filter": "tags,-all",
   "main_language": "python",
   "notebook_metadata_filter": "-all"
  }
 },
 "nbformat": 4,
 "nbformat_minor": 5
}
