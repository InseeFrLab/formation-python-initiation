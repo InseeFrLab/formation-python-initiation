{
 "cells": [
  {
   "cell_type": "raw",
   "id": "3fd40e47",
   "metadata": {},
   "source": [
    "---\n",
    "title: \"Structures de données 1 : listes et tuples\"\n",
    "abstract: \"Découverte des structures de données séquentielles : listes et tuples.\"\n",
    "---"
   ]
  },
  {
   "cell_type": "markdown",
   "id": "d52b0022",
   "metadata": {},
   "source": [
    "Dans ce tutoriel, nous allons nous intéresser à des structures de données de base en Python : les **listes** et les **tuples**. Les structures de données peuvent être vues comme des conteneurs car ils permettent de stocker, d'organiser et d'accéder à des données. Les listes et les tuples sont des **conteneurs séquentiels** : les éléments qu'ils contiennent sont **ordonnés**, et leur position est enregistrée dans un **index**.\n",
    "\n",
    "## Listes\n",
    "\n",
    "### Définition\n",
    "\n",
    "Dans le tutoriel précédent, nous avons vu que les chaînes de caractères étaient des **séquences** de caractères. Les listes sont également des séquences, c'est à dire des suites ordonnées d'éléments, mais plus générales : les éléments peuvent être de différente nature.\n",
    "\n",
    "Les listes sont construites avec des crochets **[]**, et les éléments de la liste sont séparés par des virgules.\n",
    "\n",
    "Assignons une première liste à une variable `a` :\n"
   ]
  },
  {
   "cell_type": "code",
   "execution_count": null,
   "id": "f2a680b3",
   "metadata": {},
   "outputs": [],
   "source": [
    "a = [1, 2, 3]\n",
    "print(a)"
   ]
  },
  {
   "cell_type": "markdown",
   "id": "7e153ea3",
   "metadata": {},
   "source": [
    "La liste `a` est constituée d'entiers, mais une liste peut en pratique contenir des objets de tout type.\n"
   ]
  },
  {
   "cell_type": "code",
   "execution_count": null,
   "id": "53fc511c",
   "metadata": {},
   "outputs": [],
   "source": [
    "b = [\"une séquence\", 56, \"d\"]\n",
    "print(b)"
   ]
  },
  {
   "cell_type": "markdown",
   "id": "cc556b55",
   "metadata": {},
   "source": [
    "Il est notamment possible de créer des listes de listes (et ainsi de suite), ce qui permet de créer des structures hiérarchiques de données.\n"
   ]
  },
  {
   "cell_type": "code",
   "execution_count": null,
   "id": "b8ef8bd1",
   "metadata": {},
   "outputs": [],
   "source": [
    "c = [\"une séquence\", 56, [\"cette liste est imbriquée\", 75, \"o\"]]\n",
    "print(c)"
   ]
  },
  {
   "cell_type": "markdown",
   "id": "dddfe29d",
   "metadata": {},
   "source": [
    "Une liste imbriquée peut aussi être construite à partir de listes déjà définies.\n"
   ]
  },
  {
   "cell_type": "code",
   "execution_count": null,
   "id": "b2f27ca5",
   "metadata": {},
   "outputs": [],
   "source": [
    "item1 = [\"cafe\", \"500g\"]\n",
    "item2 = [\"biscuits\", \"20\"]\n",
    "item3 = [\"lait\", \"1L\"]\n",
    "inventaire = [item1, item2, item3]\n",
    "print(inventaire)"
   ]
  },
  {
   "cell_type": "markdown",
   "id": "6c3af965",
   "metadata": {},
   "source": [
    "On verra cependant dans le prochain tutoriel que les dictionnaires sont généralement des structures de données souvent plus adaptées que les listes pour représenter des données sous forme hiérarchique.\n",
    "\n",
    "### Longueur d'une liste\n",
    "\n",
    "Comme les chaînes de caractères, il est possible d'utiliser la fonction `len` pour compter le nombre d'éléments présents dans une liste.\n"
   ]
  },
  {
   "cell_type": "code",
   "execution_count": null,
   "id": "32e9b33c",
   "metadata": {},
   "outputs": [],
   "source": [
    "d = [\"ceci\", \"est\", \"une\", \"liste\"]\n",
    "len(d)"
   ]
  },
  {
   "cell_type": "markdown",
   "id": "f9b54ed6",
   "metadata": {},
   "source": [
    "### Indexation\n",
    "\n",
    "Les listes étant des séquences, elles s'indexent de la même manière que les chaînes de caractères. Il est notamment important de se rappeler que la numérotation des positions commence à 0 en Python.\n"
   ]
  },
  {
   "cell_type": "code",
   "execution_count": null,
   "id": "0d0aa707",
   "metadata": {},
   "outputs": [],
   "source": [
    "# Troisième élément de la liste a\n",
    "print(a[2])"
   ]
  },
  {
   "cell_type": "markdown",
   "id": "3d31dcba",
   "metadata": {},
   "source": [
    "Bien entendu, il n'est pas possible de demander un élément qui n'existe pas. Python renvoie une erreur nous indiquant que l'index demandé est hors limites.\n"
   ]
  },
  {
   "cell_type": "code",
   "execution_count": null,
   "id": "d22f27b1",
   "metadata": {},
   "outputs": [],
   "source": [
    "print(a[5])"
   ]
  },
  {
   "cell_type": "markdown",
   "id": "afa3c4db",
   "metadata": {},
   "source": [
    "Pour indexer une liste contenue dans une autre liste, on utilise une double indexation.\n"
   ]
  },
  {
   "cell_type": "code",
   "execution_count": null,
   "id": "7b1d644b",
   "metadata": {},
   "outputs": [],
   "source": [
    "# Premier élément de la sous-liste qui est à la deuxième position de la liste c\n",
    "print(c[2][0])"
   ]
  },
  {
   "cell_type": "markdown",
   "id": "e8c10544",
   "metadata": {},
   "source": [
    "En termes d'indexation, tout ce qui était possible sur les chaînes caractères l'est également avec les listes.\n"
   ]
  },
  {
   "cell_type": "code",
   "execution_count": null,
   "id": "6973ebcb",
   "metadata": {
    "lines_to_next_cell": 2
   },
   "outputs": [],
   "source": [
    "# Tous les éléments à partir de la 1ère position\n",
    "print(b[1:])"
   ]
  },
  {
   "cell_type": "code",
   "execution_count": null,
   "id": "d7c97716",
   "metadata": {},
   "outputs": [],
   "source": [
    "# Inverser une liste\n",
    "print(a[::-1])"
   ]
  },
  {
   "cell_type": "markdown",
   "id": "0fa2d7d1",
   "metadata": {},
   "source": [
    "### Modification d'éléments\n",
    "\n",
    "Il est possible de modifier les éléments d'une liste manuellement, avec une syntaxe similaire à l'assignation de variable.\n"
   ]
  },
  {
   "cell_type": "code",
   "execution_count": null,
   "id": "6b74693c",
   "metadata": {
    "lines_to_next_cell": 2
   },
   "outputs": [],
   "source": [
    "# Réassignation d'un élément\n",
    "d = [1, 2, \"toto\", 4]\n",
    "d[2] = 3\n",
    "print(d)"
   ]
  },
  {
   "cell_type": "code",
   "execution_count": null,
   "id": "8efb9de3",
   "metadata": {},
   "outputs": [],
   "source": [
    "# Substitution d'un élément\n",
    "a = [1, 2, 3]\n",
    "b = [\"do\", \"re\", \"mi\"]\n",
    "b[0] = a[2]\n",
    "print(b)"
   ]
  },
  {
   "cell_type": "markdown",
   "id": "fa6d969b",
   "metadata": {},
   "source": [
    "### Suppression d'éléments\n",
    "\n",
    "L'instruction `del` permet de supprimer un élément par position. Les éléments qui se trouvaient après l'élément supprimé voient donc leur index réduit de 1.\n"
   ]
  },
  {
   "cell_type": "code",
   "execution_count": null,
   "id": "8d86575c",
   "metadata": {},
   "outputs": [],
   "source": [
    "e = [1, \"do\", 6]\n",
    "print(e)\n",
    "print(e[2])\n",
    "\n",
    "del e[1]\n",
    "print(e)\n",
    "print(e[1])"
   ]
  },
  {
   "cell_type": "markdown",
   "id": "50e1d92c",
   "metadata": {},
   "source": [
    "### Quelques propriétés utiles\n",
    "\n",
    "Là encore, on retrouve des propriétés inhérentes aux séquences.\n"
   ]
  },
  {
   "cell_type": "code",
   "execution_count": null,
   "id": "97663a39",
   "metadata": {
    "lines_to_next_cell": 2
   },
   "outputs": [],
   "source": [
    "# Concaténation\n",
    "[1, 2, 3] + [\"a\", 12]"
   ]
  },
  {
   "cell_type": "code",
   "execution_count": null,
   "id": "26b13374",
   "metadata": {},
   "outputs": [],
   "source": [
    "# Réplication\n",
    "[\"a\", \"b\", \"c\"] * 3"
   ]
  },
  {
   "cell_type": "markdown",
   "id": "d8c8388a",
   "metadata": {},
   "source": [
    "### Quelques méthodes utiles\n",
    "\n",
    "A l'instar des chaînes de caractères, les listes ont de nombreuses méthodes *built-in*, qui s'utilisent selon le format `objet.methode(parametres)`. Les plus utiles sont présentées ci-dessous ; d'autres méthodes seront utilisées dans le cadre des exercices de fin de section.\n"
   ]
  },
  {
   "cell_type": "code",
   "execution_count": null,
   "id": "5f91485c",
   "metadata": {
    "lines_to_next_cell": 2
   },
   "outputs": [],
   "source": [
    "# Ajouter un élément\n",
    "a = [1, 2, 3]\n",
    "a.append(4)\n",
    "print(a)"
   ]
  },
  {
   "cell_type": "code",
   "execution_count": null,
   "id": "a8a76fdc",
   "metadata": {
    "lines_to_next_cell": 2
   },
   "outputs": [],
   "source": [
    "# Supprimer un élément par position\n",
    "b = [\"do\", \"re\", \"mi\"]\n",
    "b.pop(0)\n",
    "print(b)"
   ]
  },
  {
   "cell_type": "code",
   "execution_count": null,
   "id": "aa0e763b",
   "metadata": {
    "lines_to_next_cell": 2
   },
   "outputs": [],
   "source": [
    "# Supprimer un élément par valeur\n",
    "b = [\"do\", \"re\", \"mi\"]\n",
    "b.remove(\"mi\")\n",
    "print(b)"
   ]
  },
  {
   "cell_type": "code",
   "execution_count": null,
   "id": "80ad80bd",
   "metadata": {
    "lines_to_next_cell": 2
   },
   "outputs": [],
   "source": [
    "# Inverser une liste\n",
    "l = [1, 2, 3, 4, 5]\n",
    "l.reverse()\n",
    "print(l)"
   ]
  },
  {
   "cell_type": "code",
   "execution_count": null,
   "id": "e2878f08",
   "metadata": {},
   "outputs": [],
   "source": [
    "# Trouver la position d'un élément\n",
    "b = [\"a\", \"b\", \"c\", \"d\", \"e\"]\n",
    "b.index(\"d\")"
   ]
  },
  {
   "cell_type": "markdown",
   "id": "48a567a4",
   "metadata": {},
   "source": [
    "## Tuples\n",
    "\n",
    "### Définition\n",
    "\n",
    "Les **tuples** sont une autre structure de données basique en Python, semblable à celle des listes dans leur fonctionnement. Il y a cependant une différence fondamentale : là où les éléments d'une liste peuvent être modifiés par position comme on l'a vu précédemment, les tuples sont **non-modifiables** (*immutable*). Ainsi, les éléments d'un tuple ne peuvent pas être modifiés sans redéfinir complètement le tuple. \n",
    "\n",
    "Quand est-il pertinent d'utiliser un tuple plutôt qu'une liste ? En pratique, les tuples sont beaucoup moins fréquemment utilisés que les listes. On utilise généralement les tuples pour **stocker des données qui n'ont pas vocation à être modifiées** lors de l'exécution de notre programme Python. Cela permet de se prémunir contre des problèmes d'intégrité de données, c'est à dire de modification non-voulue des données d'entrée. On s'évite ainsi parfois de longues et pénibles séances de debugging.\n",
    "\n",
    "Une autre différence, mineure celle-ci, est que les tuples s'écrivent avec des **parenthèses** au lieu des crochets. Les différents éléments sont toujours séparés par des virgules.\n"
   ]
  },
  {
   "cell_type": "code",
   "execution_count": null,
   "id": "7a11a9db",
   "metadata": {},
   "outputs": [],
   "source": [
    "x = (1, 2, \"mi\", \"fa\", 5)\n",
    "x"
   ]
  },
  {
   "cell_type": "markdown",
   "id": "638b1993",
   "metadata": {},
   "source": [
    "Afin de bien faire la différence avec l'usage normal des parenthèses (dans les calculs ou pour délimiter les expressions), un tuple à un seul élément se définit avec une virgule après le premier élément.\n"
   ]
  },
  {
   "cell_type": "code",
   "execution_count": null,
   "id": "1ba7c240",
   "metadata": {},
   "outputs": [],
   "source": [
    "x1 = (\"a\", )\n",
    "x1"
   ]
  },
  {
   "cell_type": "markdown",
   "id": "5827b094",
   "metadata": {},
   "source": [
    "Vérifions qu'il est impossible de modifier ou d'ajouter un élément à un tuple.\n"
   ]
  },
  {
   "cell_type": "code",
   "execution_count": null,
   "id": "6056d158",
   "metadata": {
    "lines_to_next_cell": 2
   },
   "outputs": [],
   "source": [
    "t = (\"do\", \"rez\", \"mi\")\n",
    "t[1] = \"re\""
   ]
  },
  {
   "cell_type": "code",
   "execution_count": null,
   "id": "691a9e53",
   "metadata": {},
   "outputs": [],
   "source": [
    "t = (\"do\", \"re\", \"mi\")\n",
    "t.append(\"fa\")"
   ]
  },
  {
   "cell_type": "markdown",
   "id": "4e42ef03",
   "metadata": {},
   "source": [
    "### Fonctionnement\n",
    "\n",
    "Les tuples s'indexent comme les listes.\n"
   ]
  },
  {
   "cell_type": "code",
   "execution_count": null,
   "id": "14a6c96d",
   "metadata": {},
   "outputs": [],
   "source": [
    "print(x[0])\n",
    "print(x[3:5])"
   ]
  },
  {
   "cell_type": "markdown",
   "id": "a540b8ad",
   "metadata": {},
   "source": [
    "Et peuvent également s'utiliser de manière hiérarchique.\n"
   ]
  },
  {
   "cell_type": "code",
   "execution_count": null,
   "id": "0ee39200",
   "metadata": {},
   "outputs": [],
   "source": [
    "t1 = (\"a\", \"b\", \"c\")\n",
    "t2 = (1, 2, 3)\n",
    "t3 = (t1, \"et\", t2)\n",
    "\n",
    "print(t3)\n",
    "print(t3[2][1])"
   ]
  },
  {
   "cell_type": "markdown",
   "id": "a1875d21",
   "metadata": {},
   "source": [
    "Les tuples partagent certaines méthodes *built-in* avec les listes : celles qui ne provoquent pas de modification de l'objet.\n"
   ]
  },
  {
   "cell_type": "code",
   "execution_count": null,
   "id": "d35dd404",
   "metadata": {
    "lines_to_next_cell": 2
   },
   "outputs": [],
   "source": [
    "t = (\"do\", \"re\", \"mi\")\n",
    "t.index(\"do\")"
   ]
  },
  {
   "cell_type": "code",
   "execution_count": null,
   "id": "f0be172a",
   "metadata": {},
   "outputs": [],
   "source": [
    "t = (\"do\", \"re\", \"mi\", \"re\", \"do\")\n",
    "t.count(\"re\")"
   ]
  },
  {
   "cell_type": "markdown",
   "id": "f156a5d9",
   "metadata": {},
   "source": [
    "### Conversion\n",
    "\n",
    "Les fonctions `list` et `tuple` permettent de convertir une liste en tuple et inversement.\n"
   ]
  },
  {
   "cell_type": "code",
   "execution_count": null,
   "id": "fc96177d",
   "metadata": {
    "lines_to_next_cell": 2
   },
   "outputs": [],
   "source": [
    "tuple([\"do\", \"re\", \"mi\"])"
   ]
  },
  {
   "cell_type": "code",
   "execution_count": null,
   "id": "77721229",
   "metadata": {},
   "outputs": [],
   "source": [
    "list((1, 2, 3, 4, 5))"
   ]
  },
  {
   "cell_type": "markdown",
   "id": "ea383e9c",
   "metadata": {},
   "source": [
    "Ces fonctions ont d'autres usages en pratique, que nous verrons en exercice.\n",
    "\n",
    "## Exercices\n",
    "\n",
    "### Questions de compréhension\n",
    "\n",
    "- Pourquoi dit-on des listes et des tuples que ce sont des conteneurs ?\n",
    "- Quel est le point commun entre les listes et les chaînes de caractères ?\n",
    "- Comment est enregistré l'ordre des éléments dans une séquence en Python ?\n",
    "- Quelle est la différence fondamentale entre une liste et un tuple ?\n",
    "- Dans quel cas aura-t-on plutôt intérêt à utiliser un tuple qu'une liste ?\n",
    "- Peut-on avoir des éléments de types différents (ex : `int` et `string`) dans une même liste ? Dans un même tuple ?\n",
    "\n",
    "Si les réponses à ces questions ne sont pas encore claires, n'hésitez pas à revenir au tutoriel, ou bien à tester par vous-même dans une cellule.\n",
    "\n",
    "### Exercice\n",
    "\n",
    "Créez 4 listes portant les noms des 4 saisons, contenant chacune les noms des mois associés (les mois de changement de saison seront attribués à la saison précédente). Puis créez une liste `saisons` contenant les 4 listes. Essayez de prévoir ce que vont renvoyer (type de l'objet, nombre d'éléments et contenu) les instructions suivantes, puis vérifiez le. \n",
    "\n",
    "- `saisons`\n",
    "- `saisons[0]`\n",
    "- `saisons[0][0]`\n",
    "- `saisons[1][-1]`\n",
    "- `saisons[2][:3]`\n",
    "- `saisons[1][1:2] + saisons[-1][3:]`\n",
    "- `saisons[2:]`\n",
    "- `saisons + saisons[0]`\n",
    "- `saisons[3][::]`\n",
    "- `saisons[3][::-1]`\n",
    "- `saisons * 3`\n"
   ]
  },
  {
   "cell_type": "code",
   "execution_count": null,
   "id": "bb71c2e0",
   "metadata": {
    "lines_to_next_cell": 2
   },
   "outputs": [],
   "source": [
    "# Testez votre réponse dans cette cellule\n"
   ]
  },
  {
   "cell_type": "code",
   "execution_count": null,
   "id": "8ee3d6e7",
   "metadata": {},
   "outputs": [],
   "source": [
    "# Exécuter cette cellule pour afficher la solution\n",
    "%load -r 3-41 solutions.py"
   ]
  },
  {
   "cell_type": "markdown",
   "id": "d7e061c4",
   "metadata": {},
   "source": [
    "### Exercice\n",
    "\n",
    "En ajoutant, supprimant et modifiant des éléments, nettoyez la liste suivante pour qu'elle contienne les notes de musique \"do re mi fa sol la si\" dans le bon ordre.\n",
    "\n",
    "`l = [\"do\", \"re\", \"re\", \"re\", \"fa\", \"sol\", \"solsi\", \"la\"]`\n"
   ]
  },
  {
   "cell_type": "code",
   "execution_count": null,
   "id": "69a58307",
   "metadata": {
    "lines_to_next_cell": 2
   },
   "outputs": [],
   "source": [
    "# Testez votre réponse dans cette cellule\n"
   ]
  },
  {
   "cell_type": "code",
   "execution_count": null,
   "id": "bb9890d9",
   "metadata": {},
   "outputs": [],
   "source": [
    "# Exécuter cette cellule pour afficher la solution\n",
    "%load -r 45-56 solutions.py"
   ]
  },
  {
   "cell_type": "markdown",
   "id": "c5e1fded",
   "metadata": {},
   "source": [
    "### Exercice\n",
    "\n",
    "Proposez deux méthodes pour inverser la liste `[\"une\", \"liste\", \"quelconque\"]`. Quelle est la différence majeure entre les deux méthodes ?\n"
   ]
  },
  {
   "cell_type": "code",
   "execution_count": null,
   "id": "acc55a00",
   "metadata": {
    "lines_to_next_cell": 2
   },
   "outputs": [],
   "source": [
    "# Testez votre réponse dans cette cellule\n"
   ]
  },
  {
   "cell_type": "code",
   "execution_count": null,
   "id": "450dfad0",
   "metadata": {},
   "outputs": [],
   "source": [
    "# Exécuter cette cellule pour afficher la solution\n",
    "%load -r 60-75 solutions.py"
   ]
  },
  {
   "cell_type": "markdown",
   "id": "4b1898c2",
   "metadata": {},
   "source": [
    "### Exercice\n",
    "\n",
    "Nous avons vu que l'instruction `ma_liste.pop(i)` supprimait le i-ème élément de la liste `ma_liste`. A l'aide de la documentation Python ou d'une recherche sur Google, déterminez le comportement par défaut de cette méthode, c'est à dire ce qu'il se passe lorsqu'on ne donne aucun paramètre à la fonction `pop`. Vérifiez que vous observez bien ce comportement à l'aide d'un exemple de votre choix.\n"
   ]
  },
  {
   "cell_type": "code",
   "execution_count": null,
   "id": "0d5e0045",
   "metadata": {
    "lines_to_next_cell": 2
   },
   "outputs": [],
   "source": [
    "# Testez votre réponse dans cette cellule\n"
   ]
  },
  {
   "cell_type": "code",
   "execution_count": null,
   "id": "d94c96a8",
   "metadata": {},
   "outputs": [],
   "source": [
    "# Exécuter cette cellule pour afficher la solution\n",
    "%load -r 79-81 solutions.py"
   ]
  },
  {
   "cell_type": "markdown",
   "id": "bd5a79a9",
   "metadata": {},
   "source": [
    "### Exercice\n",
    "\n",
    "Il existe beaucoup d'autres méthodes *built-in* pour les listes que celles que nous avons déjà vues. Par exemple : `min` et `max`. Vérifiez leur comportement : \n",
    "- sur une liste composée uniquement d'objets numériques (`int` et `float`) ;\n",
    "- sur une liste composée uniquement de chaînes de caractères ;\n",
    "- sur une liste composée d'un mélange d'objets numériques et textuels.\n"
   ]
  },
  {
   "cell_type": "code",
   "execution_count": null,
   "id": "7f4cb655",
   "metadata": {
    "lines_to_next_cell": 2
   },
   "outputs": [],
   "source": [
    "# Testez votre réponse dans cette cellule\n"
   ]
  },
  {
   "cell_type": "code",
   "execution_count": null,
   "id": "b7655884",
   "metadata": {},
   "outputs": [],
   "source": [
    "# Exécuter cette cellule pour afficher la solution\n",
    "%load -r 85-91 solutions.py"
   ]
  },
  {
   "cell_type": "markdown",
   "id": "32df0dd6",
   "metadata": {},
   "source": [
    "### Exercice\n",
    "\n",
    "Essayer de créer une liste vide. Vérifiez son type. Quel intérêt cela pourrait-il avoir ?\n"
   ]
  },
  {
   "cell_type": "code",
   "execution_count": null,
   "id": "2eec1f41",
   "metadata": {
    "lines_to_next_cell": 2
   },
   "outputs": [],
   "source": [
    "# Testez votre réponse dans cette cellule\n"
   ]
  },
  {
   "cell_type": "code",
   "execution_count": null,
   "id": "0e2e4dd9",
   "metadata": {},
   "outputs": [],
   "source": [
    "# Exécuter cette cellule pour afficher la solution\n",
    "%load -r 95-107 solutions.py"
   ]
  },
  {
   "cell_type": "markdown",
   "id": "fcdee053",
   "metadata": {},
   "source": [
    "### Exercice\n",
    "\n",
    "Dans le tutoriel, nous avons vu les fonctions `list` et `tuple` qui permettent de passer d'un type à l'autre. En réalité, le fonctionnement de ces fonctions est plus subtil : le code `list(mon_objet)` renvoie la \"version liste\" de cet objet, de la même manière par exemple que `str(3)` renvoie `'3'`, c'est à dire la version *string* de l'entier `3`.\n",
    "\n",
    "A l'aide de la fonction `list`, trouver les \"versions liste\" des objets suivants :\n",
    "- le tuple `a = (1, 2, 3)` ;\n",
    "- la chaîne de caractères `b = \"bonjour\"` ;\n",
    "- l'entier `c = 5`\n"
   ]
  },
  {
   "cell_type": "code",
   "execution_count": null,
   "id": "214f75ef",
   "metadata": {
    "lines_to_next_cell": 2
   },
   "outputs": [],
   "source": [
    "# Testez votre réponse dans cette cellule\n"
   ]
  },
  {
   "cell_type": "code",
   "execution_count": null,
   "id": "1fcd2df5",
   "metadata": {},
   "outputs": [],
   "source": [
    "# Exécuter cette cellule pour afficher la solution\n",
    "%load -r 111-125 solutions.py"
   ]
  },
  {
   "cell_type": "markdown",
   "id": "959d61b2",
   "metadata": {},
   "source": [
    "### Exercice\n",
    "\n",
    "Nous avons vu que les tuples avaient la particularité d'être non-modifiables. Mais est-ce que cette propriété se transfère de manière récursive ? Par exemple, est-ce qu'une liste contenue dans un tuple est-elle même non-modifiable ? Vérifiez à l'aide d'un exemple de votre choix.\n"
   ]
  },
  {
   "cell_type": "code",
   "execution_count": null,
   "id": "ea0ece55",
   "metadata": {
    "lines_to_next_cell": 2
   },
   "outputs": [],
   "source": [
    "# Testez votre réponse dans cette cellule\n"
   ]
  },
  {
   "cell_type": "code",
   "execution_count": null,
   "id": "4c885606",
   "metadata": {},
   "outputs": [],
   "source": [
    "# Exécuter cette cellule pour afficher la solution\n",
    "%load -r 129-134 solutions.py"
   ]
  },
  {
   "cell_type": "markdown",
   "id": "ebfde709",
   "metadata": {},
   "source": [
    "### Exercice\n",
    "\n",
    "Lisez la partie concernant l'agrégation et la dissociation de séquences dans la [documentation Python](https://docs.python.org/fr/3/tutorial/datastructures.html#tuples-and-sequences). La dissociation est une propriété souvent utilisée en pratique. Vérifiez qu'elle fonctionne sur les différents objets séquentiels que nous avons vus jusqu'à maintenant (chaînes de caractères, listes et tuples).\n"
   ]
  },
  {
   "cell_type": "code",
   "execution_count": null,
   "id": "2518b08d",
   "metadata": {
    "lines_to_next_cell": 2
   },
   "outputs": [],
   "source": [
    "# Testez votre réponse dans cette cellule\n"
   ]
  },
  {
   "cell_type": "code",
   "execution_count": null,
   "id": "ab930014",
   "metadata": {
    "lines_to_next_cell": 2
   },
   "outputs": [],
   "source": [
    "# Exécuter cette cellule pour afficher la solution\n",
    "%load -r 138-145 solutions.py"
   ]
  },
  {
   "cell_type": "code",
   "execution_count": null,
   "id": "a87740fa",
   "metadata": {},
   "outputs": [],
   "source": []
  }
 ],
 "metadata": {
  "jupytext": {
   "cell_metadata_filter": "-all",
   "main_language": "python",
   "notebook_metadata_filter": "-all"
  }
 },
 "nbformat": 4,
 "nbformat_minor": 5
}
