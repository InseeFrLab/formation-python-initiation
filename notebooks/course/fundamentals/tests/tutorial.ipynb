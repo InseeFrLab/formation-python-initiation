{
 "cells": [
  {
   "cell_type": "raw",
   "id": "8167d1ca",
   "metadata": {},
   "source": [
    "---\n",
    "title: \"Tests\"\n",
    "abstract: \"Découverte des tests et des structures conditionnelles, qui permettent à un programme de prendre des décisions de manière automatisée.\"\n",
    "---"
   ]
  },
  {
   "cell_type": "markdown",
   "id": "42f9c1d9",
   "metadata": {},
   "source": [
    "Dans le tutoriel précédent, nous avons évoqué -- sans l'expliciter -- la notion de **test**, à travers l'exemple des tests d'appartenance. A présent, nous allons entrer dans le détail du fonctionnement des tests en Python. Les tests sont une étape majeure dans la création de programmes permettant d'automatiser des opérations, dans la mesure où ils permettent d'**exécuter -- ou non -- du code selon certaines conditions**. Ils permettent donc à l'ordinateur de prendre des décisions selon des critères fixés par l'utilisateur."
   ]
  },
  {
   "cell_type": "markdown",
   "id": "2d4681f9",
   "metadata": {},
   "source": [
    "## Le type Booléen"
   ]
  },
  {
   "cell_type": "markdown",
   "id": "08f27ac7",
   "metadata": {},
   "source": [
    "Dans sa plus simple forme, un test en Python est une expression qui évalue à \"vrai\" ou \"faux\". Par exemple, l'expression $3 > 2$ est vraie, le test associé renverra donc \"vrai\". Pour ce type d'évaluation, Python dispose d'un type d'objets particulier : les **Booléens**. Contrairement aux types d'objet que nous avons déjà vus (`int`, `float`, `str`..), les Booléens ne peuvent prendre que deux valeurs : `True` et `False`."
   ]
  },
  {
   "cell_type": "code",
   "execution_count": null,
   "id": "8284b16d",
   "metadata": {},
   "outputs": [],
   "source": [
    "type(True)"
   ]
  },
  {
   "cell_type": "markdown",
   "id": "ce6858c9",
   "metadata": {},
   "source": [
    "Comme n'importe quel objet, les Booléens peuvent être assignés à des variables."
   ]
  },
  {
   "cell_type": "code",
   "execution_count": null,
   "id": "eccd9789",
   "metadata": {},
   "outputs": [],
   "source": [
    "a = False\n",
    "print(a)\n",
    "print(type(a))"
   ]
  },
  {
   "cell_type": "markdown",
   "id": "bc04b2eb",
   "metadata": {},
   "source": [
    "Les valeurs `True` et `False` doivent être écrites de cette manière précisément (première lettre en majuscule, pas de guillemets). Elles ne peuvent par ailleurs pas être utilisées comme noms de variable afin de limiter les ambiguïtés."
   ]
  },
  {
   "cell_type": "code",
   "execution_count": null,
   "id": "6e65ffd6",
   "metadata": {},
   "outputs": [],
   "source": [
    "a = true  # Python chercher la variable `true` mais elle n'existe pas"
   ]
  },
  {
   "cell_type": "code",
   "execution_count": null,
   "id": "ed0ccd25",
   "metadata": {},
   "outputs": [],
   "source": [
    "True = 3"
   ]
  },
  {
   "cell_type": "markdown",
   "id": "a93cda1e",
   "metadata": {},
   "source": [
    "## Opérateurs de comparaison"
   ]
  },
  {
   "cell_type": "markdown",
   "id": "28267bbf",
   "metadata": {},
   "source": [
    "Les opérateurs de comparaison formalisent les opérations mathématiques de comparaison (égalité, non-égalité, inégalités). Ils **comparent deux valeurs et renvoient une valeur booléenne**."
   ]
  },
  {
   "cell_type": "markdown",
   "id": "dafe07c2",
   "metadata": {},
   "source": [
    "| Opérateur | Signification |\n",
    "| --- | --- |\n",
    "| == | Egal à  |\n",
    "| != | Non égal à  |\n",
    "| < | Strictement inférieur à  |\n",
    "| > | Strictement supérieur à  |\n",
    "| <= | Inférieur ou égal à  |\n",
    "| >= | Supérieur ou égal à  |"
   ]
  },
  {
   "cell_type": "markdown",
   "id": "8ecba3e5",
   "metadata": {},
   "source": [
    "Illustrons ces opérateurs à l'aide de quelques exemples."
   ]
  },
  {
   "cell_type": "code",
   "execution_count": null,
   "id": "6a9d0f10",
   "metadata": {},
   "outputs": [],
   "source": [
    "3 == 3"
   ]
  },
  {
   "cell_type": "code",
   "execution_count": null,
   "id": "3be529f0",
   "metadata": {},
   "outputs": [],
   "source": [
    "63 == 36"
   ]
  },
  {
   "cell_type": "code",
   "execution_count": null,
   "id": "51d6b30e",
   "metadata": {},
   "outputs": [],
   "source": [
    "2 != 3"
   ]
  },
  {
   "cell_type": "code",
   "execution_count": null,
   "id": "bbe08a6f",
   "metadata": {},
   "outputs": [],
   "source": [
    "2 != 2"
   ]
  },
  {
   "cell_type": "code",
   "execution_count": null,
   "id": "c59b52e6",
   "metadata": {},
   "outputs": [],
   "source": [
    "3 > 2"
   ]
  },
  {
   "cell_type": "code",
   "execution_count": null,
   "id": "acc0ead1",
   "metadata": {},
   "outputs": [],
   "source": [
    "a = 36\n",
    "a <= a"
   ]
  },
  {
   "cell_type": "code",
   "execution_count": null,
   "id": "96fb0bf1",
   "metadata": {},
   "outputs": [],
   "source": [
    "a < a"
   ]
  },
  {
   "cell_type": "markdown",
   "id": "c48fb0ed",
   "metadata": {},
   "source": [
    "Tout semble fonctionner correctement pour des opérations mathématiques usuelles. Mais ces opérateurs fonctionnent en réalité sur n'importe quel type d'objet."
   ]
  },
  {
   "cell_type": "code",
   "execution_count": null,
   "id": "530fe392",
   "metadata": {},
   "outputs": [],
   "source": [
    "'do re mi fa sol' == 'do re mi fa sol'"
   ]
  },
  {
   "cell_type": "code",
   "execution_count": null,
   "id": "d887d84b",
   "metadata": {},
   "outputs": [],
   "source": [
    "'do re mi fa sol' == 'Do Re Mi Fa Sol'"
   ]
  },
  {
   "cell_type": "code",
   "execution_count": null,
   "id": "f757d457",
   "metadata": {},
   "outputs": [],
   "source": [
    "'canard' != 'abeille'"
   ]
  },
  {
   "cell_type": "code",
   "execution_count": null,
   "id": "b8238734",
   "metadata": {},
   "outputs": [],
   "source": [
    "True == True"
   ]
  },
  {
   "cell_type": "code",
   "execution_count": null,
   "id": "a3f6c386",
   "metadata": {},
   "outputs": [],
   "source": [
    "True == False"
   ]
  },
  {
   "cell_type": "code",
   "execution_count": null,
   "id": "d1360ebc",
   "metadata": {},
   "outputs": [],
   "source": [
    "[1, 2, 3] == [1, 2, 3]"
   ]
  },
  {
   "cell_type": "code",
   "execution_count": null,
   "id": "fc248c72",
   "metadata": {},
   "outputs": [],
   "source": [
    "[1, 2] != [3, 4]"
   ]
  },
  {
   "cell_type": "markdown",
   "id": "998e6020",
   "metadata": {},
   "source": [
    "Enfin, il est possible de réaliser des comparaisons en chaîne. L'expression renvoie `True` à condition que chacune des comparaisons soit vraie."
   ]
  },
  {
   "cell_type": "code",
   "execution_count": null,
   "id": "2e4c716a",
   "metadata": {},
   "outputs": [],
   "source": [
    "5 < 7 <= 8"
   ]
  },
  {
   "cell_type": "code",
   "execution_count": null,
   "id": "08ad64dd",
   "metadata": {},
   "outputs": [],
   "source": [
    "5 < 7 <= 6"
   ]
  },
  {
   "cell_type": "markdown",
   "id": "7140b316",
   "metadata": {},
   "source": [
    "## Opérateurs booléens"
   ]
  },
  {
   "cell_type": "markdown",
   "id": "740732c9",
   "metadata": {},
   "source": [
    "Les opérateurs booléens permettent de **tester simultanément plusieurs expressions logiques**. Fondamentalement, ces opérateurs prennent en entrée deux valeurs booléennes, et renvoient une unique valeur booléenne selon des règles de logique fixées. Ces règles sont énoncées dans des **tables de vérité**."
   ]
  },
  {
   "cell_type": "markdown",
   "id": "d635ddae",
   "metadata": {},
   "source": [
    "### Opérateur `and`"
   ]
  },
  {
   "cell_type": "markdown",
   "id": "c741eaab",
   "metadata": {
    "tags": []
   },
   "source": [
    "Le premier opérateur booléen est `and`. Regardons sa table de vérité : \n",
    "\n",
    "| Expression | Evaluation |\n",
    "| --- | --- |\n",
    "| `True and True` | `True` |\n",
    "| `True and False` | `False` |\n",
    "| `False and True` | `False` |\n",
    "| `False and False` | `False` |\n",
    "\n",
    "Vérifions ces règles en pratique à l'aide de quelques exemples."
   ]
  },
  {
   "cell_type": "code",
   "execution_count": null,
   "id": "38b1fbee",
   "metadata": {
    "tags": []
   },
   "outputs": [],
   "source": [
    "True and True"
   ]
  },
  {
   "cell_type": "code",
   "execution_count": null,
   "id": "3f002f35",
   "metadata": {
    "tags": []
   },
   "outputs": [],
   "source": [
    "False and True"
   ]
  },
  {
   "cell_type": "markdown",
   "id": "186779f1",
   "metadata": {},
   "source": [
    "Les règles ont l'air de fonctionner sur les valeurs booléennes. Bien entendu, en pratique, on s'intéresse plutôt à évaluer de vraies expressions logiques. On peut donc utiliser ces opérateurs pour tester des expressions qui *renvoient* une valeur booléenne."
   ]
  },
  {
   "cell_type": "code",
   "execution_count": null,
   "id": "c714ccbb",
   "metadata": {},
   "outputs": [],
   "source": [
    "(3 > 2) and (5 <= 9)"
   ]
  },
  {
   "cell_type": "code",
   "execution_count": null,
   "id": "904fba61",
   "metadata": {},
   "outputs": [],
   "source": [
    "a = (\"x\" != \"z\")\n",
    "b = (\"x\" == \"y\")\n",
    "a and b"
   ]
  },
  {
   "cell_type": "markdown",
   "id": "9a59f230",
   "metadata": {
    "tags": []
   },
   "source": [
    "Notez l'usage des parenthèses pour délimiter les tests : elles ne sont pas obligatoires, mais fortement recommandées dans la mesure où elles améliorent grandement la lisibilité tes tests."
   ]
  },
  {
   "cell_type": "markdown",
   "id": "3313f9c3",
   "metadata": {},
   "source": [
    "### L'opérateur `or`"
   ]
  },
  {
   "cell_type": "markdown",
   "id": "254df804",
   "metadata": {},
   "source": [
    "Le second opérateur booléen est `or`. Sa table de vérité est la suivante :\n",
    "\n",
    "| Expression | Evaluation |\n",
    "| --- | --- |\n",
    "| `True or True` | `True` |\n",
    "| `True or False` | `True` |\n",
    "| `False or True` | `True` |\n",
    "| `False or False` | `False` |"
   ]
  },
  {
   "cell_type": "code",
   "execution_count": null,
   "id": "f02c1b19",
   "metadata": {
    "tags": []
   },
   "outputs": [],
   "source": [
    "True or True"
   ]
  },
  {
   "cell_type": "code",
   "execution_count": null,
   "id": "58049069",
   "metadata": {
    "tags": []
   },
   "outputs": [],
   "source": [
    "False or True"
   ]
  },
  {
   "cell_type": "code",
   "execution_count": null,
   "id": "ade4b9fd",
   "metadata": {},
   "outputs": [],
   "source": [
    "(3 > 2) or (5 <= 9)"
   ]
  },
  {
   "cell_type": "code",
   "execution_count": null,
   "id": "3c5246ad",
   "metadata": {
    "tags": []
   },
   "outputs": [],
   "source": [
    "a = (\"x\" != \"z\")\n",
    "b = (\"x\" == \"y\")\n",
    "a or b"
   ]
  },
  {
   "cell_type": "markdown",
   "id": "e3b4ee16",
   "metadata": {},
   "source": [
    "### L'opérateur `not`"
   ]
  },
  {
   "cell_type": "markdown",
   "id": "6f4a061b",
   "metadata": {},
   "source": [
    "Le dernier opérateur booléen est `not`. Sa table de vérité est la suivante :\n",
    "\n",
    "| Expression | Evaluation |\n",
    "| --- | --- |\n",
    "| `not True` | `False` |\n",
    "| `not False` | `True` |"
   ]
  },
  {
   "cell_type": "code",
   "execution_count": null,
   "id": "58c9c6fc",
   "metadata": {
    "tags": []
   },
   "outputs": [],
   "source": [
    "not True"
   ]
  },
  {
   "cell_type": "code",
   "execution_count": null,
   "id": "220b665f",
   "metadata": {
    "tags": []
   },
   "outputs": [],
   "source": [
    "not False"
   ]
  },
  {
   "cell_type": "code",
   "execution_count": null,
   "id": "6ac9c45a",
   "metadata": {},
   "outputs": [],
   "source": [
    "not (3 + 3 == 6)"
   ]
  },
  {
   "cell_type": "code",
   "execution_count": null,
   "id": "e14c9602",
   "metadata": {},
   "outputs": [],
   "source": [
    "not (7 < 7)"
   ]
  },
  {
   "cell_type": "markdown",
   "id": "29335e16",
   "metadata": {},
   "source": [
    "## Structures conditionnelles"
   ]
  },
  {
   "cell_type": "markdown",
   "id": "e2bcee89",
   "metadata": {},
   "source": [
    "Toutes les expressions que nous avons vues précédemment sont des expressions booléennes : un test est effectué, et l'opération renvoie `True` or `False` selon que l'expression évaluée est vraie ou non. Dans le cadre d'un programme informatique qui réalise des opérations automatisées, on va vouloir les utiliser comme des **conditions** : *si* l'expression est vraie, alors l'ordinateur doit effectuer telle ou telle opération. Les **structures conditionnelles** permettent précisément cet usage.\n",
    "\n",
    "Illustrons ce principe en implémentant le programme suivant : \n",
    "- Soit une variable `x`.\n",
    "- Si `x` est supérieur à $5$, alors imprimer dans la console le message \"L'expression est vraie.\"\n",
    "- Dans le cas contraire, imprimer dans la console le message \"L'expression est fausse.\"\n",
    "\n",
    "Faîtes varier la valeur de `x` pour vérifier le bon fonctionnement du test."
   ]
  },
  {
   "cell_type": "code",
   "execution_count": null,
   "id": "bf087799",
   "metadata": {},
   "outputs": [],
   "source": [
    "x = 7\n",
    "\n",
    "if x >= 5:\n",
    "    print(\"L'expression est vraie.\")\n",
    "else:\n",
    "    print(\"L'expression est fausse.\")"
   ]
  },
  {
   "cell_type": "markdown",
   "id": "29efdbe9",
   "metadata": {},
   "source": [
    "### Blocs d'instruction et indentation"
   ]
  },
  {
   "cell_type": "markdown",
   "id": "139b42b5",
   "metadata": {},
   "source": [
    "L'exemple précédent illustre la syntaxe des structures conditionnelles en Python. Ces structures sont basées sur des *blocs d'instructions*, qui délimitent l'ensemble des instructions qui doivent être exécutées lorsqu'un test est vrai. Les structures conditionnelles ont trois règles : \n",
    "- la ligne qui spécifie le test se termine par `:` \n",
    "- toutes les instructions qui doivent être exécutées si le test est vrai se situent à un même niveau d'indentation ;\n",
    "- la structure conditionnelle se termine lorsque l'indentation revient à son niveau d'origine.\n",
    "\n",
    "Notons que les structures conditionnelles peuvent tout à fait être imbriquées, ce qu'illustre l'exemple suivant."
   ]
  },
  {
   "cell_type": "code",
   "execution_count": null,
   "id": "46e90ffc",
   "metadata": {},
   "outputs": [],
   "source": [
    "x = 7\n",
    "\n",
    "if x >= 5:\n",
    "    print(\"L'expression 1 est vraie.\")\n",
    "    if x >= 12:\n",
    "        print(\"L'expression 2 est vraie.\")"
   ]
  },
  {
   "cell_type": "markdown",
   "id": "0afbd211",
   "metadata": {},
   "source": [
    "Lorsque `x = 7`, le premier test renvoie `True`, le bloc d'instructions au niveau d'indentation 1 est donc exécuté ligne par ligne. Le second test renvoie quant à lui `False`, le bloc d'instructions au niveau d'indentation 2 n'est pas exécuté. \n",
    "\n",
    "Faîtes varier la valeur de `x` pour que les deux blocs soient exécutés."
   ]
  },
  {
   "cell_type": "markdown",
   "id": "89fa2669",
   "metadata": {},
   "source": [
    "### Instructions `if`, `else` et `elif`"
   ]
  },
  {
   "cell_type": "markdown",
   "id": "60d6a300",
   "metadata": {},
   "source": [
    "Dans les structures conditionnelles, les tests peuvent être spécifiés à l'aide de trois instructions : `if`, `else` et `elif`. Les exemples précédents ont déjà illustré le fonctionnement des deux premières (et plus fréquentes) instructions.\n",
    "\n",
    "En cas d'un test simple (une seule condition), on n'utilisera qu'une instruction `if`, dont le fonctionnement est simple : si la condition (test) renvoie `True`, alors le bloc d'instructions (indenté) qui suit est exécuté. Si la condition renvoie `False`, il ne se passe rien. Illustrons cela avec un test d'appartenance, dont nous avons vu des exemples dans le tutoriel précédent."
   ]
  },
  {
   "cell_type": "code",
   "execution_count": null,
   "id": "2294c91b",
   "metadata": {},
   "outputs": [],
   "source": [
    "client = \"Isidore\"\n",
    "\n",
    "if client in [\"Alexandrine\", \"Achille\", \"Colette\"]:\n",
    "    print(\"Client connu.\")"
   ]
  },
  {
   "cell_type": "markdown",
   "id": "ad9d7de6",
   "metadata": {},
   "source": [
    "En pratique, on souhaite souvent spécifier une alternative, lorsque la condition de l'instruction `if` renvoie `False`. L'instruction `else` permet de spécifier un bloc d'instructions alternatif."
   ]
  },
  {
   "cell_type": "code",
   "execution_count": null,
   "id": "4ae565ab",
   "metadata": {},
   "outputs": [],
   "source": [
    "client = \"Isidore\"\n",
    "\n",
    "if client in [\"Alexandrine\", \"Achille\", \"Colette\"]:\n",
    "    print(\"Client connu.\")\n",
    "else:\n",
    "    print(\"Client inconnu.\")"
   ]
  },
  {
   "cell_type": "markdown",
   "id": "f3b6d81d",
   "metadata": {},
   "source": [
    "Enfin, on peut vouloir spécifier plusieurs alternatives. Dans ce cas, on va utiliser des instructions `elif`. La première instruction `elif` ne va s'éxécuter que si le test de l'instruction `if` renvoie False. La seconde instruction `elif` ne va s'exécuter que si le test de la première instruction `elif` renvoie `False`, et ainsi de suite. Là encore, on peut spécifier une instruction finale `else`, qui ne s'exécute que si aucun des tests précédents n'a renvoyé `True`."
   ]
  },
  {
   "cell_type": "code",
   "execution_count": null,
   "id": "65059114",
   "metadata": {},
   "outputs": [],
   "source": [
    "client = \"Isidore\"\n",
    "\n",
    "if client == \"Alexandrine\":\n",
    "    print(\"Bonjour Alexandrine.\")\n",
    "elif client == \"Achille\":\n",
    "    print(\"Bonjour Achille.\")\n",
    "elif client == \"Colette\":\n",
    "    print(\"Bonjour Colette.\")\n",
    "else:\n",
    "    print(\"Bonjour cher inconnu.\")"
   ]
  },
  {
   "cell_type": "markdown",
   "id": "01efa923",
   "metadata": {},
   "source": [
    "NB : les instructions précédentes ont seulement valeur d'exemple. En pratique, il y a des manières beaucoup plus concises de coder un programme qui effectue les mêmes opérations."
   ]
  },
  {
   "cell_type": "markdown",
   "id": "9544c198",
   "metadata": {},
   "source": [
    "## Exercices"
   ]
  },
  {
   "cell_type": "markdown",
   "id": "9d55ed9f",
   "metadata": {},
   "source": [
    "### Questions de compréhension"
   ]
  },
  {
   "cell_type": "markdown",
   "id": "7c928d12",
   "metadata": {},
   "source": [
    "- 1/ Quelle est la particularité des Booléens par rapport aux autres types d'objets de base en Python ?\n",
    "- 2/ Quels sont les inputs et les outputs d'un opérateur de comparaison ?\n",
    "- 3/ Quels types d'objets peut-on comparer à l'aide d'un opérateur de comparaison ?\n",
    "- 4/ Quelle est la différence entre l'opérateur `=` et l'opérateur `==` ?\n",
    "- 5/ Quels sont les inputs et les outputs d'un opérateur booléen ?\n",
    "- 6/ Expliquer en français le principe de l'opérateur booléen `and`. Mêmes questions pour `or` et `not`.\n",
    "- 7/ Quelle est la différence entre expression booléenne et condition ?\n",
    "- 8/ Quelle est la structure d'une instruction conditionnelle ?\n",
    "- 9/ Peut-on imbriquer les instructions conditionnelles ?\n",
    "- 10/ Parmi les instructions `if`, `else`, et `elif`, lesquelles sont obligatoires et lesquelles sont facultatives ?"
   ]
  },
  {
   "cell_type": "code",
   "execution_count": null,
   "id": "6abd0eb0",
   "metadata": {
    "tags": []
   },
   "outputs": [],
   "source": [
    "# Testez votre réponse dans cette cellule\n"
   ]
  },
  {
   "cell_type": "code",
   "execution_count": null,
   "id": "a31c7552",
   "metadata": {
    "tags": []
   },
   "outputs": [],
   "source": [
    "# Exécuter cette cellule pour afficher la solution\n",
    "%load -r 3-32 solutions.py"
   ]
  },
  {
   "cell_type": "markdown",
   "id": "83ea55c1",
   "metadata": {},
   "source": [
    "### Exercice : prédiction de résultats de tests"
   ]
  },
  {
   "cell_type": "markdown",
   "id": "86cf88ab",
   "metadata": {
    "tags": []
   },
   "source": [
    "Prédire le résultats des tests suivants, et vérifier vos prédictions : \n",
    "\n",
    "- `'Simon' in ['simon', 'oceane', 'veronique']`\n",
    "- `[1, 2, 3] == ['1', '2', '3']`\n",
    "- `'x' != 'x'`\n",
    "- `(9 > 5) and (3 == 5)`\n",
    "- `(3 > 2 and 5 >= 1) or (5 <= 9 and 6 > 12)`\n",
    "- `not (9 > 2*3)`\n",
    "- `not (9 > (2*3))`\n",
    "- `not ((7 > 8) or (5 <= 5))`\n",
    "-  `(True and True) or (True == False)`\n",
    "- `(not False) or (not True)`"
   ]
  },
  {
   "cell_type": "code",
   "execution_count": null,
   "id": "6c967311",
   "metadata": {
    "tags": []
   },
   "outputs": [],
   "source": [
    "# Testez votre réponse dans cette cellule\n"
   ]
  },
  {
   "cell_type": "code",
   "execution_count": null,
   "id": "8f410ab3",
   "metadata": {
    "tags": []
   },
   "outputs": [],
   "source": [
    "# Exécuter cette cellule pour afficher la solution\n",
    "%load -r 36-45 solutions.py"
   ]
  },
  {
   "cell_type": "markdown",
   "id": "dec49ed0",
   "metadata": {},
   "source": [
    "### Exercice : prédiction de test imbriqué"
   ]
  },
  {
   "cell_type": "markdown",
   "id": "1dcb3420",
   "metadata": {},
   "source": [
    "Considérons le programme écrit dans la cellule suivante."
   ]
  },
  {
   "cell_type": "code",
   "execution_count": null,
   "id": "ce1db96c",
   "metadata": {},
   "outputs": [],
   "source": [
    "x = 10\n",
    "\n",
    "if True:\n",
    "    print(\"Initialisation.\")\n",
    "    l = []\n",
    "    if x > 8:\n",
    "        l.append(\"a\")\n",
    "    elif x >= 2:\n",
    "        l.append(\"b\")\n",
    "    else:\n",
    "        l.append(\"c\")\n",
    "    if x - 6 < 0:\n",
    "        print(\"Négatif.\")\n",
    "        \n",
    "print(l)"
   ]
  },
  {
   "cell_type": "markdown",
   "id": "cd876463",
   "metadata": {},
   "source": [
    "Pour les valeurs suivantes :\n",
    "- x = 1\n",
    "- x = 5\n",
    "- x = 10\n",
    "\n",
    "prédire les résultats du programme :\n",
    "- que vaut `l` à la fin du programme ?\n",
    "- qu'est ce qui est imprimé dans la console au fil du programme ?\n",
    "\n",
    "Vérifiez vos résultats."
   ]
  },
  {
   "cell_type": "code",
   "execution_count": null,
   "id": "093133aa",
   "metadata": {
    "tags": []
   },
   "outputs": [],
   "source": [
    "# Testez votre réponse dans cette cellule\n"
   ]
  },
  {
   "cell_type": "code",
   "execution_count": null,
   "id": "ada2b66c",
   "metadata": {},
   "outputs": [],
   "source": [
    "# Exécuter cette cellule pour afficher la solution\n",
    "%load -r 49-59 solutions.py"
   ]
  },
  {
   "cell_type": "markdown",
   "id": "0bef03a9",
   "metadata": {},
   "source": [
    "### Exercice : trois et pas plus"
   ]
  },
  {
   "cell_type": "markdown",
   "id": "b5dd7253",
   "metadata": {},
   "source": [
    "Ecrire un programme qui réalise les opérations suivantes :\n",
    "- Définir une liste qui contient 4 prénoms\n",
    "- Ecrire un test qui affiche le message ('Trop de monde.') si la liste contient plus de trois personnes\n",
    "- Supprimer une personne de la liste (en utilisant la fonction `del` ou la méthode `pop` vues dans un tutoriel précédent)\n",
    "- Réaliser le test à nouveau, il ne devrait plus y avoir d'output."
   ]
  },
  {
   "cell_type": "code",
   "execution_count": null,
   "id": "01836c7c",
   "metadata": {},
   "outputs": [],
   "source": [
    "# Testez votre réponse dans cette cellule\n"
   ]
  },
  {
   "cell_type": "code",
   "execution_count": null,
   "id": "da5f10a3",
   "metadata": {},
   "outputs": [],
   "source": [
    "# Exécuter cette cellule pour afficher la solution\n",
    "%load -r 63-73 solutions.py"
   ]
  },
  {
   "cell_type": "markdown",
   "id": "8c3ad8a8",
   "metadata": {},
   "source": [
    "### Exercice : le juste prix"
   ]
  },
  {
   "cell_type": "markdown",
   "id": "ed8c67f4",
   "metadata": {},
   "source": [
    "La fonction `input` permet de demander à l'utilisateur d'entrer une valeur dans le cadre d'un programme Python. La syntaxe est la suivante : `x = input()`. Lorsque cette commande est exécutée, l'utilisateur doit rentrer une valeur, qui est alors assignée à la variable x.\n",
    "\n",
    "**En utilisant `input` et les instructions `if`, `elif` et `else`**, coder le programme suivant : \n",
    "- demander une valeur à l'utilisateur, qui sera stockée dans une variable `p`\n",
    "- si `p` est strictement inférieur à $15$, imprimer (avec la fonction `print`) le message \"trop bas !\".\n",
    "- si `p` est strictement supérieur à $15$, imprimer le message \"trop haut !\".\n",
    "- si `p` est égal à $15$, imprimer le message \"dans le mille !\"\n",
    "\n",
    "Attention, `input` renvoie par défaut une chaîne de caractère. Il faut donc convertir la valeur de `p` au format entier (via la fonction `int`) pour que le jeu fonctionne."
   ]
  },
  {
   "cell_type": "code",
   "execution_count": null,
   "id": "a702d078",
   "metadata": {},
   "outputs": [],
   "source": [
    "# Testez votre réponse dans cette cellule\n"
   ]
  },
  {
   "cell_type": "code",
   "execution_count": null,
   "id": "61aaf28e",
   "metadata": {},
   "outputs": [],
   "source": [
    "# Exécuter cette cellule pour afficher la solution\n",
    "%load -r 77-85 solutions.py"
   ]
  },
  {
   "cell_type": "markdown",
   "id": "b9976cd6",
   "metadata": {},
   "source": [
    "### Exercice : évaluation booléenne d'objets divers"
   ]
  },
  {
   "cell_type": "markdown",
   "id": "3e1aa973",
   "metadata": {},
   "source": [
    "En Python, tous les objets s'évaluent à `True` or `False` dans le cadre d'un test conditionnel (`if`/`else`). La règle générale est que les objets qui sont zéro ou vides (ex : une liste vide, un dictionnaire vide) s'évaluent à `False`, et inversement. Mais il n'y a pas besoin de connaître ces règles par coeur : elles se retrouvent facilement en pratique ! Par exemple, on peut utiliser le test conditionnel suivant : "
   ]
  },
  {
   "cell_type": "code",
   "execution_count": null,
   "id": "65750b3e",
   "metadata": {},
   "outputs": [],
   "source": [
    "if \"test\":\n",
    "    print(\"True.\")\n",
    "else:\n",
    "    print(\"False.\")"
   ]
  },
  {
   "cell_type": "markdown",
   "id": "67629e13",
   "metadata": {},
   "source": [
    "Prédire à quelle valeur booléenne vont s'évaluer les objets suivants, et vérifier à l'aide de la syntaxe précédente.\n",
    "- `0`\n",
    "- `1`\n",
    "- `12`\n",
    "- `-1`\n",
    "- '' (*string* vide)\n",
    "- ' ' (*string* contenant seulement un espace)\n",
    "- `[]` (liste vide)\n",
    "- `['']` (liste contenant seulement un *string* vide)\n",
    "- `{}`\n",
    "- `{-1}`"
   ]
  },
  {
   "cell_type": "code",
   "execution_count": null,
   "id": "adbff503",
   "metadata": {},
   "outputs": [],
   "source": [
    "# Testez votre réponse dans cette cellule\n"
   ]
  },
  {
   "cell_type": "code",
   "execution_count": null,
   "id": "010664b7",
   "metadata": {},
   "outputs": [],
   "source": [
    "# Exécuter cette cellule pour afficher la solution\n",
    "%load -r 89-98 solutions.py"
   ]
  },
  {
   "cell_type": "markdown",
   "id": "1e37762e",
   "metadata": {},
   "source": [
    "### Exercice : comparaisons en chaîne"
   ]
  },
  {
   "cell_type": "markdown",
   "id": "a2e08352",
   "metadata": {},
   "source": [
    "Nous avons vu qu'il était possible de réaliser des comparaisons en chaîne, qui renvoient `True` à condition que chacune des comparaisons inclues soit vraie. Trouvez une manière de réécrire la comparaison en chaîne suivante à l'aide d'opérateurs booléens.\n",
    "\n",
    "`5 < 7 <= 8 < 18`"
   ]
  },
  {
   "cell_type": "code",
   "execution_count": null,
   "id": "86c4198d",
   "metadata": {},
   "outputs": [],
   "source": [
    "# Testez votre réponse dans cette cellule\n"
   ]
  },
  {
   "cell_type": "code",
   "execution_count": null,
   "id": "918b17bf",
   "metadata": {},
   "outputs": [],
   "source": [
    "# Exécuter cette cellule pour afficher la solution\n",
    "%load -r 102-109 solutions.py"
   ]
  },
  {
   "cell_type": "markdown",
   "id": "4a9419f5",
   "metadata": {
    "tags": []
   },
   "source": [
    "### Exercice : Booléens et langage binaire"
   ]
  },
  {
   "cell_type": "markdown",
   "id": "74f70b3a",
   "metadata": {},
   "source": [
    "Les Booléens sont fortement liés au langage binaire, dans lequel le `1` correspond à \"vrai\" et le `0` à \"faux\". On va vérifier si ce lien existe dans le contexte de Python. Pour ce faire : \n",
    "- calculer la \"représentation en entier\" de la valeur booléenne de votre choix à l'aide de la fonction `int` ;\n",
    "- utiliser des booléens dans le cadre de calculs mathématiques pour vérifier leur comportement dans ce contexte."
   ]
  },
  {
   "cell_type": "code",
   "execution_count": null,
   "id": "f66e10a6",
   "metadata": {},
   "outputs": [],
   "source": [
    "# Testez votre réponse dans cette cellule\n"
   ]
  },
  {
   "cell_type": "code",
   "execution_count": null,
   "id": "cb26b628",
   "metadata": {},
   "outputs": [],
   "source": [
    "# Exécuter cette cellule pour afficher la solution\n",
    "%load -r 113-117 solutions.py"
   ]
  },
  {
   "cell_type": "markdown",
   "id": "517def5c",
   "metadata": {},
   "source": [
    "### Exercice : comparaisons de *strings*"
   ]
  },
  {
   "cell_type": "markdown",
   "id": "c2a2906d",
   "metadata": {},
   "source": [
    "Que renvoient les tests de comparaison de type inégalités appliqués à des chaînes de caractères ? Produire quelques exemples pour tester le comportement."
   ]
  },
  {
   "cell_type": "code",
   "execution_count": null,
   "id": "17f26be6",
   "metadata": {},
   "outputs": [],
   "source": [
    "# Testez votre réponse dans cette cellule\n"
   ]
  },
  {
   "cell_type": "code",
   "execution_count": null,
   "id": "b96ebc5e",
   "metadata": {},
   "outputs": [],
   "source": [
    "# Exécuter cette cellule pour afficher la solution\n",
    "%load -r 121-130 solutions.py"
   ]
  },
  {
   "cell_type": "markdown",
   "id": "f42f1fae",
   "metadata": {},
   "source": [
    "### Exercice : tests d'égalité sur les *floats*"
   ]
  },
  {
   "cell_type": "markdown",
   "id": "cd7c71b9",
   "metadata": {},
   "source": [
    "Les tests d'égalité entre nombres réels (type `float` en Python) peuvent être trompeurs. Pour vous en convaincre, effectuez le test suivant : \n",
    "`(6 - 5.8) == 0.2`\n",
    "\n",
    "Pour comprendre le résultat du test, effectuer le calcul du membre de gauche du test seul. Que remarquez-vous ?\n",
    "\n",
    "Imaginez (sans forcément l'implémenter) un autre test, basé sur des inégalités, qui permettrait de tester l'égalité approchée."
   ]
  },
  {
   "cell_type": "code",
   "execution_count": null,
   "id": "2ff8066a",
   "metadata": {},
   "outputs": [],
   "source": [
    "# Testez votre réponse dans cette cellule\n"
   ]
  },
  {
   "cell_type": "code",
   "execution_count": null,
   "id": "12623438",
   "metadata": {},
   "outputs": [],
   "source": [
    "# Exécuter cette cellule pour afficher la solution\n",
    "%load -r 134-146 solutions.py"
   ]
  },
  {
   "cell_type": "code",
   "execution_count": null,
   "id": "9b35cef5",
   "metadata": {},
   "outputs": [],
   "source": []
  }
 ],
 "metadata": {
  "jupytext": {
   "cell_metadata_filter": "tags,-all",
   "main_language": "python",
   "notebook_metadata_filter": "-all"
  }
 },
 "nbformat": 4,
 "nbformat_minor": 5
}
