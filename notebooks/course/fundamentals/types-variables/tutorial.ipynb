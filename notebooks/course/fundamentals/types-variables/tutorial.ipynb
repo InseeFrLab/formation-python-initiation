{
 "cells": [
  {
   "cell_type": "raw",
   "id": "dc0edecd",
   "metadata": {},
   "source": [
    "---\n",
    "title: \"Types de base et variables\"\n",
    "abstract: \"Découverte des types de base (nombres et chaînes de caractères) et des variables.\"\n",
    "---"
   ]
  },
  {
   "cell_type": "markdown",
   "id": "7cf249ab",
   "metadata": {},
   "source": [
    "Dans ce premier TP, nous allons découvrir les objets les plus fondamentaux de Python : les **nombres** et les **chaînes de caractère**. Nous allons également voir comment l'on peut assigner des objets à des **variables**, afin de réaliser des opérations avec ces objets.\n",
    "\n",
    "## Nombres\n",
    "\n",
    "### Types de nombres\n",
    "\n",
    "Python propose différents objets de type numérique. Dans ce tutoriel, on va s'intéresser aux deux types principalement utilisés :\n",
    "- les entiers (type `int` pour *integer*)\n",
    "- les réels (type `float` pour nombres à virgule flottante)\n",
    "\n",
    "De manière générale, on utilise la fonction `type` pour imprimer le type d'un objet Python.\n"
   ]
  },
  {
   "cell_type": "code",
   "execution_count": null,
   "id": "22323bfb",
   "metadata": {
    "lines_to_next_cell": 2
   },
   "outputs": [],
   "source": [
    "type(3)"
   ]
  },
  {
   "cell_type": "code",
   "execution_count": null,
   "id": "8eaf7ba4",
   "metadata": {},
   "outputs": [],
   "source": [
    "type(3.14)"
   ]
  },
  {
   "cell_type": "markdown",
   "id": "ac8f704a",
   "metadata": {},
   "source": [
    "Les fonctions `float` et `int` peuvent être utilisées pour passer d'un type à l'autre.\n"
   ]
  },
  {
   "cell_type": "code",
   "execution_count": null,
   "id": "0416daa8",
   "metadata": {
    "lines_to_next_cell": 2
   },
   "outputs": [],
   "source": [
    "# Conversion en float\n",
    "float(3)"
   ]
  },
  {
   "cell_type": "code",
   "execution_count": null,
   "id": "92fffd3f",
   "metadata": {
    "lines_to_next_cell": 2
   },
   "outputs": [],
   "source": [
    "# Conversion en float\n",
    "type(float(3))"
   ]
  },
  {
   "cell_type": "code",
   "execution_count": null,
   "id": "851f9962",
   "metadata": {},
   "outputs": [],
   "source": [
    "# Conversion en int\n",
    "int(3.79)"
   ]
  },
  {
   "cell_type": "markdown",
   "id": "d593c0fc",
   "metadata": {},
   "source": [
    "Attention à la conversion *float* -> *int*, qui tronque la partie décimale.\n",
    "\n",
    "Les *floats* peuvent par ailleurs être écrits en notation scientifique :\n"
   ]
  },
  {
   "cell_type": "code",
   "execution_count": null,
   "id": "db0e554c",
   "metadata": {
    "lines_to_next_cell": 2
   },
   "outputs": [],
   "source": [
    "2e3"
   ]
  },
  {
   "cell_type": "code",
   "execution_count": null,
   "id": "34afb69e",
   "metadata": {},
   "outputs": [],
   "source": [
    "type(2e3)"
   ]
  },
  {
   "cell_type": "markdown",
   "id": "56e5688c",
   "metadata": {},
   "source": [
    "### Opérations arithmétiques de base\n"
   ]
  },
  {
   "cell_type": "code",
   "execution_count": null,
   "id": "a53a575d",
   "metadata": {
    "lines_to_next_cell": 2
   },
   "outputs": [],
   "source": [
    "# Addition\n",
    "8 + 9"
   ]
  },
  {
   "cell_type": "code",
   "execution_count": null,
   "id": "e60a5ca1",
   "metadata": {
    "lines_to_next_cell": 2
   },
   "outputs": [],
   "source": [
    "# Soustraction\n",
    "5 - 2"
   ]
  },
  {
   "cell_type": "code",
   "execution_count": null,
   "id": "af0c5780",
   "metadata": {
    "lines_to_next_cell": 2
   },
   "outputs": [],
   "source": [
    "# Multiplication\n",
    "2 * 6"
   ]
  },
  {
   "cell_type": "code",
   "execution_count": null,
   "id": "381df865",
   "metadata": {
    "lines_to_next_cell": 2
   },
   "outputs": [],
   "source": [
    "# Division\n",
    "9 / 4"
   ]
  },
  {
   "cell_type": "code",
   "execution_count": null,
   "id": "1eea95be",
   "metadata": {},
   "outputs": [],
   "source": [
    "# Division par 0\n",
    "3 / 0"
   ]
  },
  {
   "cell_type": "markdown",
   "id": "fa6bd404",
   "metadata": {},
   "source": [
    "C'était bien sûr prévisible. Mais il n'est pas rare d'avoir de telles erreurs dans le cadre de calculs statistiques, notamment avec *NumPy* ou *Pandas*, produisant une erreur similaire qu'il faut alors débugger.\n"
   ]
  },
  {
   "cell_type": "code",
   "execution_count": null,
   "id": "70513afa",
   "metadata": {
    "lines_to_next_cell": 2
   },
   "outputs": [],
   "source": [
    "# Division euclidienne : quotient\n",
    "9 // 4"
   ]
  },
  {
   "cell_type": "code",
   "execution_count": null,
   "id": "93421361",
   "metadata": {
    "lines_to_next_cell": 2
   },
   "outputs": [],
   "source": [
    "# Division euclidienne : reste\n",
    "9 % 4"
   ]
  },
  {
   "cell_type": "code",
   "execution_count": null,
   "id": "dab83dab",
   "metadata": {
    "lines_to_next_cell": 2
   },
   "outputs": [],
   "source": [
    "# Puissance\n",
    "2 ** 5"
   ]
  },
  {
   "cell_type": "code",
   "execution_count": null,
   "id": "3c1989d5",
   "metadata": {
    "lines_to_next_cell": 2
   },
   "outputs": [],
   "source": [
    "# Racine carrée\n",
    "5 ** 0.5"
   ]
  },
  {
   "cell_type": "code",
   "execution_count": null,
   "id": "521cacc2",
   "metadata": {},
   "outputs": [],
   "source": [
    "# Ordre des opérations : convention usuelle\n",
    "2 + 5 * (10 - 4)"
   ]
  },
  {
   "cell_type": "markdown",
   "id": "72b5c55c",
   "metadata": {},
   "source": [
    "## Chaînes de charactères\n",
    "\n",
    "Les chaînes de caractères (ou *strings*) sont utilisées pour stocker de l'information textuelle. Plus précisément, elles peuvent stocker tout caractère de type [Unicode](https://fr.wikipedia.org/wiki/Unicode), ce qui inclut les lettres des différentes langues, mais également la ponctuation, les chiffres, les smileys, etc.\n",
    "\n",
    "Un *string* se définit en mettant l'information entre apostrophes ou entre guillemets (anglais). \n",
    "\n",
    "### Définition\n"
   ]
  },
  {
   "cell_type": "code",
   "execution_count": null,
   "id": "750c0806",
   "metadata": {
    "lines_to_next_cell": 2
   },
   "outputs": [],
   "source": [
    "# Première manière \n",
    "'mot'"
   ]
  },
  {
   "cell_type": "code",
   "execution_count": null,
   "id": "d9c37451",
   "metadata": {
    "lines_to_next_cell": 2
   },
   "outputs": [],
   "source": [
    "# Deuxième manière\n",
    "\"ça fonctionne aussi\""
   ]
  },
  {
   "cell_type": "code",
   "execution_count": null,
   "id": "6583a00a",
   "metadata": {},
   "outputs": [],
   "source": [
    "# Mais attention au mélange des deux !\n",
    "'l'apostrophe, quelle catastrophe'"
   ]
  },
  {
   "cell_type": "markdown",
   "id": "71601d54",
   "metadata": {},
   "source": [
    "Erreur de syntaxe : la seconde apostrophe est comprise comme la fin du *string*, et Python ne sait pas interpréter le reste de la séquence.\n",
    "\n",
    "Il faut donc varier en cas de besoin :\n"
   ]
  },
  {
   "cell_type": "code",
   "execution_count": null,
   "id": "b5edd535",
   "metadata": {},
   "outputs": [],
   "source": [
    "\"l'apostrophe, aucun problème\""
   ]
  },
  {
   "cell_type": "markdown",
   "id": "463b956e",
   "metadata": {},
   "source": [
    "Même chose en sens inverse :"
   ]
  },
  {
   "cell_type": "code",
   "execution_count": null,
   "id": "dee114a8",
   "metadata": {},
   "outputs": [],
   "source": [
    "'les guillemets, \"aucun problème\"'"
   ]
  },
  {
   "cell_type": "markdown",
   "id": "8f5d8751",
   "metadata": {},
   "source": [
    "### La fonction `print`\n",
    "\n",
    "Le travail avec les *strings* est l'occasion de découvrir la très pratique et très utilisée fonction `print`. Elle affiche simplement l'argument qu'on lui passe entre parenthèses **et** un retour à la ligne par défaut."
   ]
  },
  {
   "cell_type": "code",
   "execution_count": null,
   "id": "4129cc88",
   "metadata": {},
   "outputs": [],
   "source": [
    "# Affichage de la chaîne \"moi\"\n",
    "\"moi\""
   ]
  },
  {
   "cell_type": "code",
   "execution_count": null,
   "id": "6429a5d0",
   "metadata": {},
   "outputs": [],
   "source": [
    "# Affichage de la chaîne \"moi\" avec print\n",
    "print(\"moi\")"
   ]
  },
  {
   "cell_type": "markdown",
   "id": "d353e1e9",
   "metadata": {},
   "source": [
    "On a vu jusqu'à maintenant que l'on pouvait simplement exécuter une cellule pour afficher le contenu d'un *string*. Mais est-ce cela marche avec plusieurs *strings* ?\n"
   ]
  },
  {
   "cell_type": "code",
   "execution_count": null,
   "id": "33c9ee5c",
   "metadata": {},
   "outputs": [],
   "source": [
    "# Qui va être affiché ?\n",
    "\"moi\"\n",
    "\"non moi\""
   ]
  },
  {
   "cell_type": "markdown",
   "id": "c6506f88",
   "metadata": {},
   "source": [
    "On voit là un comportement caractéristique des notebooks Jupyter : seule la dernière valeur renvoyée dans une cellule est affichée. La fonction `print` permet de s'affranchir de cette limite.\n"
   ]
  },
  {
   "cell_type": "code",
   "execution_count": null,
   "id": "d39a5962",
   "metadata": {},
   "outputs": [],
   "source": [
    "# Et cette fois ?\n",
    "print(\"moi\")\n",
    "print(\"moi aussi\")"
   ]
  },
  {
   "cell_type": "markdown",
   "id": "b3b9fb7d",
   "metadata": {},
   "source": [
    "### Longueur d'une chaîne\n",
    "\n",
    "La fonction `len` permet de compter le nombre de caractères d'un *string*, tous caractères inclus (lettres, chiffres, espaces, ponctuation...).\n"
   ]
  },
  {
   "cell_type": "code",
   "execution_count": null,
   "id": "35a2c204",
   "metadata": {},
   "outputs": [],
   "source": [
    "len(\"J'ai 19 charactères\")"
   ]
  },
  {
   "cell_type": "markdown",
   "id": "38eab23a",
   "metadata": {},
   "source": [
    "Le type \"caractère\" n'existe pas en Python : un caractère seul est défini comme un *string* de taille 1.\n"
   ]
  },
  {
   "cell_type": "code",
   "execution_count": null,
   "id": "6a01c3c6",
   "metadata": {},
   "outputs": [],
   "source": [
    "print(type(\"a\"))\n",
    "print(len(\"a\"))"
   ]
  },
  {
   "cell_type": "markdown",
   "id": "a9a9831b",
   "metadata": {},
   "source": [
    "### Indexation\n",
    "\n",
    "En Python, un *string* est une **séquence**, c'est à dire une suite de caractères dans un ordre spécifique. Par conséquent, chaque caractère d'un *string* est indexé (Python connaît sa position), et l'on peut utiliser cet index pour extraire des caractères particuliers, des sous-chaînes de caractères, etc.\n",
    "\n",
    "En Python, on utilise les crochets `[]` pour appeler l'index d'une séquence. Plus précisément, l'index fonctionne sur le modèle suivant : `x[a:b:c]` renvoie un *sub-string* du *string* `x` où `a` est la position du caractère de départ, `b` la position du caractère d'arrivée plus 1, et `c` le pas de l'indexation. Tout cela sera plus clair avec les exemples suivants.\n",
    "\n",
    "Note importante : **l'indexation commence à 0 en Python**.\n"
   ]
  },
  {
   "cell_type": "code",
   "execution_count": null,
   "id": "4bd72cd4",
   "metadata": {
    "lines_to_next_cell": 2
   },
   "outputs": [],
   "source": [
    "\"une séquence que l'on va indexer\""
   ]
  },
  {
   "cell_type": "code",
   "execution_count": null,
   "id": "94b207c5",
   "metadata": {
    "lines_to_next_cell": 2
   },
   "outputs": [],
   "source": [
    "# Premier élémént\n",
    "\"une séquence que l'on va indexer\"[0]"
   ]
  },
  {
   "cell_type": "code",
   "execution_count": null,
   "id": "77bd443e",
   "metadata": {
    "lines_to_next_cell": 2
   },
   "outputs": [],
   "source": [
    "# Deuxième élémént\n",
    "\"une séquence que l'on va indexer\"[1]"
   ]
  },
  {
   "cell_type": "code",
   "execution_count": null,
   "id": "88a301d9",
   "metadata": {
    "lines_to_next_cell": 2
   },
   "outputs": [],
   "source": [
    "# Dernier élémént\n",
    "\"une séquence que l'on va indexer\"[-1]"
   ]
  },
  {
   "cell_type": "code",
   "execution_count": null,
   "id": "0c52028b",
   "metadata": {
    "lines_to_next_cell": 2
   },
   "outputs": [],
   "source": [
    "# Extraire tout à partir d'un certain caractère\n",
    "\"une séquence que l'on va indexer\"[4:]"
   ]
  },
  {
   "cell_type": "code",
   "execution_count": null,
   "id": "8a7228b6",
   "metadata": {
    "lines_to_next_cell": 2
   },
   "outputs": [],
   "source": [
    "# Extraire tout jusqu'à un certain caractère\n",
    "\"une séquence que l'on va indexer\"[:12]"
   ]
  },
  {
   "cell_type": "code",
   "execution_count": null,
   "id": "039cc5ae",
   "metadata": {
    "lines_to_next_cell": 2
   },
   "outputs": [],
   "source": [
    "# Extraire un sub-string\n",
    "\"une séquence que l'on va indexer\"[4:12]"
   ]
  },
  {
   "cell_type": "code",
   "execution_count": null,
   "id": "e8101f27",
   "metadata": {
    "lines_to_next_cell": 2
   },
   "outputs": [],
   "source": [
    "# Extraire tous les 2 caractères, à partir de la 4 ème position\n",
    "\"une séquence que l'on va indexer\"[4::2]"
   ]
  },
  {
   "cell_type": "code",
   "execution_count": null,
   "id": "7a7b0e7f",
   "metadata": {},
   "outputs": [],
   "source": [
    "# Inverser une séquence\n",
    "\"une séquence que l'on va indexer\"[::-1]"
   ]
  },
  {
   "cell_type": "markdown",
   "id": "d2ea18fa",
   "metadata": {},
   "source": [
    "A retenir : c'est bien parce qu'un *string* est considéré comme une séquence par Python que l'on peut l'indexer. Par exemple, indexer un nombre n'a pas de sens, et renvoie donc une erreur.\n"
   ]
  },
  {
   "cell_type": "code",
   "execution_count": null,
   "id": "83cf9c46",
   "metadata": {},
   "outputs": [],
   "source": [
    "2[3]"
   ]
  },
  {
   "cell_type": "markdown",
   "id": "379f3d15",
   "metadata": {},
   "source": [
    "### Quelques propriétés utiles\n"
   ]
  },
  {
   "cell_type": "code",
   "execution_count": null,
   "id": "9a927577",
   "metadata": {
    "lines_to_next_cell": 2
   },
   "outputs": [],
   "source": [
    "# Concaténation de strings\n",
    "\"mon adresse est : \" + \"10 rue des Peupliers\""
   ]
  },
  {
   "cell_type": "code",
   "execution_count": null,
   "id": "de904720",
   "metadata": {},
   "outputs": [],
   "source": [
    "# Répétition\n",
    "\"echo - \" * 5"
   ]
  },
  {
   "cell_type": "markdown",
   "id": "3f4a380c",
   "metadata": {},
   "source": [
    "### Quelques méthodes utiles\n",
    "\n",
    "Les différents objets Python ont généralement des **méthodes** dites *built-in* (standard), qui permettent d'effectuer des opérations de base à partir de l'objet. \n",
    "\n",
    "Nous verrons dans un prochain chapitre en quoi consistent précisément les méthodes en Python. Pour le moment, on peut retenir que les méthodes s'utilisent selon le format `objet.methode(parametres)` où les paramètres sont optionnels.\n"
   ]
  },
  {
   "cell_type": "code",
   "execution_count": null,
   "id": "3fd913be",
   "metadata": {
    "lines_to_next_cell": 2
   },
   "outputs": [],
   "source": [
    "# Mettre en majuscules\n",
    "\"sequence 850\".upper()"
   ]
  },
  {
   "cell_type": "code",
   "execution_count": null,
   "id": "964d0035",
   "metadata": {
    "lines_to_next_cell": 2
   },
   "outputs": [],
   "source": [
    "# Mettre en minuscules\n",
    "\"sequence 850\".lower()"
   ]
  },
  {
   "cell_type": "code",
   "execution_count": null,
   "id": "62ccc89e",
   "metadata": {
    "lines_to_next_cell": 2
   },
   "outputs": [],
   "source": [
    "# Séparer les mots selon les espaces\n",
    "\"une séquence    à séparer\".split()"
   ]
  },
  {
   "cell_type": "code",
   "execution_count": null,
   "id": "a28f169b",
   "metadata": {
    "lines_to_next_cell": 2
   },
   "outputs": [],
   "source": [
    "# Séparer les mots selon un caractère arbitraire\n",
    "\"pratique pour faire des sous-séquences\".split(\"-\")"
   ]
  },
  {
   "cell_type": "code",
   "execution_count": null,
   "id": "45058c52",
   "metadata": {},
   "outputs": [],
   "source": [
    "# Utiliser les strings comme templates\n",
    "\"mon adresse est : {}\".format(\"10 rue des Peupliers\")"
   ]
  },
  {
   "cell_type": "markdown",
   "id": "30cf55b1",
   "metadata": {},
   "source": [
    "Tout ceci n'est qu'un aperçu des innombrables opérations possibles sur les *strings*. La [documentation officielle](https://docs.python.org/3/library/stdtypes.html#string-methods) liste l'ensemble des méthodes *built-in* disponibles. Les exercices du chapitre et les mini-projets de fin de partie seront l'occasion de découvrir d'autres utilisations.\n",
    "\n",
    "## Variables\n",
    "\n",
    "Jusqu'ici, nous avons dû définir à chaque fois notre objet avant de pouvoir lui appliquer une transformation. Comment faire si l'on veut réutiliser un objet et lui appliquer plusieurs transformations ? Ou faire des opérations à partir de différents objets ?\n",
    "\n",
    "Pour cela, on va assigner les objets à des variables.\n",
    "\n",
    "### Assignation et opérations\n",
    "\n",
    "L'assignation se fait suivant le format : `nom_de_la_variable = objet`. Cela permet ensuite de réaliser des opérations à partir de ces variables.\n"
   ]
  },
  {
   "cell_type": "code",
   "execution_count": null,
   "id": "9f225d88",
   "metadata": {
    "lines_to_next_cell": 2
   },
   "outputs": [],
   "source": [
    "x = 5\n",
    "x"
   ]
  },
  {
   "cell_type": "code",
   "execution_count": null,
   "id": "2153f512",
   "metadata": {
    "lines_to_next_cell": 2
   },
   "outputs": [],
   "source": [
    "type(x)"
   ]
  },
  {
   "cell_type": "code",
   "execution_count": null,
   "id": "6d3e5cc5",
   "metadata": {
    "lines_to_next_cell": 2
   },
   "outputs": [],
   "source": [
    "x + 5"
   ]
  },
  {
   "cell_type": "code",
   "execution_count": null,
   "id": "3e55021c",
   "metadata": {},
   "outputs": [],
   "source": [
    "y = x + 2*x\n",
    "y"
   ]
  },
  {
   "cell_type": "markdown",
   "id": "61e0e51d",
   "metadata": {},
   "source": [
    "Contrairement à d'autres langages de programmation, Python est dit *dynamiquement* typé : il est possible de réassigner une variable à un objet de type différent. Cela facilite la lecture et le développement, mais peut parfois générer des problèmes difficiles à débugger... Il faut donc toujours bien faire attention que le type de la variable est bien celui que l'on s'imagine manipuler.\n"
   ]
  },
  {
   "cell_type": "code",
   "execution_count": null,
   "id": "ea2a7976",
   "metadata": {},
   "outputs": [],
   "source": [
    "x = 3\n",
    "x = \"blabla\"\n",
    "type(x)"
   ]
  },
  {
   "cell_type": "markdown",
   "id": "906a9a64",
   "metadata": {},
   "source": [
    "Il y a naturellement certaines contraintes sur les opérations selon les types des objets.\n"
   ]
  },
  {
   "cell_type": "code",
   "execution_count": null,
   "id": "57e78b23",
   "metadata": {},
   "outputs": [],
   "source": [
    "x = \"test\"\n",
    "y = 3\n",
    "x + y"
   ]
  },
  {
   "cell_type": "markdown",
   "id": "882a4134",
   "metadata": {},
   "source": [
    "Il est par contre possible d'harmoniser les types en amont :"
   ]
  },
  {
   "cell_type": "code",
   "execution_count": null,
   "id": "d33bfbb6",
   "metadata": {},
   "outputs": [],
   "source": [
    "x = \"test\"\n",
    "y = 3\n",
    "z = str(y)\n",
    "x + z"
   ]
  },
  {
   "cell_type": "markdown",
   "id": "46a793e9",
   "metadata": {},
   "source": [
    "### Incrémentation\n",
    "\n",
    "Il est fréquent d'utiliser une variable comme un compteur, en l'incrémentant à chaque fois qu'un évènement donné apparaît par exemple.\n"
   ]
  },
  {
   "cell_type": "code",
   "execution_count": null,
   "id": "457e41c8",
   "metadata": {},
   "outputs": [],
   "source": [
    "a = 0\n",
    "print(a)\n",
    "a = a +1\n",
    "print(a)"
   ]
  },
  {
   "cell_type": "markdown",
   "id": "fbc76b58",
   "metadata": {},
   "source": [
    "Cette pratique est tellement fréquente qu'il existe des opérateurs spéciaux pour les opérations arithmétiques courantes.\n"
   ]
  },
  {
   "cell_type": "code",
   "execution_count": null,
   "id": "5bcba2da",
   "metadata": {
    "lines_to_next_cell": 2
   },
   "outputs": [],
   "source": [
    "a = 0\n",
    "a += 1\n",
    "a"
   ]
  },
  {
   "cell_type": "code",
   "execution_count": null,
   "id": "34403acc",
   "metadata": {},
   "outputs": [],
   "source": [
    "b = 5\n",
    "b *= 3\n",
    "b"
   ]
  },
  {
   "cell_type": "markdown",
   "id": "b258255e",
   "metadata": {},
   "source": [
    "## Exercices\n",
    "\n",
    "### Exercice 1\n",
    "\n",
    "Afficher le type de x lorsque : \n",
    "- x = 3\n",
    "- x = \"test\"\n",
    "- x = 3.5\n"
   ]
  },
  {
   "cell_type": "code",
   "execution_count": null,
   "id": "c22792fd",
   "metadata": {
    "lines_to_next_cell": 2
   },
   "outputs": [],
   "source": [
    "# Tapez votre réponse dans cette cellule\n"
   ]
  },
  {
   "cell_type": "code",
   "execution_count": null,
   "id": "9f4fcd11",
   "metadata": {},
   "outputs": [],
   "source": [
    "# Exécuter cette cellule pour afficher la solution\n",
    "%load -r 2-9 solutions.py"
   ]
  },
  {
   "cell_type": "markdown",
   "id": "86c4aca7",
   "metadata": {},
   "source": [
    "### Exercice 2\n"
   ]
  },
  {
   "cell_type": "markdown",
   "id": "3c3c4b33",
   "metadata": {},
   "source": [
    "Calculer la somme des longueurs de chacune des chaînes de caractères suivantes : \n",
    "- \"une première chaîne\"\n",
    "- \"et une deuxième\"\n",
    "- \"jamais deux sans trois\"\n"
   ]
  },
  {
   "cell_type": "code",
   "execution_count": null,
   "id": "617edf6f",
   "metadata": {
    "lines_to_next_cell": 2
   },
   "outputs": [],
   "source": [
    "# Tapez votre réponse dans cette cellule\n"
   ]
  },
  {
   "cell_type": "code",
   "execution_count": null,
   "id": "c07e735b",
   "metadata": {},
   "outputs": [],
   "source": [
    "# Exécuter cette cellule pour afficher la solution\n",
    "%load -r 12-16 solutions.py"
   ]
  },
  {
   "cell_type": "markdown",
   "id": "1237c530",
   "metadata": {},
   "source": [
    "### Exercice 3\n",
    "\n",
    "Quel est le type adapté pour définir un code postal ?\n",
    "\n",
    "Essayer de définir les codes postaux suivants au format `int` et au format `string` :\n",
    "- 92120\n",
    "- 02350\n",
    "\n",
    "Que concluez-vous ?\n"
   ]
  },
  {
   "cell_type": "code",
   "execution_count": null,
   "id": "fd44f8e8",
   "metadata": {
    "lines_to_next_cell": 2
   },
   "outputs": [],
   "source": [
    "# Tapez votre réponse dans cette cellule\n"
   ]
  },
  {
   "cell_type": "code",
   "execution_count": null,
   "id": "4e6c2eab",
   "metadata": {},
   "outputs": [],
   "source": [
    "# Exécuter cette cellule pour afficher la solution\n",
    "%load -r 19-26 solutions.py"
   ]
  },
  {
   "cell_type": "markdown",
   "id": "bc43f40e",
   "metadata": {},
   "source": [
    "### Exercice 4\n",
    "\n",
    "Compter le nombre de fois où la lettre e est présente dans la chaîne suivante :\n",
    "\"Je fais un comptage des e.\"\n",
    "\n",
    "**Indice** : on peut utiliser la méthode *built-in* [count](https://docs.python.org/fr/3/library/stdtypes.html#str.count).\n"
   ]
  },
  {
   "cell_type": "code",
   "execution_count": null,
   "id": "8ed725b0",
   "metadata": {
    "lines_to_next_cell": 2
   },
   "outputs": [],
   "source": [
    "# Tapez votre réponse dans cette cellule\n"
   ]
  },
  {
   "cell_type": "code",
   "execution_count": null,
   "id": "60a8e423",
   "metadata": {},
   "outputs": [],
   "source": [
    "# Exécuter cette cellule pour afficher la solution\n",
    "%load -r 29-30 solutions.py"
   ]
  },
  {
   "cell_type": "markdown",
   "id": "faa8baaf",
   "metadata": {},
   "source": [
    "### Exercice 5\n",
    "\n",
    "Repérer la première position où la lettre e est présente dans la chaîne suivante : \"Je fais un comptage des e.\"\n",
    "\n",
    "**Indice** : on peut utiliser la méthode *built-in* [find](https://docs.python.org/fr/3/library/stdtypes.html#str.find).\n"
   ]
  },
  {
   "cell_type": "code",
   "execution_count": null,
   "id": "621893d8",
   "metadata": {
    "lines_to_next_cell": 2
   },
   "outputs": [],
   "source": [
    "# Tapez votre réponse dans cette cellule\n"
   ]
  },
  {
   "cell_type": "code",
   "execution_count": null,
   "id": "c48445eb",
   "metadata": {},
   "outputs": [],
   "source": [
    "# Exécuter cette cellule pour afficher la solution\n",
    "%load -r 33-34 solutions.py"
   ]
  },
  {
   "cell_type": "markdown",
   "id": "9504cf87",
   "metadata": {},
   "source": [
    "### Exercice 6\n",
    "\n",
    "Supprimer les espaces superflus au début et à la fin de la chaîne suivante :\n",
    "\n",
    "**Indice** : on peut utiliser la méthode *built-in* [strip](https://docs.python.org/fr/3/library/stdtypes.html#str.strip)."
   ]
  },
  {
   "cell_type": "code",
   "execution_count": null,
   "id": "a3a0e5e8",
   "metadata": {
    "lines_to_next_cell": 2
   },
   "outputs": [],
   "source": [
    "# Tapez votre réponse dans cette cellule\n",
    "a = \"    Un string très mal formatté.         \""
   ]
  },
  {
   "cell_type": "code",
   "execution_count": null,
   "id": "3c478284",
   "metadata": {},
   "outputs": [],
   "source": [
    "# Exécuter cette cellule pour afficher la solution\n",
    "%load -r 37-38 solutions.py"
   ]
  },
  {
   "cell_type": "markdown",
   "id": "3083fdcd",
   "metadata": {},
   "source": [
    "### Exercice 7\n",
    "\n",
    "Le caractère `\\` permet d'échapper (neutraliser) un caractère spécial au sein d'une chaîne de caractères. Trouvez comment ce caractère permet de résoudre le problème lié à l'utilisation de guillemets (ou d'apostrophes) dans une chaîne définie par des guillemets (apostrophe).\n",
    "\n",
    "**Indice** : des exemples d'utilisation sont disponibles dans la [documentation officielle](https://docs.python.org/fr/3.8/reference/lexical_analysis.html#literals).\n"
   ]
  },
  {
   "cell_type": "code",
   "execution_count": null,
   "id": "74baefe6",
   "metadata": {
    "lines_to_next_cell": 2
   },
   "outputs": [],
   "source": [
    "# Tapez votre réponse dans cette cellule\n"
   ]
  },
  {
   "cell_type": "code",
   "execution_count": null,
   "id": "1a490b64",
   "metadata": {},
   "outputs": [],
   "source": [
    "# Exécuter cette cellule pour afficher la solution\n",
    "%load -r 41 solutions.py"
   ]
  },
  {
   "cell_type": "markdown",
   "id": "02bf880b",
   "metadata": {},
   "source": [
    "### Exercice 8\n",
    "\n",
    "Réaliser la suite d'opérations suivantes à l'aide des opérateurs d'incrémentation, et imprimer la valeur finale :\n",
    "- initialiser une variable à 1\n",
    "- lui soustraire 5\n",
    "- la multiplier par 4\n",
    "- lui ajouter 22\n"
   ]
  },
  {
   "cell_type": "code",
   "execution_count": null,
   "id": "8d5a88f9",
   "metadata": {
    "lines_to_next_cell": 2
   },
   "outputs": [],
   "source": [
    "# Tapez votre réponse dans cette cellule\n"
   ]
  },
  {
   "cell_type": "code",
   "execution_count": null,
   "id": "31d4ccdf",
   "metadata": {},
   "outputs": [],
   "source": [
    "# Exécuter cette cellule pour afficher la solution\n",
    "%load -r 44-48 solutions.py"
   ]
  },
  {
   "cell_type": "markdown",
   "id": "99ffd478",
   "metadata": {},
   "source": [
    "### Exercice 9\n",
    "\n",
    "Considérons les deux séquences suivantes :\n",
    "- \"nous sommes en\"\n",
    "- \"2022\"\n",
    "\n",
    "Trouvez à partir du tutoriel deux manières différentes de les utiliser pour composer la séquence \"nous sommes en 2022\".\n",
    "\n",
    "**Indice** : l'une des deux méthodes implique de modifier (légèrement) une des deux séquences.\n"
   ]
  },
  {
   "cell_type": "code",
   "execution_count": null,
   "id": "02027e4d",
   "metadata": {
    "lines_to_next_cell": 2
   },
   "outputs": [],
   "source": [
    "# Exécuter cette cellule pour afficher la solution\n",
    "%load -r 51-56 solutions.py"
   ]
  },
  {
   "cell_type": "code",
   "execution_count": null,
   "id": "cc3a8d21",
   "metadata": {},
   "outputs": [],
   "source": []
  }
 ],
 "metadata": {
  "jupytext": {
   "cell_metadata_filter": "-all",
   "main_language": "python",
   "notebook_metadata_filter": "-all"
  }
 },
 "nbformat": 4,
 "nbformat_minor": 5
}
