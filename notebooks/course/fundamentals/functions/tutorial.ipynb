{
 "cells": [
  {
   "cell_type": "raw",
   "id": "1b95362f",
   "metadata": {},
   "source": [
    "---\n",
    "title: \"Fonctions\"\n",
    "abstract: \"Rendre son code mieux structuré et plus lisible avec les fonctions.\"\n",
    "---"
   ]
  },
  {
   "cell_type": "markdown",
   "id": "56bdef16",
   "metadata": {},
   "source": [
    "Dans les précédents tutoriels, nous avons étudié le fonctionnement des tests et des boucles, qui permettent de rédiger des programmes Python qui prennent des décisions automatisées. En pratique, un programme va généralement être constitué de différents blocs, qui exécutent chacun une action ou un groupe d'actions (ex : import des données, nettoyage des données, modélisation statistique, etc.). Par ailleurs, certaines de ces actions sont amenées à être répétées avec une légère différence au fil d'un programme (ex : importer plusieurs jeux de données différents). Il va être utile de modéliser chacune de ces actions par une **fonction**, sorte de mini-programme au sein du programme global. Utiliser des fonctions est une **bonne pratique** de programmation, dans la mesure où elles rendent plus explicite la structure logique du code et permettent de réduire la duplication de code."
   ]
  },
  {
   "cell_type": "markdown",
   "id": "92be72f0",
   "metadata": {},
   "source": [
    "## Définition"
   ]
  },
  {
   "cell_type": "markdown",
   "id": "f69708fb",
   "metadata": {},
   "source": [
    "Une **fonction** peut être définie comme un bloc de code structuré qui : \n",
    "- prend un ensemble d'**arguments** (des objets Python) en entrée\n",
    "- effectue une **action spécifique** via un ensemble d'instructions\n",
    "- **renvoie** un résultat (un objet Python) en sortie\n",
    "\n",
    "Nous avons déjà vu et utilisé un certains nombres de fonctions dans les tutoriels précédents (`range`, `len`, etc.). Nous avons également utilisé des **méthodes**, qui sont simplement des fonctions *attachées* à un type d'objet particulier. Utilisons une fonction bien connue pour illustrer leur fonctionnement général."
   ]
  },
  {
   "cell_type": "code",
   "execution_count": null,
   "id": "4fc3bf84",
   "metadata": {},
   "outputs": [],
   "source": [
    "len('do re mi fa sol')"
   ]
  },
  {
   "cell_type": "markdown",
   "id": "e0511451",
   "metadata": {},
   "source": [
    "Dans cet exemple, la fonction `len` :\n",
    "- prend un argument en entrée (une chaîne de caractères)\n",
    "- calcule le nombre de caractères présent dans cette chaîne\n",
    "- renvoie ce nombre en sortie\n",
    "\n",
    "L'\"ensemble d'instructions\" qui permettent de calculer la longueur de la chaîne n'est pas connu. En tant qu'utilisateur, on a seulement besoin de savoir ce que prend la fonction en entrée et ce qu'elle renvoie en sortie. Cela vaut pour les cas dans lesquels on utilise des fonctions natives de Python ou bien des fonctions issus de librairies Python auxquelles on fait confiance. On parle de \"boîtes noires\" pour caractériser de telles fonctions.\n",
    "\n",
    "En pratique, on va vouloir définir ses propres fonctions pour structurer son code et le réutiliser dans les analyses. "
   ]
  },
  {
   "cell_type": "markdown",
   "id": "d279cce6",
   "metadata": {},
   "source": [
    "## Syntaxe"
   ]
  },
  {
   "cell_type": "markdown",
   "id": "d25079b2",
   "metadata": {},
   "source": [
    "L'instruction `def` permet de définir une fonction."
   ]
  },
  {
   "cell_type": "code",
   "execution_count": null,
   "id": "297132d8",
   "metadata": {},
   "outputs": [],
   "source": [
    "def accueil(prenom):\n",
    "    msg = \"Salutations \" + prenom + \" !\"\n",
    "    return msg"
   ]
  },
  {
   "cell_type": "markdown",
   "id": "0b35157f",
   "metadata": {},
   "source": [
    "Analysons la syntaxe de la definition d'une fonction : \n",
    "- une instruction `def` qui :\n",
    "    - spécifie le nom de la fonction (ici, `accueil`)\n",
    "    - spécifie les arguments attendus entre parenthèse (ici, un seul argument : `prenom`)\n",
    "    - se termine par `:` comme les différentes instructions que nous avons vues\n",
    "- un ensemble d'opérations qui seront effectuées par la fonction, qui doivent être indentées d'un niveau par rapport à l'instruction `def`\n",
    "- une instruction `return`, qui spécifie ce que la fonction va renvoyer lorsqu'elle sera appelée (ici, le contenu de la variable `msg`)."
   ]
  },
  {
   "cell_type": "markdown",
   "id": "86b0b8bb",
   "metadata": {},
   "source": [
    "Le fait de **définir** une fonction comme ci-dessus revient à rendre disponible dans l'environnement Python le code de la fonction. Ce n'est que lorsque celle-ci est **appelée** dans le code, avec des arguments, que le code contenu est exécuté et produit un résultat."
   ]
  },
  {
   "cell_type": "code",
   "execution_count": null,
   "id": "1a7ba416",
   "metadata": {},
   "outputs": [],
   "source": [
    "accueil(\"Miranda\")"
   ]
  },
  {
   "cell_type": "markdown",
   "id": "b1f58901",
   "metadata": {},
   "source": [
    "Comme expliqué en introduction, tout l'intérêt d'une fonction est de pouvoir réutiliser du code sans avoir à le dupliquer dans le programme."
   ]
  },
  {
   "cell_type": "code",
   "execution_count": null,
   "id": "f1eaeaf1",
   "metadata": {},
   "outputs": [],
   "source": [
    "accueil(\"Romuald\")"
   ]
  },
  {
   "cell_type": "markdown",
   "id": "4de7961f",
   "metadata": {},
   "source": [
    "## Passage d'arguments"
   ]
  },
  {
   "cell_type": "markdown",
   "id": "9b3e2de1",
   "metadata": {},
   "source": [
    "### Principe"
   ]
  },
  {
   "cell_type": "markdown",
   "id": "15febf81",
   "metadata": {},
   "source": [
    "Lorsqu'on appelle une fonction en lui spécifiant des arguments, on dit qu'on lui \"passe\" des arguments. Ces arguments deviennent alors des variables qui peuvent être utilisées dans le contexte de la fonction. A l'inverse d'une boucle `for` par exemple, les variables créées ne persistent pas après l'appel de la fonction"
   ]
  },
  {
   "cell_type": "code",
   "execution_count": null,
   "id": "5ddcc27f",
   "metadata": {},
   "outputs": [],
   "source": [
    "def addition(x, y):\n",
    "    return x + y"
   ]
  },
  {
   "cell_type": "code",
   "execution_count": null,
   "id": "886d1deb",
   "metadata": {},
   "outputs": [],
   "source": [
    "addition(5, 3)"
   ]
  },
  {
   "cell_type": "code",
   "execution_count": null,
   "id": "8e1a4d0c",
   "metadata": {},
   "outputs": [],
   "source": [
    "x  # La variable ne persiste pas en mémoire après l'appel de la fonction"
   ]
  },
  {
   "cell_type": "markdown",
   "id": "4b2613b3",
   "metadata": {},
   "source": [
    "NB : on verra plus en détails ce comportement plus loin dans le tutoriel, à travers les concepts de variables globales et de variables locales."
   ]
  },
  {
   "cell_type": "markdown",
   "id": "a6972233",
   "metadata": {},
   "source": [
    "### Nombre d'arguments"
   ]
  },
  {
   "cell_type": "markdown",
   "id": "77b90838",
   "metadata": {},
   "source": [
    "Le nombre d'arguments que l'on peut passer à une fonction est variable. En toute rigueur, il est possible de définir une fonction qui n'a besoin d'aucun argument, même si c'est rarement utile en pratique."
   ]
  },
  {
   "cell_type": "code",
   "execution_count": null,
   "id": "ccd960cd",
   "metadata": {
    "tags": []
   },
   "outputs": [],
   "source": [
    "def neuf():\n",
    "    return 9"
   ]
  },
  {
   "cell_type": "code",
   "execution_count": null,
   "id": "490c0923",
   "metadata": {
    "tags": []
   },
   "outputs": [],
   "source": [
    "a = neuf()\n",
    "a"
   ]
  },
  {
   "cell_type": "markdown",
   "id": "0b9d38bb",
   "metadata": {},
   "source": [
    "### Passage par position et passage par mot-clé"
   ]
  },
  {
   "cell_type": "markdown",
   "id": "ead2f859",
   "metadata": {},
   "source": [
    "En Python, les fonctions admettent deux modes de passage des arguments : \n",
    "- le **passage par position**, qui correspond à celui que nous avons vu dans tous les exemples précédents : les arguments sont passés à la fonction dans l'ordre dans lequel ils ont été définis, sans avoir à préciser le nom du paramètre.\n",
    "- le **passage par mot-clé** : on précise le nom du paramètre lors du passage de l'argument, ce qui permet de ne pas avoir à suivre l'ordre indiqué lors de la définition.\n",
    "\n",
    "Illustrons cette différence à partir d'une fonction qui réalise simplement une division."
   ]
  },
  {
   "cell_type": "code",
   "execution_count": null,
   "id": "4982b679",
   "metadata": {},
   "outputs": [],
   "source": [
    "def division(x, y):\n",
    "    return x / y"
   ]
  },
  {
   "cell_type": "code",
   "execution_count": null,
   "id": "fe4b4d4d",
   "metadata": {},
   "outputs": [],
   "source": [
    "division(4, 2)  # Passage par position"
   ]
  },
  {
   "cell_type": "code",
   "execution_count": null,
   "id": "f5ff26e8",
   "metadata": {},
   "outputs": [],
   "source": [
    "division(x=4, y=2)  # Passage par mot-clé"
   ]
  },
  {
   "cell_type": "markdown",
   "id": "2c3aefa8",
   "metadata": {},
   "source": [
    "Dans le cas du passage par position, le respect de l'ordre est impératif."
   ]
  },
  {
   "cell_type": "code",
   "execution_count": null,
   "id": "3ae41708",
   "metadata": {},
   "outputs": [],
   "source": [
    "print(division(0, 5))\n",
    "print(division(5, 0))"
   ]
  },
  {
   "cell_type": "markdown",
   "id": "ab277485",
   "metadata": {},
   "source": [
    "Dans le cas du passage par mot-clé, l'ordre n'a plus d'importance."
   ]
  },
  {
   "cell_type": "code",
   "execution_count": null,
   "id": "6a206f10",
   "metadata": {},
   "outputs": [],
   "source": [
    "print(division(x=0, y=5))\n",
    "print(division(y=5, x=0))"
   ]
  },
  {
   "cell_type": "markdown",
   "id": "fb598ec6",
   "metadata": {},
   "source": [
    "### Arguments obligatoires et arguments optionnels"
   ]
  },
  {
   "cell_type": "markdown",
   "id": "213a57c6",
   "metadata": {},
   "source": [
    "Lorsqu'on définit une fonction, il est fréquent de vouloir faire cohabiter des arguments que doit absolument spécifier l'utilisateur, et des arguments optionnels qui spécifient un comportement par défaut de la fonction, mais peuvent également être modifiés si nécessaire. \n",
    "\n",
    "Regardons par exemple comment on peut modifier le comportement de la fonction `print` à l'aide d'un argument optionnel."
   ]
  },
  {
   "cell_type": "code",
   "execution_count": null,
   "id": "442a91d9",
   "metadata": {},
   "outputs": [],
   "source": [
    "print(\"bonjour\")\n",
    "print(\"bonjour\")"
   ]
  },
  {
   "cell_type": "code",
   "execution_count": null,
   "id": "5cbaec0b",
   "metadata": {},
   "outputs": [],
   "source": [
    "print(\"bonjour\", end=' ')\n",
    "print(\"bonjour\")"
   ]
  },
  {
   "cell_type": "markdown",
   "id": "6328ca0c",
   "metadata": {},
   "source": [
    "On a modifié le comportement du premier appel à `print` via le paramètre optionnel `end`. Par défaut, cette valeur est fixée à `'\\n'`, soit un retour à la ligne. On l'a modifié dans la deuxième cellule à un espace, d'où la différence de résultat.\n",
    "\n",
    "Cet exemple illustre également le lien entre le caractère obligatoire ou non d'un argument et sa modalité de passage :\n",
    "- en général, les **arguments obligatoires** sont **passés par position**. Ils peuvent également être passés par mot-clé, mais dans la mesure où ils sont \"attendus\", on les passe généralement par position pour être plus concis\n",
    "- les **arguments optionnels** doivent être **passés par mot-clé**, afin de bien marquer qu'on modifie le comportement par défaut de la fonction"
   ]
  },
  {
   "cell_type": "markdown",
   "id": "c1f346be",
   "metadata": {},
   "source": [
    "Comment spécifier qu'un argument est optionnel lorsqu'on définit une fonction soi-même ? Simplement en spécifiant une valeur par défaut de l'argument. Par exemple, construisons une fonction qui concatène deux chaînes de caractères, et laisse à l'utilisateur l'option de spécifier un séparateur."
   ]
  },
  {
   "cell_type": "code",
   "execution_count": null,
   "id": "61121316",
   "metadata": {},
   "outputs": [],
   "source": [
    "def concat_string(str1, str2, sep=''):\n",
    "    return str1 + sep + str2"
   ]
  },
  {
   "cell_type": "code",
   "execution_count": null,
   "id": "13a81a3a",
   "metadata": {},
   "outputs": [],
   "source": [
    "concat_string('bonjour', 'bonjour')  # Comportement par défaut"
   ]
  },
  {
   "cell_type": "code",
   "execution_count": null,
   "id": "b8833f70",
   "metadata": {},
   "outputs": [],
   "source": [
    "concat_string('bonjour', 'bonjour', sep=', ')  # Comportement modifié"
   ]
  },
  {
   "cell_type": "markdown",
   "id": "08f3e807",
   "metadata": {},
   "source": [
    "Cet exemple illustre également la règle lorsqu'on a un mélange d'arguments positionnels et par mot-clé : **les arguments positionnels doivent toujours être placés avant les arguments par mot-clé**."
   ]
  },
  {
   "cell_type": "markdown",
   "id": "a432a18e",
   "metadata": {},
   "source": [
    "## Renvoi de résultats"
   ]
  },
  {
   "cell_type": "markdown",
   "id": "6cfbb735",
   "metadata": {},
   "source": [
    "### Principe"
   ]
  },
  {
   "cell_type": "markdown",
   "id": "a165ee86",
   "metadata": {},
   "source": [
    "On a vu :\n",
    "- que toute fonction renvoie un résultat en sortie\n",
    "- que l'instruction `return` permet de spécifier ce résultat\n",
    "\n",
    "Lorsque la fonction est appelée, elle est évaluée à la valeur spécifiée par `return`, et cette valeur peut alors être récupérée dans une variable et utilisée dans des calculs ultérieurs, et ainsi de suite."
   ]
  },
  {
   "cell_type": "code",
   "execution_count": null,
   "id": "8f559e2c",
   "metadata": {},
   "outputs": [],
   "source": [
    "def division(x, y):\n",
    "    return x / y"
   ]
  },
  {
   "cell_type": "code",
   "execution_count": null,
   "id": "84836062",
   "metadata": {},
   "outputs": [],
   "source": [
    "a = division(4, 2)\n",
    "b = division(9, 3)\n",
    "division(a, b)  # 2 / 3"
   ]
  },
  {
   "cell_type": "markdown",
   "id": "e8bff8b5",
   "metadata": {},
   "source": [
    "Remarque importante : **lorsqu'une instruction return est atteinte dans une fonction, le reste de la fonction n'est pas exécuté**."
   ]
  },
  {
   "cell_type": "code",
   "execution_count": null,
   "id": "acb09ce4",
   "metadata": {},
   "outputs": [],
   "source": [
    "def test(x):\n",
    "    return x\n",
    "    print(\"vais-je être affiché ?\")\n",
    "    \n",
    "test(3)"
   ]
  },
  {
   "cell_type": "markdown",
   "id": "fc5a01b9",
   "metadata": {},
   "source": [
    "### La valeur `None`"
   ]
  },
  {
   "cell_type": "markdown",
   "id": "63682244",
   "metadata": {},
   "source": [
    "Une fonction renvoie nécessairement un résultat lorsqu'elle est appelée... mais que se passe-t-il si l'on ne spécifie pas d'instruction `return` ?"
   ]
  },
  {
   "cell_type": "code",
   "execution_count": null,
   "id": "49cd9dbb",
   "metadata": {},
   "outputs": [],
   "source": [
    "def accueil(prenom):\n",
    "    print(\"Salutations \" + prenom + \" !\")\n",
    "    \n",
    "x = accueil(\"Léontine\")\n",
    "print(x)\n",
    "print(type(x))"
   ]
  },
  {
   "cell_type": "markdown",
   "id": "f3d3c1e1",
   "metadata": {},
   "source": [
    "Comme attendu, la fonction a imprimé un message de bienvenue dans la console. Mais on n'a pas spécifié de valeur à retourner. Comme un objet doit malgré tout être retourné par définition, Python renvoie la valeur `None`, qui est un objet particulier, de type `NoneType`, et qui représente l'absence de valeur. Son seul intérêt est de bien marquer la différence entre une valeur réelle et l'absence de valeur.\n",
    "\n",
    "Pour tester si un objet a pour valeur `None`, on utilise une syntaxe particulière : "
   ]
  },
  {
   "cell_type": "code",
   "execution_count": null,
   "id": "12428731",
   "metadata": {},
   "outputs": [],
   "source": [
    "x is None  # et non pas x == None"
   ]
  },
  {
   "cell_type": "markdown",
   "id": "1a8c4988",
   "metadata": {},
   "source": [
    "### Renvoyer plusieurs résultats"
   ]
  },
  {
   "cell_type": "markdown",
   "id": "61639661",
   "metadata": {},
   "source": [
    "Une fonction renvoie par définition **un** résultat, qui peut être tout objet Python. Comment faire si l'on souhaite renvoyer plusieurs résultats ? On peut simplement enregistrer les différents résultats dans un conteneur (liste, tuple, dictionnaire, etc.), qui peut lui contenir un grand nombre d'objets.\n",
    "\n",
    "En pratique, il est très fréquent de renvoyer un *tuple* lorsque l'on souhaite renvoyer plusieurs objets. En effet, les *tuples* ont la propriété de *tuple unpacking*, que nous avons vues à plusieurs reprises dans les précédents tutoriels. Cette propriété rend possible une syntaxe très pratique et élégante pour l'assignation des résultats d'une fonction à des variables."
   ]
  },
  {
   "cell_type": "code",
   "execution_count": null,
   "id": "7be4c36a",
   "metadata": {},
   "outputs": [],
   "source": [
    "def puissances(x):\n",
    "    return x**2, x**3, x**4\n",
    "\n",
    "a, b, c = puissances(2)\n",
    "\n",
    "print(a)\n",
    "print(b)\n",
    "print(c)"
   ]
  },
  {
   "cell_type": "markdown",
   "id": "412212f3",
   "metadata": {},
   "source": [
    "## Variables locales et variables globales"
   ]
  },
  {
   "cell_type": "markdown",
   "id": "0e9169b1",
   "metadata": {},
   "source": [
    "Nous avons vu en introduction que les fonctions pouvaient être vues comme des mini-programmes dans un programme global. Cette interprétation nous donne l'occasion d'aborder rapidement la notion de *scope* (contexte) en Python. Un *scope* est une sorte de conteneur à objets Python, auxquels il est possible d'accéder seulement dans le cadre de ce *scope*. \n",
    "\n",
    "Tous les objets (variables, fonctions, etc.) que l'on définit lors d'une session Python sont enregistrés dans le ***scope* global** de Python. Ces objets peuvent alors être accédés à n'importe quel endroit du programme, y compris au sein d'une fonction. Lorsque c'est le cas, on parle de **variables globales**."
   ]
  },
  {
   "cell_type": "code",
   "execution_count": null,
   "id": "fcd8058d",
   "metadata": {},
   "outputs": [],
   "source": [
    "x = 5  # variable globale\n",
    "\n",
    "def ajoute(y):\n",
    "    return x + y\n",
    "\n",
    "ajoute(6)"
   ]
  },
  {
   "cell_type": "markdown",
   "id": "94ee74b0",
   "metadata": {},
   "source": [
    "La variable `x` n'a pas été passée en argument à la fonction `ajoute` ni été définie dans le cadre de cette fonction. Pourtant, on peut l'appeler au sein de la fonction. Cela permet de partager des éléments entre plusieurs fonctions. "
   ]
  },
  {
   "cell_type": "markdown",
   "id": "60ca958f",
   "metadata": {},
   "source": [
    "En revanche, les arguments passés à une fonction ou bien les variables définies dans le cadre d'une fonction sont des **variables locales** : elles n'existent que dans le contexte spécifique de la fonction, et ne peuvent pas être réutilisées une fois que celle-ci s'est exécutée."
   ]
  },
  {
   "cell_type": "code",
   "execution_count": null,
   "id": "7f701149",
   "metadata": {},
   "outputs": [],
   "source": [
    "def ajoute(y):\n",
    "    z = 5  # variable locale\n",
    "    return z + y\n",
    "\n",
    "ajoute(6)\n",
    "print(z)"
   ]
  },
  {
   "cell_type": "markdown",
   "id": "25c8e9aa",
   "metadata": {},
   "source": [
    "Au sein d'un contexte donné, chaque variable est unique. En revanche, il est possible d'avoir des variables qui portent le même nom dans des contextes différents. Regardons par exemple ce qui se passe lorsque l'on crée une variable dans le contexte d'une fonction, alors qu'elle existe déjà dans le contexte global."
   ]
  },
  {
   "cell_type": "code",
   "execution_count": null,
   "id": "477fe111",
   "metadata": {},
   "outputs": [],
   "source": [
    "x = 5  # variable globale\n",
    "\n",
    "def ajoute(y):\n",
    "    x = 10\n",
    "    return x + y\n",
    "\n",
    "ajoute(6)"
   ]
  },
  {
   "cell_type": "markdown",
   "id": "08365659",
   "metadata": {},
   "source": [
    "C'est un bon exemple d'un principe plus général : **c'est toujours le contexte le plus local qui prime**. Lorsque Python effectue l'opération `x + y`, il va chercher les valeurs de `x` et de `y` d'abord dans le contexte local, puis, seulement s'il ne les trouve pas, dans le contexte supérieur -- en l'occurence, le contexte global."
   ]
  },
  {
   "cell_type": "markdown",
   "id": "0364b64b",
   "metadata": {},
   "source": [
    "NB : on verra dans un prochain tutoriel sur les bonnes pratiques qu'**il est préférable de limiter au strict minimum l'utilisation de variables globales**, car elles réduisent la reproductibilité des analyses."
   ]
  },
  {
   "cell_type": "markdown",
   "id": "d7d9f656",
   "metadata": {},
   "source": [
    "## Exercices"
   ]
  },
  {
   "cell_type": "markdown",
   "id": "78c56358",
   "metadata": {},
   "source": [
    "### Questions de compréhension"
   ]
  },
  {
   "cell_type": "markdown",
   "id": "b4d84bcc",
   "metadata": {},
   "source": [
    "- 1/ Pourquoi dit-on que l'utilisation de fonctions dans un programme est une bonne pratique de développement ?\n",
    "- 2/ Quelles sont les trois caractéristiques d'une fonction ?\n",
    "- 3/ Qu'est-ce qu'une fonction \"boîte noire\" ? A quelles autres fonctions s'oppose-t-elle ?\n",
    "- 4/ Que se passe-t-il quand on définit une fonction ? Et quand on l'appelle ?\n",
    "- 5/ Combien d'arguments peut-on passer à une fonction ?\n",
    "- 6/ Quelles sont les deux modalités de passage d'arguments à une fonction ?\n",
    "- 7/ Quelle est l'utilité de passer des arguments optionnels à une fonction ?\n",
    "- 8/ Dans quel ordre doivent être passés les arguments d'une fonction si celle-ci a à la fois des arguments obligatoires et optionnels ?\n",
    "- 9/ Existe-il des fonctions qui ne renvoient rien ?\n",
    "- 10/ Une fonction peut-elle renvoyer plusieurs objets ?\n",
    "- 11/ Que deviennent les variables du *scope* local d'une fonction une fois que la fonction a été appelée ?"
   ]
  },
  {
   "cell_type": "code",
   "execution_count": null,
   "id": "e855eb01",
   "metadata": {
    "tags": []
   },
   "outputs": [],
   "source": [
    "# Testez votre réponse dans cette cellule\n"
   ]
  },
  {
   "cell_type": "code",
   "execution_count": null,
   "id": "c04a70f9",
   "metadata": {
    "tags": []
   },
   "outputs": [],
   "source": [
    "# Exécuter cette cellule pour afficher la solution\n",
    "%load -r 3-38 solutions.py"
   ]
  },
  {
   "cell_type": "markdown",
   "id": "c6f308fb",
   "metadata": {},
   "source": [
    "### Fonction puissance"
   ]
  },
  {
   "cell_type": "markdown",
   "id": "7376e3fc",
   "metadata": {},
   "source": [
    "Créer une fonction `puissance` qui prend en entrée deux nombres `x` et `y` et renvoie la fonction puissance $x^y$."
   ]
  },
  {
   "cell_type": "code",
   "execution_count": null,
   "id": "042b5d7a",
   "metadata": {
    "tags": []
   },
   "outputs": [],
   "source": [
    "# Testez votre réponse dans cette cellule\n"
   ]
  },
  {
   "cell_type": "code",
   "execution_count": null,
   "id": "a4d61cdb",
   "metadata": {
    "tags": []
   },
   "outputs": [],
   "source": [
    "# Exécuter cette cellule pour afficher la solution\n",
    "%load -r 42-45 solutions.py"
   ]
  },
  {
   "cell_type": "markdown",
   "id": "5c925cb2",
   "metadata": {},
   "source": [
    "### Prédiction de valeurs retournées par des fonctions"
   ]
  },
  {
   "cell_type": "markdown",
   "id": "80d9a3d9",
   "metadata": {},
   "source": [
    "Soit `x = 5` et `y = 3` des arguments que l'on passe à chacune des fonctions définies dans la cellule suivante. Prédire ce que vont retourner les fonctions (valeur et `type` de l'objet), et vérifier vos réponses."
   ]
  },
  {
   "cell_type": "code",
   "execution_count": null,
   "id": "8ebee91b",
   "metadata": {},
   "outputs": [],
   "source": [
    "def f1(x):\n",
    "    return x\n",
    "\n",
    "def f2(x):\n",
    "    return ''\n",
    "\n",
    "def f3(x):\n",
    "    print(\"Hello World\")\n",
    "    \n",
    "def f4(x, y):\n",
    "    print(x + y)\n",
    "    \n",
    "def f5(x, y):\n",
    "    x + y\n",
    "    \n",
    "def f6(x, y):\n",
    "    if x >= 3 and y < 9:\n",
    "        return 'test ok'\n",
    "    else:\n",
    "        return 'test not ok'\n",
    "    \n",
    "def f7(x, y):\n",
    "    return f6(2, 8)\n",
    "\n",
    "def f8(x, y, z):\n",
    "    return x + y + z\n",
    "\n",
    "def f9(x, y, z=5):\n",
    "    return x + y + z"
   ]
  },
  {
   "cell_type": "code",
   "execution_count": null,
   "id": "cd366f69",
   "metadata": {
    "tags": []
   },
   "outputs": [],
   "source": [
    "# Testez votre réponse dans cette cellule\n"
   ]
  },
  {
   "cell_type": "code",
   "execution_count": null,
   "id": "5e644ab4",
   "metadata": {
    "tags": []
   },
   "outputs": [],
   "source": [
    "# Exécuter cette cellule pour afficher la solution\n",
    "%load -r 49-65 solutions.py"
   ]
  },
  {
   "cell_type": "markdown",
   "id": "f99daec0",
   "metadata": {},
   "source": [
    "### Variables globales et variables locales"
   ]
  },
  {
   "cell_type": "markdown",
   "id": "c7788140",
   "metadata": {},
   "source": [
    "Que vaut la variable `total` dans le programme suivant ?"
   ]
  },
  {
   "cell_type": "code",
   "execution_count": null,
   "id": "51f883b7",
   "metadata": {
    "tags": []
   },
   "outputs": [],
   "source": [
    "z = 3\n",
    "\n",
    "def f1(x, y):\n",
    "    z = 5\n",
    "    return x + y + z\n",
    "\n",
    "def f2(x, y, z=1):\n",
    "    return x + y + z\n",
    "\n",
    "def f3(x, y):\n",
    "    return x + y + z\n",
    "\n",
    "total = f1(2, 3) + f2(3, 1) + f3(1, 0)\n",
    "print(total)"
   ]
  },
  {
   "cell_type": "code",
   "execution_count": null,
   "id": "4feee346",
   "metadata": {
    "tags": []
   },
   "outputs": [],
   "source": [
    "# Testez votre réponse dans cette cellule\n"
   ]
  },
  {
   "cell_type": "code",
   "execution_count": null,
   "id": "f7e1b974",
   "metadata": {
    "tags": []
   },
   "outputs": [],
   "source": [
    "# Exécuter cette cellule pour afficher la solution\n",
    "%load -r 69-93 solutions.py"
   ]
  },
  {
   "cell_type": "markdown",
   "id": "7e847616",
   "metadata": {},
   "source": [
    "### Calculatrice"
   ]
  },
  {
   "cell_type": "markdown",
   "id": "47c25186",
   "metadata": {
    "tags": []
   },
   "source": [
    "Ecrire une fonction `calculatrice` qui :\n",
    "- prend deux nombres en entrée\n",
    "- renvoie l'addition, la soustraction, la multiplication et la division de ces deux nombres en sortie\n",
    "\n",
    "Utiliser la propriété de *tuple unpacking* pour assigner les résultats à des variables en une seule ligne."
   ]
  },
  {
   "cell_type": "code",
   "execution_count": null,
   "id": "3eee891c",
   "metadata": {
    "tags": []
   },
   "outputs": [],
   "source": [
    "# Testez votre réponse dans cette cellule\n"
   ]
  },
  {
   "cell_type": "code",
   "execution_count": null,
   "id": "d0656487",
   "metadata": {
    "tags": []
   },
   "outputs": [],
   "source": [
    "# Exécuter cette cellule pour afficher la solution\n",
    "%load -r 97-101 solutions.py"
   ]
  },
  {
   "cell_type": "markdown",
   "id": "5fa36690",
   "metadata": {},
   "source": [
    "### Dédupliquer une liste"
   ]
  },
  {
   "cell_type": "markdown",
   "id": "50ec0d5a",
   "metadata": {
    "tags": []
   },
   "source": [
    "Ecrire une fonction qui :\n",
    "- prend en entrée une liste d'éléments quelconques\n",
    "- renvoie une nouvelle liste constituée des éléments uniques de la liste initiale\n",
    "- permet via un paramètre optionnel de trier ou non la liste finale par ordre alphanumérique. Le comportement par défaut doit être de ne pas trier.\n",
    "\n",
    "Indice : la procédure a été abordée dans le tutoriel sur les dictionnaires et les sets."
   ]
  },
  {
   "cell_type": "code",
   "execution_count": null,
   "id": "886dbd6b",
   "metadata": {
    "tags": []
   },
   "outputs": [],
   "source": [
    "# Testez votre réponse dans cette cellule\n"
   ]
  },
  {
   "cell_type": "code",
   "execution_count": null,
   "id": "7eba6b7f",
   "metadata": {
    "tags": []
   },
   "outputs": [],
   "source": [
    "# Exécuter cette cellule pour afficher la solution\n",
    "%load -r 105-113 solutions.py"
   ]
  },
  {
   "cell_type": "markdown",
   "id": "79a11e5d",
   "metadata": {},
   "source": [
    "### Multiplier les éléments d'une liste"
   ]
  },
  {
   "cell_type": "markdown",
   "id": "767b2680",
   "metadata": {
    "tags": []
   },
   "source": [
    "Ecrire une fonction qui :\n",
    "- prend en entrée une liste de nombres\n",
    "- imprime : \"Il y a $n$ nombres dans la liste.\" avec $n$ le nombre effectif\n",
    "- multiplie tous les éléments de la liste (sans utiliser de fonction pré-codée)\n",
    "- retourne le résultat"
   ]
  },
  {
   "cell_type": "code",
   "execution_count": null,
   "id": "e43e0fbd",
   "metadata": {
    "tags": []
   },
   "outputs": [],
   "source": [
    "# Testez votre réponse dans cette cellule\n"
   ]
  },
  {
   "cell_type": "code",
   "execution_count": null,
   "id": "4e9704da",
   "metadata": {
    "tags": []
   },
   "outputs": [],
   "source": [
    "# Exécuter cette cellule pour afficher la solution\n",
    "%load -r 117-125 solutions.py"
   ]
  },
  {
   "cell_type": "markdown",
   "id": "0b031acf",
   "metadata": {},
   "source": [
    "### Variance dans une population et variance dans un échantillon"
   ]
  },
  {
   "cell_type": "markdown",
   "id": "f131039a",
   "metadata": {
    "tags": []
   },
   "source": [
    "Dans un exercice du précédent tutoriel, nous avons codé \"à la main\" le calcul de la variance d'une liste de nombres, à partir de la formule : $$\\sigma^2 = {\\frac {1}{n}}\\sum_{i=1}^{n} (x_{i}-\\bar{x})^2$$\n",
    "\n",
    "En toute rigueur, cette formule est valide lorsqu'on calcule la **variance en population complète**. Si l'on n'observe qu'un échantillon de la population, on ne calcule pas la variance mais on l'estime, et il faut alors utiliser la formule suivante pour obtenir un **estimateur sans biais de la vraie variance** : $$s^2 = {\\frac {1}{n-1}}\\sum_{i=1}^{n} (x_{i}-\\bar{x})^2$$.\n",
    "\n",
    "Pour tenir compte de cette distinction :\n",
    "- coder une fonction `mean`  qui calcule la moyenne comme dans l'exercice du tutoriel précédent\n",
    "- coder une fonction `var`  qui calcule la variance comme dans l'exercice du tutoriel précédent (en appelant la fonction `mean` pour calculer la moyenne)\n",
    "- modifier la fonction `var` afin de permettre à l'utilisateur de choisir la méthode de calcul via un paramètre optionnel `mode` (valeur par défaut : 'population' pour le calcul via la formule en population ; valeur alternative : 'sample' pour le calcul via la formule en échantillon)\n",
    "\n",
    "Comparer les valeurs obtenues dans les deux cas avec ce que renvoie la fonction *black box* `var` de la librarie `numpy` (cf. corrigé de l'exercice du tutoriel précédent pour la syntaxe, et voir la [doc](https://numpy.org/doc/stable/reference/generated/numpy.var.html) de la fonction et en particulier le paramètre `ddof` pour faire varier la méthode de calcul)."
   ]
  },
  {
   "cell_type": "code",
   "execution_count": null,
   "id": "f41d8d89",
   "metadata": {
    "tags": []
   },
   "outputs": [],
   "source": [
    "# Testez votre réponse dans cette cellule\n"
   ]
  },
  {
   "cell_type": "code",
   "execution_count": null,
   "id": "958c5b72",
   "metadata": {
    "tags": []
   },
   "outputs": [],
   "source": [
    "# Exécuter cette cellule pour afficher la solution\n",
    "%load -r 129-158 solutions.py"
   ]
  },
  {
   "cell_type": "markdown",
   "id": "e3dbbce8",
   "metadata": {},
   "source": [
    "### Fonctions récursives : factorielle"
   ]
  },
  {
   "cell_type": "markdown",
   "id": "7c67bdfb",
   "metadata": {
    "tags": []
   },
   "source": [
    "Les fonctions récursives sont des fonctions qui s'appellent elles-mêmes dans le corps de la fonction, ce qui entraîne des appels infinis jusqu'à atteindre un critère d'arrêt.\n",
    "\n",
    "Un bon exemple de fonction récursive est la fonction qui calcule la factorielle d'un entier. La factorielle d'un entier naturel $n$ est le produit des nombres entiers strictement positifs inférieurs ou égaux à n. Par exemple : $5! = 5*4*3*2*1 = 120$.\n",
    "\n",
    "Coder cette fonction et vérifier qu'elle fonctionne correctement."
   ]
  },
  {
   "cell_type": "code",
   "execution_count": null,
   "id": "ea15a19e",
   "metadata": {
    "tags": []
   },
   "outputs": [],
   "source": [
    "# Testez votre réponse dans cette cellule\n"
   ]
  },
  {
   "cell_type": "code",
   "execution_count": null,
   "id": "5ad99ec6",
   "metadata": {
    "lines_to_next_cell": 0,
    "tags": []
   },
   "outputs": [],
   "source": [
    "# Exécuter cette cellule pour afficher la solution\n",
    "%load -r 162-169 solutions.py"
   ]
  },
  {
   "cell_type": "markdown",
   "id": "66190f0f",
   "metadata": {},
   "source": [
    "\n"
   ]
  }
 ],
 "metadata": {
  "jupytext": {
   "cell_metadata_filter": "tags,-all",
   "main_language": "python",
   "notebook_metadata_filter": "-all"
  }
 },
 "nbformat": 4,
 "nbformat_minor": 5
}
