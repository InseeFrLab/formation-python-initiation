{
  "cells": [
    {
      "cell_type": "markdown",
      "metadata": {},
      "source": [
        "# Tests\n",
        "\n",
        "Découverte des tests et des structures conditionnelles, qui permettent à\n",
        "un programme de prendre des décisions de manière automatisée.\n",
        "\n",
        "Dans le tutoriel précédent, nous avons évoqué – sans l’expliciter – la\n",
        "notion de **test**, à travers l’exemple des tests d’appartenance. A\n",
        "présent, nous allons entrer dans le détail du fonctionnement des tests\n",
        "en Python. Les tests sont une étape majeure dans la création de\n",
        "programmes permettant d’automatiser des opérations, dans la mesure où\n",
        "ils permettent d’**exécuter – ou non – du code selon certaines\n",
        "conditions**. Ils permettent donc à l’ordinateur de prendre des\n",
        "décisions selon des critères fixés par l’utilisateur.\n",
        "\n",
        "## Le type Booléen\n",
        "\n",
        "Dans sa plus simple forme, un test en Python est une expression qui\n",
        "évalue à “vrai” ou “faux”. Par exemple, l’expression $3 > 2$ est vraie,\n",
        "le test associé renverra donc “vrai”. Pour ce type d’évaluation, Python\n",
        "dispose d’un type d’objets particulier : les **Booléens**. Contrairement\n",
        "aux types d’objet que nous avons déjà vus (`int`, `float`, `str`..), les\n",
        "Booléens ne peuvent prendre que deux valeurs : `True` et `False`."
      ],
      "id": "7e93c8da-912f-4ce8-acf4-01f8550788ee"
    },
    {
      "cell_type": "code",
      "execution_count": 1,
      "metadata": {},
      "outputs": [],
      "source": [
        "type(True)"
      ],
      "id": "066d8ed2"
    },
    {
      "cell_type": "markdown",
      "metadata": {},
      "source": [
        "Comme n’importe quel objet, les Booléens peuvent être assignés à des\n",
        "variables."
      ],
      "id": "324ed837-a69f-4694-9242-00eaa7bd3eba"
    },
    {
      "cell_type": "code",
      "execution_count": 2,
      "metadata": {},
      "outputs": [],
      "source": [
        "a = False\n",
        "print(a)\n",
        "print(type(a))"
      ],
      "id": "01a8ae8c"
    },
    {
      "cell_type": "markdown",
      "metadata": {},
      "source": [
        "Les valeurs `True` et `False` doivent être écrites de cette manière\n",
        "précisément (première lettre en majuscule, pas de guillemets). Elles ne\n",
        "peuvent par ailleurs pas être utilisées comme noms de variable afin de\n",
        "limiter les ambiguïtés."
      ],
      "id": "5281c9e6-e982-42c0-af71-3af94aa80ec0"
    },
    {
      "cell_type": "code",
      "execution_count": 3,
      "metadata": {},
      "outputs": [],
      "source": [
        "a = true  # Python chercher la variable `true` mais elle n'existe pas"
      ],
      "id": "1a69b8f0"
    },
    {
      "cell_type": "code",
      "execution_count": 4,
      "metadata": {},
      "outputs": [],
      "source": [
        "True = 3"
      ],
      "id": "643e34fd"
    },
    {
      "cell_type": "markdown",
      "metadata": {},
      "source": [
        "## Opérateurs de comparaison\n",
        "\n",
        "Les opérateurs de comparaison formalisent les opérations mathématiques\n",
        "de comparaison (égalité, non-égalité, inégalités). Ils **comparent deux\n",
        "valeurs et renvoient une valeur booléenne**.\n",
        "\n",
        "| Opérateur | Signification           |\n",
        "|-----------|-------------------------|\n",
        "| ==        | Egal à                  |\n",
        "| !=        | Non égal à              |\n",
        "| \\<        | Strictement inférieur à |\n",
        "| \\>        | Strictement supérieur à |\n",
        "| \\<=       | Inférieur ou égal à     |\n",
        "| \\>=       | Supérieur ou égal à     |\n",
        "\n",
        "Illustrons ces opérateurs à l’aide de quelques exemples."
      ],
      "id": "39e467b7-7c80-4785-9433-db7aa3b405d9"
    },
    {
      "cell_type": "code",
      "execution_count": 5,
      "metadata": {},
      "outputs": [],
      "source": [
        "3 == 3"
      ],
      "id": "688c8a30"
    },
    {
      "cell_type": "code",
      "execution_count": 6,
      "metadata": {},
      "outputs": [],
      "source": [
        "63 == 36"
      ],
      "id": "c6403d4d"
    },
    {
      "cell_type": "code",
      "execution_count": 7,
      "metadata": {},
      "outputs": [],
      "source": [
        "2 != 3"
      ],
      "id": "022fa995"
    },
    {
      "cell_type": "code",
      "execution_count": 8,
      "metadata": {},
      "outputs": [],
      "source": [
        "2 != 2"
      ],
      "id": "1b60733c"
    },
    {
      "cell_type": "code",
      "execution_count": 9,
      "metadata": {},
      "outputs": [],
      "source": [
        "3 > 2"
      ],
      "id": "ff9eed94"
    },
    {
      "cell_type": "code",
      "execution_count": 10,
      "metadata": {},
      "outputs": [],
      "source": [
        "a = 36\n",
        "a <= a"
      ],
      "id": "52ec837f"
    },
    {
      "cell_type": "code",
      "execution_count": 11,
      "metadata": {},
      "outputs": [],
      "source": [
        "a < a"
      ],
      "id": "ce232c32"
    },
    {
      "cell_type": "markdown",
      "metadata": {},
      "source": [
        "Tout semble fonctionner correctement pour des opérations mathématiques\n",
        "usuelles. Mais ces opérateurs fonctionnent en réalité sur n’importe quel\n",
        "type d’objet."
      ],
      "id": "1f2e9e96-6d50-4280-bcec-69bfce5bc30d"
    },
    {
      "cell_type": "code",
      "execution_count": 12,
      "metadata": {},
      "outputs": [],
      "source": [
        "'do re mi fa sol' == 'do re mi fa sol'"
      ],
      "id": "3c229d47"
    },
    {
      "cell_type": "code",
      "execution_count": 13,
      "metadata": {},
      "outputs": [],
      "source": [
        "'do re mi fa sol' == 'Do Re Mi Fa Sol'"
      ],
      "id": "2792061e"
    },
    {
      "cell_type": "code",
      "execution_count": 14,
      "metadata": {},
      "outputs": [],
      "source": [
        "'canard' != 'abeille'"
      ],
      "id": "88231a57"
    },
    {
      "cell_type": "code",
      "execution_count": 15,
      "metadata": {},
      "outputs": [],
      "source": [
        "True == True"
      ],
      "id": "d2076a6a"
    },
    {
      "cell_type": "code",
      "execution_count": 16,
      "metadata": {},
      "outputs": [],
      "source": [
        "True == False"
      ],
      "id": "e9bcc845"
    },
    {
      "cell_type": "code",
      "execution_count": 17,
      "metadata": {},
      "outputs": [],
      "source": [
        "[1, 2, 3] == [1, 2, 3]"
      ],
      "id": "56f12102"
    },
    {
      "cell_type": "code",
      "execution_count": 18,
      "metadata": {},
      "outputs": [],
      "source": [
        "[1, 2] != [3, 4]"
      ],
      "id": "bf130496"
    },
    {
      "cell_type": "markdown",
      "metadata": {},
      "source": [
        "Enfin, il est possible de réaliser des comparaisons en chaîne.\n",
        "L’expression renvoie `True` à condition que chacune des comparaisons\n",
        "soit vraie."
      ],
      "id": "db04250d-1da4-4320-8ef0-f753a41aea0a"
    },
    {
      "cell_type": "code",
      "execution_count": 19,
      "metadata": {},
      "outputs": [],
      "source": [
        "5 < 7 <= 8"
      ],
      "id": "5a7dc10e"
    },
    {
      "cell_type": "code",
      "execution_count": 20,
      "metadata": {},
      "outputs": [],
      "source": [
        "5 < 7 <= 6"
      ],
      "id": "21c91c04"
    },
    {
      "cell_type": "markdown",
      "metadata": {},
      "source": [
        "## Opérateurs booléens\n",
        "\n",
        "Les opérateurs booléens permettent de **tester simultanément plusieurs\n",
        "expressions logiques**. Fondamentalement, ces opérateurs prennent en\n",
        "entrée deux valeurs booléennes, et renvoient une unique valeur booléenne\n",
        "selon des règles de logique fixées. Ces règles sont énoncées dans des\n",
        "**tables de vérité**.\n",
        "\n",
        "### Opérateur `and`"
      ],
      "id": "7632b7d9-708a-48cb-91e6-5d20046df239"
    },
    {
      "cell_type": "raw",
      "metadata": {
        "raw_mimetype": "text/html"
      },
      "source": [
        "<!-- #region tags=[] -->"
      ],
      "id": "ba0b4f65-b051-4888-b328-4945e58b76ba"
    },
    {
      "cell_type": "markdown",
      "metadata": {},
      "source": [
        "Le premier opérateur booléen est `and`. Regardons sa table de vérité :\n",
        "\n",
        "| Expression        | Evaluation |\n",
        "|-------------------|------------|\n",
        "| `True and True`   | `True`     |\n",
        "| `True and False`  | `False`    |\n",
        "| `False and True`  | `False`    |\n",
        "| `False and False` | `False`    |\n",
        "\n",
        "Vérifions ces règles en pratique à l’aide de quelques exemples.\n",
        "<!-- #endregion -->\n",
        "\n",
        "`mmfzxydp tags=[] True and True`\n",
        "\n",
        "`mmfzxydp tags=[] False and True`\n",
        "\n",
        "Les règles ont l’air de fonctionner sur les valeurs booléennes. Bien\n",
        "entendu, en pratique, on s’intéresse plutôt à évaluer de vraies\n",
        "expressions logiques. On peut donc utiliser ces opérateurs pour tester\n",
        "des expressions qui *renvoient* une valeur booléenne."
      ],
      "id": "c37dc2ed-d44e-4351-9538-3c4a90d44ce2"
    },
    {
      "cell_type": "code",
      "execution_count": 21,
      "metadata": {},
      "outputs": [],
      "source": [
        "(3 > 2) and (5 <= 9)"
      ],
      "id": "ca304ee1"
    },
    {
      "cell_type": "code",
      "execution_count": 22,
      "metadata": {},
      "outputs": [],
      "source": [
        "a = (\"x\" != \"z\")\n",
        "b = (\"x\" == \"y\")\n",
        "a and b"
      ],
      "id": "9adaf76d"
    },
    {
      "cell_type": "raw",
      "metadata": {
        "raw_mimetype": "text/html"
      },
      "source": [
        "<!-- #region tags=[] -->"
      ],
      "id": "a144f13f-4837-4039-8e52-550df93c3972"
    },
    {
      "cell_type": "markdown",
      "metadata": {},
      "source": [
        "Notez l’usage des parenthèses pour délimiter les tests : elles ne sont\n",
        "pas obligatoires, mais fortement recommandées dans la mesure où elles\n",
        "améliorent grandement la lisibilité tes tests. <!-- #endregion -->\n",
        "\n",
        "### L’opérateur `or`\n",
        "\n",
        "Le second opérateur booléen est `or`. Sa table de vérité est la suivante\n",
        ":\n",
        "\n",
        "| Expression       | Evaluation |\n",
        "|------------------|------------|\n",
        "| `True or True`   | `True`     |\n",
        "| `True or False`  | `True`     |\n",
        "| `False or True`  | `True`     |\n",
        "| `False or False` | `False`    |\n",
        "\n",
        "`mmfzxydp tags=[] True or True`\n",
        "\n",
        "`mmfzxydp tags=[] False or True`"
      ],
      "id": "7a431d9a-e289-4ae0-8c20-497a00ee5057"
    },
    {
      "cell_type": "code",
      "execution_count": 23,
      "metadata": {},
      "outputs": [],
      "source": [
        "(3 > 2) or (5 <= 9)"
      ],
      "id": "3af1d8d6"
    },
    {
      "cell_type": "markdown",
      "metadata": {},
      "source": [
        "`mmfzxydp tags=[] a = (\"x\" != \"z\") b = (\"x\" == \"y\") a or b`\n",
        "\n",
        "### L’opérateur `not`\n",
        "\n",
        "Le dernier opérateur booléen est `not`. Sa table de vérité est la\n",
        "suivante :\n",
        "\n",
        "| Expression  | Evaluation |\n",
        "|-------------|------------|\n",
        "| `not True`  | `False`    |\n",
        "| `not False` | `True`     |\n",
        "\n",
        "`mmfzxydp tags=[] not True`\n",
        "\n",
        "`mmfzxydp tags=[] not False`"
      ],
      "id": "9aee385c-60fe-4cfd-bd29-3ebe9e325fe9"
    },
    {
      "cell_type": "code",
      "execution_count": 24,
      "metadata": {},
      "outputs": [],
      "source": [
        "not (3 + 3 == 6)"
      ],
      "id": "7fea0aea"
    },
    {
      "cell_type": "code",
      "execution_count": 25,
      "metadata": {},
      "outputs": [],
      "source": [
        "not (7 < 7)"
      ],
      "id": "edbf10dd"
    },
    {
      "cell_type": "markdown",
      "metadata": {},
      "source": [
        "## Structures conditionnelles\n",
        "\n",
        "Toutes les expressions que nous avons vues précédemment sont des\n",
        "expressions booléennes : un test est effectué, et l’opération renvoie\n",
        "`True` or `False` selon que l’expression évaluée est vraie ou non. Dans\n",
        "le cadre d’un programme informatique qui réalise des opérations\n",
        "automatisées, on va vouloir les utiliser comme des **conditions** : *si*\n",
        "l’expression est vraie, alors l’ordinateur doit effectuer telle ou telle\n",
        "opération. Les **structures conditionnelles** permettent précisément cet\n",
        "usage.\n",
        "\n",
        "Illustrons ce principe en implémentant le programme suivant : - Soit une\n",
        "variable `x`. - Si `x` est supérieur à $5$, alors imprimer dans la\n",
        "console le message “L’expression est vraie.” - Dans le cas contraire,\n",
        "imprimer dans la console le message “L’expression est fausse.”\n",
        "\n",
        "Faîtes varier la valeur de `x` pour vérifier le bon fonctionnement du\n",
        "test."
      ],
      "id": "8a52c414-65ed-43b9-bc54-2aab56082a1b"
    },
    {
      "cell_type": "code",
      "execution_count": 26,
      "metadata": {},
      "outputs": [],
      "source": [
        "x = 7\n",
        "\n",
        "if x >= 5:\n",
        "    print(\"L'expression est vraie.\")\n",
        "else:\n",
        "    print(\"L'expression est fausse.\")"
      ],
      "id": "f51c4852"
    },
    {
      "cell_type": "markdown",
      "metadata": {},
      "source": [
        "### Blocs d’instruction et indentation\n",
        "\n",
        "L’exemple précédent illustre la syntaxe des structures conditionnelles\n",
        "en Python. Ces structures sont basées sur des *blocs d’instructions*,\n",
        "qui délimitent l’ensemble des instructions qui doivent être exécutées\n",
        "lorsqu’un test est vrai. Les structures conditionnelles ont trois règles\n",
        ": - la ligne qui spécifie le test se termine par `:` - toutes les\n",
        "instructions qui doivent être exécutées si le test est vrai se situent à\n",
        "un même niveau d’indentation ; - la structure conditionnelle se termine\n",
        "lorsque l’indentation revient à son niveau d’origine.\n",
        "\n",
        "Notons que les structures conditionnelles peuvent tout à fait être\n",
        "imbriquées, ce qu’illustre l’exemple suivant."
      ],
      "id": "d6aa654b-6f7e-43ed-aeee-506a5d289530"
    },
    {
      "cell_type": "code",
      "execution_count": 27,
      "metadata": {},
      "outputs": [],
      "source": [
        "x = 7\n",
        "\n",
        "if x >= 5:\n",
        "    print(\"L'expression 1 est vraie.\")\n",
        "    if x >= 12:\n",
        "        print(\"L'expression 2 est vraie.\")"
      ],
      "id": "7478378d"
    },
    {
      "cell_type": "markdown",
      "metadata": {},
      "source": [
        "Lorsque `x = 7`, le premier test renvoie `True`, le bloc d’instructions\n",
        "au niveau d’indentation 1 est donc exécuté ligne par ligne. Le second\n",
        "test renvoie quant à lui `False`, le bloc d’instructions au niveau\n",
        "d’indentation 2 n’est pas exécuté.\n",
        "\n",
        "Faîtes varier la valeur de `x` pour que les deux blocs soient exécutés.\n",
        "\n",
        "### Instructions `if`, `else` et `elif`\n",
        "\n",
        "Dans les structures conditionnelles, les tests peuvent être spécifiés à\n",
        "l’aide de trois instructions : `if`, `else` et `elif`. Les exemples\n",
        "précédents ont déjà illustré le fonctionnement des deux premières (et\n",
        "plus fréquentes) instructions.\n",
        "\n",
        "En cas d’un test simple (une seule condition), on n’utilisera qu’une\n",
        "instruction `if`, dont le fonctionnement est simple : si la condition\n",
        "(test) renvoie `True`, alors le bloc d’instructions (indenté) qui suit\n",
        "est exécuté. Si la condition renvoie `False`, il ne se passe rien.\n",
        "Illustrons cela avec un test d’appartenance, dont nous avons vu des\n",
        "exemples dans le tutoriel précédent."
      ],
      "id": "4a8e322b-c079-4433-95c1-0bd66599e992"
    },
    {
      "cell_type": "code",
      "execution_count": 28,
      "metadata": {},
      "outputs": [],
      "source": [
        "client = \"Isidore\"\n",
        "\n",
        "if client in [\"Alexandrine\", \"Achille\", \"Colette\"]:\n",
        "    print(\"Client connu.\")"
      ],
      "id": "c50f1e81"
    },
    {
      "cell_type": "markdown",
      "metadata": {},
      "source": [
        "En pratique, on souhaite souvent spécifier une alternative, lorsque la\n",
        "condition de l’instruction `if` renvoie `False`. L’instruction `else`\n",
        "permet de spécifier un bloc d’instructions alternatif."
      ],
      "id": "5b5b0a87-ecf2-4934-8e65-2c1ac0769eba"
    },
    {
      "cell_type": "code",
      "execution_count": 29,
      "metadata": {},
      "outputs": [],
      "source": [
        "client = \"Isidore\"\n",
        "\n",
        "if client in [\"Alexandrine\", \"Achille\", \"Colette\"]:\n",
        "    print(\"Client connu.\")\n",
        "else:\n",
        "    print(\"Client inconnu.\")"
      ],
      "id": "8c0298f2"
    },
    {
      "cell_type": "markdown",
      "metadata": {},
      "source": [
        "Enfin, on peut vouloir spécifier plusieurs alternatives. Dans ce cas, on\n",
        "va utiliser des instructions `elif`. La première instruction `elif` ne\n",
        "va s’éxécuter que si le test de l’instruction `if` renvoie False. La\n",
        "seconde instruction `elif` ne va s’exécuter que si le test de la\n",
        "première instruction `elif` renvoie `False`, et ainsi de suite. Là\n",
        "encore, on peut spécifier une instruction finale `else`, qui ne\n",
        "s’exécute que si aucun des tests précédents n’a renvoyé `True`."
      ],
      "id": "24980b37-e63d-4e4a-9347-e0033d2b33cc"
    },
    {
      "cell_type": "code",
      "execution_count": 30,
      "metadata": {},
      "outputs": [],
      "source": [
        "client = \"Isidore\"\n",
        "\n",
        "if client == \"Alexandrine\":\n",
        "    print(\"Bonjour Alexandrine.\")\n",
        "elif client == \"Achille\":\n",
        "    print(\"Bonjour Achille.\")\n",
        "elif client == \"Colette\":\n",
        "    print(\"Bonjour Colette.\")\n",
        "else:\n",
        "    print(\"Bonjour cher inconnu.\")"
      ],
      "id": "978a6cf8"
    },
    {
      "cell_type": "markdown",
      "metadata": {},
      "source": [
        "NB : les instructions précédentes ont seulement valeur d’exemple. En\n",
        "pratique, il y a des manières beaucoup plus concises de coder un\n",
        "programme qui effectue les mêmes opérations.\n",
        "\n",
        "## Exercices\n",
        "\n",
        "### Questions de compréhension\n",
        "\n",
        "-   1/ Quelle est la particularité des Booléens par rapport aux autres\n",
        "    types d’objets de base en Python ?\n",
        "-   2/ Quels sont les inputs et les outputs d’un opérateur de\n",
        "    comparaison ?\n",
        "-   3/ Quels types d’objets peut-on comparer à l’aide d’un opérateur de\n",
        "    comparaison ?\n",
        "-   4/ Quelle est la différence entre l’opérateur `=` et l’opérateur\n",
        "    `==` ?\n",
        "-   5/ Quels sont les inputs et les outputs d’un opérateur booléen ?\n",
        "-   6/ Expliquer en français le principe de l’opérateur booléen `and`.\n",
        "    Mêmes questions pour `or` et `not`.\n",
        "-   7/ Quelle est la différence entre expression booléenne et condition\n",
        "    ?\n",
        "-   8/ Quelle est la structure d’une instruction conditionnelle ?\n",
        "-   9/ Peut-on imbriquer les instructions conditionnelles ?\n",
        "-   10/ Parmi les instructions `if`, `else`, et `elif`, lesquelles sont\n",
        "    obligatoires et lesquelles sont facultatives ?\n",
        "\n",
        "\\`\\`\\`mmfzxydp tags=\\[\\] \\# Testez votre réponse dans cette cellule\n",
        "\n",
        "\n",
        "    ```{python} tags=[]\n",
        "    # Exécuter cette cellule pour afficher la solution\n",
        "    %load -r 3-32 solutions.py\n",
        "\n",
        "### Exercice : prédiction de résultats de tests"
      ],
      "id": "0c419719-a4ff-4290-92d9-5e75d6a715fa"
    },
    {
      "cell_type": "raw",
      "metadata": {
        "raw_mimetype": "text/html"
      },
      "source": [
        "<!-- #region tags=[] -->"
      ],
      "id": "b6f5df22-6388-4666-816f-1ab4b5cab036"
    },
    {
      "cell_type": "markdown",
      "metadata": {},
      "source": [
        "Prédire le résultats des tests suivants, et vérifier vos prédictions :\n",
        "\n",
        "-   `'Simon' in ['simon', 'oceane', 'veronique']`\n",
        "-   `[1, 2, 3] == ['1', '2', '3']`\n",
        "-   `'x' != 'x'`\n",
        "-   `(9 > 5) and (3 == 5)`\n",
        "-   `(3 > 2 and 5 >= 1) or (5 <= 9 and 6 > 12)`\n",
        "-   `not (9 > 2*3)`\n",
        "-   `not (9 > (2*3))`\n",
        "-   `not ((7 > 8) or (5 <= 5))`\n",
        "-   `(True and True) or (True == False)`\n",
        "-   `(not False) or (not True)` <!-- #endregion -->\n",
        "\n",
        "\\`\\`\\`mmfzxydp tags=\\[\\] \\# Testez votre réponse dans cette cellule\n",
        "\n",
        "\n",
        "    ```{python} tags=[]\n",
        "    # Exécuter cette cellule pour afficher la solution\n",
        "    %load -r 36-45 solutions.py\n",
        "\n",
        "### Exercice : prédiction de test imbriqué\n",
        "\n",
        "Considérons le programme écrit dans la cellule suivante."
      ],
      "id": "2cea285b-dca1-4821-915d-cd9b62e94ee0"
    },
    {
      "cell_type": "code",
      "execution_count": 31,
      "metadata": {},
      "outputs": [],
      "source": [
        "x = 10\n",
        "\n",
        "if True:\n",
        "    print(\"Initialisation.\")\n",
        "    l = []\n",
        "    if x > 8:\n",
        "        l.append(\"a\")\n",
        "    elif x >= 2:\n",
        "        l.append(\"b\")\n",
        "    else:\n",
        "        l.append(\"c\")\n",
        "    if x - 6 < 0:\n",
        "        print(\"Négatif.\")\n",
        "        \n",
        "print(l)"
      ],
      "id": "8edc9738"
    },
    {
      "cell_type": "markdown",
      "metadata": {},
      "source": [
        "Pour les valeurs suivantes : - x = 1 - x = 5 - x = 10\n",
        "\n",
        "prédire les résultats du programme : - que vaut `l` à la fin du\n",
        "programme ? - qu’est ce qui est imprimé dans la console au fil du\n",
        "programme ?\n",
        "\n",
        "Vérifiez vos résultats.\n",
        "\n",
        "\\`\\`\\`mmfzxydp tags=\\[\\] \\# Testez votre réponse dans cette cellule\n",
        "\n",
        "\n",
        "    ::: {#ce75021c .cell execution_count=32}\n",
        "    ``` {.python .cell-code}\n",
        "    # Exécuter cette cellule pour afficher la solution\n",
        "    %load -r 49-59 solutions.py\n",
        "\n",
        ":::\n",
        "\n",
        "### Exercice : trois et pas plus\n",
        "\n",
        "Ecrire un programme qui réalise les opérations suivantes : - Définir une\n",
        "liste qui contient 4 prénoms - Ecrire un test qui affiche le message\n",
        "(‘Trop de monde.’) si la liste contient plus de trois personnes -\n",
        "Supprimer une personne de la liste (en utilisant la fonction `del` ou la\n",
        "méthode `pop` vues dans un tutoriel précédent) - Réaliser le test à\n",
        "nouveau, il ne devrait plus y avoir d’output."
      ],
      "id": "2d9d92d3-d650-4a56-ab03-90d5be7cee91"
    },
    {
      "cell_type": "code",
      "execution_count": 33,
      "metadata": {},
      "outputs": [],
      "source": [
        "# Testez votre réponse dans cette cellule"
      ],
      "id": "fea1e5ad"
    },
    {
      "cell_type": "code",
      "execution_count": 34,
      "metadata": {},
      "outputs": [],
      "source": [
        "# Exécuter cette cellule pour afficher la solution\n",
        "%load -r 63-73 solutions.py"
      ],
      "id": "d1f94fe4"
    },
    {
      "cell_type": "markdown",
      "metadata": {},
      "source": [
        "### Exercice : le juste prix\n",
        "\n",
        "La fonction `input` permet de demander à l’utilisateur d’entrer une\n",
        "valeur dans le cadre d’un programme Python. La syntaxe est la suivante :\n",
        "`x = input()`. Lorsque cette commande est exécutée, l’utilisateur doit\n",
        "rentrer une valeur, qui est alors assignée à la variable x.\n",
        "\n",
        "**En utilisant `input` et les instructions `if`, `elif` et `else`**,\n",
        "coder le programme suivant : - demander une valeur à l’utilisateur, qui\n",
        "sera stockée dans une variable `p` - si `p` est strictement inférieur à\n",
        "$15$, imprimer (avec la fonction `print`) le message “trop bas !”. - si\n",
        "`p` est strictement supérieur à $15$, imprimer le message “trop haut\n",
        "!”. - si `p` est égal à $15$, imprimer le message “dans le mille !”\n",
        "\n",
        "Attention, `input` renvoie par défaut une chaîne de caractère. Il faut\n",
        "donc convertir la valeur de `p` au format entier (via la fonction `int`)\n",
        "pour que le jeu fonctionne."
      ],
      "id": "dc7a4e1d-f32c-4c57-86d3-98bb4cd4cbfb"
    },
    {
      "cell_type": "code",
      "execution_count": 35,
      "metadata": {},
      "outputs": [],
      "source": [
        "# Testez votre réponse dans cette cellule"
      ],
      "id": "fe9fd0db"
    },
    {
      "cell_type": "code",
      "execution_count": 36,
      "metadata": {},
      "outputs": [],
      "source": [
        "# Exécuter cette cellule pour afficher la solution\n",
        "%load -r 77-85 solutions.py"
      ],
      "id": "e04be5fc"
    },
    {
      "cell_type": "markdown",
      "metadata": {},
      "source": [
        "### Exercice : évaluation booléenne d’objets divers\n",
        "\n",
        "En Python, tous les objets s’évaluent à `True` or `False` dans le cadre\n",
        "d’un test conditionnel (`if`/`else`). La règle générale est que les\n",
        "objets qui sont zéro ou vides (ex : une liste vide, un dictionnaire\n",
        "vide) s’évaluent à `False`, et inversement. Mais il n’y a pas besoin de\n",
        "connaître ces règles par coeur : elles se retrouvent facilement en\n",
        "pratique ! Par exemple, on peut utiliser le test conditionnel suivant :"
      ],
      "id": "ca0d87a1-abf2-4ce8-955f-4837aedecd84"
    },
    {
      "cell_type": "code",
      "execution_count": 37,
      "metadata": {},
      "outputs": [],
      "source": [
        "if \"test\":\n",
        "    print(\"True.\")\n",
        "else:\n",
        "    print(\"False.\")"
      ],
      "id": "ff85d373"
    },
    {
      "cell_type": "markdown",
      "metadata": {},
      "source": [
        "Prédire à quelle valeur booléenne vont s’évaluer les objets suivants, et\n",
        "vérifier à l’aide de la syntaxe précédente. - `0` - `1` - `12` - `-1` -\n",
        "’’ (*string* vide) - ’ ’ (*string* contenant seulement un espace) - `[]`\n",
        "(liste vide) - `['']` (liste contenant seulement un *string* vide) -\n",
        "`{}` - `{-1}`"
      ],
      "id": "d2ef30d3-eb97-4d7f-98bd-750ca3623cb5"
    },
    {
      "cell_type": "code",
      "execution_count": 38,
      "metadata": {},
      "outputs": [],
      "source": [
        "# Testez votre réponse dans cette cellule"
      ],
      "id": "3d62812e"
    },
    {
      "cell_type": "code",
      "execution_count": 39,
      "metadata": {},
      "outputs": [],
      "source": [
        "# Exécuter cette cellule pour afficher la solution\n",
        "%load -r 89-98 solutions.py"
      ],
      "id": "c45dc03c"
    },
    {
      "cell_type": "markdown",
      "metadata": {},
      "source": [
        "### Exercice : comparaisons en chaîne\n",
        "\n",
        "Nous avons vu qu’il était possible de réaliser des comparaisons en\n",
        "chaîne, qui renvoient `True` à condition que chacune des comparaisons\n",
        "inclues soit vraie. Trouvez une manière de réécrire la comparaison en\n",
        "chaîne suivante à l’aide d’opérateurs booléens.\n",
        "\n",
        "`5 < 7 <= 8 < 18`"
      ],
      "id": "bab4d0c8-bb54-4515-ba01-04c8795ec637"
    },
    {
      "cell_type": "code",
      "execution_count": 40,
      "metadata": {},
      "outputs": [],
      "source": [
        "# Testez votre réponse dans cette cellule"
      ],
      "id": "b7ac749a"
    },
    {
      "cell_type": "code",
      "execution_count": 41,
      "metadata": {},
      "outputs": [],
      "source": [
        "# Exécuter cette cellule pour afficher la solution\n",
        "%load -r 102-109 solutions.py"
      ],
      "id": "cea70904"
    },
    {
      "cell_type": "raw",
      "metadata": {
        "raw_mimetype": "text/html"
      },
      "source": [
        "<!-- #region tags=[] -->"
      ],
      "id": "789eab1b-bc36-454f-883e-0a41af44ff99"
    },
    {
      "cell_type": "markdown",
      "metadata": {},
      "source": [
        "### Exercice : Booléens et langage binaire"
      ],
      "id": "10084e02-4a6a-4fa4-8d66-ae941da98f0f"
    },
    {
      "cell_type": "raw",
      "metadata": {
        "raw_mimetype": "text/html"
      },
      "source": [
        "<!-- #endregion -->"
      ],
      "id": "06366451-0c43-48f2-abb8-158ffc5535ff"
    },
    {
      "cell_type": "markdown",
      "metadata": {},
      "source": [
        "Les Booléens sont fortement liés au langage binaire, dans lequel le `1`\n",
        "correspond à “vrai” et le `0` à “faux”. On va vérifier si ce lien existe\n",
        "dans le contexte de Python. Pour ce faire : - calculer la\n",
        "“représentation en entier” de la valeur booléenne de votre choix à\n",
        "l’aide de la fonction `int` ; - utiliser des booléens dans le cadre de\n",
        "calculs mathématiques pour vérifier leur comportement dans ce contexte."
      ],
      "id": "9698f4ab-f9b2-491d-b738-5438c2fbaed4"
    },
    {
      "cell_type": "code",
      "execution_count": 42,
      "metadata": {},
      "outputs": [],
      "source": [
        "# Testez votre réponse dans cette cellule"
      ],
      "id": "c62dfbdb"
    },
    {
      "cell_type": "code",
      "execution_count": 43,
      "metadata": {},
      "outputs": [],
      "source": [
        "# Exécuter cette cellule pour afficher la solution\n",
        "%load -r 113-117 solutions.py"
      ],
      "id": "14f49cee"
    },
    {
      "cell_type": "markdown",
      "metadata": {},
      "source": [
        "### Exercice : comparaisons de *strings*\n",
        "\n",
        "Que renvoient les tests de comparaison de type inégalités appliqués à\n",
        "des chaînes de caractères ? Produire quelques exemples pour tester le\n",
        "comportement."
      ],
      "id": "fd78844c-e1aa-49e9-a54e-559ef38975dd"
    },
    {
      "cell_type": "code",
      "execution_count": 44,
      "metadata": {},
      "outputs": [],
      "source": [
        "# Testez votre réponse dans cette cellule"
      ],
      "id": "b599ae54"
    },
    {
      "cell_type": "code",
      "execution_count": 45,
      "metadata": {},
      "outputs": [],
      "source": [
        "# Exécuter cette cellule pour afficher la solution\n",
        "%load -r 121-130 solutions.py"
      ],
      "id": "81314e05"
    },
    {
      "cell_type": "markdown",
      "metadata": {},
      "source": [
        "### Exercice : tests d’égalité sur les *floats*\n",
        "\n",
        "Les tests d’égalité entre nombres réels (type `float` en Python) peuvent\n",
        "être trompeurs. Pour vous en convaincre, effectuez le test suivant :\n",
        "`(6 - 5.8) == 0.2`\n",
        "\n",
        "Pour comprendre le résultat du test, effectuer le calcul du membre de\n",
        "gauche du test seul. Que remarquez-vous ?\n",
        "\n",
        "Imaginez (sans forcément l’implémenter) un autre test, basé sur des\n",
        "inégalités, qui permettrait de tester l’égalité approchée."
      ],
      "id": "0efa591c-70fc-4faa-adf4-5ae3f42403a9"
    },
    {
      "cell_type": "code",
      "execution_count": 46,
      "metadata": {},
      "outputs": [],
      "source": [
        "# Testez votre réponse dans cette cellule"
      ],
      "id": "9569ae3c"
    },
    {
      "cell_type": "code",
      "execution_count": 47,
      "metadata": {},
      "outputs": [],
      "source": [
        "# Exécuter cette cellule pour afficher la solution\n",
        "%load -r 134-146 solutions.py"
      ],
      "id": "b52ee393"
    }
  ],
  "nbformat": 4,
  "nbformat_minor": 5,
  "metadata": {
    "kernelspec": {
      "name": "python3",
      "display_name": "Python 3 (ipykernel)",
      "language": "python"
    },
    "language_info": {
      "name": "python",
      "codemirror_mode": {
        "name": "ipython",
        "version": "3"
      },
      "file_extension": ".py",
      "mimetype": "text/x-python",
      "nbconvert_exporter": "python",
      "pygments_lexer": "ipython3",
      "version": "3.10.12"
    }
  }
}