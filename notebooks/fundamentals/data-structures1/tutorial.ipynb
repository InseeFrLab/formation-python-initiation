{
  "cells": [
    {
      "cell_type": "markdown",
      "metadata": {},
      "source": [
        "# Structures de données 1 : listes et tuples\n",
        "\n",
        "Découverte des structures de données séquentielles : listes et tuples.\n",
        "\n",
        "Dans ce tutoriel, nous allons nous intéresser à des structures de\n",
        "données de base en Python : les **listes** et les **tuples**. Les\n",
        "structures de données peuvent être vues comme des conteneurs car ils\n",
        "permettent de stocker, d’organiser et d’accéder à des données. Les\n",
        "listes et les tuples sont des **conteneurs séquentiels** : les éléments\n",
        "qu’ils contiennent sont **ordonnés**, et leur position est enregistrée\n",
        "dans un **index**.\n",
        "\n",
        "## Listes\n",
        "\n",
        "### Définition\n",
        "\n",
        "Dans le tutoriel précédent, nous avons vu que les chaînes de caractères\n",
        "étaient des **séquences** de caractères. Les listes sont également des\n",
        "séquences, c’est à dire des suites ordonnées d’éléments, mais plus\n",
        "générales : les éléments peuvent être de différente nature.\n",
        "\n",
        "Les listes sont construites avec des crochets **\\[\\]**, et les éléments\n",
        "de la liste sont séparés par des virgules.\n",
        "\n",
        "Assignons une première liste à une variable `a` :"
      ],
      "id": "916e43a7-e68c-491c-89e9-8713ebbf5ace"
    },
    {
      "cell_type": "code",
      "execution_count": 1,
      "metadata": {},
      "outputs": [],
      "source": [
        "a = [1, 2, 3]\n",
        "print(a)"
      ],
      "id": "214dd10b"
    },
    {
      "cell_type": "markdown",
      "metadata": {},
      "source": [
        "La liste `a` est constituée d’entiers, mais une liste peut en pratique\n",
        "contenir des objets de tout type."
      ],
      "id": "1516bcd1-72da-4a87-8856-87608a290bdd"
    },
    {
      "cell_type": "code",
      "execution_count": 2,
      "metadata": {},
      "outputs": [],
      "source": [
        "b = [\"une séquence\", 56, \"d\"]\n",
        "print(b)"
      ],
      "id": "7f95fc02"
    },
    {
      "cell_type": "markdown",
      "metadata": {},
      "source": [
        "Il est notamment possible de créer des listes de listes (et ainsi de\n",
        "suite), ce qui permet de créer des structures hiérarchiques de données."
      ],
      "id": "eaf03edf-5924-46b0-b0ab-a63643368024"
    },
    {
      "cell_type": "code",
      "execution_count": 3,
      "metadata": {},
      "outputs": [],
      "source": [
        "c = [\"une séquence\", 56, [\"cette liste est imbriquée\", 75, \"o\"]]\n",
        "print(c)"
      ],
      "id": "8090e540"
    },
    {
      "cell_type": "markdown",
      "metadata": {},
      "source": [
        "Une liste imbriquée peut aussi être construite à partir de listes déjà\n",
        "définies."
      ],
      "id": "86bb3559-65ca-421a-9f7e-0afee1fe693a"
    },
    {
      "cell_type": "code",
      "execution_count": 4,
      "metadata": {},
      "outputs": [],
      "source": [
        "item1 = [\"cafe\", \"500g\"]\n",
        "item2 = [\"biscuits\", \"20\"]\n",
        "item3 = [\"lait\", \"1L\"]\n",
        "inventaire = [item1, item2, item3]\n",
        "print(inventaire)"
      ],
      "id": "932546d2"
    },
    {
      "cell_type": "markdown",
      "metadata": {},
      "source": [
        "On verra cependant dans le prochain tutoriel que les dictionnaires sont\n",
        "généralement des structures de données souvent plus adaptées que les\n",
        "listes pour représenter des données sous forme hiérarchique.\n",
        "\n",
        "### Longueur d’une liste\n",
        "\n",
        "Comme les chaînes de caractères, il est possible d’utiliser la fonction\n",
        "`len` pour compter le nombre d’éléments présents dans une liste."
      ],
      "id": "f870c8fd-d57a-4e1c-a246-0de689be6b67"
    },
    {
      "cell_type": "code",
      "execution_count": 5,
      "metadata": {},
      "outputs": [],
      "source": [
        "d = [\"ceci\", \"est\", \"une\", \"liste\"]\n",
        "len(d)"
      ],
      "id": "a151abf5"
    },
    {
      "cell_type": "markdown",
      "metadata": {},
      "source": [
        "### Indexation\n",
        "\n",
        "Les listes étant des séquences, elles s’indexent de la même manière que\n",
        "les chaînes de caractères. Il est notamment important de se rappeler que\n",
        "la numérotation des positions commence à 0 en Python."
      ],
      "id": "7b574bfb-bb1b-4e8e-819d-893fe5e9291b"
    },
    {
      "cell_type": "code",
      "execution_count": 6,
      "metadata": {},
      "outputs": [],
      "source": [
        "# Troisième élément de la liste a\n",
        "print(a[2])"
      ],
      "id": "e6e0d38d"
    },
    {
      "cell_type": "markdown",
      "metadata": {},
      "source": [
        "Bien entendu, il n’est pas possible de demander un élément qui n’existe\n",
        "pas. Python renvoie une erreur nous indiquant que l’index demandé est\n",
        "hors limites."
      ],
      "id": "1a999d3a-5181-4b22-a101-d3ede1dff623"
    },
    {
      "cell_type": "code",
      "execution_count": 7,
      "metadata": {},
      "outputs": [],
      "source": [
        "print(a[5])"
      ],
      "id": "8453c80a"
    },
    {
      "cell_type": "markdown",
      "metadata": {},
      "source": [
        "Pour indexer une liste contenue dans une autre liste, on utilise une\n",
        "double indexation."
      ],
      "id": "5a1b4247-e803-4798-bd2f-9310376e2fb4"
    },
    {
      "cell_type": "code",
      "execution_count": 8,
      "metadata": {},
      "outputs": [],
      "source": [
        "# Premier élément de la sous-liste qui est à la deuxième position de la liste c\n",
        "print(c[2][0])"
      ],
      "id": "35bd497e"
    },
    {
      "cell_type": "markdown",
      "metadata": {},
      "source": [
        "En termes d’indexation, tout ce qui était possible sur les chaînes\n",
        "caractères l’est également avec les listes."
      ],
      "id": "1d1fa83f-6cb0-4de3-84e9-f3db7a9d3119"
    },
    {
      "cell_type": "code",
      "execution_count": 9,
      "metadata": {},
      "outputs": [],
      "source": [
        "# Tous les éléments à partir de la 1ère position\n",
        "print(b[1:])"
      ],
      "id": "79140aac"
    },
    {
      "cell_type": "code",
      "execution_count": 10,
      "metadata": {},
      "outputs": [],
      "source": [
        "# Inverser une liste\n",
        "print(a[::-1])"
      ],
      "id": "62523f51"
    },
    {
      "cell_type": "markdown",
      "metadata": {},
      "source": [
        "### Modification d’éléments\n",
        "\n",
        "Il est possible de modifier les éléments d’une liste manuellement, avec\n",
        "une syntaxe similaire à l’assignation de variable."
      ],
      "id": "9a487ac7-379a-4eec-83ae-c49e291038b3"
    },
    {
      "cell_type": "code",
      "execution_count": 11,
      "metadata": {},
      "outputs": [],
      "source": [
        "# Réassignation d'un élément\n",
        "d = [1, 2, \"toto\", 4]\n",
        "d[2] = 3\n",
        "print(d)"
      ],
      "id": "bc99731c"
    },
    {
      "cell_type": "code",
      "execution_count": 12,
      "metadata": {},
      "outputs": [],
      "source": [
        "# Substitution d'un élément\n",
        "a = [1, 2, 3]\n",
        "b = [\"do\", \"re\", \"mi\"]\n",
        "b[0] = a[2]\n",
        "print(b)"
      ],
      "id": "61053bf4"
    },
    {
      "cell_type": "markdown",
      "metadata": {},
      "source": [
        "### Suppression d’éléments\n",
        "\n",
        "L’instruction `del` permet de supprimer un élément par position. Les\n",
        "éléments qui se trouvaient après l’élément supprimé voient donc leur\n",
        "index réduit de 1."
      ],
      "id": "b2f44c5b-348b-459a-b98a-042679fd9098"
    },
    {
      "cell_type": "code",
      "execution_count": 13,
      "metadata": {},
      "outputs": [],
      "source": [
        "e = [1, \"do\", 6]\n",
        "print(e)\n",
        "print(e[2])\n",
        "\n",
        "del e[1]\n",
        "print(e)\n",
        "print(e[1])"
      ],
      "id": "b77545bc"
    },
    {
      "cell_type": "markdown",
      "metadata": {},
      "source": [
        "### Quelques propriétés utiles\n",
        "\n",
        "Là encore, on retrouve des propriétés inhérentes aux séquences."
      ],
      "id": "0df80ca8-fec7-4339-86a5-fafc0350f542"
    },
    {
      "cell_type": "code",
      "execution_count": 14,
      "metadata": {},
      "outputs": [],
      "source": [
        "# Concaténation\n",
        "[1, 2, 3] + [\"a\", 12]"
      ],
      "id": "3f8bdba8"
    },
    {
      "cell_type": "code",
      "execution_count": 15,
      "metadata": {},
      "outputs": [],
      "source": [
        "# Réplication\n",
        "[\"a\", \"b\", \"c\"] * 3"
      ],
      "id": "c5125899"
    },
    {
      "cell_type": "markdown",
      "metadata": {},
      "source": [
        "### Quelques méthodes utiles\n",
        "\n",
        "A l’instar des chaînes de caractères, les listes ont de nombreuses\n",
        "méthodes *built-in*, qui s’utilisent selon le format\n",
        "`objet.methode(parametres)`. Les plus utiles sont présentées ci-dessous\n",
        "; d’autres méthodes seront utilisées dans le cadre des exercices de fin\n",
        "de section."
      ],
      "id": "6b07ea72-5366-472c-b1c4-b76e0716d2a5"
    },
    {
      "cell_type": "code",
      "execution_count": 16,
      "metadata": {},
      "outputs": [],
      "source": [
        "# Ajouter un élément\n",
        "a = [1, 2, 3]\n",
        "a.append(4)\n",
        "print(a)"
      ],
      "id": "143f2133"
    },
    {
      "cell_type": "code",
      "execution_count": 17,
      "metadata": {},
      "outputs": [],
      "source": [
        "# Supprimer un élément par position\n",
        "b = [\"do\", \"re\", \"mi\"]\n",
        "b.pop(0)\n",
        "print(b)"
      ],
      "id": "c5dc6172"
    },
    {
      "cell_type": "code",
      "execution_count": 18,
      "metadata": {},
      "outputs": [],
      "source": [
        "# Supprimer un élément par valeur\n",
        "b = [\"do\", \"re\", \"mi\"]\n",
        "b.remove(\"mi\")\n",
        "print(b)"
      ],
      "id": "f4882dc7"
    },
    {
      "cell_type": "code",
      "execution_count": 19,
      "metadata": {},
      "outputs": [],
      "source": [
        "# Inverser une liste\n",
        "l = [1, 2, 3, 4, 5]\n",
        "l.reverse()\n",
        "print(l)"
      ],
      "id": "13ceed2c"
    },
    {
      "cell_type": "code",
      "execution_count": 20,
      "metadata": {},
      "outputs": [],
      "source": [
        "# Trouver la position d'un élément\n",
        "b = [\"a\", \"b\", \"c\", \"d\", \"e\"]\n",
        "b.index(\"d\")"
      ],
      "id": "8997c540"
    },
    {
      "cell_type": "markdown",
      "metadata": {},
      "source": [
        "## Tuples\n",
        "\n",
        "### Définition\n",
        "\n",
        "Les **tuples** sont une autre structure de données basique en Python,\n",
        "semblable à celle des listes dans leur fonctionnement. Il y a cependant\n",
        "une différence fondamentale : là où les éléments d’une liste peuvent\n",
        "être modifiés par position comme on l’a vu précédemment, les tuples sont\n",
        "**non-modifiables** (*immutable*). Ainsi, les éléments d’un tuple ne\n",
        "peuvent pas être modifiés sans redéfinir complètement le tuple.\n",
        "\n",
        "Quand est-il pertinent d’utiliser un tuple plutôt qu’une liste ? En\n",
        "pratique, les tuples sont beaucoup moins fréquemment utilisés que les\n",
        "listes. On utilise généralement les tuples pour **stocker des données\n",
        "qui n’ont pas vocation à être modifiées** lors de l’exécution de notre\n",
        "programme Python. Cela permet de se prémunir contre des problèmes\n",
        "d’intégrité de données, c’est à dire de modification non-voulue des\n",
        "données d’entrée. On s’évite ainsi parfois de longues et pénibles\n",
        "séances de debugging.\n",
        "\n",
        "Une autre différence, mineure celle-ci, est que les tuples s’écrivent\n",
        "avec des **parenthèses** au lieu des crochets. Les différents éléments\n",
        "sont toujours séparés par des virgules."
      ],
      "id": "56884a1e-0e8a-4558-9e65-96eca681ec96"
    },
    {
      "cell_type": "code",
      "execution_count": 21,
      "metadata": {},
      "outputs": [],
      "source": [
        "x = (1, 2, \"mi\", \"fa\", 5)\n",
        "x"
      ],
      "id": "6b74ccf3"
    },
    {
      "cell_type": "markdown",
      "metadata": {},
      "source": [
        "Afin de bien faire la différence avec l’usage normal des parenthèses\n",
        "(dans les calculs ou pour délimiter les expressions), un tuple à un seul\n",
        "élément se définit avec une virgule après le premier élément."
      ],
      "id": "0cd96da5-c021-46de-9fda-82424db7549e"
    },
    {
      "cell_type": "code",
      "execution_count": 22,
      "metadata": {},
      "outputs": [],
      "source": [
        "x1 = (\"a\", )\n",
        "x1"
      ],
      "id": "27696238"
    },
    {
      "cell_type": "markdown",
      "metadata": {},
      "source": [
        "Vérifions qu’il est impossible de modifier ou d’ajouter un élément à un\n",
        "tuple."
      ],
      "id": "e13ef399-fa02-48b0-9118-87d50381f123"
    },
    {
      "cell_type": "code",
      "execution_count": 23,
      "metadata": {},
      "outputs": [],
      "source": [
        "t = (\"do\", \"rez\", \"mi\")\n",
        "t[1] = \"re\""
      ],
      "id": "377c5562"
    },
    {
      "cell_type": "code",
      "execution_count": 24,
      "metadata": {},
      "outputs": [],
      "source": [
        "t = (\"do\", \"re\", \"mi\")\n",
        "t.append(\"fa\")"
      ],
      "id": "3895e270"
    },
    {
      "cell_type": "markdown",
      "metadata": {},
      "source": [
        "### Fonctionnement\n",
        "\n",
        "Les tuples s’indexent comme les listes."
      ],
      "id": "1c9f5702-e161-439b-9bb8-052cd7be61d9"
    },
    {
      "cell_type": "code",
      "execution_count": 25,
      "metadata": {},
      "outputs": [],
      "source": [
        "print(x[0])\n",
        "print(x[3:5])"
      ],
      "id": "6a266317"
    },
    {
      "cell_type": "markdown",
      "metadata": {},
      "source": [
        "Et peuvent également s’utiliser de manière hiérarchique."
      ],
      "id": "71cf19a1-94d7-458c-a05a-a1383ed33dea"
    },
    {
      "cell_type": "code",
      "execution_count": 26,
      "metadata": {},
      "outputs": [],
      "source": [
        "t1 = (\"a\", \"b\", \"c\")\n",
        "t2 = (1, 2, 3)\n",
        "t3 = (t1, \"et\", t2)\n",
        "\n",
        "print(t3)\n",
        "print(t3[2][1])"
      ],
      "id": "fbd8a8d5"
    },
    {
      "cell_type": "markdown",
      "metadata": {},
      "source": [
        "Les tuples partagent certaines méthodes *built-in* avec les listes :\n",
        "celles qui ne provoquent pas de modification de l’objet."
      ],
      "id": "77a0a57c-168e-4460-8a14-5981383a4339"
    },
    {
      "cell_type": "code",
      "execution_count": 27,
      "metadata": {},
      "outputs": [],
      "source": [
        "t = (\"do\", \"re\", \"mi\")\n",
        "t.index(\"do\")"
      ],
      "id": "3ae2c156"
    },
    {
      "cell_type": "code",
      "execution_count": 28,
      "metadata": {},
      "outputs": [],
      "source": [
        "t = (\"do\", \"re\", \"mi\", \"re\", \"do\")\n",
        "t.count(\"re\")"
      ],
      "id": "3423da4d"
    },
    {
      "cell_type": "markdown",
      "metadata": {},
      "source": [
        "### Conversion\n",
        "\n",
        "Les fonctions `list` et `tuple` permettent de convertir une liste en\n",
        "tuple et inversement."
      ],
      "id": "19c110f7-3cbd-43c1-9412-74783db6cf01"
    },
    {
      "cell_type": "code",
      "execution_count": 29,
      "metadata": {},
      "outputs": [],
      "source": [
        "tuple([\"do\", \"re\", \"mi\"])"
      ],
      "id": "7693a1c8"
    },
    {
      "cell_type": "code",
      "execution_count": 30,
      "metadata": {},
      "outputs": [],
      "source": [
        "list((1, 2, 3, 4, 5))"
      ],
      "id": "efa82f32"
    },
    {
      "cell_type": "markdown",
      "metadata": {},
      "source": [
        "Ces fonctions ont d’autres usages en pratique, que nous verrons en\n",
        "exercice.\n",
        "\n",
        "## Exercices\n",
        "\n",
        "### Questions de compréhension\n",
        "\n",
        "-   Pourquoi dit-on des listes et des tuples que ce sont des conteneurs\n",
        "    ?\n",
        "-   Quel est le point commun entre les listes et les chaînes de\n",
        "    caractères ?\n",
        "-   Comment est enregistré l’ordre des éléments dans une séquence en\n",
        "    Python ?\n",
        "-   Quelle est la différence fondamentale entre une liste et un tuple ?\n",
        "-   Dans quel cas aura-t-on plutôt intérêt à utiliser un tuple qu’une\n",
        "    liste ?\n",
        "-   Peut-on avoir des éléments de types différents (ex : `int` et\n",
        "    `string`) dans une même liste ? Dans un même tuple ?\n",
        "\n",
        "Si les réponses à ces questions ne sont pas encore claires, n’hésitez\n",
        "pas à revenir au tutoriel, ou bien à tester par vous-même dans une\n",
        "cellule.\n",
        "\n",
        "### Exercice\n",
        "\n",
        "Créez 4 listes portant les noms des 4 saisons, contenant chacune les\n",
        "noms des mois associés (les mois de changement de saison seront\n",
        "attribués à la saison précédente). Puis créez une liste `saisons`\n",
        "contenant les 4 listes. Essayez de prévoir ce que vont renvoyer (type de\n",
        "l’objet, nombre d’éléments et contenu) les instructions suivantes, puis\n",
        "vérifiez le.\n",
        "\n",
        "-   `saisons`\n",
        "-   `saisons[0]`\n",
        "-   `saisons[0][0]`\n",
        "-   `saisons[1][-1]`\n",
        "-   `saisons[2][:3]`\n",
        "-   `saisons[1][1:2] + saisons[-1][3:]`\n",
        "-   `saisons[2:]`\n",
        "-   `saisons + saisons[0]`\n",
        "-   `saisons[3][::]`\n",
        "-   `saisons[3][::-1]`\n",
        "-   `saisons * 3`"
      ],
      "id": "3a552955-0e3d-45a2-acc8-b47dbe4b28bb"
    },
    {
      "cell_type": "code",
      "execution_count": 31,
      "metadata": {},
      "outputs": [],
      "source": [
        "# Testez votre réponse dans cette cellule"
      ],
      "id": "ff68c40f"
    },
    {
      "cell_type": "code",
      "execution_count": 32,
      "metadata": {},
      "outputs": [],
      "source": [
        "# Exécuter cette cellule pour afficher la solution\n",
        "%load -r 3-41 solutions.py"
      ],
      "id": "b6b69960"
    },
    {
      "cell_type": "markdown",
      "metadata": {},
      "source": [
        "### Exercice\n",
        "\n",
        "En ajoutant, supprimant et modifiant des éléments, nettoyez la liste\n",
        "suivante pour qu’elle contienne les notes de musique “do re mi fa sol la\n",
        "si” dans le bon ordre.\n",
        "\n",
        "`l = [\"do\", \"re\", \"re\", \"re\", \"fa\", \"sol\", \"solsi\", \"la\"]`"
      ],
      "id": "c973053a-9b30-4fb9-93be-07cac3ac81d1"
    },
    {
      "cell_type": "code",
      "execution_count": 33,
      "metadata": {},
      "outputs": [],
      "source": [
        "# Testez votre réponse dans cette cellule"
      ],
      "id": "da8d0f3f"
    },
    {
      "cell_type": "code",
      "execution_count": 34,
      "metadata": {},
      "outputs": [],
      "source": [
        "# Exécuter cette cellule pour afficher la solution\n",
        "%load -r 45-56 solutions.py"
      ],
      "id": "f5d1410b"
    },
    {
      "cell_type": "markdown",
      "metadata": {},
      "source": [
        "### Exercice\n",
        "\n",
        "Proposez deux méthodes pour inverser la liste\n",
        "`[\"une\", \"liste\", \"quelconque\"]`. Quelle est la différence majeure entre\n",
        "les deux méthodes ?"
      ],
      "id": "5721aca0-3d33-4e15-9049-de01bf794068"
    },
    {
      "cell_type": "code",
      "execution_count": 35,
      "metadata": {},
      "outputs": [],
      "source": [
        "# Testez votre réponse dans cette cellule"
      ],
      "id": "f1d00671"
    },
    {
      "cell_type": "code",
      "execution_count": 36,
      "metadata": {},
      "outputs": [],
      "source": [
        "# Exécuter cette cellule pour afficher la solution\n",
        "%load -r 60-75 solutions.py"
      ],
      "id": "0b8366a8"
    },
    {
      "cell_type": "markdown",
      "metadata": {},
      "source": [
        "### Exercice\n",
        "\n",
        "Nous avons vu que l’instruction `ma_liste.pop(i)` supprimait le i-ème\n",
        "élément de la liste `ma_liste`. A l’aide de la documentation Python ou\n",
        "d’une recherche sur Google, déterminez le comportement par défaut de\n",
        "cette méthode, c’est à dire ce qu’il se passe lorsqu’on ne donne aucun\n",
        "paramètre à la fonction `pop`. Vérifiez que vous observez bien ce\n",
        "comportement à l’aide d’un exemple de votre choix."
      ],
      "id": "45b5f052-f374-4cb6-a972-c5fd2749747f"
    },
    {
      "cell_type": "code",
      "execution_count": 37,
      "metadata": {},
      "outputs": [],
      "source": [
        "# Testez votre réponse dans cette cellule"
      ],
      "id": "93f05e0f"
    },
    {
      "cell_type": "code",
      "execution_count": 38,
      "metadata": {},
      "outputs": [],
      "source": [
        "# Exécuter cette cellule pour afficher la solution\n",
        "%load -r 79-81 solutions.py"
      ],
      "id": "51c656cb"
    },
    {
      "cell_type": "markdown",
      "metadata": {},
      "source": [
        "### Exercice\n",
        "\n",
        "Il existe beaucoup d’autres méthodes *built-in* pour les listes que\n",
        "celles que nous avons déjà vues. Par exemple : `min` et `max`. Vérifiez\n",
        "leur comportement : - sur une liste composée uniquement d’objets\n",
        "numériques (`int` et `float`) ; - sur une liste composée uniquement de\n",
        "chaînes de caractères ; - sur une liste composée d’un mélange d’objets\n",
        "numériques et textuels."
      ],
      "id": "2fc7c80b-138d-48e6-aaf0-5ab0586f9efe"
    },
    {
      "cell_type": "code",
      "execution_count": 39,
      "metadata": {},
      "outputs": [],
      "source": [
        "# Testez votre réponse dans cette cellule"
      ],
      "id": "b0dab264"
    },
    {
      "cell_type": "code",
      "execution_count": 40,
      "metadata": {},
      "outputs": [],
      "source": [
        "# Exécuter cette cellule pour afficher la solution\n",
        "%load -r 85-91 solutions.py"
      ],
      "id": "93fc6305"
    },
    {
      "cell_type": "markdown",
      "metadata": {},
      "source": [
        "### Exercice\n",
        "\n",
        "Essayer de créer une liste vide. Vérifiez son type. Quel intérêt cela\n",
        "pourrait-il avoir ?"
      ],
      "id": "242d05b1-f8f1-42b0-8f1e-6134335c7a54"
    },
    {
      "cell_type": "code",
      "execution_count": 41,
      "metadata": {},
      "outputs": [],
      "source": [
        "# Testez votre réponse dans cette cellule"
      ],
      "id": "f4c68c88"
    },
    {
      "cell_type": "code",
      "execution_count": 42,
      "metadata": {},
      "outputs": [],
      "source": [
        "# Exécuter cette cellule pour afficher la solution\n",
        "%load -r 95-107 solutions.py"
      ],
      "id": "50d0ce23"
    },
    {
      "cell_type": "markdown",
      "metadata": {},
      "source": [
        "### Exercice\n",
        "\n",
        "Dans le tutoriel, nous avons vu les fonctions `list` et `tuple` qui\n",
        "permettent de passer d’un type à l’autre. En réalité, le fonctionnement\n",
        "de ces fonctions est plus subtil : le code `list(mon_objet)` renvoie la\n",
        "“version liste” de cet objet, de la même manière par exemple que\n",
        "`str(3)` renvoie `'3'`, c’est à dire la version *string* de l’entier\n",
        "`3`.\n",
        "\n",
        "A l’aide de la fonction `list`, trouver les “versions liste” des objets\n",
        "suivants : - le tuple `a = (1, 2, 3)` ; - la chaîne de caractères\n",
        "`b = \"bonjour\"` ; - l’entier `c = 5`"
      ],
      "id": "55e639d5-0a7c-42dd-871c-d0752e11175a"
    },
    {
      "cell_type": "code",
      "execution_count": 43,
      "metadata": {},
      "outputs": [],
      "source": [
        "# Testez votre réponse dans cette cellule"
      ],
      "id": "098c0bb6"
    },
    {
      "cell_type": "code",
      "execution_count": 44,
      "metadata": {},
      "outputs": [],
      "source": [
        "# Exécuter cette cellule pour afficher la solution\n",
        "%load -r 111-125 solutions.py"
      ],
      "id": "11e6972c"
    },
    {
      "cell_type": "markdown",
      "metadata": {},
      "source": [
        "### Exercice\n",
        "\n",
        "Nous avons vu que les tuples avaient la particularité d’être\n",
        "non-modifiables. Mais est-ce que cette propriété se transfère de manière\n",
        "récursive ? Par exemple, est-ce qu’une liste contenue dans un tuple\n",
        "est-elle même non-modifiable ? Vérifiez à l’aide d’un exemple de votre\n",
        "choix."
      ],
      "id": "c6cef0aa-1064-471d-b5a3-39480a07fed1"
    },
    {
      "cell_type": "code",
      "execution_count": 45,
      "metadata": {},
      "outputs": [],
      "source": [
        "# Testez votre réponse dans cette cellule"
      ],
      "id": "94b5836e"
    },
    {
      "cell_type": "code",
      "execution_count": 46,
      "metadata": {},
      "outputs": [],
      "source": [
        "# Exécuter cette cellule pour afficher la solution\n",
        "%load -r 129-134 solutions.py"
      ],
      "id": "8aa12707"
    },
    {
      "cell_type": "markdown",
      "metadata": {},
      "source": [
        "### Exercice\n",
        "\n",
        "Lisez la partie concernant l’agrégation et la dissociation de séquences\n",
        "dans la [documentation\n",
        "Python](https://docs.python.org/fr/3/tutorial/datastructures.html#tuples-and-sequences).\n",
        "La dissociation est une propriété souvent utilisée en pratique. Vérifiez\n",
        "qu’elle fonctionne sur les différents objets séquentiels que nous avons\n",
        "vus jusqu’à maintenant (chaînes de caractères, listes et tuples)."
      ],
      "id": "3800383a-decc-4339-8e34-924c4f02fe9f"
    },
    {
      "cell_type": "code",
      "execution_count": 47,
      "metadata": {},
      "outputs": [],
      "source": [
        "# Testez votre réponse dans cette cellule"
      ],
      "id": "fb4f3322"
    },
    {
      "cell_type": "code",
      "execution_count": 48,
      "metadata": {},
      "outputs": [],
      "source": [
        "# Exécuter cette cellule pour afficher la solution\n",
        "%load -r 138-145 solutions.py"
      ],
      "id": "5c7bab4b"
    }
  ],
  "nbformat": 4,
  "nbformat_minor": 5,
  "metadata": {
    "kernelspec": {
      "name": "python3",
      "display_name": "Python 3 (ipykernel)",
      "language": "python"
    },
    "language_info": {
      "name": "python",
      "codemirror_mode": {
        "name": "ipython",
        "version": "3"
      },
      "file_extension": ".py",
      "mimetype": "text/x-python",
      "nbconvert_exporter": "python",
      "pygments_lexer": "ipython3",
      "version": "3.10.12"
    }
  }
}