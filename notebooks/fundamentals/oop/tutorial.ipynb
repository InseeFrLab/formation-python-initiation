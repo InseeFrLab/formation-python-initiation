{
  "cells": [
    {
      "cell_type": "markdown",
      "metadata": {},
      "source": [
        "# Notions de programmation orientée objet\n",
        "\n",
        "Un rapide tour dans le monde des objets, leurs attributs et leurs\n",
        "méthodes\n",
        "\n",
        "Python est un langage dit “multi-paradigmes”, c’est à dire qu’il admet\n",
        "plusieurs manières de coder et de concevoir ses programmes. L’une\n",
        "d’entre elle est la programmation orientée objet (POO). La POO est un\n",
        "paradigme puissant, mais fait intervenir des concepts assez complexes\n",
        "(polymorphisme, héritage, etc.). Fort heureusement pour nous, Python\n",
        "n’impose pas de coder en POO. Cela étant, le fonctionnement interne de\n",
        "Python est fortement teinté de POO, et la plupart des *packages* les\n",
        "plus utilisés reposent à des degrés divers sur les objets. Nous allons\n",
        "donc étudier dans ce tutoriel les bases de la POO, afin de pouvoir être\n",
        "autonomes lorsque son usage est nécessaire.\n",
        "\n",
        "## La programmation orientée objet\n",
        "\n",
        "Vous avez peut-être déjà entendu que Python était un langage de\n",
        "“programmation orientée objet”. La POO est un paradigme de programmation\n",
        "qui permet de structurer les programmes autour d’une abstraction,\n",
        "l’**objet**, qui contient des **attributs** (caractéristiques de\n",
        "l’objet) et des **méthodes** (fonctions propres à l’objet) qui agissent\n",
        "sur lui-même. Afin d’illustrer cette définition un peu abstraite , on\n",
        "peut prendre l’exemple\n",
        "([source](https://python.sdv.univ-paris-diderot.fr/19_avoir_la_classe_avec_les_objets/))\n",
        "d’un objet “citron” qui contient les attributs “saveur” et “couleur”, et\n",
        "une méthode “presser” qui permet d’extraire son jus.\n",
        "\n",
        "## “Tout est un objet”\n",
        "\n",
        "**En Python, tout est un objet** (au sens de la POO). Regardons ce que\n",
        "cela signifie en récupérant le type de différents objets que nous avons\n",
        "vus dans les précédents tutoriels."
      ],
      "id": "236d344e-90fc-4dd5-8d40-b1c28009025d"
    },
    {
      "cell_type": "code",
      "execution_count": 1,
      "metadata": {},
      "outputs": [],
      "source": [
        "print(type(1))\n",
        "print(type(\"bonjour\"))\n",
        "print(type([]))\n",
        "print(type(()))\n",
        "print(type({}))\n",
        "\n",
        "def f(x):\n",
        "    print(x)\n",
        "          \n",
        "print(type(f))"
      ],
      "id": "fe7bc23a"
    },
    {
      "cell_type": "markdown",
      "metadata": {},
      "source": [
        "Ces éléments sont tous de type différent, mais ils ont un point commun :\n",
        "le terme `class`. De même que l’instruction `def` définit une fonction,\n",
        "l’instruction `class` définit une classe d’objets Python. Ainsi, chacun\n",
        "des objets utilisables en Python a une classe qui définit l’objet, ses\n",
        "attributs et ses méthodes.\n",
        "\n",
        "## Définir ses propres objets\n",
        "\n",
        "Regardons comment on peut utiliser l’instruction `class` pour définir\n",
        "notre objet “citron”."
      ],
      "id": "6153f392-c18f-4efe-b30b-d5b1c9387116"
    },
    {
      "cell_type": "code",
      "execution_count": 2,
      "metadata": {},
      "outputs": [],
      "source": [
        "class Citron:\n",
        "\n",
        "    def __init__(self, couleur, qte_jus):\n",
        "        self.saveur = \"acide\"\n",
        "        self.couleur = couleur\n",
        "        self.jus = qte_jus\n",
        "        \n",
        "    def recup_qte_jus(self):\n",
        "        print(\"Il reste \" + str(self.jus) + \" mL de jus dans le citron.\")\n",
        "        \n",
        "    def extraire_jus(self, quantite):\n",
        "        if quantite > self.jus:\n",
        "            print(\"Il n'y a pas assez de jus dans le citron pour la quantité demandée.\")\n",
        "        else:\n",
        "            self.jus = max(0, self.jus - quantite)  # évite toute valeur négative de `jus`"
      ],
      "id": "9175589f"
    },
    {
      "cell_type": "markdown",
      "metadata": {},
      "source": [
        "Analysons la syntaxe de construction d’une classe d’objets : -\n",
        "l’instruction `class` définit la **classe d’objets**. Différents objets\n",
        "pourront être créés selon le modèle défini par cette classe. Par\n",
        "convention, le nom de la classe doit commencer par une majuscule. - la\n",
        "classe spécifie un certains nombres de fonctions. Dans ce contexte\n",
        "particulier, on appelle ces fonctions “**méthodes**” : ce sont des\n",
        "fonctions spécifiques à la classe d’objets définie. - une première\n",
        "méthode bien spécifique, nommée `__init__`, est appelée le\n",
        "**constructeur**. Elle permet de définir les **attributs** attachés à\n",
        "cette classe d’objets. Il est possible de passer des paramètres à la\n",
        "fonction (comme `couleur` et `qte_jus`) pour définir des attributs\n",
        "propres à une **instance** de l’objet (plus de détails sur cette notion\n",
        "dans la section suivante). - le constructeur a un paramètre obligatoire\n",
        ": `self`. C’est une référence aux **instances** qui vont être créées à\n",
        "partir de cette classe. Notons la syntaxe qui définit un attribut :\n",
        "`self.attribut = valeur`. - les autres méthodes sont définies par\n",
        "l’utilisateur. Elles prennent également le `self` en paramètre, ce qui\n",
        "leur permet d’effectuer des opérations sur / à partir des attributs.\n",
        "Comme ce sont des fonctions, elles peuvent également admettre d’autres\n",
        "paramètres. Ainsi, la fonction `extraire_jus` prend un paramètre\n",
        "`quantite` qui définit quelle quantité de jus on extrait du citron\n",
        "lorsqu’on le presse.\n",
        "\n",
        "## La classe et ses instances\n",
        "\n",
        "La **classe** peut être vue comme la **recette qui permet de créer un\n",
        "objet** : elle définit les attributs et les méthodes que possèderont\n",
        "tous les objets définis à partir de cette classe. Définir une classe\n",
        "comme ci-dessus revient simplement à mettre cette recette dans\n",
        "l’environnement Python. Pour créer un objet selon cette classe, il faut\n",
        "l’**instancier**."
      ],
      "id": "0d8d146a-eea7-40ca-bfeb-7069cb29097f"
    },
    {
      "cell_type": "code",
      "execution_count": 3,
      "metadata": {},
      "outputs": [],
      "source": [
        "citron1 = Citron(couleur=\"jaune\", qte_jus=45)\n",
        "citron2 = Citron(couleur=\"vert\", qte_jus=32)\n",
        "\n",
        "print(type(citron1))\n",
        "print(type(citron2))"
      ],
      "id": "57e37fcc"
    },
    {
      "cell_type": "markdown",
      "metadata": {},
      "source": [
        "On a ici créé deux instances de la classe `Citron`. Ces deux instances\n",
        "sont autonomes : Python les voit comme deux objets bien distincts. Ils\n",
        "ont cependant été créés à partir de la même classe et ont donc le même\n",
        "type.\n",
        "\n",
        "Cette distinction entre la classe et ses instances permet de mieux\n",
        "comprendre la signification du paramètre `self`. Il s’agit d’une\n",
        "référence aux instances qui vont être créées selon la classe, qui permet\n",
        "de spécifier leurs attributs et leurs méthodes. Lorsqu’on crée une\n",
        "instance donnée, celle-ci devient en quelque sorte le `self`.\n",
        "\n",
        "## Attributs\n",
        "\n",
        "Un attribut est une **variable associée à un objet**. Un attribut peut\n",
        "contenir n’importe quel objet Python.\n",
        "\n",
        "### Accéder aux attributs\n",
        "\n",
        "Une fois que l’objet est instancié, il est possible d’accéder à ses\n",
        "attributs. La syntaxe est simple : `instance.attribut`."
      ],
      "id": "b0955fe0-5d19-4e24-995d-566291cdafa5"
    },
    {
      "cell_type": "code",
      "execution_count": 4,
      "metadata": {},
      "outputs": [],
      "source": [
        "print(citron1.couleur)\n",
        "print(citron2.couleur)\n",
        "print(citron1.jus)\n",
        "print(citron2.jus)"
      ],
      "id": "28787140"
    },
    {
      "cell_type": "markdown",
      "metadata": {},
      "source": [
        "On voit bien que les deux instances sont **autonomes** : bien qu’elles\n",
        "soient du même type, leurs attributs diffèrent.\n",
        "\n",
        "### Modifier un attribut\n",
        "\n",
        "Modifier un attribut d’une instance est très simple, la syntaxe est :\n",
        "`instance.attribut = nouvelle_valeur`."
      ],
      "id": "9d8788af-e53e-4131-b42a-f324b4fcb374"
    },
    {
      "cell_type": "code",
      "execution_count": 5,
      "metadata": {},
      "outputs": [],
      "source": [
        "citron2.couleur = \"rouge\"\n",
        "print(citron2.couleur)"
      ],
      "id": "bce2d7ee"
    },
    {
      "cell_type": "markdown",
      "metadata": {},
      "source": [
        "Il est également possible d’ajouter un attribut selon la même logique :\n",
        "`instance.nouvel_attribut = valeur`. Cependant, ce n’est pas une bonne\n",
        "pratique de programmation, la classe servant précisément à définir les\n",
        "attributs que peuvent admettre les objets d’une classe donnée. On\n",
        "préférera donc généralement définir les attributs au sein de la classe\n",
        "plutôt qu’en dehors.\n",
        "\n",
        "### Attributs de classe et attributs d’instance\n",
        "\n",
        "Les deux instances que nous avons créées permettent d’illustrer les\n",
        "différents types d’attributs : - les **attributs de classe**. Ce sont\n",
        "les attributs qui ont la même valeur pour toute instance créée selon\n",
        "cette classe. Ici, c’est l’attribut `saveur` : tous les citrons sont\n",
        "acides, il n’y a donc pas lieu de permettre de modifier ce paramètre\n",
        "lors de l’instanciation. En toute rigueur, on aurait donc même pu\n",
        "définir cet attribut hors du constructeur. - les **attributs\n",
        "d’instance**. Ce sont les attributs dont la valeur peut varier entre les\n",
        "différentes instances créées selon une même classe. Ici, ce sont les\n",
        "attributs `couleur` et `jus` : il existe des citrons de différentes\n",
        "couleurs, et des citrons plus ou moins gros, qui auront donc des\n",
        "quantités de jus différentes. C’est donc à l’utilisateur de définir ces\n",
        "attributs lors de l’instanciation.\n",
        "\n",
        "## Méthodes\n",
        "\n",
        "Une méthode est une **fonction associée à un objet**. Elle peut utiliser\n",
        "ses attributs, les modifier, et faire intervenir d’autres méthodes de\n",
        "l’objet.\n",
        "\n",
        "### Appeler une méthode\n",
        "\n",
        "La syntaxe pour appeler une méthode d’un objet instancié est la suivante\n",
        ": `instance.methode(parametres)`."
      ],
      "id": "a3039c7e-d2ad-438a-aed4-4a84baf7c456"
    },
    {
      "cell_type": "code",
      "execution_count": 6,
      "metadata": {},
      "outputs": [],
      "source": [
        "citron1.recup_qte_jus()"
      ],
      "id": "67827223"
    },
    {
      "cell_type": "markdown",
      "metadata": {},
      "source": [
        "On peut faire deux remarques sur cette syntaxe. La première est qu’**une\n",
        "méthode est une fonction *attachée* à une instance d’un objet**.\n",
        "Contrairement aux fonctions définies via l’instruction `def`, les\n",
        "méthodes n’ont pas d’existence propre."
      ],
      "id": "e7fea02e-bf43-46b2-8f24-c7e6e9098eca"
    },
    {
      "cell_type": "code",
      "execution_count": 7,
      "metadata": {},
      "outputs": [],
      "source": [
        "recup_qte_jus()"
      ],
      "id": "715e14aa"
    },
    {
      "cell_type": "markdown",
      "metadata": {},
      "source": [
        "La seconde remarque est qu’**on ne spécifie plus le paramètre `self`\n",
        "lorsqu’on manipule une instance**. L’instance est devenue le `self` (ou\n",
        "plutôt *un* self) elle-même. Le lien entre la méthode et son instance\n",
        "est déjà fait, puisqu’on ne peut pas utiliser la méthode sans appeler\n",
        "l’instance auparavant.\n",
        "\n",
        "### Agir sur les attributs\n",
        "\n",
        "Tout l’intérêt des méthodes est qu’elles peuvent accéder aux attributs,\n",
        "et ainsi réaliser des opérations à partir de ceux-ci, mais également les\n",
        "modifier. Reprenons notre exemple pour illustrer cette possibilité."
      ],
      "id": "194c5def-ce27-482c-b4cf-0c9e33235102"
    },
    {
      "cell_type": "code",
      "execution_count": 8,
      "metadata": {},
      "outputs": [],
      "source": [
        "citron1 = Citron(couleur=\"jaune\", qte_jus=45)\n",
        "\n",
        "citron1.recup_qte_jus()\n",
        "citron1.extraire_jus(12)\n",
        "citron1.recup_qte_jus()"
      ],
      "id": "091c3ef0"
    },
    {
      "cell_type": "markdown",
      "metadata": {},
      "source": [
        "La méthode `recup_qte_jus` permet simplement d’afficher la valeur d’un\n",
        "attribut de manière formattée. La méthode `extraire_jus` en revanche\n",
        "modifie durablement la valeur de l’attribut `jus`, ce que montre le\n",
        "second appel à `recup_qte_jus`.\n",
        "\n",
        "## Quand utilise-t-on la POO ?\n",
        "\n",
        "L’exemple précédent est intéressant car il illustre à la fois un\n",
        "avantage et un inconvénient de la POO.\n",
        "\n",
        "Le fait que les objets possèdent des attributs permet de garder en\n",
        "mémoire **l’état d’une ressource** – dans notre exemple, la quantité de\n",
        "jus contenu dans un objet de classe `Citron` donné. Pour prendre des\n",
        "exemples plus réalistes, cette propriété est intéressante et utilisée\n",
        "dans plusieurs cas : - l’entraînement d’un modèle de machine-learning.\n",
        "Il est fréquent d’entraîner un modèle une première fois, et de vouloir\n",
        "ensuite continuer l’entraînement plus longtemps, ou bien avec d’autres\n",
        "données. Sauvegarder l’état dans une instance de la classe `Modele`\n",
        "permet de faire cela. C’est pourquoi la plupart des *packages* de\n",
        "machine-learning en Python sont fondés sur de la POO. - le\n",
        "fonctionnement en continu d’une application web. Une telle application\n",
        "doit garder des choses en mémoire pour fournir à l’utilisateur une\n",
        "expérience fluide : le fait que l’utilisateur se soit connecté, son\n",
        "historique, etc. Là encore, la plupart des *frameworks* web (`Django`,\n",
        "`Flask`..) reposent sur de la POO.\n",
        "\n",
        "Dans le même temps, le fait d’utiliser des objets qui gardent en mémoire\n",
        "un état peut **limiter la reproductibilité des analyses**. Pour\n",
        "illustrer cela, revenons à l’exemple du tutoriel : exécutez plusieurs\n",
        "fois d’affilée la cellule suivante."
      ],
      "id": "adbe3986-4f7d-4aa2-902a-22da89bfbbee"
    },
    {
      "cell_type": "code",
      "execution_count": 9,
      "metadata": {},
      "outputs": [],
      "source": [
        "citron1.recup_qte_jus()\n",
        "citron1.extraire_jus(12)\n",
        "citron1.recup_qte_jus()"
      ],
      "id": "3eed1a6c"
    },
    {
      "cell_type": "markdown",
      "metadata": {},
      "source": [
        "Les trois exécutions donnent des résultats différents, alors que le code\n",
        "exécuté est strictement le même. Cela illustre bien le problème de\n",
        "reproductibilité : lorsqu’on utilise la POO, il faut bien faire\n",
        "attention à l’état des objets qui est conservé en mémoire, au risque de\n",
        "ne pas tomber sur les mêmes résultats lorsqu’on réplique une même\n",
        "analyse.\n",
        "\n",
        "## Exercices\n",
        "\n",
        "### Questions de compréhension\n",
        "\n",
        "-   1/ “En Python, tout est un objet” : qu’est-ce que cette phrase\n",
        "    signifie ?\n",
        "-   2/ A quoi sert l’instruction `class` ?\n",
        "-   3/ A quoi sert le constructeur `__init__` ?\n",
        "-   4/ A quoi sert le `self` ?\n",
        "-   5/ Quelle est la différence entre une classe et une instance ?\n",
        "-   6/ Qu’est-ce qu’un attribut ?\n",
        "-   7/ Quelle est la différence entre une méthode et une fonction ?\n",
        "-   8/ A quoi voit-on la différence entre un attribut et une méthode\n",
        "    lorsqu’on les appelle ?\n",
        "-   9/ Peut-on modifier un attribut avec une méthode ? Peut-on modifier\n",
        "    un attribut en dehors d’une méthode ?\n",
        "-   10/ Quand utilise-t-on généralement la POO ?"
      ],
      "id": "4ba999f3-e4e5-4180-979c-426057c0d423"
    },
    {
      "cell_type": "code",
      "execution_count": 10,
      "metadata": {},
      "outputs": [],
      "source": [
        "# Testez votre réponse dans cette cellule"
      ],
      "id": "1613b5a8"
    },
    {
      "cell_type": "code",
      "execution_count": 11,
      "metadata": {},
      "outputs": [],
      "source": [
        "# Exécuter cette cellule pour afficher la solution\n",
        "%load -r 3-33 solutions.py"
      ],
      "id": "0a7e335d"
    },
    {
      "cell_type": "markdown",
      "metadata": {},
      "source": [
        "### De la masse au jus\n",
        "\n",
        "Admettons que le jus contenu dans un citron soit une fonction\n",
        "proportionnelle de sa masse, défini de la manière suivante :\n",
        "$jus = \\frac {masse} {4}$ où la masse est en grammes et le jus en mL.\n",
        "\n",
        "Modifiez la classe `Citron`, reproduite dans la cellule suivante, de\n",
        "telle sorte que : - lors de l’instanciation, l’utilisateur ne définit\n",
        "plus la quantité de jus, mais la masse du citron - l’attribut `jus` est\n",
        "calculé selon la formule ci-dessus - rajouter une méthode qui affiche\n",
        "“La masse du citron est x grammes.”\n",
        "\n",
        "Instanciez ensuite un nouveau citron est vérifiez que tout fonctionne\n",
        "comme prévu."
      ],
      "id": "d0c420b2-c5c2-4c33-9a26-27a87f2fab6d"
    },
    {
      "cell_type": "code",
      "execution_count": 12,
      "metadata": {},
      "outputs": [],
      "source": [
        "class Citron:\n",
        "\n",
        "    def __init__(self, couleur, qte_jus):\n",
        "        self.saveur = \"acide\"\n",
        "        self.couleur = couleur\n",
        "        self.jus = qte_jus\n",
        "        \n",
        "    def recup_qte_jus(self):\n",
        "        print(\"Il reste \" + str(self.jus) + \" mL de jus dans le citron.\")\n",
        "        \n",
        "    def extraire_jus(self, quantite):\n",
        "        if quantite > self.jus:\n",
        "            print(\"Il n'y a pas assez de jus dans le citron pour la quantité demandée.\")\n",
        "        else:\n",
        "            self.jus = max(0, self.jus - quantite)  # évite toute valeur négative de `jus`"
      ],
      "id": "9b106f77"
    },
    {
      "cell_type": "code",
      "execution_count": 13,
      "metadata": {},
      "outputs": [],
      "source": [
        "# Testez votre réponse dans cette cellule"
      ],
      "id": "c616b429"
    },
    {
      "cell_type": "code",
      "execution_count": 14,
      "metadata": {},
      "outputs": [],
      "source": [
        "# Exécuter cette cellule pour afficher la solution\n",
        "%load -r 37-60 solutions.py"
      ],
      "id": "258b2fdc"
    },
    {
      "cell_type": "markdown",
      "metadata": {},
      "source": [
        "### Comptes bancaires\n",
        "\n",
        "Exercice librement inspiré de :\n",
        "<https://github.com/Pierian-Data/Complete-Python-3-Bootcamp>\n",
        "\n",
        "Nous avons vu que la POO était particulièrement intéressante lorsque\n",
        "l’on souhaite manipuler des objets qui gardent l’état d’une ressource.\n",
        "C’est par exemple le cas d’un compte bancaire, qui garde un solde et\n",
        "permet ou non certaines opérations en fonction de ce solde.\n",
        "\n",
        "Implémenter une classe `Compte` avec : - deux attributs : `titulaire`\n",
        "(nom du client) et `solde` (solde en euros du compte) - une méthode\n",
        "`affiche_solde` qui affiche : “Le solde du compte de nom_client est x\n",
        "euros.” - une méthode `depot` qui admet un paramètre `montant`.\n",
        "Lorsqu’un dépôt est effectué, le solde du compte est incrémenté du\n",
        "montant du dépôt. - une méthode `retrait` qui admet un paramètre\n",
        "`montant`. Lorsqu’un retrait est effectué : - si le montant est\n",
        "inférieur au solde : le solde est décrémenté du montant, est on affiche\n",
        "“Retrait accepté.”. - si le montant est supérieur au solde : on affiche\n",
        "“Retrait refusé : fonds insuffisants.” et le solde est inchangé - une\n",
        "méthode `transfert` qui admet un paramètre `montant` et un paramètre\n",
        "`destinataire` qui admet une autre instance de la classe `Compte`\n",
        "(i.e. un autre client). Par exemple,\n",
        "`client1.transfert(destinataire=client2, montant=1000)` a pour effet de\n",
        ": - si le montant est inférieur au solde de client1 : le solde de\n",
        "client1 est décrémenté du montant, le solde de client2 est incrémenté du\n",
        "montant. - si le montant est supérieur au solde de client1 : on affiche\n",
        "“Transfert refusé : fonds insuffisants.” et les soldes des deux clients\n",
        "restent inchangés.\n",
        "\n",
        "Créer deux clients et tester que les différentes fonctionnalités à\n",
        "implémenter marchent comme prévu."
      ],
      "id": "be1ca61a-ba79-4094-93b3-9f41480bed97"
    },
    {
      "cell_type": "code",
      "execution_count": 15,
      "metadata": {},
      "outputs": [],
      "source": [
        "# Testez votre réponse dans cette cellule"
      ],
      "id": "c530d11b"
    },
    {
      "cell_type": "code",
      "execution_count": 16,
      "metadata": {},
      "outputs": [],
      "source": [
        "# Exécuter cette cellule pour afficher la solution\n",
        "%load -r 64-119 solutions.py"
      ],
      "id": "008ec559"
    }
  ],
  "nbformat": 4,
  "nbformat_minor": 5,
  "metadata": {
    "kernelspec": {
      "name": "python3",
      "display_name": "Python 3 (ipykernel)",
      "language": "python"
    },
    "language_info": {
      "name": "python",
      "codemirror_mode": {
        "name": "ipython",
        "version": "3"
      },
      "file_extension": ".py",
      "mimetype": "text/x-python",
      "nbconvert_exporter": "python",
      "pygments_lexer": "ipython3",
      "version": "3.10.12"
    }
  }
}