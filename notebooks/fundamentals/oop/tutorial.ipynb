{
 "cells": [
  {
   "cell_type": "raw",
   "id": "48412fec",
   "metadata": {},
   "source": [
    "---\n",
    "title: \"Notions de programmation orientée objet\"\n",
    "abstract: \"Un rapide tour dans le monde des objets, leurs attributs et leurs méthodes\"\n",
    "---"
   ]
  },
  {
   "cell_type": "markdown",
   "id": "c3f8c0f3",
   "metadata": {},
   "source": [
    "Python est un langage dit \"multi-paradigmes\", c'est à dire qu'il admet plusieurs manières de coder et de concevoir ses programmes. L'une d'entre elle est la programmation orientée objet (POO). La POO est un paradigme puissant, mais fait intervenir des concepts assez complexes (polymorphisme, héritage, etc.). Fort heureusement pour nous, Python n'impose pas de coder en POO. Cela étant, le fonctionnement interne de Python est fortement teinté de POO, et la plupart des *packages* les plus utilisés reposent à des degrés divers sur les objets. Nous allons donc étudier dans ce tutoriel les bases de la POO, afin de pouvoir être autonomes lorsque son usage est nécessaire."
   ]
  },
  {
   "cell_type": "markdown",
   "id": "cd954722",
   "metadata": {},
   "source": [
    "## La programmation orientée objet"
   ]
  },
  {
   "cell_type": "markdown",
   "id": "c182d990",
   "metadata": {},
   "source": [
    "Vous avez peut-être déjà entendu que Python était un langage de \"programmation orientée objet\". La POO est un paradigme de programmation qui permet de structurer les programmes autour d'une abstraction, l'**objet**, qui contient des **attributs** (caractéristiques de l'objet) et des **méthodes** (fonctions propres à l'objet) qui agissent sur lui-même. Afin d'illustrer cette définition un peu abstraite , on peut prendre l'exemple ([source](https://python.sdv.univ-paris-diderot.fr/19_avoir_la_classe_avec_les_objets/)) d'un objet \"citron\" qui contient les attributs \"saveur\" et \"couleur\", et une méthode \"presser\" qui permet d'extraire son jus."
   ]
  },
  {
   "cell_type": "markdown",
   "id": "1d5fc4ac",
   "metadata": {},
   "source": [
    "## \"Tout est un objet\""
   ]
  },
  {
   "cell_type": "markdown",
   "id": "f36ab2dd",
   "metadata": {},
   "source": [
    "**En Python, tout est un objet** (au sens de la POO). Regardons ce que cela signifie en récupérant le type de différents objets que nous avons vus dans les précédents tutoriels."
   ]
  },
  {
   "cell_type": "code",
   "execution_count": null,
   "id": "ac12fcd4",
   "metadata": {},
   "outputs": [],
   "source": [
    "print(type(1))\n",
    "print(type(\"bonjour\"))\n",
    "print(type([]))\n",
    "print(type(()))\n",
    "print(type({}))\n",
    "\n",
    "def f(x):\n",
    "    print(x)\n",
    "          \n",
    "print(type(f))"
   ]
  },
  {
   "cell_type": "markdown",
   "id": "1b5051b8",
   "metadata": {},
   "source": [
    "Ces éléments sont tous de type différent, mais ils ont un point commun : le terme `class`. De même que l'instruction `def` définit une fonction, l'instruction `class` définit une classe d'objets Python. Ainsi, chacun des objets utilisables en Python a une classe qui définit l'objet, ses attributs et ses méthodes."
   ]
  },
  {
   "cell_type": "markdown",
   "id": "0e3245d0",
   "metadata": {},
   "source": [
    "## Définir ses propres objets"
   ]
  },
  {
   "cell_type": "markdown",
   "id": "e23213c7",
   "metadata": {},
   "source": [
    "Regardons comment on peut utiliser l'instruction `class` pour définir notre objet \"citron\"."
   ]
  },
  {
   "cell_type": "code",
   "execution_count": null,
   "id": "891c7286",
   "metadata": {},
   "outputs": [],
   "source": [
    "class Citron:\n",
    "\n",
    "    def __init__(self, couleur, qte_jus):\n",
    "        self.saveur = \"acide\"\n",
    "        self.couleur = couleur\n",
    "        self.jus = qte_jus\n",
    "        \n",
    "    def recup_qte_jus(self):\n",
    "        print(\"Il reste \" + str(self.jus) + \" mL de jus dans le citron.\")\n",
    "        \n",
    "    def extraire_jus(self, quantite):\n",
    "        if quantite > self.jus:\n",
    "            print(\"Il n'y a pas assez de jus dans le citron pour la quantité demandée.\")\n",
    "        else:\n",
    "            self.jus = max(0, self.jus - quantite)  # évite toute valeur négative de `jus`"
   ]
  },
  {
   "cell_type": "markdown",
   "id": "94c4f273",
   "metadata": {},
   "source": [
    "Analysons la syntaxe de construction d'une classe d'objets :\n",
    "- l'instruction `class` définit la **classe d'objets**. Différents objets pourront être créés selon le modèle défini par cette classe. Par convention, le nom de la classe doit commencer par une majuscule.\n",
    "- la classe spécifie un certains nombres de fonctions. Dans ce contexte particulier, on appelle ces fonctions \"**méthodes**\" : ce sont des fonctions spécifiques à la classe d'objets définie.\n",
    "- une première méthode bien spécifique, nommée `__init__`, est appelée le **constructeur**. Elle permet de définir les **attributs** attachés à cette classe d'objets. Il est possible de passer des paramètres à la fonction (comme `couleur` et `qte_jus`) pour définir des attributs propres à une **instance** de l'objet (plus de détails sur cette notion dans la section suivante).\n",
    "- le constructeur a un paramètre obligatoire : `self`. C'est une référence aux **instances** qui vont être créées à partir de cette classe. Notons la syntaxe qui définit un attribut : `self.attribut = valeur`.\n",
    "- les autres méthodes sont définies par l'utilisateur. Elles prennent également le `self` en paramètre, ce qui leur permet d'effectuer des opérations sur / à partir des attributs. Comme ce sont des fonctions, elles peuvent également admettre d'autres paramètres. Ainsi, la fonction `extraire_jus` prend un paramètre `quantite` qui définit quelle quantité de jus on extrait du citron lorsqu'on le presse."
   ]
  },
  {
   "cell_type": "markdown",
   "id": "9acc488b",
   "metadata": {},
   "source": [
    "## La classe et ses instances"
   ]
  },
  {
   "cell_type": "markdown",
   "id": "0ebcafdd",
   "metadata": {},
   "source": [
    "La **classe** peut être vue comme la **recette qui permet de créer un objet** : elle définit les attributs et les méthodes que possèderont tous les objets définis à partir de cette classe. Définir une classe comme ci-dessus revient simplement à mettre cette recette dans l'environnement Python. Pour créer un objet selon cette classe, il faut l'**instancier**."
   ]
  },
  {
   "cell_type": "code",
   "execution_count": null,
   "id": "a44f5394",
   "metadata": {},
   "outputs": [],
   "source": [
    "citron1 = Citron(couleur=\"jaune\", qte_jus=45)\n",
    "citron2 = Citron(couleur=\"vert\", qte_jus=32)\n",
    "\n",
    "print(type(citron1))\n",
    "print(type(citron2))"
   ]
  },
  {
   "cell_type": "markdown",
   "id": "7a08920e",
   "metadata": {},
   "source": [
    "On a ici créé deux instances de la classe `Citron`. Ces deux instances sont autonomes : Python les voit comme deux objets bien distincts. Ils ont cependant été créés à partir de la même classe et ont donc le même type.\n",
    "\n",
    "Cette distinction entre la classe et ses instances permet de mieux comprendre la signification du paramètre `self`. Il s'agit d'une référence aux instances qui vont être créées selon la classe, qui permet de spécifier leurs attributs et leurs méthodes. Lorsqu'on crée une instance donnée, celle-ci devient en quelque sorte le `self`."
   ]
  },
  {
   "cell_type": "markdown",
   "id": "079dd775",
   "metadata": {},
   "source": [
    "## Attributs"
   ]
  },
  {
   "cell_type": "markdown",
   "id": "a9461958",
   "metadata": {},
   "source": [
    "Un attribut est une **variable associée à un objet**. Un attribut peut contenir n'importe quel objet Python."
   ]
  },
  {
   "cell_type": "markdown",
   "id": "7cc2802f",
   "metadata": {},
   "source": [
    "### Accéder aux attributs"
   ]
  },
  {
   "cell_type": "markdown",
   "id": "4cc5c82d",
   "metadata": {},
   "source": [
    "Une fois que l'objet est instancié, il est possible d'accéder à ses attributs. La syntaxe est simple : `instance.attribut`."
   ]
  },
  {
   "cell_type": "code",
   "execution_count": null,
   "id": "58d2315f",
   "metadata": {},
   "outputs": [],
   "source": [
    "print(citron1.couleur)\n",
    "print(citron2.couleur)\n",
    "print(citron1.jus)\n",
    "print(citron2.jus)"
   ]
  },
  {
   "cell_type": "markdown",
   "id": "b0db8fdb",
   "metadata": {},
   "source": [
    "On voit bien que les deux instances sont **autonomes** : bien qu'elles soient du même type, leurs attributs diffèrent."
   ]
  },
  {
   "cell_type": "markdown",
   "id": "1abd067a",
   "metadata": {},
   "source": [
    "### Modifier un attribut"
   ]
  },
  {
   "cell_type": "markdown",
   "id": "cac6b167",
   "metadata": {},
   "source": [
    "Modifier un attribut d'une instance est très simple, la syntaxe est : `instance.attribut = nouvelle_valeur`."
   ]
  },
  {
   "cell_type": "code",
   "execution_count": null,
   "id": "43ae1794",
   "metadata": {},
   "outputs": [],
   "source": [
    "citron2.couleur = \"rouge\"\n",
    "print(citron2.couleur)"
   ]
  },
  {
   "cell_type": "markdown",
   "id": "39df68d2",
   "metadata": {},
   "source": [
    "Il est également possible d'ajouter un attribut selon la même logique : `instance.nouvel_attribut = valeur`. Cependant, ce n'est pas une bonne pratique de programmation, la classe servant précisément à définir les attributs que peuvent admettre les objets d'une classe donnée. On préférera donc généralement définir les attributs au sein de la classe plutôt qu'en dehors."
   ]
  },
  {
   "cell_type": "markdown",
   "id": "592d10dd",
   "metadata": {},
   "source": [
    "### Attributs de classe et attributs d'instance"
   ]
  },
  {
   "cell_type": "markdown",
   "id": "57221c39",
   "metadata": {},
   "source": [
    "Les deux instances que nous avons créées permettent d'illustrer les différents types d'attributs :\n",
    "- les **attributs de classe**. Ce sont les attributs qui ont la même valeur pour toute instance créée selon cette classe. Ici, c'est l'attribut `saveur` : tous les citrons sont acides, il n'y a donc pas lieu de permettre de modifier ce paramètre lors de l'instanciation. En toute rigueur, on aurait donc même pu définir cet attribut hors du constructeur.\n",
    "- les **attributs d'instance**. Ce sont les attributs dont la valeur peut varier entre les différentes instances créées selon une même classe. Ici, ce sont les attributs `couleur` et `jus` : il existe des citrons de différentes couleurs, et des citrons plus ou moins gros, qui auront donc des quantités de jus différentes. C'est donc à l'utilisateur de définir ces attributs lors de l'instanciation."
   ]
  },
  {
   "cell_type": "markdown",
   "id": "74701aea",
   "metadata": {},
   "source": [
    "## Méthodes"
   ]
  },
  {
   "cell_type": "markdown",
   "id": "2d02ee4a",
   "metadata": {},
   "source": [
    "Une méthode est une **fonction associée à un objet**. Elle peut utiliser ses attributs, les modifier, et faire intervenir d'autres méthodes de l'objet."
   ]
  },
  {
   "cell_type": "markdown",
   "id": "d3f56db6",
   "metadata": {},
   "source": [
    "### Appeler une méthode"
   ]
  },
  {
   "cell_type": "markdown",
   "id": "dec5589f",
   "metadata": {},
   "source": [
    "La syntaxe pour appeler une méthode d'un objet instancié est la suivante : `instance.methode(parametres)`."
   ]
  },
  {
   "cell_type": "code",
   "execution_count": null,
   "id": "d728ea10",
   "metadata": {},
   "outputs": [],
   "source": [
    "citron1.recup_qte_jus()"
   ]
  },
  {
   "cell_type": "markdown",
   "id": "1b15a203",
   "metadata": {},
   "source": [
    "On peut faire deux remarques sur cette syntaxe. La première est qu'**une méthode est une fonction *attachée* à une instance d'un objet**. Contrairement aux fonctions définies via l'instruction `def`, les méthodes n'ont pas d'existence propre."
   ]
  },
  {
   "cell_type": "code",
   "execution_count": null,
   "id": "e06ed53c",
   "metadata": {},
   "outputs": [],
   "source": [
    "recup_qte_jus()"
   ]
  },
  {
   "cell_type": "markdown",
   "id": "5a887d43",
   "metadata": {},
   "source": [
    "La seconde remarque est qu'**on ne spécifie plus le paramètre `self` lorsqu'on manipule une instance**. L'instance est devenue le `self` (ou plutôt *un* self) elle-même. Le lien entre la méthode et son instance est déjà fait, puisqu'on ne peut pas utiliser la méthode sans appeler l'instance auparavant."
   ]
  },
  {
   "cell_type": "markdown",
   "id": "14778ca9",
   "metadata": {},
   "source": [
    "### Agir sur les attributs"
   ]
  },
  {
   "cell_type": "markdown",
   "id": "3fa92210",
   "metadata": {},
   "source": [
    "Tout l'intérêt des méthodes est qu'elles peuvent accéder aux attributs, et ainsi réaliser des opérations à partir de ceux-ci, mais également les modifier. Reprenons notre exemple pour illustrer cette possibilité."
   ]
  },
  {
   "cell_type": "code",
   "execution_count": null,
   "id": "bfdd5f41",
   "metadata": {},
   "outputs": [],
   "source": [
    "citron1 = Citron(couleur=\"jaune\", qte_jus=45)\n",
    "\n",
    "citron1.recup_qte_jus()\n",
    "citron1.extraire_jus(12)\n",
    "citron1.recup_qte_jus()"
   ]
  },
  {
   "cell_type": "markdown",
   "id": "3c83dc04",
   "metadata": {},
   "source": [
    "La méthode `recup_qte_jus` permet simplement d'afficher la valeur d'un attribut de manière formattée. La méthode `extraire_jus` en revanche modifie durablement la valeur de l'attribut `jus`, ce que montre le second appel à `recup_qte_jus`."
   ]
  },
  {
   "cell_type": "markdown",
   "id": "e44e917a",
   "metadata": {},
   "source": [
    "## Quand utilise-t-on la POO ?"
   ]
  },
  {
   "cell_type": "markdown",
   "id": "0789500e",
   "metadata": {},
   "source": [
    "L'exemple précédent est intéressant car il illustre à la fois un avantage et un inconvénient de la POO.\n",
    "\n",
    "Le fait que les objets possèdent des attributs permet de garder en mémoire **l'état d'une ressource** -- dans notre exemple, la quantité de jus contenu dans un objet de classe `Citron` donné. Pour prendre des exemples plus réalistes, cette propriété est intéressante et utilisée dans plusieurs cas :\n",
    "- l'entraînement d'un modèle de machine-learning. Il est fréquent d'entraîner un modèle une première fois, et de vouloir ensuite continuer l'entraînement plus longtemps, ou bien avec d'autres données. Sauvegarder l'état dans une instance de la classe `Modele` permet de faire cela. C'est pourquoi la plupart des *packages* de machine-learning en Python sont fondés sur de la POO.\n",
    "- le fonctionnement en continu d'une application web. Une telle application doit garder des choses en mémoire pour fournir à l'utilisateur une expérience fluide : le fait que l'utilisateur se soit connecté, son historique, etc. Là encore, la plupart des *frameworks* web (`Django`, `Flask`..) reposent sur de la POO.\n",
    "\n",
    "Dans le même temps, le fait d'utiliser des objets qui gardent en mémoire un état peut **limiter la reproductibilité des analyses**. Pour illustrer cela, revenons à l'exemple du tutoriel : exécutez plusieurs fois d'affilée la cellule suivante."
   ]
  },
  {
   "cell_type": "code",
   "execution_count": null,
   "id": "0dea9c00",
   "metadata": {},
   "outputs": [],
   "source": [
    "citron1.recup_qte_jus()\n",
    "citron1.extraire_jus(12)\n",
    "citron1.recup_qte_jus()"
   ]
  },
  {
   "cell_type": "markdown",
   "id": "c2db1814",
   "metadata": {},
   "source": [
    "Les trois exécutions donnent des résultats différents, alors que le code exécuté est strictement le même. Cela illustre bien le problème de reproductibilité : lorsqu'on utilise la POO, il faut bien faire attention à l'état des objets qui est conservé en mémoire, au risque de ne pas tomber sur les mêmes résultats lorsqu'on réplique une même analyse."
   ]
  },
  {
   "cell_type": "markdown",
   "id": "7413d13e",
   "metadata": {},
   "source": [
    "## Exercices"
   ]
  },
  {
   "cell_type": "markdown",
   "id": "5398bb43",
   "metadata": {},
   "source": [
    "### Questions de compréhension"
   ]
  },
  {
   "cell_type": "markdown",
   "id": "41ac8606",
   "metadata": {},
   "source": [
    "- 1/ \"En Python, tout est un objet\" : qu'est-ce que cette phrase signifie ?\n",
    "- 2/ A quoi sert l'instruction `class` ?\n",
    "- 3/ A quoi sert le constructeur `__init__` ?\n",
    "- 4/ A quoi sert le `self` ? \n",
    "- 5/ Quelle est la différence entre une classe et une instance ?\n",
    "- 6/ Qu'est-ce qu'un attribut ?\n",
    "- 7/ Quelle est la différence entre une méthode et une fonction ?\n",
    "- 8/ A quoi voit-on la différence entre un attribut et une méthode lorsqu'on les appelle ?\n",
    "- 9/ Peut-on modifier un attribut avec une méthode ? Peut-on modifier un attribut en dehors d'une méthode ?\n",
    "- 10/ Quand utilise-t-on généralement la POO ?"
   ]
  },
  {
   "cell_type": "code",
   "execution_count": null,
   "id": "25722cac",
   "metadata": {},
   "outputs": [],
   "source": [
    "# Testez votre réponse dans cette cellule\n"
   ]
  },
  {
   "cell_type": "code",
   "execution_count": null,
   "id": "9dda8f13",
   "metadata": {},
   "outputs": [],
   "source": [
    "# Exécuter cette cellule pour afficher la solution\n",
    "%load -r 3-33 solutions.py"
   ]
  },
  {
   "cell_type": "markdown",
   "id": "1014b8c6",
   "metadata": {},
   "source": [
    "### De la masse au jus"
   ]
  },
  {
   "cell_type": "markdown",
   "id": "c1c24dba",
   "metadata": {},
   "source": [
    "Admettons que le jus contenu dans un citron soit une fonction proportionnelle de sa masse, défini de la manière suivante : $jus = \\frac {masse} {4}$ où la masse est en grammes et le jus en mL.\n",
    "\n",
    "Modifiez la classe `Citron`, reproduite dans la cellule suivante, de telle sorte que :\n",
    "- lors de l'instanciation, l'utilisateur ne définit plus la quantité de jus, mais la masse du citron\n",
    "- l'attribut `jus` est calculé selon la formule ci-dessus\n",
    "- rajouter une méthode qui affiche \"La masse du citron est x grammes.\"\n",
    "\n",
    "Instanciez ensuite un nouveau citron est vérifiez que tout fonctionne comme prévu."
   ]
  },
  {
   "cell_type": "code",
   "execution_count": null,
   "id": "fa5c6dc4",
   "metadata": {},
   "outputs": [],
   "source": [
    "class Citron:\n",
    "\n",
    "    def __init__(self, couleur, qte_jus):\n",
    "        self.saveur = \"acide\"\n",
    "        self.couleur = couleur\n",
    "        self.jus = qte_jus\n",
    "        \n",
    "    def recup_qte_jus(self):\n",
    "        print(\"Il reste \" + str(self.jus) + \" mL de jus dans le citron.\")\n",
    "        \n",
    "    def extraire_jus(self, quantite):\n",
    "        if quantite > self.jus:\n",
    "            print(\"Il n'y a pas assez de jus dans le citron pour la quantité demandée.\")\n",
    "        else:\n",
    "            self.jus = max(0, self.jus - quantite)  # évite toute valeur négative de `jus`"
   ]
  },
  {
   "cell_type": "code",
   "execution_count": null,
   "id": "4c5f2a34",
   "metadata": {},
   "outputs": [],
   "source": [
    "# Testez votre réponse dans cette cellule\n"
   ]
  },
  {
   "cell_type": "code",
   "execution_count": null,
   "id": "6ad893b8",
   "metadata": {},
   "outputs": [],
   "source": [
    "# Exécuter cette cellule pour afficher la solution\n",
    "%load -r 37-60 solutions.py"
   ]
  },
  {
   "cell_type": "markdown",
   "id": "45db5d70",
   "metadata": {},
   "source": [
    "### Comptes bancaires"
   ]
  },
  {
   "cell_type": "markdown",
   "id": "66973bb7",
   "metadata": {},
   "source": [
    "Exercice librement inspiré de : [https://github.com/Pierian-Data/Complete-Python-3-Bootcamp](https://github.com/Pierian-Data/Complete-Python-3-Bootcamp)\n",
    "\n",
    "Nous avons vu que la POO était particulièrement intéressante lorsque l'on souhaite manipuler des objets qui gardent l'état d'une ressource. C'est par exemple le cas d'un compte bancaire, qui garde un solde et permet ou non certaines opérations en fonction de ce solde.\n",
    "\n",
    "Implémenter une classe `Compte` avec :\n",
    "- deux attributs : `titulaire` (nom du client) et `solde` (solde en euros du compte)\n",
    "- une méthode `affiche_solde` qui affiche : \"Le solde du compte de nom_client est x euros.\"\n",
    "- une méthode `depot` qui admet un paramètre `montant`. Lorsqu'un dépôt est effectué, le solde du compte est incrémenté du montant du dépôt.\n",
    "- une méthode `retrait` qui admet un paramètre `montant`. Lorsqu'un retrait est effectué : \n",
    "    - si le montant est inférieur au solde : le solde est décrémenté du montant, est on affiche \"Retrait accepté.\".\n",
    "    - si le montant est supérieur au solde : on affiche \"Retrait refusé : fonds insuffisants.\" et le solde est inchangé\n",
    "- une méthode `transfert` qui admet un paramètre `montant` et un paramètre `destinataire` qui admet une autre instance de la classe `Compte` (i.e. un autre client). Par exemple, `client1.transfert(destinataire=client2, montant=1000)` a pour effet de :\n",
    "    - si le montant est inférieur au solde de client1 : le solde de client1 est décrémenté du montant, le solde de client2 est incrémenté du montant.\n",
    "    - si le montant est supérieur au solde de client1 : on affiche \"Transfert refusé : fonds insuffisants.\" et les soldes des deux clients restent inchangés.\n",
    "    \n",
    "Créer deux clients et tester que les différentes fonctionnalités à implémenter marchent comme prévu."
   ]
  },
  {
   "cell_type": "code",
   "execution_count": null,
   "id": "ee82d923",
   "metadata": {},
   "outputs": [],
   "source": [
    "# Testez votre réponse dans cette cellule\n"
   ]
  },
  {
   "cell_type": "code",
   "execution_count": null,
   "id": "a84a5f2b",
   "metadata": {},
   "outputs": [],
   "source": [
    "# Exécuter cette cellule pour afficher la solution\n",
    "%load -r 64-119 solutions.py"
   ]
  },
  {
   "cell_type": "code",
   "execution_count": null,
   "id": "175684cf",
   "metadata": {},
   "outputs": [],
   "source": []
  }
 ],
 "metadata": {
  "jupytext": {
   "cell_metadata_filter": "-all",
   "main_language": "python",
   "notebook_metadata_filter": "-all"
  }
 },
 "nbformat": 4,
 "nbformat_minor": 5
}
