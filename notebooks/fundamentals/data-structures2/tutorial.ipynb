{
  "cells": [
    {
      "cell_type": "markdown",
      "metadata": {},
      "source": [
        "# Structures de données 2 : dictionnaires et sets\n",
        "\n",
        "Découverte des structures de données non-ordonnées : dictionnaires et\n",
        "sets.\n",
        "\n",
        "Dans le tutoriel précédent, nous avons manipulé des structures de\n",
        "données de type séquentielles : les listes et les tuples. A présent,\n",
        "nous allons découvrir les dictionnaires et les sets, qui sont des\n",
        "structures de données non-ordonnées : les objets ne sont plus stockés\n",
        "par position (ou index) mais par **clé**, c’est à dire un identifiant\n",
        "unique.\n",
        "\n",
        "## Dictionnaires\n",
        "\n",
        "### Définition\n",
        "\n",
        "Les dictionnaires sont des **collections non-ordonnées de couples\n",
        "clé-valeur**. Un dictionnaire se définit selon la syntaxe suivante :\n",
        "`d = {'cle1': 'valeur1', 'cle2': 'valeur2'}`."
      ],
      "id": "eca2b8b7-54a1-4da8-952e-3d0e1b8a8493"
    },
    {
      "cell_type": "code",
      "execution_count": 1,
      "metadata": {},
      "outputs": [],
      "source": [
        "inventaire = {'cafe': '500g', 'lait': '1,5L'}\n",
        "inventaire"
      ],
      "id": "7e6ed998"
    },
    {
      "cell_type": "code",
      "execution_count": 2,
      "metadata": {},
      "outputs": [],
      "source": [
        "type(inventaire)"
      ],
      "id": "d058b701"
    },
    {
      "cell_type": "markdown",
      "metadata": {},
      "source": [
        "Il est possible de mettre autant de clés que l’on souhaite dans un\n",
        "dictionnaire. En revanche, **les clés sont uniques**, afin d’identifier\n",
        "de manière certaine la valeur associée. Si l’on essaye de définir un\n",
        "dictionnaire avec une clé dupliquée, Python ne renvoie pas d’erreur,\n",
        "mais seule la dernière clé dupliquée est prise en compte."
      ],
      "id": "d6cc6a42-26b6-40f8-9b98-0e809b1ee660"
    },
    {
      "cell_type": "code",
      "execution_count": 3,
      "metadata": {},
      "outputs": [],
      "source": [
        "inventaire = {'cafe': '500g', 'lait': '1,5L', 'cafe': '300g'}\n",
        "inventaire"
      ],
      "id": "09b2f39d"
    },
    {
      "cell_type": "markdown",
      "metadata": {},
      "source": [
        "Que peut contenir un dictionnaire ? Les clés peuvent être de différents\n",
        "types, mais on n’utilise en général que les chaînes de caractères ou\n",
        "bien les entiers. Les valeurs d’un dictionnaire peuvent quant à elles\n",
        "être n’importe quel type d’objet Python.\n",
        "\n",
        "### Utilisation\n",
        "\n",
        "Comme les dictionnaires sont **non-ordonnés**, il n’y a pas de notion de\n",
        "position : on accède à une valeur par sa clé associée. Par exemple, pour\n",
        "récupérer la valeur (`'1,5L'`) associée à la clé `'lait'` :"
      ],
      "id": "ea389c5e-1dd5-4fcb-b4d0-1423ab30db43"
    },
    {
      "cell_type": "code",
      "execution_count": 4,
      "metadata": {},
      "outputs": [],
      "source": [
        "inventaire['lait']"
      ],
      "id": "6e4908c7"
    },
    {
      "cell_type": "markdown",
      "metadata": {},
      "source": [
        "Des couples clé-valeur supplémentaires peuvent être ajoutés à un\n",
        "dictionnaire déjà existant, en utilisant la syntaxe de l’assignation de\n",
        "variable."
      ],
      "id": "6d53db74-6684-4066-8e34-5432a7cbf62b"
    },
    {
      "cell_type": "code",
      "execution_count": 5,
      "metadata": {},
      "outputs": [],
      "source": [
        "inventaire[\"céréales\"] = \"250g\"\n",
        "inventaire"
      ],
      "id": "f43339be"
    },
    {
      "cell_type": "markdown",
      "metadata": {},
      "source": [
        "A l’inverse des listes, les clés ne doivent pas nécessairement commencer\n",
        "à 0 et peuvent être n’importe quel nombre."
      ],
      "id": "8bbc6f0b-e92d-4fd8-ad1c-5cb1d50534a2"
    },
    {
      "cell_type": "code",
      "execution_count": 6,
      "metadata": {},
      "outputs": [],
      "source": [
        "dic1 = {12: \"Averyon\", 33: \"Gironde\"}\n",
        "\n",
        "print(\"Le département 33 est la \" + dic1[33])  # Concaténation de strings !"
      ],
      "id": "a275aa7c"
    },
    {
      "cell_type": "markdown",
      "metadata": {},
      "source": [
        "De même, les valeurs peuvent être de différentes natures, y compris des\n",
        "conteneurs de données."
      ],
      "id": "f8e89bec-93ae-4729-b8f9-6bede9565f07"
    },
    {
      "cell_type": "code",
      "execution_count": 7,
      "metadata": {},
      "outputs": [],
      "source": [
        "dic2 = {\"gamme\" : \"do majeur\",\n",
        "        \"notes\": [\"do\", \"re\", \"mi\", \"fa\", \"sol\", \"la\", \"si\"]}\n",
        "\n",
        "dic2[\"notes\"]"
      ],
      "id": "058301a6"
    },
    {
      "cell_type": "markdown",
      "metadata": {},
      "source": [
        "Les dictionnaires peuvent notamment contenir d’autres dictionnaires.\n",
        "Cela les rend particulièrement adaptés pour représenter des structures\n",
        "hiérarchiques de données."
      ],
      "id": "97ff2246-9811-4e11-9365-f29374100ea8"
    },
    {
      "cell_type": "code",
      "execution_count": 8,
      "metadata": {},
      "outputs": [],
      "source": [
        "cv = {\n",
        "    \"marc\": {\"poste\": \"manager\", \"experience\": 7, \"hobbies\": [\"couture\", \"frisbee\"]},\n",
        "    \"mirande\": {\"poste\": \"ingénieure\", \"experience\": 5, \"hobbies\": [\"trekking\"]}\n",
        "}\n",
        "\n",
        "print(cv[\"marc\"])\n",
        "print(cv[\"marc\"][\"hobbies\"][0])"
      ],
      "id": "ce4fba79"
    },
    {
      "cell_type": "markdown",
      "metadata": {},
      "source": [
        "Répétons-le : les dictionnaires n’ont pas de notion d’ordre. Ainsi, il\n",
        "n’y a pas de sens à requêter l’élément de position `0` d’un dictionnaire\n",
        "(sauf si la clé `0` existe..). Requêter une clé inexistante renvoie une\n",
        "erreur."
      ],
      "id": "6fb53f1c-880f-453a-816b-28c267dcf985"
    },
    {
      "cell_type": "code",
      "execution_count": 9,
      "metadata": {},
      "outputs": [],
      "source": [
        "dic1 = {12: \"Averyon\", 33: \"Gironde\"}\n",
        "\n",
        "dic1[0]"
      ],
      "id": "7054e1be"
    },
    {
      "cell_type": "markdown",
      "metadata": {},
      "source": [
        "### Modification d’éléments\n",
        "\n",
        "Il est possible de modifier une valeur associée à une clé existante dans\n",
        "le dictionnaire. La nouvelle valeur peut être de type différent de\n",
        "l’originale."
      ],
      "id": "51314e91-665e-4ff3-8676-678b80c50a10"
    },
    {
      "cell_type": "code",
      "execution_count": 10,
      "metadata": {},
      "outputs": [],
      "source": [
        "inventaire = {'cafe': '500g', 'lait': '1,5L'}\n",
        "inventaire['cafe'] = {'arabica': '250g', 'robusta': '400g'}\n",
        "inventaire"
      ],
      "id": "15fadcbe"
    },
    {
      "cell_type": "markdown",
      "metadata": {},
      "source": [
        "### Suppression d’éléments\n",
        "\n",
        "Pour supprimer une clé (et la valeur associée), les mêmes opérations que\n",
        "celles qui permettent de supprimer des éléments dans une liste peuvent\n",
        "être utilisées."
      ],
      "id": "ee02a162-83f6-43b2-9154-993a0fa852b0"
    },
    {
      "cell_type": "code",
      "execution_count": 11,
      "metadata": {},
      "outputs": [],
      "source": [
        "# Avec l'opérateur `del`\n",
        "inventaire = {'cafe': '500g', 'lait': '1,5L'}\n",
        "del inventaire['lait']\n",
        "inventaire"
      ],
      "id": "6e8c2dc5"
    },
    {
      "cell_type": "code",
      "execution_count": 12,
      "metadata": {},
      "outputs": [],
      "source": [
        "# Avec la méthode `pop`\n",
        "inventaire = {'cafe': '500g', 'lait': '1,5L'}\n",
        "inventaire.pop('lait')\n",
        "inventaire"
      ],
      "id": "90104a09"
    },
    {
      "cell_type": "markdown",
      "metadata": {},
      "source": [
        "### Quelques méthodes utiles\n",
        "\n",
        "Nous avons vu précédemment que le fait de requêter une clé qui n’existe\n",
        "pas renvoyait une erreur. La méthode `.get()` permet de requêter une clé\n",
        "sans être sûr de son existence, puisqu’elle ne renvoie aucune erreur\n",
        "dans ce cas, mais l’objet `None`, que nous verrons dans un prochain\n",
        "tutoriel."
      ],
      "id": "05f4f75a-6177-4122-ad8e-f6215164e6e2"
    },
    {
      "cell_type": "code",
      "execution_count": 13,
      "metadata": {},
      "outputs": [],
      "source": [
        "inventaire = {'cafe': '500g', 'lait': '1,5L'}\n",
        "inventaire.get('miel')"
      ],
      "id": "ad06b796"
    },
    {
      "cell_type": "markdown",
      "metadata": {},
      "source": [
        "On peut d’ailleurs spécifier une valeur par défaut lorsque la clé\n",
        "n’existe pas."
      ],
      "id": "25c1c6c7-b74c-4747-85e9-1b361ae39f19"
    },
    {
      "cell_type": "code",
      "execution_count": 14,
      "metadata": {},
      "outputs": [],
      "source": [
        "inventaire.get('miel', 'introuvable')"
      ],
      "id": "b34e9579"
    },
    {
      "cell_type": "markdown",
      "metadata": {},
      "source": [
        "Les méthodes `.keys()`, `.values()` et `.items()` renvoient\n",
        "respectivement les clés, les valeurs, et les couples clés-valeurs d’un\n",
        "dictionnaire. Les objets retournés par ces méthodes sont un peu\n",
        "complexes, mais il est possible de les transformer en liste avec la\n",
        "fonction `list` pour pouvoir les requêter par position."
      ],
      "id": "77e63a31-4199-49a7-920d-2338cdf77b55"
    },
    {
      "cell_type": "code",
      "execution_count": 15,
      "metadata": {},
      "outputs": [],
      "source": [
        "cv = {\n",
        "    \"marc\": {\"poste\": \"manager\", \"experience\": 7, \"hobbies\": [\"couture\", \"frisbee\"]},\n",
        "    \"mirande\": {\"poste\": \"ingénieure\", \"experience\": 5, \"hobbies\": [\"triathlon\"]}\n",
        "}\n",
        "\n",
        "list(cv.keys())"
      ],
      "id": "c3fa7b27"
    },
    {
      "cell_type": "code",
      "execution_count": 16,
      "metadata": {},
      "outputs": [],
      "source": [
        "list(cv.values())"
      ],
      "id": "dba7b283"
    },
    {
      "cell_type": "code",
      "execution_count": 17,
      "metadata": {},
      "outputs": [],
      "source": [
        "list(cv.items())"
      ],
      "id": "30a279b2"
    },
    {
      "cell_type": "markdown",
      "metadata": {},
      "source": [
        "## Sets\n",
        "\n",
        "### Définition\n",
        "\n",
        "Les sets sont des **collections non-ordonnées d’éléments uniques**. En\n",
        "cela, ils peuvent être vus comme des dictionnaires sans valeurs, dont on\n",
        "n’aurait conservé que les clés (uniques par définition dans un\n",
        "dictionnaire). Une autre analogie est celle des ensembles mathématiques,\n",
        "dont les éléments sont également non-ordonnés et uniques.\n",
        "\n",
        "Du fait de leur proximité avec les dictionnaires, les sets sont\n",
        "également définis par des accolades `{}`."
      ],
      "id": "a455893e-fab5-4743-9fa5-91067f19a3f1"
    },
    {
      "cell_type": "code",
      "execution_count": 18,
      "metadata": {},
      "outputs": [],
      "source": [
        "x = {3, 2, 1}\n",
        "x"
      ],
      "id": "d9685a39"
    },
    {
      "cell_type": "code",
      "execution_count": 19,
      "metadata": {},
      "outputs": [],
      "source": [
        "type(x)"
      ],
      "id": "43e15b89"
    },
    {
      "cell_type": "markdown",
      "metadata": {},
      "source": [
        "De la même manière que les dictionnaires, les sets sont\n",
        "**non-ordonnés**, il n’y a donc pas de notion de position. Demander\n",
        "l’élément de position `i`, comme dans une liste, renvoie une erreur."
      ],
      "id": "239097e9-67c0-470c-80dd-a7dd40f5f3cb"
    },
    {
      "cell_type": "code",
      "execution_count": 20,
      "metadata": {},
      "outputs": [],
      "source": [
        "x = {3, 2, 1}\n",
        "x[0]"
      ],
      "id": "bd89b672"
    },
    {
      "cell_type": "markdown",
      "metadata": {},
      "source": [
        "### Modification d’éléments\n",
        "\n",
        "Il est possible d’ajouter un élément à un set via la méthode `add`."
      ],
      "id": "6e0279dc-f9c3-4d7c-9649-20b66113a351"
    },
    {
      "cell_type": "code",
      "execution_count": 21,
      "metadata": {},
      "outputs": [],
      "source": [
        "x = {3, 2, 1}\n",
        "x.add(\"4\")\n",
        "x"
      ],
      "id": "8b55f51c"
    },
    {
      "cell_type": "markdown",
      "metadata": {},
      "source": [
        "Ajouter un élément déjà existant ne change rien par définition."
      ],
      "id": "f9eb55e3-44b6-43dc-8f97-dd44aa554813"
    },
    {
      "cell_type": "code",
      "execution_count": 22,
      "metadata": {},
      "outputs": [],
      "source": [
        "x = {3, 2, 1}\n",
        "x.add(2)\n",
        "x"
      ],
      "id": "1a458003"
    },
    {
      "cell_type": "markdown",
      "metadata": {},
      "source": [
        "Il est possible de retirer un élément d’un set via la méthode `remove`."
      ],
      "id": "10aadc75-e02d-4f74-893b-cbb3c3a29bec"
    },
    {
      "cell_type": "code",
      "execution_count": 23,
      "metadata": {},
      "outputs": [],
      "source": [
        "x = {3, 2, 1}\n",
        "x.remove(2)\n",
        "x"
      ],
      "id": "4b84056f"
    },
    {
      "cell_type": "markdown",
      "metadata": {},
      "source": [
        "### Utilisation\n",
        "\n",
        "Les sets ne sont pas très souvent utilisés en pratique, mais ils\n",
        "s’avèrent bien utiles dans certaines situations précises. Du fait de\n",
        "l’unicité des éléments qu’ils contiennent, les sets permettent\n",
        "simplement et efficacement de supprimer les doublons dans un conteneur\n",
        "séquentiel, comme une liste.\n",
        "\n",
        "**Déduplication**\n",
        "\n",
        "Supposons que l’on veut supprimer les doublons dans une liste donnée.\n",
        "Par définition, le fait de transformer une liste en set supprime les\n",
        "doublons. Cependant, on a généralement envie de revenir à une liste,\n",
        "dans la mesure où les sets n’offrent pas la même flexibilité que les\n",
        "listes (par exemple, la possibilité de trouver un élément par position).\n",
        "Il est donc fréquent de faire la chaîne d’opération\n",
        "`list -> set -> list` pour dédupliquer une liste."
      ],
      "id": "c8b42922-ebac-453d-86b5-4073fe68facc"
    },
    {
      "cell_type": "code",
      "execution_count": 24,
      "metadata": {},
      "outputs": [],
      "source": [
        "l = [1, 2, 3, 3, 2, 1]\n",
        "l_dedup = list(set(l))\n",
        "l_dedup"
      ],
      "id": "7bd3b835"
    },
    {
      "cell_type": "markdown",
      "metadata": {},
      "source": [
        "**Opérations ensemblistes**\n",
        "\n",
        "Comme les sets représentent programmatiquement les ensembles\n",
        "mathématiques, il n’est pas étonnant qu’ils permettent de réaliser des\n",
        "opérations ensemblistes élémentaires. Par exemple, l’union et\n",
        "l’intersection."
      ],
      "id": "1ac039e3-c4e3-497b-ad0b-f05e0a3db453"
    },
    {
      "cell_type": "code",
      "execution_count": 25,
      "metadata": {},
      "outputs": [],
      "source": [
        "l1 = [5, 3, 2, 3, 3, 5, 8, 9]\n",
        "l2 = [3, 7, 0, 0, 1, 9, 4, 6]"
      ],
      "id": "745a1a4f"
    },
    {
      "cell_type": "code",
      "execution_count": 26,
      "metadata": {},
      "outputs": [],
      "source": [
        "# Union : éléments soit dans l1, soit dans l2, soit dans les deux\n",
        "l_union = list(set(l1) | set(l2))\n",
        "l_union"
      ],
      "id": "9d963470"
    },
    {
      "cell_type": "code",
      "execution_count": 27,
      "metadata": {},
      "outputs": [],
      "source": [
        "# Intersection : éléments à la fois dans l1 et dans l2\n",
        "l_inter = list(set(l1) & set(l2))\n",
        "l_inter"
      ],
      "id": "fa435a48"
    },
    {
      "cell_type": "markdown",
      "metadata": {},
      "source": [
        "**Tests d’appartenance**\n",
        "\n",
        "Les sets sont également très utilisés pour réaliser des tests\n",
        "d’appartenance, dans la mesure où ils offrent de bien meilleures\n",
        "performances que les listes pour ce type de test.\n",
        "\n",
        "La notion de test fera l’objet d’un prochain tutoriel. Pour l’heure,\n",
        "retenons qu’un test d’appartenance du type “est-ce que l’élément `a` est\n",
        "dans la liste `l`” s’écrit en Python `a in l` et renvoie `True` ou\n",
        "`False` selon que `a` est effectivement présent dans la liste `l` ou\n",
        "non."
      ],
      "id": "0b397cb5-49ae-46a1-9e84-1f917f5489ee"
    },
    {
      "cell_type": "code",
      "execution_count": 28,
      "metadata": {},
      "outputs": [],
      "source": [
        "l = [1, 2, 3]\n",
        "2 in l"
      ],
      "id": "a2371325"
    },
    {
      "cell_type": "code",
      "execution_count": 29,
      "metadata": {},
      "outputs": [],
      "source": [
        "4 in l"
      ],
      "id": "cda7777d"
    },
    {
      "cell_type": "markdown",
      "metadata": {},
      "source": [
        "Maintenant, imaginons que nous réalisions ce test sur une liste\n",
        "contenant des millions d’éléments. En exagérant, l’interpréteur Python\n",
        "devrait alors parcourir tous les éléments de la liste un à un jusqu’à\n",
        "trouver l’élément en question, ce qui peut prendre très longtemps.\n",
        "\n",
        "A l’inverse, comme les éléments d’un set sont uniques, Python peut\n",
        "facilement garder en mémoire la liste des éléments uniques contenus dans\n",
        "le set, et donc conclure très rapidement le test. Nous verrons une\n",
        "comparaison des performances dans un exercice de fin de tutoriel.\n",
        "\n",
        "NB : l’implémentation informatique des notions évoquées ci-dessus\n",
        "s’appelle une “table de hachage” (*hash table*). Le lecteur intéressé\n",
        "pourra trouver plus d’informations à propos de cette structure de\n",
        "données [ici](http://mpechaud.fr/scripts/donnees/tablesdehachage.html).\n",
        "\n",
        "## Exercices\n",
        "\n",
        "### Questions de compréhension\n",
        "\n",
        "-   1/ Peut-on accéder au `i`ième élément d’un dictionnaire ? d’un set ?\n",
        "-   2/ Quels types d’objets peuvent être utilisés comme clés d’un\n",
        "    dictionnaire ? Comme valeurs ?\n",
        "-   3/ Pour quels types de données a-t-on intérêt à utiliser un\n",
        "    dictionnaire ?\n",
        "-   4/ Un dictionnaire peut-il avoir des doublons dans ses clés ?\n",
        "-   5/ Pourquoi peut-on dire qu’un set est un dictionnaire particulier ?\n",
        "-   6/ Pourquoi les sets sont-ils utilisés pour dédupliquer des listes ?\n",
        "-   7/ Pourquoi les sets sont-ils plus pertinents que les listes pour\n",
        "    réaliser des tests d’appartenance ?"
      ],
      "id": "f978c41a-419d-4559-ab20-e62362fd34e7"
    },
    {
      "cell_type": "code",
      "execution_count": 30,
      "metadata": {},
      "outputs": [],
      "source": [
        "# Testez votre réponse dans cette cellule"
      ],
      "id": "8b2bbe32"
    },
    {
      "cell_type": "code",
      "execution_count": 31,
      "metadata": {},
      "outputs": [],
      "source": [
        "# Exécuter cette cellule pour afficher la solution\n",
        "%load -r 3-20 solutions.py"
      ],
      "id": "811ced3b"
    },
    {
      "cell_type": "markdown",
      "metadata": {},
      "source": [
        "### Exercice\n",
        "\n",
        "Soit le dictionnaire défini dans la cellule ci-dessous.\n",
        "\n",
        "Affichez à l’aide d’opérations `print` : - la liste des noms des\n",
        "différentes classes - la note de Miranda en histoire - la liste des\n",
        "notes obtenues par Hypolyte - la liste des noms des élèves de la 6emeB -\n",
        "la liste des matières enseignées en 6eme A - la liste de toutes les\n",
        "matières enseignées - la liste des notes obtenues par les filles des\n",
        "deux classes"
      ],
      "id": "c77e0a37-6131-4a71-85e5-e833ed9de39e"
    },
    {
      "cell_type": "code",
      "execution_count": 32,
      "metadata": {},
      "outputs": [],
      "source": [
        "resultats = {\n",
        "    \"6emeA\": {\"Miranda\" : {\"notes\": {\"physique\": 16, \"histoire\": 12}},\n",
        "              \"Celestin\": {\"notes\": {\"physique\": \"absent\", \"histoire\": 18}}\n",
        "             },\n",
        "    \"6emeB\": {\"Hypolyte\": {\"notes\": {\"maths\": 11, \"anglais\": 0}},\n",
        "              \"Josephine\": {\"notes\": {\"maths\": 16, \"anglais\": 20}}\n",
        "             }\n",
        "}"
      ],
      "id": "66fae03e"
    },
    {
      "cell_type": "code",
      "execution_count": 33,
      "metadata": {},
      "outputs": [],
      "source": [
        "# Testez votre réponse dans cette cellule"
      ],
      "id": "108606ea"
    },
    {
      "cell_type": "code",
      "execution_count": 34,
      "metadata": {},
      "outputs": [],
      "source": [
        "# Exécuter cette cellule pour afficher la solution\n",
        "%load -r 24-38 solutions.py"
      ],
      "id": "b5f19abd"
    },
    {
      "cell_type": "markdown",
      "metadata": {},
      "source": [
        "### Exercice\n",
        "\n",
        "Dans les tutoriels précédents, nous avons vu la fonction `len`, qui\n",
        "permet de compter le nombre d’éléments d’une séquence. Est-ce que cette\n",
        "fonction fonctionne avec les dictionnaires ? Que compte-t-elle alors ?"
      ],
      "id": "e1ca0eb2-96b4-45e4-8b9b-b862bcb953cd"
    },
    {
      "cell_type": "code",
      "execution_count": 35,
      "metadata": {},
      "outputs": [],
      "source": [
        "# Testez votre réponse dans cette cellule"
      ],
      "id": "63533048"
    },
    {
      "cell_type": "code",
      "execution_count": 36,
      "metadata": {},
      "outputs": [],
      "source": [
        "# Exécuter cette cellule pour afficher la solution\n",
        "%load -r 42-50 solutions.py"
      ],
      "id": "1c7a8082"
    },
    {
      "cell_type": "markdown",
      "metadata": {},
      "source": [
        "### Exercice\n",
        "\n",
        "Nous avons vu qu’on pouvait supprimer une clé d’un dictionnaire de deux\n",
        "manières différentes : - avec l’opérateur `del` : `del mon_dict[clé]` -\n",
        "avec la méthode `pop` : `mon_dict.pop(clé)`\n",
        "\n",
        "Au-delà de la syntaxe, quelles sont les deux différences majeures entre\n",
        "ces deux manières de supprimer une clé d’un dictionnaire ? N’hésitez pas\n",
        "à expérimenter avec des exemples de votre choix."
      ],
      "id": "43b4e1e7-b1bf-4571-9313-d7168930b68d"
    },
    {
      "cell_type": "code",
      "execution_count": 37,
      "metadata": {},
      "outputs": [],
      "source": [
        "# Testez votre réponse dans cette cellule"
      ],
      "id": "9ae37769"
    },
    {
      "cell_type": "code",
      "execution_count": 38,
      "metadata": {},
      "outputs": [],
      "source": [
        "# Exécuter cette cellule pour afficher la solution\n",
        "%load -r 54-65 solutions.py"
      ],
      "id": "0af03c35"
    },
    {
      "cell_type": "markdown",
      "metadata": {},
      "source": [
        "### Exercice\n",
        "\n",
        "En exploitant le fait que la méthode `pop` utilisée pour supprimer une\n",
        "clé d’un dictionnaire renvoie la valeur associée à cette clé, proposez\n",
        "une méthode pour renommer une clé d’un dictionnaire en une seule\n",
        "opération."
      ],
      "id": "3d486b05-7298-4fc6-a7fa-e42fea62e67f"
    },
    {
      "cell_type": "code",
      "execution_count": 39,
      "metadata": {},
      "outputs": [],
      "source": [
        "# Testez votre réponse dans cette cellule"
      ],
      "id": "391fd389"
    },
    {
      "cell_type": "code",
      "execution_count": 40,
      "metadata": {},
      "outputs": [],
      "source": [
        "# Exécuter cette cellule pour afficher la solution\n",
        "%load -r 69-73 solutions.py"
      ],
      "id": "626517fa"
    },
    {
      "cell_type": "markdown",
      "metadata": {},
      "source": [
        "### Exercice\n",
        "\n",
        "Soit le dictionnaire suivant :\n",
        "\n",
        "`animaux = {'chats': 5, 'chiens': 12}`\n",
        "\n",
        "Que vont retourner les tests d’appartenance suivants ? Vérifiez vos\n",
        "prédictions.\n",
        "\n",
        "-   `'chats' in animaux.keys()`\n",
        "\n",
        "-   `'chats' in animaux.values()`\n",
        "\n",
        "-   `'chats' in animaux`"
      ],
      "id": "644474f9-24e3-42c1-9b80-0debc1873cd7"
    },
    {
      "cell_type": "code",
      "execution_count": 41,
      "metadata": {},
      "outputs": [],
      "source": [
        "# Testez votre réponse dans cette cellule"
      ],
      "id": "7e1bef48"
    },
    {
      "cell_type": "code",
      "execution_count": 42,
      "metadata": {},
      "outputs": [],
      "source": [
        "# Exécuter cette cellule pour afficher la solution\n",
        "%load -r 77-91 solutions.py"
      ],
      "id": "ce00ee65"
    },
    {
      "cell_type": "markdown",
      "metadata": {},
      "source": [
        "### Exercice\n",
        "\n",
        "Nous avons vu que l’opération `del` renvoyait une erreur lorsqu’on\n",
        "l’utilisait pour supprimer une clé inexistante d’un dictionnaire. A\n",
        "l’aide de vos nouvelles connaissances sur les tests d’appartenance,\n",
        "pouvez-vous imaginer une méthode (sans nécessairement l’implémenter) qui\n",
        "permettrait de traiter ce cas sans erreur ?"
      ],
      "id": "dc7d4be7-9bc9-4015-a33f-f2b58039135d"
    },
    {
      "cell_type": "code",
      "execution_count": 43,
      "metadata": {},
      "outputs": [],
      "source": [
        "# Testez votre réponse dans cette cellule"
      ],
      "id": "756d3381"
    },
    {
      "cell_type": "code",
      "execution_count": 44,
      "metadata": {},
      "outputs": [],
      "source": [
        "# Exécuter cette cellule pour afficher la solution\n",
        "%load -r 95-104 solutions.py"
      ],
      "id": "6a306099"
    },
    {
      "cell_type": "markdown",
      "metadata": {},
      "source": [
        "### Exercice\n",
        "\n",
        "Soit la chaîne de caractères avec répétition suivante :\n",
        "\n",
        "`x = \"cdabcdabcdabcdabcdabcdabcdabcdabcdab\"`\n",
        "\n",
        "Construisez une liste des caractères uniques se trouvant dans cette\n",
        "chaîne, classée par ordre alphabétique, soit :\n",
        "\n",
        "`l = ['a', 'b', 'c', 'd']`\n",
        "\n",
        "Indice : la procédure est semblable au fait de supprimer les doublons\n",
        "d’une liste."
      ],
      "id": "a43aa59f-f780-4d43-ab01-eb8c5d5fb941"
    },
    {
      "cell_type": "code",
      "execution_count": 45,
      "metadata": {},
      "outputs": [],
      "source": [
        "# Testez votre réponse dans cette cellule"
      ],
      "id": "e7d261fd"
    },
    {
      "cell_type": "code",
      "execution_count": 46,
      "metadata": {},
      "outputs": [],
      "source": [
        "# Exécuter cette cellule pour afficher la solution\n",
        "%load -r 108-111 solutions.py"
      ],
      "id": "0a31800c"
    },
    {
      "cell_type": "markdown",
      "metadata": {},
      "source": [
        "### Exercice\n",
        "\n",
        "Soit les deux chaînes de caractères suivantes.\n",
        "\n",
        "`cyrano1 = 'C’est un roc ! … c’est un pic ! … c’est un cap !'`\n",
        "\n",
        "`cyrano2 = 'Que dis-je, c’est un cap ? … C’est une péninsule !'`\n",
        "\n",
        "Question 1 : trouvez les caractères qui apparaissent à la fois dans les\n",
        "deux chaînes.\n",
        "\n",
        "Question 2 : trouvez les caractères qui apparaissent dans au moins un\n",
        "des deux textes."
      ],
      "id": "946c0b39-f91a-4617-b9cb-f9333fd558a1"
    },
    {
      "cell_type": "code",
      "execution_count": 47,
      "metadata": {},
      "outputs": [],
      "source": [
        "# Testez votre réponse dans cette cellule"
      ],
      "id": "0a81d048"
    },
    {
      "cell_type": "code",
      "execution_count": 48,
      "metadata": {},
      "outputs": [],
      "source": [
        "# Exécuter cette cellule pour afficher la solution\n",
        "%load -r 115-126 solutions.py"
      ],
      "id": "e6bce3f0"
    },
    {
      "cell_type": "markdown",
      "metadata": {},
      "source": [
        "### Exercice\n",
        "\n",
        "Le code ci-dessous génère une liste avec les lettres a, b, c et d\n",
        "répétées 1 million de fois. Ensuite, il réalise un test d’appartenance\n",
        "d’une lettre qui n’existe pas dans la liste, et calcule le temps mis par\n",
        "l’interpréteur Python pour réaliser le test.\n",
        "\n",
        "En reprenant cette syntaxe, comparez le temps mis par le même test\n",
        "d’appartenance lorsqu’on transforme la liste en set au préalable."
      ],
      "id": "3214a14d-38d6-43be-8bf0-d7cf95b9da4b"
    },
    {
      "cell_type": "code",
      "execution_count": 49,
      "metadata": {},
      "outputs": [],
      "source": [
        "x = ['a', 'b', 'c', 'd'] * 1000000\n",
        "print(x[:10])\n",
        "\n",
        "%time 'e' in x"
      ],
      "id": "c80c7d6e"
    },
    {
      "cell_type": "code",
      "execution_count": 50,
      "metadata": {},
      "outputs": [],
      "source": [
        "# Testez votre réponse dans cette cellule"
      ],
      "id": "dd440294"
    },
    {
      "cell_type": "code",
      "execution_count": 51,
      "metadata": {},
      "outputs": [],
      "source": [
        "# Exécuter cette cellule pour afficher la solution\n",
        "%load -r 130-141 solutions.py"
      ],
      "id": "e0a99b2b"
    }
  ],
  "nbformat": 4,
  "nbformat_minor": 5,
  "metadata": {
    "kernelspec": {
      "name": "python3",
      "display_name": "Python 3 (ipykernel)",
      "language": "python"
    },
    "language_info": {
      "name": "python",
      "codemirror_mode": {
        "name": "ipython",
        "version": "3"
      },
      "file_extension": ".py",
      "mimetype": "text/x-python",
      "nbconvert_exporter": "python",
      "pygments_lexer": "ipython3",
      "version": "3.10.12"
    }
  }
}