{
 "cells": [
  {
   "cell_type": "raw",
   "id": "dfe1f8d0",
   "metadata": {},
   "source": [
    "---\n",
    "title: \"Structures de données 2 : dictionnaires et sets\"\n",
    "abstract: \"Découverte des structures de données non-ordonnées : dictionnaires et sets.\"\n",
    "---"
   ]
  },
  {
   "cell_type": "markdown",
   "id": "e7561529",
   "metadata": {},
   "source": [
    "Dans le tutoriel précédent, nous avons manipulé des structures de données de type séquentielles : les listes et les tuples. A présent, nous allons découvrir les dictionnaires et les sets, qui sont des structures de données non-ordonnées : les objets ne sont plus stockés par position (ou index) mais par **clé**, c'est à dire un identifiant unique.\n",
    "\n",
    "## Dictionnaires\n",
    "\n",
    "### Définition\n",
    "\n",
    "Les dictionnaires sont des **collections non-ordonnées de couples clé-valeur**. Un dictionnaire se définit selon la syntaxe suivante : `d = {'cle1': 'valeur1', 'cle2': 'valeur2'}`.\n"
   ]
  },
  {
   "cell_type": "code",
   "execution_count": null,
   "id": "1e56cb73",
   "metadata": {
    "lines_to_next_cell": 2
   },
   "outputs": [],
   "source": [
    "inventaire = {'cafe': '500g', 'lait': '1,5L'}\n",
    "inventaire"
   ]
  },
  {
   "cell_type": "code",
   "execution_count": null,
   "id": "2b94a75a",
   "metadata": {},
   "outputs": [],
   "source": [
    "type(inventaire)"
   ]
  },
  {
   "cell_type": "markdown",
   "id": "2ebcc6bb",
   "metadata": {},
   "source": [
    "Il est possible de mettre autant de clés que l'on souhaite dans un dictionnaire. En revanche, **les clés sont uniques**, afin d'identifier de manière certaine la valeur associée. Si l'on essaye de définir un dictionnaire avec une clé dupliquée, Python ne renvoie pas d'erreur, mais seule la dernière clé dupliquée est prise en compte.\n"
   ]
  },
  {
   "cell_type": "code",
   "execution_count": null,
   "id": "d3781683",
   "metadata": {},
   "outputs": [],
   "source": [
    "inventaire = {'cafe': '500g', 'lait': '1,5L', 'cafe': '300g'}\n",
    "inventaire"
   ]
  },
  {
   "cell_type": "markdown",
   "id": "8e008009",
   "metadata": {},
   "source": [
    "Que peut contenir un dictionnaire ? Les clés peuvent être de différents types, mais on n'utilise en général que les chaînes de caractères ou bien les entiers. Les valeurs d'un dictionnaire peuvent quant à elles être n'importe quel type d'objet Python.\n",
    "\n",
    "### Utilisation\n",
    "\n",
    "Comme les dictionnaires sont **non-ordonnés**, il n'y a pas de notion de position : on accède à une valeur par sa clé associée. Par exemple, pour récupérer la valeur (`'1,5L'`) associée à la clé `'lait'` : \n"
   ]
  },
  {
   "cell_type": "code",
   "execution_count": null,
   "id": "8954491b",
   "metadata": {},
   "outputs": [],
   "source": [
    "inventaire['lait']"
   ]
  },
  {
   "cell_type": "markdown",
   "id": "ccbf8a55",
   "metadata": {},
   "source": [
    "Des couples clé-valeur supplémentaires peuvent être ajoutés à un dictionnaire déjà existant, en utilisant la syntaxe de l'assignation de variable.\n"
   ]
  },
  {
   "cell_type": "code",
   "execution_count": null,
   "id": "7152eeb0",
   "metadata": {},
   "outputs": [],
   "source": [
    "inventaire[\"céréales\"] = \"250g\"\n",
    "inventaire"
   ]
  },
  {
   "cell_type": "markdown",
   "id": "58422990",
   "metadata": {},
   "source": [
    "A l'inverse des listes, les clés ne doivent pas nécessairement commencer à 0 et peuvent être n'importe quel nombre.\n"
   ]
  },
  {
   "cell_type": "code",
   "execution_count": null,
   "id": "faf26a2a",
   "metadata": {},
   "outputs": [],
   "source": [
    "dic1 = {12: \"Averyon\", 33: \"Gironde\"}\n",
    "\n",
    "print(\"Le département 33 est la \" + dic1[33])  # Concaténation de strings !"
   ]
  },
  {
   "cell_type": "markdown",
   "id": "1d8dab1e",
   "metadata": {},
   "source": [
    "De même, les valeurs peuvent être de différentes natures, y compris des conteneurs de données.\n"
   ]
  },
  {
   "cell_type": "code",
   "execution_count": null,
   "id": "2fc09f6c",
   "metadata": {},
   "outputs": [],
   "source": [
    "dic2 = {\"gamme\" : \"do majeur\",\n",
    "        \"notes\": [\"do\", \"re\", \"mi\", \"fa\", \"sol\", \"la\", \"si\"]}\n",
    "\n",
    "dic2[\"notes\"]"
   ]
  },
  {
   "cell_type": "markdown",
   "id": "719a6d7c",
   "metadata": {},
   "source": [
    "Les dictionnaires peuvent notamment contenir d'autres dictionnaires. Cela les rend particulièrement adaptés pour représenter des structures hiérarchiques de données.\n"
   ]
  },
  {
   "cell_type": "code",
   "execution_count": null,
   "id": "0fc3932d",
   "metadata": {},
   "outputs": [],
   "source": [
    "cv = {\n",
    "    \"marc\": {\"poste\": \"manager\", \"experience\": 7, \"hobbies\": [\"couture\", \"frisbee\"]},\n",
    "    \"mirande\": {\"poste\": \"ingénieure\", \"experience\": 5, \"hobbies\": [\"trekking\"]}\n",
    "}\n",
    "\n",
    "print(cv[\"marc\"])\n",
    "print(cv[\"marc\"][\"hobbies\"][0])"
   ]
  },
  {
   "cell_type": "markdown",
   "id": "2caf490f",
   "metadata": {},
   "source": [
    "Répétons-le : les dictionnaires n'ont pas de notion d'ordre. Ainsi, il n'y a pas de sens à requêter l'élément de position `0` d'un dictionnaire (sauf si la clé `0` existe..). Requêter une clé inexistante renvoie une erreur.\n"
   ]
  },
  {
   "cell_type": "code",
   "execution_count": null,
   "id": "828aab5f",
   "metadata": {},
   "outputs": [],
   "source": [
    "dic1 = {12: \"Averyon\", 33: \"Gironde\"}\n",
    "\n",
    "dic1[0]"
   ]
  },
  {
   "cell_type": "markdown",
   "id": "0071b0c1",
   "metadata": {},
   "source": [
    "### Modification d'éléments\n",
    "\n",
    "Il est possible de modifier une valeur associée à une clé existante dans le dictionnaire. La nouvelle valeur peut être de type différent de l'originale.\n"
   ]
  },
  {
   "cell_type": "code",
   "execution_count": null,
   "id": "6f6d9dbd",
   "metadata": {},
   "outputs": [],
   "source": [
    "inventaire = {'cafe': '500g', 'lait': '1,5L'}\n",
    "inventaire['cafe'] = {'arabica': '250g', 'robusta': '400g'}\n",
    "inventaire"
   ]
  },
  {
   "cell_type": "markdown",
   "id": "431ae940",
   "metadata": {},
   "source": [
    "### Suppression d'éléments\n",
    "\n",
    "Pour supprimer une clé (et la valeur associée), les mêmes opérations que celles qui permettent de supprimer des éléments dans une liste peuvent être utilisées.\n"
   ]
  },
  {
   "cell_type": "code",
   "execution_count": null,
   "id": "5e05447c",
   "metadata": {
    "lines_to_next_cell": 2
   },
   "outputs": [],
   "source": [
    "# Avec l'opérateur `del`\n",
    "inventaire = {'cafe': '500g', 'lait': '1,5L'}\n",
    "del inventaire['lait']\n",
    "inventaire"
   ]
  },
  {
   "cell_type": "code",
   "execution_count": null,
   "id": "47b7f235",
   "metadata": {},
   "outputs": [],
   "source": [
    "# Avec la méthode `pop`\n",
    "inventaire = {'cafe': '500g', 'lait': '1,5L'}\n",
    "inventaire.pop('lait')\n",
    "inventaire"
   ]
  },
  {
   "cell_type": "markdown",
   "id": "c0429f54",
   "metadata": {},
   "source": [
    "### Quelques méthodes utiles\n",
    "\n",
    "Nous avons vu précédemment que le fait de requêter une clé qui n'existe pas renvoyait une erreur. La méthode `.get()` permet de requêter une clé sans être sûr de son existence, puisqu'elle ne renvoie aucune erreur dans ce cas, mais l'objet `None`, que nous verrons dans un prochain tutoriel.\n"
   ]
  },
  {
   "cell_type": "code",
   "execution_count": null,
   "id": "a05e7db1",
   "metadata": {},
   "outputs": [],
   "source": [
    "inventaire = {'cafe': '500g', 'lait': '1,5L'}\n",
    "inventaire.get('miel')"
   ]
  },
  {
   "cell_type": "markdown",
   "id": "da5ae975",
   "metadata": {},
   "source": [
    "On peut d'ailleurs spécifier une valeur par défaut lorsque la clé n'existe pas.\n"
   ]
  },
  {
   "cell_type": "code",
   "execution_count": null,
   "id": "939710a4",
   "metadata": {},
   "outputs": [],
   "source": [
    "inventaire.get('miel', 'introuvable')"
   ]
  },
  {
   "cell_type": "markdown",
   "id": "15a8a241",
   "metadata": {},
   "source": [
    "Les méthodes `.keys()`, `.values()` et `.items()` renvoient respectivement les clés, les valeurs, et les couples clés-valeurs d'un dictionnaire. Les objets retournés par ces méthodes sont un peu complexes, mais il est possible de les transformer en liste avec la fonction `list` pour pouvoir les requêter par position.\n"
   ]
  },
  {
   "cell_type": "code",
   "execution_count": null,
   "id": "0ce7d1e8",
   "metadata": {
    "lines_to_next_cell": 2
   },
   "outputs": [],
   "source": [
    "cv = {\n",
    "    \"marc\": {\"poste\": \"manager\", \"experience\": 7, \"hobbies\": [\"couture\", \"frisbee\"]},\n",
    "    \"mirande\": {\"poste\": \"ingénieure\", \"experience\": 5, \"hobbies\": [\"triathlon\"]}\n",
    "}\n",
    "\n",
    "list(cv.keys())"
   ]
  },
  {
   "cell_type": "code",
   "execution_count": null,
   "id": "6af1f320",
   "metadata": {
    "lines_to_next_cell": 2
   },
   "outputs": [],
   "source": [
    "list(cv.values())"
   ]
  },
  {
   "cell_type": "code",
   "execution_count": null,
   "id": "64438554",
   "metadata": {},
   "outputs": [],
   "source": [
    "list(cv.items())"
   ]
  },
  {
   "cell_type": "markdown",
   "id": "0b8e18fa",
   "metadata": {},
   "source": [
    "## Sets\n",
    "\n",
    "### Définition\n",
    "\n",
    "Les sets sont des **collections non-ordonnées d'éléments uniques**. En cela, ils peuvent être vus comme des dictionnaires sans valeurs, dont on n'aurait conservé que les clés (uniques par définition dans un dictionnaire). Une autre analogie est celle des ensembles mathématiques, dont les éléments sont également non-ordonnés et uniques.\n",
    "\n",
    "Du fait de leur proximité avec les dictionnaires, les sets sont également définis par des accolades `{}`.\n"
   ]
  },
  {
   "cell_type": "code",
   "execution_count": null,
   "id": "22b7ef53",
   "metadata": {
    "lines_to_next_cell": 2
   },
   "outputs": [],
   "source": [
    "x = {3, 2, 1}\n",
    "x"
   ]
  },
  {
   "cell_type": "code",
   "execution_count": null,
   "id": "a3213b0e",
   "metadata": {},
   "outputs": [],
   "source": [
    "type(x)"
   ]
  },
  {
   "cell_type": "markdown",
   "id": "11d58d7b",
   "metadata": {},
   "source": [
    "De la même manière que les dictionnaires, les sets sont **non-ordonnés**, il n'y a donc pas de notion de position. Demander l'élément de position `i`, comme dans une liste, renvoie une erreur.\n"
   ]
  },
  {
   "cell_type": "code",
   "execution_count": null,
   "id": "f3d5a4ab",
   "metadata": {},
   "outputs": [],
   "source": [
    "x = {3, 2, 1}\n",
    "x[0]"
   ]
  },
  {
   "cell_type": "markdown",
   "id": "308e504c",
   "metadata": {},
   "source": [
    "### Modification d'éléments\n",
    "\n",
    "Il est possible d'ajouter un élément à un set via la méthode `add`.\n"
   ]
  },
  {
   "cell_type": "code",
   "execution_count": null,
   "id": "54f3e6c1",
   "metadata": {},
   "outputs": [],
   "source": [
    "x = {3, 2, 1}\n",
    "x.add(\"4\")\n",
    "x"
   ]
  },
  {
   "cell_type": "markdown",
   "id": "756485ef",
   "metadata": {},
   "source": [
    "Ajouter un élément déjà existant ne change rien par définition.\n"
   ]
  },
  {
   "cell_type": "code",
   "execution_count": null,
   "id": "6cefd644",
   "metadata": {},
   "outputs": [],
   "source": [
    "x = {3, 2, 1}\n",
    "x.add(2)\n",
    "x"
   ]
  },
  {
   "cell_type": "markdown",
   "id": "2599d289",
   "metadata": {},
   "source": [
    "Il est possible de retirer un élément d'un set via la méthode `remove`.\n"
   ]
  },
  {
   "cell_type": "code",
   "execution_count": null,
   "id": "0e579392",
   "metadata": {},
   "outputs": [],
   "source": [
    "x = {3, 2, 1}\n",
    "x.remove(2)\n",
    "x"
   ]
  },
  {
   "cell_type": "markdown",
   "id": "37fad6d3",
   "metadata": {},
   "source": [
    "### Utilisation\n",
    "\n",
    "Les sets ne sont pas très souvent utilisés en pratique, mais ils s'avèrent bien utiles dans certaines situations précises. Du fait de l'unicité des éléments qu'ils contiennent, les sets permettent simplement et efficacement de supprimer les doublons dans un conteneur séquentiel, comme une liste.\n",
    "\n",
    "**Déduplication**\n",
    "\n",
    "Supposons que l'on veut supprimer les doublons dans une liste donnée. Par définition, le fait de transformer une liste en set supprime les doublons. Cependant, on a généralement envie de revenir à une liste, dans la mesure où les sets n'offrent pas la même flexibilité que les listes (par exemple, la possibilité de trouver un élément par position). Il est donc fréquent de faire la chaîne d'opération `list -> set -> list` pour dédupliquer une liste.\n"
   ]
  },
  {
   "cell_type": "code",
   "execution_count": null,
   "id": "f071abc9",
   "metadata": {},
   "outputs": [],
   "source": [
    "l = [1, 2, 3, 3, 2, 1]\n",
    "l_dedup = list(set(l))\n",
    "l_dedup"
   ]
  },
  {
   "cell_type": "markdown",
   "id": "25733f43",
   "metadata": {},
   "source": [
    "**Opérations ensemblistes**\n",
    "\n",
    "Comme les sets représentent programmatiquement les ensembles mathématiques, il n'est pas étonnant qu'ils permettent de réaliser des opérations ensemblistes élémentaires. Par exemple, l'union et l'intersection.\n"
   ]
  },
  {
   "cell_type": "code",
   "execution_count": null,
   "id": "9c657282",
   "metadata": {
    "lines_to_next_cell": 2
   },
   "outputs": [],
   "source": [
    "l1 = [5, 3, 2, 3, 3, 5, 8, 9]\n",
    "l2 = [3, 7, 0, 0, 1, 9, 4, 6]"
   ]
  },
  {
   "cell_type": "code",
   "execution_count": null,
   "id": "65a55f57",
   "metadata": {
    "lines_to_next_cell": 2
   },
   "outputs": [],
   "source": [
    "# Union : éléments soit dans l1, soit dans l2, soit dans les deux\n",
    "l_union = list(set(l1) | set(l2))\n",
    "l_union"
   ]
  },
  {
   "cell_type": "code",
   "execution_count": null,
   "id": "e6b0a807",
   "metadata": {},
   "outputs": [],
   "source": [
    "# Intersection : éléments à la fois dans l1 et dans l2\n",
    "l_inter = list(set(l1) & set(l2))\n",
    "l_inter"
   ]
  },
  {
   "cell_type": "markdown",
   "id": "b0454446",
   "metadata": {},
   "source": [
    "**Tests d'appartenance**\n",
    "\n",
    "Les sets sont également très utilisés pour réaliser des tests d'appartenance, dans la mesure où ils offrent de bien meilleures performances que les listes pour ce type de test.\n",
    "\n",
    "La notion de test fera l'objet d'un prochain tutoriel. Pour l'heure, retenons qu'un test d'appartenance du type \"est-ce que l'élément `a` est dans la liste `l`\" s'écrit en Python `a in l` et renvoie `True` ou `False` selon que `a` est effectivement présent dans la liste `l` ou non.\n"
   ]
  },
  {
   "cell_type": "code",
   "execution_count": null,
   "id": "02da0916",
   "metadata": {
    "lines_to_next_cell": 2
   },
   "outputs": [],
   "source": [
    "l = [1, 2, 3]\n",
    "2 in l"
   ]
  },
  {
   "cell_type": "code",
   "execution_count": null,
   "id": "ed9b7db7",
   "metadata": {},
   "outputs": [],
   "source": [
    "4 in l"
   ]
  },
  {
   "cell_type": "markdown",
   "id": "c3605bfd",
   "metadata": {},
   "source": [
    "Maintenant, imaginons que nous réalisions ce test sur une liste contenant des millions d'éléments. En exagérant, l'interpréteur Python devrait alors parcourir tous les éléments de la liste un à un jusqu'à trouver l'élément en question, ce qui peut prendre très longtemps. \n",
    "\n",
    "A l'inverse, comme les éléments d'un set sont uniques, Python peut facilement garder en mémoire la liste des éléments uniques contenus dans le set, et donc conclure très rapidement le test. Nous verrons une comparaison des performances dans un exercice de fin de tutoriel.\n",
    "\n",
    "NB : l'implémentation informatique des notions évoquées ci-dessus s'appelle une \"table de hachage\" (*hash table*). Le lecteur intéressé pourra trouver plus d'informations à propos de cette structure de données [ici](http://mpechaud.fr/scripts/donnees/tablesdehachage.html).\n",
    "\n",
    "## Exercices\n",
    "\n",
    "### Questions de compréhension\n",
    "\n",
    "- 1/ Peut-on accéder au `i`ième élément d'un dictionnaire ? d'un set ?\n",
    "- 2/ Quels types d'objets peuvent être utilisés comme clés d'un dictionnaire ? Comme valeurs ?\n",
    "- 3/ Pour quels types de données a-t-on intérêt à utiliser un dictionnaire ?\n",
    "- 4/ Un dictionnaire peut-il avoir des doublons dans ses clés ?\n",
    "- 5/ Pourquoi peut-on dire qu'un set est un dictionnaire particulier ?\n",
    "- 6/ Pourquoi les sets sont-ils utilisés pour dédupliquer des listes ?\n",
    "- 7/ Pourquoi les sets sont-ils plus pertinents que les listes pour réaliser des tests d'appartenance ?\n"
   ]
  },
  {
   "cell_type": "code",
   "execution_count": null,
   "id": "b3177a42",
   "metadata": {
    "lines_to_next_cell": 2
   },
   "outputs": [],
   "source": [
    "# Testez votre réponse dans cette cellule\n"
   ]
  },
  {
   "cell_type": "code",
   "execution_count": null,
   "id": "3ed53018",
   "metadata": {},
   "outputs": [],
   "source": [
    "# Exécuter cette cellule pour afficher la solution\n",
    "%load -r 3-20 solutions.py"
   ]
  },
  {
   "cell_type": "markdown",
   "id": "3eab1b39",
   "metadata": {},
   "source": [
    "### Exercice\n",
    "\n",
    "Soit le dictionnaire défini dans la cellule ci-dessous.\n",
    "\n",
    "Affichez à l'aide d'opérations `print` : \n",
    "- la liste des noms des différentes classes\n",
    "- la note de Miranda en histoire\n",
    "- la liste des notes obtenues par Hypolyte\n",
    "- la liste des noms des élèves de la 6emeB\n",
    "- la liste des matières enseignées en 6eme A\n",
    "- la liste de toutes les matières enseignées\n",
    "- la liste des notes obtenues par les filles des deux classes\n"
   ]
  },
  {
   "cell_type": "code",
   "execution_count": null,
   "id": "bd91dee5",
   "metadata": {
    "lines_to_next_cell": 2
   },
   "outputs": [],
   "source": [
    "resultats = {\n",
    "    \"6emeA\": {\"Miranda\" : {\"notes\": {\"physique\": 16, \"histoire\": 12}},\n",
    "              \"Celestin\": {\"notes\": {\"physique\": \"absent\", \"histoire\": 18}}\n",
    "             },\n",
    "    \"6emeB\": {\"Hypolyte\": {\"notes\": {\"maths\": 11, \"anglais\": 0}},\n",
    "              \"Josephine\": {\"notes\": {\"maths\": 16, \"anglais\": 20}}\n",
    "             }\n",
    "}"
   ]
  },
  {
   "cell_type": "code",
   "execution_count": null,
   "id": "868da84d",
   "metadata": {
    "lines_to_next_cell": 2
   },
   "outputs": [],
   "source": [
    "# Testez votre réponse dans cette cellule\n"
   ]
  },
  {
   "cell_type": "code",
   "execution_count": null,
   "id": "60ca375b",
   "metadata": {},
   "outputs": [],
   "source": [
    "# Exécuter cette cellule pour afficher la solution\n",
    "%load -r 24-38 solutions.py"
   ]
  },
  {
   "cell_type": "markdown",
   "id": "f16a80af",
   "metadata": {},
   "source": [
    "### Exercice\n",
    "\n",
    "Dans les tutoriels précédents, nous avons vu la fonction `len`, qui permet de compter le nombre d'éléments d'une séquence. Est-ce que cette fonction fonctionne avec les dictionnaires ? Que compte-t-elle alors ?\n"
   ]
  },
  {
   "cell_type": "code",
   "execution_count": null,
   "id": "89438be6",
   "metadata": {
    "lines_to_next_cell": 2
   },
   "outputs": [],
   "source": [
    "# Testez votre réponse dans cette cellule\n"
   ]
  },
  {
   "cell_type": "code",
   "execution_count": null,
   "id": "cc496c5d",
   "metadata": {},
   "outputs": [],
   "source": [
    "# Exécuter cette cellule pour afficher la solution\n",
    "%load -r 42-50 solutions.py"
   ]
  },
  {
   "cell_type": "markdown",
   "id": "cbfeb792",
   "metadata": {},
   "source": [
    "### Exercice\n",
    "\n",
    "Nous avons vu qu'on pouvait supprimer une clé d'un dictionnaire de deux manières différentes :\n",
    "- avec l'opérateur `del` : `del mon_dict[clé]`\n",
    "- avec la méthode `pop` : `mon_dict.pop(clé)`\n",
    "\n",
    "Au-delà de la syntaxe, quelles sont les deux différences majeures entre ces deux manières de supprimer une clé d'un dictionnaire ? N'hésitez pas à expérimenter avec des exemples de votre choix.\n"
   ]
  },
  {
   "cell_type": "code",
   "execution_count": null,
   "id": "9cf650d2",
   "metadata": {
    "lines_to_next_cell": 2
   },
   "outputs": [],
   "source": [
    "# Testez votre réponse dans cette cellule\n"
   ]
  },
  {
   "cell_type": "code",
   "execution_count": null,
   "id": "784ed733",
   "metadata": {},
   "outputs": [],
   "source": [
    "# Exécuter cette cellule pour afficher la solution\n",
    "%load -r 54-65 solutions.py"
   ]
  },
  {
   "cell_type": "markdown",
   "id": "4b2b9ddb",
   "metadata": {},
   "source": [
    "### Exercice\n",
    "\n",
    "En exploitant le fait que la méthode `pop` utilisée pour supprimer une clé d'un dictionnaire renvoie la valeur associée à cette clé, proposez une méthode pour renommer une clé d'un dictionnaire en une seule opération.\n"
   ]
  },
  {
   "cell_type": "code",
   "execution_count": null,
   "id": "ec184163",
   "metadata": {
    "lines_to_next_cell": 2
   },
   "outputs": [],
   "source": [
    "# Testez votre réponse dans cette cellule\n"
   ]
  },
  {
   "cell_type": "code",
   "execution_count": null,
   "id": "56958c23",
   "metadata": {},
   "outputs": [],
   "source": [
    "# Exécuter cette cellule pour afficher la solution\n",
    "%load -r 69-73 solutions.py"
   ]
  },
  {
   "cell_type": "markdown",
   "id": "c7c37dc7",
   "metadata": {},
   "source": [
    "### Exercice\n",
    "\n",
    "Soit le dictionnaire suivant :\n",
    "\n",
    "`animaux = {'chats': 5, 'chiens': 12}`\n",
    "\n",
    "Que vont retourner les tests d'appartenance suivants ? Vérifiez vos prédictions.\n",
    "\n",
    "- `'chats' in animaux.keys()`\n",
    "\n",
    "- `'chats' in animaux.values()`\n",
    "\n",
    "- `'chats' in animaux`\n"
   ]
  },
  {
   "cell_type": "code",
   "execution_count": null,
   "id": "a94cfa60",
   "metadata": {
    "lines_to_next_cell": 2
   },
   "outputs": [],
   "source": [
    "# Testez votre réponse dans cette cellule\n"
   ]
  },
  {
   "cell_type": "code",
   "execution_count": null,
   "id": "56c09db3",
   "metadata": {},
   "outputs": [],
   "source": [
    "# Exécuter cette cellule pour afficher la solution\n",
    "%load -r 77-91 solutions.py"
   ]
  },
  {
   "cell_type": "markdown",
   "id": "d6a99358",
   "metadata": {},
   "source": [
    "### Exercice\n",
    "\n",
    "Nous avons vu que l'opération `del` renvoyait une erreur lorsqu'on l'utilisait pour supprimer une clé inexistante d'un dictionnaire. A l'aide de vos nouvelles connaissances sur les tests d'appartenance, pouvez-vous imaginer une méthode (sans nécessairement l'implémenter) qui permettrait de traiter ce cas sans erreur ?\n"
   ]
  },
  {
   "cell_type": "code",
   "execution_count": null,
   "id": "1fa85ea7",
   "metadata": {
    "lines_to_next_cell": 2
   },
   "outputs": [],
   "source": [
    "# Testez votre réponse dans cette cellule\n"
   ]
  },
  {
   "cell_type": "code",
   "execution_count": null,
   "id": "43fc3986",
   "metadata": {},
   "outputs": [],
   "source": [
    "# Exécuter cette cellule pour afficher la solution\n",
    "%load -r 95-104 solutions.py"
   ]
  },
  {
   "cell_type": "markdown",
   "id": "05069890",
   "metadata": {},
   "source": [
    "### Exercice\n",
    "\n",
    "Soit la chaîne de caractères avec répétition suivante :\n",
    "\n",
    "`x = \"cdabcdabcdabcdabcdabcdabcdabcdabcdab\"`\n",
    "\n",
    "Construisez une liste des caractères uniques se trouvant dans cette chaîne, classée par ordre alphabétique, soit :\n",
    "\n",
    "`l = ['a', 'b', 'c', 'd']`\n",
    "\n",
    "Indice : la procédure est semblable au fait de supprimer les doublons d'une liste.\n"
   ]
  },
  {
   "cell_type": "code",
   "execution_count": null,
   "id": "8f0c29e7",
   "metadata": {
    "lines_to_next_cell": 2
   },
   "outputs": [],
   "source": [
    "# Testez votre réponse dans cette cellule\n"
   ]
  },
  {
   "cell_type": "code",
   "execution_count": null,
   "id": "f4196032",
   "metadata": {},
   "outputs": [],
   "source": [
    "# Exécuter cette cellule pour afficher la solution\n",
    "%load -r 108-111 solutions.py"
   ]
  },
  {
   "cell_type": "markdown",
   "id": "212e041a",
   "metadata": {},
   "source": [
    "### Exercice\n",
    "\n",
    "Soit les deux chaînes de caractères suivantes.\n",
    "\n",
    "`cyrano1 = 'C’est un roc ! … c’est un pic ! … c’est un cap !'`\n",
    "\n",
    "`cyrano2 = 'Que dis-je, c’est un cap ? … C’est une péninsule !'`\n",
    "\n",
    "Question 1 : trouvez les caractères qui apparaissent à la fois dans les deux chaînes.\n",
    "\n",
    "Question 2 : trouvez les caractères qui apparaissent dans au moins un des deux textes.\n"
   ]
  },
  {
   "cell_type": "code",
   "execution_count": null,
   "id": "5b2df994",
   "metadata": {
    "lines_to_next_cell": 2
   },
   "outputs": [],
   "source": [
    "# Testez votre réponse dans cette cellule\n"
   ]
  },
  {
   "cell_type": "code",
   "execution_count": null,
   "id": "f0da0b96",
   "metadata": {},
   "outputs": [],
   "source": [
    "# Exécuter cette cellule pour afficher la solution\n",
    "%load -r 115-126 solutions.py"
   ]
  },
  {
   "cell_type": "markdown",
   "id": "f883e522",
   "metadata": {},
   "source": [
    "### Exercice\n",
    "\n",
    "Le code ci-dessous génère une liste avec les lettres a, b, c et d répétées 1 million de fois. Ensuite, il réalise un test d'appartenance d'une lettre qui n'existe pas dans la liste, et calcule le temps mis par l'interpréteur Python pour réaliser le test.\n",
    "\n",
    "En reprenant cette syntaxe, comparez le temps mis par le même test d'appartenance lorsqu'on transforme la liste en set au préalable.\n"
   ]
  },
  {
   "cell_type": "code",
   "execution_count": null,
   "id": "9a638c7f",
   "metadata": {
    "lines_to_next_cell": 2
   },
   "outputs": [],
   "source": [
    "x = ['a', 'b', 'c', 'd'] * 1000000\n",
    "print(x[:10])\n",
    "\n",
    "%time 'e' in x"
   ]
  },
  {
   "cell_type": "code",
   "execution_count": null,
   "id": "620bc33b",
   "metadata": {
    "lines_to_next_cell": 2
   },
   "outputs": [],
   "source": [
    "# Testez votre réponse dans cette cellule\n"
   ]
  },
  {
   "cell_type": "code",
   "execution_count": null,
   "id": "2b1e76b3",
   "metadata": {
    "lines_to_next_cell": 2
   },
   "outputs": [],
   "source": [
    "# Exécuter cette cellule pour afficher la solution\n",
    "%load -r 130-141 solutions.py"
   ]
  },
  {
   "cell_type": "code",
   "execution_count": null,
   "id": "0d2902a3",
   "metadata": {},
   "outputs": [],
   "source": []
  }
 ],
 "metadata": {
  "jupytext": {
   "cell_metadata_filter": "-all",
   "main_language": "python",
   "notebook_metadata_filter": "-all"
  }
 },
 "nbformat": 4,
 "nbformat_minor": 5
}
