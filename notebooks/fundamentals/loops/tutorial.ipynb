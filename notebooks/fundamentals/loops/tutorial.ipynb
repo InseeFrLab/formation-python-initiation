{
  "cells": [
    {
      "cell_type": "markdown",
      "metadata": {},
      "source": [
        "# Boucles\n",
        "\n",
        "Automatisation d’opérations répétitives à l’aide des boucles for et des\n",
        "boucles while.\n",
        "\n",
        "Dans le tutoriel précédent, nous avons étudié les tests, qui permettent\n",
        "à un ordinateur de prendre des décisions selon des conditions spécifiées\n",
        "dans un programme. Nous allons à présent aller encore plus loin dans\n",
        "l’automatisation des opérations, grâce à la notion de **boucle**. Les\n",
        "boucles vont permettre de répéter plusieurs fois une instruction\n",
        "semblable sans avoir à réécrire le même code à chaque fois.\n",
        "\n",
        "Pour illustrer cette idée, imaginons que l’on souhaite afficher chaque\n",
        "élément d’une liste. Pour l’instant, on ferait :"
      ],
      "id": "b9350e0f-d165-4a76-a722-325b0dd7d685"
    },
    {
      "cell_type": "code",
      "execution_count": 1,
      "metadata": {},
      "outputs": [],
      "source": [
        "gamme = ['do', 're', 'mi', 'fa', 'sol', 'la', 'si']\n",
        "\n",
        "print(gamme[0])\n",
        "print(gamme[1])\n",
        "print(gamme[2])"
      ],
      "id": "e4784de1"
    },
    {
      "cell_type": "markdown",
      "metadata": {},
      "source": [
        "Et ainsi de suite. On voit tout de suite qu’une telle opération serait\n",
        "impraticable pour une liste contenant des centaines d’éléments. Les\n",
        "boucles vont résoudre ce problème de manière élégante et efficiente.\n",
        "\n",
        "## Boucles `for`\n",
        "\n",
        "### Définition\n",
        "\n",
        "Le premier type de boucles auquel nous allons nous intéresser est la\n",
        "boucle `for`. Une boucle `for` permet de parcourir les différents\n",
        "éléments contenus dans un objet dit **itérable**, et de réaliser des\n",
        "opérations avec ces éléments. Les objets itérables incluent notamment\n",
        "tous les objets séquentiels que nous avons vus jusqu’à présent : chaînes\n",
        "de caractères, listes, tuples, etc.\n",
        "\n",
        "Illustrons le fonctionnement d’une boucle `for` en résolvant le problème\n",
        "exposé précédemment."
      ],
      "id": "705af967-0b94-4ccd-a3b8-fb0f61604816"
    },
    {
      "cell_type": "code",
      "execution_count": 2,
      "metadata": {},
      "outputs": [],
      "source": [
        "for note in gamme:\n",
        "    print(note)"
      ],
      "id": "56db1a1b"
    },
    {
      "cell_type": "markdown",
      "metadata": {},
      "source": [
        "### Syntaxe\n",
        "\n",
        "Analysons la structure d’une boucle `for` : - La première ligne spécifie\n",
        "une **instruction `for`**, et comme toute instruction en Python se\n",
        "termine par `:`. - Vient ensuite un **bloc d’instructions**, i.e. une\n",
        "suite d’opérations (une seule dans notre exemple) qui sera exécutée à\n",
        "chaque itération de la boucle. Ce bloc est visible par son **niveau\n",
        "d’indentation**, incrémenté de 1 par rapport à l’instruction. Le bloc\n",
        "s’arrête dès lors que l’indentation revient à son niveau initial.\n",
        "\n",
        "Comme pour les instructions conditionnelles de type `if`/`else`,\n",
        "l’indentation est donc capitale. Si on l’oublie, Python renvoie une\n",
        "erreur."
      ],
      "id": "896168a4-5699-4b8e-bf65-d64690b2cff2"
    },
    {
      "cell_type": "code",
      "execution_count": 3,
      "metadata": {},
      "outputs": [],
      "source": [
        "for note in gamme:\n",
        "    print(note)"
      ],
      "id": "16c5f788"
    },
    {
      "cell_type": "markdown",
      "metadata": {},
      "source": [
        "### Fonctionnement\n",
        "\n",
        "Regardons maintenant plus en détail ce que fait l’instruction `for`.\n",
        "Elle définit une **variable d’itération** (appelée `note` dans notre\n",
        "exemple), qui va parcourir les éléments de l’**itérateur** spécifié\n",
        "après le `in` (la liste `gamme` dans notre exemple). La syntaxe d’une\n",
        "boucle en Python se prête bien à une description littérale ; dans notre\n",
        "cas : “pour chaque note contenue dans la liste gamme, imprime la note”.\n",
        "\n",
        "Insistons sur le fait qu’une boucle définit une variable, sans que l’on\n",
        "ait besoin de passer par la syntaxe traditionnelle d’assignation\n",
        "`variable = valeur`. De plus, cette variable n’est pas supprimée une\n",
        "fois la boucle terminée, elle prend alors la valeur du dernier élément\n",
        "de l’itérateur."
      ],
      "id": "fa247e06-c4b1-45b2-a004-4992e8084629"
    },
    {
      "cell_type": "code",
      "execution_count": 4,
      "metadata": {},
      "outputs": [],
      "source": [
        "note"
      ],
      "id": "b3fa5ead"
    },
    {
      "cell_type": "markdown",
      "metadata": {},
      "source": [
        "L’itérateur n’est pas nécessairement une liste, il peut être tout objet\n",
        "itérable. Cela inclut notamment tous les objets séquentiels que nous\n",
        "avons vu."
      ],
      "id": "13848b06-538d-4946-bb7f-346f4539afd2"
    },
    {
      "cell_type": "code",
      "execution_count": 5,
      "metadata": {},
      "outputs": [],
      "source": [
        "for char in \"YMCA\":\n",
        "    print(char)\n",
        "    \n",
        "print()  # Saut de ligne\n",
        "    \n",
        "t = (1, 2, 3, 4, 5)\n",
        "for i in t:\n",
        "    print(i*9)"
      ],
      "id": "b56e18b7"
    },
    {
      "cell_type": "markdown",
      "metadata": {},
      "source": [
        "La classe des objets itérables est cependant bien plus grande que les\n",
        "seuls objets séquentiels. Par exemple, on peut itérer sur les clés d’un\n",
        "dictionnaire, alors que l’on a vu dans un tutoriel précédent que ce\n",
        "n’était pas un objet séquentiel, puisqu’il n’y a pas de notion d’ordre\n",
        "dans un dictionnaire."
      ],
      "id": "678c3de5-850a-4461-801d-ce0c03c14999"
    },
    {
      "cell_type": "code",
      "execution_count": 6,
      "metadata": {},
      "outputs": [],
      "source": [
        "inventaire = {'cafe': '500g', 'lait': '1,5L', 'cereales': '1kg'}\n",
        "for key in inventaire:\n",
        "    print(key)\n",
        "    print(inventaire[key])\n",
        "    print()  # Saut de ligne"
      ],
      "id": "d65945d1"
    },
    {
      "cell_type": "markdown",
      "metadata": {},
      "source": [
        "### Itération sur des entiers avec la fonction `range`\n",
        "\n",
        "En programmation, il est courant de vouloir itérer sur une suite\n",
        "d’entiers. Plutôt que de spécifier cette suite dans une liste, ce qui\n",
        "n’est pas très pratique si la suite est longue, on utilise pour ce faire\n",
        "la fonction `range(n)`. Celle-ci crée un objet itérable qui contient\n",
        "tous les entiers compris entre $0$ et $n-1$, et qui peut être utilisé\n",
        "dans le cadre d’une boucle.\n",
        "\n",
        "Regardons par exemple comment on peut très simplement afficher une table\n",
        "de multiplication à l’aide de cette fonction."
      ],
      "id": "0d16e698-2116-42b7-b1e8-4a19fe5c22f3"
    },
    {
      "cell_type": "code",
      "execution_count": 7,
      "metadata": {},
      "outputs": [],
      "source": [
        "table = 9\n",
        "\n",
        "for i in range(11):\n",
        "    print(i, i*9)"
      ],
      "id": "82bd06a6"
    },
    {
      "cell_type": "markdown",
      "metadata": {},
      "source": [
        "### Itération sur les indices\n",
        "\n",
        "On a vu qu’une boucle `for` avait pour principe d’itérer sur les\n",
        "*éléments* d’un itérable. Cependant, dans le cas d’un objet séquentiel\n",
        "comme une liste, on peut parfois vouloir itérer sur les *indices* de\n",
        "l’objet, afin de pouvoir manipuler à la fois les indices et les éléments\n",
        "contenus dans l’objet. Dans ce cas, la fonction `range` peut être\n",
        "utilisée en combinaison avec la fonction `len` pour créer un objet\n",
        "itérable qui contient exactement les indices de la liste initiale."
      ],
      "id": "df39c312-9df0-481d-ab59-27909df30098"
    },
    {
      "cell_type": "code",
      "execution_count": 8,
      "metadata": {},
      "outputs": [],
      "source": [
        "gamme = ['do', 're', 'mi', 'fa', 'sol', 'la', 'si']\n",
        "\n",
        "for i in range(len(gamme)):\n",
        "    print(\"La note numéro \" + str(i) + \" de la gamme de do majeur est \" + gamme[i])"
      ],
      "id": "57a14d31"
    },
    {
      "cell_type": "markdown",
      "metadata": {},
      "source": [
        "Comme ce besoin est fréquent mais que le code ci-dessus n’est pas très\n",
        "lisible, il existe une fonction *built-in* de Python appelée `enumerate`\n",
        "qui permet d’itérer à la fois sur les objets et les indices. Il est donc\n",
        "préférable d’utiliser cette syntaxe, plus claire, et qui permet d’éviter\n",
        "certaines erreurs.\n",
        "\n",
        "La fonction `enumerate` appliquée à un objet itérable renvoie un nouvel\n",
        "objet itérable qui contient l’ensemble des couples `(indice, élément)`\n",
        "contenus dans l’objet, sous forme de tuples. Comme c’est un objet de\n",
        "type particulier – un générateur, que nous verrons dans un tutoriel plus\n",
        "avancé – il faut lui appliquer la fonction `list` pour afficher son\n",
        "contenu."
      ],
      "id": "404a21a7-e0d6-4760-a8a8-7b51dc406bf8"
    },
    {
      "cell_type": "code",
      "execution_count": 9,
      "metadata": {},
      "outputs": [],
      "source": [
        "list(enumerate(gamme))"
      ],
      "id": "dd4224ba"
    },
    {
      "cell_type": "markdown",
      "metadata": {},
      "source": [
        "Regardons comment réécrire la boucle précédente avec cette nouvelle\n",
        "syntaxe."
      ],
      "id": "09efd9df-8410-4be6-9f26-08ce2888c4bb"
    },
    {
      "cell_type": "code",
      "execution_count": 10,
      "metadata": {},
      "outputs": [],
      "source": [
        "for i, note in enumerate(gamme):\n",
        "    print(\"La note numéro \" + str(i) + \" de la gamme de do majeur est \" + note)"
      ],
      "id": "7e995644"
    },
    {
      "cell_type": "markdown",
      "metadata": {},
      "source": [
        "NB : pour faire l’assignation de variables dans l’instruction `if`, on a\n",
        "utilisé une technique bien pratique que l’on avait déjà évoquée dans un\n",
        "exercice du tutoriel sur les listes et les tuples : le *tuple\n",
        "unpacking*. Illustrons le par un exemple :"
      ],
      "id": "26193587-0738-4674-92c6-b17d516a6a7e"
    },
    {
      "cell_type": "code",
      "execution_count": 11,
      "metadata": {},
      "outputs": [],
      "source": [
        "t = (1, 2, 3)\n",
        "a, b, c = t\n",
        "print(a)\n",
        "print(b)\n",
        "print(c)"
      ],
      "id": "82cd3071"
    },
    {
      "cell_type": "markdown",
      "metadata": {},
      "source": [
        "## Boucles `while`\n",
        "\n",
        "### Définition\n",
        "\n",
        "Les boucles `while` fournissent une manière alternative de spécifier des\n",
        "procédures répétitives. L’idée n’est plus d’itérer sur un nombre\n",
        "d’objets fixé à l’avance, mais d’**itérer tant qu’une condition (test\n",
        "logique) est remplie**."
      ],
      "id": "45b90bd6-7fe1-4fa5-8eb3-c39cf0188085"
    },
    {
      "cell_type": "code",
      "execution_count": 12,
      "metadata": {},
      "outputs": [],
      "source": [
        "i = 1\n",
        "while i <= 5:\n",
        "    print(i)\n",
        "    i = i + 1"
      ],
      "id": "946ae6b4"
    },
    {
      "cell_type": "markdown",
      "metadata": {},
      "source": [
        "### Syntaxe\n",
        "\n",
        "La différence essentielle avec la boucle `for` est l’instruction : c’est\n",
        "désormais une instruction `while`, suivie d’une condition (test), et\n",
        "comme toute instruction de `:`.\n",
        "\n",
        "Pour le reste, le principe est le même : l’instruction `while` est suivi\n",
        "d’un bloc d’instructions, indenté d’un niveau, et qui s’exécute\n",
        "séquentiellement à chaque itération de la boucle.\n",
        "\n",
        "### Critère d’arrêt\n",
        "\n",
        "Une différence essentielle des boucles `while` par rapport aux boucles\n",
        "`for` tient au critère d’arrêt. Dans une boucle `for`, ce critère est\n",
        "clair : la boucle itère sur les éléments d’un objet itérable,\n",
        "nécessairement de taille finie. La boucle s’arrête donc lorsque chaque\n",
        "élément de l’itérable a été parcouru.\n",
        "\n",
        "Dans une boucle `while` au contraire, le critère d’arrêt est donné par\n",
        "une condition logique, c’est donc l’utilisateur qui doit fixer le\n",
        "critère d’arrêt. Dans l’exemple, pour que la boucle s’arrête, il faut\n",
        "que la condition `i <= 5` devienne `False`, c’est à dire que `i`\n",
        "devienne strictement supérieur à $5$. On s’est assuré de cela en\n",
        "initialisant `i` à $1$ avant le début de la boucle, puis en incrémentant\n",
        "`i` d’une unité à chaque itération.\n",
        "\n",
        "Que se passe-t-il si l’on oublie d’incrémenter `i` ? Le critère d’arrêt\n",
        "n’est jamais atteint, la boucle est donc infinie, et il faut utiliser le\n",
        "bouton “Stop” (carré noir) de Jupyter pour arrêter le programme en\n",
        "cours. Vérifions cela en incrémentant la mauvaise variable."
      ],
      "id": "7d2c8da3-18f4-4800-a048-8bab306d8879"
    },
    {
      "cell_type": "code",
      "execution_count": 13,
      "metadata": {},
      "outputs": [],
      "source": [
        "i = 1\n",
        "j = 1\n",
        "while i <= 5:\n",
        "    j = j + 1"
      ],
      "id": "edc0d62d"
    },
    {
      "cell_type": "code",
      "execution_count": 14,
      "metadata": {},
      "outputs": [],
      "source": [
        "print(i)\n",
        "print(j)"
      ],
      "id": "dfd710a0"
    },
    {
      "cell_type": "markdown",
      "metadata": {},
      "source": [
        "### L’instruction `break`\n",
        "\n",
        "Une manière alternative de spécifier un critère d’arrêt est d’utiliser\n",
        "l’instruction `break`. Lorsque cette instruction est atteinte et\n",
        "exécutée, la boucle est immédiatement interrompue.\n",
        "\n",
        "Illustrons son fonctionnement à l’aide d’un exemple. La première ligne\n",
        "crée une boucle infinie, dans la mesure où, par définition, `True` est\n",
        "toujours évalué à `True`. Le programme demande ensuite à l’utilisateur\n",
        "de taper un prénom, et ce infiniment jusqu’à que l’utilisateur tape le\n",
        "prénom attendu. Dans ce cas seulement, l’instruction `break` est\n",
        "atteinte et la boucle s’arrête. Le message “Bienvenue <votre_prenom>”\n",
        "s’affiche enfin, dans la mesure où le deuxième `print` n’est pas inclus\n",
        "dans la boucle."
      ],
      "id": "5683a395-1448-4e3b-a40e-cfef3bab5f29"
    },
    {
      "cell_type": "code",
      "execution_count": 15,
      "metadata": {},
      "outputs": [],
      "source": [
        "votre_prenom = \"Romain\"\n",
        "\n",
        "while True:\n",
        "    print(\"Veuillez entrer votre prénom.\")\n",
        "    prenom = input()\n",
        "    if prenom == votre_prenom:\n",
        "        break\n",
        "print(\"Bienvenue \" + votre_prenom)"
      ],
      "id": "5914d3ec"
    },
    {
      "cell_type": "markdown",
      "metadata": {},
      "source": [
        "Il est important de noter qu’une instruction `break` ne met fin qu’à la\n",
        "boucle de niveau directement supérieur à elle. Dans le cas d’une boucle\n",
        "à plusieurs niveaux, il est tout à fait possible que les opérations\n",
        "continuent même lorsqu’une instruction `break` a été atteinte.\n",
        "\n",
        "Illustrons ce principe avec un exemple."
      ],
      "id": "e037182b-5fd1-44f8-ad71-d4a23047aae3"
    },
    {
      "cell_type": "code",
      "execution_count": 16,
      "metadata": {},
      "outputs": [],
      "source": [
        "i = 0\n",
        "while i <= 5:\n",
        "    for j in range(5):\n",
        "        if j == 2:\n",
        "            print(\"Break.\")\n",
        "            break\n",
        "    i += 1"
      ],
      "id": "6e983011"
    },
    {
      "cell_type": "markdown",
      "metadata": {},
      "source": [
        "A chaque itération de la boucle `while`, une boucle `for` est lancée,\n",
        "qui atteint une instruction `break` à la troisième itération (lorsque\n",
        "`j` vaut 2). Cela a pour effet de mettre fin à la boucle `for`, mais pas\n",
        "à la boucle `while`, qui exécute la suite de ses instructions\n",
        "(l’incrémentation de `i` d’une unité) avant de passer à l’itération\n",
        "suivante.\n",
        "\n",
        "### L’instruction `continue`\n",
        "\n",
        "L’instruction `continue` permet de passer à l’itération suivante de la\n",
        "boucle.\n",
        "\n",
        "Agrémentons l’exemple précédent pour illustrer son fonctionnement. Tant\n",
        "qu’un prénom différent de celui attendu est rentré, l’instruction\n",
        "`continue` est évaluée, et le programme continue à demander un prénom à\n",
        "l’utilisateur. Lorsque le bon prénom est rentré, le programme demande à\n",
        "l’utilisateur de rentrer un mot de passe. Si le mot de passe est celui\n",
        "attendu, l’instruction `break` est atteinte et exécutée, la boucle\n",
        "s’arrête. En cas de mauvais mot de passe en revanche, la boucle\n",
        "redémarre au début du bloc d’exécution, il faut donc de nouveau rentrer\n",
        "un prénom avant le mot de passe."
      ],
      "id": "573718f5-17e2-4623-9973-88bdddd71c01"
    },
    {
      "cell_type": "code",
      "execution_count": 17,
      "metadata": {},
      "outputs": [],
      "source": [
        "votre_prenom = \"\"\n",
        "\n",
        "while True:\n",
        "    print(\"Veuillez entrer votre prénom.\")\n",
        "    prenom = input()\n",
        "    if prenom != votre_prenom:\n",
        "        continue\n",
        "    print(\"Veuillez entrer votre mot de passe.\")\n",
        "    mdp = input()\n",
        "    if mdp == \"insee2021\":\n",
        "        break\n",
        "print(\"Bienvenue \" + votre_prenom)"
      ],
      "id": "7bddddda"
    },
    {
      "cell_type": "markdown",
      "metadata": {},
      "source": [
        "NB : le code ci-dessus à seulement valeur d’exemple. Comme on le verra\n",
        "dans un prochain tutoriel sur les bonnes pratiques de code, il ne faut\n",
        "**jamais écrire de secrets (mots de passe, tokens..) en clair dans son\n",
        "code.**\n",
        "\n",
        "## Exercices\n",
        "\n",
        "### Questions de compréhension\n",
        "\n",
        "-   1/ Comment fonctionne une boucle `for` ?\n",
        "-   2/ La variable d’itération définie lors d’une boucle `for`\n",
        "    persiste-t-elle en mémoire une fois la boucle terminée ?\n",
        "-   3/ Que fait la fonction `range` ? Pourquoi est-elle particulièrement\n",
        "    utile dans le cadre des boucles `for` ?\n",
        "-   4/ Que fait la fonction `enumerate` ? Pourquoi est-elle\n",
        "    particulièrement utile dans le cadre des boucles `for` ?\n",
        "-   5/ Comment fonctionne une boucle `while` ?\n",
        "-   6/ Quand s’arrête une boucle `while` ? En quoi cela diffère-t-il des\n",
        "    boucles `for` ?\n",
        "-   7/ Que fait l’instruction `break` ?\n",
        "-   8/ Que fait l’instruction `continue` ?\n",
        "\n",
        "\\`\\`\\`rymdzezu tags=\\[\\] \\# Testez votre réponse dans cette cellule\n",
        "\n",
        "\n",
        "    ```{python} tags=[]\n",
        "    # Exécuter cette cellule pour afficher la solution\n",
        "    %load -r 3-33 solutions.py\n",
        "\n",
        "### Prédiction de résultats de boucles `while`\n",
        "\n",
        "Essayer de prédire ce que vont produire les boucles `while` suivantes,\n",
        "et vérifiez vos résultats."
      ],
      "id": "e2f8b003-e2cd-4118-bd5a-643cd0c0ee45"
    },
    {
      "cell_type": "code",
      "execution_count": 18,
      "metadata": {},
      "outputs": [],
      "source": [
        "# 1.\n",
        "i = 0\n",
        "while i <= 10:\n",
        "    print(i)\n",
        "    \n",
        "# 2.\n",
        "a = 1\n",
        "while (a < 10):\n",
        "    a += 1\n",
        "    if a == 5:\n",
        "        break\n",
        "    print(\"Condition d'arrêt atteinte.\")\n",
        "    \n",
        "# 3.\n",
        "while False:\n",
        "    print(\"hello world\")\n",
        "\n",
        "# 4.\n",
        "while True:\n",
        "    print(\"hello world\")\n",
        "    break\n",
        "\n",
        "# 5.\n",
        "while 5 >= 3:\n",
        "    continue\n",
        "    print(\"hello world\")"
      ],
      "id": "14957207"
    },
    {
      "cell_type": "markdown",
      "metadata": {},
      "source": [
        "\\`\\`\\`rymdzezu tags=\\[\\] \\# Testez votre réponse dans cette cellule\n",
        "\n",
        "\n",
        "    ```{python} tags=[]\n",
        "    # Exécuter cette cellule pour afficher la solution\n",
        "    %load -r 37-51 solutions.py\n",
        "\n",
        "### Effet d’une erreur d’indentation\n",
        "\n",
        "Source :\n",
        "[python.sdv.univ-paris-diderot.fr](https://python.sdv.univ-paris-diderot.fr/06_tests/)\n",
        "\n",
        "Afin de visualiser l’importance de l’indentation dans les blocs\n",
        "d’instruction, essayez de prédire ce que vont respectivement retourner\n",
        "les deux programmes suivants. Lequel a l’effet attendu ?"
      ],
      "id": "711d2cad-8add-41cf-aea4-6ea9ba2f5b9e"
    },
    {
      "cell_type": "code",
      "execution_count": 19,
      "metadata": {},
      "outputs": [],
      "source": [
        "nombres = [4, 5, 6]\n",
        "for nb in nombres:\n",
        "    if nb == 5:\n",
        "        print(\"Le test est vrai\")\n",
        "        print(\"car la variable nb vaut {nb}\")"
      ],
      "id": "1119a332"
    },
    {
      "cell_type": "markdown",
      "metadata": {},
      "source": [
        "`rymdzezu tags=[] nombres = [4, 5, 6] for nb in nombres:     if nb == 5:         print(\"Le test est vrai\")     print(\"car la variable nb vaut {nb}\")`\n",
        "\n",
        "\\`\\`\\`rymdzezu tags=\\[\\] \\# Testez votre réponse dans cette cellule\n",
        "\n",
        "\n",
        "    ```{python} tags=[]\n",
        "    # Exécuter cette cellule pour afficher la solution\n",
        "    %load -r 55-58 solutions.py\n",
        "\n",
        "### Convertir une boucle `for` en boucle `while`\n",
        "\n",
        "Réécrivez la boucle `for` suivante à l’aide d’une boucle `while`.\n",
        "\n",
        "\\`\\`\\`rymdzezu tags=\\[\\] gamme = \\[‘do’, ‘re’, ‘mi’, ‘fa’, ‘sol’, ‘la’,\n",
        "‘si’\\]\n",
        "\n",
        "for i, note in enumerate(gamme): print(“La note numéro” + str(i) + ” de\n",
        "la gamme de do majeur est ” + note)\n",
        "\n",
        "\n",
        "    ```{python} tags=[]\n",
        "    # Testez votre réponse dans cette cellule\n",
        "\n",
        "`rymdzezu tags=[] # Exécuter cette cellule pour afficher la solution %load -r 62-68 solutions.py`\n",
        "\n",
        "### Recherche d’un élément dans une liste\n",
        "\n",
        "Soit un entier cible `n_cible` et une liste d’entiers `l` tels que\n",
        "définis dans la cellule suivante. A l’aide d’une boucle `for` et de la\n",
        "fonction `enumerate` : - vérifier si l’entier cible est présent dans la\n",
        "liste `l`. - si oui, afficher le message ‘Le nombre `n_cible` est à la\n",
        "position `i` de la liste’, et mettre fin à la boucle."
      ],
      "id": "5a80cb2e-888d-4c10-a776-b36f484f95b4"
    },
    {
      "cell_type": "code",
      "execution_count": 20,
      "metadata": {},
      "outputs": [],
      "source": [
        "n_cible = 78\n",
        "\n",
        "l = [12, 98, 65, 39, 78, 55, 119, 27, 33]"
      ],
      "id": "fd839cde"
    },
    {
      "cell_type": "markdown",
      "metadata": {},
      "source": [
        "\\`\\`\\`rymdzezu tags=\\[\\] \\# Testez votre réponse dans cette cellule\n",
        "\n",
        "\n",
        "    ```{python} tags=[]\n",
        "    # Exécuter cette cellule pour afficher la solution\n",
        "    %load -r 72-84 solutions.py\n",
        "\n",
        "### Suite de Fibonacci"
      ],
      "id": "903b312d-8ad6-4c2f-9c61-b3c6e5e30af7"
    },
    {
      "cell_type": "raw",
      "metadata": {
        "raw_mimetype": "text/html"
      },
      "source": [
        "<!-- #region tags=[] -->"
      ],
      "id": "23227003-7872-4478-bd1a-d6f7656cac00"
    },
    {
      "cell_type": "markdown",
      "metadata": {},
      "source": [
        "La suite de Fibonacci se définit de la manière suivante : - les deux\n",
        "premiers nombres sont 0 et 1 - chaque autre nombre de la suite s’obtient\n",
        "en additionnant les deux nombres qui le précèdent\n",
        "\n",
        "Ecrire un programme permettant de calculer les $n$ premiers termes de la\n",
        "suite à l’aide d’une boucle `for`. <!-- #endregion -->\n",
        "\n",
        "\\`\\`\\`rymdzezu tags=\\[\\] \\# Testez votre réponse dans cette cellule\n",
        "\n",
        "\n",
        "    ```{python} tags=[]\n",
        "    # Exécuter cette cellule pour afficher la solution\n",
        "    %load -r 88-96 solutions.py\n",
        "\n",
        "### Dictionnaire des tables de multiplication"
      ],
      "id": "38d60d53-52b6-40ae-afc2-509367a78b7a"
    },
    {
      "cell_type": "raw",
      "metadata": {
        "raw_mimetype": "text/html"
      },
      "source": [
        "<!-- #region tags=[] -->"
      ],
      "id": "c85de53a-4dc1-4624-a9b0-a45f7977557d"
    },
    {
      "cell_type": "markdown",
      "metadata": {},
      "source": [
        "A l’aide de deux boucles `for` imbriquées, construire un dictionnaire\n",
        "`tables` permettant de réaliser les tables de multiplication jusqu’à la\n",
        "table de 12. Requêtez votre dictionnaire pour vérifier sa pertinence.\n",
        "\n",
        "Voici quelques exemples de requête que doit renvoyer votre dictionnaire\n",
        ": - tables\\[2\\]\\[3\\] -\\> 6 - tables\\[9\\]\\[5\\] -\\> 45 - tables\\[12\\]\\[7\\]\n",
        "-\\> 84 <!-- #endregion -->\n",
        "\n",
        "\\`\\`\\`rymdzezu tags=\\[\\] \\# Testez votre réponse dans cette cellule\n",
        "\n",
        "\n",
        "    ```{python} tags=[]\n",
        "    # Exécuter cette cellule pour afficher la solution\n",
        "    %load -r 100-109 solutions.py\n",
        "\n",
        "### Calcul du minimum et du maximum d’une série “à la main”"
      ],
      "id": "e763bee8-11ab-4d12-b99e-af8ef943bde3"
    },
    {
      "cell_type": "raw",
      "metadata": {
        "raw_mimetype": "text/html"
      },
      "source": [
        "<!-- #region tags=[] -->"
      ],
      "id": "eb0c3272-9b81-433d-8740-2eb4875aab11"
    },
    {
      "cell_type": "markdown",
      "metadata": {},
      "source": [
        "Calculer le minimum et le maximum de la série de valeurs suivantes, sans\n",
        "utiliser les fonctions `min` et `max` de Python.\n",
        "\n",
        "x = \\[8, 18, 6, 0, 15, 17.5, 9, 1\\] <!-- #endregion -->\n",
        "\n",
        "\\`\\`\\`rymdzezu tags=\\[\\] \\# Testez votre réponse dans cette cellule\n",
        "\n",
        "\n",
        "    ```{python} tags=[]\n",
        "    # Exécuter cette cellule pour afficher la solution\n",
        "    %load -r 113-124 solutions.py\n",
        "\n",
        "### Calcul de moyenne et de variance “à la main”"
      ],
      "id": "0c3f31af-ae89-451a-902b-ac04502a6eef"
    },
    {
      "cell_type": "raw",
      "metadata": {
        "raw_mimetype": "text/html"
      },
      "source": [
        "<!-- #region tags=[] -->"
      ],
      "id": "073f592d-77b8-435c-85c0-db54735663cd"
    },
    {
      "cell_type": "markdown",
      "metadata": {},
      "source": [
        "Calculer la moyenne et la variance de la série de valeurs suivantes,\n",
        "sans utiliser des fonctions déjà codées :\n",
        "\n",
        "x = \\[8, 18, 6, 0, 15, 17.5, 9, 1\\]\n",
        "\n",
        "Pour rappel, les formules sont : - moyenne :\n",
        "$$\\bar{x} = {\\frac {1}{n}}\\sum_{i=1}^{n}x_{i}$$ - variance :\n",
        "$$\\sigma^2 = {\\frac {1}{n}}\\sum_{i=1}^{n} (x_{i}-\\bar{x})^2$$\n",
        "\n",
        "NB : - n à la puissance k s’écrit en Python `n**k` - en pratique, il ne\n",
        "faut surtout pas essayer de recoder soi-même ce genre de fonctions, mais\n",
        "utiliser des fonctions issues de packages adaptés, comme `numpy`.\n",
        "<!-- #endregion -->\n",
        "\n",
        "\\`\\`\\`rymdzezu tags=\\[\\] \\# Testez votre réponse dans cette cellule\n",
        "\n",
        "\n",
        "    ```{python} tags=[]\n",
        "    # Exécuter cette cellule pour afficher la solution\n",
        "    %load -r 128-147 solutions.py\n",
        "\n",
        "### Usage avancé de la fonction `range`"
      ],
      "id": "f53effda-fb40-44c9-bb4e-dbb2a50d009c"
    },
    {
      "cell_type": "raw",
      "metadata": {
        "raw_mimetype": "text/html"
      },
      "source": [
        "<!-- #region tags=[] -->"
      ],
      "id": "b341f28d-0d0e-4b22-a4c7-7ec9b7bd1138"
    },
    {
      "cell_type": "markdown",
      "metadata": {},
      "source": [
        "Nous avons vu plus haut l’usage basique de la fonction `range` :\n",
        "`range(n)` crée un objet itérable qui contient l’ensemble des entiers de\n",
        "$0$ à $n-1$. Les usages possibles de cette fonction sont cependant plus\n",
        "complets, et parfois utiles dans le cadre de problèmes précis.\n",
        "\n",
        "La syntaxe complète de la fonction est `range(start, stop, step)` où : -\n",
        "`start` est l’entier à partir duquel commence la séquence d’entiers -\n",
        "`stop` est l’entier avant lequel se termine la séquence d’entiers -\n",
        "`step` est le pas, i.e. la valeur de l’incrément entre chaque entier de\n",
        "la séquence.\n",
        "\n",
        "Seul le paramètre `stop` est obligatoire, c’est celui qui est utilisé\n",
        "lorsqu’on appelle `range(n)`.\n",
        "\n",
        "En utilisant la fonction `range`, afficher : - l’ensemble des entiers de\n",
        "0 à 10 (10 exclu) - l’ensemble des entiers de 10 à 20 (20 inclus) -\n",
        "l’ensemble des nombres pairs compris entre 30 et 40 (40 inclus) -\n",
        "l’ensemble des multiples de 10 entre 1 et 100 (100 exclu) - l’ensemble\n",
        "des entiers de 10 à 20 (20 inclus), dans l’ordre inverse (de 20 à 10)\n",
        "<!-- #endregion -->\n",
        "\n",
        "\\`\\`\\`rymdzezu tags=\\[\\] \\# Testez votre réponse dans cette cellule\n",
        "\n",
        "\n",
        "    ```{python} tags=[]\n",
        "    # Exécuter cette cellule pour afficher la solution\n",
        "    %load -r 151-159 solutions.py\n",
        "\n",
        "### Le juste prix, version améliorée"
      ],
      "id": "542b6dec-6abc-4455-a1ea-cb4325152458"
    },
    {
      "cell_type": "raw",
      "metadata": {
        "raw_mimetype": "text/html"
      },
      "source": [
        "<!-- #region tags=[] -->"
      ],
      "id": "c10b0375-d7ab-4716-982b-086142f3e533"
    },
    {
      "cell_type": "markdown",
      "metadata": {},
      "source": [
        "Dans le précédent tutoriel, nous avons codé un jeu du juste prix. Mais\n",
        "il était un peu limité, puisqu’il fallait réexécuter le code à chaque\n",
        "étape du jeu. A l’aide de boucles, réécrivez le jeu de manière\n",
        "complètement automatique.\n",
        "\n",
        "Rappel des règles :\n",
        "\n",
        "**En utilisant `input` et les instructions `if`, `elif` et `else`**,\n",
        "coder le programme suivant : - demander une valeur à l’utilisateur, qui\n",
        "sera stockée dans une variable `p` - si `p` est strictement inférieur à\n",
        "$15$, imprimer (avec la fonction `print`) le message “trop bas !”. - si\n",
        "`p` est strictement supérieur à $15$, imprimer le message “trop haut\n",
        "!”. - si `p` est égal à $15$, imprimer le message “dans le mille !”\n",
        "\n",
        "Attention, `input` renvoie par défaut une chaîne de caractère. Il faut\n",
        "donc convertir la valeur de `p` au format entier (via la fonction `int`)\n",
        "pour que le jeu fonctionne. <!-- #endregion -->\n",
        "\n",
        "\\`\\`\\`rymdzezu tags=\\[\\] \\# Testez votre réponse dans cette cellule\n",
        "\n",
        "\n",
        "    ```{python} tags=[]\n",
        "    # Exécuter cette cellule pour afficher la solution\n",
        "    %load -r 163-178 solutions.py"
      ],
      "id": "65a815b0-cee8-47e7-996f-9ccee21d668b"
    }
  ],
  "nbformat": 4,
  "nbformat_minor": 5,
  "metadata": {
    "kernelspec": {
      "name": "python3",
      "display_name": "Python 3 (ipykernel)",
      "language": "python"
    },
    "language_info": {
      "name": "python",
      "codemirror_mode": {
        "name": "ipython",
        "version": "3"
      },
      "file_extension": ".py",
      "mimetype": "text/x-python",
      "nbconvert_exporter": "python",
      "pygments_lexer": "ipython3",
      "version": "3.10.12"
    }
  }
}