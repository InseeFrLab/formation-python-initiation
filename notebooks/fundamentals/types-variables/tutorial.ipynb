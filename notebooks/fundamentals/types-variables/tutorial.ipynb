{
  "cells": [
    {
      "cell_type": "markdown",
      "metadata": {},
      "source": [
        "# Types de base et variables\n",
        "\n",
        "Découverte des types de base (nombres et chaînes de caractères) et des\n",
        "variables.\n",
        "\n",
        "Dans ce premier TP, nous allons découvrir les objets les plus\n",
        "fondamentaux de Python : les **nombres** et les **chaînes de\n",
        "caractère**. Nous allons également voir comment l’on peut assigner des\n",
        "objets à des **variables**, afin de réaliser des opérations avec ces\n",
        "objets.\n",
        "\n",
        "## Nombres\n",
        "\n",
        "### Types de nombres\n",
        "\n",
        "Python propose différents objets de type numérique. Dans ce tutoriel, on\n",
        "va s’intéresser aux deux types principalement utilisés : - les entiers\n",
        "(type `int` pour *integer*) - les réels (type `float` pour nombres à\n",
        "virgule flottante)\n",
        "\n",
        "De manière générale, on utilise la fonction `type` pour imprimer le type\n",
        "d’un objet Python."
      ],
      "id": "77860d7e-6d62-49f6-a7b1-8a26e9b5e722"
    },
    {
      "cell_type": "code",
      "execution_count": 1,
      "metadata": {},
      "outputs": [],
      "source": [
        "type(3)"
      ],
      "id": "c87d4a2a"
    },
    {
      "cell_type": "code",
      "execution_count": 2,
      "metadata": {},
      "outputs": [],
      "source": [
        "type(3.14)"
      ],
      "id": "5bbc6e33"
    },
    {
      "cell_type": "markdown",
      "metadata": {},
      "source": [
        "Les fonctions `float` et `int` peuvent être utilisées pour passer d’un\n",
        "type à l’autre."
      ],
      "id": "6e78d897-99bc-4485-a460-c0496d128140"
    },
    {
      "cell_type": "code",
      "execution_count": 3,
      "metadata": {},
      "outputs": [],
      "source": [
        "# Conversion en float\n",
        "float(3)"
      ],
      "id": "03b72e7d"
    },
    {
      "cell_type": "code",
      "execution_count": 4,
      "metadata": {},
      "outputs": [],
      "source": [
        "# Conversion en float\n",
        "type(float(3))"
      ],
      "id": "83f3c632"
    },
    {
      "cell_type": "code",
      "execution_count": 5,
      "metadata": {},
      "outputs": [],
      "source": [
        "# Conversion en int\n",
        "int(3.79)"
      ],
      "id": "fe192292"
    },
    {
      "cell_type": "markdown",
      "metadata": {},
      "source": [
        "Attention à la conversion *float* -\\> *int*, qui tronque la partie\n",
        "décimale.\n",
        "\n",
        "Les *floats* peuvent par ailleurs être écrits en notation scientifique :"
      ],
      "id": "18581c3b-30ee-4e18-ada2-528d20f29bef"
    },
    {
      "cell_type": "code",
      "execution_count": 6,
      "metadata": {},
      "outputs": [],
      "source": [
        "2e3"
      ],
      "id": "309f60d8"
    },
    {
      "cell_type": "code",
      "execution_count": 7,
      "metadata": {},
      "outputs": [],
      "source": [
        "type(2e3)"
      ],
      "id": "23dd4c5b"
    },
    {
      "cell_type": "markdown",
      "metadata": {},
      "source": [
        "### Opérations arithmétiques de base"
      ],
      "id": "af91cb7c-aaf1-4719-819d-e78574e39f0c"
    },
    {
      "cell_type": "code",
      "execution_count": 8,
      "metadata": {},
      "outputs": [],
      "source": [
        "# Addition\n",
        "8 + 9"
      ],
      "id": "a9cb59b4"
    },
    {
      "cell_type": "code",
      "execution_count": 9,
      "metadata": {},
      "outputs": [],
      "source": [
        "# Soustraction\n",
        "5 - 2"
      ],
      "id": "66a16d9b"
    },
    {
      "cell_type": "code",
      "execution_count": 10,
      "metadata": {},
      "outputs": [],
      "source": [
        "# Multiplication\n",
        "2 * 6"
      ],
      "id": "236e4cfa"
    },
    {
      "cell_type": "code",
      "execution_count": 11,
      "metadata": {},
      "outputs": [],
      "source": [
        "# Division\n",
        "9 / 4"
      ],
      "id": "95147238"
    },
    {
      "cell_type": "code",
      "execution_count": 12,
      "metadata": {},
      "outputs": [],
      "source": [
        "# Division par 0\n",
        "3 / 0"
      ],
      "id": "26f0ffcd"
    },
    {
      "cell_type": "markdown",
      "metadata": {},
      "source": [
        "C’était bien sûr prévisible. Mais il n’est pas rare d’avoir de telles\n",
        "erreurs dans le cadre de calculs statistiques, notamment avec *NumPy* ou\n",
        "*Pandas*, produisant une erreur similaire qu’il faut alors débugger."
      ],
      "id": "84e07541-c14e-4387-8312-209b8125741f"
    },
    {
      "cell_type": "code",
      "execution_count": 13,
      "metadata": {},
      "outputs": [],
      "source": [
        "# Division euclidienne : quotient\n",
        "9 // 4"
      ],
      "id": "0b11df24"
    },
    {
      "cell_type": "code",
      "execution_count": 14,
      "metadata": {},
      "outputs": [],
      "source": [
        "# Division euclidienne : reste\n",
        "9 % 4"
      ],
      "id": "1e8aa9ed"
    },
    {
      "cell_type": "code",
      "execution_count": 15,
      "metadata": {},
      "outputs": [],
      "source": [
        "# Puissance\n",
        "2 ** 5"
      ],
      "id": "69fb7413"
    },
    {
      "cell_type": "code",
      "execution_count": 16,
      "metadata": {},
      "outputs": [],
      "source": [
        "# Racine carrée\n",
        "5 ** 0.5"
      ],
      "id": "8d128207"
    },
    {
      "cell_type": "code",
      "execution_count": 17,
      "metadata": {},
      "outputs": [],
      "source": [
        "# Ordre des opérations : convention usuelle\n",
        "2 + 5 * (10 - 4)"
      ],
      "id": "618224c5"
    },
    {
      "cell_type": "markdown",
      "metadata": {},
      "source": [
        "## Chaînes de charactères\n",
        "\n",
        "Les chaînes de caractères (ou *strings*) sont utilisées pour stocker de\n",
        "l’information textuelle. Plus précisément, elles peuvent stocker tout\n",
        "caractère de type [Unicode](https://fr.wikipedia.org/wiki/Unicode), ce\n",
        "qui inclut les lettres des différentes langues, mais également la\n",
        "ponctuation, les chiffres, les smileys, etc.\n",
        "\n",
        "Un *string* se définit en mettant l’information entre apostrophes ou\n",
        "entre guillemets (anglais).\n",
        "\n",
        "### Définition"
      ],
      "id": "7cdcae81-fa19-4973-8d8a-d0dadf5ce79a"
    },
    {
      "cell_type": "code",
      "execution_count": 18,
      "metadata": {},
      "outputs": [],
      "source": [
        "# Première manière \n",
        "'mot'"
      ],
      "id": "bece38a0"
    },
    {
      "cell_type": "code",
      "execution_count": 19,
      "metadata": {},
      "outputs": [],
      "source": [
        "# Deuxième manière\n",
        "\"ça fonctionne aussi\""
      ],
      "id": "46432fd3"
    },
    {
      "cell_type": "code",
      "execution_count": 20,
      "metadata": {},
      "outputs": [],
      "source": [
        "# Mais attention au mélange des deux !\n",
        "'l'apostrophe, quelle catastrophe'"
      ],
      "id": "854adc73"
    },
    {
      "cell_type": "markdown",
      "metadata": {},
      "source": [
        "Erreur de syntaxe : la seconde apostrophe est comprise comme la fin du\n",
        "*string*, et Python ne sait pas interpréter le reste de la séquence.\n",
        "\n",
        "Il faut donc varier en cas de besoin :"
      ],
      "id": "1a78fa7b-4375-4dc9-9beb-122c888d8d23"
    },
    {
      "cell_type": "code",
      "execution_count": 21,
      "metadata": {},
      "outputs": [],
      "source": [
        "\"l'apostrophe, aucun problème\""
      ],
      "id": "c79dec2a"
    },
    {
      "cell_type": "markdown",
      "metadata": {},
      "source": [
        "Même chose en sens inverse :"
      ],
      "id": "da972af3-89cd-4bc9-8504-1152b2c7ec2e"
    },
    {
      "cell_type": "code",
      "execution_count": 22,
      "metadata": {},
      "outputs": [],
      "source": [
        "'les guillemets, \"aucun problème\"'"
      ],
      "id": "38cc1d41"
    },
    {
      "cell_type": "markdown",
      "metadata": {},
      "source": [
        "### La fonction `print`\n",
        "\n",
        "Le travail avec les *strings* est l’occasion de découvrir la très\n",
        "pratique et très utilisée fonction `print`. Elle affiche simplement\n",
        "l’argument qu’on lui passe entre parenthèses **et** un retour à la ligne\n",
        "par défaut."
      ],
      "id": "897de596-ef56-4c14-9060-cc82ae19b074"
    },
    {
      "cell_type": "code",
      "execution_count": 23,
      "metadata": {},
      "outputs": [],
      "source": [
        "# Affichage de la chaîne \"moi\"\n",
        "\"moi\""
      ],
      "id": "8543027f"
    },
    {
      "cell_type": "code",
      "execution_count": 24,
      "metadata": {},
      "outputs": [],
      "source": [
        "# Affichage de la chaîne \"moi\" avec print\n",
        "print(\"moi\")"
      ],
      "id": "c88a01d0"
    },
    {
      "cell_type": "markdown",
      "metadata": {},
      "source": [
        "On a vu jusqu’à maintenant que l’on pouvait simplement exécuter une\n",
        "cellule pour afficher le contenu d’un *string*. Mais est-ce cela marche\n",
        "avec plusieurs *strings* ?"
      ],
      "id": "630fb7fa-0628-4f81-b0b6-6dd8c7f0a243"
    },
    {
      "cell_type": "code",
      "execution_count": 25,
      "metadata": {},
      "outputs": [],
      "source": [
        "# Qui va être affiché ?\n",
        "\"moi\"\n",
        "\"non moi\""
      ],
      "id": "09c37791"
    },
    {
      "cell_type": "markdown",
      "metadata": {},
      "source": [
        "On voit là un comportement caractéristique des notebooks Jupyter : seule\n",
        "la dernière valeur renvoyée dans une cellule est affichée. La fonction\n",
        "`print` permet de s’affranchir de cette limite."
      ],
      "id": "526c786f-f73c-4625-9907-44f88afa2153"
    },
    {
      "cell_type": "code",
      "execution_count": 26,
      "metadata": {},
      "outputs": [],
      "source": [
        "# Et cette fois ?\n",
        "print(\"moi\")\n",
        "print(\"moi aussi\")"
      ],
      "id": "37d658cc"
    },
    {
      "cell_type": "markdown",
      "metadata": {},
      "source": [
        "### Longueur d’une chaîne\n",
        "\n",
        "La fonction `len` permet de compter le nombre de caractères d’un\n",
        "*string*, tous caractères inclus (lettres, chiffres, espaces,\n",
        "ponctuation…)."
      ],
      "id": "bd610d40-15f8-4c23-a1ee-7c098869b9fd"
    },
    {
      "cell_type": "code",
      "execution_count": 27,
      "metadata": {},
      "outputs": [],
      "source": [
        "len(\"J'ai 19 charactères\")"
      ],
      "id": "4ffff4a6"
    },
    {
      "cell_type": "markdown",
      "metadata": {},
      "source": [
        "Le type “caractère” n’existe pas en Python : un caractère seul est\n",
        "défini comme un *string* de taille 1."
      ],
      "id": "16fce4d4-9cb9-44c6-9061-cd3e48542428"
    },
    {
      "cell_type": "code",
      "execution_count": 28,
      "metadata": {},
      "outputs": [],
      "source": [
        "print(type(\"a\"))\n",
        "print(len(\"a\"))"
      ],
      "id": "6d0560f7"
    },
    {
      "cell_type": "markdown",
      "metadata": {},
      "source": [
        "### Indexation\n",
        "\n",
        "En Python, un *string* est une **séquence**, c’est à dire une suite de\n",
        "caractères dans un ordre spécifique. Par conséquent, chaque caractère\n",
        "d’un *string* est indexé (Python connaît sa position), et l’on peut\n",
        "utiliser cet index pour extraire des caractères particuliers, des\n",
        "sous-chaînes de caractères, etc.\n",
        "\n",
        "En Python, on utilise les crochets `[]` pour appeler l’index d’une\n",
        "séquence. Plus précisément, l’index fonctionne sur le modèle suivant :\n",
        "`x[a:b:c]` renvoie un *sub-string* du *string* `x` où `a` est la\n",
        "position du caractère de départ, `b` la position du caractère d’arrivée\n",
        "plus 1, et `c` le pas de l’indexation. Tout cela sera plus clair avec\n",
        "les exemples suivants.\n",
        "\n",
        "Note importante : **l’indexation commence à 0 en Python**."
      ],
      "id": "8e0a9d80-b8f8-40a1-b9b9-0e4640489eb6"
    },
    {
      "cell_type": "code",
      "execution_count": 29,
      "metadata": {},
      "outputs": [],
      "source": [
        "\"une séquence que l'on va indexer\""
      ],
      "id": "c4f53b7f"
    },
    {
      "cell_type": "code",
      "execution_count": 30,
      "metadata": {},
      "outputs": [],
      "source": [
        "# Premier élémént\n",
        "\"une séquence que l'on va indexer\"[0]"
      ],
      "id": "d0ebc340"
    },
    {
      "cell_type": "code",
      "execution_count": 31,
      "metadata": {},
      "outputs": [],
      "source": [
        "# Deuxième élémént\n",
        "\"une séquence que l'on va indexer\"[1]"
      ],
      "id": "96c8384a"
    },
    {
      "cell_type": "code",
      "execution_count": 32,
      "metadata": {},
      "outputs": [],
      "source": [
        "# Dernier élémént\n",
        "\"une séquence que l'on va indexer\"[-1]"
      ],
      "id": "d35d6b2f"
    },
    {
      "cell_type": "code",
      "execution_count": 33,
      "metadata": {},
      "outputs": [],
      "source": [
        "# Extraire tout à partir d'un certain caractère\n",
        "\"une séquence que l'on va indexer\"[4:]"
      ],
      "id": "a56fe1b8"
    },
    {
      "cell_type": "code",
      "execution_count": 34,
      "metadata": {},
      "outputs": [],
      "source": [
        "# Extraire tout jusqu'à un certain caractère\n",
        "\"une séquence que l'on va indexer\"[:12]"
      ],
      "id": "318d068f"
    },
    {
      "cell_type": "code",
      "execution_count": 35,
      "metadata": {},
      "outputs": [],
      "source": [
        "# Extraire un sub-string\n",
        "\"une séquence que l'on va indexer\"[4:12]"
      ],
      "id": "2a046138"
    },
    {
      "cell_type": "code",
      "execution_count": 36,
      "metadata": {},
      "outputs": [],
      "source": [
        "# Extraire tous les 2 caractères, à partir de la 4 ème position\n",
        "\"une séquence que l'on va indexer\"[4::2]"
      ],
      "id": "8bf34513"
    },
    {
      "cell_type": "code",
      "execution_count": 37,
      "metadata": {},
      "outputs": [],
      "source": [
        "# Inverser une séquence\n",
        "\"une séquence que l'on va indexer\"[::-1]"
      ],
      "id": "964256cd"
    },
    {
      "cell_type": "markdown",
      "metadata": {},
      "source": [
        "A retenir : c’est bien parce qu’un *string* est considéré comme une\n",
        "séquence par Python que l’on peut l’indexer. Par exemple, indexer un\n",
        "nombre n’a pas de sens, et renvoie donc une erreur."
      ],
      "id": "dd77b356-811b-4a41-b58e-7c723c2ab5a7"
    },
    {
      "cell_type": "code",
      "execution_count": 38,
      "metadata": {},
      "outputs": [],
      "source": [
        "2[3]"
      ],
      "id": "f8753d7e"
    },
    {
      "cell_type": "markdown",
      "metadata": {},
      "source": [
        "### Quelques propriétés utiles"
      ],
      "id": "f4c033f4-68e9-4a20-bffd-6673e41382d2"
    },
    {
      "cell_type": "code",
      "execution_count": 39,
      "metadata": {},
      "outputs": [],
      "source": [
        "# Concaténation de strings\n",
        "\"mon adresse est : \" + \"10 rue des Peupliers\""
      ],
      "id": "1b27206b"
    },
    {
      "cell_type": "code",
      "execution_count": 40,
      "metadata": {},
      "outputs": [],
      "source": [
        "# Répétition\n",
        "\"echo - \" * 5"
      ],
      "id": "7b713b3e"
    },
    {
      "cell_type": "markdown",
      "metadata": {},
      "source": [
        "### Quelques méthodes utiles\n",
        "\n",
        "Les différents objets Python ont généralement des **méthodes** dites\n",
        "*built-in* (standard), qui permettent d’effectuer des opérations de base\n",
        "à partir de l’objet.\n",
        "\n",
        "Nous verrons dans un prochain chapitre en quoi consistent précisément\n",
        "les méthodes en Python. Pour le moment, on peut retenir que les méthodes\n",
        "s’utilisent selon le format `objet.methode(parametres)` où les\n",
        "paramètres sont optionnels."
      ],
      "id": "ce43b8d5-8691-47d9-8055-e241fe257f42"
    },
    {
      "cell_type": "code",
      "execution_count": 41,
      "metadata": {},
      "outputs": [],
      "source": [
        "# Mettre en majuscules\n",
        "\"sequence 850\".upper()"
      ],
      "id": "6bf3255a"
    },
    {
      "cell_type": "code",
      "execution_count": 42,
      "metadata": {},
      "outputs": [],
      "source": [
        "# Mettre en minuscules\n",
        "\"sequence 850\".lower()"
      ],
      "id": "d69db374"
    },
    {
      "cell_type": "code",
      "execution_count": 43,
      "metadata": {},
      "outputs": [],
      "source": [
        "# Séparer les mots selon les espaces\n",
        "\"une séquence    à séparer\".split()"
      ],
      "id": "0756f06a"
    },
    {
      "cell_type": "code",
      "execution_count": 44,
      "metadata": {},
      "outputs": [],
      "source": [
        "# Séparer les mots selon un caractère arbitraire\n",
        "\"pratique pour faire des sous-séquences\".split(\"-\")"
      ],
      "id": "8ff8d92b"
    },
    {
      "cell_type": "code",
      "execution_count": 45,
      "metadata": {},
      "outputs": [],
      "source": [
        "# Utiliser les strings comme templates\n",
        "\"mon adresse est : {}\".format(\"10 rue des Peupliers\")"
      ],
      "id": "a7079d24"
    },
    {
      "cell_type": "markdown",
      "metadata": {},
      "source": [
        "Tout ceci n’est qu’un aperçu des innombrables opérations possibles sur\n",
        "les *strings*. La [documentation\n",
        "officielle](https://docs.python.org/3/library/stdtypes.html#string-methods)\n",
        "liste l’ensemble des méthodes *built-in* disponibles. Les exercices du\n",
        "chapitre et les mini-projets de fin de partie seront l’occasion de\n",
        "découvrir d’autres utilisations.\n",
        "\n",
        "## Variables\n",
        "\n",
        "Jusqu’ici, nous avons dû définir à chaque fois notre objet avant de\n",
        "pouvoir lui appliquer une transformation. Comment faire si l’on veut\n",
        "réutiliser un objet et lui appliquer plusieurs transformations ? Ou\n",
        "faire des opérations à partir de différents objets ?\n",
        "\n",
        "Pour cela, on va assigner les objets à des variables.\n",
        "\n",
        "### Assignation et opérations\n",
        "\n",
        "L’assignation se fait suivant le format : `nom_de_la_variable = objet`.\n",
        "Cela permet ensuite de réaliser des opérations à partir de ces\n",
        "variables."
      ],
      "id": "05298e5f-5203-48dd-a808-a272bca288be"
    },
    {
      "cell_type": "code",
      "execution_count": 46,
      "metadata": {},
      "outputs": [],
      "source": [
        "x = 5\n",
        "x"
      ],
      "id": "fd99b95d"
    },
    {
      "cell_type": "code",
      "execution_count": 47,
      "metadata": {},
      "outputs": [],
      "source": [
        "type(x)"
      ],
      "id": "fb8162de"
    },
    {
      "cell_type": "code",
      "execution_count": 48,
      "metadata": {},
      "outputs": [],
      "source": [
        "x + 5"
      ],
      "id": "13418d64"
    },
    {
      "cell_type": "code",
      "execution_count": 49,
      "metadata": {},
      "outputs": [],
      "source": [
        "y = x + 2*x\n",
        "y"
      ],
      "id": "f0963d84"
    },
    {
      "cell_type": "markdown",
      "metadata": {},
      "source": [
        "Contrairement à d’autres langages de programmation, Python est dit\n",
        "*dynamiquement* typé : il est possible de réassigner une variable à un\n",
        "objet de type différent. Cela facilite la lecture et le développement,\n",
        "mais peut parfois générer des problèmes difficiles à débugger… Il faut\n",
        "donc toujours bien faire attention que le type de la variable est bien\n",
        "celui que l’on s’imagine manipuler."
      ],
      "id": "c9d134dc-896f-4456-8cc8-c0a9035c10fc"
    },
    {
      "cell_type": "code",
      "execution_count": 50,
      "metadata": {},
      "outputs": [],
      "source": [
        "x = 3\n",
        "x = \"blabla\"\n",
        "type(x)"
      ],
      "id": "9875f9ad"
    },
    {
      "cell_type": "markdown",
      "metadata": {},
      "source": [
        "Il y a naturellement certaines contraintes sur les opérations selon les\n",
        "types des objets."
      ],
      "id": "8ed1aa7f-785b-409a-bf92-2912a24b4335"
    },
    {
      "cell_type": "code",
      "execution_count": 51,
      "metadata": {},
      "outputs": [],
      "source": [
        "x = \"test\"\n",
        "y = 3\n",
        "x + y"
      ],
      "id": "f7082b38"
    },
    {
      "cell_type": "markdown",
      "metadata": {},
      "source": [
        "Il est par contre possible d’harmoniser les types en amont :"
      ],
      "id": "a68b1349-59e4-4909-8090-da716e67c1e7"
    },
    {
      "cell_type": "code",
      "execution_count": 52,
      "metadata": {},
      "outputs": [],
      "source": [
        "x = \"test\"\n",
        "y = 3\n",
        "z = str(y)\n",
        "x + z"
      ],
      "id": "5de5d9df"
    },
    {
      "cell_type": "markdown",
      "metadata": {},
      "source": [
        "### Incrémentation\n",
        "\n",
        "Il est fréquent d’utiliser une variable comme un compteur, en\n",
        "l’incrémentant à chaque fois qu’un évènement donné apparaît par exemple."
      ],
      "id": "ddbc491b-dc53-4d49-9c72-a5d76ea83a01"
    },
    {
      "cell_type": "code",
      "execution_count": 53,
      "metadata": {},
      "outputs": [],
      "source": [
        "a = 0\n",
        "print(a)\n",
        "a = a +1\n",
        "print(a)"
      ],
      "id": "5ff7ed89"
    },
    {
      "cell_type": "markdown",
      "metadata": {},
      "source": [
        "Cette pratique est tellement fréquente qu’il existe des opérateurs\n",
        "spéciaux pour les opérations arithmétiques courantes."
      ],
      "id": "7a1f1b4d-6c80-4cdd-8922-a67f9bfbd408"
    },
    {
      "cell_type": "code",
      "execution_count": 54,
      "metadata": {},
      "outputs": [],
      "source": [
        "a = 0\n",
        "a += 1\n",
        "a"
      ],
      "id": "ff9a5a4c"
    },
    {
      "cell_type": "code",
      "execution_count": 55,
      "metadata": {},
      "outputs": [],
      "source": [
        "b = 5\n",
        "b *= 3\n",
        "b"
      ],
      "id": "9997ac64"
    },
    {
      "cell_type": "markdown",
      "metadata": {},
      "source": [
        "## Exercices\n",
        "\n",
        "### Exercice 1\n",
        "\n",
        "Afficher le type de x lorsque : - x = 3 - x = “test” - x = 3.5"
      ],
      "id": "160bf820-8890-4c70-ad7a-a7202e440a1f"
    },
    {
      "cell_type": "code",
      "execution_count": 56,
      "metadata": {},
      "outputs": [],
      "source": [
        "# Tapez votre réponse dans cette cellule"
      ],
      "id": "3ef99efe"
    },
    {
      "cell_type": "code",
      "execution_count": 57,
      "metadata": {},
      "outputs": [],
      "source": [
        "# Exécuter cette cellule pour afficher la solution\n",
        "%load -r 2-9 solutions.py"
      ],
      "id": "b1ccebe8"
    },
    {
      "cell_type": "markdown",
      "metadata": {},
      "source": [
        "### Exercice 2\n",
        "\n",
        "Calculer la somme des longueurs de chacune des chaînes de caractères\n",
        "suivantes : - “une première chaîne” - “et une deuxième” - “jamais deux\n",
        "sans trois”"
      ],
      "id": "065cb7df-d545-4656-83e8-2d9462e61ae7"
    },
    {
      "cell_type": "code",
      "execution_count": 58,
      "metadata": {},
      "outputs": [],
      "source": [
        "# Tapez votre réponse dans cette cellule"
      ],
      "id": "1c666269"
    },
    {
      "cell_type": "code",
      "execution_count": 59,
      "metadata": {},
      "outputs": [],
      "source": [
        "# Exécuter cette cellule pour afficher la solution\n",
        "%load -r 12-16 solutions.py"
      ],
      "id": "5ffccb0e"
    },
    {
      "cell_type": "markdown",
      "metadata": {},
      "source": [
        "### Exercice 3\n",
        "\n",
        "Quel est le type adapté pour définir un code postal ?\n",
        "\n",
        "Essayer de définir les codes postaux suivants au format `int` et au\n",
        "format `string` : - 92120 - 02350\n",
        "\n",
        "Que concluez-vous ?"
      ],
      "id": "ecdeeb81-1b97-4da6-a3ad-33e474329fd9"
    },
    {
      "cell_type": "code",
      "execution_count": 60,
      "metadata": {},
      "outputs": [],
      "source": [
        "# Tapez votre réponse dans cette cellule"
      ],
      "id": "5c7e3cdb"
    },
    {
      "cell_type": "code",
      "execution_count": 61,
      "metadata": {},
      "outputs": [],
      "source": [
        "# Exécuter cette cellule pour afficher la solution\n",
        "%load -r 19-26 solutions.py"
      ],
      "id": "e0b06bc7"
    },
    {
      "cell_type": "markdown",
      "metadata": {},
      "source": [
        "### Exercice 4\n",
        "\n",
        "Compter le nombre de fois où la lettre e est présente dans la chaîne\n",
        "suivante : “Je fais un comptage des e.”\n",
        "\n",
        "**Indice** : on peut utiliser la méthode *built-in*\n",
        "[count](https://docs.python.org/fr/3/library/stdtypes.html#str.count)."
      ],
      "id": "77f96f33-6c84-4885-ac18-409d0f31a31c"
    },
    {
      "cell_type": "code",
      "execution_count": 62,
      "metadata": {},
      "outputs": [],
      "source": [
        "# Tapez votre réponse dans cette cellule"
      ],
      "id": "0321879f"
    },
    {
      "cell_type": "code",
      "execution_count": 63,
      "metadata": {},
      "outputs": [],
      "source": [
        "# Exécuter cette cellule pour afficher la solution\n",
        "%load -r 29-30 solutions.py"
      ],
      "id": "03f4ae29"
    },
    {
      "cell_type": "markdown",
      "metadata": {},
      "source": [
        "### Exercice 5\n",
        "\n",
        "Repérer la première position où la lettre e est présente dans la chaîne\n",
        "suivante : “Je fais un comptage des e.”\n",
        "\n",
        "**Indice** : on peut utiliser la méthode *built-in*\n",
        "[find](https://docs.python.org/fr/3/library/stdtypes.html#str.find)."
      ],
      "id": "aa4e40aa-a8d8-49d8-9473-2f1fd074fc07"
    },
    {
      "cell_type": "code",
      "execution_count": 64,
      "metadata": {},
      "outputs": [],
      "source": [
        "# Tapez votre réponse dans cette cellule"
      ],
      "id": "82f4a27a"
    },
    {
      "cell_type": "code",
      "execution_count": 65,
      "metadata": {},
      "outputs": [],
      "source": [
        "# Exécuter cette cellule pour afficher la solution\n",
        "%load -r 33-34 solutions.py"
      ],
      "id": "e3801f30"
    },
    {
      "cell_type": "markdown",
      "metadata": {},
      "source": [
        "### Exercice 6\n",
        "\n",
        "Supprimer les espaces superflus au début et à la fin de la chaîne\n",
        "suivante :\n",
        "\n",
        "**Indice** : on peut utiliser la méthode *built-in*\n",
        "[strip](https://docs.python.org/fr/3/library/stdtypes.html#str.strip)."
      ],
      "id": "9ac90764-8731-410a-a490-6da76196b6c8"
    },
    {
      "cell_type": "code",
      "execution_count": 66,
      "metadata": {},
      "outputs": [],
      "source": [
        "# Tapez votre réponse dans cette cellule\n",
        "a = \"    Un string très mal formatté.         \""
      ],
      "id": "3dcf6867"
    },
    {
      "cell_type": "code",
      "execution_count": 67,
      "metadata": {},
      "outputs": [],
      "source": [
        "# Exécuter cette cellule pour afficher la solution\n",
        "%load -r 37-38 solutions.py"
      ],
      "id": "6e35f261"
    },
    {
      "cell_type": "markdown",
      "metadata": {},
      "source": [
        "### Exercice 7\n",
        "\n",
        "Le caractère `\\` permet d’échapper (neutraliser) un caractère spécial au\n",
        "sein d’une chaîne de caractères. Trouvez comment ce caractère permet de\n",
        "résoudre le problème lié à l’utilisation de guillemets (ou\n",
        "d’apostrophes) dans une chaîne définie par des guillemets (apostrophe).\n",
        "\n",
        "**Indice** : des exemples d’utilisation sont disponibles dans la\n",
        "[documentation\n",
        "officielle](https://docs.python.org/fr/3.8/reference/lexical_analysis.html#literals)."
      ],
      "id": "c4d3f50a-2b7c-4a83-afa7-89c93a4f109f"
    },
    {
      "cell_type": "code",
      "execution_count": 68,
      "metadata": {},
      "outputs": [],
      "source": [
        "# Tapez votre réponse dans cette cellule"
      ],
      "id": "ee1b0264"
    },
    {
      "cell_type": "code",
      "execution_count": 69,
      "metadata": {},
      "outputs": [],
      "source": [
        "# Exécuter cette cellule pour afficher la solution\n",
        "%load -r 41 solutions.py"
      ],
      "id": "18f761e5"
    },
    {
      "cell_type": "markdown",
      "metadata": {},
      "source": [
        "### Exercice 8\n",
        "\n",
        "Réaliser la suite d’opérations suivantes à l’aide des opérateurs\n",
        "d’incrémentation, et imprimer la valeur finale : - initialiser une\n",
        "variable à 1 - lui soustraire 5 - la multiplier par 4 - lui ajouter 22"
      ],
      "id": "1f52f2d0-6acf-44d7-9f80-87db505cccab"
    },
    {
      "cell_type": "code",
      "execution_count": 70,
      "metadata": {},
      "outputs": [],
      "source": [
        "# Tapez votre réponse dans cette cellule"
      ],
      "id": "b03d6abf"
    },
    {
      "cell_type": "code",
      "execution_count": 71,
      "metadata": {},
      "outputs": [],
      "source": [
        "# Exécuter cette cellule pour afficher la solution\n",
        "%load -r 44-48 solutions.py"
      ],
      "id": "2603bc53"
    },
    {
      "cell_type": "markdown",
      "metadata": {},
      "source": [
        "### Exercice 9\n",
        "\n",
        "Considérons les deux séquences suivantes : - “nous sommes en” - “2022”\n",
        "\n",
        "Trouvez à partir du tutoriel deux manières différentes de les utiliser\n",
        "pour composer la séquence “nous sommes en 2022”.\n",
        "\n",
        "**Indice** : l’une des deux méthodes implique de modifier (légèrement)\n",
        "une des deux séquences."
      ],
      "id": "26d5c070-ca31-4d5e-bf05-4d61a2833e58"
    },
    {
      "cell_type": "code",
      "execution_count": 72,
      "metadata": {},
      "outputs": [],
      "source": [
        "# Exécuter cette cellule pour afficher la solution\n",
        "%load -r 51-56 solutions.py"
      ],
      "id": "146e9fb1"
    }
  ],
  "nbformat": 4,
  "nbformat_minor": 5,
  "metadata": {
    "kernelspec": {
      "name": "python3",
      "display_name": "Python 3 (ipykernel)",
      "language": "python"
    },
    "language_info": {
      "name": "python",
      "codemirror_mode": {
        "name": "ipython",
        "version": "3"
      },
      "file_extension": ".py",
      "mimetype": "text/x-python",
      "nbconvert_exporter": "python",
      "pygments_lexer": "ipython3",
      "version": "3.10.12"
    }
  }
}