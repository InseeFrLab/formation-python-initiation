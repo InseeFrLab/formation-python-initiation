{
 "cells": [
  {
   "cell_type": "raw",
   "id": "5abb1b7e",
   "metadata": {},
   "source": [
    "---\n",
    "title: \"Types de base et variables\"\n",
    "abstract: \"Découverte des types de base (nombres et chaînes de caractères) et des variables.\"\n",
    "---"
   ]
  },
  {
   "cell_type": "markdown",
   "id": "ae83fbc6",
   "metadata": {},
   "source": [
    "Dans ce premier TP, nous allons découvrir les objets les plus fondamentaux de Python : les **nombres** et les **chaînes de caractère**. Nous allons également voir comment l'on peut assigner des objets à des **variables**, afin de réaliser des opérations avec ces objets.\n",
    "\n",
    "## Nombres\n",
    "\n",
    "### Types de nombres\n",
    "\n",
    "Python propose différents objets de type numérique. Dans ce tutoriel, on va s'intéresser aux deux types principalement utilisés :\n",
    "- les entiers (type `int` pour *integer*)\n",
    "- les réels (type `float` pour nombres à virgule flottante)\n",
    "\n",
    "De manière générale, on utilise la fonction `type` pour imprimer le type d'un objet Python.\n"
   ]
  },
  {
   "cell_type": "code",
   "execution_count": null,
   "id": "05e036dd",
   "metadata": {
    "lines_to_next_cell": 2
   },
   "outputs": [],
   "source": [
    "type(3)"
   ]
  },
  {
   "cell_type": "code",
   "execution_count": null,
   "id": "32696e3d",
   "metadata": {},
   "outputs": [],
   "source": [
    "type(3.14)"
   ]
  },
  {
   "cell_type": "markdown",
   "id": "f6902fbf",
   "metadata": {},
   "source": [
    "Les fonctions `float` et `int` peuvent être utilisées pour passer d'un type à l'autre.\n"
   ]
  },
  {
   "cell_type": "code",
   "execution_count": null,
   "id": "e3a46b4e",
   "metadata": {
    "lines_to_next_cell": 2
   },
   "outputs": [],
   "source": [
    "# Conversion en float\n",
    "float(3)"
   ]
  },
  {
   "cell_type": "code",
   "execution_count": null,
   "id": "4a9a5dd8",
   "metadata": {
    "lines_to_next_cell": 2
   },
   "outputs": [],
   "source": [
    "# Conversion en float\n",
    "type(float(3))"
   ]
  },
  {
   "cell_type": "code",
   "execution_count": null,
   "id": "03889c80",
   "metadata": {},
   "outputs": [],
   "source": [
    "# Conversion en int\n",
    "int(3.79)"
   ]
  },
  {
   "cell_type": "markdown",
   "id": "64f2ba80",
   "metadata": {},
   "source": [
    "Attention à la conversion *float* -> *int*, qui tronque la partie décimale.\n",
    "\n",
    "Les *floats* peuvent par ailleurs être écrits en notation scientifique :\n"
   ]
  },
  {
   "cell_type": "code",
   "execution_count": null,
   "id": "772a4379",
   "metadata": {
    "lines_to_next_cell": 2
   },
   "outputs": [],
   "source": [
    "2e3"
   ]
  },
  {
   "cell_type": "code",
   "execution_count": null,
   "id": "e2fb1602",
   "metadata": {},
   "outputs": [],
   "source": [
    "type(2e3)"
   ]
  },
  {
   "cell_type": "markdown",
   "id": "55d16e04",
   "metadata": {},
   "source": [
    "### Opérations arithmétiques de base\n"
   ]
  },
  {
   "cell_type": "code",
   "execution_count": null,
   "id": "8a07c1c0",
   "metadata": {
    "lines_to_next_cell": 2
   },
   "outputs": [],
   "source": [
    "# Addition\n",
    "8 + 9"
   ]
  },
  {
   "cell_type": "code",
   "execution_count": null,
   "id": "debe6710",
   "metadata": {
    "lines_to_next_cell": 2
   },
   "outputs": [],
   "source": [
    "# Soustraction\n",
    "5 - 2"
   ]
  },
  {
   "cell_type": "code",
   "execution_count": null,
   "id": "06f304ea",
   "metadata": {
    "lines_to_next_cell": 2
   },
   "outputs": [],
   "source": [
    "# Multiplication\n",
    "2 * 6"
   ]
  },
  {
   "cell_type": "code",
   "execution_count": null,
   "id": "8f5e4022",
   "metadata": {
    "lines_to_next_cell": 2
   },
   "outputs": [],
   "source": [
    "# Division\n",
    "9 / 4"
   ]
  },
  {
   "cell_type": "code",
   "execution_count": null,
   "id": "be44c20b",
   "metadata": {},
   "outputs": [],
   "source": [
    "# Division par 0\n",
    "3 / 0"
   ]
  },
  {
   "cell_type": "markdown",
   "id": "ea4c6af0",
   "metadata": {},
   "source": [
    "C'était bien sûr prévisible. Mais il n'est pas rare d'avoir de telles erreurs dans le cadre de calculs statistiques, notamment avec *NumPy* ou *Pandas*, produisant une erreur similaire qu'il faut alors débugger.\n"
   ]
  },
  {
   "cell_type": "code",
   "execution_count": null,
   "id": "95c35895",
   "metadata": {
    "lines_to_next_cell": 2
   },
   "outputs": [],
   "source": [
    "# Division euclidienne : quotient\n",
    "9 // 4"
   ]
  },
  {
   "cell_type": "code",
   "execution_count": null,
   "id": "3dd2c401",
   "metadata": {
    "lines_to_next_cell": 2
   },
   "outputs": [],
   "source": [
    "# Division euclidienne : reste\n",
    "9 % 4"
   ]
  },
  {
   "cell_type": "code",
   "execution_count": null,
   "id": "02fc74b9",
   "metadata": {
    "lines_to_next_cell": 2
   },
   "outputs": [],
   "source": [
    "# Puissance\n",
    "2 ** 5"
   ]
  },
  {
   "cell_type": "code",
   "execution_count": null,
   "id": "e0ffda2c",
   "metadata": {
    "lines_to_next_cell": 2
   },
   "outputs": [],
   "source": [
    "# Racine carrée\n",
    "5 ** 0.5"
   ]
  },
  {
   "cell_type": "code",
   "execution_count": null,
   "id": "83246d99",
   "metadata": {},
   "outputs": [],
   "source": [
    "# Ordre des opérations : convention usuelle\n",
    "2 + 5 * (10 - 4)"
   ]
  },
  {
   "cell_type": "markdown",
   "id": "349d3fdd",
   "metadata": {},
   "source": [
    "## Chaînes de charactères\n",
    "\n",
    "Les chaînes de caractères (ou *strings*) sont utilisées pour stocker de l'information textuelle. Plus précisément, elles peuvent stocker tout caractère de type [Unicode](https://fr.wikipedia.org/wiki/Unicode), ce qui inclut les lettres des différentes langues, mais également la ponctuation, les chiffres, les smileys, etc.\n",
    "\n",
    "Un *string* se définit en mettant l'information entre apostrophes ou entre guillemets (anglais). \n",
    "\n",
    "### Définition\n"
   ]
  },
  {
   "cell_type": "code",
   "execution_count": null,
   "id": "79fa48ef",
   "metadata": {
    "lines_to_next_cell": 2
   },
   "outputs": [],
   "source": [
    "# Première manière \n",
    "'mot'"
   ]
  },
  {
   "cell_type": "code",
   "execution_count": null,
   "id": "94db7a95",
   "metadata": {
    "lines_to_next_cell": 2
   },
   "outputs": [],
   "source": [
    "# Deuxième manière\n",
    "\"ça fonctionne aussi\""
   ]
  },
  {
   "cell_type": "code",
   "execution_count": null,
   "id": "8678c230",
   "metadata": {},
   "outputs": [],
   "source": [
    "# Mais attention au mélange des deux !\n",
    "'l'apostrophe, quelle catastrophe'"
   ]
  },
  {
   "cell_type": "markdown",
   "id": "8bfe88d0",
   "metadata": {},
   "source": [
    "Erreur de syntaxe : la seconde apostrophe est comprise comme la fin du *string*, et Python ne sait pas interpréter le reste de la séquence.\n",
    "\n",
    "Il faut donc varier en cas de besoin :\n"
   ]
  },
  {
   "cell_type": "code",
   "execution_count": null,
   "id": "de7d333d",
   "metadata": {},
   "outputs": [],
   "source": [
    "\"l'apostrophe, aucun problème\""
   ]
  },
  {
   "cell_type": "markdown",
   "id": "75985481",
   "metadata": {},
   "source": [
    "Même chose en sens inverse :"
   ]
  },
  {
   "cell_type": "code",
   "execution_count": null,
   "id": "33167c46",
   "metadata": {},
   "outputs": [],
   "source": [
    "'les guillemets, \"aucun problème\"'"
   ]
  },
  {
   "cell_type": "markdown",
   "id": "50259dde",
   "metadata": {},
   "source": [
    "### La fonction `print`\n",
    "\n",
    "Le travail avec les *strings* est l'occasion de découvrir la très pratique et très utilisée fonction `print`. Elle affiche simplement l'argument qu'on lui passe entre parenthèses **et** un retour à la ligne par défaut."
   ]
  },
  {
   "cell_type": "code",
   "execution_count": null,
   "id": "9b3bfb21",
   "metadata": {},
   "outputs": [],
   "source": [
    "# Affichage de la chaîne \"moi\"\n",
    "\"moi\""
   ]
  },
  {
   "cell_type": "code",
   "execution_count": null,
   "id": "1ab9328c",
   "metadata": {},
   "outputs": [],
   "source": [
    "# Affichage de la chaîne \"moi\" avec print\n",
    "print(\"moi\")"
   ]
  },
  {
   "cell_type": "markdown",
   "id": "56ca36f3",
   "metadata": {},
   "source": [
    "On a vu jusqu'à maintenant que l'on pouvait simplement exécuter une cellule pour afficher le contenu d'un *string*. Mais est-ce cela marche avec plusieurs *strings* ?\n"
   ]
  },
  {
   "cell_type": "code",
   "execution_count": null,
   "id": "da64e9f3",
   "metadata": {},
   "outputs": [],
   "source": [
    "# Qui va être affiché ?\n",
    "\"moi\"\n",
    "\"non moi\""
   ]
  },
  {
   "cell_type": "markdown",
   "id": "8d034116",
   "metadata": {},
   "source": [
    "On voit là un comportement caractéristique des notebooks Jupyter : seule la dernière valeur renvoyée dans une cellule est affichée. La fonction `print` permet de s'affranchir de cette limite.\n"
   ]
  },
  {
   "cell_type": "code",
   "execution_count": null,
   "id": "5dcd07a2",
   "metadata": {},
   "outputs": [],
   "source": [
    "# Et cette fois ?\n",
    "print(\"moi\")\n",
    "print(\"moi aussi\")"
   ]
  },
  {
   "cell_type": "markdown",
   "id": "d124d5dd",
   "metadata": {},
   "source": [
    "### Longueur d'une chaîne\n",
    "\n",
    "La fonction `len` permet de compter le nombre de caractères d'un *string*, tous caractères inclus (lettres, chiffres, espaces, ponctuation...).\n"
   ]
  },
  {
   "cell_type": "code",
   "execution_count": null,
   "id": "a8bf3c1f",
   "metadata": {},
   "outputs": [],
   "source": [
    "len(\"J'ai 19 charactères\")"
   ]
  },
  {
   "cell_type": "markdown",
   "id": "6366405f",
   "metadata": {},
   "source": [
    "Le type \"caractère\" n'existe pas en Python : un caractère seul est défini comme un *string* de taille 1.\n"
   ]
  },
  {
   "cell_type": "code",
   "execution_count": null,
   "id": "95c2043c",
   "metadata": {},
   "outputs": [],
   "source": [
    "print(type(\"a\"))\n",
    "print(len(\"a\"))"
   ]
  },
  {
   "cell_type": "markdown",
   "id": "6912c1a8",
   "metadata": {},
   "source": [
    "### Indexation\n",
    "\n",
    "En Python, un *string* est une **séquence**, c'est à dire une suite de caractères dans un ordre spécifique. Par conséquent, chaque caractère d'un *string* est indexé (Python connaît sa position), et l'on peut utiliser cet index pour extraire des caractères particuliers, des sous-chaînes de caractères, etc.\n",
    "\n",
    "En Python, on utilise les crochets `[]` pour appeler l'index d'une séquence. Plus précisément, l'index fonctionne sur le modèle suivant : `x[a:b:c]` renvoie un *sub-string* du *string* `x` où `a` est la position du caractère de départ, `b` la position du caractère d'arrivée plus 1, et `c` le pas de l'indexation. Tout cela sera plus clair avec les exemples suivants.\n",
    "\n",
    "Note importante : **l'indexation commence à 0 en Python**.\n"
   ]
  },
  {
   "cell_type": "code",
   "execution_count": null,
   "id": "154801f8",
   "metadata": {
    "lines_to_next_cell": 2
   },
   "outputs": [],
   "source": [
    "\"une séquence que l'on va indexer\""
   ]
  },
  {
   "cell_type": "code",
   "execution_count": null,
   "id": "b5077107",
   "metadata": {
    "lines_to_next_cell": 2
   },
   "outputs": [],
   "source": [
    "# Premier élémént\n",
    "\"une séquence que l'on va indexer\"[0]"
   ]
  },
  {
   "cell_type": "code",
   "execution_count": null,
   "id": "b9bbc7e3",
   "metadata": {
    "lines_to_next_cell": 2
   },
   "outputs": [],
   "source": [
    "# Deuxième élémént\n",
    "\"une séquence que l'on va indexer\"[1]"
   ]
  },
  {
   "cell_type": "code",
   "execution_count": null,
   "id": "0ffcd333",
   "metadata": {
    "lines_to_next_cell": 2
   },
   "outputs": [],
   "source": [
    "# Dernier élémént\n",
    "\"une séquence que l'on va indexer\"[-1]"
   ]
  },
  {
   "cell_type": "code",
   "execution_count": null,
   "id": "b97f7c1a",
   "metadata": {
    "lines_to_next_cell": 2
   },
   "outputs": [],
   "source": [
    "# Extraire tout à partir d'un certain caractère\n",
    "\"une séquence que l'on va indexer\"[4:]"
   ]
  },
  {
   "cell_type": "code",
   "execution_count": null,
   "id": "86755dd1",
   "metadata": {
    "lines_to_next_cell": 2
   },
   "outputs": [],
   "source": [
    "# Extraire tout jusqu'à un certain caractère\n",
    "\"une séquence que l'on va indexer\"[:12]"
   ]
  },
  {
   "cell_type": "code",
   "execution_count": null,
   "id": "54dd913a",
   "metadata": {
    "lines_to_next_cell": 2
   },
   "outputs": [],
   "source": [
    "# Extraire un sub-string\n",
    "\"une séquence que l'on va indexer\"[4:12]"
   ]
  },
  {
   "cell_type": "code",
   "execution_count": null,
   "id": "bfdf7187",
   "metadata": {
    "lines_to_next_cell": 2
   },
   "outputs": [],
   "source": [
    "# Extraire tous les 2 caractères, à partir de la 4 ème position\n",
    "\"une séquence que l'on va indexer\"[4::2]"
   ]
  },
  {
   "cell_type": "code",
   "execution_count": null,
   "id": "f67f6f28",
   "metadata": {},
   "outputs": [],
   "source": [
    "# Inverser une séquence\n",
    "\"une séquence que l'on va indexer\"[::-1]"
   ]
  },
  {
   "cell_type": "markdown",
   "id": "bd77b136",
   "metadata": {},
   "source": [
    "A retenir : c'est bien parce qu'un *string* est considéré comme une séquence par Python que l'on peut l'indexer. Par exemple, indexer un nombre n'a pas de sens, et renvoie donc une erreur.\n"
   ]
  },
  {
   "cell_type": "code",
   "execution_count": null,
   "id": "27c14c5e",
   "metadata": {},
   "outputs": [],
   "source": [
    "2[3]"
   ]
  },
  {
   "cell_type": "markdown",
   "id": "0d69e0a0",
   "metadata": {},
   "source": [
    "### Quelques propriétés utiles\n"
   ]
  },
  {
   "cell_type": "code",
   "execution_count": null,
   "id": "01e123c5",
   "metadata": {
    "lines_to_next_cell": 2
   },
   "outputs": [],
   "source": [
    "# Concaténation de strings\n",
    "\"mon adresse est : \" + \"10 rue des Peupliers\""
   ]
  },
  {
   "cell_type": "code",
   "execution_count": null,
   "id": "8afc0712",
   "metadata": {},
   "outputs": [],
   "source": [
    "# Répétition\n",
    "\"echo - \" * 5"
   ]
  },
  {
   "cell_type": "markdown",
   "id": "f5553634",
   "metadata": {},
   "source": [
    "### Quelques méthodes utiles\n",
    "\n",
    "Les différents objets Python ont généralement des **méthodes** dites *built-in* (standard), qui permettent d'effectuer des opérations de base à partir de l'objet. \n",
    "\n",
    "Nous verrons dans un prochain chapitre en quoi consistent précisément les méthodes en Python. Pour le moment, on peut retenir que les méthodes s'utilisent selon le format `objet.methode(parametres)` où les paramètres sont optionnels.\n"
   ]
  },
  {
   "cell_type": "code",
   "execution_count": null,
   "id": "cb332075",
   "metadata": {
    "lines_to_next_cell": 2
   },
   "outputs": [],
   "source": [
    "# Mettre en majuscules\n",
    "\"sequence 850\".upper()"
   ]
  },
  {
   "cell_type": "code",
   "execution_count": null,
   "id": "3de7c3e2",
   "metadata": {
    "lines_to_next_cell": 2
   },
   "outputs": [],
   "source": [
    "# Mettre en minuscules\n",
    "\"sequence 850\".lower()"
   ]
  },
  {
   "cell_type": "code",
   "execution_count": null,
   "id": "73f9c39b",
   "metadata": {
    "lines_to_next_cell": 2
   },
   "outputs": [],
   "source": [
    "# Séparer les mots selon les espaces\n",
    "\"une séquence    à séparer\".split()"
   ]
  },
  {
   "cell_type": "code",
   "execution_count": null,
   "id": "e723d90d",
   "metadata": {
    "lines_to_next_cell": 2
   },
   "outputs": [],
   "source": [
    "# Séparer les mots selon un caractère arbitraire\n",
    "\"pratique pour faire des sous-séquences\".split(\"-\")"
   ]
  },
  {
   "cell_type": "code",
   "execution_count": null,
   "id": "58adb841",
   "metadata": {},
   "outputs": [],
   "source": [
    "# Utiliser les strings comme templates\n",
    "\"mon adresse est : {}\".format(\"10 rue des Peupliers\")"
   ]
  },
  {
   "cell_type": "markdown",
   "id": "79cb9f78",
   "metadata": {},
   "source": [
    "Tout ceci n'est qu'un aperçu des innombrables opérations possibles sur les *strings*. La [documentation officielle](https://docs.python.org/3/library/stdtypes.html#string-methods) liste l'ensemble des méthodes *built-in* disponibles. Les exercices du chapitre et les mini-projets de fin de partie seront l'occasion de découvrir d'autres utilisations.\n",
    "\n",
    "## Variables\n",
    "\n",
    "Jusqu'ici, nous avons dû définir à chaque fois notre objet avant de pouvoir lui appliquer une transformation. Comment faire si l'on veut réutiliser un objet et lui appliquer plusieurs transformations ? Ou faire des opérations à partir de différents objets ?\n",
    "\n",
    "Pour cela, on va assigner les objets à des variables.\n",
    "\n",
    "### Assignation et opérations\n",
    "\n",
    "L'assignation se fait suivant le format : `nom_de_la_variable = objet`. Cela permet ensuite de réaliser des opérations à partir de ces variables.\n"
   ]
  },
  {
   "cell_type": "code",
   "execution_count": null,
   "id": "124b0c23",
   "metadata": {
    "lines_to_next_cell": 2
   },
   "outputs": [],
   "source": [
    "x = 5\n",
    "x"
   ]
  },
  {
   "cell_type": "code",
   "execution_count": null,
   "id": "7b284a61",
   "metadata": {
    "lines_to_next_cell": 2
   },
   "outputs": [],
   "source": [
    "type(x)"
   ]
  },
  {
   "cell_type": "code",
   "execution_count": null,
   "id": "0ea04a5c",
   "metadata": {
    "lines_to_next_cell": 2
   },
   "outputs": [],
   "source": [
    "x + 5"
   ]
  },
  {
   "cell_type": "code",
   "execution_count": null,
   "id": "d538314c",
   "metadata": {},
   "outputs": [],
   "source": [
    "y = x + 2*x\n",
    "y"
   ]
  },
  {
   "cell_type": "markdown",
   "id": "7ee07843",
   "metadata": {},
   "source": [
    "Contrairement à d'autres langages de programmation, Python est dit *dynamiquement* typé : il est possible de réassigner une variable à un objet de type différent. Cela facilite la lecture et le développement, mais peut parfois générer des problèmes difficiles à débugger... Il faut donc toujours bien faire attention que le type de la variable est bien celui que l'on s'imagine manipuler.\n"
   ]
  },
  {
   "cell_type": "code",
   "execution_count": null,
   "id": "302139f7",
   "metadata": {},
   "outputs": [],
   "source": [
    "x = 3\n",
    "x = \"blabla\"\n",
    "type(x)"
   ]
  },
  {
   "cell_type": "markdown",
   "id": "81dd12ec",
   "metadata": {},
   "source": [
    "Il y a naturellement certaines contraintes sur les opérations selon les types des objets.\n"
   ]
  },
  {
   "cell_type": "code",
   "execution_count": null,
   "id": "f39d017f",
   "metadata": {},
   "outputs": [],
   "source": [
    "x = \"test\"\n",
    "y = 3\n",
    "x + y"
   ]
  },
  {
   "cell_type": "markdown",
   "id": "b46642b7",
   "metadata": {},
   "source": [
    "Il est par contre possible d'harmoniser les types en amont :"
   ]
  },
  {
   "cell_type": "code",
   "execution_count": null,
   "id": "293a617b",
   "metadata": {},
   "outputs": [],
   "source": [
    "x = \"test\"\n",
    "y = 3\n",
    "z = str(y)\n",
    "x + z"
   ]
  },
  {
   "cell_type": "markdown",
   "id": "afe97128",
   "metadata": {},
   "source": [
    "### Incrémentation\n",
    "\n",
    "Il est fréquent d'utiliser une variable comme un compteur, en l'incrémentant à chaque fois qu'un évènement donné apparaît par exemple.\n"
   ]
  },
  {
   "cell_type": "code",
   "execution_count": null,
   "id": "1370b946",
   "metadata": {},
   "outputs": [],
   "source": [
    "a = 0\n",
    "print(a)\n",
    "a = a +1\n",
    "print(a)"
   ]
  },
  {
   "cell_type": "markdown",
   "id": "07a8c236",
   "metadata": {},
   "source": [
    "Cette pratique est tellement fréquente qu'il existe des opérateurs spéciaux pour les opérations arithmétiques courantes.\n"
   ]
  },
  {
   "cell_type": "code",
   "execution_count": null,
   "id": "b698a12a",
   "metadata": {
    "lines_to_next_cell": 2
   },
   "outputs": [],
   "source": [
    "a = 0\n",
    "a += 1\n",
    "a"
   ]
  },
  {
   "cell_type": "code",
   "execution_count": null,
   "id": "763a2b93",
   "metadata": {},
   "outputs": [],
   "source": [
    "b = 5\n",
    "b *= 3\n",
    "b"
   ]
  },
  {
   "cell_type": "markdown",
   "id": "ef6bf8d0",
   "metadata": {},
   "source": [
    "## Exercices\n",
    "\n",
    "### Exercice 1\n",
    "\n",
    "Afficher le type de x lorsque : \n",
    "- x = 3\n",
    "- x = \"test\"\n",
    "- x = 3.5\n"
   ]
  },
  {
   "cell_type": "code",
   "execution_count": null,
   "id": "c6cafce1",
   "metadata": {
    "lines_to_next_cell": 2
   },
   "outputs": [],
   "source": [
    "# Tapez votre réponse dans cette cellule\n"
   ]
  },
  {
   "cell_type": "code",
   "execution_count": null,
   "id": "948a7f82",
   "metadata": {},
   "outputs": [],
   "source": [
    "# Exécuter cette cellule pour afficher la solution\n",
    "%load -r 2-9 solutions.py"
   ]
  },
  {
   "cell_type": "markdown",
   "id": "70b00243",
   "metadata": {},
   "source": [
    "### Exercice 2\n"
   ]
  },
  {
   "cell_type": "markdown",
   "id": "f6650bd9",
   "metadata": {},
   "source": [
    "Calculer la somme des longueurs de chacune des chaînes de caractères suivantes : \n",
    "- \"une première chaîne\"\n",
    "- \"et une deuxième\"\n",
    "- \"jamais deux sans trois\"\n"
   ]
  },
  {
   "cell_type": "code",
   "execution_count": null,
   "id": "90100c89",
   "metadata": {
    "lines_to_next_cell": 2
   },
   "outputs": [],
   "source": [
    "# Tapez votre réponse dans cette cellule\n"
   ]
  },
  {
   "cell_type": "code",
   "execution_count": null,
   "id": "dcd6c327",
   "metadata": {},
   "outputs": [],
   "source": [
    "# Exécuter cette cellule pour afficher la solution\n",
    "%load -r 12-16 solutions.py"
   ]
  },
  {
   "cell_type": "markdown",
   "id": "fafbdf1b",
   "metadata": {},
   "source": [
    "### Exercice 3\n",
    "\n",
    "Quel est le type adapté pour définir un code postal ?\n",
    "\n",
    "Essayer de définir les codes postaux suivants au format `int` et au format `string` :\n",
    "- 92120\n",
    "- 02350\n",
    "\n",
    "Que concluez-vous ?\n"
   ]
  },
  {
   "cell_type": "code",
   "execution_count": null,
   "id": "2f20f8f4",
   "metadata": {
    "lines_to_next_cell": 2
   },
   "outputs": [],
   "source": [
    "# Tapez votre réponse dans cette cellule\n"
   ]
  },
  {
   "cell_type": "code",
   "execution_count": null,
   "id": "a57b926d",
   "metadata": {},
   "outputs": [],
   "source": [
    "# Exécuter cette cellule pour afficher la solution\n",
    "%load -r 19-26 solutions.py"
   ]
  },
  {
   "cell_type": "markdown",
   "id": "829a9d5d",
   "metadata": {},
   "source": [
    "### Exercice 4\n",
    "\n",
    "Compter le nombre de fois où la lettre e est présente dans la chaîne suivante :\n",
    "\"Je fais un comptage des e.\"\n",
    "\n",
    "**Indice** : on peut utiliser la méthode *built-in* [count](https://docs.python.org/fr/3/library/stdtypes.html#str.count).\n"
   ]
  },
  {
   "cell_type": "code",
   "execution_count": null,
   "id": "0a6a8e82",
   "metadata": {
    "lines_to_next_cell": 2
   },
   "outputs": [],
   "source": [
    "# Tapez votre réponse dans cette cellule\n"
   ]
  },
  {
   "cell_type": "code",
   "execution_count": null,
   "id": "b72fcc19",
   "metadata": {},
   "outputs": [],
   "source": [
    "# Exécuter cette cellule pour afficher la solution\n",
    "%load -r 29-30 solutions.py"
   ]
  },
  {
   "cell_type": "markdown",
   "id": "26433b1c",
   "metadata": {},
   "source": [
    "### Exercice 5\n",
    "\n",
    "Repérer la première position où la lettre e est présente dans la chaîne suivante : \"Je fais un comptage des e.\"\n",
    "\n",
    "**Indice** : on peut utiliser la méthode *built-in* [find](https://docs.python.org/fr/3/library/stdtypes.html#str.find).\n"
   ]
  },
  {
   "cell_type": "code",
   "execution_count": null,
   "id": "dfd01848",
   "metadata": {
    "lines_to_next_cell": 2
   },
   "outputs": [],
   "source": [
    "# Tapez votre réponse dans cette cellule\n"
   ]
  },
  {
   "cell_type": "code",
   "execution_count": null,
   "id": "b57d95eb",
   "metadata": {},
   "outputs": [],
   "source": [
    "# Exécuter cette cellule pour afficher la solution\n",
    "%load -r 33-34 solutions.py"
   ]
  },
  {
   "cell_type": "markdown",
   "id": "b2602aa0",
   "metadata": {},
   "source": [
    "### Exercice 6\n",
    "\n",
    "Supprimer les espaces superflus au début et à la fin de la chaîne suivante :\n",
    "\n",
    "**Indice** : on peut utiliser la méthode *built-in* [strip](https://docs.python.org/fr/3/library/stdtypes.html#str.strip)."
   ]
  },
  {
   "cell_type": "code",
   "execution_count": null,
   "id": "9eaa9026",
   "metadata": {
    "lines_to_next_cell": 2
   },
   "outputs": [],
   "source": [
    "# Tapez votre réponse dans cette cellule\n",
    "a = \"    Un string très mal formatté.         \""
   ]
  },
  {
   "cell_type": "code",
   "execution_count": null,
   "id": "b6e17027",
   "metadata": {},
   "outputs": [],
   "source": [
    "# Exécuter cette cellule pour afficher la solution\n",
    "%load -r 37-38 solutions.py"
   ]
  },
  {
   "cell_type": "markdown",
   "id": "6bfad763",
   "metadata": {},
   "source": [
    "### Exercice 7\n",
    "\n",
    "Le caractère `\\` permet d'échapper (neutraliser) un caractère spécial au sein d'une chaîne de caractères. Trouvez comment ce caractère permet de résoudre le problème lié à l'utilisation de guillemets (ou d'apostrophes) dans une chaîne définie par des guillemets (apostrophe).\n",
    "\n",
    "**Indice** : des exemples d'utilisation sont disponibles dans la [documentation officielle](https://docs.python.org/fr/3.8/reference/lexical_analysis.html#literals).\n"
   ]
  },
  {
   "cell_type": "code",
   "execution_count": null,
   "id": "ffb1befd",
   "metadata": {
    "lines_to_next_cell": 2
   },
   "outputs": [],
   "source": [
    "# Tapez votre réponse dans cette cellule\n"
   ]
  },
  {
   "cell_type": "code",
   "execution_count": null,
   "id": "b5e3b0f5",
   "metadata": {},
   "outputs": [],
   "source": [
    "# Exécuter cette cellule pour afficher la solution\n",
    "%load -r 41 solutions.py"
   ]
  },
  {
   "cell_type": "markdown",
   "id": "78a3fc33",
   "metadata": {},
   "source": [
    "### Exercice 8\n",
    "\n",
    "Réaliser la suite d'opérations suivantes à l'aide des opérateurs d'incrémentation, et imprimer la valeur finale :\n",
    "- initialiser une variable à 1\n",
    "- lui soustraire 5\n",
    "- la multiplier par 4\n",
    "- lui ajouter 22\n"
   ]
  },
  {
   "cell_type": "code",
   "execution_count": null,
   "id": "143619f9",
   "metadata": {
    "lines_to_next_cell": 2
   },
   "outputs": [],
   "source": [
    "# Tapez votre réponse dans cette cellule\n"
   ]
  },
  {
   "cell_type": "code",
   "execution_count": null,
   "id": "2908af88",
   "metadata": {},
   "outputs": [],
   "source": [
    "# Exécuter cette cellule pour afficher la solution\n",
    "%load -r 44-48 solutions.py"
   ]
  },
  {
   "cell_type": "markdown",
   "id": "2be61c0e",
   "metadata": {},
   "source": [
    "### Exercice 9\n",
    "\n",
    "Considérons les deux séquences suivantes :\n",
    "- \"nous sommes en\"\n",
    "- \"2022\"\n",
    "\n",
    "Trouvez à partir du tutoriel deux manières différentes de les utiliser pour composer la séquence \"nous sommes en 2022\".\n",
    "\n",
    "**Indice** : l'une des deux méthodes implique de modifier (légèrement) une des deux séquences.\n"
   ]
  },
  {
   "cell_type": "code",
   "execution_count": null,
   "id": "af605624",
   "metadata": {
    "lines_to_next_cell": 2
   },
   "outputs": [],
   "source": [
    "# Exécuter cette cellule pour afficher la solution\n",
    "%load -r 51-56 solutions.py"
   ]
  },
  {
   "cell_type": "code",
   "execution_count": null,
   "id": "d426610f",
   "metadata": {},
   "outputs": [],
   "source": []
  }
 ],
 "metadata": {
  "jupytext": {
   "cell_metadata_filter": "-all",
   "main_language": "python",
   "notebook_metadata_filter": "-all"
  }
 },
 "nbformat": 4,
 "nbformat_minor": 5
}
