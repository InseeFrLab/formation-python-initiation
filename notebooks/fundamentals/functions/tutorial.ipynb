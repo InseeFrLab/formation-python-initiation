{
  "cells": [
    {
      "cell_type": "markdown",
      "metadata": {},
      "source": [
        "# Fonctions\n",
        "\n",
        "Rendre son code mieux structuré et plus lisible avec les fonctions.\n",
        "\n",
        "Dans les précédents tutoriels, nous avons étudié le fonctionnement des\n",
        "tests et des boucles, qui permettent de rédiger des programmes Python\n",
        "qui prennent des décisions automatisées. En pratique, un programme va\n",
        "généralement être constitué de différents blocs, qui exécutent chacun\n",
        "une action ou un groupe d’actions (ex : import des données, nettoyage\n",
        "des données, modélisation statistique, etc.). Par ailleurs, certaines de\n",
        "ces actions sont amenées à être répétées avec une légère différence au\n",
        "fil d’un programme (ex : importer plusieurs jeux de données différents).\n",
        "Il va être utile de modéliser chacune de ces actions par une\n",
        "**fonction**, sorte de mini-programme au sein du programme global.\n",
        "Utiliser des fonctions est une **bonne pratique** de programmation, dans\n",
        "la mesure où elles rendent plus explicite la structure logique du code\n",
        "et permettent de réduire la duplication de code.\n",
        "\n",
        "## Définition\n",
        "\n",
        "Une **fonction** peut être définie comme un bloc de code structuré qui\n",
        ": - prend un ensemble d’**arguments** (des objets Python) en entrée -\n",
        "effectue une **action spécifique** via un ensemble d’instructions -\n",
        "**renvoie** un résultat (un objet Python) en sortie\n",
        "\n",
        "Nous avons déjà vu et utilisé un certains nombres de fonctions dans les\n",
        "tutoriels précédents (`range`, `len`, etc.). Nous avons également\n",
        "utilisé des **méthodes**, qui sont simplement des fonctions *attachées*\n",
        "à un type d’objet particulier. Utilisons une fonction bien connue pour\n",
        "illustrer leur fonctionnement général."
      ],
      "id": "0a99b9cd-4721-4526-9bcb-4dc06d15ff1c"
    },
    {
      "cell_type": "code",
      "execution_count": 1,
      "metadata": {},
      "outputs": [],
      "source": [
        "len('do re mi fa sol')"
      ],
      "id": "cc9ac29f"
    },
    {
      "cell_type": "markdown",
      "metadata": {},
      "source": [
        "Dans cet exemple, la fonction `len` : - prend un argument en entrée (une\n",
        "chaîne de caractères) - calcule le nombre de caractères présent dans\n",
        "cette chaîne - renvoie ce nombre en sortie\n",
        "\n",
        "L’“ensemble d’instructions” qui permettent de calculer la longueur de la\n",
        "chaîne n’est pas connu. En tant qu’utilisateur, on a seulement besoin de\n",
        "savoir ce que prend la fonction en entrée et ce qu’elle renvoie en\n",
        "sortie. Cela vaut pour les cas dans lesquels on utilise des fonctions\n",
        "natives de Python ou bien des fonctions issus de librairies Python\n",
        "auxquelles on fait confiance. On parle de “boîtes noires” pour\n",
        "caractériser de telles fonctions.\n",
        "\n",
        "En pratique, on va vouloir définir ses propres fonctions pour structurer\n",
        "son code et le réutiliser dans les analyses.\n",
        "\n",
        "## Syntaxe\n",
        "\n",
        "L’instruction `def` permet de définir une fonction."
      ],
      "id": "1ae4962a-cc09-410d-b2ed-f6b5e547df98"
    },
    {
      "cell_type": "code",
      "execution_count": 2,
      "metadata": {},
      "outputs": [],
      "source": [
        "def accueil(prenom):\n",
        "    msg = \"Salutations \" + prenom + \" !\"\n",
        "    return msg"
      ],
      "id": "9af82376"
    },
    {
      "cell_type": "markdown",
      "metadata": {},
      "source": [
        "Analysons la syntaxe de la definition d’une fonction : - une instruction\n",
        "`def` qui : - spécifie le nom de la fonction (ici, `accueil`) - spécifie\n",
        "les arguments attendus entre parenthèse (ici, un seul argument :\n",
        "`prenom`) - se termine par `:` comme les différentes instructions que\n",
        "nous avons vues - un ensemble d’opérations qui seront effectuées par la\n",
        "fonction, qui doivent être indentées d’un niveau par rapport à\n",
        "l’instruction `def` - une instruction `return`, qui spécifie ce que la\n",
        "fonction va renvoyer lorsqu’elle sera appelée (ici, le contenu de la\n",
        "variable `msg`).\n",
        "\n",
        "Le fait de **définir** une fonction comme ci-dessus revient à rendre\n",
        "disponible dans l’environnement Python le code de la fonction. Ce n’est\n",
        "que lorsque celle-ci est **appelée** dans le code, avec des arguments,\n",
        "que le code contenu est exécuté et produit un résultat."
      ],
      "id": "18b7d8dd-0276-4816-b797-80c448e96f6a"
    },
    {
      "cell_type": "code",
      "execution_count": 3,
      "metadata": {},
      "outputs": [],
      "source": [
        "accueil(\"Miranda\")"
      ],
      "id": "3baa2aea"
    },
    {
      "cell_type": "markdown",
      "metadata": {},
      "source": [
        "Comme expliqué en introduction, tout l’intérêt d’une fonction est de\n",
        "pouvoir réutiliser du code sans avoir à le dupliquer dans le programme."
      ],
      "id": "229a9774-16a9-4835-9581-d2405fe76bc2"
    },
    {
      "cell_type": "code",
      "execution_count": 4,
      "metadata": {},
      "outputs": [],
      "source": [
        "accueil(\"Romuald\")"
      ],
      "id": "ccba6fb2"
    },
    {
      "cell_type": "markdown",
      "metadata": {},
      "source": [
        "## Passage d’arguments\n",
        "\n",
        "### Principe\n",
        "\n",
        "Lorsqu’on appelle une fonction en lui spécifiant des arguments, on dit\n",
        "qu’on lui “passe” des arguments. Ces arguments deviennent alors des\n",
        "variables qui peuvent être utilisées dans le contexte de la fonction. A\n",
        "l’inverse d’une boucle `for` par exemple, les variables créées ne\n",
        "persistent pas après l’appel de la fonction"
      ],
      "id": "b98479fa-1f42-442b-ab87-b322a4509bea"
    },
    {
      "cell_type": "code",
      "execution_count": 5,
      "metadata": {},
      "outputs": [],
      "source": [
        "def addition(x, y):\n",
        "    return x + y"
      ],
      "id": "33f23989"
    },
    {
      "cell_type": "code",
      "execution_count": 6,
      "metadata": {},
      "outputs": [],
      "source": [
        "addition(5, 3)"
      ],
      "id": "b6dddd51"
    },
    {
      "cell_type": "code",
      "execution_count": 7,
      "metadata": {},
      "outputs": [],
      "source": [
        "x  # La variable ne persiste pas en mémoire après l'appel de la fonction"
      ],
      "id": "4ccd5578"
    },
    {
      "cell_type": "markdown",
      "metadata": {},
      "source": [
        "NB : on verra plus en détails ce comportement plus loin dans le\n",
        "tutoriel, à travers les concepts de variables globales et de variables\n",
        "locales.\n",
        "\n",
        "### Nombre d’arguments\n",
        "\n",
        "Le nombre d’arguments que l’on peut passer à une fonction est variable.\n",
        "En toute rigueur, il est possible de définir une fonction qui n’a besoin\n",
        "d’aucun argument, même si c’est rarement utile en pratique.\n",
        "\n",
        "`ysyybmuf tags=[] def neuf():     return 9`\n",
        "\n",
        "`ysyybmuf tags=[] a = neuf() a`\n",
        "\n",
        "### Passage par position et passage par mot-clé\n",
        "\n",
        "En Python, les fonctions admettent deux modes de passage des arguments\n",
        ": - le **passage par position**, qui correspond à celui que nous avons\n",
        "vu dans tous les exemples précédents : les arguments sont passés à la\n",
        "fonction dans l’ordre dans lequel ils ont été définis, sans avoir à\n",
        "préciser le nom du paramètre. - le **passage par mot-clé** : on précise\n",
        "le nom du paramètre lors du passage de l’argument, ce qui permet de ne\n",
        "pas avoir à suivre l’ordre indiqué lors de la définition.\n",
        "\n",
        "Illustrons cette différence à partir d’une fonction qui réalise\n",
        "simplement une division."
      ],
      "id": "61538c9e-43ca-48ef-a4c0-fd048edf7284"
    },
    {
      "cell_type": "code",
      "execution_count": 8,
      "metadata": {},
      "outputs": [],
      "source": [
        "def division(x, y):\n",
        "    return x / y"
      ],
      "id": "1a7567bb"
    },
    {
      "cell_type": "code",
      "execution_count": 9,
      "metadata": {},
      "outputs": [],
      "source": [
        "division(4, 2)  # Passage par position"
      ],
      "id": "859782f2"
    },
    {
      "cell_type": "code",
      "execution_count": 10,
      "metadata": {},
      "outputs": [],
      "source": [
        "division(x=4, y=2)  # Passage par mot-clé"
      ],
      "id": "b13eadb4"
    },
    {
      "cell_type": "markdown",
      "metadata": {},
      "source": [
        "Dans le cas du passage par position, le respect de l’ordre est\n",
        "impératif."
      ],
      "id": "6c5a2af6-d687-464b-8ba0-54d08a78ca96"
    },
    {
      "cell_type": "code",
      "execution_count": 11,
      "metadata": {},
      "outputs": [],
      "source": [
        "print(division(0, 5))\n",
        "print(division(5, 0))"
      ],
      "id": "23b877c6"
    },
    {
      "cell_type": "markdown",
      "metadata": {},
      "source": [
        "Dans le cas du passage par mot-clé, l’ordre n’a plus d’importance."
      ],
      "id": "22a2add6-3178-4dda-9ad3-f005262386a9"
    },
    {
      "cell_type": "code",
      "execution_count": 12,
      "metadata": {},
      "outputs": [],
      "source": [
        "print(division(x=0, y=5))\n",
        "print(division(y=5, x=0))"
      ],
      "id": "723277b3"
    },
    {
      "cell_type": "markdown",
      "metadata": {},
      "source": [
        "### Arguments obligatoires et arguments optionnels\n",
        "\n",
        "Lorsqu’on définit une fonction, il est fréquent de vouloir faire\n",
        "cohabiter des arguments que doit absolument spécifier l’utilisateur, et\n",
        "des arguments optionnels qui spécifient un comportement par défaut de la\n",
        "fonction, mais peuvent également être modifiés si nécessaire.\n",
        "\n",
        "Regardons par exemple comment on peut modifier le comportement de la\n",
        "fonction `print` à l’aide d’un argument optionnel."
      ],
      "id": "5eaa3232-d945-4802-8e59-f7c9a03822eb"
    },
    {
      "cell_type": "code",
      "execution_count": 13,
      "metadata": {},
      "outputs": [],
      "source": [
        "print(\"bonjour\")\n",
        "print(\"bonjour\")"
      ],
      "id": "cb31974f"
    },
    {
      "cell_type": "code",
      "execution_count": 14,
      "metadata": {},
      "outputs": [],
      "source": [
        "print(\"bonjour\", end=' ')\n",
        "print(\"bonjour\")"
      ],
      "id": "dc3b6eab"
    },
    {
      "cell_type": "markdown",
      "metadata": {},
      "source": [
        "On a modifié le comportement du premier appel à `print` via le paramètre\n",
        "optionnel `end`. Par défaut, cette valeur est fixée à `'\\n'`, soit un\n",
        "retour à la ligne. On l’a modifié dans la deuxième cellule à un espace,\n",
        "d’où la différence de résultat.\n",
        "\n",
        "Cet exemple illustre également le lien entre le caractère obligatoire ou\n",
        "non d’un argument et sa modalité de passage : - en général, les\n",
        "**arguments obligatoires** sont **passés par position**. Ils peuvent\n",
        "également être passés par mot-clé, mais dans la mesure où ils sont\n",
        "“attendus”, on les passe généralement par position pour être plus\n",
        "concis - les **arguments optionnels** doivent être **passés par\n",
        "mot-clé**, afin de bien marquer qu’on modifie le comportement par défaut\n",
        "de la fonction\n",
        "\n",
        "Comment spécifier qu’un argument est optionnel lorsqu’on définit une\n",
        "fonction soi-même ? Simplement en spécifiant une valeur par défaut de\n",
        "l’argument. Par exemple, construisons une fonction qui concatène deux\n",
        "chaînes de caractères, et laisse à l’utilisateur l’option de spécifier\n",
        "un séparateur."
      ],
      "id": "7ceaac1d-75da-4373-adc5-17312a45ab43"
    },
    {
      "cell_type": "code",
      "execution_count": 15,
      "metadata": {},
      "outputs": [],
      "source": [
        "def concat_string(str1, str2, sep=''):\n",
        "    return str1 + sep + str2"
      ],
      "id": "f1e15dd6"
    },
    {
      "cell_type": "code",
      "execution_count": 16,
      "metadata": {},
      "outputs": [],
      "source": [
        "concat_string('bonjour', 'bonjour')  # Comportement par défaut"
      ],
      "id": "9cdcfca8"
    },
    {
      "cell_type": "code",
      "execution_count": 17,
      "metadata": {},
      "outputs": [],
      "source": [
        "concat_string('bonjour', 'bonjour', sep=', ')  # Comportement modifié"
      ],
      "id": "4075c7ad"
    },
    {
      "cell_type": "markdown",
      "metadata": {},
      "source": [
        "Cet exemple illustre également la règle lorsqu’on a un mélange\n",
        "d’arguments positionnels et par mot-clé : **les arguments positionnels\n",
        "doivent toujours être placés avant les arguments par mot-clé**.\n",
        "\n",
        "## Renvoi de résultats\n",
        "\n",
        "### Principe\n",
        "\n",
        "On a vu : - que toute fonction renvoie un résultat en sortie - que\n",
        "l’instruction `return` permet de spécifier ce résultat\n",
        "\n",
        "Lorsque la fonction est appelée, elle est évaluée à la valeur spécifiée\n",
        "par `return`, et cette valeur peut alors être récupérée dans une\n",
        "variable et utilisée dans des calculs ultérieurs, et ainsi de suite."
      ],
      "id": "0860bff5-c36d-4bae-ab2b-11faf04d283f"
    },
    {
      "cell_type": "code",
      "execution_count": 18,
      "metadata": {},
      "outputs": [],
      "source": [
        "def division(x, y):\n",
        "    return x / y"
      ],
      "id": "15cc857e"
    },
    {
      "cell_type": "code",
      "execution_count": 19,
      "metadata": {},
      "outputs": [],
      "source": [
        "a = division(4, 2)\n",
        "b = division(9, 3)\n",
        "division(a, b)  # 2 / 3"
      ],
      "id": "3da8c63f"
    },
    {
      "cell_type": "markdown",
      "metadata": {},
      "source": [
        "Remarque importante : **lorsqu’une instruction return est atteinte dans\n",
        "une fonction, le reste de la fonction n’est pas exécuté**."
      ],
      "id": "c8c5a9f0-63c4-4028-a1e1-e1459d09cf28"
    },
    {
      "cell_type": "code",
      "execution_count": 20,
      "metadata": {},
      "outputs": [],
      "source": [
        "def test(x):\n",
        "    return x\n",
        "    print(\"vais-je être affiché ?\")\n",
        "    \n",
        "test(3)"
      ],
      "id": "9b1a74fc"
    },
    {
      "cell_type": "markdown",
      "metadata": {},
      "source": [
        "### La valeur `None`\n",
        "\n",
        "Une fonction renvoie nécessairement un résultat lorsqu’elle est appelée…\n",
        "mais que se passe-t-il si l’on ne spécifie pas d’instruction `return` ?"
      ],
      "id": "deec416e-564e-4d35-a7bd-99305ec5f460"
    },
    {
      "cell_type": "code",
      "execution_count": 21,
      "metadata": {},
      "outputs": [],
      "source": [
        "def accueil(prenom):\n",
        "    print(\"Salutations \" + prenom + \" !\")\n",
        "    \n",
        "x = accueil(\"Léontine\")\n",
        "print(x)\n",
        "print(type(x))"
      ],
      "id": "2f895ddd"
    },
    {
      "cell_type": "markdown",
      "metadata": {},
      "source": [
        "Comme attendu, la fonction a imprimé un message de bienvenue dans la\n",
        "console. Mais on n’a pas spécifié de valeur à retourner. Comme un objet\n",
        "doit malgré tout être retourné par définition, Python renvoie la valeur\n",
        "`None`, qui est un objet particulier, de type `NoneType`, et qui\n",
        "représente l’absence de valeur. Son seul intérêt est de bien marquer la\n",
        "différence entre une valeur réelle et l’absence de valeur.\n",
        "\n",
        "Pour tester si un objet a pour valeur `None`, on utilise une syntaxe\n",
        "particulière :"
      ],
      "id": "6f98bfe5-6021-432e-8889-c0fbf3e3472a"
    },
    {
      "cell_type": "code",
      "execution_count": 22,
      "metadata": {},
      "outputs": [],
      "source": [
        "x is None  # et non pas x == None"
      ],
      "id": "cc1bc2fc"
    },
    {
      "cell_type": "markdown",
      "metadata": {},
      "source": [
        "### Renvoyer plusieurs résultats\n",
        "\n",
        "Une fonction renvoie par définition **un** résultat, qui peut être tout\n",
        "objet Python. Comment faire si l’on souhaite renvoyer plusieurs\n",
        "résultats ? On peut simplement enregistrer les différents résultats dans\n",
        "un conteneur (liste, tuple, dictionnaire, etc.), qui peut lui contenir\n",
        "un grand nombre d’objets.\n",
        "\n",
        "En pratique, il est très fréquent de renvoyer un *tuple* lorsque l’on\n",
        "souhaite renvoyer plusieurs objets. En effet, les *tuples* ont la\n",
        "propriété de *tuple unpacking*, que nous avons vues à plusieurs reprises\n",
        "dans les précédents tutoriels. Cette propriété rend possible une syntaxe\n",
        "très pratique et élégante pour l’assignation des résultats d’une\n",
        "fonction à des variables."
      ],
      "id": "b3379b84-fc13-4f2d-a7c8-144c412ac00c"
    },
    {
      "cell_type": "code",
      "execution_count": 23,
      "metadata": {},
      "outputs": [],
      "source": [
        "def puissances(x):\n",
        "    return x**2, x**3, x**4\n",
        "\n",
        "a, b, c = puissances(2)\n",
        "\n",
        "print(a)\n",
        "print(b)\n",
        "print(c)"
      ],
      "id": "e6cb57a4"
    },
    {
      "cell_type": "markdown",
      "metadata": {},
      "source": [
        "## Variables locales et variables globales\n",
        "\n",
        "Nous avons vu en introduction que les fonctions pouvaient être vues\n",
        "comme des mini-programmes dans un programme global. Cette interprétation\n",
        "nous donne l’occasion d’aborder rapidement la notion de *scope*\n",
        "(contexte) en Python. Un *scope* est une sorte de conteneur à objets\n",
        "Python, auxquels il est possible d’accéder seulement dans le cadre de ce\n",
        "*scope*.\n",
        "\n",
        "Tous les objets (variables, fonctions, etc.) que l’on définit lors d’une\n",
        "session Python sont enregistrés dans le ***scope* global** de Python.\n",
        "Ces objets peuvent alors être accédés à n’importe quel endroit du\n",
        "programme, y compris au sein d’une fonction. Lorsque c’est le cas, on\n",
        "parle de **variables globales**."
      ],
      "id": "1a029ba9-85f0-4ab7-bcf6-4235c3abea33"
    },
    {
      "cell_type": "code",
      "execution_count": 24,
      "metadata": {},
      "outputs": [],
      "source": [
        "x = 5  # variable globale\n",
        "\n",
        "def ajoute(y):\n",
        "    return x + y\n",
        "\n",
        "ajoute(6)"
      ],
      "id": "037e9958"
    },
    {
      "cell_type": "markdown",
      "metadata": {},
      "source": [
        "La variable `x` n’a pas été passée en argument à la fonction `ajoute` ni\n",
        "été définie dans le cadre de cette fonction. Pourtant, on peut l’appeler\n",
        "au sein de la fonction. Cela permet de partager des éléments entre\n",
        "plusieurs fonctions.\n",
        "\n",
        "En revanche, les arguments passés à une fonction ou bien les variables\n",
        "définies dans le cadre d’une fonction sont des **variables locales** :\n",
        "elles n’existent que dans le contexte spécifique de la fonction, et ne\n",
        "peuvent pas être réutilisées une fois que celle-ci s’est exécutée."
      ],
      "id": "83ab494c-01f4-4378-86be-5a6ae9081efa"
    },
    {
      "cell_type": "code",
      "execution_count": 25,
      "metadata": {},
      "outputs": [],
      "source": [
        "def ajoute(y):\n",
        "    z = 5  # variable locale\n",
        "    return z + y\n",
        "\n",
        "ajoute(6)\n",
        "print(z)"
      ],
      "id": "e3e09528"
    },
    {
      "cell_type": "markdown",
      "metadata": {},
      "source": [
        "Au sein d’un contexte donné, chaque variable est unique. En revanche, il\n",
        "est possible d’avoir des variables qui portent le même nom dans des\n",
        "contextes différents. Regardons par exemple ce qui se passe lorsque l’on\n",
        "crée une variable dans le contexte d’une fonction, alors qu’elle existe\n",
        "déjà dans le contexte global."
      ],
      "id": "cec41609-e6b8-4110-bc0f-f65dc16a6d7a"
    },
    {
      "cell_type": "code",
      "execution_count": 26,
      "metadata": {},
      "outputs": [],
      "source": [
        "x = 5  # variable globale\n",
        "\n",
        "def ajoute(y):\n",
        "    x = 10\n",
        "    return x + y\n",
        "\n",
        "ajoute(6)"
      ],
      "id": "327689d4"
    },
    {
      "cell_type": "markdown",
      "metadata": {},
      "source": [
        "C’est un bon exemple d’un principe plus général : **c’est toujours le\n",
        "contexte le plus local qui prime**. Lorsque Python effectue l’opération\n",
        "`x + y`, il va chercher les valeurs de `x` et de `y` d’abord dans le\n",
        "contexte local, puis, seulement s’il ne les trouve pas, dans le contexte\n",
        "supérieur – en l’occurence, le contexte global.\n",
        "\n",
        "NB : on verra dans un prochain tutoriel sur les bonnes pratiques qu’**il\n",
        "est préférable de limiter au strict minimum l’utilisation de variables\n",
        "globales**, car elles réduisent la reproductibilité des analyses.\n",
        "\n",
        "## Exercices\n",
        "\n",
        "### Questions de compréhension\n",
        "\n",
        "-   1/ Pourquoi dit-on que l’utilisation de fonctions dans un programme\n",
        "    est une bonne pratique de développement ?\n",
        "-   2/ Quelles sont les trois caractéristiques d’une fonction ?\n",
        "-   3/ Qu’est-ce qu’une fonction “boîte noire” ? A quelles autres\n",
        "    fonctions s’oppose-t-elle ?\n",
        "-   4/ Que se passe-t-il quand on définit une fonction ? Et quand on\n",
        "    l’appelle ?\n",
        "-   5/ Combien d’arguments peut-on passer à une fonction ?\n",
        "-   6/ Quelles sont les deux modalités de passage d’arguments à une\n",
        "    fonction ?\n",
        "-   7/ Quelle est l’utilité de passer des arguments optionnels à une\n",
        "    fonction ?\n",
        "-   8/ Dans quel ordre doivent être passés les arguments d’une fonction\n",
        "    si celle-ci a à la fois des arguments obligatoires et optionnels ?\n",
        "-   9/ Existe-il des fonctions qui ne renvoient rien ?\n",
        "-   10/ Une fonction peut-elle renvoyer plusieurs objets ?\n",
        "-   11/ Que deviennent les variables du *scope* local d’une fonction une\n",
        "    fois que la fonction a été appelée ?\n",
        "\n",
        "\\`\\`\\`ysyybmuf tags=\\[\\] \\# Testez votre réponse dans cette cellule\n",
        "\n",
        "\n",
        "    ```{python} tags=[]\n",
        "    # Exécuter cette cellule pour afficher la solution\n",
        "    %load -r 3-38 solutions.py\n",
        "\n",
        "### Fonction puissance\n",
        "\n",
        "Créer une fonction `puissance` qui prend en entrée deux nombres `x` et\n",
        "`y` et renvoie la fonction puissance $x^y$.\n",
        "\n",
        "\\`\\`\\`ysyybmuf tags=\\[\\] \\# Testez votre réponse dans cette cellule\n",
        "\n",
        "\n",
        "    ```{python} tags=[]\n",
        "    # Exécuter cette cellule pour afficher la solution\n",
        "    %load -r 42-45 solutions.py\n",
        "\n",
        "### Prédiction de valeurs retournées par des fonctions\n",
        "\n",
        "Soit `x = 5` et `y = 3` des arguments que l’on passe à chacune des\n",
        "fonctions définies dans la cellule suivante. Prédire ce que vont\n",
        "retourner les fonctions (valeur et `type` de l’objet), et vérifier vos\n",
        "réponses."
      ],
      "id": "36ab2341-5da1-4270-b7d5-bbf6a4fd0b9b"
    },
    {
      "cell_type": "code",
      "execution_count": 27,
      "metadata": {},
      "outputs": [],
      "source": [
        "def f1(x):\n",
        "    return x\n",
        "\n",
        "def f2(x):\n",
        "    return ''\n",
        "\n",
        "def f3(x):\n",
        "    print(\"Hello World\")\n",
        "    \n",
        "def f4(x, y):\n",
        "    print(x + y)\n",
        "    \n",
        "def f5(x, y):\n",
        "    x + y\n",
        "    \n",
        "def f6(x, y):\n",
        "    if x >= 3 and y < 9:\n",
        "        return 'test ok'\n",
        "    else:\n",
        "        return 'test not ok'\n",
        "    \n",
        "def f7(x, y):\n",
        "    return f6(2, 8)\n",
        "\n",
        "def f8(x, y, z):\n",
        "    return x + y + z\n",
        "\n",
        "def f9(x, y, z=5):\n",
        "    return x + y + z"
      ],
      "id": "87a83e6a"
    },
    {
      "cell_type": "markdown",
      "metadata": {},
      "source": [
        "\\`\\`\\`ysyybmuf tags=\\[\\] \\# Testez votre réponse dans cette cellule\n",
        "\n",
        "\n",
        "    ```{python} tags=[]\n",
        "    # Exécuter cette cellule pour afficher la solution\n",
        "    %load -r 49-65 solutions.py\n",
        "\n",
        "### Variables globales et variables locales\n",
        "\n",
        "Que vaut la variable `total` dans le programme suivant ?\n",
        "\n",
        "\\`\\`\\`ysyybmuf tags=\\[\\] z = 3\n",
        "\n",
        "def f1(x, y): z = 5 return x + y + z\n",
        "\n",
        "def f2(x, y, z=1): return x + y + z\n",
        "\n",
        "def f3(x, y): return x + y + z\n",
        "\n",
        "total = f1(2, 3) + f2(3, 1) + f3(1, 0) print(total)\n",
        "\n",
        "\n",
        "    ```{python} tags=[]\n",
        "    # Testez votre réponse dans cette cellule\n",
        "\n",
        "`ysyybmuf tags=[] # Exécuter cette cellule pour afficher la solution %load -r 69-93 solutions.py`\n",
        "\n",
        "### Calculatrice"
      ],
      "id": "39f80bb2-af7c-4bd0-9272-ae5932a87c94"
    },
    {
      "cell_type": "raw",
      "metadata": {
        "raw_mimetype": "text/html"
      },
      "source": [
        "<!-- #region tags=[] -->"
      ],
      "id": "dba92375-f678-4bcb-892f-1cc9045fcbeb"
    },
    {
      "cell_type": "markdown",
      "metadata": {},
      "source": [
        "Ecrire une fonction `calculatrice` qui : - prend deux nombres en\n",
        "entrée - renvoie l’addition, la soustraction, la multiplication et la\n",
        "division de ces deux nombres en sortie\n",
        "\n",
        "Utiliser la propriété de *tuple unpacking* pour assigner les résultats à\n",
        "des variables en une seule ligne. <!-- #endregion -->\n",
        "\n",
        "\\`\\`\\`ysyybmuf tags=\\[\\] \\# Testez votre réponse dans cette cellule\n",
        "\n",
        "\n",
        "    ```{python} tags=[]\n",
        "    # Exécuter cette cellule pour afficher la solution\n",
        "    %load -r 97-101 solutions.py\n",
        "\n",
        "### Dédupliquer une liste"
      ],
      "id": "6fcecfff-e89f-4377-a7ee-d551c3db075c"
    },
    {
      "cell_type": "raw",
      "metadata": {
        "raw_mimetype": "text/html"
      },
      "source": [
        "<!-- #region tags=[] -->"
      ],
      "id": "56e3b265-1061-4e00-8d5c-9072788f6b52"
    },
    {
      "cell_type": "markdown",
      "metadata": {},
      "source": [
        "Ecrire une fonction qui : - prend en entrée une liste d’éléments\n",
        "quelconques - renvoie une nouvelle liste constituée des éléments uniques\n",
        "de la liste initiale - permet via un paramètre optionnel de trier ou non\n",
        "la liste finale par ordre alphanumérique. Le comportement par défaut\n",
        "doit être de ne pas trier.\n",
        "\n",
        "Indice : la procédure a été abordée dans le tutoriel sur les\n",
        "dictionnaires et les sets. <!-- #endregion -->\n",
        "\n",
        "\\`\\`\\`ysyybmuf tags=\\[\\] \\# Testez votre réponse dans cette cellule\n",
        "\n",
        "\n",
        "    ```{python} tags=[]\n",
        "    # Exécuter cette cellule pour afficher la solution\n",
        "    %load -r 105-113 solutions.py\n",
        "\n",
        "### Multiplier les éléments d’une liste"
      ],
      "id": "54d4b4ce-fd56-4d5e-979d-e4bd324bf4a7"
    },
    {
      "cell_type": "raw",
      "metadata": {
        "raw_mimetype": "text/html"
      },
      "source": [
        "<!-- #region tags=[] -->"
      ],
      "id": "cdad493e-63cb-47c0-8390-749723c4f005"
    },
    {
      "cell_type": "markdown",
      "metadata": {},
      "source": [
        "Ecrire une fonction qui : - prend en entrée une liste de nombres -\n",
        "imprime : “Il y a $n$ nombres dans la liste.” avec $n$ le nombre\n",
        "effectif - multiplie tous les éléments de la liste (sans utiliser de\n",
        "fonction pré-codée) - retourne le résultat <!-- #endregion -->\n",
        "\n",
        "\\`\\`\\`ysyybmuf tags=\\[\\] \\# Testez votre réponse dans cette cellule\n",
        "\n",
        "\n",
        "    ```{python} tags=[]\n",
        "    # Exécuter cette cellule pour afficher la solution\n",
        "    %load -r 117-125 solutions.py\n",
        "\n",
        "### Variance dans une population et variance dans un échantillon"
      ],
      "id": "634be6c2-9d1c-46f0-8c86-11fa88228765"
    },
    {
      "cell_type": "raw",
      "metadata": {
        "raw_mimetype": "text/html"
      },
      "source": [
        "<!-- #region tags=[] -->"
      ],
      "id": "65deb7e3-f64d-439c-b9bf-78b6afb71d66"
    },
    {
      "cell_type": "markdown",
      "metadata": {},
      "source": [
        "Dans un exercice du précédent tutoriel, nous avons codé “à la main” le\n",
        "calcul de la variance d’une liste de nombres, à partir de la formule :\n",
        "$$\\sigma^2 = {\\frac {1}{n}}\\sum_{i=1}^{n} (x_{i}-\\bar{x})^2$$\n",
        "\n",
        "En toute rigueur, cette formule est valide lorsqu’on calcule la\n",
        "**variance en population complète**. Si l’on n’observe qu’un échantillon\n",
        "de la population, on ne calcule pas la variance mais on l’estime, et il\n",
        "faut alors utiliser la formule suivante pour obtenir un **estimateur\n",
        "sans biais de la vraie variance** :\n",
        "$$s^2 = {\\frac {1}{n-1}}\\sum_{i=1}^{n} (x_{i}-\\bar{x})^2$$.\n",
        "\n",
        "Pour tenir compte de cette distinction : - coder une fonction `mean` qui\n",
        "calcule la moyenne comme dans l’exercice du tutoriel précédent - coder\n",
        "une fonction `var` qui calcule la variance comme dans l’exercice du\n",
        "tutoriel précédent (en appelant la fonction `mean` pour calculer la\n",
        "moyenne) - modifier la fonction `var` afin de permettre à l’utilisateur\n",
        "de choisir la méthode de calcul via un paramètre optionnel `mode`\n",
        "(valeur par défaut : ‘population’ pour le calcul via la formule en\n",
        "population ; valeur alternative : ‘sample’ pour le calcul via la formule\n",
        "en échantillon)\n",
        "\n",
        "Comparer les valeurs obtenues dans les deux cas avec ce que renvoie la\n",
        "fonction *black box* `var` de la librarie `numpy` (cf. corrigé de\n",
        "l’exercice du tutoriel précédent pour la syntaxe, et voir la\n",
        "[doc](https://numpy.org/doc/stable/reference/generated/numpy.var.html)\n",
        "de la fonction et en particulier le paramètre `ddof` pour faire varier\n",
        "la méthode de calcul). <!-- #endregion -->\n",
        "\n",
        "\\`\\`\\`ysyybmuf tags=\\[\\] \\# Testez votre réponse dans cette cellule\n",
        "\n",
        "\n",
        "    ```{python} tags=[]\n",
        "    # Exécuter cette cellule pour afficher la solution\n",
        "    %load -r 129-158 solutions.py\n",
        "\n",
        "### Fonctions récursives : factorielle"
      ],
      "id": "11b9c2ab-38e3-4cf6-bcf1-f3133a0315a1"
    },
    {
      "cell_type": "raw",
      "metadata": {
        "raw_mimetype": "text/html"
      },
      "source": [
        "<!-- #region tags=[] -->"
      ],
      "id": "0a66879c-e5ba-4ee7-8aad-c1a5b551f3ec"
    },
    {
      "cell_type": "markdown",
      "metadata": {},
      "source": [
        "Les fonctions récursives sont des fonctions qui s’appellent elles-mêmes\n",
        "dans le corps de la fonction, ce qui entraîne des appels infinis jusqu’à\n",
        "atteindre un critère d’arrêt.\n",
        "\n",
        "Un bon exemple de fonction récursive est la fonction qui calcule la\n",
        "factorielle d’un entier. La factorielle d’un entier naturel $n$ est le\n",
        "produit des nombres entiers strictement positifs inférieurs ou égaux à\n",
        "n. Par exemple : $5! = 5*4*3*2*1 = 120$.\n",
        "\n",
        "Coder cette fonction et vérifier qu’elle fonctionne correctement.\n",
        "<!-- #endregion -->\n",
        "\n",
        "\\`\\`\\`ysyybmuf tags=\\[\\] \\# Testez votre réponse dans cette cellule\n",
        "\n",
        "\n",
        "    ```{python} tags=[]\n",
        "    # Exécuter cette cellule pour afficher la solution\n",
        "    %load -r 162-169 solutions.py"
      ],
      "id": "d3923f4b-5dff-48e9-acb2-21049e775b3c"
    }
  ],
  "nbformat": 4,
  "nbformat_minor": 5,
  "metadata": {
    "kernelspec": {
      "name": "python3",
      "display_name": "Python 3 (ipykernel)",
      "language": "python"
    },
    "language_info": {
      "name": "python",
      "codemirror_mode": {
        "name": "ipython",
        "version": "3"
      },
      "file_extension": ".py",
      "mimetype": "text/x-python",
      "nbconvert_exporter": "python",
      "pygments_lexer": "ipython3",
      "version": "3.10.12"
    }
  }
}