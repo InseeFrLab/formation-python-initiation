{
 "cells": [
  {
   "cell_type": "markdown",
   "id": "3a232d77-fa09-406c-a0bd-8e9823c5ab40",
   "metadata": {},
   "source": [
    "# Traiter des données tabulaires avec Pandas"
   ]
  },
  {
   "cell_type": "markdown",
   "id": "944cb098-732e-493e-b3aa-91558b107598",
   "metadata": {},
   "source": [
    "L'analyse statistique a généralement pour base des **données tabulaires**, dans lesquelles chaque ligne représente une observation et chaque colonne une variable. Pour traiter ce type de données et y appliquer facilement les méthodes d'analyse de données standards, des objets dédiés ont été conçus : les `DataFrames`. Les utilisateurs de `R` connaissent bien cette structure de données, qui est native à ce langage orienté statistique. En `Python`, langage généraliste, cet objet n'existe pas nativement. Heureusement, une librairie très complete et bien pratique, pensée comme une surcouche à `NumPy`, introduit en `Python` l'objet `DataFrame` et permet la manipulation et l'analyse de données de manière simple et intuitive : `Pandas`."
   ]
  },
  {
   "cell_type": "markdown",
   "id": "d8875d50-15d5-45b6-b903-4c060869693d",
   "metadata": {},
   "source": [
    "On commence par importer la librairie `Pandas`. L'usage est courant est de lui attribuer l'alias `pd` afin de simplifier les futurs appels aux objets et fonctions du package. On importe également `NumPy` car on va comparer les objets fondamentaux des deux packages."
   ]
  },
  {
   "cell_type": "code",
   "execution_count": 6,
   "id": "5f785ba8-25b4-4857-890b-fe905023b97a",
   "metadata": {},
   "outputs": [],
   "source": [
    "import pandas as pd\n",
    "import numpy as np"
   ]
  },
  {
   "cell_type": "markdown",
   "id": "cad62bd3-14e2-42fb-8093-3eabd6d3c78c",
   "metadata": {},
   "source": [
    "## Structures de données"
   ]
  },
  {
   "cell_type": "markdown",
   "id": "a457d775-e99c-4633-85f7-15cb097c4b7a",
   "metadata": {},
   "source": [
    "Pour bien comprendre le fonctionnement de `Pandas`, il faut s'intéresser à ses objets fondamentaux. On va donc d'abord étudier les `Series`, dont la concaténation permet de construire un `DataFrame`. "
   ]
  },
  {
   "cell_type": "markdown",
   "id": "218c85da-deb9-4571-a351-bed4e514b6e3",
   "metadata": {},
   "source": [
    "### La `Series`"
   ]
  },
  {
   "cell_type": "markdown",
   "id": "083ca3f7-b134-49bf-8ef7-332a3652b61e",
   "metadata": {},
   "source": [
    "Une Series est un conteneur de données unidimensionnel pouvant accueillir n'importe quel type de données (entiers, *strings*, objets Python...). Une Series est néanmoins d'un type donné : une Series ne contenant que des entiers sera de type `int`, et une Series contenant des objets de différente nature sera de type `object`. Construisons notre première Series à partir d'une liste pour vérifier ce comportement."
   ]
  },
  {
   "cell_type": "code",
   "execution_count": 20,
   "id": "d3239f01-9cd1-4562-b9a2-232495878240",
   "metadata": {},
   "outputs": [
    {
     "name": "stdout",
     "output_type": "stream",
     "text": [
      "0    1\n",
      "1    X\n",
      "2    3\n",
      "dtype: object\n"
     ]
    }
   ],
   "source": [
    "l = [1, \"X\", 3]\n",
    "s = pd.Series(l)\n",
    "print(s)"
   ]
  },
  {
   "cell_type": "markdown",
   "id": "85178b80-3d97-4982-866a-f9ada0269f1c",
   "metadata": {},
   "source": [
    "On peut notamment accéder aux données d'une Series par position, comme pour une liste ou un array."
   ]
  },
  {
   "cell_type": "code",
   "execution_count": 27,
   "id": "0ea6895d-23e0-4ca1-8280-fcece214e4b7",
   "metadata": {},
   "outputs": [
    {
     "name": "stdout",
     "output_type": "stream",
     "text": [
      "X\n"
     ]
    }
   ],
   "source": [
    "print(s[1])"
   ]
  },
  {
   "cell_type": "markdown",
   "id": "6aa468be-b964-49a8-8f8d-0c489d6c75d5",
   "metadata": {},
   "source": [
    "A priori, on ne voit pas beaucoup de différence entre une Series et un *array* `NumPy` à 1 dimension. Pourtant, il existe une différence de taille qui est la présence d'un index : les observations ont un label associé. Lorsqu'on crée une Series sans rien spécifier, l'index est automatiquement fixé aux entiers de 0 à n (le nombre d'éléments de la Series). Mais il est possible de passer un index spécifique (ex : des dates, des noms de communes, etc.)."
   ]
  },
  {
   "cell_type": "code",
   "execution_count": 25,
   "id": "5ae8930e-149d-4f97-8b47-5f3b3604ac1c",
   "metadata": {},
   "outputs": [
    {
     "name": "stdout",
     "output_type": "stream",
     "text": [
      "a    1\n",
      "b    X\n",
      "c    3\n",
      "dtype: object\n"
     ]
    }
   ],
   "source": [
    "s = pd.Series(l, index=[\"a\", \"b\", \"c\"])\n",
    "print(s)"
   ]
  },
  {
   "cell_type": "markdown",
   "id": "4a8a7627-56fd-41c8-9bfd-43c79509fb22",
   "metadata": {},
   "source": [
    "Ce qui permet d'accéder aux données par label :"
   ]
  },
  {
   "cell_type": "code",
   "execution_count": 26,
   "id": "96e742cd-11d5-4594-8ec6-738e6948303b",
   "metadata": {},
   "outputs": [
    {
     "data": {
      "text/plain": [
       "'X'"
      ]
     },
     "execution_count": 26,
     "metadata": {},
     "output_type": "execute_result"
    }
   ],
   "source": [
    "s[\"b\"]"
   ]
  },
  {
   "cell_type": "markdown",
   "id": "f0d406e4-2793-43ac-8ece-93df1494885c",
   "metadata": {},
   "source": [
    "Cette différence apparaît secondaire à première vue, mais deviendra essentielle pour la construction du DataFrame. Pour le reste, les Series se comportent de manière très proche des arrays NumPy : les calculs sont vectorisés, on peut directement faire la somme de deux Series, etc. D'ailleurs, on peut très facilement convertir une Series en array via l'attribut `values`. Ce qui, naturellement, fait perdre l'index..."
   ]
  },
  {
   "cell_type": "code",
   "execution_count": 31,
   "id": "24b46a97-0ed2-4b0c-9485-fe0e00bdaade",
   "metadata": {},
   "outputs": [
    {
     "data": {
      "text/plain": [
       "array([1, 'X', 3], dtype=object)"
      ]
     },
     "execution_count": 32,
     "metadata": {},
     "output_type": "execute_result"
    }
   ],
   "source": [
    "s = pd.Series(l, index=[\"a\", \"b\", \"c\"])\n",
    "s.values"
   ]
  },
  {
   "cell_type": "markdown",
   "id": "bea54023-6c25-4780-9997-ee30e4713dd4",
   "metadata": {},
   "source": [
    "### Le `DataFrame`"
   ]
  },
  {
   "cell_type": "markdown",
   "id": "21fd9585-e16d-40fa-9ad1-31d98077b399",
   "metadata": {},
   "source": [
    "### Indexation"
   ]
  },
  {
   "cell_type": "markdown",
   "id": "92811907-b06e-4bc6-818d-dc928a33f5eb",
   "metadata": {},
   "source": [
    "## Sélectionner des données"
   ]
  },
  {
   "cell_type": "markdown",
   "id": "1aa7939e-3f31-4bba-b41a-5f0507613ca4",
   "metadata": {},
   "source": [
    "### Sélectionner des colonnes"
   ]
  },
  {
   "cell_type": "markdown",
   "id": "0777cef1-46b4-4a87-b93c-9a4481d72b80",
   "metadata": {},
   "source": [
    "### Sélectionner des lignes"
   ]
  },
  {
   "cell_type": "markdown",
   "id": "1fd420c2-6ade-4624-adfd-c9d2b9a180dd",
   "metadata": {},
   "source": [
    "### Masques booléens"
   ]
  },
  {
   "cell_type": "markdown",
   "id": "fbd6bac8-c97c-4ed5-ab1a-d40fca493a43",
   "metadata": {},
   "source": [
    "## Explorer des données tabulaires"
   ]
  },
  {
   "cell_type": "markdown",
   "id": "e61c6528-eeab-40bf-ba04-76c143f1ca24",
   "metadata": {},
   "source": [
    "### Importer des données"
   ]
  },
  {
   "cell_type": "markdown",
   "id": "c44e5a6e-9fbd-4106-95b7-9ddda3bb9e71",
   "metadata": {},
   "source": [
    "### Visualiser un échantillon des données"
   ]
  },
  {
   "cell_type": "markdown",
   "id": "e92560fa-61fc-4534-b141-528ac7daf954",
   "metadata": {},
   "source": [
    "### Obtenir une vue d'ensemble des données"
   ]
  },
  {
   "cell_type": "markdown",
   "id": "dede3550-dcdd-411c-a50d-3155d356baa3",
   "metadata": {},
   "source": [
    "### Calculer des statistiques descriptives"
   ]
  },
  {
   "cell_type": "markdown",
   "id": "8a524a13-cacc-42b0-987f-4d5bae9cdaa8",
   "metadata": {},
   "source": [
    "## Principales manipulations de données"
   ]
  },
  {
   "cell_type": "markdown",
   "id": "a12a0d4e-49f8-4a83-a689-751505a90cf6",
   "metadata": {},
   "source": [
    "### Transformer les données"
   ]
  },
  {
   "cell_type": "markdown",
   "id": "ad603caa-5042-412c-84f0-a63cef1ac7ee",
   "metadata": {},
   "source": [
    "#### Transformer un DataFrame"
   ]
  },
  {
   "cell_type": "markdown",
   "id": "005b7ca0-cf90-4490-aab9-3db4be10754a",
   "metadata": {},
   "source": [
    "#### Transformer les colonnes"
   ]
  },
  {
   "cell_type": "markdown",
   "id": "c99d2a02-34d6-4cfc-b4a0-92d7a3fed5d1",
   "metadata": {},
   "source": [
    "#### Transformer les lignes"
   ]
  },
  {
   "cell_type": "markdown",
   "id": "9fd91ef0-cc88-4755-88b8-2995d55021b5",
   "metadata": {},
   "source": [
    "### Trier les valeurs"
   ]
  },
  {
   "cell_type": "markdown",
   "id": "8055523a-9b88-41fe-8a82-248e0fa85c9c",
   "metadata": {},
   "source": [
    "### Traiter les données textuelles"
   ]
  },
  {
   "cell_type": "markdown",
   "id": "85654fc7-02b9-45d6-9837-dd8c902a3b96",
   "metadata": {
    "tags": []
   },
   "source": [
    "### Traiter les valeurs manquantes"
   ]
  },
  {
   "cell_type": "markdown",
   "id": "0456f8ee-05da-4608-a80e-6b54103facd7",
   "metadata": {},
   "source": [
    "### Opérations par groupes"
   ]
  },
  {
   "cell_type": "markdown",
   "id": "c277ae77-725a-49d4-ae6a-f968168d4de3",
   "metadata": {},
   "source": [
    "### Joindre des tables"
   ]
  },
  {
   "cell_type": "markdown",
   "id": "4fb81530-f9e7-4590-b40b-0ddefe9f1eb7",
   "metadata": {},
   "source": [
    "#### Concaténer des tables"
   ]
  },
  {
   "cell_type": "markdown",
   "id": "a0c68011-01ff-4aa9-8eb5-2623c803af64",
   "metadata": {},
   "source": [
    "#### Fusionner des tables"
   ]
  },
  {
   "cell_type": "code",
   "execution_count": null,
   "id": "a7bb6294-7b1c-46f7-9e9b-5f3b492454e5",
   "metadata": {},
   "outputs": [],
   "source": []
  }
 ],
 "metadata": {
  "kernelspec": {
   "display_name": "Python 3 (ipykernel)",
   "language": "python",
   "name": "python3"
  },
  "language_info": {
   "codemirror_mode": {
    "name": "ipython",
    "version": 3
   },
   "file_extension": ".py",
   "mimetype": "text/x-python",
   "name": "python",
   "nbconvert_exporter": "python",
   "pygments_lexer": "ipython3",
   "version": "3.10.4"
  }
 },
 "nbformat": 4,
 "nbformat_minor": 5
}
