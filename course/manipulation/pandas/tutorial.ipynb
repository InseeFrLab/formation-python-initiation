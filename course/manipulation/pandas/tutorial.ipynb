{
 "cells": [
  {
   "cell_type": "markdown",
   "id": "3a232d77-fa09-406c-a0bd-8e9823c5ab40",
   "metadata": {},
   "source": [
    "# Tutoriel"
   ]
  },
  {
   "cell_type": "markdown",
   "id": "944cb098-732e-493e-b3aa-91558b107598",
   "metadata": {},
   "source": [
    "L'analyse statistique a généralement pour base des **données tabulaires**, dans lesquelles chaque ligne représente une observation et chaque colonne une variable. Pour traiter ce type de données et y appliquer facilement les méthodes d'analyse de données standards, des objets dédiés ont été conçus : les `DataFrames`. Les utilisateurs de `R` connaissent bien cette structure de données, qui est native à ce langage orienté statistique. En `Python`, langage généraliste, cet objet n'existe pas nativement. Heureusement, une librairie très complete et bien pratique, pensée comme une surcouche à `NumPy`, introduit en `Python` l'objet `DataFrame` et permet la manipulation et l'analyse de données de manière simple et intuitive : `Pandas`."
   ]
  },
  {
   "cell_type": "markdown",
   "id": "ef350d60-2126-49dd-80fb-6938443f63c9",
   "metadata": {},
   "source": [
    "## Pandas"
   ]
  },
  {
   "cell_type": "markdown",
   "id": "d8875d50-15d5-45b6-b903-4c060869693d",
   "metadata": {},
   "source": [
    "On commence par importer la librairie `Pandas`. L'usage est courant est de lui attribuer l'alias `pd` afin de simplifier les futurs appels aux objets et fonctions du package."
   ]
  },
  {
   "cell_type": "code",
   "execution_count": 3,
   "id": "5f785ba8-25b4-4857-890b-fe905023b97a",
   "metadata": {},
   "outputs": [],
   "source": [
    "import pandas as pd"
   ]
  },
  {
   "cell_type": "markdown",
   "id": "cad62bd3-14e2-42fb-8093-3eabd6d3c78c",
   "metadata": {},
   "source": [
    "### Structures de données"
   ]
  },
  {
   "cell_type": "markdown",
   "id": "218c85da-deb9-4571-a351-bed4e514b6e3",
   "metadata": {},
   "source": [
    "#### La `Series`"
   ]
  },
  {
   "cell_type": "markdown",
   "id": "bea54023-6c25-4780-9997-ee30e4713dd4",
   "metadata": {},
   "source": [
    "#### Le `DataFrame`"
   ]
  },
  {
   "cell_type": "markdown",
   "id": "21fd9585-e16d-40fa-9ad1-31d98077b399",
   "metadata": {},
   "source": [
    "#### Indexation"
   ]
  },
  {
   "cell_type": "markdown",
   "id": "92811907-b06e-4bc6-818d-dc928a33f5eb",
   "metadata": {},
   "source": [
    "### Sélectionner des données"
   ]
  },
  {
   "cell_type": "markdown",
   "id": "1aa7939e-3f31-4bba-b41a-5f0507613ca4",
   "metadata": {},
   "source": [
    "#### Sélectionner des colonnes"
   ]
  },
  {
   "cell_type": "markdown",
   "id": "0777cef1-46b4-4a87-b93c-9a4481d72b80",
   "metadata": {},
   "source": [
    "#### Sélectionner des lignes"
   ]
  },
  {
   "cell_type": "markdown",
   "id": "1fd420c2-6ade-4624-adfd-c9d2b9a180dd",
   "metadata": {},
   "source": [
    "#### Masques booléens"
   ]
  },
  {
   "cell_type": "markdown",
   "id": "fbd6bac8-c97c-4ed5-ab1a-d40fca493a43",
   "metadata": {},
   "source": [
    "### Explorer des données tabulaires"
   ]
  },
  {
   "cell_type": "markdown",
   "id": "e61c6528-eeab-40bf-ba04-76c143f1ca24",
   "metadata": {},
   "source": [
    "#### Importer des données"
   ]
  },
  {
   "cell_type": "markdown",
   "id": "c44e5a6e-9fbd-4106-95b7-9ddda3bb9e71",
   "metadata": {},
   "source": [
    "#### Visualiser un échantillon des données"
   ]
  },
  {
   "cell_type": "markdown",
   "id": "e92560fa-61fc-4534-b141-528ac7daf954",
   "metadata": {},
   "source": [
    "#### Obtenir une vue d'ensemble des données"
   ]
  },
  {
   "cell_type": "markdown",
   "id": "dede3550-dcdd-411c-a50d-3155d356baa3",
   "metadata": {},
   "source": [
    "#### Calculer des statistiques descriptives"
   ]
  },
  {
   "cell_type": "markdown",
   "id": "8a524a13-cacc-42b0-987f-4d5bae9cdaa8",
   "metadata": {},
   "source": [
    "### Principales manipulations de données"
   ]
  },
  {
   "cell_type": "markdown",
   "id": "e4f9fd2c-ca10-451a-9e02-f4d9f9351cc6",
   "metadata": {},
   "source": [
    "#### Opérations sur les colonnes"
   ]
  },
  {
   "cell_type": "markdown",
   "id": "9fd91ef0-cc88-4755-88b8-2995d55021b5",
   "metadata": {},
   "source": [
    "#### Trier les valeurs"
   ]
  },
  {
   "cell_type": "markdown",
   "id": "c277ae77-725a-49d4-ae6a-f968168d4de3",
   "metadata": {},
   "source": [
    "### Joindre des tables"
   ]
  },
  {
   "cell_type": "code",
   "execution_count": null,
   "id": "a7bb6294-7b1c-46f7-9e9b-5f3b492454e5",
   "metadata": {},
   "outputs": [],
   "source": []
  }
 ],
 "metadata": {
  "kernelspec": {
   "display_name": "Python 3 (ipykernel)",
   "language": "python",
   "name": "python3"
  },
  "language_info": {
   "codemirror_mode": {
    "name": "ipython",
    "version": 3
   },
   "file_extension": ".py",
   "mimetype": "text/x-python",
   "name": "python",
   "nbconvert_exporter": "python",
   "pygments_lexer": "ipython3",
   "version": "3.10.4"
  }
 },
 "nbformat": 4,
 "nbformat_minor": 5
}
