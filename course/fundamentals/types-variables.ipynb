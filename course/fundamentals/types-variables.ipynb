{
 "cells": [
  {
   "cell_type": "markdown",
   "id": "c73793b8-7160-42d5-9bad-79cc626a7f7e",
   "metadata": {},
   "source": [
    "# Types de base et variables"
   ]
  },
  {
   "cell_type": "markdown",
   "id": "7e0d0c08-4781-4bb9-9a45-4ff19c318fef",
   "metadata": {},
   "source": [
    "Dans ce premier TP, nous allons découvrir les objets les plus fondamentaux de Python : les **nombres** et les **chaînes de caractère**. Nous allons également voir comment l'on peut assigner des objets à des **variables**, afin de réaliser des opérations avec ces objets."
   ]
  },
  {
   "cell_type": "markdown",
   "id": "cfb7332a-bd6b-4040-a539-e3399223a38d",
   "metadata": {},
   "source": [
    "## Nombres"
   ]
  },
  {
   "cell_type": "markdown",
   "id": "36435090-ea3d-4216-8bff-75fc3259ab3d",
   "metadata": {},
   "source": [
    "### Types de nombres"
   ]
  },
  {
   "cell_type": "markdown",
   "id": "f38e5047-caf1-497a-8655-c3c54f15fb51",
   "metadata": {},
   "source": [
    "Python propose différents objets de type numérique. Dans ce tutoriel, on va s'intéresser aux deux types principalement utilisés :\n",
    "- les entiers (type `int` pour *integer*)\n",
    "- les réels (type `float` pour nombres à virgule flottante)\n",
    "\n",
    "De manière générale, on utilise la fonction `type` pour imprimer le type d'un objet Python."
   ]
  },
  {
   "cell_type": "code",
   "execution_count": null,
   "id": "4bd71fd4-be2a-435f-b6c7-d33ba7a83805",
   "metadata": {},
   "outputs": [],
   "source": [
    "type(3)"
   ]
  },
  {
   "cell_type": "code",
   "execution_count": null,
   "id": "d7259bfa-fa78-436e-9012-11222c26fb0f",
   "metadata": {},
   "outputs": [],
   "source": [
    "type(3.14)"
   ]
  },
  {
   "cell_type": "markdown",
   "id": "b020c5b5-f3a9-4a85-b371-d1a27b48c760",
   "metadata": {},
   "source": [
    "Les fonctions `float` et `int` peuvent être utilisées pour passer d'un type à l'autre."
   ]
  },
  {
   "cell_type": "code",
   "execution_count": null,
   "id": "e2ddd724-7b78-460f-85c7-42c907add76a",
   "metadata": {},
   "outputs": [],
   "source": [
    "# Conversion en float\n",
    "float(3)"
   ]
  },
  {
   "cell_type": "code",
   "execution_count": null,
   "id": "46467944-93b7-4b6c-b938-b2503dd63508",
   "metadata": {},
   "outputs": [],
   "source": [
    "# Conversion en float\n",
    "type(float(3))"
   ]
  },
  {
   "cell_type": "code",
   "execution_count": null,
   "id": "e330bc84-5fe7-430e-86d1-4728e943be62",
   "metadata": {},
   "outputs": [],
   "source": [
    "# Conversion en int\n",
    "int(3.79)"
   ]
  },
  {
   "cell_type": "markdown",
   "id": "07fae725-1ddc-4439-ac0d-eb80797d29ab",
   "metadata": {},
   "source": [
    "Attention à la conversion *float* -> *int*, qui tronque la partie décimale."
   ]
  },
  {
   "cell_type": "code",
   "execution_count": null,
   "id": "fb37d26c-2683-4c17-9472-fe2d32e4f026",
   "metadata": {},
   "outputs": [],
   "source": [
    "# Les floats peuvent être écrits en notation scientifique\n",
    "2e3"
   ]
  },
  {
   "cell_type": "code",
   "execution_count": null,
   "id": "e40c6824-3851-4938-8b13-d1bd6d4976ee",
   "metadata": {},
   "outputs": [],
   "source": [
    "type(2e3)"
   ]
  },
  {
   "cell_type": "markdown",
   "id": "f9306f0f-a26b-40e5-b485-f1a526f3fb78",
   "metadata": {},
   "source": [
    "### Opérations arithmétiques de base"
   ]
  },
  {
   "cell_type": "code",
   "execution_count": null,
   "id": "4a492653-c0ab-41a1-b9ad-1c82152e7bca",
   "metadata": {},
   "outputs": [],
   "source": [
    "# Addition\n",
    "8 + 9"
   ]
  },
  {
   "cell_type": "code",
   "execution_count": null,
   "id": "0b4a8bc3-c717-410b-bf64-864c94c81b93",
   "metadata": {},
   "outputs": [],
   "source": [
    "# Soustraction\n",
    "5 - 2"
   ]
  },
  {
   "cell_type": "code",
   "execution_count": null,
   "id": "f8796eaf-ca76-493e-93a4-346b3b6171a0",
   "metadata": {},
   "outputs": [],
   "source": [
    "# Multiplication\n",
    "2 * 6"
   ]
  },
  {
   "cell_type": "code",
   "execution_count": null,
   "id": "cb141147-3c15-46b3-8e1f-3ba1117bed7d",
   "metadata": {},
   "outputs": [],
   "source": [
    "# Division\n",
    "9 / 4"
   ]
  },
  {
   "cell_type": "code",
   "execution_count": null,
   "id": "d5ba5f47-759b-4a68-9741-a7ac5cacfa51",
   "metadata": {},
   "outputs": [],
   "source": [
    "# Division par 0\n",
    "3 / 0"
   ]
  },
  {
   "cell_type": "markdown",
   "id": "01017d72-01cd-41d2-b859-5ed234cb3030",
   "metadata": {},
   "source": [
    "C'était bien sûr prévisible. Mais il n'est pas rare d'avoir de telles erreurs dans le cadre de calculs statistiques, notamment avec *NumPy* ou *Pandas*, produisant une erreur similaire qu'il faut alors débugger."
   ]
  },
  {
   "cell_type": "code",
   "execution_count": null,
   "id": "92e37958-5ded-434e-8a7f-8169bfde0ea8",
   "metadata": {},
   "outputs": [],
   "source": [
    "# Division euclidienne : quotient\n",
    "9 // 4"
   ]
  },
  {
   "cell_type": "code",
   "execution_count": null,
   "id": "1592d4f0-b600-4a02-92d3-2596cfe59be0",
   "metadata": {},
   "outputs": [],
   "source": [
    "# Division euclidienne : reste\n",
    "9 % 4"
   ]
  },
  {
   "cell_type": "code",
   "execution_count": null,
   "id": "b1b2bd91-9961-44ab-be2a-55166cc42b1a",
   "metadata": {},
   "outputs": [],
   "source": [
    "# Puissance\n",
    "2 ** 5"
   ]
  },
  {
   "cell_type": "code",
   "execution_count": null,
   "id": "4d5c6fd6-f502-403b-9dc5-da12f658f13f",
   "metadata": {},
   "outputs": [],
   "source": [
    "# Racine carrée\n",
    "5 ** 0.5"
   ]
  },
  {
   "cell_type": "code",
   "execution_count": null,
   "id": "b3d98267-ae33-490e-9342-e5b61e2212fe",
   "metadata": {},
   "outputs": [],
   "source": [
    "# Ordre des opérations : convention usuelle\n",
    "2 + 5 * (10 - 4)"
   ]
  },
  {
   "cell_type": "markdown",
   "id": "fc1f02a6-4946-4000-8ae6-f276fb06dd4b",
   "metadata": {},
   "source": [
    "## Chaînes de charactères"
   ]
  },
  {
   "cell_type": "markdown",
   "id": "3a83d2aa-d778-47ef-9a19-c9c19c9bab9f",
   "metadata": {},
   "source": [
    "Les chaînes de caractères (ou *strings*) sont utilisées pour stocker de l'information textuelle. Plus précisément, elles peuvent stocker tout caractère de type [Unicode](https://fr.wikipedia.org/wiki/Unicode), ce qui inclut les lettres des différentes langues, mais également la ponctuation, les chiffres, les smileys, etc.\n",
    "\n",
    "Un *string* se définit en mettant l'information entre apostrophes ou entre guillemets (anglais). "
   ]
  },
  {
   "cell_type": "markdown",
   "id": "302acbb9-68ea-4077-91c0-bc6271167d74",
   "metadata": {},
   "source": [
    "### Définition"
   ]
  },
  {
   "cell_type": "code",
   "execution_count": null,
   "id": "61e66d73-e554-4361-b330-768567df0e03",
   "metadata": {},
   "outputs": [],
   "source": [
    "# Première manière \n",
    "'mot'"
   ]
  },
  {
   "cell_type": "code",
   "execution_count": null,
   "id": "d8e32c74-e310-456a-9360-81e26e30f769",
   "metadata": {},
   "outputs": [],
   "source": [
    "# Deuxième manière\n",
    "\"ça fonctionne aussi\""
   ]
  },
  {
   "cell_type": "code",
   "execution_count": null,
   "id": "3980a246-e1ab-4d93-af32-15f8c22cc395",
   "metadata": {},
   "outputs": [],
   "source": [
    "# Mais attention au mélange des deux !\n",
    "'l'apostrophe, quelle catastrophe'"
   ]
  },
  {
   "cell_type": "markdown",
   "id": "98eee02f-0bdb-44b3-b482-6cece76cf470",
   "metadata": {},
   "source": [
    "Erreur de syntaxe : la seconde apostrophe est compris comme la fin du *string*, et Python ne sait pas interpréter le reste de la séquence."
   ]
  },
  {
   "cell_type": "code",
   "execution_count": null,
   "id": "7827f877-d0e1-44b3-86fd-b1fc1cf4ec5f",
   "metadata": {},
   "outputs": [],
   "source": [
    "# Il faut donc varier en cas de besoin\n",
    "\"l'apostrophe, aucun problème\""
   ]
  },
  {
   "cell_type": "code",
   "execution_count": null,
   "id": "db65cf8e-2082-4f96-bcb1-d0120405ba8a",
   "metadata": {},
   "outputs": [],
   "source": [
    "# Même chose en sens inverse\n",
    "'les guillemets, \"aucun problème\"'"
   ]
  },
  {
   "cell_type": "markdown",
   "id": "3c8da4e2-9aa9-4a1e-ac23-6d4bb4fb9088",
   "metadata": {},
   "source": [
    "### La fonction `print`"
   ]
  },
  {
   "cell_type": "markdown",
   "id": "58777892-3644-4503-8321-5a17910cf947",
   "metadata": {},
   "source": [
    "Le travail avec les *strings* est l'occasion de découvrir la très pratique et très utilisée fonction `print`. Elle affiche simplement l'argument qu'on lui passe entre parenthèses **et** un retour à la ligne par défaut.\n",
    "\n",
    "On a vu jusqu'à maintenant que l'on pouvait simplement exécuter une cellule pour afficher son contenu. Mais est-ce cela marche avec plusieurs valeurs ?"
   ]
  },
  {
   "cell_type": "code",
   "execution_count": null,
   "id": "a407ca22-e5ec-49a1-9378-ef1019155872",
   "metadata": {},
   "outputs": [],
   "source": [
    "# Qui va être affiché ?\n",
    "\"moi\"\n",
    "\"non moi\""
   ]
  },
  {
   "cell_type": "markdown",
   "id": "11f3af88-4e4c-4ba4-b201-48478c119d13",
   "metadata": {},
   "source": [
    "On voit là un comportement caractéristique des notebooks Jupyter : seule la dernière valeur renvoyée dans une cellule est affichée. La fonction `print` permet de s'affranchir de cette limite."
   ]
  },
  {
   "cell_type": "code",
   "execution_count": null,
   "id": "bbc988e2-5968-425b-bb81-cf220468792f",
   "metadata": {},
   "outputs": [],
   "source": [
    "# Et cette fois ?\n",
    "print(\"moi\")\n",
    "print(\"moi aussi\")"
   ]
  },
  {
   "cell_type": "markdown",
   "id": "2ff9af0b-47c9-4e5f-a557-49c744b325fa",
   "metadata": {},
   "source": [
    "### Longueur d'une chaîne"
   ]
  },
  {
   "cell_type": "markdown",
   "id": "c55db7ab-3ad1-44c7-a898-a121f5215934",
   "metadata": {},
   "source": [
    "La fonction `len` permet de compter le nombre de caractères d'un *string*, tous caractères inclus (lettres, chiffres, espaces, ponctuation...)."
   ]
  },
  {
   "cell_type": "code",
   "execution_count": null,
   "id": "486c2f03-128c-45e1-af6c-e273a62a70f2",
   "metadata": {},
   "outputs": [],
   "source": [
    "len(\"J'ai 19 charactères\")"
   ]
  },
  {
   "cell_type": "markdown",
   "id": "5f039283-d501-4e52-946f-42a7483b8dbe",
   "metadata": {},
   "source": [
    "Le type \"caractère\" n'existe pas en Python : un caractère seul est défini comme un *string* de taille 1."
   ]
  },
  {
   "cell_type": "code",
   "execution_count": null,
   "id": "a4020b08-e2bd-46be-962e-5e0ef04af235",
   "metadata": {},
   "outputs": [],
   "source": [
    "print(type(\"a\"))\n",
    "print(len(\"a\"))"
   ]
  },
  {
   "cell_type": "markdown",
   "id": "cfdcd438-e4f0-42a9-b7cf-b0a8247f0d35",
   "metadata": {},
   "source": [
    "### Indexation"
   ]
  },
  {
   "cell_type": "markdown",
   "id": "19828a2a-d42b-426e-9394-10e2639d923f",
   "metadata": {},
   "source": [
    "En Python, un *string* est une **séquence**, c'est à dire une suite de caractères dans un ordre spécifique. Par conséquent, chaque caractère d'un *string* est indexé (Python connaît sa position), et l'on peut utiliser cet index pour extraire des caractères particuliers, des sous-chaînes de caractères, etc.\n",
    "\n",
    "En Python, on utilise les crochets `[]` pour appeler l'index d'une séquence. Plus précisément, l'index fonctionne sur le modèle suivant : `x[a:b:c]` renvoie un *sub-string* du *strin*g `x` où `a` est la position du caractère de départ, `b` la position du caractère d'arrivée, et `c` le pas de l'indexation. Tout cela sera plus clair avec les exemples suivants.\n",
    "\n",
    "Note importante : **l'indexation commence à 0 en Python**."
   ]
  },
  {
   "cell_type": "code",
   "execution_count": null,
   "id": "a040f1fb-eacd-4499-838b-5f75c01dacab",
   "metadata": {},
   "outputs": [],
   "source": [
    "\"une séquence que l'on va indexer\""
   ]
  },
  {
   "cell_type": "code",
   "execution_count": null,
   "id": "51887082-2ac7-4462-8331-41108b2fa128",
   "metadata": {},
   "outputs": [],
   "source": [
    "# Premier élémént\n",
    "\"une séquence que l'on va indexer\"[0]"
   ]
  },
  {
   "cell_type": "code",
   "execution_count": null,
   "id": "ea02afb2-d17b-427c-99ba-4ca1b23f84db",
   "metadata": {},
   "outputs": [],
   "source": [
    "# Deuxième élémént\n",
    "\"une séquence que l'on va indexer\"[1]"
   ]
  },
  {
   "cell_type": "code",
   "execution_count": null,
   "id": "db48c6c0-2997-4439-b3f4-c7e629a6fd7b",
   "metadata": {},
   "outputs": [],
   "source": [
    "# Dernier élémént\n",
    "\"une séquence que l'on va indexer\"[-1]"
   ]
  },
  {
   "cell_type": "code",
   "execution_count": null,
   "id": "cba267f2-83b5-454c-8eef-fde19c905fab",
   "metadata": {},
   "outputs": [],
   "source": [
    "# Extraire tout à partir d'un certain caractère\n",
    "\"une séquence que l'on va indexer\"[4:]"
   ]
  },
  {
   "cell_type": "code",
   "execution_count": null,
   "id": "7e15858b-fb57-461b-a8d0-82dba43829eb",
   "metadata": {},
   "outputs": [],
   "source": [
    "# Extraire tout jusqu'à un certain caractère\n",
    "\"une séquence que l'on va indexer\"[:12]"
   ]
  },
  {
   "cell_type": "code",
   "execution_count": null,
   "id": "7b774be5-2ac3-4d3b-b4a6-bd59b9363184",
   "metadata": {},
   "outputs": [],
   "source": [
    "# Extraire un sub-string\n",
    "\"une séquence que l'on va indexer\"[4:12]"
   ]
  },
  {
   "cell_type": "code",
   "execution_count": null,
   "id": "1e025669-ca37-49fc-804a-e57ed3abf8ca",
   "metadata": {},
   "outputs": [],
   "source": [
    "# Extraire tous les 2 caractères, à partir de la 4 ème position\n",
    "\"une séquence que l'on va indexer\"[4::2]"
   ]
  },
  {
   "cell_type": "code",
   "execution_count": null,
   "id": "b2035583-8169-4840-8460-10340add6635",
   "metadata": {},
   "outputs": [],
   "source": [
    "# Inverser une séquence\n",
    "\"une séquence que l'on va indexer\"[::-1]"
   ]
  },
  {
   "cell_type": "markdown",
   "id": "070a860c-71ce-4f86-a965-90c8cdcc903b",
   "metadata": {},
   "source": [
    "A retenir : c'est bien parce qu'un *string* est considéré comme une séquence par Python que l'on peut l'indexer. Par exemple, indexer un nombre n'a pas de sens, et renvoie donc une erreur."
   ]
  },
  {
   "cell_type": "code",
   "execution_count": null,
   "id": "601168c9-eee2-4524-b03f-db6da2267284",
   "metadata": {},
   "outputs": [],
   "source": [
    "2[3]"
   ]
  },
  {
   "cell_type": "markdown",
   "id": "b767e5e3-ae6d-4991-b337-78040a6f6c36",
   "metadata": {},
   "source": [
    "### Quelques propriétés utiles"
   ]
  },
  {
   "cell_type": "code",
   "execution_count": null,
   "id": "c32d5267-c58b-4034-9aed-c94d1b1da1e5",
   "metadata": {},
   "outputs": [],
   "source": [
    "# Concaténation de strings\n",
    "\"mon adresse est : \" + \"10 rue des Peupliers\""
   ]
  },
  {
   "cell_type": "code",
   "execution_count": null,
   "id": "361a7291-0a21-4404-8821-e06511f8ab32",
   "metadata": {},
   "outputs": [],
   "source": [
    "# Répétition\n",
    "\"echo - \" * 5"
   ]
  },
  {
   "cell_type": "markdown",
   "id": "689946a6-d190-4a53-a118-ab3dc2d5b9da",
   "metadata": {},
   "source": [
    "### Quelques méthodes utiles"
   ]
  },
  {
   "cell_type": "markdown",
   "id": "a33dbc8b-fbd8-4d3b-a4cc-23b13cf945ad",
   "metadata": {},
   "source": [
    "Les différents objets Python ont généralement des **méthodes** dites *built-in* (standard), qui permettent d'effectuer des opérations de base à partir de l'objet. \n",
    "\n",
    "Nous verrons dans un prochain chapitre en quoi consistent précisément les méthodes en Python. Pour le moment, on peut retenir que les méthodes s'utilisent selon le format `objet.methode(parametres)` où les paramètres sont optionnels."
   ]
  },
  {
   "cell_type": "code",
   "execution_count": null,
   "id": "28e8b2df-d199-4d9c-b311-5999104d8947",
   "metadata": {},
   "outputs": [],
   "source": [
    "# Mettre en majuscules\n",
    "\"sequence 850\".upper()"
   ]
  },
  {
   "cell_type": "code",
   "execution_count": null,
   "id": "eb040922-5e01-40a3-a683-ddfdfb1df68e",
   "metadata": {},
   "outputs": [],
   "source": [
    "# Mettre en minuscules\n",
    "\"sequence 850\".lower()"
   ]
  },
  {
   "cell_type": "code",
   "execution_count": null,
   "id": "2fd866b8-6296-469f-9959-25d498768ab4",
   "metadata": {},
   "outputs": [],
   "source": [
    "# Séparer les mots selon les espaces\n",
    "\"une séquence    à séparer\".split()"
   ]
  },
  {
   "cell_type": "code",
   "execution_count": null,
   "id": "0b5986e2-0722-421f-9ed3-44c9c58e3014",
   "metadata": {},
   "outputs": [],
   "source": [
    "# Séparer les mots selon un caractère arbitraire\n",
    "\"pratique pour faire des sous-séquences\".split(\"-\")"
   ]
  },
  {
   "cell_type": "code",
   "execution_count": null,
   "id": "6ec003c5-e48d-4a15-ab04-d0697bfdf93f",
   "metadata": {},
   "outputs": [],
   "source": [
    "# Utiliser les strings comme templates\n",
    "\"mon adresse est : {}\".format(\"10 rue des Peupliers\")"
   ]
  },
  {
   "cell_type": "markdown",
   "id": "2f08eec7-0226-49fb-927e-b331b5a11493",
   "metadata": {},
   "source": [
    "Tout ceci n'est qu'un aperçu des innombrables opérations possibles sur les *strings*. La [documentation officielle](https://docs.python.org/3/library/stdtypes.html#string-methods) liste l'ensemble des méthodes *built-in* disponibles. Les exercices du chapitre et les mini-projets de fin de partie seront l'occasion de découvrir d'autres utilisations."
   ]
  },
  {
   "cell_type": "markdown",
   "id": "117e5336-1682-42ce-854e-ee8205087924",
   "metadata": {},
   "source": [
    "## Variables"
   ]
  },
  {
   "cell_type": "markdown",
   "id": "e324ac6b-2259-4867-bdbb-ec2b38f8903a",
   "metadata": {},
   "source": [
    "Jusqu'ici, nous avons dû définir à chaque fois notre objet avant de pouvoir lui appliquer une transformation. Comment faire si l'on veut réutiliser un objet et lui appliquer plusieurs transformations ? Ou faire des opérations à partir de différents objets ?\n",
    "\n",
    "Pour cela, on va assigner les objets à des variables."
   ]
  },
  {
   "cell_type": "markdown",
   "id": "6be2380c-8ec7-4745-8799-91287c7347f4",
   "metadata": {},
   "source": [
    "### Assignation et opérations"
   ]
  },
  {
   "cell_type": "markdown",
   "id": "7a6270ae-418d-4757-8f1c-3d1789ae52de",
   "metadata": {},
   "source": [
    "L'assignation se fait suivant le format : `nom_de_la_variable = objet`. Cela permet ensuite de réaliser des opérations à partir de ces variables."
   ]
  },
  {
   "cell_type": "code",
   "execution_count": null,
   "id": "734ed39d-65f2-42e4-9512-c5c919503ca3",
   "metadata": {},
   "outputs": [],
   "source": [
    "x = 5\n",
    "x"
   ]
  },
  {
   "cell_type": "code",
   "execution_count": null,
   "id": "097a098d-0f2b-4325-a3dd-86e305a2d0ec",
   "metadata": {},
   "outputs": [],
   "source": [
    "type(x)"
   ]
  },
  {
   "cell_type": "code",
   "execution_count": null,
   "id": "27c2fc46-9d79-468b-8de7-af4a06db0f0f",
   "metadata": {},
   "outputs": [],
   "source": [
    "x + 5"
   ]
  },
  {
   "cell_type": "code",
   "execution_count": null,
   "id": "bc0274ae-bf40-43cc-b63f-0fbaf0cd8f8c",
   "metadata": {},
   "outputs": [],
   "source": [
    "y = x + 2*x\n",
    "y"
   ]
  },
  {
   "cell_type": "markdown",
   "id": "0f993ac5-3375-404d-a691-005c163d68a9",
   "metadata": {},
   "source": [
    "Contrairement à d'autres langages de programmation, Python est dit *dynamiquement* typé : il est possible de réassigner une variable à un objet de type différent. Cela facilite la lecture et le développement, mais peut parfois générer des problèmes difficiles à débugger... Il faut donc toujours bien faire attention que le type de la variable est bien celui que l'on s'imagine manipuler."
   ]
  },
  {
   "cell_type": "code",
   "execution_count": null,
   "id": "3dcdd57f-5cc6-4242-b82d-600d931ed352",
   "metadata": {},
   "outputs": [],
   "source": [
    "x = 3\n",
    "x = \"blabla\"\n",
    "type(x)"
   ]
  },
  {
   "cell_type": "markdown",
   "id": "90791b21-36b3-447a-b53c-bf39f367dfa5",
   "metadata": {},
   "source": [
    "Il y a naturellement certaines contraintes sur les opérations selon les types des objets."
   ]
  },
  {
   "cell_type": "code",
   "execution_count": null,
   "id": "69c94ff3-248c-4542-8deb-45032c0d1477",
   "metadata": {},
   "outputs": [],
   "source": [
    "x = \"test\"\n",
    "y = 3\n",
    "x + y"
   ]
  },
  {
   "cell_type": "code",
   "execution_count": null,
   "id": "00197b66-5a09-4335-9042-35cf0a935caa",
   "metadata": {},
   "outputs": [],
   "source": [
    "# Il est par contre possible d'harmoniser les types\n",
    "x = \"test\"\n",
    "y = 3\n",
    "z = str(y)\n",
    "x + z"
   ]
  },
  {
   "cell_type": "markdown",
   "id": "00219743-4088-4de3-9e9a-8f4e55811808",
   "metadata": {},
   "source": [
    "### Incrémentation"
   ]
  },
  {
   "cell_type": "markdown",
   "id": "f5ec17e7-e901-43e4-a65d-01cf15259ef6",
   "metadata": {},
   "source": [
    "Il est fréquent d'utiliser une variable comme un compteur, en l'incrémentant à chaque fois qu'un évènement donné apparaît par exemple."
   ]
  },
  {
   "cell_type": "code",
   "execution_count": null,
   "id": "3bac9d7b-206c-44b2-aad5-09f00be9642e",
   "metadata": {},
   "outputs": [],
   "source": [
    "a = 0\n",
    "print(a)\n",
    "a = a +1\n",
    "print(a)"
   ]
  },
  {
   "cell_type": "markdown",
   "id": "c84ab18b-5489-4162-94cb-53b7e8d34884",
   "metadata": {},
   "source": [
    "Cette pratique est tellement fréquente qu'il existe des opérateurs spéciaux pour les opérations arithmétiques courantes."
   ]
  },
  {
   "cell_type": "code",
   "execution_count": null,
   "id": "bc095386-4a2a-4e5c-baf5-989583150a0d",
   "metadata": {},
   "outputs": [],
   "source": [
    "a = 0\n",
    "a += 1\n",
    "a"
   ]
  },
  {
   "cell_type": "code",
   "execution_count": null,
   "id": "b60f9dd6-892f-4ea7-a4c3-ade5597b9352",
   "metadata": {},
   "outputs": [],
   "source": [
    "b = 5\n",
    "b *= 3\n",
    "b"
   ]
  },
  {
   "cell_type": "markdown",
   "id": "6fc8b5bb-9f2c-4a6d-929a-d7c7f75418f8",
   "metadata": {},
   "source": [
    "## Exercices"
   ]
  },
  {
   "cell_type": "markdown",
   "id": "5d01453f-d0f1-4a6a-9861-4447b3f1cf58",
   "metadata": {
    "tags": []
   },
   "source": [
    "### Exercice 1\n",
    "\n",
    "Afficher le type de x lorsque : \n",
    "- x = 3\n",
    "- x = \"test\"\n",
    "- x = 3.5"
   ]
  },
  {
   "cell_type": "code",
   "execution_count": null,
   "id": "11af948b-9030-48f4-bdf4-94285dd3eba6",
   "metadata": {},
   "outputs": [],
   "source": [
    "# Tapez votre réponse dans cette cellule\n"
   ]
  },
  {
   "cell_type": "code",
   "execution_count": null,
   "id": "4a236b8f-0c13-418f-ae39-3148d1792449",
   "metadata": {},
   "outputs": [],
   "source": [
    "# Exécuter cette cellule pour afficher la solution\n",
    "%load -r 2-9 solutions/types-et-variables.py"
   ]
  },
  {
   "cell_type": "markdown",
   "id": "af539a8d-0aed-4d2f-9675-adbe1a87fe4e",
   "metadata": {},
   "source": [
    "### Exercice 2\n",
    "\n"
   ]
  },
  {
   "cell_type": "markdown",
   "id": "6cf00a47-1bd4-4f4f-aa4a-5c1fc9a1aac2",
   "metadata": {},
   "source": [
    "Calculer la somme des longueurs de chacune des chaînes de caractères suivantes : \n",
    "- \"une première chaîne\"\n",
    "- \"et une deuxième\"\n",
    "- \"jamais deux sans trois\""
   ]
  },
  {
   "cell_type": "code",
   "execution_count": null,
   "id": "007f8a77-1afd-4475-a2bc-9404df272323",
   "metadata": {},
   "outputs": [],
   "source": [
    "# Tapez votre réponse dans cette cellule\n"
   ]
  },
  {
   "cell_type": "code",
   "execution_count": null,
   "id": "d7df551d-ab06-4c7e-9787-c5976d79aa4f",
   "metadata": {},
   "outputs": [],
   "source": [
    "# Exécuter cette cellule pour afficher la solution\n",
    "%load -r 12-16 solutions/types-et-variables.py"
   ]
  },
  {
   "cell_type": "markdown",
   "id": "75e2176e-0254-4aa3-bab6-901fa69a57c2",
   "metadata": {},
   "source": [
    "### Exercice 3"
   ]
  },
  {
   "cell_type": "markdown",
   "id": "204c4c7e-d74e-4970-a9cc-068f72c8dee4",
   "metadata": {},
   "source": [
    "Quel est le type adapté pour définir un code postal ?\n",
    "\n",
    "Essayer de définir les codes postaux suivants au format `int` et au format `string` :\n",
    "- 92120\n",
    "- 02350\n",
    "\n",
    "Que concluez-vous ?"
   ]
  },
  {
   "cell_type": "code",
   "execution_count": null,
   "id": "b9010e18-f36b-4cb8-8f16-83e988ac7783",
   "metadata": {},
   "outputs": [],
   "source": [
    "# Tapez votre réponse dans cette cellule\n"
   ]
  },
  {
   "cell_type": "code",
   "execution_count": null,
   "id": "194f3796-b22b-4604-a4ee-57c592217391",
   "metadata": {},
   "outputs": [],
   "source": [
    "# Exécuter cette cellule pour afficher la solution\n",
    "%load -r 19-26 solutions/types-et-variables.py"
   ]
  },
  {
   "cell_type": "markdown",
   "id": "396be3f6-b28f-4bad-a164-ccec93448595",
   "metadata": {},
   "source": [
    "### Exercice 4"
   ]
  },
  {
   "cell_type": "markdown",
   "id": "ebef8f95-0d2d-457c-b827-635b825b14b0",
   "metadata": {},
   "source": [
    "Compter le nombre de fois où la lettre e est présente dans la chaîne suivante :\n",
    "\"Je fais un comptage des e.\"\n",
    "\n",
    "**Indice** : on peut utiliser la méthode *built-in* [find](https://docs.python.org/fr/3/library/stdtypes.html#str.find)."
   ]
  },
  {
   "cell_type": "code",
   "execution_count": null,
   "id": "7538bda1-1bcc-4ee7-b8a4-2979f4d850ba",
   "metadata": {},
   "outputs": [],
   "source": [
    "# Tapez votre réponse dans cette cellule\n"
   ]
  },
  {
   "cell_type": "code",
   "execution_count": null,
   "id": "91146dbd-2e98-4d13-877a-d07c349a2e0d",
   "metadata": {},
   "outputs": [],
   "source": [
    "# Exécuter cette cellule pour afficher la solution\n",
    "%load -r 29-30 solutions/types-et-variables.py"
   ]
  },
  {
   "cell_type": "markdown",
   "id": "a7ae9a6e-aa7c-40fe-9950-b424f4382953",
   "metadata": {
    "tags": []
   },
   "source": [
    "### Exercice 5"
   ]
  },
  {
   "cell_type": "markdown",
   "id": "2a239eb4-3fcd-486f-94ad-2d286eadf95d",
   "metadata": {},
   "source": [
    "Repérer la première position où la lettre e est présente dans la chaîne suivante : \"Je fais un comptage des e.\"\n",
    "\n",
    "**Indice** : on peut utiliser la méthode *built-in* [index](https://docs.python.org/fr/3/library/stdtypes.html#str.index)."
   ]
  },
  {
   "cell_type": "code",
   "execution_count": null,
   "id": "83f951f6-e875-4439-9c1a-ad8419897a0a",
   "metadata": {},
   "outputs": [],
   "source": [
    "# Tapez votre réponse dans cette cellule\n"
   ]
  },
  {
   "cell_type": "code",
   "execution_count": null,
   "id": "7b0729f5-5a60-4e57-9477-2ab453666066",
   "metadata": {},
   "outputs": [],
   "source": [
    "# Exécuter cette cellule pour afficher la solution\n",
    "%load -r 33-34 solutions/types-et-variables.py"
   ]
  },
  {
   "cell_type": "markdown",
   "id": "a6bcf9cc-cce7-46a0-830b-2cb589ffcfd8",
   "metadata": {},
   "source": [
    "### Exercice 6"
   ]
  },
  {
   "cell_type": "markdown",
   "id": "66227ac1-620d-40c2-ae5d-cdbe8d9b2232",
   "metadata": {},
   "source": [
    "Supprimer les espaces superflus au début et à la fin de la chaîne suivante :"
   ]
  },
  {
   "cell_type": "code",
   "execution_count": null,
   "id": "f28581ed-ed4c-4fdd-8a80-22a12a36a2c6",
   "metadata": {},
   "outputs": [],
   "source": [
    "# Tapez votre réponse dans cette cellule\n",
    "a = \"    Un string très mal formatté.         \""
   ]
  },
  {
   "cell_type": "code",
   "execution_count": null,
   "id": "21cf79ac-7e3b-479e-9805-121bcdc5f129",
   "metadata": {},
   "outputs": [],
   "source": [
    "# Exécuter cette cellule pour afficher la solution\n",
    "%load -r 37-38 solutions/types-et-variables.py"
   ]
  },
  {
   "cell_type": "markdown",
   "id": "6327c8c2-5309-4cfd-8ef5-fde494385c30",
   "metadata": {},
   "source": [
    "### Exercice 7"
   ]
  },
  {
   "cell_type": "markdown",
   "id": "e46b5ce8-5f76-4f7c-9e35-ef49135999a3",
   "metadata": {},
   "source": [
    "Le caractère `\\` permet d'échapper (neutraliser) un caractère spécial au sein d'une chaîne de caractères. Trouvez comment ce caractère permet de résoudre le problème lié à l'utilisation de guillemets (ou d'apostrophes) dans une chaîne définie par des guillemets (apostrophe).\n",
    "\n",
    "**Indice** : des exemples d'utilisation sont disponibles dans la [documentation officielle](https://docs.python.org/fr/3.8/reference/lexical_analysis.html#literals)."
   ]
  },
  {
   "cell_type": "code",
   "execution_count": null,
   "id": "162adbe2-a51b-4c65-a865-a9b35bf8ae71",
   "metadata": {},
   "outputs": [],
   "source": [
    "# Tapez votre réponse dans cette cellule\n"
   ]
  },
  {
   "cell_type": "code",
   "execution_count": null,
   "id": "40216926-ccfb-472e-a3e0-41be82f5e54b",
   "metadata": {
    "tags": []
   },
   "outputs": [],
   "source": [
    "# Exécuter cette cellule pour afficher la solution\n",
    "%load -r 41 solutions/types-et-variables.py"
   ]
  },
  {
   "cell_type": "markdown",
   "id": "1a12bb39-9ae3-4594-b76e-47b7da62e7da",
   "metadata": {
    "tags": []
   },
   "source": [
    "### Exercice 8"
   ]
  },
  {
   "cell_type": "markdown",
   "id": "c70a6914-e526-420b-b029-c8dbc6c929fa",
   "metadata": {},
   "source": [
    "Réaliser la suite d'opérations suivantes à l'aide des opérateurs d'incrémentation, et imprimer la valeur finale :\n",
    "- initialiser une variable à 1\n",
    "- lui soustraire 5\n",
    "- la multiplier par 4\n",
    "- lui ajouter 22"
   ]
  },
  {
   "cell_type": "code",
   "execution_count": null,
   "id": "a986cb4f-785d-44bf-818f-3b01db6f6689",
   "metadata": {},
   "outputs": [],
   "source": [
    "# Tapez votre réponse dans cette cellule\n"
   ]
  },
  {
   "cell_type": "code",
   "execution_count": null,
   "id": "72fbc800-da17-4ed8-a4ff-fbf28129cd40",
   "metadata": {},
   "outputs": [],
   "source": [
    "# Exécuter cette cellule pour afficher la solution\n",
    "%load -r 44-48 solutions/types-et-variables.py"
   ]
  },
  {
   "cell_type": "markdown",
   "id": "4dd9b994-7855-4cb1-b72a-03861d80ce98",
   "metadata": {},
   "source": [
    "### Exercice 9"
   ]
  },
  {
   "cell_type": "markdown",
   "id": "9cb2b1e1-2780-45ba-aa1b-f95a77e450c3",
   "metadata": {},
   "source": [
    "Considérons les deux séquences suivantes :\n",
    "- \"nous sommes en\"\n",
    "- \"2022\"\n",
    "\n",
    "Trouvez à partir du tutoriel deux manières différentes de les utiliser pour composer la séquence \"nous sommes en 2022\".\n",
    "\n",
    "**Indice** : l'une des deux méthodes implique de modifier (légèrement) une des deux séquences."
   ]
  },
  {
   "cell_type": "code",
   "execution_count": null,
   "id": "554bbd62-f870-4006-aa1b-bde847eb488a",
   "metadata": {},
   "outputs": [],
   "source": [
    "# Exécuter cette cellule pour afficher la solution\n",
    "%load -r 51-56 solutions/types-et-variables.py"
   ]
  },
  {
   "cell_type": "code",
   "execution_count": null,
   "id": "9a949c77-5f65-4a93-aeee-1a36c060f965",
   "metadata": {},
   "outputs": [],
   "source": []
  }
 ],
 "metadata": {
  "kernelspec": {
   "display_name": "Python 3 (ipykernel)",
   "language": "python",
   "name": "python3"
  },
  "language_info": {
   "codemirror_mode": {
    "name": "ipython",
    "version": 3
   },
   "file_extension": ".py",
   "mimetype": "text/x-python",
   "name": "python",
   "nbconvert_exporter": "python",
   "pygments_lexer": "ipython3",
   "version": "3.9.7"
  }
 },
 "nbformat": 4,
 "nbformat_minor": 5
}
