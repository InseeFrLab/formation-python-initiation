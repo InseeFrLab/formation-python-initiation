{
 "cells": [
  {
   "cell_type": "markdown",
   "id": "43316415-07ee-4c6d-aac5-7bf8dac88388",
   "metadata": {},
   "source": [
    "# Projet final - Puissance 4"
   ]
  },
  {
   "cell_type": "markdown",
   "id": "be7a953c-459d-425d-a851-94b4c8301348",
   "metadata": {},
   "source": [
    "Dans ce projet nous allons implémenter un puissance 4 avec une interface graphique assez sommaire. Pour y arriver, nous allons utiliser les objets fondamentaux de Python."
   ]
  },
  {
   "cell_type": "markdown",
   "id": "dc959c4f-688e-457d-9534-bdd569104b8b",
   "metadata": {},
   "source": [
    "## Règles du jeu"
   ]
  },
  {
   "cell_type": "markdown",
   "id": "d0d1f03a-f329-4712-9467-560b57573338",
   "metadata": {},
   "source": [
    "Le but du jeu de Puissance 4 est d'aligner une suite de 4 pions de même couleur sur une grille comptant 6 rangées et 7 colonnes. Chaque joueur dispose de 21 pions d'une couleur (par convention, en général jaune ou rouge). Tour à tour, les deux joueurs placent un pion dans la colonne de leur choix, le pion coulisse alors jusqu'à la position la plus basse possible dans la dite colonne à la suite de quoi c'est à l'adversaire de jouer. Le vainqueur est le joueur qui réalise le premier un alignement (horizontal, vertical ou diagonal) consécutif d'au moins quatre pions de sa couleur. Si, alors que toutes les cases de la grille de jeu sont remplies, aucun des deux joueurs n'a réalisé un tel alignement, la partie est déclarée nulle.\n",
    "\n",
    "Afin de simplifier le code de ce projet, on partira du principe que les alignements victorieux ne peuvent être qu'horizontaux ou verticaux. Les diagonales ne seront donc pas considérées (mais constituent un exercice intéressant pour aller plus loin !)."
   ]
  },
  {
   "cell_type": "markdown",
   "id": "0989c09b-a14a-400c-9424-864fd93c8007",
   "metadata": {},
   "source": [
    "## Plan du projet"
   ]
  },
  {
   "cell_type": "markdown",
   "id": "d3cdea1a-19c8-47f8-af41-f06a5ea0bad3",
   "metadata": {},
   "source": [
    "Nous allons décomposer la construction du jeu en différentes parties :\n",
    "- initialisation de la grille\n",
    "- représentation de la grille\n",
    "- fonction de jeu\n",
    "- détection d'une victoire (horizontale)\n",
    "- détection d'une victoire (verticale)"
   ]
  },
  {
   "cell_type": "code",
   "execution_count": 1,
   "id": "8efffdd1-3a42-4494-b915-d40879855ee5",
   "metadata": {},
   "outputs": [],
   "source": [
    "import copy\n",
    "\n",
    "import solutions"
   ]
  },
  {
   "cell_type": "markdown",
   "id": "d97873cb-4a26-4c2a-96c5-1a2428b39fd2",
   "metadata": {},
   "source": [
    "## Initialisation de la grille"
   ]
  },
  {
   "cell_type": "markdown",
   "id": "c3831119-45ac-411f-b6e7-6147afc6f577",
   "metadata": {},
   "source": [
    "L'objectif de cette partie est d'intialiser un objet Python qui représente une grille de puissance 4. Le choix que nous allons faire est de **représenter la grille comme une liste de listes**. Il s'agira d'une matrice 6x7 : on aura par conséquent une **liste de 6 élements** (qui représenteront les lignes de la grille), dont chacun des éléments sera une **liste contenant 7 éléments** (qui représenterons les pions). \n",
    "\n",
    "Chaque élément de la grille sera représenté par un *string*, qui pourra prendre trois valeurs :\n",
    "- ' ' : s'il s'agit d'une case vide\n",
    "- 'R' : s'il s'agit d'un pion rouge. \n",
    "- 'J' : s'il s'agit d'un pion jaune. \n",
    "\n",
    "Dans la fonction d'initialisation de la grille, chaque élément sera donc initialisé comme un ***string* contenant un espace**."
   ]
  },
  {
   "cell_type": "markdown",
   "id": "b6db8249-a3ea-4156-9186-f873593c00c7",
   "metadata": {},
   "source": [
    "### Résultat attendu"
   ]
  },
  {
   "cell_type": "code",
   "execution_count": 2,
   "id": "36687ae5-38c0-4cf5-89f2-b64f8e089807",
   "metadata": {},
   "outputs": [
    {
     "data": {
      "text/plain": [
       "[[' ', ' ', ' ', ' ', ' ', ' ', ' '],\n",
       " [' ', ' ', ' ', ' ', ' ', ' ', ' '],\n",
       " [' ', ' ', ' ', ' ', ' ', ' ', ' '],\n",
       " [' ', ' ', ' ', ' ', ' ', ' ', ' '],\n",
       " [' ', ' ', ' ', ' ', ' ', ' ', ' '],\n",
       " [' ', ' ', ' ', ' ', ' ', ' ', ' ']]"
      ]
     },
     "execution_count": 2,
     "metadata": {},
     "output_type": "execute_result"
    }
   ],
   "source": [
    "grille = solutions.initialise_grille()\n",
    "grille"
   ]
  },
  {
   "cell_type": "code",
   "execution_count": 3,
   "id": "0696ee97-83bc-4e9c-900c-9990bfa63cd2",
   "metadata": {
    "tags": []
   },
   "outputs": [
    {
     "name": "stdout",
     "output_type": "stream",
     "text": [
      "Nombre de lignes : 6\n",
      "Nombre de colonnes : 7\n"
     ]
    }
   ],
   "source": [
    "print(f'Nombre de lignes : {len(grille)}')\n",
    "print(f'Nombre de colonnes : {len(grille[0])}')"
   ]
  },
  {
   "cell_type": "markdown",
   "id": "764efde1-49ea-41be-b5c4-dddf1f2a4b49",
   "metadata": {},
   "source": [
    "### A vous de jouer !"
   ]
  },
  {
   "cell_type": "code",
   "execution_count": 33,
   "id": "d0cba51b-1d69-4e0a-aa61-22e9509ead18",
   "metadata": {},
   "outputs": [],
   "source": [
    "def initialise_grille():\n",
    "    # Votre code ici\n",
    "    return grille"
   ]
  },
  {
   "cell_type": "code",
   "execution_count": 48,
   "id": "45093871-8e59-410c-8ac3-8c6fd607584c",
   "metadata": {},
   "outputs": [
    {
     "data": {
      "text/plain": [
       "[[' ', ' ', ' ', ' ', ' ', ' ', ' '],\n",
       " [' ', ' ', ' ', ' ', ' ', ' ', ' '],\n",
       " [' ', ' ', ' ', ' ', ' ', ' ', ' '],\n",
       " [' ', ' ', ' ', ' ', ' ', ' ', ' '],\n",
       " [' ', ' ', ' ', ' ', ' ', ' ', ' '],\n",
       " [' ', 'R', ' ', ' ', ' ', ' ', ' ']]"
      ]
     },
     "execution_count": 48,
     "metadata": {},
     "output_type": "execute_result"
    }
   ],
   "source": [
    "# Vérification du résultat\n",
    "grille = initialise_grille()\n",
    "grille"
   ]
  },
  {
   "cell_type": "code",
   "execution_count": null,
   "id": "e481d5c0-3745-4796-bcd8-7e9ee913becf",
   "metadata": {},
   "outputs": [],
   "source": [
    "# Vérification du résultat\n",
    "print(f'Nombre de lignes : {len(grille)}')\n",
    "print(f'Nombre de colonnes : {len(grille[0])}')"
   ]
  },
  {
   "cell_type": "markdown",
   "id": "6932f414-8be8-4e43-a169-aabce38a662d",
   "metadata": {},
   "source": [
    "## Représentation de la grille"
   ]
  },
  {
   "cell_type": "markdown",
   "id": "c742d180-400c-49f8-8ec9-79e1ca743778",
   "metadata": {},
   "source": [
    "Notre grille est initialisée, mais son affichage est assez sommaire. L'idée de cette partie est d'offrir une représentation plus visuelle du jeu pendant une partie.\n",
    "\n",
    "Pour cela, nous allons créer **une fonction qui prend en entrée la grille précédemment initialisée et renvoie sa représentation** (via la fonction `print`). Les colonnes seront séparées par le caractère | (barre verticale).\n",
    "\n",
    "**Indice** : une solution possible fait intervenir deux notions que nous avons vues dans les TP précédents : la concaténation de *strings* et la fonction `join` qui \"joint\" les éléments d'une liste en les séparant par un certain caractère. Pour rappel, voici un exemple qui utilise ces deux concepts : "
   ]
  },
  {
   "cell_type": "code",
   "execution_count": 34,
   "id": "07565571-27cf-40cb-9910-b53258512213",
   "metadata": {},
   "outputs": [
    {
     "name": "stdout",
     "output_type": "stream",
     "text": [
      "DEBUT a, b, c, d, e FIN\n"
     ]
    }
   ],
   "source": [
    "l = [\"a\", \"b\", \"c\", \"d\", \"e\"]\n",
    "l_join = \"DEBUT \" + \", \".join(l) + \" FIN\"\n",
    "print(l_join)"
   ]
  },
  {
   "cell_type": "markdown",
   "id": "eb2324e2-3436-48c3-8407-995c72a546b6",
   "metadata": {},
   "source": [
    "### Résultat attendu"
   ]
  },
  {
   "cell_type": "code",
   "execution_count": 4,
   "id": "6820a206-c876-493c-a847-04a7b2b76886",
   "metadata": {},
   "outputs": [
    {
     "name": "stdout",
     "output_type": "stream",
     "text": [
      "|   |   |   |   |   |   |   |\n",
      "|   |   |   |   |   |   |   |\n",
      "|   |   |   |   |   |   |   |\n",
      "|   |   |   |   |   |   |   |\n",
      "|   |   |   |   |   |   |   |\n",
      "|   |   |   |   |   |   |   |\n"
     ]
    }
   ],
   "source": [
    "solutions.affiche_grille(grille)"
   ]
  },
  {
   "cell_type": "markdown",
   "id": "de2c900c-aaf8-41bc-9d7e-62214bf49f7d",
   "metadata": {},
   "source": [
    "### A vous de jouer !"
   ]
  },
  {
   "cell_type": "code",
   "execution_count": null,
   "id": "6e3980e6-7683-4fff-bd34-7e91243e812b",
   "metadata": {},
   "outputs": [],
   "source": [
    "def affiche_grille():\n",
    "    # Votre code ici"
   ]
  },
  {
   "cell_type": "code",
   "execution_count": null,
   "id": "9847b8fa-548d-403b-959b-800e61c9da7f",
   "metadata": {},
   "outputs": [],
   "source": [
    "# Vérification du résultat\n",
    "affiche_grille(grille)"
   ]
  },
  {
   "cell_type": "markdown",
   "id": "e5897b65-4472-4844-a857-7aebe2edb301",
   "metadata": {},
   "source": [
    "## Fonction de jeu"
   ]
  },
  {
   "cell_type": "markdown",
   "id": "5062a581-4b47-4c07-8c82-3c6046ff5918",
   "metadata": {},
   "source": [
    "Maintenant que nous pouvons représenter notre grille, intéressons-nous au coeur du puissance 4 : le jeu. L'objectif de cette partie est de **coder une fonction `tour` qui va modifier la grille lorsqu'un joueur joue son tour**.\n",
    "\n",
    "Cette fonction prend en entrée :\n",
    "- la grille\n",
    "- la colonne choisie par le joueur\n",
    "- la couleur du pion ('R' pour le pion rouge, et 'J' pour le pion jaune)\n",
    "\n",
    "et renvoie en sortie la grille actualisée suite au tour du joueur.\n",
    "\n",
    "**Attention** : en Python, la numérotation commence à 0. La première colonne correspond donc à la colonne 0 du point de vue de l'indexation"
   ]
  },
  {
   "cell_type": "markdown",
   "id": "c2dc0b82-6a61-4612-8233-d94e744b9c45",
   "metadata": {},
   "source": [
    "### Résultat attendu"
   ]
  },
  {
   "cell_type": "code",
   "execution_count": 6,
   "id": "4ed98db2-db97-4878-9acd-818d1a67a656",
   "metadata": {},
   "outputs": [
    {
     "name": "stdout",
     "output_type": "stream",
     "text": [
      "|   |   |   |   |   |   |   |\n",
      "|   |   |   |   |   |   |   |\n",
      "|   |   |   |   |   |   |   |\n",
      "|   |   |   |   |   |   |   |\n",
      "|   |   | J |   |   |   |   |\n",
      "|   |   | R |   |   | J |   |\n"
     ]
    }
   ],
   "source": [
    "grille = solutions.initialise_grille()  # Intialisation\n",
    "grille = solutions.tour(grille=grille, colonne_a_jouer=2, couleur_pion=\"R\")  # 1er tour de jeu\n",
    "grille = solutions.tour(grille=grille, colonne_a_jouer=5, couleur_pion=\"J\")  # 2ème tour de jeu\n",
    "grille = solutions.tour(grille=grille, colonne_a_jouer=2, couleur_pion=\"J\")  # 3ème tour de jeu\n",
    "solutions.affiche_grille(grille)"
   ]
  },
  {
   "cell_type": "markdown",
   "id": "44f45f39-9fad-4ef9-a797-3a8882afac1a",
   "metadata": {},
   "source": [
    "### A vous de jouer !"
   ]
  },
  {
   "cell_type": "code",
   "execution_count": null,
   "id": "91ee1050-7d19-44a8-8405-fa0035230b64",
   "metadata": {},
   "outputs": [],
   "source": [
    "def tour(grille, colonne_a_jouer, couleur_pion):\n",
    "    grille = copy.deepcopy(grille)  # Evite la modification de la grille initiale\n",
    "    # Votre code ici\n",
    "    return grille"
   ]
  },
  {
   "cell_type": "code",
   "execution_count": null,
   "id": "5ed44b0d-facc-4d91-ab9e-6bd21a95a813",
   "metadata": {},
   "outputs": [],
   "source": [
    "# Vérification du résultat\n",
    "grille = initialise_grille()  # Intialisation\n",
    "grille = tour(grille=grille, colonne_a_jouer=2, couleur_pion=\"R\")  # 1er tour de jeu\n",
    "grille = tour(grille=grille, colonne_a_jouer=5, couleur_pion=\"J\")  # 2ème tour de jeu\n",
    "grille = tour(grille=grille, colonne_a_jouer=2, couleur_pion=\"J\")  # 3ème tour de jeu\n",
    "affiche_grille(grille)"
   ]
  },
  {
   "cell_type": "markdown",
   "id": "b4a23989-4bb5-4d7c-a020-ab91de9e1d43",
   "metadata": {},
   "source": [
    "## Détection d'une victoire (horizontale)"
   ]
  },
  {
   "cell_type": "markdown",
   "id": "f0806639-c099-4f2f-a676-0aba083ab833",
   "metadata": {},
   "source": [
    "Maintenant qu'il est possible de jouer effectivement à notre puissance 4, il faut pouvoir détecter une victoire pour mettre fin à la partie en cours. Pour se faire, on va simplifier le problème en le décomposant au maximum.\n",
    "\n",
    "Dans un premier temps, on s'intéresse à la détection d'une victoire horizontale. Pour cela, on va s'aider de deux fonctions :\n",
    "- une fonction `victoire_ligne` qui prend en entrée une ligne du puissance 4 (i.e. une liste de taille 7) et retourne `True` si jamais 4 pions consécutifs de même couleur se trouvent sur la ligne, et `False` sinon\n",
    "- une fonction `victoire_horizontale_grille` qui prend en entrée une grille complète et retourne `True` si jamais une ligne de la grille remplit la condition précédente, et `False` sinon"
   ]
  },
  {
   "cell_type": "markdown",
   "id": "82e18246-eb76-45e1-b80d-da642959f958",
   "metadata": {},
   "source": [
    "### Résultat attendu"
   ]
  },
  {
   "cell_type": "code",
   "execution_count": 2,
   "id": "c10fc375-0275-4107-89b0-11d3530c4a05",
   "metadata": {},
   "outputs": [
    {
     "name": "stdout",
     "output_type": "stream",
     "text": [
      "False\n",
      "\n",
      "Les pions rouges ont gagnés, félicitations !\n",
      "True\n"
     ]
    }
   ],
   "source": [
    "# Détection d'une victoire (horizontale) sur une ligne\n",
    "ligne1 = [\" \", \"R\", \"R\", \"R\", \"J\", \"J\", \" \"]\n",
    "ligne2 = [\" \", \"R\", \"R\", \"R\", \"R\", \"J\", \" \"]\n",
    "\n",
    "print(solutions.victoire_ligne(ligne1))  # Renvoie False\n",
    "print()  # Retour à la ligne\n",
    "print(solutions.victoire_ligne(ligne2))  # Renvoie True"
   ]
  },
  {
   "cell_type": "code",
   "execution_count": 3,
   "id": "74d8d16b-f08e-4dfc-9d1d-40629d555cd1",
   "metadata": {},
   "outputs": [
    {
     "name": "stdout",
     "output_type": "stream",
     "text": [
      "False\n",
      "\n",
      "|   |   |   |   |   |   |   |\n",
      "|   |   |   |   |   |   |   |\n",
      "|   |   |   |   |   |   |   |\n",
      "|   |   |   |   |   |   |   |\n",
      "|   |   |   |   |   |   |   |\n",
      "|   |   | R | R | R | R |   |\n",
      "\n",
      "Les pions rouges ont gagnés, félicitations !\n",
      "True\n"
     ]
    }
   ],
   "source": [
    "# Détection d'une victoire (horizontale) sur une grille\n",
    "grille = solutions.initialise_grille()  # Intialisation\n",
    "print(solutions.victoire_horizontale_grille(grille))  # Renvoie False\n",
    "print()  # Retour à la ligne\n",
    "\n",
    "grille = solutions.tour(grille=grille, colonne_a_jouer=2, couleur_pion=\"R\")\n",
    "grille = solutions.tour(grille=grille, colonne_a_jouer=3, couleur_pion=\"R\")\n",
    "grille = solutions.tour(grille=grille, colonne_a_jouer=4, couleur_pion=\"R\")\n",
    "grille = solutions.tour(grille=grille, colonne_a_jouer=5, couleur_pion=\"R\")\n",
    "solutions.affiche_grille(grille)\n",
    "print()  # Retour à la ligne\n",
    "\n",
    "print(solutions.victoire_horizontale_grille(grille))  # Renvoie True"
   ]
  },
  {
   "cell_type": "markdown",
   "id": "5171e34b-6297-48b7-8aa2-cdbdd06ac0b9",
   "metadata": {},
   "source": [
    "### A vous de jouer !"
   ]
  },
  {
   "cell_type": "code",
   "execution_count": null,
   "id": "b471f345-c0fc-4b12-bcb2-9ecdf328f13a",
   "metadata": {},
   "outputs": [],
   "source": [
    "def victoire_ligne(ligne):\n",
    "    # Votre code ici"
   ]
  },
  {
   "cell_type": "code",
   "execution_count": null,
   "id": "30add95d-9c5e-4da5-aa3b-f63b3f8a2bff",
   "metadata": {},
   "outputs": [],
   "source": [
    "# Vérification du résultat\n",
    "ligne1 = [\" \", \"R\", \"R\", \"R\", \"J\", \"R\", \" \"]\n",
    "ligne2 = [\" \", \"R\", \"R\", \"R\", \"R\", \"J\", \" \"]\n",
    "\n",
    "print(victoire_ligne(ligne1))  # Renvoie False\n",
    "print(victoire_ligne(ligne2))  # Renvoie True"
   ]
  },
  {
   "cell_type": "code",
   "execution_count": null,
   "id": "9dc12939-de7b-420c-9757-15fa0ddeeda6",
   "metadata": {},
   "outputs": [],
   "source": [
    "def victoire_horizontale_grille(grille):\n",
    "    # Votre code ici"
   ]
  },
  {
   "cell_type": "code",
   "execution_count": null,
   "id": "325c2006-88e8-4942-be0d-467b04c2d273",
   "metadata": {},
   "outputs": [],
   "source": [
    "# Vérification du résultat\n",
    "grille = initialise_grille()  # Intialisation\n",
    "print(victoire_horizontale_grille(grille))  # Renvoie False\n",
    "\n",
    "grille = tour(grille=grille, colonne_a_jouer=2, couleur_pion=\"R\")\n",
    "grille = tour(grille=grille, colonne_a_jouer=3, couleur_pion=\"R\")\n",
    "grille = tour(grille=grille, colonne_a_jouer=4, couleur_pion=\"R\")\n",
    "grille = tour(grille=grille, colonne_a_jouer=5, couleur_pion=\"R\")\n",
    "affiche_grille(grille)\n",
    "print(victoire_horizontale_grille(grille))  # Renvoie True"
   ]
  },
  {
   "cell_type": "markdown",
   "id": "e32ddc96-6b47-44ad-a96f-c6ff56eeb7b7",
   "metadata": {},
   "source": [
    "## Détection d'une victoire (verticale)"
   ]
  },
  {
   "cell_type": "markdown",
   "id": "febf1209-4570-4254-9b09-5e98b46a67b2",
   "metadata": {},
   "source": [
    "A présent, on s'intéresse à la détection d'une victoire verticale. Par rapport à la situation précédente, la difficulté est que l'on ne peut pas directement boucler sur les colonnes. On va donc construire une fonction `victoire_verticale_grille` qui, pour chaque colonne :\n",
    "- récupère les éléments de la colonne dans une liste\n",
    "- applique à cette liste la fonction `victoire_ligne` pour vérifier la présence de 4 pions consécutifs de même couleur dans la colonne considérée"
   ]
  },
  {
   "cell_type": "markdown",
   "id": "c13b1d68-0e38-42b5-88e3-e4f0296776c0",
   "metadata": {},
   "source": [
    "### Résultat attendu"
   ]
  },
  {
   "cell_type": "code",
   "execution_count": 4,
   "id": "fc92f96e-de11-4cde-97f3-5233da537026",
   "metadata": {},
   "outputs": [
    {
     "name": "stdout",
     "output_type": "stream",
     "text": [
      "False\n",
      "\n",
      "|   |   |   |   |   |   |   |\n",
      "|   |   |   |   |   |   |   |\n",
      "|   |   | J |   |   |   |   |\n",
      "|   |   | J |   |   |   |   |\n",
      "|   |   | J |   |   |   |   |\n",
      "|   |   | J |   |   |   |   |\n",
      "\n",
      "Les pions jaunes ont gagnés, félicitations !\n",
      "True\n"
     ]
    }
   ],
   "source": [
    "# Détection d'une victoire (verticale) sur une grille\n",
    "grille = solutions.initialise_grille()  # Intialisation\n",
    "print(solutions.victoire_verticale_grille(grille))  # Renvoie False\n",
    "print()  # Retour à la ligne\n",
    "\n",
    "grille = solutions.tour(grille=grille, colonne_a_jouer=2, couleur_pion=\"J\")\n",
    "grille = solutions.tour(grille=grille, colonne_a_jouer=2, couleur_pion=\"J\")\n",
    "grille = solutions.tour(grille=grille, colonne_a_jouer=2, couleur_pion=\"J\")\n",
    "grille = solutions.tour(grille=grille, colonne_a_jouer=2, couleur_pion=\"J\")\n",
    "solutions.affiche_grille(grille)\n",
    "print()  # Retour à la ligne\n",
    "\n",
    "print(solutions.victoire_verticale_grille(grille))  # Renvoie True"
   ]
  },
  {
   "cell_type": "markdown",
   "id": "13ee4394-8f4c-4f0f-80f9-4a48b22b5f60",
   "metadata": {},
   "source": [
    "### A vous de jouer !"
   ]
  },
  {
   "cell_type": "code",
   "execution_count": null,
   "id": "aeb9ed4b-7ae1-42a7-a0c4-a6876191f8f3",
   "metadata": {},
   "outputs": [],
   "source": [
    "def victoire_verticale_grille(grille):\n",
    "    # Votre code ici"
   ]
  },
  {
   "cell_type": "code",
   "execution_count": null,
   "id": "38fcb575-eb83-4772-98da-a314fecbbc74",
   "metadata": {},
   "outputs": [],
   "source": [
    "# Vérification du résultat\n",
    "grille = initialise_grille()  # Intialisation\n",
    "print(victoire_verticale_grille(grille))  # Renvoie False\n",
    "print()  # Retour à la ligne\n",
    "\n",
    "grille = tour(grille=grille, colonne_a_jouer=2, couleur_pion=\"J\")\n",
    "grille = tour(grille=grille, colonne_a_jouer=2, couleur_pion=\"J\")\n",
    "grille = tour(grille=grille, colonne_a_jouer=2, couleur_pion=\"J\")\n",
    "grille = tour(grille=grille, colonne_a_jouer=2, couleur_pion=\"J\")\n",
    "affiche_grille(grille)\n",
    "print()  # Retour à la ligne\n",
    "\n",
    "print(victoire_verticale_grille(grille))  # Renvoie True"
   ]
  },
  {
   "cell_type": "code",
   "execution_count": null,
   "id": "a02415b6-9788-480f-98b8-58ac1afaf036",
   "metadata": {},
   "outputs": [],
   "source": []
  }
 ],
 "metadata": {
  "kernelspec": {
   "display_name": "Python 3 (ipykernel)",
   "language": "python",
   "name": "python3"
  },
  "language_info": {
   "codemirror_mode": {
    "name": "ipython",
    "version": 3
   },
   "file_extension": ".py",
   "mimetype": "text/x-python",
   "name": "python",
   "nbconvert_exporter": "python",
   "pygments_lexer": "ipython3",
   "version": "3.10.4"
  }
 },
 "nbformat": 4,
 "nbformat_minor": 5
}
