{
 "cells": [
  {
   "cell_type": "markdown",
   "id": "43316415-07ee-4c6d-aac5-7bf8dac88388",
   "metadata": {},
   "source": [
    "# Projet final - Puissance 4"
   ]
  },
  {
   "cell_type": "markdown",
   "id": "469c95d7-c86f-468b-bbb8-435af29dfeed",
   "metadata": {
    "tags": []
   },
   "source": [
    "## Dans ce projet nous allons implémenter un puissance 4 avec une interface graphique assez sommaire. Pour y arriver nous allons utiliser tout ce que nous avons appris précédemment"
   ]
  },
  {
   "cell_type": "markdown",
   "id": "be7a953c-459d-425d-a851-94b4c8301348",
   "metadata": {},
   "source": [
    "Le but du jeu de Puissance 4 est d'aligner une suite de 4 pions de même couleur sur une grille comptant 6 rangées et 7 colonnes. Chaque joueur dispose de 21 pions d'une couleur (par convention, en général jaune ou rouge). Tour à tour, les deux joueurs placent un pion dans la colonne de leur choix, le pion coulisse alors jusqu'à la position la plus basse possible dans la dite colonne à la suite de quoi c'est à l'adversaire de jouer. Le vainqueur est le joueur qui réalise le premier un alignement (horizontal, vertical ou diagonal) consécutif d'au moins quatre pions de sa couleur. Si, alors que toutes les cases de la grille de jeu sont remplies, aucun des deux joueurs n'a réalisé un tel alignement, la partie est déclarée nulle. "
   ]
  },
  {
   "cell_type": "markdown",
   "id": "b15c8261-74bc-4992-b6bc-e3f35e1271f9",
   "metadata": {
    "tags": []
   },
   "source": [
    "### Importation des différents modules"
   ]
  },
  {
   "cell_type": "code",
   "execution_count": 3,
   "id": "ab4321c4-20fd-498c-b754-91e300dce745",
   "metadata": {},
   "outputs": [],
   "source": [
    "import numpy as np\n",
    "import sys"
   ]
  },
  {
   "cell_type": "markdown",
   "id": "465cc3b1-2c47-4458-bb27-1e2887877618",
   "metadata": {
    "tags": []
   },
   "source": [
    "### Plusieurs choses avant de commencer à coder :\n",
    "\n",
    "    Comment représenter la grille du puissance 4 ? \n",
    "    Comment choisir la représentation des espaces de la grille concernant les pions rouges et jaunes ? \n",
    "\n",
    "\n",
    "    Le choix que nous allons faire est de représenter la grille comme une liste de liste. \n",
    "    Il s'agira d'une matrice 6x7 : On aura par conséquent une liste de 6 élements où chacun des éléments sera une liste contenant 7 éléments (qui représenterons les pions). \n",
    "\n",
    "    Ensuite, nous allons représenter les pions à l'aide de chaîne de caractère, où chacun des pions pourra prendre trois valeurs : \n",
    "    ' ' : s'il s'agit d'un espace vide.\n",
    "    'R' : s'il s'agit d'un pion rouge. \n",
    "    'J' : s'il s'agit d'un pion jaune. \n",
    "    \n",
    "Commencons par l'initialisation de la grille. Pour cela on va définir une fonction \"initialise_grille()\" qui renverra une liste de liste de \" \" 6x7."
   ]
  },
  {
   "cell_type": "markdown",
   "id": "3e970846-b1a4-4ac0-960e-cff13741d707",
   "metadata": {
    "tags": []
   },
   "source": [
    "## Initialisation de la grille"
   ]
  },
  {
   "cell_type": "code",
   "execution_count": 2,
   "id": "d0cba51b-1d69-4e0a-aa61-22e9509ead18",
   "metadata": {},
   "outputs": [],
   "source": [
    "def initialise_grille(): \n",
    "    ### Mettre votre code ici \n",
    "    pass "
   ]
  },
  {
   "cell_type": "markdown",
   "id": "b6db8249-a3ea-4156-9186-f873593c00c7",
   "metadata": {},
   "source": [
    "Voici le résultat attendu : "
   ]
  },
  {
   "cell_type": "code",
   "execution_count": 19,
   "id": "36687ae5-38c0-4cf5-89f2-b64f8e089807",
   "metadata": {},
   "outputs": [
    {
     "data": {
      "text/plain": [
       "[[' ', ' ', ' ', ' ', ' ', ' ', ' '],\n",
       " [' ', ' ', ' ', ' ', ' ', ' ', ' '],\n",
       " [' ', ' ', ' ', ' ', ' ', ' ', ' '],\n",
       " [' ', ' ', ' ', ' ', ' ', ' ', ' '],\n",
       " [' ', ' ', ' ', ' ', ' ', ' ', ' '],\n",
       " [' ', ' ', ' ', ' ', ' ', ' ', ' ']]"
      ]
     },
     "execution_count": 19,
     "metadata": {},
     "output_type": "execute_result"
    }
   ],
   "source": [
    "grille = initialise_grille()\n",
    "grille "
   ]
  },
  {
   "cell_type": "code",
   "execution_count": 20,
   "id": "0696ee97-83bc-4e9c-900c-9990bfa63cd2",
   "metadata": {},
   "outputs": [
    {
     "name": "stdout",
     "output_type": "stream",
     "text": [
      "Nombre de lignes 6 \n",
      "\n",
      "Nombre de colonnes 7\n"
     ]
    }
   ],
   "source": [
    "print(f'Nombre de lignes {len(grille)} \\n')\n",
    "print(f'Nombre de colonnes {len(grille[0])}')\n"
   ]
  },
  {
   "cell_type": "markdown",
   "id": "b4422b0a-3449-400b-95e6-f46f48d3fba3",
   "metadata": {},
   "source": [
    "Nous souhaitons faire un affichage plus 'propre' lorsque la parte se déroulera. Donc pour cela, nous allons implémenter une fontion 'afficher_grille' qui affichera la grille comme ci-dessous : "
   ]
  },
  {
   "cell_type": "code",
   "execution_count": 8,
   "id": "ec1d589d-57b2-4f1b-bdaf-cbdfdc9e5575",
   "metadata": {
    "tags": []
   },
   "outputs": [
    {
     "name": "stdout",
     "output_type": "stream",
     "text": [
      "|   |   |   |   |   |   |   |\n",
      "\n",
      "|   |   |   |   |   |   |   |\n",
      "\n",
      "|   |   |   |   |   |   |   |\n",
      "\n",
      "|   |   |   |   |   |   |   |\n",
      "\n",
      "|   |   |   |   |   |   |   |\n",
      "\n",
      "|   |   |   |   |   |   |   |"
     ]
    }
   ],
   "source": [
    "afficher_grille(grille=grille)"
   ]
  },
  {
   "cell_type": "markdown",
   "id": "0e63f2c5-32ce-4cff-826d-e87f86c980a9",
   "metadata": {},
   "source": [
    "Ecrire la fonction afficher_grille ci-dessous en prenant en argument une grille 6x7."
   ]
  },
  {
   "cell_type": "code",
   "execution_count": null,
   "id": "1e0881df-e547-45b4-bac4-86b5e81902dd",
   "metadata": {},
   "outputs": [],
   "source": [
    "def afficher_grille(grille: List[List[str]]):\n",
    "    ### Votre code \n",
    "    pass \n"
   ]
  },
  {
   "cell_type": "markdown",
   "id": "e488e112-9478-4e75-887b-4fcd1bf324d8",
   "metadata": {
    "tags": []
   },
   "source": [
    "## Fonction jouer "
   ]
  },
  {
   "cell_type": "markdown",
   "id": "867dc6a3-82d2-4b99-8544-5265bd8a7077",
   "metadata": {
    "tags": []
   },
   "source": [
    "### Nous avons l'affichage ! \n",
    "\n",
    "Intéressons-nous davantage au coeur du puissance 4. Particulièrement, codons la fonction \"jouer\" dans la grille. \n",
    "\n",
    "Pour pouvoir jouer dans le puissance 4 et donc dans la grille. Ainsi, pour pouvoir jouer il faut : \n",
    "- La grille \n",
    "- La colonne choisi par le joueur\n",
    "- La couleur du pion ('R' pour le pion rouge, et 'J' pour le pion jaune) \n",
    "\n",
    "Donc notre fonction \"joue\" contiendra ces 3 informations en arguments. Il faut également veuiller à ce que le coup soit possible, ie à ce qu'il ne sorte pas de la grille. \n",
    "\n",
    "Ajouter asser 'R' et 'J'\n"
   ]
  },
  {
   "cell_type": "code",
   "execution_count": 12,
   "id": "4a105c41-86c3-4339-bbb5-11d952c43f9d",
   "metadata": {},
   "outputs": [],
   "source": [
    "def joue(grille, colonne_a_jouer, couleur_pion) -> Optional[List[List[str]]]:\n",
    "    ### Votre code\n",
    "    pass "
   ]
  },
  {
   "cell_type": "markdown",
   "id": "58612a83-f552-4ee4-abfd-2ca15b791923",
   "metadata": {
    "tags": []
   },
   "source": [
    "### Voici ce que doit renvoyer la fonction joue"
   ]
  },
  {
   "cell_type": "code",
   "execution_count": null,
   "id": "90d68ff4-3e2e-45f8-bc35-0313b2dd545f",
   "metadata": {},
   "outputs": [],
   "source": [
    "### Mettre pour un seul appel de joue. "
   ]
  },
  {
   "cell_type": "code",
   "execution_count": 29,
   "id": "0a981940-5ffc-49e0-bdde-e3e9f0c873f8",
   "metadata": {},
   "outputs": [
    {
     "name": "stdout",
     "output_type": "stream",
     "text": [
      "Veuillez jouer dans une autre colonne\n",
      "|   |   |   | J |   |   |   |\n",
      "\n",
      "|   |   |   | J |   |   |   |\n",
      "\n",
      "|   |   |   | J |   |   |   |\n",
      "\n",
      "|   |   |   | J |   |   |   |\n",
      "\n",
      "|   |   |   | J |   |   |   |\n",
      "\n",
      "|   |   |   | J |   |   |   |"
     ]
    }
   ],
   "source": [
    "grille = joue(grille=grille, colonne_a_jouer=4, couleur_pion='J')\n",
    "afficher_grille(grille=grille)"
   ]
  },
  {
   "cell_type": "markdown",
   "id": "60f3d860-6837-4f5b-a02a-110d963599e8",
   "metadata": {},
   "source": [
    "## Condition de Victoire"
   ]
  },
  {
   "cell_type": "markdown",
   "id": "94f51274-b8b5-4a3f-894d-190b71915d2b",
   "metadata": {},
   "source": [
    "### Check_victoire"
   ]
  },
  {
   "cell_type": "markdown",
   "id": "088a2316-2406-451d-bae0-6c3f0aaa0940",
   "metadata": {},
   "source": [
    "Maintenant qu'un joueur peut jouer. Nous allons maintenant implémenter la condition de victoire. Dans le cas du puissance 4 il faut que quatre pions de la même couleur soit alignés, verticalement, honrizontalement ou diagonalement. Pour cela il faut décomposer ce problème en dfférents sous problèmes. \n",
    "\n",
    "Tout d'abord nous allons écrire une fonction appelé \"check_grille_victoire\" qui prends argument :\n",
    "- les coordonnées d'un point de la grille\n",
    "- Une direction qui ne peut prendre que les valeurs suivantes : [\"haut\", \"diagonale haute\", \"droite\", \"diagonale basse\"] \n",
    "\n",
    "Cette fonction check si les 3 autres pions de cette direction sont de la même couleur que le pion, et renvoie True si elle trouve 4 pions alignés, et renvoie False dans l'autre cas."
   ]
  },
  {
   "cell_type": "markdown",
   "id": "14627ab4-e356-4234-b714-8b3b68437652",
   "metadata": {},
   "source": [
    "Ici les coordonnées sont inversées, en effet le point de coordonnées (0,0) est situé en haut à droite de la grille et quand on monte dans la grille on \"descend\" la ligne. Ainsi lorsque :\n",
    "- Direction = \"haut\" : on \"monte\" dans la grille -> ligne = ligne - 1 (en vérifiant évidemment que l'on ne sorte pas de la grille) \n",
    "\n",
    "- Direction = \"diagonale haute\" : on \"monte\" en ligne et l'on va vers la droite donc : ligne -> ligne - 1 et colonne -> colonne + 1 \n",
    "\n",
    "- Direction = \"droite\" : on va simplement vers la droite sans changer de ligne donc : colonne -> colonne + 1 \n",
    "\n",
    "- Direction = \"diagonale basse\" : On descend diagonalement dans la grille donc cela revient à : ligne -> ligne + 1 et colonne -> colonne + 1 \n",
    "En utilisant une boucle while qui prend en condition : \"Tant que le pion est de couleur ...\" : continuer dans direction \n",
    "\n",
    "En utilisant une boucle sur l'ensemble des emplacements non vide de la grille, et en utilisant check_grille_victoire, la fonction check_victoire renvoie True si elle trouve 4 pions alignés, et False sinon. \n",
    "\n",
    "Nous avons donné l'ensemble des informations pour faciliter l'implémentation de la fonction check_victoire.\n",
    "\n",
    "Ensuite, il suffit de faire une boucle sur les coordonnées du puissance 4 pour savoir si 4 pions sont alignés que l'on va écrire dans la fonction \"check_victoire\". \n"
   ]
  },
  {
   "cell_type": "markdown",
   "id": "e690e1a8-e8ec-4f73-b99a-df9a1c382e08",
   "metadata": {},
   "source": [
    "Voici un exemple de ce que doit renvoyer la fonction check_grille_victoire à partir de la grille ci-dessous. "
   ]
  },
  {
   "cell_type": "code",
   "execution_count": 57,
   "id": "d5102e6b-2bb2-4250-9658-8a4070a57fd5",
   "metadata": {},
   "outputs": [
    {
     "name": "stdout",
     "output_type": "stream",
     "text": [
      "|   |   |   |   |   |   |   |\n",
      "\n",
      "|   |   |   |   |   |   |   |\n",
      "\n",
      "|   | R |   |   |   |   |   |\n",
      "\n",
      "| J | R |   |   |   |   |   |\n",
      "\n",
      "| J | R |   |   |   |   |   |\n",
      "\n",
      "| J | R |   |   |   |   |   |\n",
      "\n",
      "R à gagner - Félicitation !\n"
     ]
    },
    {
     "data": {
      "text/plain": [
       "True"
      ]
     },
     "execution_count": 57,
     "metadata": {},
     "output_type": "execute_result"
    }
   ],
   "source": [
    "afficher_grille(grille=grille)\n",
    "print('\\n')\n",
    "check_grille_victoire(grille=grille, couleur_pion='J')\n"
   ]
  },
  {
   "cell_type": "markdown",
   "id": "5dba37d9-d9f8-4e77-81cc-ec3d454d82d0",
   "metadata": {},
   "source": [
    "Il faut s'intéresser maintenant au cas où l'ensemble des pions ont été joué et qu'il y a match nulle, ce cas est équivalent au fait que la grille n'a plus d'espace vide et que toutes les cases ont été rempli par les pions. Nous allons définir une fonction \"check_espace_vide\" qui prend en argument une grille, et qui renvoie True si la grille possède des espaces vides, False sinon.  \n",
    "\n"
   ]
  },
  {
   "cell_type": "code",
   "execution_count": 58,
   "id": "eff4b626-16ea-438c-a847-aacb6e7844d7",
   "metadata": {},
   "outputs": [],
   "source": [
    "def check_espace_vide(grille: List[List[str]]) -> bool:\n",
    "    ### Votre code \n",
    "    pass \n"
   ]
  },
  {
   "cell_type": "code",
   "execution_count": 18,
   "id": "3892b9c3-fe29-4803-9c60-d6ca13118598",
   "metadata": {},
   "outputs": [
    {
     "name": "stdout",
     "output_type": "stream",
     "text": [
      "|   |   |   |   |   |   |   |\n",
      "\n",
      "|   |   |   |   |   |   |   |\n",
      "\n",
      "|   |   |   |   |   |   |   |\n",
      "\n",
      "|   |   |   |   |   |   |   |\n",
      "\n",
      "|   |   |   |   |   |   |   |\n",
      "\n",
      "|   |   |   |   |   |   |   |\n",
      "\n"
     ]
    },
    {
     "data": {
      "text/plain": [
       "True"
      ]
     },
     "execution_count": 18,
     "metadata": {},
     "output_type": "execute_result"
    }
   ],
   "source": [
    "grille = initialise_grille() \n",
    "afficher_grille(grille=grille)\n",
    "print('\\n') \n",
    "check_espace_vide(grille=grille)"
   ]
  },
  {
   "cell_type": "markdown",
   "id": "c3cdcc8e-9392-40ac-bfb7-50e59e014c26",
   "metadata": {},
   "source": [
    "Nous avons tous les éléments pour la fonction check_victoire ! "
   ]
  },
  {
   "cell_type": "code",
   "execution_count": null,
   "id": "7c60f110-277c-4ed9-9935-4e6a3bb6a711",
   "metadata": {},
   "outputs": [],
   "source": [
    "def check_victoire(grille: List[List[str]], couleur_pion: str) -> bool:\n",
    "    ### Ajoutez ici la condition pour savoir s'il y a encore des espaces dans la grille.\n",
    "    \n",
    "    ### Si ce n'est pas le cas, renvoyez True et afficher un message d'égalité \n",
    "    ### Faire une boucle... \n",
    "    ### Mettre votre ancien code ici "
   ]
  },
  {
   "cell_type": "markdown",
   "id": "d9ee2e75-da93-4ee4-9854-e158b4f7a737",
   "metadata": {},
   "source": [
    "Nous avons maintenant tous les éléments pour implémenter le puissance 4 :\n",
    "- Jouer un pion\n",
    "- Savoir si la partie est terminé et dire qui a gagné \n",
    "\n",
    "Nous pouvons maintenant nous intéresser au déroulement de la partie, concrètement la méthode choisi dans ce projet est de : \n",
    "- Choisir un pseudo/nom pour chaque joueur \n",
    "- Initialiser la grille\n",
    "- A l'aide d'une boucle while : \"Tant que la partie n'est pas finie\" : demander à chacun des joueurs de choisir une colonne pour jouer leur pion \n",
    "\n",
    "Il faut savoir que selon les règles du puissance 4. Le jaune (et donc le pion 'J') est celui qui commence et que le rouge (pion 'R') est le second. "
   ]
  },
  {
   "cell_type": "markdown",
   "id": "4f98706d-609c-413e-8381-36f4d961b700",
   "metadata": {},
   "source": [
    "Voici un exemple de déroulement de partie "
   ]
  },
  {
   "cell_type": "code",
   "execution_count": 13,
   "id": "6bd6427e-3d69-4db3-945c-7990c893feb4",
   "metadata": {},
   "outputs": [
    {
     "name": "stdin",
     "output_type": "stream",
     "text": [
      "Quel joueur commence à jouer - Donnez le pseudo  Ba\n"
     ]
    },
    {
     "name": "stdout",
     "output_type": "stream",
     "text": [
      "\n",
      "\n"
     ]
    },
    {
     "name": "stdin",
     "output_type": "stream",
     "text": [
      "Quel joueur est le second à jouer - Donnez le pseudo  Bor\n"
     ]
    },
    {
     "name": "stdout",
     "output_type": "stream",
     "text": [
      "\n",
      "\n",
      "Le joueur J est Ba et le joueur R est Bor\n",
      "|   |   |   |   |   |   |   |\n",
      "\n",
      "|   |   |   |   |   |   |   |\n",
      "\n",
      "|   |   |   |   |   |   |   |\n",
      "\n",
      "|   |   |   |   |   |   |   |\n",
      "\n",
      "|   |   |   |   |   |   |   |\n",
      "\n",
      "|   |   |   |   |   |   |   |"
     ]
    },
    {
     "name": "stdin",
     "output_type": "stream",
     "text": [
      " Ba choisi une colonne comprise entre 1 et 7 1\n"
     ]
    },
    {
     "name": "stdout",
     "output_type": "stream",
     "text": [
      "|   |   |   |   |   |   |   |\n",
      "\n",
      "|   |   |   |   |   |   |   |\n",
      "\n",
      "|   |   |   |   |   |   |   |\n",
      "\n",
      "|   |   |   |   |   |   |   |\n",
      "\n",
      "|   |   |   |   |   |   |   |\n",
      "\n",
      "| J |   |   |   |   |   |   |"
     ]
    },
    {
     "name": "stdin",
     "output_type": "stream",
     "text": [
      " Bor choisi une colonne comprise entre 1 et 7 2\n"
     ]
    },
    {
     "name": "stdout",
     "output_type": "stream",
     "text": [
      "|   |   |   |   |   |   |   |\n",
      "\n",
      "|   |   |   |   |   |   |   |\n",
      "\n",
      "|   |   |   |   |   |   |   |\n",
      "\n",
      "|   |   |   |   |   |   |   |\n",
      "\n",
      "|   |   |   |   |   |   |   |\n",
      "\n",
      "| J | R |   |   |   |   |   |"
     ]
    },
    {
     "name": "stdin",
     "output_type": "stream",
     "text": [
      " Ba choisi une colonne comprise entre 1 et 7 1\n"
     ]
    },
    {
     "name": "stdout",
     "output_type": "stream",
     "text": [
      "|   |   |   |   |   |   |   |\n",
      "\n",
      "|   |   |   |   |   |   |   |\n",
      "\n",
      "|   |   |   |   |   |   |   |\n",
      "\n",
      "|   |   |   |   |   |   |   |\n",
      "\n",
      "| J |   |   |   |   |   |   |\n",
      "\n",
      "| J | R |   |   |   |   |   |"
     ]
    },
    {
     "name": "stdin",
     "output_type": "stream",
     "text": [
      " Bor choisi une colonne comprise entre 1 et 7 2\n"
     ]
    },
    {
     "name": "stdout",
     "output_type": "stream",
     "text": [
      "|   |   |   |   |   |   |   |\n",
      "\n",
      "|   |   |   |   |   |   |   |\n",
      "\n",
      "|   |   |   |   |   |   |   |\n",
      "\n",
      "|   |   |   |   |   |   |   |\n",
      "\n",
      "| J | R |   |   |   |   |   |\n",
      "\n",
      "| J | R |   |   |   |   |   |"
     ]
    },
    {
     "name": "stdin",
     "output_type": "stream",
     "text": [
      " Ba choisi une colonne comprise entre 1 et 7 1\n"
     ]
    },
    {
     "name": "stdout",
     "output_type": "stream",
     "text": [
      "|   |   |   |   |   |   |   |\n",
      "\n",
      "|   |   |   |   |   |   |   |\n",
      "\n",
      "|   |   |   |   |   |   |   |\n",
      "\n",
      "| J |   |   |   |   |   |   |\n",
      "\n",
      "| J | R |   |   |   |   |   |\n",
      "\n",
      "| J | R |   |   |   |   |   |"
     ]
    },
    {
     "name": "stdin",
     "output_type": "stream",
     "text": [
      " Bor choisi une colonne comprise entre 1 et 7 2\n"
     ]
    },
    {
     "name": "stdout",
     "output_type": "stream",
     "text": [
      "|   |   |   |   |   |   |   |\n",
      "\n",
      "|   |   |   |   |   |   |   |\n",
      "\n",
      "|   |   |   |   |   |   |   |\n",
      "\n",
      "| J | R |   |   |   |   |   |\n",
      "\n",
      "| J | R |   |   |   |   |   |\n",
      "\n",
      "| J | R |   |   |   |   |   |"
     ]
    },
    {
     "name": "stdin",
     "output_type": "stream",
     "text": [
      " Ba choisi une colonne comprise entre 1 et 7 1\n"
     ]
    },
    {
     "name": "stdout",
     "output_type": "stream",
     "text": [
      "|   |   |   |   |   |   |   |\n",
      "\n",
      "|   |   |   |   |   |   |   |\n",
      "\n",
      "| J |   |   |   |   |   |   |\n",
      "\n",
      "| J | R |   |   |   |   |   |\n",
      "\n",
      "| J | R |   |   |   |   |   |\n",
      "\n",
      "| J | R |   |   |   |   |   |\n",
      "\n",
      "J à gagner - Félicitation !\n"
     ]
    }
   ],
   "source": [
    "lancer_la_partie()"
   ]
  },
  {
   "cell_type": "markdown",
   "id": "e828ce1d-a934-413f-a7c3-a5a713adcb03",
   "metadata": {},
   "source": [
    "Afin nous pouvons décomposer la fonction \"lancer_la_partie\" en deux sous fonction :\n",
    "\n",
    "- La première fonction demande aux joueur d'écrire leur pseudo, et d'initialiser la grille. Nous appelerons cette fonction \"debuter_la_partie\". Cette fonction ne prend pas d'argument. \n",
    "\n",
    "- La seconde fonction qui prendra en argument les pseudos des joueurs, et déroulera la partie à l'aide d'un while déroulera la partie comme dans l'exemple ci-dessus. Nous appelerons cette fonction \"derouler_la_partie\" "
   ]
  },
  {
   "cell_type": "code",
   "execution_count": 18,
   "id": "4b5847dc-06ab-42d2-b577-f934aa3aae64",
   "metadata": {},
   "outputs": [],
   "source": [
    "def debuter_la_partie():\n",
    "    ### Votre code \n",
    "    pass\n",
    "\n",
    "def derouler_la_partie(grille, pseudo1: str, pseudo2: str): \n",
    "    ### Votre code "
   ]
  },
  {
   "cell_type": "markdown",
   "id": "cd073502-1801-4c4d-8e6e-31c5ef17804d",
   "metadata": {},
   "source": [
    "Enfin, une fois avoir fait cela, la fonction lancer_la_partie est simplement l'appel de ces deux fonctions "
   ]
  },
  {
   "cell_type": "code",
   "execution_count": 19,
   "id": "de707689-1f82-410f-ba2d-5545cc04e583",
   "metadata": {},
   "outputs": [],
   "source": [
    "def lancer_la_partie():\n",
    "    \n",
    "    ### Appelez la fonction debuter_la_partie \n",
    "    \n",
    "    ### Appelez la foncton derouler la partie \n",
    "    pass\n"
   ]
  },
  {
   "cell_type": "code",
   "execution_count": null,
   "id": "1bb8aaa6-8220-4e87-9ab7-f6a9918c6a3f",
   "metadata": {},
   "outputs": [],
   "source": []
  },
  {
   "cell_type": "markdown",
   "id": "a5a8c6d6-b86e-4926-878f-621875252521",
   "metadata": {},
   "source": [
    "# Mon code à moi ! \n",
    "# --------------------------------------------------------------------------------------------------------------------------------------------------------------------------------------------------\n"
   ]
  },
  {
   "cell_type": "code",
   "execution_count": 5,
   "id": "6b92329e-b66f-475a-a2cc-349550ad2756",
   "metadata": {},
   "outputs": [],
   "source": [
    "# Initialisation notre grille 6x7 d'espace vide\n",
    "def initialise_grille() -> List[List[str]]:\n",
    "    grille = []\n",
    "    nombre_ligne = 6 \n",
    "    nombre_colonne = 7\n",
    "\n",
    "    for ligne in range(nombre_ligne):\n",
    "        colonne_espace_vide = [' ' for espace in range(nombre_colonne)]\n",
    "        grille.append(colonne_espace_vide)\n",
    "    return grille \n"
   ]
  },
  {
   "cell_type": "code",
   "execution_count": 6,
   "id": "220d0185-17aa-426b-a43a-fbe416311938",
   "metadata": {},
   "outputs": [],
   "source": [
    "def afficher_grille(grille: List[List[str]]) -> None:\n",
    "    for i in range(len(grille)):\n",
    "        if i > 0:\n",
    "            print('\\n')\n",
    "        for j in range(len(grille[0])):\n",
    "            if j < len(grille[0]) - 1:\n",
    "                sys.stdout.write(f'| {grille[i][j]} ')\n",
    "            else:\n",
    "                sys.stdout.write(f'| {grille[i][j]} |')"
   ]
  },
  {
   "cell_type": "code",
   "execution_count": 7,
   "id": "03115cef-9ecd-462f-8075-725e6db277d3",
   "metadata": {},
   "outputs": [],
   "source": [
    "def joue(grille: List[List[str]], colonne_a_jouer: int, couleur_pion: str) -> Optional[List[List[int]]]:\n",
    "    # Vérifions que les valeurs données en entrée sont valide\n",
    "    colonne_a_jouer -= 1\n",
    "    \n",
    "    if not 0 <= colonne_a_jouer and colone_a_jouer <= 6:\n",
    "        print(\"Veuillez fournir une colonne valide\")\n",
    "        return None \n",
    "    \n",
    "    if couleur_pion not in ['J', 'R']:\n",
    "        print(\"Veuillez fournir une valeur de pion valide\")\n",
    "        return grille \n",
    "    \n",
    "    if grille[0][colonne_a_jouer] != \" \":\n",
    "        print(\"Veuillez jouer dans une autre colonne\")\n",
    "        return grille \n",
    "    \n",
    "    index = 5 \n",
    "    while grille[index][colonne_a_jouer] != ' ' and index > 0:\n",
    "        index -= 1 \n",
    "    \n",
    "    if index < 0:\n",
    "        print(\"Veuillez jouer dans une autre colonne\")\n",
    "        return grille  \n",
    "    else:\n",
    "        \n",
    "        grille[index][colonne_a_jouer] = couleur_pion \n",
    "    \n",
    "    return grille"
   ]
  },
  {
   "cell_type": "code",
   "execution_count": 8,
   "id": "d76098b8-c8a4-4060-87cd-6f26ef27f3bc",
   "metadata": {},
   "outputs": [],
   "source": [
    "def check_grille_victoire(grille: List[List[int]], ligne_index: int, colonne_index: int, direction: str) -> bool:\n",
    "    if direction not in [\"haut\", \"diagonale haute\", \"droite\", \"diagonale basse\"]:\n",
    "        print(\"La direction n'est pas valide\")\n",
    "        \n",
    "        \n",
    "    couleur_pion = grille[ligne_index][colonne_index] \n",
    "    compteur = 1 \n",
    "    \n",
    "    if direction == \"haut\" and ligne_index - 3 >= 0: \n",
    "        ligne, colonne = ligne_index - 1, colonne_index \n",
    "        while ligne >= 0 and grille[ligne][colonne] == couleur_pion:\n",
    "            ligne -= 1 \n",
    "            compteur += 1 \n",
    "            \n",
    "    if direction == \"diagonale haute\" and ligne_index - 3  >= 0 and colonne_index + 3 <= 6:\n",
    "        ligne, colonne = ligne_index - 1, colonne_index + 1\n",
    "        while ligne >= 0 and colonne <= 6 and grille[ligne][colonne] == couleur_pion:\n",
    "            ligne -= 1\n",
    "            colonne += 1\n",
    "            compteur +=1\n",
    "    \n",
    "    if direction == \"droite\" and colonne_index + 3 <= 6:\n",
    "        ligne, colonne = ligne_index, colonne_index + 1\n",
    "        while colonne <= 6 and grille[ligne][colonne] == couleur_pion:\n",
    "            print(colonne)\n",
    "            colonne += 1\n",
    "            compteur += 1\n",
    "        \n",
    "    if direction == \"diagonale basse\" and colonne_index + 3 <= 6 and ligne_index + 3 <= 5:\n",
    "        ligne, colonne = ligne_index + 1, colonne_index + 1\n",
    "        while colonne <= 6 and ligne <= 5 and grille[ligne][colonne] == couleur_pion:\n",
    "            colonne += 1\n",
    "            ligne += 1\n",
    "            compteur += 1\n",
    "    if compteur == 4:\n",
    "        afficher_grille(grille=grille)\n",
    "        print('\\n')\n",
    "        print(f'Les pions {couleur_pion} à gagner - Félicitation !')\n",
    "        return True \n",
    "    else:\n",
    "        return False"
   ]
  },
  {
   "cell_type": "code",
   "execution_count": 9,
   "id": "e1b6e765-add0-45fb-8823-68e1db1a32e0",
   "metadata": {},
   "outputs": [],
   "source": [
    "def check_victoire(grille: List[List[int]], couleur_pion) -> bool:\n",
    "    for ligne_index in range(len(grille)):\n",
    "        for colonne_index in range(len(grille[0])):\n",
    "            for direction in [\"haut\", \"diagonale haute\", \"droite\", \"diagonale basse\"]:\n",
    "                pion = grille[ligne_index][colonne_index]\n",
    "                if pion in ['J', 'R'] and check_grille_victoire(grille=grille, ligne_index=ligne_index, colonne_index=colonne_index, direction=direction) == True:\n",
    "                    return True\n",
    "    return False"
   ]
  },
  {
   "cell_type": "code",
   "execution_count": 17,
   "id": "5e165904-8154-4ce9-b865-36e8192ad530",
   "metadata": {},
   "outputs": [],
   "source": [
    "def empty_space(grille: List[List[str]]):\n",
    "    for ligne in range(len(grille)):\n",
    "        if \" \" in grille[ligne]:\n",
    "            return True \n",
    "    return False "
   ]
  },
  {
   "cell_type": "code",
   "execution_count": 11,
   "id": "dd3b35f3-eb79-435a-9a2a-55028367003e",
   "metadata": {},
   "outputs": [],
   "source": [
    "def lancer_la_partie():\n",
    "    grille, ordre = debuter_la_partie()\n",
    "    victoire = False \n",
    "    joueur = \"Joueur 1\"\n",
    "    piece = {'Joueur 1': 'J', 'Joueur 2':'R'}\n",
    "    \n",
    "    while not victoire:\n",
    "        \n",
    "        afficher_grille(grille=grille)\n",
    "        \n",
    "        colonne_a_jouer = int(input(f' {ordre[joueur]} choisi une colonne comprise entre 1 et 7'))\n",
    "        \n",
    "        couleur_pion = piece[joueur] \n",
    "        \n",
    "        grille = joue(grille=grille, colonne_a_jouer=colonne_a_jouer, couleur_pion=couleur_pion) \n",
    "        victoire = check_victoire(grille=grille, couleur_pion=couleur_pion)\n",
    "        \n",
    "        if joueur == \"Joueur 1\":\n",
    "            joueur = \"Joueur 2\"\n",
    "        else:\n",
    "            joueur = \"Joueur 1\"\n",
    "            "
   ]
  },
  {
   "cell_type": "code",
   "execution_count": 12,
   "id": "93c33c3c-7043-4022-91e4-809fdd1ea143",
   "metadata": {},
   "outputs": [],
   "source": [
    "def debuter_la_partie():\n",
    "    first = input(\"Quel joueur commence à jouer - Donnez le pseudo \")\n",
    "    print(\"\\n\")\n",
    "    second = input(\"Quel joueur est le second à jouer - Donnez le pseudo \")\n",
    "    print('\\n')\n",
    "    ordre = {}\n",
    "    ordre[\"Joueur 1\"] = first \n",
    "    ordre[\"Joueur 2\"] = second \n",
    "\n",
    "    print(f'Le joueur J est {first} et le joueur R est {second}')\n",
    "    \n",
    "    grille = initialise_grille()\n",
    "    return grille, ordre "
   ]
  },
  {
   "cell_type": "code",
   "execution_count": null,
   "id": "28d59331-35dc-41af-ab5a-1a99e83237b2",
   "metadata": {},
   "outputs": [],
   "source": []
  }
 ],
 "metadata": {
  "kernelspec": {
   "display_name": "Python 3 (ipykernel)",
   "language": "python",
   "name": "python3"
  },
  "language_info": {
   "codemirror_mode": {
    "name": "ipython",
    "version": 3
   },
   "file_extension": ".py",
   "mimetype": "text/x-python",
   "name": "python",
   "nbconvert_exporter": "python",
   "pygments_lexer": "ipython3",
   "version": "3.10.4"
  }
 },
 "nbformat": 4,
 "nbformat_minor": 5
}
